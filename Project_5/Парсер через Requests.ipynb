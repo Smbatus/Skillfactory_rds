{
 "cells": [
  {
   "cell_type": "code",
   "execution_count": 1,
   "id": "950d7cbc",
   "metadata": {},
   "outputs": [],
   "source": [
    "# Тренировачный вариант\n",
    "import urllib.parse\n",
    "import urllib.request\n",
    "\n",
    "import requests\n",
    "import pandas as pd\n",
    "import numpy as np\n",
    "import re\n",
    "from bs4 import BeautifulSoup \n",
    "\n",
    "import csv\n",
    "import sys\n",
    "import time\n",
    "import lxml\n",
    "\n",
    "from urllib.request import Request, urlopen\n",
    "from fake_useragent import UserAgent\n",
    "from unicodedata import normalize\n"
   ]
  },
  {
   "cell_type": "code",
   "execution_count": 2,
   "id": "f8e181f8",
   "metadata": {},
   "outputs": [],
   "source": [
    "def parser_cars(url, hdr):\n",
    "    # создаем запрос\n",
    "    response = requests.get(url, headers = hdr)    \n",
    "    # Спим 5 секунд\n",
    "    #time.sleep(3)\n",
    "    # Применяем bs\n",
    "    soup = BeautifulSoup(response.content, 'html.parser')\n",
    "    # Декодируем страницу\n",
    "    soup.encoding = 'utf-8'\n",
    "    # Пишем парсер страницы\n",
    "    cars_df = []\n",
    "    cars_df.append({'bodyType': soup.find_all('li', class_ = 'CardInfoRow CardInfoRow_bodytype')[0].text[5:],\n",
    "                    'brand': soup.find_all('div', class_ = 'CardBreadcrumbs__item')[2].text,\n",
    "                    'color': soup.find_all('li', class_ = 'CardInfoRow CardInfoRow_color')[0].text[4:]})\n",
    "    \n",
    "    # Тут добавим условия аотому что не везде комплектация есть               \n",
    "    try: cars_df[0].update({'complectation_dict': soup.find_all('h2', class_ = 'CardComplectation__title')[0].text[13:]})\n",
    "    except: cars_df[0].update({'complectation_dict':None})\n",
    "    try: cars_df[0].update({'description': normalize('NFKD',soup.find_all('div', class_ = 'CardDescription__text')[0].text)})\n",
    "    except: cars_df[0].update({'description':None})    \n",
    "        \n",
    "        \n",
    "    # Продолжаем парсить страницу         \n",
    "    cars_df[0].update({'engineDisplacement': normalize('NFKD',soup.find_all('li', class_ = 'CardInfoRow CardInfoRow_engine')[0].text[9:]),\n",
    "                     'equipment_dict': None})\n",
    "                       \n",
    "                       \n",
    "    try: cars_df[0].update({'fuelType': soup.find_all('a', class_ = 'Link Link_color_black')[3].text})\n",
    "    except: cars_df[0].update({'fuelType': None})\n",
    "                       \n",
    "    cars_df[0].update({'image': None,\n",
    "                    'mileage': normalize('NFKD',soup.find_all('li', class_ = 'CardInfoRow CardInfoRow_kmAge')[0].text[6:-3]),\n",
    "                    'modelDate': None,\n",
    "                    'model_name': soup.find_all('div', class_ = 'InfoPopup InfoPopup_theme_plain InfoPopup_withChildren BreadcrumbsPopup')[1].text,\n",
    "                    'name': soup.find_all('div', class_ = 'InfoPopup InfoPopup_theme_plain InfoPopup_withChildren BreadcrumbsPopup')[4].text,\n",
    "                    'numberOfDoors': None,\n",
    "                    'parsing_unixtime': round(time.time()),\n",
    "                    'priceCurrency': None,\n",
    "                    'productionDate': soup.find_all('li', class_ = 'CardInfoRow CardInfoRow_year')[0].text[11:],\n",
    "                    'sell_id': soup.find_all('div', class_ = 'CardHead__infoItem CardHead__id')[0].text[2:],\n",
    "                    'super_gen': None,\n",
    "                    'vehicleConfiguration': None,\n",
    "                    'vehicleTransmission': soup.find_all('li', class_ = 'CardInfoRow CardInfoRow_transmission')[0].text[7:],\n",
    "                    'vendor': None,\n",
    "                    'Владельцы': soup.find_all('li', class_ = 'CardInfoRow CardInfoRow_ownersCount')[0].text[9:10]\n",
    "                   })\n",
    "                \n",
    "    # Тут добавим условия аотому что не везде владение есть\n",
    "    try: cars_df[0].update({'Владение': soup.find_all('li', class_ = 'CardInfoRow CardInfoRow_owningTime')[0].text[8:]})\n",
    "    except: cars_df[0].update({'Владение':None})\n",
    "                    \n",
    "    # Продолжаем парсить страницу               \n",
    "    cars_df[0].update({'ПТС': soup.find_all('li', class_ = 'CardInfoRow CardInfoRow_pts')[0].text[3:],\n",
    "                    'Привод': soup.find_all('li', class_ = 'CardInfoRow CardInfoRow_drive')[0].text[6:],\n",
    "                    'Руль': soup.find_all('li', class_ = 'CardInfoRow CardInfoRow_wheel')[0].text[4:],\n",
    "                    'Состояние': soup.find_all('li', class_ = 'CardInfoRow CardInfoRow_state')[0].text[9:],\n",
    "                    'Таможня': soup.find_all('li', class_ = 'CardInfoRow CardInfoRow_customs')[0].text[7:] })\n",
    "                       \n",
    "                       \n",
    "    # Тут добавим условия аотому что не везде владение есть цена\n",
    "    try: cars_df[0].update({'Price': normalize('NFKD', soup.find_all('div', class_ = 'PriceUsedOffer')[0].text[:-25])})\n",
    "    except: cars_df[0].update({'Price':None})\n",
    "                  \n",
    "                           \n",
    "        \n",
    "    return cars_df\n",
    "\n"
   ]
  },
  {
   "cell_type": "code",
   "execution_count": 3,
   "id": "52ee227f",
   "metadata": {},
   "outputs": [],
   "source": [
    "def parser_url(url, hdr):\n",
    "    # создаем запрос\n",
    "    response = requests.get(url, headers = hdr)    \n",
    "    # Применяем bs\n",
    "    soup = BeautifulSoup(response.content, 'html.parser')\n",
    "    soup.encoding = 'utf-8'\n",
    "    \n",
    "    items = soup.find_all(\"div\", class_ = \"ListingItem\")\n",
    "    time.sleep(2)\n",
    "    cars = []\n",
    "    for i in items:\n",
    "        \n",
    "        cars.append(i.find('a', class_ = 'Link ListingItemTitle__link').get('href')\n",
    "                        \n",
    "                        )\n",
    "    return cars"
   ]
  },
  {
   "cell_type": "code",
   "execution_count": 247,
   "id": "3ee70ca9",
   "metadata": {},
   "outputs": [],
   "source": [
    "url = 'https://auto.ru/cars/mercedes/used/body-limousine/?sort=cr_date-desc&output_type=table?'\n",
    "hdr = { 'User-Agent' : 'Mozilla/5.0 (Windows NT 6.1; Win64; x64)' }"
   ]
  },
  {
   "cell_type": "code",
   "execution_count": 248,
   "id": "ed5bd864",
   "metadata": {},
   "outputs": [
    {
     "name": "stdout",
     "output_type": "stream",
     "text": [
      "Парсинг страницы 1 из 99...\n",
      "Автомобиль 1\n",
      "Автомобиль 2\n",
      "Автомобиль 3\n",
      "Автомобиль 4\n",
      "Автомобиль 5\n",
      "Автомобиль 6\n"
     ]
    }
   ],
   "source": [
    "df = []\n",
    "a = 0\n",
    "\n",
    "for page in range (1,2):\n",
    "    print(f'Парсинг страницы {page} из 99...')\n",
    "    car_url = parser_url(f'{url}={page}',hdr)\n",
    "    for i in car_url:\n",
    "        a += 1\n",
    "        print(f'Автомобиль {a}')\n",
    "        df.extend(parser_cars(i,hdr))"
   ]
  },
  {
   "cell_type": "code",
   "execution_count": 249,
   "id": "ab0d5f5a",
   "metadata": {},
   "outputs": [],
   "source": [
    "url_train = pd.DataFrame(df)"
   ]
  },
  {
   "cell_type": "code",
   "execution_count": 251,
   "id": "172335c1",
   "metadata": {},
   "outputs": [
    {
     "data": {
      "text/html": [
       "<div>\n",
       "<style scoped>\n",
       "    .dataframe tbody tr th:only-of-type {\n",
       "        vertical-align: middle;\n",
       "    }\n",
       "\n",
       "    .dataframe tbody tr th {\n",
       "        vertical-align: top;\n",
       "    }\n",
       "\n",
       "    .dataframe thead th {\n",
       "        text-align: right;\n",
       "    }\n",
       "</style>\n",
       "<table border=\"1\" class=\"dataframe\">\n",
       "  <thead>\n",
       "    <tr style=\"text-align: right;\">\n",
       "      <th></th>\n",
       "      <th>bodyType</th>\n",
       "      <th>brand</th>\n",
       "      <th>color</th>\n",
       "      <th>complectation_dict</th>\n",
       "      <th>description</th>\n",
       "      <th>engineDisplacement</th>\n",
       "      <th>equipment_dict</th>\n",
       "      <th>fuelType</th>\n",
       "      <th>image</th>\n",
       "      <th>mileage</th>\n",
       "      <th>...</th>\n",
       "      <th>vehicleTransmission</th>\n",
       "      <th>vendor</th>\n",
       "      <th>Владельцы</th>\n",
       "      <th>Владение</th>\n",
       "      <th>ПТС</th>\n",
       "      <th>Привод</th>\n",
       "      <th>Руль</th>\n",
       "      <th>Состояние</th>\n",
       "      <th>Таможня</th>\n",
       "      <th>Price</th>\n",
       "    </tr>\n",
       "  </thead>\n",
       "  <tbody>\n",
       "    <tr>\n",
       "      <th>2</th>\n",
       "      <td>лимузин</td>\n",
       "      <td>Mercedes-Benz</td>\n",
       "      <td>чёрный</td>\n",
       "      <td></td>\n",
       "      <td>Комплектация:Датчик давления в шинахДатчик про...</td>\n",
       "      <td>6.0 л / 530 л.с. / Бензин</td>\n",
       "      <td>None</td>\n",
       "      <td>Бензин</td>\n",
       "      <td>None</td>\n",
       "      <td>2 243</td>\n",
       "      <td>...</td>\n",
       "      <td>автоматическая</td>\n",
       "      <td>None</td>\n",
       "      <td>1</td>\n",
       "      <td>None</td>\n",
       "      <td>Оригинал</td>\n",
       "      <td>задний</td>\n",
       "      <td>Левый</td>\n",
       "      <td>Не требует ремонта</td>\n",
       "      <td>Растаможен</td>\n",
       "      <td>45 000 000</td>\n",
       "    </tr>\n",
       "  </tbody>\n",
       "</table>\n",
       "<p>1 rows × 30 columns</p>\n",
       "</div>"
      ],
      "text/plain": [
       "  bodyType          brand   color complectation_dict  \\\n",
       "2  лимузин  Mercedes-Benz  чёрный                      \n",
       "\n",
       "                                         description  \\\n",
       "2  Комплектация:Датчик давления в шинахДатчик про...   \n",
       "\n",
       "          engineDisplacement equipment_dict fuelType image mileage  ...  \\\n",
       "2  6.0 л / 530 л.с. / Бензин           None   Бензин  None   2 243  ...   \n",
       "\n",
       "  vehicleTransmission vendor Владельцы Владение       ПТС  Привод   Руль  \\\n",
       "2      автоматическая   None         1     None  Оригинал  задний  Левый   \n",
       "\n",
       "            Состояние     Таможня       Price  \n",
       "2  Не требует ремонта  Растаможен  45 000 000  \n",
       "\n",
       "[1 rows x 30 columns]"
      ]
     },
     "execution_count": 251,
     "metadata": {},
     "output_type": "execute_result"
    }
   ],
   "source": [
    "url_train.sample(1)"
   ]
  },
  {
   "cell_type": "code",
   "execution_count": 252,
   "id": "00e2f60d",
   "metadata": {},
   "outputs": [
    {
     "data": {
      "text/plain": [
       "6"
      ]
     },
     "execution_count": 252,
     "metadata": {},
     "output_type": "execute_result"
    }
   ],
   "source": [
    "len(url_train)"
   ]
  },
  {
   "cell_type": "code",
   "execution_count": 253,
   "id": "7a60627e",
   "metadata": {},
   "outputs": [],
   "source": [
    "url_train.to_csv('train.csv', mode='a')"
   ]
  },
  {
   "cell_type": "code",
   "execution_count": 254,
   "id": "4e721715",
   "metadata": {},
   "outputs": [],
   "source": [
    "train = pd.read_csv('train.csv',encoding='utf-8')"
   ]
  }
 ],
 "metadata": {
  "kernelspec": {
   "display_name": "Python 3",
   "language": "python",
   "name": "python3"
  },
  "language_info": {
   "codemirror_mode": {
    "name": "ipython",
    "version": 3
   },
   "file_extension": ".py",
   "mimetype": "text/x-python",
   "name": "python",
   "nbconvert_exporter": "python",
   "pygments_lexer": "ipython3",
   "version": "3.8.8"
  }
 },
 "nbformat": 4,
 "nbformat_minor": 5
}
