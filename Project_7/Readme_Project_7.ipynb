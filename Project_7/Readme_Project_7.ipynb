{
 "cells": [
  {
   "cell_type": "markdown",
   "id": "9d838940",
   "metadata": {},
   "source": [
    "# Выводы:\n",
    "\n",
    "1. Тестировались только сети из keras.applications\n",
    "\n",
    "\n",
    "2. Архетиктуры EfficientNet показали лучший результат чем Xception\n",
    "\n",
    "\n",
    "3. Лучший результат в Kaggle показала (из протестированных) архитектура EfficientNetV2B3.\n",
    "Не большая. и всвязи с тем, что у нас небольшое количество данных меньше переобучаеться.\n",
    "\n",
    "\n",
    "4. Наилучший прирост score дало повышение размера картинок в ImageDataGenerator.\n",
    "\n",
    "\n",
    "5. Были использованы различные методы аугментаций из модулей albumentations и experimental.preprocessing.\n",
    "Но были использованы аугментации из ImageDataGenerator так как показали лучший результат. \n",
    "Видимо нужно разобраться с техниками применения аугментаций.\n",
    "\n",
    "\n",
    "6. Был опробован и Finetuning но постепенная разморозка слоев дала такой - же или худший результат.\n",
    "\n",
    "\n",
    "7. Что еще можно было зделать:\n",
    "\n",
    "Можно было собрать еще данных для обучения.\n",
    "\n",
    "Можно было использовать ТТА\n",
    "\n",
    "Можно было продолжать эксперименты c сетями и попробовать что - то не из keras.applications.\n",
    "\n",
    "\n",
    "### Лучший score на Kaggle 0.97183\n",
    "\n"
   ]
  },
  {
   "cell_type": "code",
   "execution_count": null,
   "id": "448b580f",
   "metadata": {},
   "outputs": [],
   "source": []
  }
 ],
 "metadata": {
  "kernelspec": {
   "display_name": "Python 3",
   "language": "python",
   "name": "python3"
  },
  "language_info": {
   "codemirror_mode": {
    "name": "ipython",
    "version": 3
   },
   "file_extension": ".py",
   "mimetype": "text/x-python",
   "name": "python",
   "nbconvert_exporter": "python",
   "pygments_lexer": "ipython3",
   "version": "3.8.8"
  }
 },
 "nbformat": 4,
 "nbformat_minor": 5
}
