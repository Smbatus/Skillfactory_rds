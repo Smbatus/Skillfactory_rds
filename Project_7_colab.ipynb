{
  "nbformat": 4,
  "nbformat_minor": 0,
  "metadata": {
    "colab": {
      "name": "Project_7_colab.ipynb",
      "provenance": [],
      "collapsed_sections": [],
      "authorship_tag": "ABX9TyNZXaNiO59Pry6u2aj+lZ/c",
      "include_colab_link": true
    },
    "kernelspec": {
      "name": "python3",
      "display_name": "Python 3"
    },
    "language_info": {
      "name": "python"
    },
    "accelerator": "GPU"
  },
  "cells": [
    {
      "cell_type": "markdown",
      "metadata": {
        "id": "view-in-github",
        "colab_type": "text"
      },
      "source": [
        "<a href=\"https://colab.research.google.com/github/Smbatus/Skillfactory_rds/blob/master/Project_7_colab.ipynb\" target=\"_parent\"><img src=\"https://colab.research.google.com/assets/colab-badge.svg\" alt=\"Open In Colab\"/></a>"
      ]
    },
    {
      "cell_type": "code",
      "source": [
        "# подготавливаем данные\n",
        "\n",
        "# для Google Colab:\n",
        "!gsutil cp gs://oleg-zyablov/skillfactory/sf-dl-car-classification.zip .\n",
        "!unzip sf-dl-car-classification.zip\n",
        "!unzip -q -o sf-dl-car-classification/train.zip\n",
        "!unzip -q -o sf-dl-car-classification/test.zip\n",
        "sample_submission_path = '/content/sf-dl-car-classification/sample-submission.csv'\n",
        "train_path = '/content/train/'\n",
        "sub_path = '/content/test_upload/'\n",
        "\n",
        "# для Kaggle Kernel\n",
        "# !mkdir /kaggle/temp #папка для временных файлов\n",
        "# !unzip /kaggle/input/train.zip -d /kaggle/temp\n",
        "# !unzip /kaggle/input/test.zip -d /kaggle/temp\n",
        "# sample_submission_path = '/kaggle/input/sample-submission.csv'\n",
        "# train_path = '/kaggle/temp/train/'\n",
        "# sub_path = '/kaggle/temp/test_upload/'\n",
        "# %cd /kaggle/working  #переходим в рабочую директорию\n",
        "\n",
        "#имена классов\n",
        "class_names = [\n",
        "  'Приора', #0\n",
        "  'Ford Focus', #1\n",
        "  'Самара', #2\n",
        "  'ВАЗ-2110', #3\n",
        "  'Жигули', #4\n",
        "  'Нива', #5\n",
        "  'Калина', #6\n",
        "  'ВАЗ-2109', #7\n",
        "  'Volkswagen Passat', #8\n",
        "  'ВАЗ-21099' #9\n",
        "]"
      ],
      "metadata": {
        "colab": {
          "base_uri": "https://localhost:8080/"
        },
        "id": "yoJqGAmScqjL",
        "outputId": "5602a06b-d7db-4b37-a061-20328afb6fe1"
      },
      "execution_count": 1,
      "outputs": [
        {
          "output_type": "stream",
          "name": "stdout",
          "text": [
            "Copying gs://oleg-zyablov/skillfactory/sf-dl-car-classification.zip...\n",
            "/ [1 files][  1.6 GiB/  1.6 GiB]   41.0 MiB/s                                   \n",
            "Operation completed over 1 objects/1.6 GiB.                                      \n",
            "Archive:  sf-dl-car-classification.zip\n",
            "   creating: sf-dl-car-classification/\n",
            "  inflating: sf-dl-car-classification/sample-submission.csv  \n",
            "  inflating: sf-dl-car-classification/train.csv  \n",
            " extracting: sf-dl-car-classification/test.zip  \n",
            " extracting: sf-dl-car-classification/train.zip  \n"
          ]
        }
      ]
    },
    {
      "cell_type": "code",
      "source": [
        "# импорты\n",
        "\n",
        "import os, re, math, random, time, gc, string, pickle, shutil, pathlib, itertools\n",
        "import numpy as np, pandas as pd, matplotlib.pyplot as plt, PIL\n",
        "\n",
        "import tensorflow as tf\n",
        "#import tensorflow_addons as tfa\n",
        "from tensorflow import keras\n",
        "from tensorflow.keras import *\n",
        "from tensorflow.keras.activations import *\n",
        "from tensorflow.keras.applications import *\n",
        "from tensorflow.keras.callbacks import *\n",
        "from tensorflow.keras.layers import *\n",
        "from tensorflow.keras.layers.experimental.preprocessing import *\n",
        "from tensorflow.keras.losses import *\n",
        "from tensorflow.keras.optimizers import *\n",
        "from tensorflow.keras.optimizers.schedules import *\n",
        "from tensorflow.keras.preprocessing.image import ImageDataGenerator\n",
        "\n",
        "from PIL import Image\n",
        "from IPython.display import clear_output\n",
        "from tqdm.notebook import tqdm\n",
        "\n",
        "import tensorflow.keras.backend as K\n",
        "import tensorflow.keras.layers as L\n",
        "\n",
        "from tensorflow.keras.layers.experimental.preprocessing import *\n",
        "\n",
        "import imgaug.augmenters as iaa\n",
        "import albumentations as A\n"
      ],
      "metadata": {
        "id": "iFivN35rctCU"
      },
      "execution_count": 2,
      "outputs": []
    },
    {
      "cell_type": "code",
      "source": [
        "image_size = (350, 350)\n",
        "batch_size = 32\n",
        "\n",
        "train_datagen = ImageDataGenerator(\n",
        "    #rescale=1./255,\n",
        "    validation_split=0.3,\n",
        "    # ниже параметры аугментаций:\n",
        "    horizontal_flip=True,\n",
        "    width_shift_range=0.15, \n",
        "    height_shift_range=0.15,\n",
        "    shear_range=0.15, \n",
        "    zoom_range=0.15, \n",
        "    rotation_range=15,\n",
        "    brightness_range=(0.8, 1.2),\n",
        "    zca_whitening=True, \n",
        "    zca_epsilon=1e-06,\n",
        "    \n",
        ")\n",
        "\n",
        "val_datagen = ImageDataGenerator(\n",
        "    #rescale=1/255,\n",
        "    validation_split=0.2,\n",
        ")\n",
        "\n",
        "sub_datagen = ImageDataGenerator(\n",
        "    #rescale=1/255\n",
        ")\n",
        "\n",
        "train_generator = train_datagen.flow_from_directory(\n",
        "    train_path,\n",
        "    target_size=image_size,\n",
        "    batch_size=batch_size,\n",
        "    class_mode='categorical',\n",
        "    shuffle=True,\n",
        "    seed=0,\n",
        "    subset='training'\n",
        ")\n",
        "\n",
        "val_generator = val_datagen.flow_from_directory(\n",
        "    train_path,\n",
        "    target_size=image_size,\n",
        "    batch_size=batch_size,\n",
        "    class_mode='categorical',\n",
        "    shuffle=True,\n",
        "    seed=0,\n",
        "    subset='validation'\n",
        ")\n",
        "\n",
        "sub_generator = sub_datagen.flow_from_dataframe( \n",
        "    dataframe=pd.read_csv(sample_submission_path),\n",
        "    directory=sub_path ,\n",
        "    x_col=\"Id\",\n",
        "    y_col=None,\n",
        "    class_mode=None,\n",
        "    target_size=image_size,\n",
        "    batch_size=batch_size,\n",
        "    shuffle=False\n",
        ")"
      ],
      "metadata": {
        "colab": {
          "base_uri": "https://localhost:8080/"
        },
        "id": "7ES6riSAessZ",
        "outputId": "4d5d44e0-6838-4ed2-e0b7-df8a54c1a0e6"
      },
      "execution_count": 3,
      "outputs": [
        {
          "output_type": "stream",
          "name": "stderr",
          "text": [
            "/usr/local/lib/python3.7/dist-packages/keras_preprocessing/image/image_data_generator.py:337: UserWarning: This ImageDataGenerator specifies `zca_whitening`, which overrides setting of `featurewise_center`.\n",
            "  warnings.warn('This ImageDataGenerator specifies '\n"
          ]
        },
        {
          "output_type": "stream",
          "name": "stdout",
          "text": [
            "Found 10897 images belonging to 10 classes.\n",
            "Found 3109 images belonging to 10 classes.\n",
            "Found 6675 validated image filenames.\n"
          ]
        }
      ]
    },
    {
      "cell_type": "code",
      "source": [
        "# Создадим базовую модель.\n",
        "base_model = EfficientNetV2B3(include_top=False, input_shape=(350, 350, 3))\n",
        "\n",
        "# Создадим голову.\n",
        "head = Sequential([\n",
        "    \n",
        "  GlobalMaxPool2D(),\n",
        "  Dropout(0.5),\n",
        "  BatchNormalization(),\n",
        "    \n",
        "  Dense(256, activation='relu'),\n",
        "  Dropout(0.25),\n",
        "  BatchNormalization(),\n",
        "    \n",
        "  Dense(10, activation='softmax')\n",
        "])"
      ],
      "metadata": {
        "colab": {
          "base_uri": "https://localhost:8080/"
        },
        "id": "vkjB7MBBewxf",
        "outputId": "33294a51-162a-44be-e206-90ed1dcd8c62"
      },
      "execution_count": 4,
      "outputs": [
        {
          "output_type": "stream",
          "name": "stdout",
          "text": [
            "Downloading data from https://storage.googleapis.com/tensorflow/keras-applications/efficientnet_v2/efficientnetv2-b3_notop.h5\n",
            "52609024/52606240 [==============================] - 1s 0us/step\n",
            "52617216/52606240 [==============================] - 1s 0us/step\n"
          ]
        }
      ]
    },
    {
      "cell_type": "code",
      "source": [
        "model = Model(inputs=base_model.input, outputs=head(base_model.output))"
      ],
      "metadata": {
        "id": "FWPcvcArRBJi"
      },
      "execution_count": 5,
      "outputs": []
    },
    {
      "cell_type": "code",
      "source": [
        "# Компилируем модель.\n",
        "model.compile(loss=\"categorical_crossentropy\", \n",
        "              optimizer=optimizers.Adam(ExponentialDecay(1e-3, 100, 0.9)), \n",
        "              metrics=[\"accuracy\"])\n",
        "\n"
      ],
      "metadata": {
        "id": "EEMdFZA6RD2q"
      },
      "execution_count": 6,
      "outputs": []
    },
    {
      "cell_type": "code",
      "source": [
        "# Создаем обьект который будет сохранять лучшую модель.\n",
        "my_callback = ModelCheckpoint(\n",
        "    'best_model_batch.h5',\n",
        "    save_weights_only=True,\n",
        "    monitor='val_accuracy',\n",
        "    mode='max',\n",
        "    verbouse = 1,\n",
        "    save_best_only=True)"
      ],
      "metadata": {
        "id": "2MQ9eGSLRazc"
      },
      "execution_count": 7,
      "outputs": []
    },
    {
      "cell_type": "code",
      "source": [
        "#Model.load_weights(filepath, by_name=False, skip_mismatch=False, options=None)"
      ],
      "metadata": {
        "id": "uvcK5SrVWraC"
      },
      "execution_count": null,
      "outputs": []
    },
    {
      "cell_type": "code",
      "source": [
        "# обучаем модель с замороженными слоями.\n",
        "model.fit(train_generator, validation_data=val_generator, callbacks=my_callback , epochs=20)"
      ],
      "metadata": {
        "id": "NkNpXiZ3RD8S",
        "colab": {
          "base_uri": "https://localhost:8080/"
        },
        "outputId": "d8dda641-d5cf-40ff-fa67-388c8f56d6e7"
      },
      "execution_count": 8,
      "outputs": [
        {
          "output_type": "stream",
          "name": "stderr",
          "text": [
            "/usr/local/lib/python3.7/dist-packages/keras_preprocessing/image/image_data_generator.py:720: UserWarning: This ImageDataGenerator specifies `featurewise_center`, but it hasn't been fit on any training data. Fit it first by calling `.fit(numpy_data)`.\n",
            "  warnings.warn('This ImageDataGenerator specifies '\n",
            "/usr/local/lib/python3.7/dist-packages/keras_preprocessing/image/image_data_generator.py:739: UserWarning: This ImageDataGenerator specifies `zca_whitening`, but it hasn't been fit on any training data. Fit it first by calling `.fit(numpy_data)`.\n",
            "  warnings.warn('This ImageDataGenerator specifies '\n"
          ]
        },
        {
          "output_type": "stream",
          "name": "stdout",
          "text": [
            "Epoch 1/20\n",
            "341/341 [==============================] - 676s 2s/step - loss: 0.7609 - accuracy: 0.7405 - val_loss: 0.1852 - val_accuracy: 0.9296\n",
            "Epoch 2/20\n",
            "341/341 [==============================] - 639s 2s/step - loss: 0.2116 - accuracy: 0.9253 - val_loss: 0.1331 - val_accuracy: 0.9527\n",
            "Epoch 3/20\n",
            "341/341 [==============================] - 627s 2s/step - loss: 0.1395 - accuracy: 0.9508 - val_loss: 0.1089 - val_accuracy: 0.9620\n",
            "Epoch 4/20\n",
            "341/341 [==============================] - 626s 2s/step - loss: 0.0975 - accuracy: 0.9638 - val_loss: 0.1105 - val_accuracy: 0.9620\n",
            "Epoch 5/20\n",
            "341/341 [==============================] - 627s 2s/step - loss: 0.0680 - accuracy: 0.9753 - val_loss: 0.0975 - val_accuracy: 0.9694\n",
            "Epoch 6/20\n",
            "341/341 [==============================] - 620s 2s/step - loss: 0.0566 - accuracy: 0.9799 - val_loss: 0.0916 - val_accuracy: 0.9698\n",
            "Epoch 7/20\n",
            "341/341 [==============================] - 611s 2s/step - loss: 0.0433 - accuracy: 0.9836 - val_loss: 0.0984 - val_accuracy: 0.9701\n",
            "Epoch 8/20\n",
            "341/341 [==============================] - 604s 2s/step - loss: 0.0386 - accuracy: 0.9864 - val_loss: 0.1028 - val_accuracy: 0.9707\n",
            "Epoch 9/20\n",
            "341/341 [==============================] - 602s 2s/step - loss: 0.0298 - accuracy: 0.9909 - val_loss: 0.1019 - val_accuracy: 0.9698\n",
            "Epoch 10/20\n",
            "341/341 [==============================] - 603s 2s/step - loss: 0.0232 - accuracy: 0.9919 - val_loss: 0.1062 - val_accuracy: 0.9698\n",
            "Epoch 11/20\n",
            "341/341 [==============================] - 607s 2s/step - loss: 0.0195 - accuracy: 0.9935 - val_loss: 0.1075 - val_accuracy: 0.9707\n",
            "Epoch 12/20\n",
            "341/341 [==============================] - 607s 2s/step - loss: 0.0193 - accuracy: 0.9938 - val_loss: 0.1098 - val_accuracy: 0.9694\n",
            "Epoch 13/20\n",
            "341/341 [==============================] - 607s 2s/step - loss: 0.0164 - accuracy: 0.9944 - val_loss: 0.1113 - val_accuracy: 0.9704\n",
            "Epoch 14/20\n",
            "341/341 [==============================] - 604s 2s/step - loss: 0.0177 - accuracy: 0.9939 - val_loss: 0.1132 - val_accuracy: 0.9701\n",
            "Epoch 15/20\n",
            "341/341 [==============================] - 625s 2s/step - loss: 0.0137 - accuracy: 0.9960 - val_loss: 0.1120 - val_accuracy: 0.9688\n",
            "Epoch 16/20\n",
            "341/341 [==============================] - 632s 2s/step - loss: 0.0155 - accuracy: 0.9952 - val_loss: 0.1155 - val_accuracy: 0.9688\n",
            "Epoch 17/20\n",
            "341/341 [==============================] - 640s 2s/step - loss: 0.0149 - accuracy: 0.9947 - val_loss: 0.1118 - val_accuracy: 0.9701\n",
            "Epoch 18/20\n",
            "341/341 [==============================] - 648s 2s/step - loss: 0.0123 - accuracy: 0.9959 - val_loss: 0.1132 - val_accuracy: 0.9688\n",
            "Epoch 19/20\n",
            "341/341 [==============================] - 611s 2s/step - loss: 0.0134 - accuracy: 0.9955 - val_loss: 0.1146 - val_accuracy: 0.9698\n",
            "Epoch 20/20\n",
            "341/341 [==============================] - 604s 2s/step - loss: 0.0141 - accuracy: 0.9958 - val_loss: 0.1153 - val_accuracy: 0.9704\n"
          ]
        },
        {
          "output_type": "execute_result",
          "data": {
            "text/plain": [
              "<keras.callbacks.History at 0x7ff6174e7190>"
            ]
          },
          "metadata": {},
          "execution_count": 8
        }
      ]
    },
    {
      "cell_type": "code",
      "source": [
        "model.load_weights('/content/best_model_batch.h5', by_name=False, skip_mismatch=False, options=None)"
      ],
      "metadata": {
        "id": "_ZiLHdEJIksf"
      },
      "execution_count": null,
      "outputs": []
    },
    {
      "cell_type": "code",
      "source": [
        "# Сохраняем submission\n",
        "predictions = model.predict(sub_generator, verbose=1)\n",
        "predictions = predictions.argmax(axis=1)\n",
        "\n",
        "submission = pd.DataFrame({\n",
        "    'Id': sub_generator.filenames,\n",
        "    'Category': predictions\n",
        "}, columns=['Id', 'Category'])\n",
        "submission.to_csv('submission.csv', index=False)"
      ],
      "metadata": {
        "id": "STx-aCuBSQii"
      },
      "execution_count": null,
      "outputs": []
    },
    {
      "cell_type": "markdown",
      "source": [
        "# Далее просто примеры кода который показал худший результат."
      ],
      "metadata": {
        "id": "PIpqKYgzQQ2-"
      }
    },
    {
      "cell_type": "markdown",
      "source": [
        "## Fine Tuning"
      ],
      "metadata": {
        "id": "TQH3CPgKRqWb"
      }
    },
    {
      "cell_type": "code",
      "source": [
        "## Создадим модель.\n",
        "##tune_model = Model(inputs=base_model.input, outputs=head(base_model.output))"
      ],
      "metadata": {
        "id": "B2A6CGtHey9x"
      },
      "execution_count": null,
      "outputs": []
    },
    {
      "cell_type": "code",
      "source": [
        "#len(tune_model.trainable_variables)"
      ],
      "metadata": {
        "colab": {
          "base_uri": "https://localhost:8080/"
        },
        "id": "kP07v3_NiMcf",
        "outputId": "4ed66bd4-d8bb-41bb-e785-bb52bc557ba4"
      },
      "execution_count": null,
      "outputs": [
        {
          "output_type": "execute_result",
          "data": {
            "text/plain": [
              "368"
            ]
          },
          "metadata": {},
          "execution_count": 41
        }
      ]
    },
    {
      "cell_type": "code",
      "source": [
        "## Замораживаем слои базовой модели.\n",
        "#base_model.trainable = False"
      ],
      "metadata": {
        "id": "fBhFNmKt4nyr"
      },
      "execution_count": null,
      "outputs": []
    },
    {
      "cell_type": "code",
      "source": [
        "## Компилируем модель.\n",
        "#tune_model.compile(loss=\"categorical_crossentropy\", \n",
        "#              optimizer=optimizers.Adam(ExponentialDecay(1e-3, 100, 0.9)), \n",
        "#              metrics=[\"accuracy\"])\n"
      ],
      "metadata": {
        "id": "BEXO-91c4n1Y"
      },
      "execution_count": null,
      "outputs": []
    },
    {
      "cell_type": "code",
      "source": [
        "## Можем посмотреть какие слои тренируемые.\n",
        "#for layer in tune_model.layers:\n",
        "#    print(layer, layer.trainable)"
      ],
      "metadata": {
        "id": "_3Yvb9Y64n4I"
      },
      "execution_count": null,
      "outputs": []
    },
    {
      "cell_type": "code",
      "source": [
        "## Создаем обьект который будет сохранять лучшую модель.\n",
        "#my_callback = ModelCheckpoint(\n",
        "#    'best_model_batch.h5',\n",
        "#    save_weights_only=True,\n",
        "#    monitor='val_accuracy',\n",
        "#    mode='max',\n",
        "#    verbouse = 1,\n",
        "#    save_best_only=True)"
      ],
      "metadata": {
        "id": "C-6bjM7b6f9y"
      },
      "execution_count": null,
      "outputs": []
    },
    {
      "cell_type": "code",
      "source": [
        "## обучаем модель с замороженными слоями.\n",
        "#tune_model.fit(train_generator, validation_data=val_generator, callbacks=my_callback , epochs=10)"
      ],
      "metadata": {
        "id": "bsLt5UiS4uvQ"
      },
      "execution_count": null,
      "outputs": []
    },
    {
      "cell_type": "code",
      "source": [
        "## Сохраняем submission\n",
        "#predictions = tune_model.predict(sub_generator, verbose=1)\n",
        "#predictions = predictions.argmax(axis=1)\n",
        "#\n",
        "#submission = pd.DataFrame({\n",
        "#    'Id': sub_generator.filenames,\n",
        "#    'Category': predictions\n",
        "#}, columns=['Id', 'Category'])\n",
        "#submission.to_csv('submission.csv', index=False)"
      ],
      "metadata": {
        "colab": {
          "base_uri": "https://localhost:8080/"
        },
        "id": "FybDItfM5hGZ",
        "outputId": "c8e7eb49-9bd0-47e3-f9ea-af780b2ee734"
      },
      "execution_count": null,
      "outputs": [
        {
          "output_type": "stream",
          "name": "stdout",
          "text": [
            "209/209 [==============================] - 92s 423ms/step\n"
          ]
        }
      ]
    },
    {
      "cell_type": "code",
      "source": [
        "## Размораживаем слои базовой модели.\n",
        "#base_model.trainable = True"
      ],
      "metadata": {
        "id": "mYWHK48K4uyK"
      },
      "execution_count": null,
      "outputs": []
    },
    {
      "cell_type": "code",
      "source": [
        "## Размораживаем половину слоев базовой модели.\n",
        "#fine_tune_at = len(base_model.layers)//2\n",
        "#\n",
        "#for layer in base_model.layers[:fine_tune_at]:\n",
        "#    layer.trainable = False"
      ],
      "metadata": {
        "id": "oE65N_fo4u1K"
      },
      "execution_count": null,
      "outputs": []
    },
    {
      "cell_type": "code",
      "source": [
        "## Перекомпилируем модель с очень маленьким learning_rate.\n",
        "#tune_model.compile(loss=\"categorical_crossentropy\", \n",
        "#              optimizer=keras.optimizers.Adam(learning_rate=0.0001),\n",
        "#              metrics=[\"accuracy\"])"
      ],
      "metadata": {
        "id": "FzfsMXSx4u37"
      },
      "execution_count": null,
      "outputs": []
    },
    {
      "cell_type": "code",
      "source": [
        "## обучаем модель с размороженными слоями.\n",
        "#tune_model.fit(train_generator, validation_data=val_generator, callbacks=my_callback , epochs=10)"
      ],
      "metadata": {
        "id": "ZVWfeiCQ44wT"
      },
      "execution_count": null,
      "outputs": []
    },
    {
      "cell_type": "code",
      "source": [
        "## Размораживаем все слои базовой модели и снова запускаем обучение.\n",
        "#base_model.trainable = True"
      ],
      "metadata": {
        "id": "8xjtWcz244zD"
      },
      "execution_count": null,
      "outputs": []
    },
    {
      "cell_type": "markdown",
      "source": [
        "## Аугментации с albumentations\n",
        "\n",
        "## Было опробованно некоторое количество различных комбинаций но давало стабильно плохой результат.\n"
      ],
      "metadata": {
        "id": "jzW_UqofOD7e"
      }
    },
    {
      "cell_type": "code",
      "source": [
        "#def augment(image):\n",
        "#  #image = image.astype(np.uint8)\n",
        "#  aug = A.Compose([\n",
        "#    A.GaussNoise(always_apply=False, p=1.0, var_limit=(275, 380)),\n",
        "#    A.HorizontalFlip(p=0.5),\n",
        "#    A.Rotate(limit=30, interpolation=1, border_mode=4, value=None, mask_value=None, always_apply=False, p=0.5),\n",
        "#\n",
        "#    A.OneOf([\n",
        "#    A.RandomBrightnessContrast(brightness_limit=0.3, contrast_limit=0.3),\n",
        "#    A.RandomBrightnessContrast(brightness_limit=0.1, contrast_limit=0.1)],p=0.5),\n",
        "#    A.GaussianBlur(p=0.05),\n",
        "#    A.HueSaturationValue(p=0.5),\n",
        "#    A.RGBShift(p=0.5),\n",
        "#])  \n",
        "#  return aug(image=image)['image']\n",
        "#\n",
        "#my_datagen = ImageDataGenerator(\n",
        "#    preprocessing_function=augment\n",
        "#)\n",
        "#\n",
        "#for _ in range(3):\n",
        "#  my_generator = my_datagen.flow_from_directory(\n",
        "#      train_path,\n",
        "#      target_size=(384, 512),\n",
        "#      batch_size=32,\n",
        "#      shuffle=True,\n",
        "#      seed=0\n",
        "#  )\n",
        "#  #show_first_images(my_generator)\n",
        "#\n",
        "#"
      ],
      "metadata": {
        "id": "w8etfrOo441g"
      },
      "execution_count": null,
      "outputs": []
    },
    {
      "cell_type": "code",
      "source": [
        "#image_size = (350, 350)\n",
        "#batch_size = 32\n",
        "#\n",
        "#\n",
        "#train_datagen = ImageDataGenerator(\n",
        "#    #rescale=1./255,\n",
        "#    validation_split=0.2,\n",
        "#    # Здесь аугментации из albumentations\n",
        "#    preprocessing_function=augment\n",
        "#)\n",
        "#\n",
        "#\n",
        "#val_datagen = ImageDataGenerator(\n",
        "#    #rescale=1/255,\n",
        "#    validation_split=0.2,\n",
        "#)\n",
        "#\n",
        "#sub_datagen = ImageDataGenerator(\n",
        "#    #rescale=1/255\n",
        "#)\n",
        "#\n",
        "#train_generator = train_datagen.flow_from_directory(\n",
        "#    train_path,\n",
        "#    target_size=image_size,\n",
        "#    batch_size=batch_size,\n",
        "#    class_mode='categorical',\n",
        "#    shuffle=True,\n",
        "#    seed=0,\n",
        "#    subset='training'\n",
        "#)\n",
        "#\n",
        "#val_generator = val_datagen.flow_from_directory(\n",
        "#    train_path,\n",
        "#    target_size=image_size,\n",
        "#    batch_size=batch_size,\n",
        "#    class_mode='categorical',\n",
        "#    shuffle=True,\n",
        "#    seed=0,\n",
        "#    subset='validation'\n",
        "#)\n",
        "#\n",
        "#sub_generator = sub_datagen.flow_from_dataframe( \n",
        "#    dataframe=pd.read_csv(sample_submission_path),\n",
        "#    directory=sub_path ,\n",
        "#    x_col=\"Id\",\n",
        "#    y_col=None,\n",
        "#    class_mode=None,\n",
        "#    target_size=image_size,\n",
        "#    batch_size=batch_size,\n",
        "#    shuffle=False\n",
        "#)"
      ],
      "metadata": {
        "id": "CxCP2wxEOJ1r"
      },
      "execution_count": null,
      "outputs": []
    },
    {
      "cell_type": "code",
      "source": [
        "## Создаем обьект который будет сохранять лучшую модель.\n",
        "#my_callback = ModelCheckpoint(\n",
        "#    'best_model_batch.h5',\n",
        "#    save_weights_only=True,\n",
        "#    monitor='val_accuracy',\n",
        "#    mode='max',\n",
        "#    verbouse = 1,\n",
        "#    save_best_only=True)"
      ],
      "metadata": {
        "id": "gVykIsVqOPwv"
      },
      "execution_count": null,
      "outputs": []
    },
    {
      "cell_type": "code",
      "source": [
        "## строим модель\n",
        "#model = Sequential([\n",
        "#  EfficientNetV2B3(weights='imagenet', input_shape=(*image_size, 3), include_top=False), #предобученная нейросеть из модуля keras.applications\n",
        "#  \n",
        "#  GlobalMaxPool2D(),\n",
        "#  Dropout(0.5),\n",
        "#  BatchNormalization(),\n",
        "#    \n",
        "#\n",
        "#\n",
        "#  Dense(256, activation='relu'),\n",
        "#  Dropout(0.25),\n",
        "#  BatchNormalization(),\n",
        "#  \n",
        "#  Dense(10, activation='softmax')\n",
        "#])\n",
        "#\n",
        "#model.compile(\n",
        "#    loss=CategoricalCrossentropy(from_logits=True),\n",
        "#    optimizer=Adam(ExponentialDecay(1e-3, 100, 0.9)),\n",
        "#    metrics='accuracy'\n",
        "#)\n",
        "#"
      ],
      "metadata": {
        "id": "4ccp_-l1OR8j"
      },
      "execution_count": null,
      "outputs": []
    },
    {
      "cell_type": "code",
      "source": [
        "## обучаем модель\n",
        "#model.fit(train_generator, validation_data=val_generator, callbacks=my_callback , epochs=10)"
      ],
      "metadata": {
        "id": "eXLn1paFOUBN"
      },
      "execution_count": null,
      "outputs": []
    },
    {
      "cell_type": "markdown",
      "source": [
        "## Здесь опробованы возможности аугментации Keras"
      ],
      "metadata": {
        "id": "1Zu2ApFCOWPE"
      }
    },
    {
      "cell_type": "code",
      "source": [
        "#from tensorflow.keras.layers.experimental.preprocessing import *\n",
        "#\n",
        "## Создаем обьект с аугментации.\n",
        "#preprocessing_model = Sequential([\n",
        "#                                  \n",
        "#  RandomCrop(299, 299),\n",
        "#  RandomFlip(mode='horizontal'),\n",
        "#  RandomRotation(0.1),\n",
        "#  RandomContrast(factor = (0.2, 0.3)),\n",
        "#  RandomZoom(height_factor = (0.2, 0.3), width_factor = (0.2, 0.3),fill_mode=\"reflect\", interpolation=\"bilinear\"),\n",
        "#  RandomWidth(factor = (0.2, 0.3) , interpolation=\"bilinear\"),\n",
        "#  RandomHeight(factor = (0.2, 0.3) , interpolation=\"bilinear\"),\n",
        "#\n",
        "#\n",
        "#])\n",
        "#\n",
        "## Создаем модель.\n",
        "#model = Sequential([\n",
        "#    \n",
        "#  # добавляем аугментации в модель.  \n",
        "#  preprocessing_model,\n",
        "#  EfficientNetV2B3(weights='imagenet', input_shape=(*image_size, 3), include_top=False), #предобученная нейросеть из модуля keras.applications\n",
        "#  \n",
        "#  GlobalMaxPool2D(),\n",
        "#  Dropout(0.5),\n",
        "#  BatchNormalization(),\n",
        "#    \n",
        "#  Dense(256, activation='relu'),\n",
        "#  Dropout(0.25),\n",
        "#  BatchNormalization(),\n",
        "#  \n",
        "#  Dense(10, activation='softmax')\n",
        "#\n",
        "#])"
      ],
      "metadata": {
        "id": "B6WxAJT2OY2s"
      },
      "execution_count": null,
      "outputs": []
    },
    {
      "cell_type": "code",
      "source": [
        "## Визуализация аугментаций\n",
        "#for _ in range(3):\n",
        "#  train_generator = train_datagen.flow_from_directory(\n",
        "#      train_path,\n",
        "#      target_size=(450, 600),\n",
        "#      batch_size=1,\n",
        "#      class_mode='categorical',\n",
        "#      shuffle=True,\n",
        "#      seed=0,\n",
        "#      subset='training'\n",
        "#  )\n",
        "#  \n",
        "#  def augment_batch_to_visualize(X, y):\n",
        "#    return preprocessing_model(X, training=True).numpy(), y\n",
        "#  \n",
        "#  show_first_images((augment_batch_to_visualize(X, y) for X, y in train_generator))"
      ],
      "metadata": {
        "id": "xkH6SJE7Oa68"
      },
      "execution_count": null,
      "outputs": []
    },
    {
      "cell_type": "code",
      "source": [
        "## Компилируем модель\n",
        "#model.compile(\n",
        "#    loss=CategoricalCrossentropy(from_logits=True),\n",
        "#    optimizer=Adam(ExponentialDecay(1e-3, 100, 0.9)),\n",
        "#    metrics='accuracy'\n",
        "#)"
      ],
      "metadata": {
        "id": "J2aXRZiOOevc"
      },
      "execution_count": null,
      "outputs": []
    },
    {
      "cell_type": "code",
      "source": [
        "# обучаем модель\n",
        "#model.fit(train_generator, validation_data=val_generator, callbacks=my_callback , epochs=10)"
      ],
      "metadata": {
        "id": "0afWbRA6OfUl"
      },
      "execution_count": null,
      "outputs": []
    }
  ]
}