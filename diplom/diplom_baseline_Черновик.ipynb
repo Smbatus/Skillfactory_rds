{
  "cells": [
    {
      "cell_type": "code",
      "execution_count": 2,
      "metadata": {
        "colab": {
          "base_uri": "https://localhost:8080/"
        },
        "id": "DZUo-k8fZy1X",
        "outputId": "9db4aec9-db30-449a-a79b-e912f30cb8b2"
      },
      "outputs": [
        {
          "output_type": "stream",
          "name": "stdout",
          "text": [
            "Looking in indexes: https://pypi.org/simple, https://us-python.pkg.dev/colab-wheels/public/simple/\n",
            "Collecting catboost\n",
            "  Downloading catboost-1.0.6-cp37-none-manylinux1_x86_64.whl (76.6 MB)\n",
            "\u001b[K     |████████████████████████████████| 76.6 MB 100 kB/s \n",
            "\u001b[?25hRequirement already satisfied: six in /usr/local/lib/python3.7/dist-packages (from catboost) (1.15.0)\n",
            "Requirement already satisfied: pandas>=0.24.0 in /usr/local/lib/python3.7/dist-packages (from catboost) (1.3.5)\n",
            "Requirement already satisfied: graphviz in /usr/local/lib/python3.7/dist-packages (from catboost) (0.10.1)\n",
            "Requirement already satisfied: plotly in /usr/local/lib/python3.7/dist-packages (from catboost) (5.5.0)\n",
            "Requirement already satisfied: matplotlib in /usr/local/lib/python3.7/dist-packages (from catboost) (3.2.2)\n",
            "Requirement already satisfied: scipy in /usr/local/lib/python3.7/dist-packages (from catboost) (1.4.1)\n",
            "Requirement already satisfied: numpy>=1.16.0 in /usr/local/lib/python3.7/dist-packages (from catboost) (1.21.6)\n",
            "Requirement already satisfied: pytz>=2017.3 in /usr/local/lib/python3.7/dist-packages (from pandas>=0.24.0->catboost) (2022.1)\n",
            "Requirement already satisfied: python-dateutil>=2.7.3 in /usr/local/lib/python3.7/dist-packages (from pandas>=0.24.0->catboost) (2.8.2)\n",
            "Requirement already satisfied: cycler>=0.10 in /usr/local/lib/python3.7/dist-packages (from matplotlib->catboost) (0.11.0)\n",
            "Requirement already satisfied: kiwisolver>=1.0.1 in /usr/local/lib/python3.7/dist-packages (from matplotlib->catboost) (1.4.3)\n",
            "Requirement already satisfied: pyparsing!=2.0.4,!=2.1.2,!=2.1.6,>=2.0.1 in /usr/local/lib/python3.7/dist-packages (from matplotlib->catboost) (3.0.9)\n",
            "Requirement already satisfied: typing-extensions in /usr/local/lib/python3.7/dist-packages (from kiwisolver>=1.0.1->matplotlib->catboost) (4.1.1)\n",
            "Requirement already satisfied: tenacity>=6.2.0 in /usr/local/lib/python3.7/dist-packages (from plotly->catboost) (8.0.1)\n",
            "Installing collected packages: catboost\n",
            "Successfully installed catboost-1.0.6\n"
          ]
        }
      ],
      "source": [
        "!pip install catboost"
      ]
    },
    {
      "cell_type": "markdown",
      "metadata": {
        "id": "8FgW3269Zp8x"
      },
      "source": [
        "# Импорты"
      ]
    },
    {
      "cell_type": "code",
      "execution_count": 3,
      "metadata": {
        "id": "tefidfFO4D03"
      },
      "outputs": [],
      "source": [
        "from google.colab import drive\n",
        "import numpy as np # для работы с массивами\n",
        "import pandas as pd # для работы с DataFrame \n",
        "import re\n",
        "\n",
        "import collections\n",
        "\n",
        "# Загружаем специальный инструмент для разбивки:\n",
        "from sklearn.model_selection import train_test_split\n",
        "\n",
        "\n",
        "# инструменты для оценки точности модели \n",
        "from sklearn import metrics \n",
        "from sklearn.metrics import mean_absolute_percentage_error as mape\n",
        "\n",
        "\n",
        "# модуль для работы с полиноминальными признаками\n",
        "from sklearn.preprocessing import PolynomialFeatures\n",
        "\n",
        "\n",
        "# Модули для визуализации\n",
        "import matplotlib\n",
        "import matplotlib.pyplot as plt\n",
        "import seaborn as sns\n",
        "import scipy.stats as stats\n",
        "\n",
        "\n",
        "# Модули для нахождения выбросов\n",
        "from sklearn.cluster import DBSCAN\n",
        "from sklearn.preprocessing import MinMaxScaler\n",
        "from sklearn import preprocessing\n",
        "from sklearn.preprocessing import StandardScaler\n",
        "#\n",
        "from IPython.display import display\n",
        "\n",
        "\n",
        "# Модуль для вывода прогресса\n",
        "from tqdm.notebook import tqdm\n",
        "\n",
        "# Модули алгоритмов\n",
        "from catboost import CatBoostRegressor\n",
        "from sklearn.ensemble import RandomForestRegressor\n",
        "from sklearn.ensemble import GradientBoostingRegressor  \n",
        "import xgboost as xgb\n",
        "from lightgbm import LGBMRegressor\n",
        "from sklearn.tree import DecisionTreeRegressor\n",
        "from sklearn.ensemble import AdaBoostRegressor\n",
        "from sklearn.ensemble import StackingRegressor\n",
        "from sklearn.linear_model import LinearRegression\n",
        "\n",
        "\n",
        "from sklearn.preprocessing import LabelEncoder\n",
        "from sklearn.model_selection import KFold\n",
        "\n",
        "\n",
        "from sklearn.model_selection import GridSearchCV"
      ]
    },
    {
      "cell_type": "markdown",
      "metadata": {
        "id": "9NytEuiwIkwb"
      },
      "source": [
        "# Настройки Pandas"
      ]
    },
    {
      "cell_type": "code",
      "execution_count": 4,
      "metadata": {
        "id": "Q7yZa1__IlaL"
      },
      "outputs": [],
      "source": [
        "# Настройки Pandas\n",
        "# Сброс ограничений на количество выводимых рядов\n",
        "pd.set_option('display.max_rows', 20)\n",
        "# Сброс ограничений на число столбцов\n",
        "pd.set_option('display.max_columns', 20)"
      ]
    },
    {
      "cell_type": "markdown",
      "source": [
        "# Функции для EDA"
      ],
      "metadata": {
        "id": "YZHjFM722Z14"
      }
    },
    {
      "cell_type": "code",
      "source": [
        "def diagnostic_plots(df, variable, title):\n",
        "    fig, ax = plt.subplots(figsize=(10,7))\n",
        "    # гистограмма\n",
        "    plt.subplot(2, 2, 1)\n",
        "    df[variable].hist(bins=30)\n",
        "    ## Q-Q plot\n",
        "    plt.subplot(2, 2, 2)\n",
        "    stats.probplot(df[variable], dist=\"norm\", plot=plt)\n",
        "    # ящик с усами\n",
        "    plt.subplot(2, 2, 3)\n",
        "    sns.violinplot(x=df[variable])    \n",
        "    # ящик с усами\n",
        "    plt.subplot(2, 2, 4)\n",
        "    sns.boxplot(x=df[variable])  \n",
        "    fig.suptitle(title)\n",
        "    plt.show()\n",
        "\n",
        "def get_quantile(df, column):\n",
        "    #вычисляем межквартильный размах:\n",
        "    iqr = df[column].quantile(0.75) - df[column].quantile(0.25)\n",
        "\n",
        "    #25-й перцентиль:\n",
        "    perc25 = df[column].quantile(0.25)\n",
        "    #75-й перцентиль:\n",
        "    perc75 = df[column].quantile(0.75)\n",
        "\n",
        "    #верхняя граница выбросов:\n",
        "    l = perc75 + 1.5*iqr\n",
        "    #нижняя граница выбросов:\n",
        "    f = perc25 - 1.5*iqr\n",
        "\n",
        "    print('Верхняя граница выбросов:',\n",
        "          l, 'Нижняя граница выбросов:', f)\n",
        "    print()\n",
        "    #считаем количество выбросов\n",
        "    print('Количество выбросов:', column, ':',\n",
        "         df[df[column]<(perc25-1.5*iqr)][column].count() +\n",
        "          df[df[column]>(perc75+1.5*iqr)][column].count())\n",
        "    \n",
        "def get_filling_mean(df, column):\n",
        "    \n",
        "    #вычисляем межквартильный размах:\n",
        "    iqr = df[column].quantile(0.75) - df[column].quantile(0.25)\n",
        "\n",
        "    #25-й перцентиль:\n",
        "    perc25 = df[column].quantile(0.25)\n",
        "    #75-й перцентиль:\n",
        "    perc75 = df[column].quantile(0.75)\n",
        "\n",
        "    #верхняя граница выбросов:\n",
        "    l = perc75 + 1.5*iqr\n",
        "    #нижняя граница выбросов:\n",
        "    f = perc25 - 1.5*iqr\n",
        "    #всё что выпадает за границы выбросов, заменяем на среднее\n",
        "    df[column] = df[column].apply(lambda m: df[column].mean() if m < f else m)\n",
        "    df[column] = df[column].apply(lambda m: df[column].mean() if m > l else m)\n",
        "    \n",
        "def get_filling_lim(df, column):\n",
        "    \n",
        "    #вычисляем межквартильный размах:\n",
        "    iqr = df[column].quantile(0.75) - df[column].quantile(0.25)\n",
        "\n",
        "    #25-й перцентиль:\n",
        "    perc25 = df[column].quantile(0.25)\n",
        "    #75-й перцентиль:\n",
        "    perc75 = df[column].quantile(0.75)\n",
        "\n",
        "    #верхняя граница выбросов:\n",
        "    l = perc75 + 1.5*iqr\n",
        "    #нижняя граница выбросов:\n",
        "    f = perc25 - 1.5*iqr\n",
        "    #всё что выпадает за границы выбросов, заменяем на среднее\n",
        "    df[column] = df[column].apply(lambda m: perc25 if m < f else m)\n",
        "    df[column] = df[column].apply(lambda m: perc75 if m > l else m)\n",
        "\n",
        "\n",
        "def get_filling_mean(df, column):\n",
        "    \n",
        "    #вычисляем межквартильный размах:\n",
        "    iqr = df[column].quantile(0.75) - df[column].quantile(0.25)\n",
        "\n",
        "    #25-й перцентиль:\n",
        "    perc25 = df[column].quantile(0.25)\n",
        "    #75-й перцентиль:\n",
        "    perc75 = df[column].quantile(0.75)\n",
        "\n",
        "    #верхняя граница выбросов:\n",
        "    l = perc75 + 1.5*iqr\n",
        "    #нижняя граница выбросов:\n",
        "    f = perc25 - 1.5*iqr\n",
        "    #всё что выпадает за границы выбросов, заменяем на среднее\n",
        "    df[column] = df[column].apply(lambda m: df[column].mean() if m < f else m)\n",
        "    df[column] = df[column].apply(lambda m: df[column].mean() if m > l else m)\n"
      ],
      "metadata": {
        "id": "e0EeBRxW2ZDI"
      },
      "execution_count": 5,
      "outputs": []
    },
    {
      "cell_type": "markdown",
      "metadata": {
        "id": "JdWJi52wF186"
      },
      "source": [
        "# Функции"
      ]
    },
    {
      "cell_type": "code",
      "execution_count": 6,
      "metadata": {
        "id": "ebg1D7dVVpb1"
      },
      "outputs": [],
      "source": [
        "# Функции\n",
        "\n",
        "# Функция для создания списка категорий\n",
        "def quant_class(a):\n",
        "    cnt = collections.Counter()\n",
        "    for i in a:\n",
        "        for j in i:\n",
        "            j = str(j)\n",
        "            cnt[j] += 1\n",
        "    return cnt \n",
        "\n",
        "# Функция для создания DUMMY признаков из столбца \n",
        "def create_dummies(df, col, lst):\n",
        "    for elem in lst:\n",
        "        df[elem] = df[col].apply(lambda x: 1 if elem in x else 0)\n",
        "    return df\n",
        "\n",
        "# Функция для форматирования строк в списках столбца propertyType_1\n",
        "def form_propertyType_1(x):\n",
        "    a = []\n",
        "    for i in x:\n",
        "      if i[0] == ' ':\n",
        "        i = i[1:]\n",
        "      else: i = i\n",
        "      a.append(i)\n",
        "    return a\n",
        "\n",
        "# Функция для форматирования строк в списках столбца propertyType_2\n",
        "def form_propertyType_2(x):\n",
        "    a = []\n",
        "    for i in x:\n",
        "      if i == 'co-op':\n",
        "        i = 'coop'\n",
        "      elif i == 'one story':\n",
        "        i = '1 story'\n",
        "      elif i == 'two story':\n",
        "        i = '2 stories'\n",
        "      elif i == '2 story':\n",
        "        i = '2 stories'\n",
        "      elif i == 'unknown':\n",
        "        i = ' '\n",
        "      elif i == '1 1':\n",
        "        i = ' '\n",
        "      elif i == 'townhome':\n",
        "        i = 'townhouse'\n",
        "      elif i == 'manufactured home':\n",
        "        i = 'manufactured house'\n",
        "      elif i == 'multi-family':\n",
        "        i = 'multi family'\n",
        "      elif i == ' ':\n",
        "        i = ''\n",
        "      a.append(i)\n",
        "    return a\n",
        "\n",
        "\n",
        "def form_fireplace_1(x):\n",
        "    a = []\n",
        "    for i in x:\n",
        "      if i[0] == ' ':\n",
        "        i = i[1:]\n",
        "      else: i = i\n",
        "      a.append(i)\n",
        "    return a\n",
        "\n",
        "\n",
        "\n",
        "\n",
        "def form_fireplace_2(x):\n",
        "    a = []\n",
        "    for i in x:\n",
        "      if i == 'gas log':\n",
        "        i = 'gas logs'\n",
        "      elif i == 'gas fireplace':\n",
        "        i = 'gas'\n",
        "      elif i == 'one':\n",
        "        i = '1'\n",
        "      elif i == 'familyrm':\n",
        "        i = 'family room'\n",
        "      elif i == '# fireplaces - woodburning':\n",
        "        i = '1, wood burning'\n",
        "      elif i == '# fireplaces - gas':\n",
        "        i = '1, gas'\n",
        "      elif i == 'fireplaces':\n",
        "        i = '1'\n",
        "      elif i == '# fireplaces - woodstoves':\n",
        "        i = 'woodstoves'\n",
        "      elif i == 'gas fuel':\n",
        "        i = 'gas'\n",
        "      elif i == 'in great room':\n",
        "        i = 'great room'\n",
        "      elif i == 'familyrm':\n",
        "        i = 'family room'\n",
        "      elif i == 'in living room':\n",
        "        i = 'living room'\n",
        "      elif i == 'in den':\n",
        "        i = 'den'\n",
        "      elif i == '1 fireplace':\n",
        "        i = '1'\n",
        "      elif i == 'fireplace family rm':\n",
        "        i = 'family room'\n",
        "      elif i == 'woodburning stove':\n",
        "        i = 'wood burning'\n",
        "      elif i == 'log woodburning':\n",
        "        i = 'wood burning'\n",
        "      elif i == 'fireplace-gas':\n",
        "        i = 'gas'\n",
        "      elif i == 'gas fireplace':\n",
        "        i = 'gas'\n",
        "      elif i == 'log wood-burning':\n",
        "        i = 'wood burning'\n",
        "      elif i == 'fireplace-wood':\n",
        "        i = 'wood burning'\n",
        "      elif i == 'fire pit':\n",
        "        i = 'firepit'\n",
        "      elif i == 'fireplace living rm':\n",
        "        i = 'living room'\n",
        "      elif i == 'wood burning frplc':\n",
        "        i = 'wood burning'\n",
        "      elif i == 'fireplace - wood burning':\n",
        "        i = 'wood burning'\n",
        "      elif i == 'wood burning fp':\n",
        "        i = 'wood burning'\n",
        "      elif i == 'gas log starter':\n",
        "        i = 'gas starter'\n",
        "      elif i == 'no fireplace':\n",
        "        i = '0'\n",
        "      elif i == 'two':\n",
        "        i = '2'\n",
        "      elif i == '2 fireplaces':\n",
        "        i = '2'\n",
        "      elif i == 'fireplace':\n",
        "        i = '1'\n",
        "      elif i == 'three':\n",
        "        i = '3'\n",
        "      elif i == '2 fireplace':\n",
        "        i = '2'\n",
        "      elif i == 'in bedroom':\n",
        "        i = 'bedroom'\n",
        "      elif i == 'fireplace master bdr':\n",
        "        i = 'bedroom'\n",
        "      elif i == 'two way fireplace':\n",
        "        i = 'two way'\n",
        "      elif i == 'gas logs included':\n",
        "        i = 'gas logs'\n",
        "      elif i == 'living room fireplace':\n",
        "        i = 'living room'\n",
        "      elif i == 'single fireplace':\n",
        "        i = '1'\n",
        "      elif i == 'frplc-fam rm':\n",
        "        i = 'family room'\n",
        "      elif i == 'gr':\n",
        "        i = 'great room'\n",
        "      elif i == 'fireplace in family room':\n",
        "        i = 'family room'\n",
        "      elif i == 'gas burning fireplace':\n",
        "        i = 'gas'\n",
        "      elif i == 'fireplace - gas':\n",
        "        i = 'gas'\n",
        "      elif i == '3+ fireplace':\n",
        "        i = '3'\n",
        "      elif i == 'in rec room':\n",
        "        i = 'rec room'\n",
        "      elif i == 'gas burning':\n",
        "        i = 'gas'\n",
        "      elif i == 'freestnd fireplace':\n",
        "        i = 'free standing'\n",
        "      elif i == 'basement - finished':\n",
        "        i = 'basement'\n",
        "      elif i == 'family room fireplace':\n",
        "        i = 'family room'\n",
        "      elif i == 'wood burning fireplace':\n",
        "        i = 'wood burning'\n",
        "      elif i == 'gas log fireplace':\n",
        "        i = 'gas logs'\n",
        "      elif i == 'wood burning w':\n",
        "        i = 'wood burning'\n",
        "      elif i == 'great room fireplace':\n",
        "        i = 'great room'\n",
        "      elif i == 'location (living room)':\n",
        "        i = 'living room'\n",
        "      elif i == '3 fireplaces':\n",
        "        i = '3'\n",
        "      elif i == 'two sided':\n",
        "        i = 'two way'\n",
        "      elif i == 'fireplace-living rm':\n",
        "        i = 'living room'\n",
        "      elif i == 'fp in living room':\n",
        "        i = 'living room'\n",
        "      elif i == 'woodstove':\n",
        "        i = 'wood stove'\n",
        "      elif i == 'living':\n",
        "        i = 'living room'\n",
        "      elif i == 'free-standing':\n",
        "        i = 'free standing'\n",
        "      elif i == 'brick fireplace':\n",
        "        i = 'brick'\n",
        "      elif i == 'ceiling fan(s)':\n",
        "        i = 'ceiling fan'\n",
        "      elif i == 'walk-in closet(s)':\n",
        "        i = 'walk-in closet'\n",
        "      elif i == 'in kitchen':\n",
        "        i = 'kitchen'\n",
        "      elif i == 'basement fireplace':\n",
        "        i = 'basement'\n",
        "      elif i == '# fireplaces - freestanding':\n",
        "        i = 'free standing'\n",
        "      elif i == 'decorative fireplace':\n",
        "        i = 'decorative'\n",
        "      elif i == 'decorative only':\n",
        "        i = 'decorative'\n",
        "      elif i == 'fp in family room':\n",
        "        i = 'family room'\n",
        "      elif i == 'fireplace(s)':\n",
        "        i = '1'\n",
        "      elif i == '2+ fireplaces':\n",
        "        i = '2'\n",
        "      elif i == 'dining':\n",
        "        i = 'dining room'\n",
        "      elif i == 'multi-sided fireplace':\n",
        "        i = 'two way'\n",
        "      elif i == 'in family room':\n",
        "        i = 'family room'\n",
        "      elif i == '2 sided fire place':\n",
        "        i = 'two way'\n",
        "      elif i == 'in master bedroom':\n",
        "        i = 'master bedroom'\n",
        "      elif i == 'bedroom':\n",
        "        i = 'master bedroom'\n",
        "      elif i == 'master bedroom fireplace':\n",
        "        i = 'master bedroom'\n",
        "      elif i == 'fireplace-bedroom':\n",
        "        i = 'master bedroom'\n",
        "      elif i == 'master bedroom - sitting area':\n",
        "        i = 'master bedroom'\n",
        "      elif i == 'dining area':\n",
        "        i = 'dining room'\n",
        "      elif i == 'four or more':\n",
        "        i = '4'\n",
        "      elif i == 'wood stove insert':\n",
        "        i = 'wood stove'\n",
        "      elif i == 'fireplace- gas':\n",
        "        i = 'gas'\n",
        "      elif i == 'two-way':\n",
        "        i = 'two way'\n",
        "      elif i == 'wood-burning stove':\n",
        "        i = 'wood stove'\n",
        "      elif i == 'gas piped':\n",
        "        i = 'gas'\n",
        "      elif i == 'non wood burning': #?\n",
        "        i = 'gas'\n",
        "      elif i == 'wood fuel':\n",
        "        i = 'wood stove'\n",
        "      elif i == '# fireplaces - pellet':\n",
        "        i = 'pellet'\n",
        "      elif i == 'propane logs convey': #?\n",
        "        i = 'gas'\n",
        "      elif i == 'bed room fireplace':\n",
        "        i = 'bed room'\n",
        "      elif i == 'free standing wood stove': #?\n",
        "        i = 'wood stove'\n",
        "      elif i == 'masonry fireplace': \n",
        "        i = 'stone fireplace'\n",
        "      elif i == 'masonry':\n",
        "        i = 'stone fireplace'\n",
        "      elif i == 'w':  #?\n",
        "        i = 'wood stove'\n",
        "      elif i == 'family':\n",
        "        i = 'family room'\n",
        "      elif i == 'recreation room fireplace':\n",
        "        i = 'recreation room'\n",
        "      elif i == 'rec room':\n",
        "        i = 'recreation room'\n",
        "      elif i == 'gas log(s)':\n",
        "        i = 'gas logs'\n",
        "      elif i == 'double sink': #?\n",
        "        i = 'two way'\n",
        "      elif i == 'in living area': \n",
        "        i = 'living room'\n",
        "      elif i == 'fireplace in master bedroom':\n",
        "        i = 'master bedroom'\n",
        "      elif i == 'master':\n",
        "        i = 'master bedroom'\n",
        "      elif i == 'gas-burning':\n",
        "        i = 'gas'\n",
        "      elif i == '2 or more fireplaces':\n",
        "        i = '2'\n",
        "      elif i == 'gas starter fireplace':\n",
        "        i = 'gas starter'\n",
        "      elif i == 'master suite': \n",
        "        i = 'master bedroom'\n",
        "      elif i == '2 sided fireplace': \n",
        "        i = 'two way'\n",
        "      elif i == 'three or more':\n",
        "        i = '3'\n",
        "      elif i == 'electric logs':\n",
        "        i = 'electric'\n",
        "      elif i == 'electric fireplace':\n",
        "        i = 'electric'\n",
        "      elif i == 'fireplace - electric':\n",
        "        i = 'electric'\n",
        "      elif i == '4+ fireplaces':\n",
        "        i = '4'\n",
        "      elif i == 'formal dining room':\n",
        "        i = 'dining room'\n",
        "      elif i == 'double sink': \n",
        "        i = 'two way'\n",
        "      elif i == 'multi sided': \n",
        "        i = 'two way'\n",
        "      elif i == 'oven': #? \n",
        "        i = '1'\n",
        "      elif i == 'attached fireplace doors':\n",
        "        i = 'attached doors'\n",
        "      elif i == 'balcony access':\n",
        "        i = 'balcony'\n",
        "      elif i == 'basement - partially finished':\n",
        "        i = 'basement'\n",
        "      elif i == 'bed room':\n",
        "        i = 'bedroom'\n",
        "      elif i == 'cable tv available': \n",
        "        i = 'cable tv'\n",
        "      elif i == 'cathedral ceiling':  #?\n",
        "        i = 'cathedral'\n",
        "      elif i == 'ceiling fans':\n",
        "        i = 'ceiling fan'\n",
        "      elif i == 'central furnace': #?\n",
        "        i = 'central air'\n",
        "      elif i == 'central heat': #?\n",
        "        i = 'central air'\n",
        "      elif i == 'central vacuum': #? \n",
        "        i = 'central air'\n",
        "      elif i == 'dining room combo':\n",
        "        i = 'dining room'\n",
        "      elif i == 'dining room fireplace':\n",
        "        i = 'dining room'\n",
        "      elif i == 'exterior fireplace':\n",
        "        i = 'extras' #?\n",
        "      elif i == 'fireplace- wood':\n",
        "        i = 'wood burning'\n",
        "      elif i == 'forced warm air': \n",
        "        i = 'forced air'\n",
        "      elif i == 'fp in master br':  #?\n",
        "        i = 'master bedroom'\n",
        "      elif i == 'free standing frplc': #?\n",
        "        i = 'free standing'\n",
        "      elif i == 'freestanding': #? \n",
        "        i = 'free standing'\n",
        "      elif i == 'gas starters':\n",
        "        i = 'gas starter'\n",
        "      elif i == 'gas ventless':\n",
        "        i = 'gas unvented'\n",
        "      elif i == 'heatilater':\n",
        "        i = 'heatilator'\n",
        "      elif i == 'heatilator type system':\n",
        "        i = 'heatilator'\n",
        "      elif i == 'heating system: yes(s)': \n",
        "        i = 'heatilator'\n",
        "      elif i == 'in-law apt': \n",
        "        i = 'in-law quarters'\n",
        "      elif i == 'in-law suite': \n",
        "        i = 'in-law quarters'\n",
        "      elif i == 'insert unit':\n",
        "        i = 'insert'\n",
        "      elif i == 'kitchen - gas cooking':\n",
        "        i = 'kitchen'\n",
        "      elif i == 'kitchen fireplace':\n",
        "        i = 'kitchen'\n",
        "      elif i == 'marble fireplace':\n",
        "        i = 'marble'\n",
        "      elif i == 'master bedroom - dressing area': \n",
        "        i = 'master bedroom'\n",
        "      elif i == 'natural gas': #?\n",
        "        i = 'gas'\n",
        "      elif i == 'non-functional fireplace': \n",
        "        i = 'non-functional'\n",
        "      elif i == 'not applicable': \n",
        "        i = 'non-functional'\n",
        "      elif i == 'other (see remarks)':\n",
        "        i = 'other'\n",
        "      elif i == 'other - see remarks':\n",
        "        i = 'other'\n",
        "      elif i == 'other-see remarks':\n",
        "        i = 'other'\n",
        "      elif i == 'outdoors':\n",
        "        i = 'outdoor'\n",
        "      elif i == 'outside':\n",
        "        i = 'outdoor'\n",
        "      elif i == 'pellet stove':\n",
        "        i = 'pellet'\n",
        "      elif i == 'pre-fab':\n",
        "        i = 'prefabricated'\n",
        "      elif i == 'prefab':\n",
        "        i = 'prefabricated'\n",
        "      elif i == 'presently inoperative':\n",
        "        i = 'non-functional'\n",
        "      elif i == 'propane': #?\n",
        "        i = 'gas'\n",
        "      elif i == 'propane stove': #?\n",
        "        i = 'gas'\n",
        "      elif i == 'rec room fireplace': \n",
        "        i = 'recreation room'\n",
        "      elif i == 'see thru':   #?\n",
        "        i = 'see through'\n",
        "      elif i == 'separate dining':\n",
        "        i = 'dining room'\n",
        "      elif i == 'stone fireplace':\n",
        "        i = 'stone'\n",
        "      elif i == 'storage lockers':\n",
        "        i = 'storage'\n",
        "      elif i == 'vented gas fireplace':\n",
        "        i = 'vented gas'\n",
        "      elif i == 'walk-in closets':\n",
        "        i = 'walk-in closet'\n",
        "      elif i == 'wall mounted': #?\n",
        "        i = 'wall furnace'\n",
        "      elif i == 'window treatments': \n",
        "        i = 'window treatment'\n",
        "      elif i == 'with gas logs': \n",
        "        i = 'gas logs'\n",
        "      elif i == 'wood':\n",
        "        i = 'wood burning'\n",
        "      elif i == 'woodburning':\n",
        "        i = 'wood burning'\n",
        "      elif i == 'wood burning stove': \n",
        "        i = 'wood stove'\n",
        "      elif i == 'woodstoves': \n",
        "        i = 'wood stove'\n",
        "      elif i == 'in study': \n",
        "        i = 'study'\n",
        "\n",
        "      a.append(i)\n",
        "    return a\n",
        "\n",
        "\n",
        "def form_homeFacts_re(x):\n",
        "  x = re.sub(r': None,', ': \"None\",', x)\n",
        "  x = re.sub(r'Attch\"d', 'Attchd', x)\n",
        "  x = re.sub(r'Req\"d', 'Reqd', x)\n",
        "  x = re.sub(r'Hennen\"s', 'Hennens', x)\n",
        "  x = re.sub(r'\"closet\"', 'closet', x)\n",
        "  x = re.sub(r'Addtn\"l', 'Addtnl', x)\n",
        "  x = re.sub(r'Penske\"s', 'Penskes', x)\n",
        "  #x = x[20:-2]\n",
        "\n",
        "  return x\n"
      ]
    },
    {
      "cell_type": "markdown",
      "metadata": {
        "id": "eCe_jn9WHG_Q"
      },
      "source": [
        "# Загрузка датасета"
      ]
    },
    {
      "cell_type": "code",
      "execution_count": 7,
      "metadata": {
        "colab": {
          "base_uri": "https://localhost:8080/"
        },
        "id": "CVgRFXl6Kczm",
        "outputId": "92fda3dd-34ac-4b9f-e78e-83c7d6a04733"
      },
      "outputs": [
        {
          "output_type": "stream",
          "name": "stdout",
          "text": [
            "Mounted at /content/gdrive\n"
          ]
        }
      ],
      "source": [
        "drive.mount('/content/gdrive', force_remount=True)"
      ]
    },
    {
      "cell_type": "code",
      "execution_count": 8,
      "metadata": {
        "colab": {
          "base_uri": "https://localhost:8080/"
        },
        "id": "nheHnxx1LFdz",
        "outputId": "70b7942b-81f0-49a0-9423-bef63286420d"
      },
      "outputs": [
        {
          "output_type": "stream",
          "name": "stdout",
          "text": [
            "MyDrive\n"
          ]
        }
      ],
      "source": [
        "!ls /content/gdrive/"
      ]
    },
    {
      "cell_type": "code",
      "execution_count": 9,
      "metadata": {
        "colab": {
          "base_uri": "https://localhost:8080/"
        },
        "id": "n-zwu1XWLFlJ",
        "outputId": "379473b9-0286-4015-adbe-3b1ebc2fbb37"
      },
      "outputs": [
        {
          "output_type": "stream",
          "name": "stdout",
          "text": [
            "'Colab Notebooks'   SWOT.gsheet\t\t       'Новая таблица.gsheet'\n",
            " Colab_Notebooks    TEMNIAKOVA_08_2021.gsheet   Остальное\n",
            " datasets\t    TEMNIAKOVA_08_2021.xls     'Таблицы DataScience'\n",
            " Diplom_project    'Книги по IT'\n"
          ]
        }
      ],
      "source": [
        "!ls /content/gdrive/\"My Drive\""
      ]
    },
    {
      "cell_type": "code",
      "execution_count": 10,
      "metadata": {
        "id": "whuht7ldLS-p"
      },
      "outputs": [],
      "source": [
        "!cp /content/gdrive/'My Drive'/Diplom_project/data.csv .\n"
      ]
    },
    {
      "cell_type": "code",
      "execution_count": 11,
      "metadata": {
        "colab": {
          "base_uri": "https://localhost:8080/"
        },
        "id": "H--_9rghManp",
        "outputId": "115a759f-37de-4582-8724-86bd62f18748"
      },
      "outputs": [
        {
          "output_type": "stream",
          "name": "stdout",
          "text": [
            "data.csv  gdrive  sample_data\n"
          ]
        }
      ],
      "source": [
        "!ls"
      ]
    },
    {
      "cell_type": "code",
      "execution_count": 12,
      "metadata": {
        "id": "VTCQwqjiK5lC"
      },
      "outputs": [],
      "source": [
        "# Настройки Pandas\n",
        "# Сброс ограничений на количество выводимых рядов\n",
        "pd.set_option('display.max_rows', None)\n",
        "# Сброс ограничений на число столбцов\n",
        "pd.set_option('display.max_columns', None)"
      ]
    },
    {
      "cell_type": "code",
      "execution_count": 13,
      "metadata": {
        "id": "tkDd-axJPZwz"
      },
      "outputs": [],
      "source": [
        "df = pd.read_csv('data.csv')"
      ]
    },
    {
      "cell_type": "code",
      "execution_count": 14,
      "metadata": {
        "colab": {
          "base_uri": "https://localhost:8080/"
        },
        "id": "1_N_KshIGNcr",
        "outputId": "1a83ab71-47cb-47db-c9be-32c5f693d846"
      },
      "outputs": [
        {
          "output_type": "stream",
          "name": "stdout",
          "text": [
            "<class 'pandas.core.frame.DataFrame'>\n",
            "RangeIndex: 377185 entries, 0 to 377184\n",
            "Data columns (total 18 columns):\n",
            " #   Column        Non-Null Count   Dtype \n",
            "---  ------        --------------   ----- \n",
            " 0   status        337267 non-null  object\n",
            " 1   private pool  4181 non-null    object\n",
            " 2   propertyType  342452 non-null  object\n",
            " 3   street        377183 non-null  object\n",
            " 4   baths         270847 non-null  object\n",
            " 5   homeFacts     377185 non-null  object\n",
            " 6   fireplace     103115 non-null  object\n",
            " 7   city          377151 non-null  object\n",
            " 8   schools       377185 non-null  object\n",
            " 9   sqft          336608 non-null  object\n",
            " 10  zipcode       377185 non-null  object\n",
            " 11  beds          285903 non-null  object\n",
            " 12  state         377185 non-null  object\n",
            " 13  stories       226470 non-null  object\n",
            " 14  mls-id        24942 non-null   object\n",
            " 15  PrivatePool   40311 non-null   object\n",
            " 16  MlsId         310305 non-null  object\n",
            " 17  target        374704 non-null  object\n",
            "dtypes: object(18)\n",
            "memory usage: 51.8+ MB\n"
          ]
        }
      ],
      "source": [
        "df.info()"
      ]
    },
    {
      "cell_type": "markdown",
      "metadata": {
        "id": "GeyK08O0xdjx"
      },
      "source": [
        "# Target"
      ]
    },
    {
      "cell_type": "code",
      "execution_count": null,
      "metadata": {
        "colab": {
          "base_uri": "https://localhost:8080/"
        },
        "id": "4w2t42mgxf5P",
        "outputId": "d457fdf3-3106-40cf-8225-5374a0479b1e"
      },
      "outputs": [
        {
          "data": {
            "text/plain": [
              "False    374704\n",
              "True       2481\n",
              "Name: target, dtype: int64"
            ]
          },
          "execution_count": 14,
          "metadata": {},
          "output_type": "execute_result"
        }
      ],
      "source": [
        "# Посмотрим если в Target есть пропуски\n",
        "df['target'].isna().value_counts()"
      ]
    },
    {
      "cell_type": "code",
      "execution_count": null,
      "metadata": {
        "id": "mm2SZcXbDl1R"
      },
      "outputs": [],
      "source": [
        "# Удалим их\n",
        "#df['target'].dropna(inplace = True)\n",
        "df.dropna(subset = ['target'],inplace = True)"
      ]
    },
    {
      "cell_type": "code",
      "execution_count": null,
      "metadata": {
        "id": "okvASLViEcho"
      },
      "outputs": [],
      "source": [
        "# Ecть одно значение цены от и до суммы. обьявление аренды возьмем среднее етой цены.\n",
        "df.target = df.target.apply(lambda x: '1326' if x == '$1,215 - $1,437/mo'  else x)"
      ]
    },
    {
      "cell_type": "code",
      "execution_count": null,
      "metadata": {
        "id": "RPBGE10L1Saw"
      },
      "outputs": [],
      "source": [
        "# Убираем все знаки.\n",
        "df.target = df.target.str.replace(r'\\D+', '', regex=True)"
      ]
    },
    {
      "cell_type": "code",
      "execution_count": null,
      "metadata": {
        "id": "oEbfMiNWFVq8"
      },
      "outputs": [],
      "source": [
        "# Приведем все значения к float \n",
        "df.target = df.target.astype(float)"
      ]
    },
    {
      "cell_type": "markdown",
      "metadata": {
        "id": "hlOootLP5sjZ"
      },
      "source": [
        "# Столбец 'status'"
      ]
    },
    {
      "cell_type": "code",
      "execution_count": null,
      "metadata": {
        "id": "zCfJaEA3-Ski"
      },
      "outputs": [],
      "source": [
        "df['status'] = df['status'].str.lower()"
      ]
    },
    {
      "cell_type": "code",
      "execution_count": null,
      "metadata": {
        "id": "NVHcL6ezGOIx"
      },
      "outputs": [],
      "source": [
        "# Создадим список из столбца status\n",
        "status_list = df['status'].unique().tolist()"
      ]
    },
    {
      "cell_type": "code",
      "execution_count": null,
      "metadata": {
        "id": "Tgw_AGw7BWn5"
      },
      "outputs": [],
      "source": [
        "# Функция для изменнения строк\n",
        "def form_status(x):\n",
        "  x = re.sub('foreclosure', 'for sale', x)\n",
        "  x = re.sub('pending', 'for sale', x)\n",
        "  x = re.sub('auction', 'for sale', x)\n",
        "  x = re.sub('contract', 'for sale', x)\n",
        "  x = re.sub('coming', 'for sale', x)\n",
        "  x = re.sub('closed', 'for sale', x)\n",
        "  x = re.sub('foreclosed', 'for sale', x)\n",
        "  x = re.sub('price change', 'for sale', x)\n",
        "  x = re.sub('back', 'for sale', x)\n",
        "  x = re.sub('continue show', 'for sale', x)\n",
        "  x = re.sub('listing', 'for sale', x)\n",
        "  x = re.sub('accepting', 'for sale', x)\n",
        "  x = re.sub('activated', 'for sale', x)\n",
        "  x = re.sub('lease/purchase', 'for sale', x)\n",
        "  x = re.sub('sold', 'active', x)\n",
        "  x = re.sub('recently sold', 'active', x)\n",
        "  x = re.sub('active - auction', 'for sale', x)\n",
        "\n",
        "\n",
        "  return x"
      ]
    },
    {
      "cell_type": "code",
      "execution_count": null,
      "metadata": {
        "id": "jUPpR88YBXGZ"
      },
      "outputs": [],
      "source": [
        "# Заполним пропуски строками nan\n",
        "df['status'].fillna('nan', inplace = True)\n",
        "df.status = df.status.apply(form_status)"
      ]
    },
    {
      "cell_type": "code",
      "execution_count": null,
      "metadata": {
        "id": "4CwrNPoA9ZSa"
      },
      "outputs": [],
      "source": [
        "# Выделим строки с ключевыми словами\n",
        "nan = df.status.str.extract(r'(nan)')\n",
        "active = df.status.str.extract('(active)')\n",
        "for_sale = df.status.str.extract('(for sale)')\n",
        "for_rent = df.status.str.extract('(for rent)')\n",
        "new = df.status.str.extract('(new)')\n"
      ]
    },
    {
      "cell_type": "code",
      "execution_count": null,
      "metadata": {
        "id": "YfWda1r3Hv9R"
      },
      "outputs": [],
      "source": [
        "# Выделим соеденим результат в один столбец.\n",
        "status = nan.where(active.isnull(), active)\n",
        "status = status.where(for_sale.isnull(), for_sale)\n",
        "status = status.where(for_rent.isnull(), for_rent)\n",
        "status = status.where(new.isnull(), new)"
      ]
    },
    {
      "cell_type": "code",
      "execution_count": null,
      "metadata": {
        "id": "QLqV526rJCNI"
      },
      "outputs": [],
      "source": [
        "df.status = status"
      ]
    },
    {
      "cell_type": "code",
      "execution_count": null,
      "metadata": {
        "colab": {
          "base_uri": "https://localhost:8080/"
        },
        "id": "DT5K-2EBHXl5",
        "outputId": "0ce176e3-b7d9-457f-d1c4-56b8288404eb"
      },
      "outputs": [
        {
          "data": {
            "text/plain": [
              "for sale    220552\n",
              "active      105750\n",
              "nan          39504\n",
              "new           6149\n",
              "for rent       412\n",
              "Name: status, dtype: int64"
            ]
          },
          "execution_count": 26,
          "metadata": {},
          "output_type": "execute_result"
        }
      ],
      "source": [
        "df.status.value_counts()"
      ]
    },
    {
      "cell_type": "code",
      "execution_count": null,
      "metadata": {
        "colab": {
          "base_uri": "https://localhost:8080/"
        },
        "id": "mOrmCmm1EluC",
        "outputId": "63a514a7-5c01-4d57-b838-0d470c888e69"
      },
      "outputs": [
        {
          "data": {
            "text/plain": [
              "374704"
            ]
          },
          "execution_count": 27,
          "metadata": {},
          "output_type": "execute_result"
        }
      ],
      "source": [
        "len(df.status)"
      ]
    },
    {
      "cell_type": "code",
      "execution_count": null,
      "metadata": {
        "colab": {
          "base_uri": "https://localhost:8080/"
        },
        "id": "Fl82-ks9FcnE",
        "outputId": "bc5c1ad5-da14-4c32-c947-0e782a3b465f"
      },
      "outputs": [
        {
          "data": {
            "text/plain": [
              "False    372367\n",
              "True       2337\n",
              "Name: status, dtype: int64"
            ]
          },
          "execution_count": 28,
          "metadata": {},
          "output_type": "execute_result"
        }
      ],
      "source": [
        "df.status.isna().value_counts()"
      ]
    },
    {
      "cell_type": "code",
      "execution_count": null,
      "metadata": {
        "id": "bkjuehUS9ZYr"
      },
      "outputs": [],
      "source": [
        "# Выделим строки с пропусками опять заполняем значением 'nan'\n",
        "df['status'].fillna('nan', inplace = True)"
      ]
    },
    {
      "cell_type": "code",
      "execution_count": null,
      "metadata": {
        "colab": {
          "base_uri": "https://localhost:8080/"
        },
        "id": "3cUDrpg69T_8",
        "outputId": "0979e825-b0c3-4935-895f-bf232d3c5700"
      },
      "outputs": [
        {
          "data": {
            "text/plain": [
              "374704"
            ]
          },
          "execution_count": 30,
          "metadata": {},
          "output_type": "execute_result"
        }
      ],
      "source": [
        "len(df.status)"
      ]
    },
    {
      "cell_type": "markdown",
      "metadata": {
        "id": "QtvKM2GedvoE"
      },
      "source": [
        "# Столбцы MlsId и mls-id"
      ]
    },
    {
      "cell_type": "code",
      "execution_count": null,
      "metadata": {
        "id": "mmBxlG6Rdt-j"
      },
      "outputs": [],
      "source": [
        "# Столбцы MlsId и mls-id это айдишники обьявлений удаляем.\n",
        "df.drop(['mls-id','MlsId'], axis = 1, inplace = True)"
      ]
    },
    {
      "cell_type": "markdown",
      "metadata": {
        "id": "IprFF8cH55lJ"
      },
      "source": [
        "# Столбец 'private pool'"
      ]
    },
    {
      "cell_type": "code",
      "execution_count": null,
      "metadata": {
        "colab": {
          "base_uri": "https://localhost:8080/"
        },
        "id": "odJs75w918F4",
        "outputId": "1db7f493-a321-4881-f4b8-d36139075fdf"
      },
      "outputs": [
        {
          "name": "stdout",
          "output_type": "stream",
          "text": [
            "Количество классов\n",
            "Yes    4151\n",
            "Name: private pool, dtype: int64\n",
            "Количество пропусков\n",
            "yes    28687\n",
            "Yes    11434\n",
            "Name: PrivatePool, dtype: int64\n"
          ]
        }
      ],
      "source": [
        "# Посмотрим на признак 'private pool' \n",
        "print('Количество классов')\n",
        "print(df['private pool'].value_counts())\n",
        "print('Количество пропусков')\n",
        "print(df['PrivatePool'].value_counts())"
      ]
    },
    {
      "cell_type": "code",
      "execution_count": null,
      "metadata": {
        "id": "ivuOrM3uJRO0"
      },
      "outputs": [],
      "source": [
        "df['PrivatePool'] = pd.concat([df['private pool'].dropna(), df['PrivatePool'].dropna()]).reindex_like(df)"
      ]
    },
    {
      "cell_type": "code",
      "execution_count": null,
      "metadata": {
        "colab": {
          "base_uri": "https://localhost:8080/"
        },
        "id": "seSeTtWDJ6a9",
        "outputId": "bc52461f-7a1b-4e2f-895e-ae4bc05d4cf3"
      },
      "outputs": [
        {
          "data": {
            "text/plain": [
              "yes    28687\n",
              "Yes    15585\n",
              "Name: PrivatePool, dtype: int64"
            ]
          },
          "execution_count": 34,
          "metadata": {},
          "output_type": "execute_result"
        }
      ],
      "source": [
        "df['PrivatePool'].value_counts()"
      ]
    },
    {
      "cell_type": "code",
      "execution_count": null,
      "metadata": {
        "id": "24cyLOHeKBLX"
      },
      "outputs": [],
      "source": [
        "df['PrivatePool'] = df['PrivatePool'].str.lower()"
      ]
    },
    {
      "cell_type": "code",
      "execution_count": null,
      "metadata": {
        "id": "_u-06TnF6LMv"
      },
      "outputs": [],
      "source": [
        "# Основная часть данных это пропуски зделаем из этого столбца бинарный признак\n",
        "df['PrivatePool'] = df['PrivatePool'].apply(lambda x: 1 if x == 'yes' else 0)"
      ]
    },
    {
      "cell_type": "code",
      "execution_count": null,
      "metadata": {
        "colab": {
          "base_uri": "https://localhost:8080/"
        },
        "id": "UxndY_o0I_Qc",
        "outputId": "9fefe970-642e-416b-d1ee-0dead089259a"
      },
      "outputs": [
        {
          "data": {
            "text/plain": [
              "0    330432\n",
              "1     44272\n",
              "Name: PrivatePool, dtype: int64"
            ]
          },
          "execution_count": 37,
          "metadata": {},
          "output_type": "execute_result"
        }
      ],
      "source": [
        "df['PrivatePool'].value_counts()"
      ]
    },
    {
      "cell_type": "code",
      "execution_count": null,
      "metadata": {
        "id": "TucQMfl1LQ1X"
      },
      "outputs": [],
      "source": [
        "df.drop(['private pool'], inplace = True, axis = 1)"
      ]
    },
    {
      "cell_type": "markdown",
      "metadata": {
        "id": "8IF5VYga8UXX"
      },
      "source": [
        "# Столбец 'propertyType' - dummy"
      ]
    },
    {
      "cell_type": "markdown",
      "metadata": {
        "id": "XkkY5_WeqdLD"
      },
      "source": [
        "### До dummy"
      ]
    },
    {
      "cell_type": "code",
      "execution_count": null,
      "metadata": {
        "colab": {
          "base_uri": "https://localhost:8080/"
        },
        "id": "RCL3Q7Ul8ms_",
        "outputId": "89dea634-ef9c-4e13-eacd-92fe108ab09b"
      },
      "outputs": [
        {
          "name": "stdout",
          "output_type": "stream",
          "text": [
            "single-family home                                                                                                                   91376\n",
            "Single Family                                                                                                                        61888\n",
            "Single Family Home                                                                                                                   31725\n",
            "condo                                                                                                                                25878\n",
            "lot/land                                                                                                                             20532\n",
            "Condo                                                                                                                                16494\n",
            "townhouse                                                                                                                            11443\n",
            "Land                                                                                                                                 10933\n",
            "multi-family                                                                                                                          7874\n",
            "Condo/Townhome/Row Home/Co-Op                                                                                                         7701\n",
            "Townhouse                                                                                                                             6909\n",
            "Traditional                                                                                                                           5912\n",
            "coop                                                                                                                                  3265\n",
            "Multi Family                                                                                                                          2772\n",
            "High Rise                                                                                                                             1823\n",
            "Ranch                                                                                                                                 1781\n",
            "Detached, One Story                                                                                                                   1614\n",
            "mobile/manufactured                                                                                                                   1613\n",
            "Single Detached, Traditional                                                                                                          1581\n",
            "Contemporary                                                                                                                          1556\n",
            "Multi-Family Home                                                                                                                     1501\n",
            "1 Story                                                                                                                               1234\n",
            "Colonial                                                                                                                              1204\n",
            "Mobile / Manufactured                                                                                                                 1056\n",
            "Contemporary/Modern                                                                                                                   1000\n",
            "2 Stories                                                                                                                              911\n",
            "Mfd/Mobile Home                                                                                                                        791\n",
            "Single Detached                                                                                                                        751\n",
            "Detached, Two Story                                                                                                                    638\n",
            "One Story                                                                                                                              592\n",
            "Transitional                                                                                                                           560\n",
            "Cooperative                                                                                                                            533\n",
            "Florida                                                                                                                                530\n",
            "Apartment                                                                                                                              529\n",
            "Bungalow                                                                                                                               442\n",
            "Farms/Ranches                                                                                                                          371\n",
            "Two Story                                                                                                                              312\n",
            "Garden Home                                                                                                                            305\n",
            "Cape Cod                                                                                                                               281\n",
            "2 Story                                                                                                                                281\n",
            "2 Stories, Traditional                                                                                                                 280\n",
            "Spanish/Mediterranean                                                                                                                  272\n",
            "apartment                                                                                                                              269\n",
            "Other Style                                                                                                                            249\n",
            "1 Story, Traditional                                                                                                                   237\n",
            "Other                                                                                                                                  231\n",
            "Condo/Townhome, Traditional                                                                                                            225\n",
            "Craftsman                                                                                                                              201\n",
            "Contemporary/Modern, Traditional                                                                                                       200\n",
            "Condo/Townhome                                                                                                                         183\n",
            "Condo/Townhome, Contemporary/Modern                                                                                                    180\n",
            "SingleFamilyResidence                                                                                                                  179\n",
            "Single Detached, Contemporary/Modern                                                                                                   176\n",
            "Multiple Occupancy                                                                                                                     145\n",
            "Ranch, Traditional                                                                                                                     133\n",
            "Mediterranean                                                                                                                          130\n",
            "2 Stories, Contemporary                                                                                                                128\n",
            "Traditional, Transitional                                                                                                              126\n",
            "                                                                                                                                       124\n",
            "Custom                                                                                                                                 119\n",
            "Cluster Home                                                                                                                           118\n",
            "Federal                                                                                                                                115\n",
            "Urban Contemporary                                                                                                                     113\n",
            "Split-Level                                                                                                                            110\n",
            "Victorian                                                                                                                              102\n",
            "Condominium (Single Level), Contemporary                                                                                               101\n",
            "Other (See Remarks)                                                                                                                    101\n",
            "Condominium (Single Level)                                                                                                              99\n",
            "1 Story, Contemporary                                                                                                                   96\n",
            "Residential (<1 Acre)                                                                                                                   95\n",
            "Single Detached, Ranch                                                                                                                  91\n",
            "Low-Rise (1-3 Stories)                                                                                                                  90\n",
            "Miscellaneous                                                                                                                           88\n",
            "Ranch, One Story                                                                                                                        86\n",
            "Detached                                                                                                                                81\n",
            "Detached, Ranch, One Story                                                                                                              81\n",
            "Townhouse, Modern                                                                                                                       80\n",
            "Tri-Level                                                                                                                               77\n",
            "Key West                                                                                                                                72\n",
            "Spanish                                                                                                                                 72\n",
            "Penthouse                                                                                                                               70\n",
            "Condo/Unit                                                                                                                              70\n",
            "Detached, Two Story, Spanish/Mediterranean                                                                                              67\n",
            "Tudor                                                                                                                                   66\n",
            "Bungalow, Cape Cod                                                                                                                      66\n",
            "Cottage                                                                                                                                 62\n",
            "Duplex                                                                                                                                  61\n",
            "Fourplex                                                                                                                                60\n",
            "Split Level                                                                                                                             60\n",
            "1 Story with Basement                                                                                                                   60\n",
            "Single Detached, Craftsman                                                                                                              59\n",
            "A-Frame                                                                                                                                 58\n",
            "Condominium                                                                                                                             56\n",
            "Detached, One Story, Spanish/Mediterranean                                                                                              53\n",
            "Straight Thru                                                                                                                           52\n",
            "High Rise, Penthouse                                                                                                                    51\n",
            "Single Detached, Other (See Remarks)                                                                                                    48\n",
            "Mid-Century Modern                                                                                                                      48\n",
            "1 Story, Ranch                                                                                                                          46\n",
            "Florida, Ranch                                                                                                                          46\n",
            "Santa Barbara/Tuscan                                                                                                                    42\n",
            "Single Detached, Ranch, Traditional                                                                                                     41\n",
            "Rancher                                                                                                                                 41\n",
            "Custom, Florida                                                                                                                         40\n",
            "Multiplex                                                                                                                               40\n",
            "Mediterranean, Traditional                                                                                                              40\n",
            "Other Style, Traditional                                                                                                                40\n",
            "Farmhouse                                                                                                                               40\n",
            "Colonial, Traditional                                                                                                                   38\n",
            "French                                                                                                                                  38\n",
            "High Rise, Split-Level                                                                                                                  38\n",
            "Single Detached, Contemporary/Modern, Traditional                                                                                       38\n",
            "High-Rise (8+ Stories)                                                                                                                  38\n",
            "Co-op                                                                                                                                   37\n",
            "1 Story, Historic/Older                                                                                                                 37\n",
            "English                                                                                                                                 35\n",
            "2 Stories with Basement                                                                                                                 34\n",
            "2 Stories, Mediterranean                                                                                                                32\n",
            "Detached, Ranch                                                                                                                         31\n",
            "Single Detached, Mid-Century Modern                                                                                                     30\n",
            "Bi-Level                                                                                                                                30\n",
            "unknown                                                                                                                                 30\n",
            "French, Traditional                                                                                                                     29\n",
            "Georgian                                                                                                                                29\n",
            "Mid-Rise                                                                                                                                27\n",
            "Single Detached, Tudor                                                                                                                  27\n",
            "Florida, Traditional                                                                                                                    26\n",
            "European                                                                                                                                25\n",
            "Contemporary, Florida                                                                                                                   25\n",
            "Contemporary, Modernist                                                                                                                 24\n",
            "Condominium (Single Level), Modern                                                                                                      24\n",
            "Modern                                                                                                                                  24\n",
            "Contemporary/Modern, Mediterranean                                                                                                      24\n",
            "Attached or 1/2 Duplex, Contemporary/Modern                                                                                             24\n",
            "Elevated                                                                                                                                23\n",
            "Condo/Townhome, Hi-Rise, Contemporary/Modern                                                                                            22\n",
            "Beaux Arts                                                                                                                              22\n",
            "One Story, Spanish/Mediterranean                                                                                                        22\n",
            "Condo/Townhome, Contemporary/Modern, Traditional                                                                                        22\n",
            "Multi-Family                                                                                                                            21\n",
            "Condo/Townhome, Hi-Rise, Traditional                                                                                                    21\n",
            "Single Detached, A-Frame                                                                                                                21\n",
            "Coach/Carriage                                                                                                                          21\n",
            "Split Level, Traditional                                                                                                                21\n",
            "Attached or 1/2 Duplex, Traditional                                                                                                     21\n",
            "Cape                                                                                                                                    20\n",
            "Residential (1+ Acre)                                                                                                                   20\n",
            "Townhouse, Contemporary                                                                                                                 20\n",
            "French Provincial                                                                                                                       19\n",
            "Two Story, Spanish/Mediterranean                                                                                                        19\n",
            "Modernist                                                                                                                               19\n",
            "High Rise, Ranch                                                                                                                        19\n",
            "Attached                                                                                                                                19\n",
            "Condominium (Single Level), Traditional                                                                                                 18\n",
            "Condo/Townhome, Other (See Remarks)                                                                                                     18\n",
            "Garden Apartment                                                                                                                        18\n",
            "Single Detached, Mediterranean                                                                                                          18\n",
            "Cluster Home, Garden Home                                                                                                               17\n",
            "Contemporary, Traditional                                                                                                               17\n",
            "Raised Ranch                                                                                                                            17\n",
            "Craftsman, Transitional                                                                                                                 17\n",
            "Contemporary, Custom                                                                                                                    17\n",
            "Historical                                                                                                                              17\n",
            "Contemporary, Ranch                                                                                                                     17\n",
            "Commercial/Industrial                                                                                                                   17\n",
            "Farm House                                                                                                                              17\n",
            "2 Stories, Contemporary, Traditional                                                                                                    16\n",
            "Art Deco                                                                                                                                16\n",
            "Attached, Ranch                                                                                                                         16\n",
            "Manufactured House, Ranch, One Story                                                                                                    16\n",
            "2 Stories, Historic/Older                                                                                                               16\n",
            "Loft                                                                                                                                    16\n",
            "Multi-Level, Modern                                                                                                                     16\n",
            "Garden/Zero Lot Line, Single Detached, Traditional                                                                                      15\n",
            "Less Than 4 Floors                                                                                                                      15\n",
            "1 Story, Ranch, Traditional                                                                                                             15\n",
            "2 Stories, Texas Hill Country                                                                                                           15\n",
            "Custom, Elevated                                                                                                                        15\n",
            "Mid-Rise (4-7 Stories)                                                                                                                  15\n",
            "Georgian, Traditional                                                                                                                   15\n",
            "Charleston                                                                                                                              15\n",
            "Multi-Level                                                                                                                             15\n",
            "Split-Entry                                                                                                                             15\n",
            "Detached, Spanish/Mediterranean                                                                                                         15\n",
            "Contemporary, Modernist, Transitional                                                                                                   14\n",
            "Contemporary/Modern, Other Style                                                                                                        14\n",
            "Mountain Contemporary                                                                                                                   14\n",
            "3+ Stories                                                                                                                              14\n",
            "Single Detached, French                                                                                                                 14\n",
            "Manufactured House, Manufactured Home                                                                                                   14\n",
            "1 Story with Basement, Craftsman                                                                                                        13\n",
            "Detached, Patio Home, Two Story                                                                                                         13\n",
            "Craftsman, Traditional                                                                                                                  13\n",
            "1 Story, Mediterranean                                                                                                                  13\n",
            "3+ Stories, Contemporary                                                                                                                13\n",
            "Colonial, Contemporary/Modern                                                                                                           13\n",
            "English, Traditional                                                                                                                    13\n",
            "Attached, End Unit                                                                                                                      13\n",
            "Single Detached, Craftsman, Traditional                                                                                                 13\n",
            "Manufactured House, Ranch, One Story, Manufactured Home                                                                                 13\n",
            "Garden Home, High Rise                                                                                                                  13\n",
            "2 Story, Craftsman                                                                                                                      13\n",
            "Elevated, Key West                                                                                                                      12\n",
            "Coastal                                                                                                                                 12\n",
            "1 Story, Craftsman                                                                                                                      12\n",
            "High-Rise                                                                                                                               12\n",
            "Multi Generational, Traditional                                                                                                         12\n",
            "Bungalow, Craftsman                                                                                                                     12\n",
            "Florida, Spanish/Mediterranean                                                                                                          12\n",
            "Single Detached, Contemporary/Modern, Mid-Century Modern                                                                                12\n",
            "Condo/Townhome, Hi-Rise                                                                                                                 12\n",
            "Garden/Zero Lot Line, Traditional                                                                                                       12\n",
            "Garden/Zero Lot Line, Single Detached, Contemporary/Modern                                                                              12\n",
            "Townhome Style                                                                                                                          12\n",
            "1 Story, Texas Hill Country                                                                                                             12\n",
            "Bungalow, Traditional                                                                                                                   11\n",
            "High Ranch                                                                                                                              11\n",
            "Cluster Home, Split-Level                                                                                                               11\n",
            "Bilevel                                                                                                                                 11\n",
            "Flat                                                                                                                                    11\n",
            "Store & Dwelling                                                                                                                        11\n",
            "Contemporary/Modern, Other Style, Traditional                                                                                           11\n",
            "Farm/Ranch                                                                                                                              11\n",
            "Bungalow, Ranch                                                                                                                         11\n",
            "10+ Units                                                                                                                               11\n",
            "Traditional, Victorian                                                                                                                  11\n",
            "Contemporary/Modern, Split Level                                                                                                        11\n",
            "Condominium (2 Levels)                                                                                                                  11\n",
            "Ranch, Transitional                                                                                                                     10\n",
            "Condo/Townhome, Mediterranean                                                                                                           10\n",
            "Florida, Key West                                                                                                                       10\n",
            "YES                                                                                                                                     10\n",
            "Courtyard                                                                                                                               10\n",
            "Contemporary, Modern                                                                                                                    10\n",
            "Garden Home, Split-Level                                                                                                                10\n",
            "Contemporary/Modern, Ranch                                                                                                              10\n",
            "Territorial/Santa Fe                                                                                                                    10\n",
            "1 Story, Other (See Remarks)                                                                                                            10\n",
            "Patio                                                                                                                                   10\n",
            "1 1/2 Story with Basement                                                                                                               10\n",
            "Attached, End Unit, Ranch                                                                                                               10\n",
            "1 Story, Historic/Older, Traditional                                                                                                     9\n",
            "Detached, Manufactured Home, One Story                                                                                                   9\n",
            "2 Stories with Basement, Craftsman                                                                                                       9\n",
            "Colonial, Tudor                                                                                                                          9\n",
            "Contemporary/Modern, French                                                                                                              9\n",
            "Contemporary, Condo/Unit                                                                                                                 9\n",
            "Triplex                                                                                                                                  9\n",
            "Two Story, Low Rise                                                                                                                      9\n",
            "Single Detached, Colonial                                                                                                                9\n",
            "2 Story, Traditional                                                                                                                     9\n",
            "Cabin                                                                                                                                    9\n",
            "Detached, Two Story, Split-Level                                                                                                         9\n",
            "4+ Floors                                                                                                                                9\n",
            "Hi Ranch                                                                                                                                 8\n",
            "Split                                                                                                                                    8\n",
            "2 Story, Contemporary                                                                                                                    8\n",
            "Historical/Conservation District, Single Detached, Craftsman                                                                             8\n",
            "Spanish, Traditional                                                                                                                     8\n",
            "Historical/Conservation District, Single Detached, Tudor                                                                                 8\n",
            "Custom, Spanish/Mediterranean                                                                                                            8\n",
            "Detached, Tri-Level                                                                                                                      8\n",
            "Single Detached, Mid-Century Modern, Ranch                                                                                               8\n",
            "Contemporary, Townhouse                                                                                                                  8\n",
            "2 Stories, Traditional, Texas Hill Country                                                                                               8\n",
            "Detached, Split-Level                                                                                                                    8\n",
            "Single Wide                                                                                                                              8\n",
            "Cape Cod, Colonial                                                                                                                       8\n",
            "Townhouse, Northwestern Contemporary                                                                                                     8\n",
            "Attached or 1/2 Duplex                                                                                                                   8\n",
            "Single Detached, French, Traditional                                                                                                     8\n",
            "Farm House, Modernist                                                                                                                    7\n",
            "1 Story with Basement, Contemporary                                                                                                      7\n",
            "Townhouse, Townhouse                                                                                                                     7\n",
            "1 Story with Basement, Northwestern Contemporary                                                                                         7\n",
            "Custom, Elevated, Key West                                                                                                               7\n",
            "Low Rise                                                                                                                                 7\n",
            "Split (3 Level)                                                                                                                          7\n",
            "Cluster Home, Ranch                                                                                                                      7\n",
            "Townhouse, Traditional                                                                                                                   7\n",
            "2 Stories with Basement, Modern                                                                                                          7\n",
            "Single Detached, Other (See Remarks), Traditional                                                                                        7\n",
            "Single Detached, Mid-Century Modern, Traditional                                                                                         7\n",
            "Bungalow, Contemporary                                                                                                                   7\n",
            "4-Plex                                                                                                                                   7\n",
            "Detached, One Story, Split-Level                                                                                                         7\n",
            "High Rise, Multiplex, Ranch                                                                                                              7\n",
            "1 Story/Ranch                                                                                                                            7\n",
            "2 Stories, Spanish                                                                                                                       7\n",
            "Contemporary/Modern, French, Other Style, Traditional                                                                                    7\n",
            "1 1/2 Story with Basement, Craftsman                                                                                                     7\n",
            "Townhouse, Craftsman                                                                                                                     7\n",
            "Detached, Manufactured Home                                                                                                              6\n",
            "Detached, Patio Home, One Story                                                                                                          6\n",
            "Single Detached, Traditional, Tudor                                                                                                      6\n",
            "High Rise, Spanish/Mediterranean                                                                                                         6\n",
            "Detached, Duplex                                                                                                                         6\n",
            "Condo/Townhome, Contemporary/Modern, Loft                                                                                                6\n",
            "Condo/Townhome, Mediterranean, Traditional                                                                                               6\n",
            "Coastal Modern                                                                                                                           6\n",
            "Detached, One Story, Two Story                                                                                                           6\n",
            "Farmhouse/National Folk                                                                                                                  6\n",
            "2 Story, Northwestern Contemporary                                                                                                       6\n",
            "End Unit, Townhouse                                                                                                                      6\n",
            "1 Story, Contemporary, Traditional                                                                                                       6\n",
            "3 Story                                                                                                                                  6\n",
            "1 Story, Spanish                                                                                                                         6\n",
            "Loft/Balcony                                                                                                                             6\n",
            "Manufactured Home, Mobile Home, Ranch                                                                                                    6\n",
            "Elevated, Florida, Key West                                                                                                              6\n",
            "2 Stories with Basement, Tudor                                                                                                           6\n",
            "AirLite                                                                                                                                  6\n",
            "Condo/Townhome, Mid-Century Modern                                                                                                       6\n",
            "1 Story with Basement, Traditional                                                                                                       6\n",
            "Contemporary/Modern, Ranch, Traditional                                                                                                  6\n",
            "Single Detached, Prairie                                                                                                                 6\n",
            "Bungalow, Florida                                                                                                                        6\n",
            "Side-by-Side                                                                                                                             6\n",
            "Colonial, Victorian                                                                                                                      6\n",
            "Custom, Florida, Ranch                                                                                                                   6\n",
            "Bilevel, Contemporary                                                                                                                    5\n",
            "Contemporary, Florida, Ranch                                                                                                             5\n",
            "Quad Level                                                                                                                               5\n",
            "Condo/Townhome, Hi-Rise, Contemporary/Modern, Traditional                                                                                5\n",
            "Condo/Townhome, Tudor                                                                                                                    5\n",
            "1 Story, Contemporary, Ranch                                                                                                             5\n",
            "High Rise, Multiplex                                                                                                                     5\n",
            "Garden Home, Spanish/Mediterranean                                                                                                       5\n",
            "French Province                                                                                                                          5\n",
            "Elevated, Florida                                                                                                                        5\n",
            "Condo/Townhome, Loft                                                                                                                     5\n",
            "Lake House, Single Detached, Traditional                                                                                                 5\n",
            "Manufactured Single-Wide                                                                                                                 5\n",
            "Manufactured House, Traditional, Manufactured Home                                                                                       5\n",
            "1 Story, Ranch, Traditional, Texas Hill Country                                                                                          5\n",
            "5-9 Units                                                                                                                                5\n",
            "Split (5+ Level)                                                                                                                         5\n",
            "Custom, Traditional                                                                                                                      5\n",
            "One Story, Duplex                                                                                                                        5\n",
            "1 1/2 Story                                                                                                                              5\n",
            "2 Stories, Contemporary, Texas Hill Country                                                                                              5\n",
            "Contemporary, Spanish/Mediterranean                                                                                                      5\n",
            "Contemporary/Modern, Split Level, Traditional                                                                                            5\n",
            "Tudor/Provincial                                                                                                                         5\n",
            "Condominium (3+ Levels)                                                                                                                  5\n",
            "Less Than 4 Floors, Contemporary                                                                                                         5\n",
            "Condo/Townhome, Contemporary/Modern, Mid-Century Modern                                                                                  5\n",
            "Contemporary, Transitional                                                                                                               5\n",
            "Contemporary/Modern, High Rise                                                                                                           5\n",
            "Spanish/Mediterranean, Traditional                                                                                                       5\n",
            "2 Story, Modern                                                                                                                          5\n",
            "Penthouse, Split-Level                                                                                                                   5\n",
            "1 Story, Historic/Older, Craftsman                                                                                                       5\n",
            "Arts & Crafts                                                                                                                            5\n",
            "Two Story, Split-Level                                                                                                                   5\n",
            "Split Foyer                                                                                                                              5\n",
            "Detached, Ranch, Two Story                                                                                                               5\n",
            "Contemporary, Elevated                                                                                                                   5\n",
            "Contemporary, Mid-Century Modern                                                                                                         4\n",
            "2 Stories, Colonial                                                                                                                      4\n",
            "2 Stories with Basement, Contemporary                                                                                                    4\n",
            "Historical/Conservation District, Craftsman                                                                                              4\n",
            "Garden Home, Tri-Level                                                                                                                   4\n",
            "Cluster Home, High Rise                                                                                                                  4\n",
            "Ranch, Two Story                                                                                                                         4\n",
            "Condo/Townhome, Hi-Rise, Resort Property, Vacation Home, Contemporary/Modern, Other (See Remarks)                                        4\n",
            "2 Stories, Split Level                                                                                                                   4\n",
            "2 Stories, Other (See Remarks)                                                                                                           4\n",
            "Bungalow, Historical                                                                                                                     4\n",
            "Split-Level, Tri-Level                                                                                                                   4\n",
            "Hi-Rise                                                                                                                                  4\n",
            "Split Level, Townhouse                                                                                                                   4\n",
            "2 Stories, Split Level, Traditional                                                                                                      4\n",
            "Condo/Townhome, Hi-Rise, Contemporary/Modern, Loft                                                                                       4\n",
            "Single Detached, Contemporary/Modern, Other (See Remarks)                                                                                4\n",
            "End Unit                                                                                                                                 4\n",
            "Contemporary/Modern, English                                                                                                             4\n",
            "Craftsman, Other                                                                                                                         4\n",
            "1 Story, Ranch, Texas Hill Country                                                                                                       4\n",
            "Step Ranch                                                                                                                               4\n",
            "Mediterranean, Spanish                                                                                                                   4\n",
            "Cluster Home, Colonial                                                                                                                   4\n",
            "Manufactured Home, One Story                                                                                                             4\n",
            "Farm/Ranch House, Ranch                                                                                                                  4\n",
            "Other Style, Ranch                                                                                                                       4\n",
            "2 Stories, Spanish, Mediterranean                                                                                                        4\n",
            "Contemporary/Modern, French, Traditional                                                                                                 4\n",
            "Contemporary, Ranch, Traditional                                                                                                         4\n",
            "Historical/Conservation District, Single Detached, Traditional                                                                           4\n",
            "Contemporary, Spanish                                                                                                                    4\n",
            "Contemporary, Loft                                                                                                                       4\n",
            "Multi-Level, Craftsman                                                                                                                   4\n",
            "Condominium (Single Level), Other (See Remarks)                                                                                          4\n",
            "Colonial, Contemporary                                                                                                                   4\n",
            "Other Style, Ranch, Traditional                                                                                                          4\n",
            "3+ Stories, Historic/Older                                                                                                               4\n",
            "Multi-Level, Northwestern Contemporary                                                                                                   4\n",
            "2 Story, Other (See Remarks)                                                                                                             4\n",
            "Mid-Century Modern, Traditional                                                                                                          4\n",
            "Tri-Level, Craftsman                                                                                                                     4\n",
            "Ranch, Spanish                                                                                                                           4\n",
            "One Story, Split-Level                                                                                                                   4\n",
            "1 Story, Split Level                                                                                                                     4\n",
            "1 Story, Traditional, Texas Hill Country                                                                                                 4\n",
            "Mid-Century Modern, Ranch                                                                                                                4\n",
            "Split (4 Level)                                                                                                                          4\n",
            "Single Detached, Mediterranean, Traditional                                                                                              4\n",
            "Craftsman, Ranch, Transitional                                                                                                           3\n",
            "Custom, Elevated, Spanish/Mediterranean                                                                                                  3\n",
            "Condominium (3+ Levels), Contemporary                                                                                                    3\n",
            "Ranch, Traditional, Transitional                                                                                                         3\n",
            "Studio                                                                                                                                   3\n",
            "Federal, Contemporary                                                                                                                    3\n",
            "Condo/Townhome, French                                                                                                                   3\n",
            "Colonial, Center Hall                                                                                                                    3\n",
            "Courtyard, Townhouse                                                                                                                     3\n",
            "French, Other Style, Traditional                                                                                                         3\n",
            "Cape, Contemporary                                                                                                                       3\n",
            "Custom, Other                                                                                                                            3\n",
            "Single Detached, A-Frame, Traditional                                                                                                    3\n",
            "1 Story, Historic/Older, Traditional, Craftsman                                                                                          3\n",
            "Single Detached, Contemporary/Modern, Mediterranean                                                                                      3\n",
            "Bungalow, Key West                                                                                                                       3\n",
            "Colonial, Custom                                                                                                                         3\n",
            "Contemporary, Split Level                                                                                                                3\n",
            "Florida, Ranch, Traditional                                                                                                              3\n",
            "Carriage House                                                                                                                           3\n",
            "Villa                                                                                                                                    3\n",
            "Bungalow, Ranch, Traditional                                                                                                             3\n",
            "New Englander                                                                                                                            3\n",
            "4+ Floors, Contemporary                                                                                                                  3\n",
            "Single Detached, Contemporary/Modern, Mid-Century Modern, Traditional                                                                    3\n",
            "Single Detached, Mid-Century Modern, Ranch, Traditional                                                                                  3\n",
            "Hi-Rise, Traditional                                                                                                                     3\n",
            "2 Stories with Basement, Traditional                                                                                                     3\n",
            "A-Frame, Traditional                                                                                                                     3\n",
            "Contemporary, High Rise                                                                                                                  3\n",
            "Multi-Level, New Englander                                                                                                               3\n",
            "Bungalow, Craftsman, Historical                                                                                                          3\n",
            "2 Stories, Ranch                                                                                                                         3\n",
            "Contemporary, Federal                                                                                                                    3\n",
            "Attached or 1/2 Duplex, Contemporary/Modern, Traditional                                                                                 3\n",
            "1 Story, Traditional, Other (See Remarks)                                                                                                3\n",
            "Contemporary, Courtyard                                                                                                                  3\n",
            "Attached or 1/2 Duplex, Condo/Townhome, Contemporary/Modern                                                                              3\n",
            "2 Stories, Spanish, Historic/Older                                                                                                       3\n",
            "Coach/Carriage, Cluster Home                                                                                                             3\n",
            "Contemporary, Elevated, Florida                                                                                                          3\n",
            "Modernist, Transitional                                                                                                                  3\n",
            "Condo/Townhome, Colonial                                                                                                                 3\n",
            "Attached, Ranch, Side by Side                                                                                                            3\n",
            "Bungalow, Cape Cod, Colonial                                                                                                             3\n",
            "Single Detached, Early American, Traditional                                                                                             3\n",
            "Farm House, Ranch                                                                                                                        3\n",
            "Split-Entry, Traditional                                                                                                                 3\n",
            "Townhouse, Attached/Row                                                                                                                  3\n",
            "Single Detached, Split Level                                                                                                             3\n",
            "Houseboat                                                                                                                                3\n",
            "Hi-Rise, Contemporary/Modern                                                                                                             3\n",
            "Colonial, Transitional                                                                                                                   3\n",
            "Multi-Level, Contemporary                                                                                                                3\n",
            "Condominium (Single Level), Craftsman                                                                                                    3\n",
            "Split-Entry, Northwestern Contemporary                                                                                                   3\n",
            "Condo/Townhome, Hi-Rise, Resort Property, Vacation Home, Contemporary/Modern                                                             3\n",
            "Colonial, Georgian                                                                                                                       3\n",
            "Manufactured Home                                                                                                                        3\n",
            "Conventional                                                                                                                             3\n",
            "Contemporary, Other                                                                                                                      3\n",
            "Multi-Level, Colonial                                                                                                                    3\n",
            "Condo/Townhome, Hi-Rise, Other (See Remarks)                                                                                             3\n",
            "Arts & Crafts, Bungalow                                                                                                                  3\n",
            "Contemporary, Converted Dwelling                                                                                                         3\n",
            "Texas Hill Country                                                                                                                       3\n",
            "Craftsman, Ranch                                                                                                                         3\n",
            "Single Detached, Early American                                                                                                          3\n",
            "Multi Generational                                                                                                                       3\n",
            "Tri-Level, Modern                                                                                                                        3\n",
            "2 Stories, Historic/Older, Traditional                                                                                                   3\n",
            "Historic/Older                                                                                                                           3\n",
            "Multiplex, Ranch                                                                                                                         3\n",
            "Attached or 1/2 Duplex, Other (See Remarks)                                                                                              3\n",
            "Coastal Beach Home                                                                                                                       3\n",
            "Custom, Elevated, Florida                                                                                                                3\n",
            "Single Detached, English                                                                                                                 3\n",
            "Less Than 4 Floors, Ranch                                                                                                                3\n",
            "2 Stories, Contemporary, Mediterranean                                                                                                   3\n",
            "Attached or 1/2 Duplex, Mediterranean                                                                                                    3\n",
            "Victorian/Federal                                                                                                                        2\n",
            "2 Stories, Contemporary, Traditional, Texas Hill Country                                                                                 2\n",
            "Attached, Townhouse                                                                                                                      2\n",
            "Modern, Transitional                                                                                                                     2\n",
            "Condo/Townhome, Contemporary/Modern, French                                                                                              2\n",
            "Modern, Traditional                                                                                                                      2\n",
            "End Unit, Ranch                                                                                                                          2\n",
            "Cluster Home, Garden Home, Split-Level                                                                                                   2\n",
            "Contemporary/Modern, Spanish                                                                                                             2\n",
            "European, Farmhouse                                                                                                                      2\n",
            "1 Story, Contemporary, Texas Hill Country                                                                                                2\n",
            "Condo/Townhome, Garden/Zero Lot Line, Traditional                                                                                        2\n",
            "Tri-Level, Contemporary                                                                                                                  2\n",
            "Custom, Florida, Spanish/Mediterranean                                                                                                   2\n",
            "Attached or 1/2 Duplex, A-Frame, Contemporary/Modern, Traditional                                                                        2\n",
            "Craftsman, Bungalow                                                                                                                      2\n",
            "Condo/Townhome, Split Level, Traditional                                                                                                 2\n",
            "Patio Home, One Story                                                                                                                    2\n",
            "Florida, Other                                                                                                                           2\n",
            "1 Story, Ranch, Historic/Older                                                                                                           2\n",
            "Carriage                                                                                                                                 2\n",
            "Modular/Prefab, Manufactured Home, Mobile Home                                                                                           2\n",
            "1 Story, Manufactured Home - Single Wide                                                                                                 2\n",
            "1 Story with Basement, Cape Cod                                                                                                          2\n",
            "Cluster Home, Tri-Level                                                                                                                  2\n",
            "Condo/Townhome, Hi-Rise, Mid-Century Modern                                                                                              2\n",
            "1 1/2 Story, Craftsman                                                                                                                   2\n",
            "Bungalow, Mid-Century Modern                                                                                                             2\n",
            "Federal, Colonial                                                                                                                        2\n",
            "Hill Country                                                                                                                             2\n",
            "Custom, Ranch                                                                                                                            2\n",
            "2 Stories, Contemporary, Craftsman                                                                                                       2\n",
            "1 Story with Basement, Modern                                                                                                            2\n",
            "1 Story, Contemporary, Ranch, Traditional                                                                                                2\n",
            "Coastal, Traditional                                                                                                                     2\n",
            "Condo/Townhome, Hi-Rise, Loft                                                                                                            2\n",
            "Colonial, French, Traditional                                                                                                            2\n",
            "Elevated, Spanish/Mediterranean                                                                                                          2\n",
            "Contemporary, Craftsman                                                                                                                  2\n",
            "Contemporary, Custom, Elevated, Florida                                                                                                  2\n",
            "Houseboat, Northwestern Contemporary                                                                                                     2\n",
            "French, Mediterranean                                                                                                                    2\n",
            "Single Detached, Mediterranean, Spanish                                                                                                  2\n",
            "Arts & Crafts, Craftsman                                                                                                                 2\n",
            "Patio Home, Two Story                                                                                                                    2\n",
            "Custom, Other, Spanish/Mediterranean                                                                                                     2\n",
            "Single Detached, Contemporary/Modern, Ranch                                                                                              2\n",
            "Colonial, Ranch                                                                                                                          2\n",
            "Designated Historical Home, Single Detached, Craftsman                                                                                   2\n",
            "2 Stories, Colonial, Ranch                                                                                                               2\n",
            "Bungalow, Colonial                                                                                                                       2\n",
            "American 4-Square                                                                                                                        2\n",
            "Contemporary, Modern Architecture                                                                                                        2\n",
            "Bungalow, Multi Generational                                                                                                             2\n",
            "Condo/Townhome, Hi-Rise, Mediterranean                                                                                                   2\n",
            "Old World                                                                                                                                2\n",
            "Manufactured Double-Wide                                                                                                                 2\n",
            "Attached or 1/2 Duplex, Condo/Townhome                                                                                                   2\n",
            "Contemporary, Loft with Bedrooms                                                                                                         2\n",
            "1 Story with Basement, Spanish/Southwestern                                                                                              2\n",
            "2 Stories, Historic/Older, Craftsman                                                                                                     2\n",
            "Colonial, Other (See Remarks)                                                                                                            2\n",
            "1 1/2 Story with Basement, Cape Cod                                                                                                      2\n",
            "Attached, Side by Side                                                                                                                   2\n",
            "1 Story, Ranch, Craftsman                                                                                                                2\n",
            "Charleston, Transitional                                                                                                                 2\n",
            "High Rise, Penthouse, Tri-Level                                                                                                          2\n",
            "Modern, Ranch                                                                                                                            2\n",
            "Single Detached, Craftsman, Early American                                                                                               2\n",
            "Ranch, Spanish/Mediterranean                                                                                                             2\n",
            "Attached, Attached Duplex, End Unit                                                                                                      2\n",
            "Attached, End Unit, Ranch, Side by Side                                                                                                  2\n",
            "1 Story, Spanish, Mediterranean                                                                                                          2\n",
            "Traditional, Transitional, Williamsburg                                                                                                  2\n",
            "Arts & Crafts, Traditional                                                                                                               2\n",
            "Log                                                                                                                                      2\n",
            "French Province, Traditional                                                                                                             2\n",
            "Single Detached, Craftsman, Early American, Traditional                                                                                  2\n",
            "Colonial, Historical                                                                                                                     2\n",
            "Rustic Contemporary                                                                                                                      2\n",
            "Detached, Two Story, Tri-Level                                                                                                           2\n",
            "Colonial, Craftsman                                                                                                                      2\n",
            "Denver Square                                                                                                                            2\n",
            "Farm/Ranch House                                                                                                                         2\n",
            "Attached or 1/2 Duplex, Condo/Townhome, Colonial, English, Traditional                                                                   2\n",
            "Multi Generational, Ranch                                                                                                                2\n",
            "Split Level, Other (See Remarks)                                                                                                         2\n",
            "Traditional, Zero-Lot Line                                                                                                               2\n",
            "Dwelling w/Separate Living Area                                                                                                          2\n",
            "Condo/Townhome, Contemporary/Modern, Spanish                                                                                             2\n",
            "Florida, Historical                                                                                                                      2\n",
            "Single Detached, Contemporary/Modern, Tudor                                                                                              2\n",
            "Contemporary, Loft, Loft with Bedrooms                                                                                                   2\n",
            "Mediterranean, Other Style, Spanish                                                                                                      2\n",
            "Condo/Townhome, Spanish, Split Level                                                                                                     2\n",
            "1 Story, Cabin                                                                                                                           2\n",
            "Bungalow, Craftsman, Cottage                                                                                                             2\n",
            "Single Detached, English, Traditional                                                                                                    2\n",
            "Contemporary/Modern, Mediterranean, Spanish                                                                                              2\n",
            "Contemporary, Straight Thru                                                                                                              2\n",
            "2 Stories, Spanish, Historic/Older, Mediterranean                                                                                        2\n",
            "Attached Duplex, Colonial, End Unit                                                                                                      2\n",
            "Other, Duplex                                                                                                                            2\n",
            "Post and Beam                                                                                                                            2\n",
            "Manufactured House, Coach/Carriage, Manufactured Home                                                                                    2\n",
            "3+ Stories, Traditional                                                                                                                  2\n",
            "Split Level, Ranch                                                                                                                       2\n",
            "Attached or 1/2 Duplex, A-Frame, Contemporary/Modern, French, Traditional                                                                2\n",
            "Bungalow, Cape Cod, Ranch                                                                                                                2\n",
            "Penthouse, Spanish/Mediterranean                                                                                                         2\n",
            "Courtyard, Key West, Spanish/Mediterranean                                                                                               2\n",
            "Single-Wide Mobile With Land                                                                                                             2\n",
            "Condo/Townhome, Contemporary/Modern, Other (See Remarks)                                                                                 2\n",
            "Farmhouse, Modern                                                                                                                        2\n",
            "Florida, Patio, Ranch                                                                                                                    2\n",
            "Single Detached, Split Level, Traditional                                                                                                2\n",
            "2 Stories, Spanish, Traditional                                                                                                          2\n",
            "Bungalow, Spanish/Mediterranean                                                                                                          2\n",
            "2-Story                                                                                                                                  2\n",
            "Attached, Quads, Ranch                                                                                                                   2\n",
            "Single Detached, Contemporary/Modern, Split Level                                                                                        2\n",
            "Contemporary/Modern, Multiplex                                                                                                           2\n",
            "Bi-Level, Split-Level                                                                                                                    2\n",
            "Traditional, Loft with Bedrooms                                                                                                          2\n",
            "Contemporary/Modern, Other Style, Ranch, Traditional                                                                                     2\n",
            "Contemporary, Elevated, Key West                                                                                                         2\n",
            "Craftsman, Traditional, Transitional                                                                                                     2\n",
            "Traditional, Williamsburg                                                                                                                2\n",
            "Single Detached, Colonial, Traditional                                                                                                   2\n",
            "Cape, Other Style                                                                                                                        2\n",
            "Other, Patio                                                                                                                             2\n",
            "Trinity                                                                                                                                  2\n",
            "Patio, Traditional                                                                                                                       2\n",
            "2 Stories with Basement, Northwestern Contemporary                                                                                       2\n",
            "Bungalow, Historical, Traditional                                                                                                        2\n",
            "Less Than 4 Floors, Old Spanish                                                                                                          2\n",
            "Florida, Other, Spanish/Mediterranean                                                                                                    2\n",
            "Traditional, Contemporary                                                                                                                2\n",
            "2 Stories, Contemporary, Spanish, Traditional, Mediterranean                                                                             2\n",
            "Garden/Zero Lot Line, Single Detached                                                                                                    2\n",
            "2 Stories, Historic/Older, Traditional, Texas Hill Country                                                                               2\n",
            "Contemporary, Flat, Transitional                                                                                                         2\n",
            "A-Frame, Contemporary                                                                                                                    2\n",
            "2 Stories with Basement, Cape Cod                                                                                                        2\n",
            "Craftsman, Florida                                                                                                                       2\n",
            "Farmhouse/National Folk, Contemporary, Craftsman                                                                                         2\n",
            "Mediterranean, Other Style                                                                                                               2\n",
            "Other Arch (See Remarks)                                                                                                                 2\n",
            "Traditional, Federal                                                                                                                     2\n",
            "Old Style                                                                                                                                2\n",
            "3+ Stories, Split Level                                                                                                                  2\n",
            "Cape Cod, Traditional                                                                                                                    2\n",
            "Condo/Townhome, Mid-Century Modern, Traditional                                                                                          2\n",
            "Single Detached, Contemporary/Modern, Craftsman                                                                                          2\n",
            "One Level Unit                                                                                                                           2\n",
            "Rustic                                                                                                                                   2\n",
            "1 1/2 Story, Contemporary                                                                                                                2\n",
            "French, Other Style                                                                                                                      2\n",
            "Tri-Level, Traditional                                                                                                                   2\n",
            "Colonial, Farmhouse                                                                                                                      2\n",
            "Log Home                                                                                                                                 2\n",
            "Co-op, Contemporary                                                                                                                      2\n",
            "Loft with Bedrooms                                                                                                                       2\n",
            "Elevated, Other                                                                                                                          2\n",
            "Condo/Townhome, Split Level                                                                                                              2\n",
            "Tri-Level, Northwestern Contemporary                                                                                                     2\n",
            "Attached Duplex                                                                                                                          2\n",
            "Condominium (2 Levels), Contemporary                                                                                                     2\n",
            "Detached, One Story, Duplex                                                                                                              2\n",
            "Colonial, French                                                                                                                         2\n",
            "4+ Floors, Courtyard                                                                                                                     2\n",
            "Craftsman, Warehouse                                                                                                                     2\n",
            "Camp                                                                                                                                     2\n",
            "Bilevel, Traditional                                                                                                                     2\n",
            "Condominium (Single Level), Spanish/Southwestern                                                                                         2\n",
            "Colonial, Split-Level                                                                                                                    2\n",
            "Contemporary, Custom, Florida                                                                                                            2\n",
            "Two Story, Duplex                                                                                                                        1\n",
            "Craftsman, Patio                                                                                                                         1\n",
            "Cluster Home, Penthouse                                                                                                                  1\n",
            "Carriage, Contemporary, Ranch, Walkout Lower Level, Craftsman                                                                            1\n",
            "French, Tudor                                                                                                                            1\n",
            "European, French Provincial                                                                                                              1\n",
            "Multi Generational, Ranch, Tudor                                                                                                         1\n",
            "Contemporary, Custom, Ranch, Spanish/Mediterranean, Traditional                                                                          1\n",
            "2 Stories, Contemporary, Tudor, Historic/Older                                                                                           1\n",
            "Mediterranean, Other Style, Traditional                                                                                                  1\n",
            "Bungalow, Farm House, Ranch, Traditional, Cottage                                                                                        1\n",
            "1 1/2 Story, Traditional                                                                                                                 1\n",
            "Contemporary, Spanish, Santa Barbara/Tuscan, Territorial/Santa Fe                                                                        1\n",
            "Single Detached, Single-Wide Mobile With Land                                                                                            1\n",
            "Custom, Florida, Key West                                                                                                                1\n",
            "Craftsman, Colonial, Traditional                                                                                                         1\n",
            "Single Detached, Mediterranean, Ranch, Southwestern                                                                                      1\n",
            "Garden/Zero Lot Line, Single Detached, Victorian                                                                                         1\n",
            "Contemporary, Custom, Traditional                                                                                                        1\n",
            "Cape Cod Shingle                                                                                                                         1\n",
            "Florida, Patio                                                                                                                           1\n",
            "Contemporary, Colonial                                                                                                                   1\n",
            "Mid-Century                                                                                                                              1\n",
            "1 Story, Northwestern Contemporary                                                                                                       1\n",
            "1 Story, Contemporary, Colonial, Traditional                                                                                             1\n",
            "Single Detached, Underground, Traditional                                                                                                1\n",
            "Condo/Townhome, A-Frame, Traditional                                                                                                     1\n",
            "Detached, Patio Home                                                                                                                     1\n",
            "Contemporary, Bungalow                                                                                                                   1\n",
            "Courtyard, Florida                                                                                                                       1\n",
            "Bilevel, Condo/Unit                                                                                                                      1\n",
            "Garden/Zero Lot Line, Single Detached, Craftsman                                                                                         1\n",
            "Colonial, Spanish/Mediterranean                                                                                                          1\n",
            "Colonial, Contemporary/Modern, English, Other Style, Traditional                                                                         1\n",
            "Custom Home                                                                                                                              1\n",
            "1 Story, Contemporary, Traditional, Texas Hill Country                                                                                   1\n",
            "Condo/Townhome, Mediterranean, Spanish                                                                                                   1\n",
            "Cape Cod, Victorian/Federal                                                                                                              1\n",
            "Attached, Attached Duplex, End Unit, Ranch, Side by Side                                                                                 1\n",
            "Walk-Out Ranch                                                                                                                           1\n",
            "Forest Garden Home, Ranch                                                                                                                1\n",
            "2 Stories, Split Level, Contemporary                                                                                                     1\n",
            "Historic                                                                                                                                 1\n",
            "Contemporary, Traditional, Transitional                                                                                                  1\n",
            "Garden/Zero Lot Line, Single Detached, Contemporary/Modern, Mid-Century Modern                                                           1\n",
            "Contemporary, Zero-Lot Line                                                                                                              1\n",
            "Cape Cod, Florida, Ranch, Traditional                                                                                                    1\n",
            "Courtyard, Florida, Patio                                                                                                                1\n",
            "Townhouse, Tri-Level                                                                                                                     1\n",
            "Manor                                                                                                                                    1\n",
            "1 Story, Spanish, Traditional, Mediterranean                                                                                             1\n",
            "Cottage, English                                                                                                                         1\n",
            "Condo/Townhome, Hi-Rise, Mediterranean, Traditional                                                                                      1\n",
            "2 Stories, Spanish, Historic/Older, Traditional                                                                                          1\n",
            "Single Detached, Contemporary/Modern, Oriental, Traditional                                                                              1\n",
            "Single Detached, French, Other (See Remarks)                                                                                             1\n",
            "Condo/Townhome, Resort Property, Vacation Home, Contemporary/Modern                                                                      1\n",
            "Single Wide MH                                                                                                                           1\n",
            "1 Story, Manufactured Home - Double Wide                                                                                                 1\n",
            "Co-op, Traditional                                                                                                                       1\n",
            "1 Story, Spanish, Historic/Older                                                                                                         1\n",
            "1 Story, Contemporary, Ranch, Traditional, Texas Hill Country                                                                            1\n",
            "Attached Duplex, End Unit, Ranch                                                                                                         1\n",
            "Condo/Townhome, English, Traditional                                                                                                     1\n",
            "Single Detached, Early American, Other (See Remarks), Traditional                                                                        1\n",
            "2 Stories, Traditional, Mediterranean                                                                                                    1\n",
            "Bungalow, Contemporary, Craftsman, Custom, Florida, Historical, Other, Traditional                                                       1\n",
            "Cape, Cottage                                                                                                                            1\n",
            "Condo/Townhome, Spanish                                                                                                                  1\n",
            "Attached, End Unit, Lower Level                                                                                                          1\n",
            "Mediterranean, Villa                                                                                                                     1\n",
            "Designated Historical Home, Historical/Conservation District, Single Detached, Traditional                                               1\n",
            "3+ Stories, Contemporary, Colonial, Traditional                                                                                          1\n",
            "Garden/Zero Lot Line, Craftsman                                                                                                          1\n",
            "Contemporary/Modern, Ranch, Split Level                                                                                                  1\n",
            "Mediterranean, Other Style, Spanish, Traditional                                                                                         1\n",
            "Multi-Level, Traditional                                                                                                                 1\n",
            "Townhouse, Zero-Lot Line                                                                                                                 1\n",
            "Mid Rise                                                                                                                                 1\n",
            "Expanded Ranch                                                                                                                           1\n",
            "2 Stories, Colonial, Traditional, Mediterranean                                                                                          1\n",
            "English, French                                                                                                                          1\n",
            "Contemporary, Detached                                                                                                                   1\n",
            "Colonial, Other                                                                                                                          1\n",
            "Single Detached, Contemporary/Modern, English, French                                                                                    1\n",
            "Historical/Conservation District, Single Detached, Early American                                                                        1\n",
            "1 1/2 Story, Northwestern Contemporary                                                                                                   1\n",
            "Townhouse-Interior                                                                                                                       1\n",
            "Multi-Level, Other (See Remarks)                                                                                                         1\n",
            "Manufactured Home - Double Wide                                                                                                          1\n",
            "2 Stories, Contemporary, Traditional, Mediterranean                                                                                      1\n",
            "Contemporary/Modern, Mediterranean, Traditional                                                                                          1\n",
            "Condo/Townhome, Contemporary/Modern, Mediterranean                                                                                       1\n",
            "Loft, Split Level, Townhouse, Traditional                                                                                                1\n",
            "Mid-Level                                                                                                                                1\n",
            "Bungalow, Mid-Century Modern, Ranch                                                                                                      1\n",
            "Arts & Crafts, Bungalow, Tudor, Cottage                                                                                                  1\n",
            "Contemporary, Key West                                                                                                                   1\n",
            "Less Than 4 Floors, Other Arch (See Remarks), Traditional                                                                                1\n",
            "Georgian, Colonial                                                                                                                       1\n",
            "French, Ranch, Traditional                                                                                                               1\n",
            "Colonial, Converted Dwelling                                                                                                             1\n",
            "Condo/Townhome, Split Level, Traditional, Tudor                                                                                          1\n",
            "A-Frame, Cape Cod                                                                                                                        1\n",
            "Elevated, Traditional                                                                                                                    1\n",
            "Contemporary, Modern, Rustic                                                                                                             1\n",
            "Colonial, Cottage, Tudor                                                                                                                 1\n",
            "Attached, End Unit, Lower Level, Ranch                                                                                                   1\n",
            "Resort Property                                                                                                                          1\n",
            "A-Frame, Craftsman, Dwelling w/Separate Living Area                                                                                      1\n",
            "Rustic, Spanish, Traditional                                                                                                             1\n",
            "Multi Generational, Ranch, Traditional                                                                                                   1\n",
            "Apartment, Condo/Townhome                                                                                                                1\n",
            "1 Story, Contemporary, Spanish, Traditional, Mediterranean                                                                               1\n",
            "1 1/2 Story, Modern                                                                                                                      1\n",
            "Single-Wide Mobile With Land, Traditional                                                                                                1\n",
            "Contemporary, Loft with Bedrooms, Loft                                                                                                   1\n",
            "French, Transitional                                                                                                                     1\n",
            "Contemporary, Texas Hill Country                                                                                                         1\n",
            "Georgian Revival, Traditional                                                                                                            1\n",
            "Ranch, Single Wide                                                                                                                       1\n",
            "Contemporary, Patio                                                                                                                      1\n",
            "COASTAL MODERN                                                                                                                           1\n",
            "Garden Home, Patio Home                                                                                                                  1\n",
            "Detached, One Story, Tri-Level                                                                                                           1\n",
            "Two Story, Tri-Level                                                                                                                     1\n",
            "Garage Storage                                                                                                                           1\n",
            "Colonial, Federal                                                                                                                        1\n",
            "Single Detached, Ranch, Southwestern, Spanish                                                                                            1\n",
            "3+ Stories, Tudor, Historic/Older, Traditional                                                                                           1\n",
            "Designated Historical Home, Colonial, Traditional, Victorian                                                                             1\n",
            "Condo/Townhome, Hi-Rise, Contemporary/Modern, Mid-Century Modern, Other (See Remarks)                                                    1\n",
            "Contemporary, Dome                                                                                                                       1\n",
            "Architectural                                                                                                                            1\n",
            "Contemporary, Multi Generational, Ranch                                                                                                  1\n",
            "Apartment, Attached or 1/2 Duplex, Condo/Townhome, Hi-Rise, Resort Property, Single Detached, Vacation Home, English, Split Level        1\n",
            "Custom, French Provincial                                                                                                                1\n",
            "French, Beaux Arts, Villa                                                                                                                1\n",
            "Bi-Level, Raised Ranch                                                                                                                   1\n",
            "Victorian, Bilevel                                                                                                                       1\n",
            "Art Deco, Straight Thru                                                                                                                  1\n",
            "French Province, Transitional                                                                                                            1\n",
            "Single Detached, Craftsman, Victorian                                                                                                    1\n",
            "Arts & Crafts, Transitional                                                                                                              1\n",
            "2 Stories, Contemporary, Traditional, Mediterranean, Texas Hill Country                                                                  1\n",
            "Condominium (2 Levels), Loft                                                                                                             1\n",
            "3+ Stories, Other (See Remarks)                                                                                                          1\n",
            "Split Level, Contemporary, Texas Hill Country                                                                                            1\n",
            "Elevated, Florida, Spanish/Mediterranean                                                                                                 1\n",
            "4+ Floors, Art Deco                                                                                                                      1\n",
            "Loft, Loft with Bedrooms, Condo/Unit                                                                                                     1\n",
            "Apartment, Condo/Townhome, Garden/Zero Lot Line                                                                                          1\n",
            "Craftsman, Contemporary, Transitional                                                                                                    1\n",
            "Cape Cod, Williamsburg, Cottage                                                                                                          1\n",
            "Cape Cod, Contemporary, Florida, Key West                                                                                                1\n",
            "A-Frame, Ranch                                                                                                                           1\n",
            "Farmhouse/National Folk, Contemporary                                                                                                    1\n",
            "Cape Cod, Craftsman, Custom                                                                                                              1\n",
            "Condo/Townhome, Hi-Rise, Historical/Conservation District, Mid-Century Modern, Traditional                                               1\n",
            "Straight Thru, Contemporary                                                                                                              1\n",
            "Colonial, Contemporary/Modern, Other Style, Traditional                                                                                  1\n",
            "Florida, Two Story                                                                                                                       1\n",
            "Colonial, Contemporary/Modern, English, French, Other Style, Traditional                                                                 1\n",
            "Attached, Attached Duplex                                                                                                                1\n",
            "1 Story, Colonial                                                                                                                        1\n",
            "Historical/Conservation District, Single Detached, Contemporary/Modern                                                                   1\n",
            "Condo/Unit, Bilevel, Converted Dwelling                                                                                                  1\n",
            "Colonial, Traditional, Transitional                                                                                                      1\n",
            "Rancher, Raised Ranch                                                                                                                    1\n",
            "Condo/Townhome, Hi-Rise, Resort Property, Contemporary/Modern                                                                            1\n",
            "Garden/Zero Lot Line, Single Detached, Contemporary/Modern, Traditional                                                                  1\n",
            "Hi-Rise, Contemporary/Modern, Traditional                                                                                                1\n",
            "Condominium (Single Level), Loft                                                                                                         1\n",
            "Ranch, Rustic                                                                                                                            1\n",
            "2 Stories, Tudor, Traditional                                                                                                            1\n",
            "Coach/Carriage, Garden Home                                                                                                              1\n",
            "Multi-Level, Victorian                                                                                                                   1\n",
            "3+ Stories, Contemporary, Traditional                                                                                                    1\n",
            "Transitional, Williamsburg                                                                                                               1\n",
            "Condo/Townhome, Hi-Rise, Contemporary/Modern, Mid-Century Modern                                                                         1\n",
            "Single Detached, Craftsman, Tudor                                                                                                        1\n",
            "Bungalow, Contemporary, Florida                                                                                                          1\n",
            "Prairie                                                                                                                                  1\n",
            "Custom, Elevated, Florida, Traditional                                                                                                   1\n",
            "Single Detached, Craftsman, Mid-Century Modern                                                                                           1\n",
            "Colonial, English, Other Style                                                                                                           1\n",
            "Attached or 1/2 Duplex, Southwestern                                                                                                     1\n",
            "Traditional, Transitional, Cottage                                                                                                       1\n",
            "Cottage/Camp                                                                                                                             1\n",
            "Condominium (2 Levels), Townhouse                                                                                                        1\n",
            "Ranch, Walkout Lower Level                                                                                                               1\n",
            "Raised Ranch, Rancher                                                                                                                    1\n",
            "Townhouse, Villa                                                                                                                         1\n",
            "Cabin/Lodge, Contemporary, Converted Barn, Cottage, Loft with Bedrooms, Log Home, Post & Beam                                            1\n",
            "Lake House, Single Detached, Tudor                                                                                                       1\n",
            "Condo/Townhome, Contemporary/Modern, Mediterranean, Split Level                                                                          1\n",
            "Single Detached, Mediterranean, Oriental, Other (See Remarks), Spanish                                                                   1\n",
            "Bungalow, Craftsman, Transitional, Cottage                                                                                               1\n",
            "Attached or 1/2 Duplex, Contemporary/Modern, Mid-Century Modern                                                                          1\n",
            "Single Detached, Mediterranean, Spanish, Traditional                                                                                     1\n",
            "Less Than 4 Floors, European                                                                                                             1\n",
            "Custom, Patio, Spanish/Mediterranean                                                                                                     1\n",
            "1 Story, Tudor, A-Frame                                                                                                                  1\n",
            "Single Detached, Contemporary/Modern, English, French, Other (See Remarks), Ranch, Traditional                                           1\n",
            "Contemporary, Victorian                                                                                                                  1\n",
            "Contemporary, Elevated, Ranch                                                                                                            1\n",
            "Bilevel, Loft with Bedrooms, Condo/Unit                                                                                                  1\n",
            "Federal, Reproduction                                                                                                                    1\n",
            "Contemporary, Elevated, Florida, Spanish/Mediterranean                                                                                   1\n",
            "Traditional, Straight Thru                                                                                                               1\n",
            "Georgian, Multi Generational                                                                                                             1\n",
            "Garden Home, Traditional                                                                                                                 1\n",
            "Less Than 4 Floors, Courtyard, Ranch                                                                                                     1\n",
            "Condominium (2 Levels), Other (See Remarks)                                                                                              1\n",
            "Warehouse                                                                                                                                1\n",
            "Less Than 4 Floors, Multi-Level, Patio Home, Townhouse                                                                                   1\n",
            "Bi-Level, Ranch                                                                                                                          1\n",
            "Single Detached, French, Mediterranean, Spanish                                                                                          1\n",
            "Lake House, Single Detached, Mediterranean                                                                                               1\n",
            "Cape Cod, Ranch                                                                                                                          1\n",
            "Townhouse, Two Story, Traditional                                                                                                        1\n",
            "Less Than 4 Floors, European, Mediterranean, Traditional                                                                                 1\n",
            "Colonial, Contemporary/Modern, Conventional                                                                                              1\n",
            "Less Than 4 Floors, Villa                                                                                                                1\n",
            "Federal, Loft                                                                                                                            1\n",
            "1 Story, Manufactured Home - Double Wide, Other (See Remarks)                                                                            1\n",
            "Mid Century Modern                                                                                                                       1\n",
            "Contemporary, Colonial, Craftsman, Raised Ranch                                                                                          1\n",
            "Traditional, 2 Stories                                                                                                                   1\n",
            "Single Detached, Oriental                                                                                                                1\n",
            "Ranch, Territorial/Santa Fe                                                                                                              1\n",
            "Contemporary, Other Style                                                                                                                1\n",
            "Less Than 4 Floors, Townhouse                                                                                                            1\n",
            "2 Stories, Colonial, Traditional                                                                                                         1\n",
            "Craftsman, Custom, Florida, Patio, Ranch                                                                                                 1\n",
            "1 Story, Ranch, Texas Hill Country, Traditional                                                                                          1\n",
            "French, Ranch                                                                                                                            1\n",
            "1 1/2 Story, Tudor                                                                                                                       1\n",
            "Attached Duplex, End Unit                                                                                                                1\n",
            "Contemporary/Modern, Ranch, Spanish                                                                                                      1\n",
            "1 Story Traditional                                                                                                                      1\n",
            "Condominium (2 Levels), Craftsman                                                                                                        1\n",
            "Condominium (3+ Levels), Studio                                                                                                          1\n",
            "1 Story, Split Level, Traditional                                                                                                        1\n",
            "Ranch, One Story, Duplex                                                                                                                 1\n",
            "Cape Cod, Custom                                                                                                                         1\n",
            "Bermuda                                                                                                                                  1\n",
            "Camp, Cottage, Ranch                                                                                                                     1\n",
            "3+ Stories, Contemporary, Ranch, Traditional                                                                                             1\n",
            "Flat, Walkout Lower Level                                                                                                                1\n",
            "Traditional, Carriage House, Victorian                                                                                                   1\n",
            "1 Story, Cape Cod                                                                                                                        1\n",
            "Dutch Provincial                                                                                                                         1\n",
            "Single Detached, Contemporary/Modern, Oriental, Ranch, Traditional                                                                       1\n",
            "Cluster Home, Split-Level, Tri-Level                                                                                                     1\n",
            "Manufactured Double-Wide, Traditional                                                                                                    1\n",
            "Condominium (3+ Levels), Traditional                                                                                                     1\n",
            "Chalet                                                                                                                                   1\n",
            "Lake House, Resort Property, Single Detached, Traditional                                                                                1\n",
            "Less Than 4 Floors, Traditional                                                                                                          1\n",
            "1 Story, Manufactured Home - Single Wide, Manufactured Home - Double Wide                                                                1\n",
            "Colonial, Georgian, Traditional                                                                                                          1\n",
            "Fairway house                                                                                                                            1\n",
            "Lake House, Mid-Century Modern                                                                                                           1\n",
            "Single Detached, Prairie, Southwestern, Traditional                                                                                      1\n",
            "Manuf/Mobile, Ranch                                                                                                                      1\n",
            "1 1/2 Story with Basement, Tudor                                                                                                         1\n",
            "Cabin, Bungalow, Rustic                                                                                                                  1\n",
            "Attached or 1/2 Duplex, Mediterranean, Traditional                                                                                       1\n",
            "Transitional, Colonial                                                                                                                   1\n",
            "Dutch Colonial                                                                                                                           1\n",
            "Split-level, Traditional                                                                                                                 1\n",
            "Bungalow, Craftsman, Custom                                                                                                              1\n",
            "Raised Ranch, Split Level                                                                                                                1\n",
            "Single Detached, A-Frame, Contemporary/Modern, Traditional                                                                               1\n",
            "Cape, Chalet                                                                                                                             1\n",
            "Single Detached, Contemporary/Modern, French                                                                                             1\n",
            "Arts & Crafts, Bungalow, Craftsman, Ranch                                                                                                1\n",
            "Moorage                                                                                                                                  1\n",
            "Less Than 4 Floors, Contemporary, Townhouse                                                                                              1\n",
            "Conversion, Rehab Needed                                                                                                                 1\n",
            "Resort Property, Single Detached, Vacation Home, Contemporary/Modern, Mediterranean                                                      1\n",
            "Condo/Townhome, Mediterranean, Other (See Remarks)                                                                                       1\n",
            "Colonial, Custom, Traditional                                                                                                            1\n",
            "Attached Duplex, Colonial, Custom                                                                                                        1\n",
            "Mediterranean, Multi-Level                                                                                                               1\n",
            "Charleston, Traditional, Transitional                                                                                                    1\n",
            "Split Level, Contemporary, Historic/Older                                                                                                1\n",
            "Courtyard, Custom, Other                                                                                                                 1\n",
            "Cape, Log                                                                                                                                1\n",
            "Dwelling with Rental                                                                                                                     1\n",
            "Historic Vintage, Multi-Family                                                                                                           1\n",
            "1 1/2 Story with Basement, Traditional                                                                                                   1\n",
            "Houseboat, Modern                                                                                                                        1\n",
            "Townhouse-End Unit                                                                                                                       1\n",
            "Queen Anne                                                                                                                               1\n",
            "Garden/Zero Lot Line, Resort Property, Single Detached, Traditional                                                                      1\n",
            "Condo/Townhome, Hi-Rise, Contemporary/Modern, Studio                                                                                     1\n",
            "Ground Floor, Studio, Walkout Lower Level                                                                                                1\n",
            "1 Story, Traditional, Mediterranean                                                                                                      1\n",
            "Colonial, Multi-Level                                                                                                                    1\n",
            "Bungalow, Florida, Ranch                                                                                                                 1\n",
            "Garden/Zero Lot Line, Traditional, Victorian                                                                                             1\n",
            "Lake House, Resort Property, Single Detached, Vacation Home, Traditional                                                                 1\n",
            "Less Than 4 Floors, Other Arch (See Remarks)                                                                                             1\n",
            "FLORIDA STYLE                                                                                                                            1\n",
            "Side-by-Side, Traditional                                                                                                                1\n",
            "Garden/Zero Lot Line, A-Frame, Ranch                                                                                                     1\n",
            "Condo/Townhome, Contemporary/Modern, Mediterranean, Spanish                                                                              1\n",
            "Craftsman, Farm House, Transitional                                                                                                      1\n",
            "Bungalow, Craftsman, Elevated, Florida                                                                                                   1\n",
            "Contemporary/Modern, French, Mediterranean                                                                                               1\n",
            "Bungalow, Contemporary, Ranch, Traditional                                                                                               1\n",
            "Custom, Florida, Traditional                                                                                                             1\n",
            "Art Deco, Mid Century                                                                                                                    1\n",
            "Cape, Saltbox                                                                                                                            1\n",
            "Condo/Townhome, Hi-Rise, Contemporary/Modern, Southwestern                                                                               1\n",
            "2 Stories, Historic/Older, Victorian                                                                                                     1\n",
            "2 Stories, Ranch, Traditional                                                                                                            1\n",
            "Colonial, Contemporary/Modern, Mediterranean, Other Style, Ranch, Spanish, Traditional                                                   1\n",
            "Other (See Remarks), Ranch                                                                                                               1\n",
            "Contemporary, Craftsman, Farmhouse/National Folk                                                                                         1\n",
            "Condo/Townhome, Mediterranean, Spanish, Split Level                                                                                      1\n",
            "Cape Cod, Traditional, Transitional                                                                                                      1\n",
            "Resort Property, Single Detached, Contemporary/Modern, Mid-Century Modern                                                                1\n",
            "Custom, Victorian                                                                                                                        1\n",
            "Single Detached, Contemporary/Modern, Craftsman, Traditional                                                                             1\n",
            "Gambrel                                                                                                                                  1\n",
            "Condo/Townhome, Southwestern                                                                                                             1\n",
            "Historical/Conservation District, Single Detached, Victorian                                                                             1\n",
            "Cluster Home, Spanish/Mediterranean                                                                                                      1\n",
            "Tuscan                                                                                                                                   1\n",
            "2 Stories, Contemporary, Ranch                                                                                                           1\n",
            "Chalet, Cottage                                                                                                                          1\n",
            "Colonial, English, Georgian, Traditional                                                                                                 1\n",
            "Coastal Two Story                                                                                                                        1\n",
            "Georgian, Other Style, Split Level                                                                                                       1\n",
            "Charleston, Craftsman                                                                                                                    1\n",
            "Contemporary, Other, Patio                                                                                                               1\n",
            "Colonial, High Rise, Ranch                                                                                                               1\n",
            "Custom, Patio                                                                                                                            1\n",
            "Rancher, Traditional                                                                                                                     1\n",
            "Traditional, Colonial, Federal                                                                                                           1\n",
            "Manufactured (Certificate Exchange)                                                                                                      1\n",
            "Split-Level, Spanish/Mediterranean                                                                                                       1\n",
            "Single Detached, Southwestern                                                                                                            1\n",
            "Split Level, Contemporary                                                                                                                1\n",
            "Colonial, Conventional                                                                                                                   1\n",
            "Condominium (3+ Levels), Modern                                                                                                          1\n",
            "Other, Ranch                                                                                                                             1\n",
            "Condo/Townhome, French, Split Level                                                                                                      1\n",
            "Bungalow, Tudor                                                                                                                          1\n",
            "Colonial, Duplex                                                                                                                         1\n",
            "Penthouse, Low Rise                                                                                                                      1\n",
            "A-Frame, Colonial                                                                                                                        1\n",
            "Texas Hill Country, Traditional                                                                                                          1\n",
            "Coastal Contemporary                                                                                                                     1\n",
            "Cabin, Cottage/Camp                                                                                                                      1\n",
            "1 Story, Split Level, Mediterranean                                                                                                      1\n",
            "Single Detached, Contemporary/Modern, Southwestern                                                                                       1\n",
            "Farmhouse, Multi-Family                                                                                                                  1\n",
            "1 Story, Tudor, Historic/Older, Traditional                                                                                              1\n",
            "Farmhouse/National Folk, Craftsman, Transitional, Colonial                                                                               1\n",
            "Condominium (3+ Levels), Townhouse                                                                                                       1\n",
            "Loft, Transitional                                                                                                                       1\n",
            "Condo/Townhome, Contemporary/Modern, Craftsman                                                                                           1\n",
            "Victorian, Craftsman                                                                                                                     1\n",
            "Coastal II, Traditional                                                                                                                  1\n",
            "2 Unit Condo                                                                                                                             1\n",
            "Bungalow, Contemporary, Craftsman, Custom                                                                                                1\n",
            "2 Story, Cabin                                                                                                                           1\n",
            "Single Detached, Vacation Home                                                                                                           1\n",
            "Other (See Remarks), Santa Barbara/Tuscan                                                                                                1\n",
            "Bungalow, Transitional                                                                                                                   1\n",
            "Other - See Remarks                                                                                                                      1\n",
            "Historical/Conservation District, Single Detached, Colonial                                                                              1\n",
            "Spanish, Spanish Colonial                                                                                                                1\n",
            "Contemporary, Courtyard, Mid-Century Modern                                                                                              1\n",
            "Contemporary, Elevated, Mid-Century Modern                                                                                               1\n",
            "Contemporary, Custom, Ranch, Traditional                                                                                                 1\n",
            "Contemporary, New Englander                                                                                                              1\n",
            "Bungalow, Craftsman, Historical, Patio                                                                                                   1\n",
            "2 Stories, Contemporary, Traditional, Craftsman                                                                                          1\n",
            "Cape Cod, Colonial, Contemporary/Modern                                                                                                  1\n",
            "Historical/Conservation District, Traditional                                                                                            1\n",
            "Craftsman, Transitional, Cottage                                                                                                         1\n",
            "Single Detached, French, Mid-Century Modern                                                                                              1\n",
            "Garden/Zero Lot Line, Contemporary/Modern                                                                                                1\n",
            "Condo/Townhome, Craftsman, Traditional                                                                                                   1\n",
            "Attached or 1/2 Duplex, French                                                                                                           1\n",
            "Contemporary/Modern, High Rise, Ranch                                                                                                    1\n",
            "Elevated, Key West, Other                                                                                                                1\n",
            "Colonial, Contemporary, Multi-Level, Other, Yurt                                                                                         1\n",
            "Cape, Other                                                                                                                              1\n",
            "Lake House, Single Detached                                                                                                              1\n",
            "Multi-Level, Two Story                                                                                                                   1\n",
            "Historical/Conservation District, Victorian                                                                                              1\n",
            "coastal                                                                                                                                  1\n",
            "1 Story, Contemporary, Ranch, Historic/Older, Traditional                                                                                1\n",
            "Contemporary, Modern, Traditional                                                                                                        1\n",
            "Historical, Traditional                                                                                                                  1\n",
            "Arts & Crafts, Bungalow, Farm House                                                                                                      1\n",
            "Contemporary, Craftsman, Farm House, Traditional                                                                                         1\n",
            "French Province, Traditional, Transitional                                                                                               1\n",
            "Single Detached, Contemporary/Modern, English, French, Mediterranean, Traditional                                                        1\n",
            "Contemporary, Mediterranean                                                                                                              1\n",
            "French, Mediterranean, Other Style                                                                                                       1\n",
            "Bungalow, Contemporary, Other, Patio, Ranch                                                                                              1\n",
            "Other, Walkout Lower Level                                                                                                               1\n",
            "Bungalow, Other                                                                                                                          1\n",
            "Florida, Ranch, One Story                                                                                                                1\n",
            "3+ Stories, Historic/Older, Traditional, Craftsman                                                                                       1\n",
            "Condo/Townhome, Vacation Home, Contemporary/Modern                                                                                       1\n",
            "Traditional, Condo/Unit                                                                                                                  1\n",
            "Historical/Conservation District, Single Detached, Contemporary/Modern, Traditional                                                      1\n",
            "Attached Duplex, Ranch                                                                                                                   1\n",
            "Condo, Other (See Remarks)                                                                                                               1\n",
            "Multi-Level, Tudor                                                                                                                       1\n",
            "3+ Stories, Spanish                                                                                                                      1\n",
            "Attached Duplex, Colonial                                                                                                                1\n",
            "Farm House, Transitional                                                                                                                 1\n",
            "Craftsman, Farm House                                                                                                                    1\n",
            "Attached, End Unit, Quads, Ranch                                                                                                         1\n",
            "CRAFTSMAN, Traditional                                                                                                                   1\n",
            "Bungalow, Craftsman, Traditional                                                                                                         1\n",
            "Designated Historical Home, Historical/Conservation District, Traditional                                                                1\n",
            "Spanish, Split Level                                                                                                                     1\n",
            "Custom, Ranch, Traditional                                                                                                               1\n",
            "Contemporary, Rustic                                                                                                                     1\n",
            "Modern Farmhouse                                                                                                                         1\n",
            "Split Level, Historic/Older                                                                                                              1\n",
            "Single Detached, Southwestern, Traditional                                                                                               1\n",
            "Farm/Ranch House, Contemporary/Modern                                                                                                    1\n",
            "Penthouse, Tri-Level                                                                                                                     1\n",
            "High Rise, Penthouse, Split-Level                                                                                                        1\n",
            "Contemporary, European                                                                                                                   1\n",
            "Old World, Ranch                                                                                                                         1\n",
            "2 Stories, Ranch, Traditional, Texas Hill Country                                                                                        1\n",
            "Condo/Townhome, Vacation Home, Contemporary/Modern, Loft, Traditional                                                                    1\n",
            "Less Than 4 Floors, Multi-Level, Townhouse                                                                                               1\n",
            "2 Stories, Tudor, Historic/Older                                                                                                         1\n",
            "Loft, Art Deco                                                                                                                           1\n",
            "Back-to-Back                                                                                                                             1\n",
            "Single Detached, Contemporary/Modern, Mediterranean, Mid-Century Modern, Other (See Remarks), Ranch, Traditional                         1\n",
            "Colonial, Triplex                                                                                                                        1\n",
            "2 Stories, Colonial, Historic/Older                                                                                                      1\n",
            "NEW BUILD 2019, Traditional                                                                                                              1\n",
            "Designated Historical Home, Single Detached, English, French, Other (See Remarks), Traditional                                           1\n",
            "Attached or 1/2 Duplex, Condo/Townhome, Contemporary/Modern, Mid-Century Modern, Split Level, Traditional                                1\n",
            "Split, 2 Story                                                                                                                           1\n",
            "Bungalow, Craftsman, Tudor                                                                                                               1\n",
            "Contemporary, Condo/Unit, Bilevel                                                                                                        1\n",
            "Condo/Townhome, Ranch                                                                                                                    1\n",
            "Less Than 4 Floors, Key West                                                                                                             1\n",
            "Arts & Crafts, Craftsman, Transitional                                                                                                   1\n",
            "Condo/Townhome, Lake House, Vacation Home, Traditional                                                                                   1\n",
            "Bungalow, Other, Victorian/Federal                                                                                                       1\n",
            "3+ Stories, Split Level, Contemporary, Ranch                                                                                             1\n",
            "Cabin/Lodge, Condo/Unit                                                                                                                  1\n",
            "Lake House                                                                                                                               1\n",
            "Camp, Cottage                                                                                                                            1\n",
            "Mobile Home                                                                                                                              1\n",
            "Patio, Ranch                                                                                                                             1\n",
            "Designated Historical Home, Single Detached, Traditional                                                                                 1\n",
            "Historic Vintage                                                                                                                         1\n",
            "Contemporary, Condo/Unit, Loft with Bedrooms                                                                                             1\n",
            "Lake House, Single Detached, Contemporary/Modern, Mid-Century Modern                                                                     1\n",
            "Double-Wide Mobile With Land                                                                                                             1\n",
            "Ranch, Other (See Remarks)                                                                                                               1\n",
            "Other, Traditional                                                                                                                       1\n",
            "Single Detached, Contemporary/Modern, Craftsman, Mediterranean, Prairie                                                                  1\n",
            "Farm House, Traditional, Transitional                                                                                                    1\n",
            "Other Arch (See Remarks), Townhouse                                                                                                      1\n",
            "English, Other Style, Traditional                                                                                                        1\n",
            "Single Detached, French, Traditional, Tudor                                                                                              1\n",
            "2 Stories, Split Level, Contemporary, Traditional                                                                                        1\n",
            "Farm House, Traditional                                                                                                                  1\n",
            "2.5 Story                                                                                                                                1\n",
            "2 Stories, Craftsman                                                                                                                     1\n",
            "Contemporary, French Provincial                                                                                                          1\n",
            "Bungalow, Craftsman, Ranch                                                                                                               1\n",
            "1 Story, Texas Hill Country, A-Frame                                                                                                     1\n",
            "Key West/Coastal                                                                                                                         1\n",
            "Traditional, Bilevel                                                                                                                     1\n",
            "2 Stories with Basement, Cabin                                                                                                           1\n",
            "Mediterranean, Townhouse                                                                                                                 1\n",
            "Ranch, Split Level                                                                                                                       1\n",
            "Bi-Level, Cape                                                                                                                           1\n",
            "Condo/Townhome, Single Detached, Split Level, Traditional                                                                                1\n",
            "Southern Plantation, Traditional                                                                                                         1\n",
            "Less Than 4 Floors, Colonial, Contemporary                                                                                               1\n",
            "Attached or 1/2 Duplex, Single Detached, A-Frame, Traditional                                                                            1\n",
            "Split Level, Tri-Level                                                                                                                   1\n",
            "Straight Thru, Federal                                                                                                                   1\n",
            "Guest Cottage                                                                                                                            1\n",
            "Cape Cod, Other (See Remarks)                                                                                                            1\n",
            "Garden/Zero Lot Line, Single Detached, Vacation Home, Mediterranean, Traditional                                                         1\n",
            "Colonial, Florida                                                                                                                        1\n",
            "Condo/Townhome, Other (See Remarks), Traditional                                                                                         1\n",
            "Single Detached, Prairie, Ranch, Traditional                                                                                             1\n",
            "Contemporary/Modern, Other Style, Split Level                                                                                            1\n",
            "Other, Patio, Traditional                                                                                                                1\n",
            "Bi-Level, Multiplex                                                                                                                      1\n",
            "Bungalow, Bi-Level                                                                                                                       1\n",
            "Contemporary, Modernist, Traditional, Transitional                                                                                       1\n",
            "1 Story, Split Level, Contemporary                                                                                                       1\n",
            "Farm/Ranch House, Single Detached, Early American                                                                                        1\n",
            "Traditional, Cottage                                                                                                                     1\n",
            "Contemporary, Florida, Traditional                                                                                                       1\n",
            "Attached, Attached Duplex, Ranch, Side by Side                                                                                           1\n",
            "2 Stories, Spanish, Traditional, Mediterranean                                                                                           1\n",
            "Charleston, Bungalow                                                                                                                     1\n",
            "Florida, Key West, Other                                                                                                                 1\n",
            "Mediterranean, Spanish, Traditional                                                                                                      1\n",
            "Contemporary, Saltbox                                                                                                                    1\n",
            "Condominium (3+ Levels), Loft                                                                                                            1\n",
            "Traditional, Texas Hill Country                                                                                                          1\n",
            "Single Detached, Victorian                                                                                                               1\n",
            "Contemporary/Modern, Mediterranean, Other Style                                                                                          1\n",
            "Single Detached, Colonial, English                                                                                                       1\n",
            "European, Tudor                                                                                                                          1\n",
            "Bungalow, Craftsman, Farm House                                                                                                          1\n",
            "2 Stories, Tudor, Victorian                                                                                                              1\n",
            "Condo/Townhome, Studio                                                                                                                   1\n",
            "Detached, Ranch, Split-Level                                                                                                             1\n",
            "2 Stories, Contemporary, Spanish, Mediterranean                                                                                          1\n",
            "Condo/Townhome, Contemporary/Modern, Loft, Traditional                                                                                   1\n",
            "Side-by-Side, Colonial                                                                                                                   1\n",
            "1 story                                                                                                                                  1\n",
            "Single Detached, A-Frame, Craftsman                                                                                                      1\n",
            "Condo/Townhome, Vacation Home, Contemporary/Modern, Early American, Traditional                                                          1\n",
            "Ranch, 1 Story                                                                                                                           1\n",
            "Charleston, Traditional                                                                                                                  1\n",
            "Contemporary, Villa                                                                                                                      1\n",
            "2 story condo                                                                                                                            1\n",
            "Courtyard, Spanish/Mediterranean                                                                                                         1\n",
            "4+ Floors, Courtyard, Traditional                                                                                                        1\n",
            "Mobile Manu - Double Wide, Ranch                                                                                                         1\n",
            "Florida, Mid-Century Modern                                                                                                              1\n",
            "Single Detached, Contemporary/Modern, Prairie, Traditional                                                                               1\n",
            "Single Detached, Mediterranean, Split Level, Traditional                                                                                 1\n",
            "Courtyard, Custom, Florida                                                                                                               1\n",
            "Single Detached, Prairie, Traditional                                                                                                    1\n",
            "1 Story, Modern                                                                                                                          1\n",
            "Ranch, One Story, Split-Level                                                                                                            1\n",
            "2 Story, Colonial                                                                                                                        1\n",
            "Loft, A-Frame                                                                                                                            1\n",
            "2 Story, Victorian                                                                                                                       1\n",
            "Single Detached, Early American, Traditional, Tudor                                                                                      1\n",
            "Farmhouse, Historic Vintage                                                                                                              1\n",
            "1 Story, Traditional, Craftsman                                                                                                          1\n",
            "Country English                                                                                                                          1\n",
            "Duplex, Townhouse                                                                                                                        1\n",
            "Less Than 4 Floors, 4+ Floors, Art Deco, Multi-Level                                                                                     1\n",
            "Antique, Colonial, Historic Vintage                                                                                                      1\n",
            "Contemporary/Modern, Ranch, One Story                                                                                                    1\n",
            "Apartment Building, Farmhouse, Other                                                                                                     1\n",
            "Historical/Conservation District, Single Detached, Early American, Traditional                                                           1\n",
            "Traditional, Colonial                                                                                                                    1\n",
            "Bi-Level, High Rise                                                                                                                      1\n",
            "Attached, End Unit, Ranch, Townhouse                                                                                                     1\n",
            "Arts & Crafts, Contemporary, Craftsman, Loft, Modernist, Transitional                                                                    1\n",
            "Historical/Conservation District                                                                                                         1\n",
            "1 Story, Contemporary, Ranch, Traditional, Mediterranean                                                                                 1\n",
            "Condo/Townhome, Designated Historical Home, Hi-Rise, Loft                                                                                1\n",
            "Cape, Multi-Level, Other Style                                                                                                           1\n",
            "Colonial, Contemporary/Modern, English, French, Traditional                                                                              1\n",
            "Ranch, Split-Level                                                                                                                       1\n",
            "2 Stories, Traditional, Other (See Remarks)                                                                                              1\n",
            "A-Frame, Arts & Crafts, Farm House                                                                                                       1\n",
            "Stilt House                                                                                                                              1\n",
            "Contemporary, Florida, Other                                                                                                             1\n",
            "Georgian, Other Style                                                                                                                    1\n",
            "Colonial, Townhouse                                                                                                                      1\n",
            "3+ Stories, Texas Hill Country                                                                                                           1\n",
            "Contemporary, Modern, Transitional, Other (See Remarks)                                                                                  1\n",
            "Condo/Unit, Contemporary, Traditional                                                                                                    1\n",
            "French, Georgian, Traditional                                                                                                            1\n",
            "Custom, Florida, Key West, Traditional                                                                                                   1\n",
            "Farm/Ranch House, Single Detached, Contemporary/Modern, Ranch                                                                            1\n",
            "Traditional, Art Deco, Beaux Arts                                                                                                        1\n",
            "Manuf/Mobile                                                                                                                             1\n",
            "Single Detached, Contemporary/Modern, Mid-Century Modern, Prairie                                                                        1\n",
            "Single Detached, Craftsman, Traditional, Tudor                                                                                           1\n",
            "Courtyard, Custom                                                                                                                        1\n",
            "Contemporary/Modern, English, French, Traditional                                                                                        1\n",
            "Loft, Traditional                                                                                                                        1\n",
            "Condo/Townhome, Contemporary/Modern, Split Level                                                                                         1\n",
            "1 Story, Contemporary, Ranch, Traditional, Craftsman                                                                                     1\n",
            "Townhouse, 2-Story                                                                                                                       1\n",
            "Bungalow, Craftsman, Transitional                                                                                                        1\n",
            "1 Story, Historic/Older, Other (See Remarks)                                                                                             1\n",
            "Condo/Townhome, Single Detached, Other (See Remarks), Traditional                                                                        1\n",
            "Mobile Home 1 Story                                                                                                                      1\n",
            "Dutch, Contemporary                                                                                                                      1\n",
            "A-Frame, Victorian/Federal                                                                                                               1\n",
            "Contemporary, Modernist, Ranch, Rustic                                                                                                   1\n",
            "Loft, Warehouse                                                                                                                          1\n",
            "1 Story, Contemporary, Traditional, Mediterranean                                                                                        1\n",
            "Manufactured House, Multi-Level, Manufactured Home                                                                                       1\n",
            "Bungalow, Craftsman, Ranch, Transitional, Cottage                                                                                        1\n",
            "30X40 building                                                                                                                           1\n",
            "Split-Entry, Craftsman                                                                                                                   1\n",
            "Custom, Florida, Other, Spanish/Mediterranean                                                                                            1\n",
            "Single Detached, Contemporary/Modern, Ranch, Traditional                                                                                 1\n",
            "Colonial, English, Traditional                                                                                                           1\n",
            "Single Detached, Contemporary/Modern, Other (See Remarks), Traditional                                                                   1\n",
            "1 Story, Spanish, Ranch, Traditional                                                                                                     1\n",
            "Condo/Townhome, Single Detached                                                                                                          1\n",
            "Contemporary/Modern, French, Mediterranean, Traditional                                                                                  1\n",
            "1 Story, Contemporary, Other (See Remarks)                                                                                               1\n",
            "Custom, Elevated, Other                                                                                                                  1\n",
            "Contemporary, Farmhouse                                                                                                                  1\n",
            "2 Stories, Traditional, Mediterranean, Texas Hill Country                                                                                1\n",
            "Bilevel, Converted Dwelling, Loft with Bedrooms, Condo/Unit                                                                              1\n",
            "Name: propertyType, dtype: int64\n"
          ]
        }
      ],
      "source": [
        "print(df['propertyType'].value_counts())"
      ]
    },
    {
      "cell_type": "code",
      "execution_count": null,
      "metadata": {
        "id": "A4Sx48CcgTH3"
      },
      "outputs": [],
      "source": [
        "# Приведем все строки к нижнему регистру\n",
        "df['propertyType'] = df['propertyType'].str.lower()"
      ]
    },
    {
      "cell_type": "code",
      "execution_count": null,
      "metadata": {
        "id": "0gY1adAj8xHf"
      },
      "outputs": [],
      "source": [
        "# Большая часть данных это просто по разному расписаные несколько категорий\n",
        "df['propertyType'] = df['propertyType'].apply(lambda x: 'single_family' if x == ('single-family home') or  (x == 'single family') or  (x == 'single family home') else x )\n",
        "df['propertyType'] = df['propertyType'].apply(lambda x: 'condo' if x == 'Condo'  else x)\n",
        "df['propertyType'] = df['propertyType'].apply(lambda x: 'land' if (x == 'Land') or (x == 'lot/land')  else x)\n",
        "df['propertyType'] = df['propertyType'].apply(lambda x: 'multi-family' if x == 'multi-family home'  else x)\n",
        "df['propertyType'] = df['propertyType'].apply(lambda x: '1 story' if x == 'one story'  else x)\n",
        "df['propertyType'] = df['propertyType'].apply(lambda x: '2 stories' if (x == '2 story') or (x == 'two story')  else x)\n",
        "df['propertyType'] = df['propertyType'].apply(lambda x: 'coop' if x == 'co-op'  else x)"
      ]
    },
    {
      "cell_type": "code",
      "execution_count": null,
      "metadata": {
        "id": "-Ut0a7M0rtKv"
      },
      "outputs": [],
      "source": [
        "# Функция для изменения строк в столбце\n",
        "def form_propertyType_s(x):\n",
        "  x = str(x)\n",
        "  x = re.sub('single', 'houses', x)\n",
        "  x = re.sub('story', 'houses', x)\n",
        "  x = re.sub('stories', 'houses', x)\n",
        "  x = re.sub('bungalow', 'houses', x)\n",
        "  x = re.sub('home', 'houses', x)\n",
        "  x = re.sub('transitional', 'houses', x)\n",
        "  x = re.sub('contemporary', 'houses', x)\n",
        "  x = re.sub('stories', 'houses', x)\n",
        "  x = re.sub('stories', 'houses', x)\n",
        "  x = re.sub('residential','houses', x)\n",
        "  x = re.sub('level','houses', x)\n",
        "  x = re.sub('custom','houses',x)\n",
        "  x = re.sub('cottage','houses',x)\n",
        "  x = re.sub('house','houses',x)\n",
        "  x = re.sub('detached','houses', x)\n",
        "  x = re.sub('stor','houses', x)\n",
        "  x = re.sub('attached','houses', x)\n",
        "  x = re.sub('residential','houses', x)\n",
        "  x = re.sub('coach','houses', x)\n",
        "\n",
        "  x = re.sub('townhome', 'townhouse', x) \n",
        "  x = re.sub(\"plex\", 'townhouse', x)\n",
        "\n",
        "  x = re.sub('high rise', 'condo', x)\n",
        "  x = re.sub('coop', 'condo', x)\n",
        "  x = re.sub('coop', 'condo', x)\n",
        "  x = re.sub('less than 4 floors','condo', x)\n",
        "  x = re.sub('unit','condo',x)\n",
        "  x = re.sub('co-op','condo', x)\n",
        "  x = re.sub('rise','condo', x)\n",
        "  x = re.sub('loft','condo', x)\n",
        "  x = re.sub('penthouse', 'apartment', x)\n",
        "  \n",
        "  x = re.sub('lot', 'land', x)\n",
        "\n",
        "  x = re.sub('multi', 'multi-family', x)\n",
        "  x = re.sub('split','multi-family', x)\n",
        "\n",
        "  x = re.sub('mediterranean','style house', x)\n",
        "  x = re.sub('cape','style house', x)\n",
        "  x = re.sub('modern','style house', x)\n",
        "  x = re.sub('craftsman','style house',x)\n",
        "  x = re.sub('victorian','style house', x)\n",
        "  x = re.sub('spanish','style house',x)\n",
        "  x = re.sub('miscellaneous','style house',x)\n",
        "  x = re.sub('colonial','style house', x)\n",
        "  x = re.sub('key west','style house',x)\n",
        "  x = re.sub('santa barbara','style house', x)\n",
        "  x = re.sub('straight','style house', x)\n",
        "  x = re.sub('french','style house', x)\n",
        "  x = re.sub('english','style house', x)\n",
        "  x = re.sub('georgian','style house', x)\n",
        "  x = re.sub('european','style house', x)\n",
        "  x = re.sub('elevated','style house', x)\n",
        "  x = re.sub('art','style house', x)\n",
        "  x = re.sub('historical','style house',x)\n",
        "  x = re.sub('frame','style house', x)\n",
        "  x = re.sub('charleston','style house', x)\n",
        "  x = re.sub('tudor','style house', x)\n",
        "  x = re.sub('florida','style house', x)\n",
        "  x = re.sub('federal','style house', x)\n",
        "  x = re.sub('ranch','style house', x)\n",
        "  x = re.sub('colonial','style house', x)\n",
        "  x = re.sub('modern','style house', x)\n",
        "  x = re.sub('contemporary','style house', x)\n",
        "\n",
        "  x = re.sub('other','other', x)\n",
        "\n",
        "  return x\n"
      ]
    },
    {
      "cell_type": "code",
      "execution_count": null,
      "metadata": {
        "id": "GptjLxMpWxVT"
      },
      "outputs": [],
      "source": [
        "# Заполним пропуски пробелом\n",
        "# Разделим строки на списки\n",
        "df['propertyType'] = df['propertyType'].fillna(' ')\n",
        "df['propertyType'] = df['propertyType'].apply(lambda x: x.replace('/',',') )\n",
        "df['propertyType'] = df['propertyType'].apply(lambda x: x.split(','))"
      ]
    },
    {
      "cell_type": "code",
      "execution_count": null,
      "metadata": {
        "id": "WgeXRnLRjI0j"
      },
      "outputs": [],
      "source": [
        "# Удаляем лишние пробелы\n",
        "df['propertyType'] = df['propertyType'].apply(form_propertyType_1)"
      ]
    },
    {
      "cell_type": "code",
      "execution_count": null,
      "metadata": {
        "id": "IU3XHv7WEPHa"
      },
      "outputs": [],
      "source": [
        "# Функция для форматирования строк в списках столбца propertyType_2\n",
        "df['propertyType'] = df['propertyType'].apply(form_propertyType_2)"
      ]
    },
    {
      "cell_type": "code",
      "execution_count": null,
      "metadata": {
        "id": "VeWzAm09APcV"
      },
      "outputs": [],
      "source": [
        "# Функция для форматирования строк в списках столбца form_propertyType_s\n",
        "df['propertyType'] = df['propertyType'].apply(form_propertyType_s)"
      ]
    },
    {
      "cell_type": "code",
      "execution_count": null,
      "metadata": {
        "id": "U_dk6PMuRPDg"
      },
      "outputs": [],
      "source": [
        "# Выделяем ключевые слова\n",
        "style_house = df.propertyType.str.extract(r'(style house)')\n",
        "multi_family = df.propertyType.str.extract('(multi-family)')\n",
        "apartment = df.propertyType.str.extract('(apartment)')\n",
        "condo = df.propertyType.str.extract('(condo)')\n",
        "houses = df.propertyType.str.extract('(houses)')"
      ]
    },
    {
      "cell_type": "code",
      "execution_count": null,
      "metadata": {
        "id": "NWHwqyd9TSln"
      },
      "outputs": [],
      "source": [
        "# Соеденяем результат в столбец\n",
        "propertyType = style_house.where(multi_family.isnull(), multi_family)\n",
        "propertyType = propertyType.where(apartment.isnull(), apartment)\n",
        "propertyType = propertyType.where(condo.isnull(), condo)\n",
        "propertyType = propertyType.where(houses.isnull(), houses)"
      ]
    },
    {
      "cell_type": "code",
      "execution_count": null,
      "metadata": {
        "id": "mlLiraecZCjs"
      },
      "outputs": [],
      "source": [
        "df['propertyType_1'] = propertyType"
      ]
    },
    {
      "cell_type": "markdown",
      "metadata": {
        "id": "skdYOmo3cxep"
      },
      "source": [
        "### dummy признаки для propertyType"
      ]
    },
    {
      "cell_type": "code",
      "execution_count": null,
      "metadata": {
        "id": "ihNm_KZEEecg"
      },
      "outputs": [],
      "source": [
        "# Создаем dummy признаки из получившихся категорий \n",
        "#property_list = list(pd.Series(quant_class(df['propertyType'])).index)\n",
        "#df_property = create_dummies(df, 'propertyType', property_list)"
      ]
    },
    {
      "cell_type": "markdown",
      "metadata": {
        "id": "ujUcd0MBJe8I"
      },
      "source": [
        "# Столбец baths\n"
      ]
    },
    {
      "cell_type": "code",
      "execution_count": null,
      "metadata": {
        "id": "ct9Y7aEXHnz4"
      },
      "outputs": [],
      "source": [
        "# Создадим функцию которая уберет все буквы.\n",
        "def del_str(x):\n",
        "  x = ''.join(i for i in x if not i.isalpha())\n",
        "  return x"
      ]
    },
    {
      "cell_type": "code",
      "execution_count": null,
      "metadata": {
        "id": "t_1RoL-1thEW"
      },
      "outputs": [],
      "source": [
        "# Заполняем пропуски пустой строкой.\n",
        "# Применяем функцию для удаления букв.\n",
        "df['baths'] = df['baths'].fillna('')\n",
        "df['baths'] = df['baths'].apply(del_str)"
      ]
    },
    {
      "cell_type": "code",
      "execution_count": null,
      "metadata": {
        "id": "nsolpqWv0645"
      },
      "outputs": [],
      "source": [
        "# Удаляем лишние знаки.\n",
        "\n",
        "df.baths = df.baths.replace(r',','.',regex=True)\n",
        "df.baths = df.baths.replace(r' ','',regex=True)\n",
        "df.baths = df.baths.replace(r'/','',regex=True)\n",
        "df.baths = df.baths.replace(r':','',regex=True)\n",
        "df.baths = df.baths.replace(r'—','',regex=True)\n",
        "df.baths = df.baths.replace(r'-','',regex=True)\n",
        "\n",
        "# У обьектов где вместо чисел только знаки или пустая строка меняем значение на nan.\n",
        "df.baths = df.baths.replace(r'\\~',np.nan,regex=True)\n",
        "df.baths = df.baths.replace(r'\\..',np.nan,regex=True)\n",
        "df.baths = df.baths.replace(r' ', np.nan,regex=True)\n",
        "df.baths = df.baths.replace(r'', np.nan,regex=True)\n"
      ]
    },
    {
      "cell_type": "code",
      "execution_count": null,
      "metadata": {
        "id": "oGlmLj4n3EWu"
      },
      "outputs": [],
      "source": [
        "# С этим плюсом немного стремно попробовыть другой способ потом\n",
        "df.baths = df.baths.replace(r'\\+',' ',regex=True)"
      ]
    },
    {
      "cell_type": "code",
      "execution_count": null,
      "metadata": {
        "id": "cVxqCd2g544n"
      },
      "outputs": [],
      "source": [
        "# Приводим строки к числовому виду\n",
        "df.baths = df.baths.astype(float)"
      ]
    },
    {
      "cell_type": "markdown",
      "metadata": {
        "id": "EhYI6BCHFbnG"
      },
      "source": [
        "# Столбец fireplace - dummy\n",
        "\n",
        "\n"
      ]
    },
    {
      "cell_type": "markdown",
      "metadata": {
        "id": "5PP9cSBnqs5B"
      },
      "source": [
        "### До dummy"
      ]
    },
    {
      "cell_type": "code",
      "execution_count": null,
      "metadata": {
        "id": "MoA6_zpgID9l"
      },
      "outputs": [],
      "source": [
        "# Для начала приведем все строки к нижнему регистру\n",
        "df['fireplace'] = df['fireplace'].str.lower()"
      ]
    },
    {
      "cell_type": "code",
      "execution_count": null,
      "metadata": {
        "id": "mu7En1-mIz4P"
      },
      "outputs": [],
      "source": [
        "# Попробуем считать, что 'yes', '1 fireplace' и 'fireplace' это 1 камин\n",
        "df['fireplace'] = df['fireplace'].apply(lambda x: x if x != 'yes' else '1' )\n",
        "df['fireplace'] = df['fireplace'].apply(lambda x: x if x != 'fireplace' else '1' )\n",
        "df['fireplace'] = df['fireplace'].apply(lambda x: x if x != '1 fireplace' else '1' )"
      ]
    },
    {
      "cell_type": "code",
      "execution_count": null,
      "metadata": {
        "id": "owZgIYRqKth9"
      },
      "outputs": [],
      "source": [
        "# 'no' заменим на 0\n",
        "df['fireplace'] = df['fireplace'].apply(lambda x: x if x != 'no' else '0' )"
      ]
    },
    {
      "cell_type": "code",
      "execution_count": null,
      "metadata": {
        "id": "MEqG0FuuM6Ev"
      },
      "outputs": [],
      "source": [
        "# Несколько подобных преобразований\n",
        "df['fireplace'] = df['fireplace'].apply(lambda x: x if x != '3+' else '3' )\n",
        "df['fireplace'] = df['fireplace'].apply(lambda x: x if x != 'gas log' else 'gas logs' )\n",
        "df['fireplace'] = df['fireplace'].apply(lambda x: x if x != 'gas fireplace' else 'gas' )\n",
        "df['fireplace'] = df['fireplace'].apply(lambda x: x if x != 'one' else '1' ) # есть комбинированые признаки!\n",
        "df['fireplace'] = df['fireplace'].apply(lambda x: x if x != 'familyrm' else 'family room' ) # есть комбинированые признаки!\n",
        "df['fireplace'] = df['fireplace'].apply(lambda x: x if x != 'in living room' else 'living room' ) # есть комбинированые признаки!\n",
        "df['fireplace'] = df['fireplace'].apply(lambda x: x if x != '# fireplaces - woodburning' else '1, wood burning' )\n",
        "df['fireplace'] = df['fireplace'].apply(lambda x: x if x != '# fireplaces - gas' else '1, gas' )\n",
        "df['fireplace'] = df['fireplace'].apply(lambda x: x if x != 'fireplaces' else '1' )\n",
        "df['fireplace'] = df['fireplace'].apply(lambda x: x if x != '# fireplaces - woodstoves' else 'woodstoves' )\n",
        "df['fireplace'] = df['fireplace'].apply(lambda x: x if x != 'gas fuel' else 'gas' )\n"
      ]
    },
    {
      "cell_type": "code",
      "execution_count": null,
      "metadata": {
        "id": "arW2ICBydR1d"
      },
      "outputs": [],
      "source": [
        "# Заполняем пропуски пробелом для обработки\n",
        "# Преобразуем строки в списки\n",
        "df['fireplace'] = df['fireplace'].fillna(' ')\n",
        "df['fireplace'] = df['fireplace'].apply(lambda x: x.replace('/',',') )\n",
        "df['fireplace'] = df['fireplace'].apply(lambda x: x.split(','))"
      ]
    },
    {
      "cell_type": "code",
      "execution_count": null,
      "metadata": {
        "id": "H2leXwQWcUM2"
      },
      "outputs": [],
      "source": [
        "# Применяем функции для обработки столбца\n",
        "df['fireplace'] = df['fireplace'].apply(form_fireplace_1)"
      ]
    },
    {
      "cell_type": "code",
      "execution_count": null,
      "metadata": {
        "id": "3MBRW26RkXJc"
      },
      "outputs": [],
      "source": [
        "# Применяем функции для обработки столбца\n",
        "df['fireplace'] = df['fireplace'].apply(form_fireplace_2)"
      ]
    },
    {
      "cell_type": "markdown",
      "metadata": {
        "id": "o3TsZ5usdMU_"
      },
      "source": [
        "### dummy признаки для fireplace"
      ]
    },
    {
      "cell_type": "code",
      "execution_count": null,
      "metadata": {
        "id": "6rk7hAFfmh8W"
      },
      "outputs": [],
      "source": [
        "# Создаем список категорий и добавляем dummy признаки\n",
        "#fireplace_list = list(pd.Series(quant_class(df['fireplace'])).index)\n",
        "#df_fireplace = create_dummies(df, 'fireplace', fireplace_list)"
      ]
    },
    {
      "cell_type": "code",
      "execution_count": null,
      "metadata": {
        "id": "KVBFNnb7_1ce"
      },
      "outputs": [],
      "source": [
        ""
      ]
    },
    {
      "cell_type": "markdown",
      "metadata": {
        "id": "Aiai4gbFomdB"
      },
      "source": [
        "# Признак city"
      ]
    },
    {
      "cell_type": "code",
      "execution_count": null,
      "metadata": {
        "id": "NTuzA5psmtBY"
      },
      "outputs": [],
      "source": [
        "# Признак просто перечень городов поэтому просто приведем к нижнему регистру.\n",
        "df.city = df.city.str.lower()"
      ]
    },
    {
      "cell_type": "markdown",
      "metadata": {
        "id": "77mre1xzsMqt"
      },
      "source": [
        "# Признак schools"
      ]
    },
    {
      "cell_type": "code",
      "execution_count": null,
      "metadata": {
        "id": "x4V7FItLqvD1"
      },
      "outputs": [],
      "source": [
        "# Посмотрим как выглядят данные.\n",
        "df.schools.iloc[0]"
      ]
    },
    {
      "cell_type": "code",
      "execution_count": null,
      "metadata": {
        "id": "YHwZLI0BtV0I"
      },
      "outputs": [],
      "source": [
        "# Видно что это формат json для его обработки заменим кавычки на двойные.\n",
        "df.schools = df.schools.apply(lambda x: x.replace(\"'\", \"\\\"\"))"
      ]
    },
    {
      "cell_type": "code",
      "execution_count": null,
      "metadata": {
        "id": "j1HUQxcNWAo-"
      },
      "outputs": [],
      "source": [
        "data = df.copy()"
      ]
    },
    {
      "cell_type": "code",
      "execution_count": null,
      "metadata": {
        "id": "zVhMQXTiFAK5"
      },
      "outputs": [],
      "source": [
        "# Многие названия школ с кавычками и также значения None без них. Это не даст преобразовать строки в json формат.\n",
        "# Поэтому напишем функцию, которая исправит это.\n",
        "import json\n",
        "import re\n",
        "def form_scools_re(x):\n",
        "  x = re.sub('\\w\\\"\\w', '', x)\n",
        "  x = re.sub('\\\"Duke\\\"', '', x) \n",
        "  x = re.sub(\"None/10\", '', x)\n",
        "  x = re.sub('\"\"', '\"None\"', x)\n",
        "  x = re.sub(', None,', ', \"None\",', x)\n",
        "  x = re.sub('Lil\" Wonders', '', x)\n",
        "  x = re.sub('Loggers\"', '', x)\n",
        "  x = re.sub('O\"', '', x)\n",
        "  x = re.sub('N\"', '', x)\n",
        "  x = re.sub('Citizens\"', 'Citizens', x) # 7033\n",
        "  x = re.sub('Yeshivat Shaare Torah Girls\" D', 'Yeshivat Shaare Torah Girls D', x) \n",
        "  x = re.sub(r'Boy\\\\\\\\\"s Prep School', 'Boys Prep School', x) # 10452\n",
        "  x = re.sub(r'Kids\" World Private School, Inc. & Cornerstone Academy of Los Angeles', 'Kids World Private School, Inc. & Cornerstone Academy of Los Angeles', x) # 18535\n",
        "  x = re.sub('Seattle Girls\" Private School', 'Seattle Girls Private School', x) # 32242\n",
        "  x = re.sub('Constellation Schools: Westside Community School ', 'Constellation Schools: Westside Community School\"', x) # 34600\n",
        "  x = re.sub('Kids \"R\" Kids of Katy Private School', 'Kids R Kids of Katy Private School', x) # 44538\n",
        "  x = re.sub('Jose \"joe\" May Elementary School', 'Jose joe May Elementary School', x) # 67663\n",
        "  x = re.sub('G E \"buddy\" West Elementary School', 'G E buddy West Elementary School', x) # 106000\n",
        "  x = re.sub('My Small-Sized Friends\" Elementary Academy Private School', 'My Small-Sized Friends Elementary Academy Private School', x) # 106238\n",
        "  x = re.sub('Mary Harris \"Mother\" Jones Elementary School', 'Mary Harris Mother Jones Elementary School', x)\n",
        "  return x"
      ]
    },
    {
      "cell_type": "code",
      "execution_count": null,
      "metadata": {
        "id": "Gh-WkfVvhpTT"
      },
      "outputs": [],
      "source": [
        "# Применяем Написанную функцию.\n",
        "data.schools = data.schools.apply(form_scools_re)"
      ]
    },
    {
      "cell_type": "code",
      "execution_count": null,
      "metadata": {
        "id": "G5LujekZDpBx"
      },
      "outputs": [],
      "source": [
        "#X = pd.DataFrame()\n",
        "#\n",
        "#for i in data.schools.iloc[300000:]:\n",
        "#  a = pd.json_normalize(json.loads(i))\n",
        "#  X = pd.concat([X, a], axis = 0)\n",
        "#X"
      ]
    },
    {
      "cell_type": "code",
      "execution_count": null,
      "metadata": {
        "id": "nllreGrHVaYh"
      },
      "outputs": [],
      "source": [
        "#X.to_csv('/content/gdrive/MyDrive/Diplom_project/scools_from_df.csv')"
      ]
    },
    {
      "cell_type": "markdown",
      "metadata": {
        "id": "cdd2wS1JJOUL"
      },
      "source": [
        "# В итоге из столбца scool получился целый датасет df_scools который также требует обработки."
      ]
    },
    {
      "cell_type": "code",
      "execution_count": null,
      "metadata": {
        "id": "cPnje-h7NvN1"
      },
      "outputs": [],
      "source": [
        "#df_scools_1 = pd.read_csv('/content/gdrive/MyDrive/Diplom_project/scools_from_df_1.csv')\n",
        "#df_scools_2 = pd.read_csv('/content/gdrive/MyDrive/Diplom_project/scools_from_df_2.csv')\n",
        "#df_scools_3 = pd.read_csv('/content/gdrive/MyDrive/Diplom_project/scools_from_df_3.csv')\n",
        "#df_scools_4 = pd.read_csv('/content/gdrive/MyDrive/Diplom_project/scools_from_df_4.csv')"
      ]
    },
    {
      "cell_type": "code",
      "execution_count": null,
      "metadata": {
        "id": "qKjZWAMkGzKt"
      },
      "outputs": [],
      "source": [
        "#df_scools = pd.concat([df_scools_1, df_scools_2,df_scools_3,df_scools_4], axis = 0).reset_index().drop(['index','Unnamed: 0'], axis = 1)"
      ]
    },
    {
      "cell_type": "code",
      "execution_count": null,
      "metadata": {
        "id": "u28g7aw2G8Kf"
      },
      "outputs": [],
      "source": [
        "#df_scools"
      ]
    },
    {
      "cell_type": "markdown",
      "metadata": {
        "id": "dFFUNPTmJ2JW"
      },
      "source": [
        "# Признак sqft"
      ]
    },
    {
      "cell_type": "code",
      "execution_count": null,
      "metadata": {
        "id": "0UEOhiG0NvyE"
      },
      "outputs": [],
      "source": [
        "# Заполним пропуски пустой строкой\n",
        "df.sqft = df.sqft.fillna('')"
      ]
    },
    {
      "cell_type": "code",
      "execution_count": null,
      "metadata": {
        "id": "C3osnDYQLIF-"
      },
      "outputs": [],
      "source": [
        "# Функция для приведения столбца sqft к числовому виду.\n",
        "def form_sqft(x):\n",
        "  x = re.sub(r'sqft', '', x)\n",
        "  x = re.sub(r'Total interior livable area: ', '', x) \n",
        "  x = re.sub(r',', '', x)\n",
        "  x = re.sub(r'--', '', x) \n",
        "  x = re.sub(r'-', '', x) \n",
        "  x = re.sub(r' ', '', x)\n",
        "  if x == '':\n",
        "      x = np.nan\n",
        "  x = float(x)\n",
        "  if x == 0.0:\n",
        "    x = np.nan\n",
        "\n",
        "  return x"
      ]
    },
    {
      "cell_type": "code",
      "execution_count": null,
      "metadata": {
        "id": "5yepRRlPMJE1"
      },
      "outputs": [],
      "source": [
        "df.sqft = df.sqft.apply(form_sqft)"
      ]
    },
    {
      "cell_type": "code",
      "execution_count": null,
      "metadata": {
        "colab": {
          "base_uri": "https://localhost:8080/"
        },
        "id": "kRsWAgCQJ-QS",
        "outputId": "ca51fd90-a60f-4edd-d9b1-8370a15098a3"
      },
      "outputs": [
        {
          "data": {
            "text/plain": [
              "False    321918\n",
              "True      52786\n",
              "Name: sqft, dtype: int64"
            ]
          },
          "execution_count": 73,
          "metadata": {},
          "output_type": "execute_result"
        }
      ],
      "source": [
        "df.sqft.isna().value_counts()"
      ]
    },
    {
      "cell_type": "markdown",
      "metadata": {
        "id": "e6SUbBN0lTbU"
      },
      "source": [
        "# Признак street "
      ]
    },
    {
      "cell_type": "code",
      "execution_count": null,
      "metadata": {
        "id": "YFG7PwazlWP6"
      },
      "outputs": [],
      "source": [
        "# Изменим значения неизвестного адреса на nan\n",
        "df['street'] = df['street'].apply(lambda x: x if x != 'Address Not Disclosed' else np.nan )\n",
        "df['street'] = df['street'].apply(lambda x: x if x != 'Undisclosed Address' else np.nan )\n",
        "df['street'] = df['street'].apply(lambda x: x if x != '(undisclosed Address)' else np.nan )\n",
        "df['street'] = df['street'].apply(lambda x: x if x != 'Unknown Address' else np.nan )\n",
        "df['street'] = df['street'].apply(lambda x: x if x != 'Address Not Available' else np.nan )"
      ]
    },
    {
      "cell_type": "markdown",
      "metadata": {
        "id": "8SnAEUNSUEef"
      },
      "source": [
        "# Признак zipcode"
      ]
    },
    {
      "cell_type": "code",
      "execution_count": null,
      "metadata": {
        "colab": {
          "base_uri": "https://localhost:8080/"
        },
        "id": "A-22U1sBULaE",
        "outputId": "165a81b0-0ff9-4d4a-a528-6532de9f8386"
      },
      "outputs": [
        {
          "data": {
            "text/plain": [
              "0    28387\n",
              "1    99216\n",
              "2    90049\n",
              "3    75205\n",
              "4    32908\n",
              "Name: zipcode, dtype: object"
            ]
          },
          "execution_count": 75,
          "metadata": {},
          "output_type": "execute_result"
        }
      ],
      "source": [
        "# С этим признаком ничего делать не будем пока что\n",
        "df.zipcode.head()"
      ]
    },
    {
      "cell_type": "markdown",
      "metadata": {
        "id": "QtzSpeyXUuqV"
      },
      "source": [
        "# Признак beds"
      ]
    },
    {
      "cell_type": "code",
      "execution_count": null,
      "metadata": {
        "colab": {
          "base_uri": "https://localhost:8080/"
        },
        "id": "-jIgOj7QVB3l",
        "outputId": "4c2de9df-01e2-4e38-a3e5-8479eecf9481"
      },
      "outputs": [
        {
          "data": {
            "text/plain": [
              "False    283748\n",
              "True      90956\n",
              "Name: beds, dtype: int64"
            ]
          },
          "execution_count": 77,
          "metadata": {},
          "output_type": "execute_result"
        }
      ],
      "source": [
        "# Посмотрим на количество пропусков\n",
        "df['beds'].isna().value_counts()"
      ]
    },
    {
      "cell_type": "code",
      "execution_count": null,
      "metadata": {
        "id": "VvfDsDeGsjUH"
      },
      "outputs": [],
      "source": [
        "# Форматируем строки для приведения к числовому виду\n",
        "df.beds = df.beds.replace(r\"1-2\",'2',regex=True)\n",
        "df.beds = df.beds.replace(r\"bd\",' ',regex=True)\n",
        "df.beds = df.beds.replace(r\"Beds\",' ',regex=True)\n",
        "df.beds = df.beds.replace(r\"-- bd\",np.nan,regex=True)\n",
        "df.beds = df.beds.replace(r\"3 or More Bedrooms, Dining Room, Living Room, Range/Oven, Refrigerator\",'3',regex=True)\n",
        "df.beds = df.beds.replace(r\"# Bedrooms 1st Floor\",np.nan,regex=True)\n",
        "df.beds = df.beds.replace(r\"3, Dining Room, Living Room, Range/Oven, Refrigerator\",'3',regex=True)\n",
        "df.beds = df.beds.replace(r\"3 or More Bedrooms\",'3',regex=True)"
      ]
    },
    {
      "cell_type": "code",
      "execution_count": null,
      "metadata": {
        "id": "ocxh6tJgsjZH"
      },
      "outputs": [],
      "source": [
        "# Функция для замены бессмысленных значений на nan\n",
        "def form_beds(x):\n",
        "  if 'sqft' in x:\n",
        "    x = np.nan\n",
        "  elif 'Bath' in x:\n",
        "    x = np.nan\n",
        "  elif 'acres' in x:\n",
        "    x = np.nan\n",
        "  elif 'acre' in x:\n",
        "    x = np.nan\n",
        "  elif '--' in x:\n",
        "    x = np.nan\n",
        "  elif x == \"Based on Redfin's St Johns data, we estimate the home's value is $360,731, which is 2.2% less than its current list price.\":\n",
        "    x = np.nan\n",
        "  elif x == \"Based on Redfin's Raleigh data, we estimate the home's value is $708,248, which is 1.2% more than its current list price.\":\n",
        "    x = np.nan\n",
        "  elif x == \" \":\n",
        "    x = np.nan\n",
        "  return x"
      ]
    },
    {
      "cell_type": "code",
      "execution_count": null,
      "metadata": {
        "id": "ehrML49rstIh"
      },
      "outputs": [],
      "source": [
        "# Применяем функцию\n",
        "df['beds'].fillna(' ', inplace = True)\n",
        "df.beds = df.beds.apply(form_beds)"
      ]
    },
    {
      "cell_type": "code",
      "execution_count": null,
      "metadata": {
        "id": "10YKNpXauSdw"
      },
      "outputs": [],
      "source": [
        "# Приводим все значения к float\n",
        "df['beds'] = df['beds'].astype(float)"
      ]
    },
    {
      "cell_type": "markdown",
      "metadata": {
        "id": "DyGYAZgQjNtu"
      },
      "source": [
        "# Столбец homeFacts"
      ]
    },
    {
      "cell_type": "code",
      "execution_count": null,
      "metadata": {
        "id": "BL5949wPbo-u"
      },
      "outputs": [],
      "source": [
        "df['homeFacts'].head(20)"
      ]
    },
    {
      "cell_type": "code",
      "execution_count": null,
      "metadata": {
        "id": "ij1I4OsLgq4u"
      },
      "outputs": [],
      "source": [
        "# Напишем функцию для обработки данного признака\n",
        "def transform_atAGlanceFacts(value):\n",
        "    # функция принимает на вход значение ячейки homeFacts и разделяет ее на отдельные признаки\n",
        "    try:\n",
        "        factValues = re.findall(\"factValue': ([\\s\\S]+?), 'factLabel'\", value, flags=0)\n",
        "    except:\n",
        "        print(value)\n",
        "        factValues = None\n",
        "\n",
        "    try:\n",
        "        factLabels = re.findall(\"factLabel': ([\\s\\S]+?)}\", value, flags=0)\n",
        "    except:\n",
        "        print(value)\n",
        "        factLabels = None\n",
        "\n",
        "    val_dct = {}\n",
        "    for i in range(len(factValues)):\n",
        "        val = factValues[i].replace(\"'\", '')\n",
        "        if val == 'None':\n",
        "            val=None\n",
        "        val_dct[factLabels[i].replace(\"'\", '')] = val\n",
        "    return val_dct\n",
        "\n",
        "homefacts = data.homeFacts.copy()\n",
        "homefacts_dct = homefacts.apply(transform_atAGlanceFacts)\n",
        "homefacts = pd.DataFrame.from_records(homefacts_dct, index=data.index)\n",
        "\n",
        "# Посмотрим на полученные значения\n",
        "homefacts"
      ]
    },
    {
      "cell_type": "code",
      "execution_count": null,
      "metadata": {
        "id": "YGtNioG3thzX"
      },
      "outputs": [],
      "source": [
        "homefacts.to_csv('/content/gdrive/MyDrive/Diplom_project/homefacts.csv')"
      ]
    },
    {
      "cell_type": "markdown",
      "metadata": {
        "id": "Y69yItFgxAAx"
      },
      "source": [
        "# Столбец stories"
      ]
    },
    {
      "cell_type": "code",
      "execution_count": null,
      "metadata": {
        "id": "J-EvSTwIgaj2"
      },
      "outputs": [],
      "source": [
        "# Функция для форматирования строк\n",
        "def form_stories(x):\n",
        "  x = re.sub(r'One', '1', x)\n",
        "  x = re.sub(r'Two', '2', x) \n",
        "  x = re.sub(r'2 Story', '2', x)\n",
        "  x = re.sub(r'1 Story', '1', x) \n",
        "  x = re.sub(r'3+', '3', x) \n",
        "  x = re.sub(r'Three Or More', '3', x)\n",
        "  x = re.sub(r'One Story', '1', x)\n",
        "  x = re.sub(r'Two Story or More', '2', x) \n",
        "  x = re.sub(r'2 Stories', '2', x)\n",
        "  x = re.sub(r'3 Story', '3', x) \n",
        "  x = re.sub(r'2 Level, Site Built', '2', x) \n",
        "  x = re.sub(r'2 Level', '2', x)\n",
        "  x = re.sub(r'Ranch/1', '1', x)\n",
        "  x = re.sub(r'1 Level', '1', x) \n",
        "  x = re.sub(r'2 or More', '2', x) \n",
        "  x = re.sub(r'1.5 Story', '1.5', x)\n",
        "  x = re.sub(r'1 Level, Site Built', '1', x) \n",
        "  x = re.sub(r'1 Basement', '1', x)\n",
        "  x = re.sub(r'2/Basement', '2', x)\n",
        "  x = re.sub(r'2 Or More Stories', '2', x) \n",
        "  x = re.sub(r'Tri-Level', '3', x)\n",
        "  x = re.sub(r'4 Story', '4', x) \n",
        "  x = re.sub(r'2.5 Story', '2.5', x) \n",
        "  x = re.sub(r'Bi-Level', '2', x)\n",
        "  x = re.sub(r'1, Site Built', '1', x) \n",
        "  x = re.sub(r'1.5 Level, Site Built', '1.5', x)\n",
        "  x = re.sub(r'2s', '2', x) \n",
        "  x = re.sub(r'1.5/Basement', '1.5', x) \n",
        "  x = re.sub(r'1/Ranch', '1', x)\n",
        "  x = re.sub(r'3 Level, Site Built', '3', x)\n",
        "  x = re.sub(r'1.5/Basement', '1.5', x) \n",
        "  x = re.sub(r'1.5 Stories', '1.5', x) \n",
        "  x = re.sub(r'1, 2', '1', x)\n",
        "  x = re.sub(r'1/F.R.O.G.', '1', x) \n",
        "  x = re.sub(r'3 - 5 Stories', '3', x)\n",
        "  x = re.sub(r', 2', '2', x)\n",
        "  x = re.sub(r'3 Level, Site Built, Townhouse', '3', x) \n",
        "  x = re.sub(r'3 Stories', '3', x)\n",
        "  x = re.sub(r'6+ Stories', '6', x) \n",
        "  x = re.sub(r'1, Condo', '1', x) \n",
        "  x = re.sub(r'Triplex', '3', x)\n",
        "  x = re.sub(r'Multi Level, Tri Level', '3', x) \n",
        "  x = re.sub(r'1-2, 3-4 Stories', '1', x) \n",
        "  x = re.sub(r'Condo 5+ Stories', '5', x)\n",
        "  x = re.sub(r'Double Wide', '2', x) \n",
        "  x = re.sub(r'3, 3', '3', x)\n",
        "  x = re.sub(r'Ground Level2', '2', x)\n",
        "  x = re.sub(r'Multi/Split2', '2', x) \n",
        "  x = re.sub(r'1, Hillside', '1', x)\n",
        "  x = re.sub(r'1, 1', '1', x) \n",
        "  x = re.sub(r'Townhouse-2, T3-Townhouse 3+ Stories', '3', x) \n",
        "  x = re.sub(r'3, Tri Level', '3', x)\n",
        "  x = re.sub(r'2.5/Basement', '2.5', x) \n",
        "  x = re.sub(r'3 Level, Condo, Site Built', '3', x)\n",
        "  x = re.sub(r'1and + Loft', '1', x) \n",
        "  x = re.sub(r'2, Split Foyer', '2', x) \n",
        "  x = re.sub(r'2, Split Level', '2', x)\n",
        "  x = re.sub(r'2, Tri Level', '2', x) \n",
        "  x = re.sub(r'2, Townhouse', '2', x)\n",
        "  x = re.sub(r'1 and 1 Half, 3', '3', x)\n",
        "  x = re.sub(r'4 Stories', '4', x) \n",
        "  x = re.sub(r'1, Multi Level', '1', x)\n",
        "  x = re.sub(r'1, Split Foyer', '1', x) \n",
        "  x = re.sub(r'Ground Level, Split Level2', '2', x) \n",
        "  x = re.sub(r'Split Foyer, 3', '3', x)\n",
        "  x = re.sub(r'Condo 5+ Stories', '5', x) \n",
        "  x = re.sub(r'2 or 2', '2', x) \n",
        "  x = re.sub(r'Condo 5+ Stories', '5', x) \n",
        "  x = re.sub(r'1, Non-Site Built', '1', x)\n",
        "  x = re.sub(r'2, Multi/Split', '2', x) \n",
        "  x = re.sub(r'1and + Loft', '1', x)\n",
        "  x = re.sub(r'Multi Level, Three or More', '3', x)\n",
        "  x = re.sub(r'1.5, 3', '3', x) \n",
        "  x = re.sub(r'2, Tear Down', '2', x)\n",
        "  x = re.sub(r'3, Split Level', '3', x) \n",
        "  x = re.sub(r'Quad Level', '4', x) \n",
        "  x = re.sub(r'3, Multi Level', '3', x)\n",
        "  x = re.sub(r'1, Split Level', '1', x) \n",
        "  x = re.sub(r'T3-Townhouse 3+ Stories', '3', x) \n",
        "  x = re.sub(r'1, Multi/Split', '1', x) \n",
        "  x = re.sub(r'Townhouse-2, T3-Townhouse 3+ Stories', '3', x)\n",
        "  x = re.sub(r'Tri/Multi Level', '3', x) \n",
        "  x = re.sub(r'2, Multi Level', '2', x) \n",
        "  x = re.sub(r'2, Condo, Site Built', '3', x) \n",
        "  x = re.sub(r'1 1/2', '1', x) \n",
        "  x = re.sub(r', 3', '3', x)\n",
        "  x = re.sub(r'3+ Story', '3', x) \n",
        "  x = re.sub(r'3-4', '3', x) \n",
        "  x = re.sub(r'Ground Level, 1', '1', x) \n",
        "  x = re.sub(r'2, Condo', '2', x)\n",
        "  x = re.sub(r'3 Level, Townhouse', '3', x) \n",
        "  x = re.sub(r'Tri Level', '3', x) \n",
        "  x = re.sub(r'3, Townhouse', '3', x) \n",
        "  x = re.sub(r'3 Level', '3', x)\n",
        "  x = re.sub(r'6+ Stories', '6', x) \n",
        "  x = re.sub(r'1, Townhouse', '1', x) \n",
        "  x = re.sub(r'Duplex', '2', x) \n",
        "  x = re.sub(r'3/Basement', '3', x)\n",
        "  x = re.sub(r'3, Multi/Split', '3', x) \n",
        "  x = re.sub(r', 1', '1', x) \n",
        "  x = re.sub(r'1and + Loft', '1', x) \n",
        "  x = re.sub(r'Condo 5+ Stories', '5', x) \n",
        "  x = re.sub(r'Townhouse-2, T3-Townhouse 3+ Stories', '3', x)\n",
        "  x = re.sub(r'T3-Townhouse 3+ Stories', '3', x) \n",
        "  x = re.sub(r'Site Built3 ', '3', x) \n",
        "  x = re.sub(r'1 and 1 Half', '1.5', x) \n",
        "  x = re.sub(r'1.5 Level', '1.5', x)\n",
        "  x = re.sub(r'3+', '3', x)\n",
        "\n",
        "  return x"
      ]
    },
    {
      "cell_type": "code",
      "execution_count": null,
      "metadata": {
        "id": "Cq-TGh13h3dM"
      },
      "outputs": [],
      "source": [
        "# Заполняем пропуски пустой строкой\n",
        "df.stories = df.stories.fillna(' ')"
      ]
    },
    {
      "cell_type": "code",
      "execution_count": null,
      "metadata": {
        "id": "g7Jiuh6Yhqau"
      },
      "outputs": [],
      "source": [
        "# Применяем функцию\n",
        "df.stories = df.stories.apply(form_stories)"
      ]
    },
    {
      "cell_type": "code",
      "execution_count": null,
      "metadata": {
        "id": "uA1U81vrwoYA"
      },
      "outputs": [],
      "source": [
        "# Функция почемуто не удаляет все значения используем lambda функцию для изменения оставшихся значений.\n",
        "df['stories'] = df['stories'].apply(lambda x: x if x != '3+' else '3' )\n",
        "df['stories'] = df['stories'].apply(lambda x: x if x != '3+ Story' else '3' )\n",
        "df['stories'] = df['stories'].apply(lambda x: x if x != '1and + Loft' else '1' )\n",
        "df['stories'] = df['stories'].apply(lambda x: x if x != 'Condo 5+ Stories' else '5' )\n",
        "df['stories'] = df['stories'].apply(lambda x: x if x != 'T3-Townhouse3+ Stories' else '3' )\n",
        "df['stories'] = df['stories'].apply(lambda x: x if x != 'Townhouse-2, T3-Townhouse3+ Stories' else '3' )\n",
        "df['stories'] = df['stories'].apply(lambda x: x if x != '6+ Stories' else '6' )\n",
        "df['stories'] = df['stories'].apply(lambda x: x if x != '1-2' else '1' )\n",
        "df['stories'] = df['stories'].apply(lambda x: x if x != '1, Site Built' else '1' )\n",
        "df['stories'] = df['stories'].apply(lambda x: x if x != 'Site Built3' else '3' )\n",
        "df['stories'] = df['stories'].apply(lambda x: x if x != '3s' else '3' )\n",
        "\n",
        "\n",
        "# Нелеквидные значения заменяем пустой строкой.\n",
        "df['stories'] = df['stories'].apply(lambda x: x if x != 'Ground Level' else ' ' )\n",
        "df['stories'] = df['stories'].apply(lambda x: x if x != 'Townhouse' else ' ' )\n",
        "df['stories'] = df['stories'].apply(lambda x: x if x != 'Multi/Split' else ' ' )\n",
        "df['stories'] = df['stories'].apply(lambda x: x if x != 'Acreage' else ' ' )\n",
        "df['stories'] = df['stories'].apply(lambda x: x if x != 'Condominium' else ' ' )\n",
        "df['stories'] = df['stories'].apply(lambda x: x if x != 'Stories/Levels' else ' ' )\n",
        "df['stories'] = df['stories'].apply(lambda x: x if x != 'Ranch' else ' ' )\n",
        "df['stories'] = df['stories'].apply(lambda x: x if x != 'Traditional' else ' ' )\n",
        "df['stories'] = df['stories'].apply(lambda x: x if x != 'Mid-Rise' else ' ' )\n",
        "df['stories'] = df['stories'].apply(lambda x: x if x != 'Multi/Split' else ' ' )\n",
        "df['stories'] = df['stories'].apply(lambda x: x if x != 'Multi-Level' else ' ' )\n",
        "df['stories'] = df['stories'].apply(lambda x: x if x != 'Split Level' else ' ' )\n",
        "df['stories'] = df['stories'].apply(lambda x: x if x != 'High-Rise' else ' ' )\n",
        "df['stories'] = df['stories'].apply(lambda x: x if x != 'Total Floors in Bldg' else ' ' )\n",
        "df['stories'] = df['stories'].apply(lambda x: x if x != 'Garden' else ' ' )\n",
        "df['stories'] = df['stories'].apply(lambda x: x if x != 'Commercial' else ' ' )\n",
        "df['stories'] = df['stories'].apply(lambda x: x if x != 'Other Multi-unit' else ' ' )\n",
        "df['stories'] = df['stories'].apply(lambda x: x if x != 'Farm House' else ' ' )\n",
        "df['stories'] = df['stories'].apply(lambda x: x if x != 'High-Rise' else ' ' )\n",
        "df['stories'] = df['stories'].apply(lambda x: x if x != 'Bungalow' else ' ' )\n",
        "df['stories'] = df['stories'].apply(lambda x: x if x != 'Raised Ranch' else ' ' )\n",
        "df['stories'] = df['stories'].apply(lambda x: x if x != 'Site Builtl' else ' ' )\n",
        "df['stories'] = df['stories'].apply(lambda x: x if x != 'Contemporary' else ' ' )\n",
        "df['stories'] = df['stories'].apply(lambda x: x if x != 'Manufactured Doublewide' else ' ' )\n",
        "df['stories'] = df['stories'].apply(lambda x: x if x != 'Unimproved Commercial' else ' ' )\n",
        "df['stories'] = df['stories'].apply(lambda x: x if x != 'Cape Cod' else ' ' )\n",
        "df['stories'] = df['stories'].apply(lambda x: x if x != 'Fourplex' else ' ' )\n",
        "df['stories'] = df['stories'].apply(lambda x: x if x != 'Site Built, Split Foyer' else ' ' )\n",
        "df['stories'] = df['stories'].apply(lambda x: x if x != 'Split Level w/ Sub' else ' ' )\n",
        "df['stories'] = df['stories'].apply(lambda x: x if x != 'Modular Home' else ' ' )\n",
        "df['stories'] = df['stories'].apply(lambda x: x if x != 'Condo' else ' ' )\n",
        "df['stories'] = df['stories'].apply(lambda x: x if x != 'Mobile' else ' ' )\n",
        "df['stories'] = df['stories'].apply(lambda x: x if x != 'Farm' else ' ' )\n",
        "df['stories'] = df['stories'].apply(lambda x: x if x != 'Manufactured Singlewide' else ' ' )\n",
        "df['stories'] = df['stories'].apply(lambda x: x if x != 'Victorian' else ' ' )\n",
        "df['stories'] = df['stories'].apply(lambda x: x if x != 'Multi Level' else ' ' )\n",
        "df['stories'] = df['stories'].apply(lambda x: x if x != 'Cabin/Cottage' else ' ' )\n",
        "df['stories'] = df['stories'].apply(lambda x: x if x != 'Colonial' else ' ' )\n",
        "df['stories'] = df['stories'].apply(lambda x: x if x != 'Site Built, Split Level' else ' ' )\n",
        "df['stories'] = df['stories'].apply(lambda x: x if x != 'Condo, Site Built' else ' ' )\n",
        "df['stories'] = df['stories'].apply(lambda x: x if x != 'Live/Work' else ' ' )\n",
        "df['stories'] = df['stories'].apply(lambda x: x if x != 'Multi-Story' else ' ' )\n",
        "df['stories'] = df['stories'].apply(lambda x: x if x != 'Loft' else ' ' )\n",
        "df['stories'] = df['stories'].apply(lambda x: x if x != 'Log Home' else ' ' )\n",
        "df['stories'] = df['stories'].apply(lambda x: x if x != 'Cape, Other Style' else ' ' )\n",
        "df['stories'] = df['stories'].apply(lambda x: x if x != 'Patio Home' else ' ' )\n",
        "df['stories'] = df['stories'].apply(lambda x: x if x != 'Chalet' else ' ' )\n",
        "df['stories'] = df['stories'].apply(lambda x: x if x != 'Craftsman' else ' ' )\n",
        "df['stories'] = df['stories'].apply(lambda x: x if x != 'Log' else ' ' )\n",
        "df['stories'] = df['stories'].apply(lambda x: x if x != 'Federal' else ' ' )\n",
        "df['stories'] = df['stories'].apply(lambda x: x if x != 'Apartments' else ' ' )\n",
        "df['stories'] = df['stories'].apply(lambda x: x if x != 'Co-op' else ' ' )\n",
        "df['stories'] = df['stories'].apply(lambda x: x if x != 'Detached' else ' ' )\n",
        "df['stories'] = df['stories'].apply(lambda x: x if x != 'Site Built, Townhouse' else ' ' )\n",
        "df['stories'] = df['stories'].apply(lambda x: x if x != 'Dwelling Stories' else ' ' )\n",
        "df['stories'] = df['stories'].apply(lambda x: x if x != 'Split Entry (2)' else ' ' )\n",
        "df['stories'] = df['stories'].apply(lambda x: x if x != 'None' else ' ' )\n",
        "df['stories'] = df['stories'].apply(lambda x: x if x != 'Hillside' else ' ' )\n",
        "df['stories'] = df['stories'].apply(lambda x: x if x != 'Bedroom - Split Plan' else ' ' )\n",
        "df['stories'] = df['stories'].apply(lambda x: x if x != 'Manufactured Home, Non-Site Built' else ' ' )\n",
        "df['stories'] = df['stories'].apply(lambda x: x if x != 'Multi-Level, New Englander' else ' ' )\n",
        "df['stories'] = df['stories'].apply(lambda x: x if x != 'Sixplex' else ' ' )\n",
        "df['stories'] = df['stories'].apply(lambda x: x if x != 'A Frame' else ' ' )\n",
        "df['stories'] = df['stories'].apply(lambda x: x if x != 'Tudor' else ' ' )\n",
        "df['stories'] = df['stories'].apply(lambda x: x if x != 'Other2' else ' ' )\n",
        "df['stories'] = df['stories'].apply(lambda x: x if x != 'Split Foyer' else ' ' )\n",
        "df['stories'] = df['stories'].apply(lambda x: x if x != 'Site Built' else ' ' )\n",
        "df['stories'] = df['stories'].apply(lambda x: x if x != 'Lot' else ' ' )"
      ]
    },
    {
      "cell_type": "code",
      "execution_count": null,
      "metadata": {
        "id": "Chh1_xtA9zSS"
      },
      "outputs": [],
      "source": [
        "# Используем lambda функцию для изменения оставшихся значений.\n",
        "df['stories'] = df['stories'].apply(lambda x: x if x != 'Townhouse-2, T3-Townhouse 3+ Stories' else ' ' )\n",
        "df['stories'] = df['stories'].apply(lambda x: x if x != 'T3-Townhouse 3+ Stories' else ' ' )\n",
        "df['stories'] = df['stories'].apply(lambda x: x if x != 'Townhouse-2, T3-Townhouse3+ Stories' else ' ' )\n",
        "\n",
        "\n",
        "df['stories'] = df['stories'].apply(lambda x: x if x != '1002.0' else ' ' )\n",
        "df['stories'] = df['stories'].apply(lambda x: x if x != '1120.0' else ' ' )"
      ]
    },
    {
      "cell_type": "code",
      "execution_count": null,
      "metadata": {
        "id": "QohywG-vDugZ"
      },
      "outputs": [],
      "source": [
        "# Пустые строки заменяем на nan.\n",
        "df['stories'] = df['stories'].apply(lambda x: x if x != ' ' else np.nan )"
      ]
    },
    {
      "cell_type": "code",
      "execution_count": null,
      "metadata": {
        "id": "aBSz5dpwD8Jn"
      },
      "outputs": [],
      "source": [
        "# Приводим все значения к float\n",
        "df['stories'] = df['stories'].astype(float)"
      ]
    },
    {
      "cell_type": "code",
      "execution_count": null,
      "metadata": {
        "colab": {
          "base_uri": "https://localhost:8080/"
        },
        "id": "mqW0gQWJCp7x",
        "outputId": "5bcfeb54-ba83-44a1-b61c-c7837f87e585"
      },
      "outputs": [
        {
          "data": {
            "text/plain": [
              "False    222653\n",
              "True     152051\n",
              "Name: stories, dtype: int64"
            ]
          },
          "execution_count": 91,
          "metadata": {},
          "output_type": "execute_result"
        }
      ],
      "source": [
        "df['stories'].isna().value_counts()"
      ]
    },
    {
      "cell_type": "code",
      "execution_count": null,
      "metadata": {
        "colab": {
          "base_uri": "https://localhost:8080/"
        },
        "id": "Bx3BV6Dkwy-v",
        "outputId": "ce0a4b76-b042-401e-ddcb-43de1e1d5eb6"
      },
      "outputs": [
        {
          "data": {
            "text/plain": [
              "65.00        1\n",
              "1.20         1\n",
              "96.00        1\n",
              "2.20         1\n",
              "82.00        1\n",
              "1.30         2\n",
              "75.00        2\n",
              "3.50         2\n",
              "95.00        2\n",
              "64.00        3\n",
              "50.00        3\n",
              "78.00        3\n",
              "91.00        4\n",
              "68.00        4\n",
              "58.00        4\n",
              "62.00        4\n",
              "49.00        5\n",
              "55.00        5\n",
              "63.00        5\n",
              "56.00        5\n",
              "80.00        6\n",
              "90.00        6\n",
              "51.00        6\n",
              "1.52         7\n",
              "52.00        7\n",
              "77.00        8\n",
              "54.00        8\n",
              "44.00        9\n",
              "66.00        9\n",
              "57.00       10\n",
              "37.00       10\n",
              "48.00       11\n",
              "34.00       12\n",
              "70.00       12\n",
              "60.00       13\n",
              "39.00       13\n",
              "35.00       13\n",
              "45.00       15\n",
              "42.00       18\n",
              "41.00       18\n",
              "38.00       18\n",
              "47.00       18\n",
              "1.70        19\n",
              "36.00       20\n",
              "46.00       21\n",
              "32.00       21\n",
              "26.00       25\n",
              "43.00       25\n",
              "28.00       26\n",
              "29.00       26\n",
              "1.75        27\n",
              "31.00       28\n",
              "27.00       30\n",
              "40.00       32\n",
              "30.00       36\n",
              "22.00       38\n",
              "24.00       43\n",
              "25.00       46\n",
              "23.00       52\n",
              "18.00       58\n",
              "19.00       69\n",
              "21.00       73\n",
              "10.00       75\n",
              "13.00       84\n",
              "17.00       87\n",
              "15.00       88\n",
              "14.00       93\n",
              "20.00      105\n",
              "11.00      110\n",
              "16.00      119\n",
              "12.00      150\n",
              "2.50       196\n",
              "8.00       334\n",
              "7.00       405\n",
              "5.00       805\n",
              "6.00      1009\n",
              "1.50      1291\n",
              "4.00      3116\n",
              "9.00      3381\n",
              "0.00     11440\n",
              "3.00     17872\n",
              "2.00     81578\n",
              "1.00     99295\n",
              "Name: stories, dtype: int64"
            ]
          },
          "execution_count": 92,
          "metadata": {},
          "output_type": "execute_result"
        }
      ],
      "source": [
        "df.stories.value_counts().sort_values()"
      ]
    },
    {
      "cell_type": "markdown",
      "metadata": {
        "id": "Hid7MicrjRgM"
      },
      "source": [
        ""
      ]
    },
    {
      "cell_type": "markdown",
      "metadata": {
        "id": "0taoBCpFazC3"
      },
      "source": [
        "# Cохранение датасета"
      ]
    },
    {
      "cell_type": "code",
      "execution_count": null,
      "metadata": {
        "id": "wErsBMfeayFh"
      },
      "outputs": [],
      "source": [
        "#df.to_csv('/content/gdrive/MyDrive/Diplom_project/df_1_form_dummy.csv')\n",
        "df.to_csv('/content/gdrive/MyDrive/Diplom_project/df_1_form.csv')"
      ]
    },
    {
      "cell_type": "markdown",
      "metadata": {
        "id": "SDDgextIWqxK"
      },
      "source": [
        "###Здесь оканчиваеться первая предобработка"
      ]
    },
    {
      "cell_type": "markdown",
      "metadata": {
        "id": "qZiiQKuZW1Ok"
      },
      "source": [
        "\n",
        "# В итоге у нас еще 2  датасета. обработаем каждый. "
      ]
    },
    {
      "cell_type": "markdown",
      "metadata": {
        "id": "CpvZGukBiA0F"
      },
      "source": [
        "## Загрузка датасета homefacts"
      ]
    },
    {
      "cell_type": "code",
      "execution_count": null,
      "metadata": {
        "id": "Sq-XUv7oxXmf"
      },
      "outputs": [],
      "source": [
        "hm = pd.read_csv('/content/gdrive/MyDrive/Diplom_project/homefacts.csv')\n",
        "hm.drop(['Unnamed: 0'], axis = 1, inplace = True)"
      ]
    },
    {
      "cell_type": "code",
      "execution_count": null,
      "metadata": {
        "id": "nwx02AqWwVcO"
      },
      "outputs": [],
      "source": [
        "hm.fillna(np.nan, inplace = True)"
      ]
    },
    {
      "cell_type": "code",
      "execution_count": null,
      "metadata": {
        "id": "sZdO0g_duD_I"
      },
      "outputs": [],
      "source": [
        "# Приведем строки к нижнему регистру\n",
        "hm.columns = hm.columns.str.lower()"
      ]
    },
    {
      "cell_type": "code",
      "execution_count": null,
      "metadata": {
        "id": "qUYNlIuvuPRg"
      },
      "outputs": [],
      "source": [
        "# Для удобства переименуем столбцы\n",
        "hm.rename(columns={'year built':'year_built', 'remodeled year':'remodeled_year', 'price/sqft':'price_sqft'}, inplace=True)"
      ]
    },
    {
      "cell_type": "code",
      "execution_count": null,
      "metadata": {
        "id": "KxD60RfGw3N2"
      },
      "outputs": [],
      "source": [
        "# Функция изменит бессмысленые значения на nan\n",
        "def for_nan(x):\n",
        "  if x == '':\n",
        "    x = np.nan\n",
        "\n",
        "  elif x == 'No Data':\n",
        "    x = np.nan\n",
        "  elif x == '1':\n",
        "    x = np.nan\n",
        "  elif x == '559990649990':\n",
        "    x = np.nan\n",
        "  else: x\n",
        "  return x"
      ]
    },
    {
      "cell_type": "code",
      "execution_count": null,
      "metadata": {
        "id": "aeVvOqv12Fj9"
      },
      "outputs": [],
      "source": [
        "# Применим ее.\n",
        "hm.year_built = hm.year_built.apply(for_nan)\n",
        "hm.remodeled_year = hm.remodeled_year.apply(for_nan)\n",
        "hm.heating = hm.heating.apply(for_nan)\n",
        "hm.cooling = hm.cooling.apply(for_nan)\n",
        "hm.parking = hm.parking.apply(for_nan)\n",
        "hm.lotsize = hm.lotsize.apply(for_nan)\n",
        "hm.price_sqft = hm.price_sqft.apply(for_nan)\n"
      ]
    },
    {
      "cell_type": "code",
      "execution_count": null,
      "metadata": {
        "colab": {
          "base_uri": "https://localhost:8080/"
        },
        "id": "qo2fC1qdWz3G",
        "outputId": "ea1ff197-7c0c-4890-b920-ce094b5e63cd"
      },
      "outputs": [
        {
          "name": "stdout",
          "output_type": "stream",
          "text": [
            "<class 'pandas.core.frame.DataFrame'>\n",
            "RangeIndex: 374655 entries, 0 to 374654\n",
            "Data columns (total 7 columns):\n",
            " #   Column          Non-Null Count   Dtype  \n",
            "---  ------          --------------   -----  \n",
            " 0   year_built      311416 non-null  object \n",
            " 1   remodeled_year  149833 non-null  float64\n",
            " 2   heating         257558 non-null  object \n",
            " 3   cooling         233887 non-null  object \n",
            " 4   parking         181887 non-null  object \n",
            " 5   lotsize         308237 non-null  object \n",
            " 6   price_sqft      311828 non-null  object \n",
            "dtypes: float64(1), object(6)\n",
            "memory usage: 20.0+ MB\n"
          ]
        }
      ],
      "source": [
        "hm.info()"
      ]
    },
    {
      "cell_type": "markdown",
      "metadata": {
        "id": "BE95EuhvadWJ"
      },
      "source": [
        "### heating"
      ]
    },
    {
      "cell_type": "code",
      "execution_count": null,
      "metadata": {
        "id": "PQsUqHneYPrX"
      },
      "outputs": [],
      "source": [
        "# Приведем строки к нижнему регистру\n",
        "hm.heating = hm.heating.str.lower()"
      ]
    },
    {
      "cell_type": "code",
      "execution_count": null,
      "metadata": {
        "id": "PekaeisD5Rv1"
      },
      "outputs": [],
      "source": [
        "# Очередная функция для изменения строк.\n",
        "def form_heating_re(x):\n",
        "\n",
        "  x = re.sub(r'\\([^()]*\\)', '', x)\n",
        "  x = re.sub(r'forced air', 'forced air', x)\n",
        "  x = re.sub(r'central, electric', 'central electric', x) \n",
        "  x = re.sub(r', electric hot air', 'electric hot air', x)\n",
        "  x = re.sub(r', gas hot air/furnace', 'gas hot air/furnace', x)\n",
        "  x = re.sub(r', natural gas', 'natural gas', x)\n",
        "  x = re.sub(r', multizone heat', 'multizone heat', x)\n",
        "  x = re.sub(r', g-fresh air ventilation', 'g-fresh air ventilation', x)\n",
        "  x = re.sub(r', gas water heater', 'gas water heater', x)\n",
        "  x = re.sub(r'radiators', 'radiator', x)\n",
        "  x = re.sub(r', heat pump - heat', 'heat pump - heat', x)\n",
        "  x = re.sub(r', electric baseboard heat', 'electric baseboard heat', x)\n",
        "  x = re.sub(r'gas gas', 'gas', x)\n",
        "  x = re.sub(r'wall units / window unit', 'wall/window unit', x)\n",
        "  x = re.sub(r'window units', 'window unit', x)\n",
        "  x = re.sub(r', g-energy star hvacgas hot air/furnace', 'g-energy star hvacgas hot air/furnace', x)\n",
        "  x = re.sub(r', pellet', 'pellet', x)\n",
        "  x = re.sub(r'g-energy star hvacg-fresh air ventilationgas hot air/furnacegas water heatermultizone heatnatural gas', 'g-energy star hvac', x)\n",
        "  x = re.sub(r'g-energy star hvacgas hot air/furnace', 'g-energy star hvac', x)\n",
        "  x = re.sub(r', g-energy star hvacg-fresh air ventilationgas hot air/furnacemultizone heatnatural gas', 'g-energy star hvac', x)\n",
        "  x = re.sub(r'g-energy star hvacg-fresh air ventilationgas hot air/furnacemultizone heatnatural gas', 'g-energy star hvac', x)\n",
        "  x = re.sub(r'g-energy star hvacg-fresh air ventilationgas hot air/furnacemultizone heat', 'g-energy star hvac', x)\n",
        "  x = re.sub(r'g-energy star hvacmultizone heat', 'g-energy star hvac', x)\n",
        "  x = re.sub(r', g-energy star hvacmultizone heatnatural gas', 'g-energy star hvac', x)\n",
        "  x = re.sub(r', g-energy star hvac', 'g-energy star hvac', x)\n",
        "  x = re.sub(r'g-energy star hvacg-fresh air ventilationgas hot air/furnace', 'g-energy star hvac', x)\n",
        "  x = re.sub(r'electric hot airg-energy star hvac', 'g-energy star hvac', x)\n",
        "  x = re.sub(r'g-energy star hvacg-fresh air ventilationheat pump - heatmultizone heat', 'g-energy star hvac', x)\n",
        "  x = re.sub(r'g-energy star hvacg-fresh air ventilationgas hot air/furnaceheat pump - heatmultizone heatnatural gas', 'g-energy star hvac', x)\n",
        "  x = re.sub(r'g-energy star hvacheat pump - heatmultizone heat', 'g-energy star hvac', x)\n",
        "  x = re.sub(r', g-energy star hvac', 'g-energy star hvac', x)\n",
        "  x = re.sub(r'g-energy star hvacnatural gas', 'g-energy star hvac', x)\n",
        "  x = re.sub(r'g-energy star hvacheat pump - heatnatural gas', 'g-energy star hvac', x)\n",
        "  x = re.sub(r'g-energy star hvacgas water heatermultizone heatnatural gas', 'g-energy star hvac', x)\n",
        "  x = re.sub(r'g-energy star hvac, gas floor furnacegas hot air/furnacemultizone heatnatural gas', 'g-energy star hvac', x)\n",
        "  x = re.sub(r'g-energy star hvacheat pump - heat', 'g-energy star hvac', x)\n",
        "  x = re.sub(r'g-energy star hvacg-fresh air ventilationmultizone heatnatural gas', 'g-energy star hvac', x)\n",
        "  x = re.sub(r'garage-tankless, gas', 'garage-tankless', x)\n",
        "  x = re.sub(r'garage-tankless h2o', 'garage-tankless', x)\n",
        "  x = re.sub(r'garage-tankless water heater', 'garage-tankless', x)\n",
        "  x = re.sub(r'tank in garage and tankless upstairs-gas', 'garage-tankless', x)\n",
        "  x = re.sub(r'garage-natural gas on demand', 'garage-on-demand navien', x)\n",
        "  x = re.sub(r'propane/butane', 'propane', x)\n",
        "  x = re.sub(r'propane butane', 'propane', x)\n",
        "  x = re.sub(r'propane gas', 'propane', x)\n",
        "  x = re.sub(r'propane-owned', 'propane', x)\n",
        "  x = re.sub(r'gas - liquid propane bottlepellet', 'liquid propane', x)\n",
        "  x = re.sub(r'gas - liquid propane bottle', 'liquid propane', x)\n",
        "  x = re.sub(r'wood-burning', 'wood burning', x)\n",
        "  x = re.sub(r'woodburning', 'wood burning', x)\n",
        "  x = re.sub(r', gas floor furnace heat pump - heat', 'gas, floor furnace, heat pump - heat', x)\n",
        "  x = re.sub(r'zone', 'zoned', x)\n",
        "  x = re.sub(r'multi-zones', 'multi zone', x)\n",
        "  x = re.sub(r'multi-zone', 'multi zone', x)\n",
        "  x = re.sub(r'wood-burning', 'wood burning', x)\n",
        "  x = re.sub(r'woodburning', 'wood burning', x)\n",
        "  x = re.sub(r', gas floor furnace heat pump - heat', 'gas, floor furnace, heat pump - heat', x)\n",
        "  x = re.sub(r'zone', 'zoned', x)\n",
        "  x = re.sub(r'multi-zones', 'multi zone', x)\n",
        "  x = re.sub(r'multi-zone', 'multi zone', x)\n",
        "  x = re.sub(r', ceiling heating', 'ceiling heating', x)\n",
        "  x = re.sub(r'woodstove', 'wood stove', x)\n",
        "  x = re.sub(r'stove - wood', 'wood stove', x)\n",
        "  x = re.sub(r'stove', 'wood stove', x)\n",
        "  x = re.sub(r'wood burn stove', 'wood stove', x)  \n",
        "  x = re.sub(r'wood/coal', 'wood stove', x)\n",
        "  x = re.sub(r'coal', 'wood stove', x)\n",
        "  x = re.sub(r'zoneddd', 'zoned', x)\n",
        "  x = re.sub(r'wood burning furnace', 'wood burning', x)\n",
        "  x = re.sub(r'woodburning', 'wood burning', x)\n",
        "\n",
        "\n",
        "  if x == '':\n",
        "    x = np.nan\n",
        "\n",
        "  return x"
      ]
    },
    {
      "cell_type": "code",
      "execution_count": null,
      "metadata": {
        "id": "uVDOCsem5vaV"
      },
      "outputs": [],
      "source": [
        "hm.heating.fillna('', inplace = True)\n",
        "hm.heating = hm.heating.apply(form_heating_re)"
      ]
    },
    {
      "cell_type": "code",
      "execution_count": null,
      "metadata": {
        "colab": {
          "base_uri": "https://localhost:8080/"
        },
        "id": "I3Iza1uvaSVd",
        "outputId": "3da885c9-7ac0-4801-dd2f-dfb01e6237c8"
      },
      "outputs": [
        {
          "data": {
            "text/plain": [
              "forced air          133475\n",
              "other                29064\n",
              "central electric     11364\n",
              "electric             10176\n",
              "gas                   9318\n",
              "Name: heating, dtype: int64"
            ]
          },
          "execution_count": 322,
          "metadata": {},
          "output_type": "execute_result"
        }
      ],
      "source": [
        "hm.heating.value_counts().head(5)"
      ]
    },
    {
      "cell_type": "markdown",
      "metadata": {
        "id": "raKKQ5qWamrp"
      },
      "source": [
        "### cooling"
      ]
    },
    {
      "cell_type": "code",
      "execution_count": null,
      "metadata": {
        "id": "vG18Nsrhb3jP"
      },
      "outputs": [],
      "source": [
        "# Приведем строки к нижнему регистру\n",
        "hm.cooling = hm.cooling.str.lower()"
      ]
    },
    {
      "cell_type": "code",
      "execution_count": null,
      "metadata": {
        "id": "vItguhmpb4D4"
      },
      "outputs": [],
      "source": [
        "# Очередная функция для изменения строк.\n",
        "def form_cooling_re(x):\n",
        "\n",
        "  x = re.sub(r'\\([^()]*\\)', '', x)\n",
        "  x = re.sub(r'forced air', 'forced air', x)\n",
        "  x = re.sub(r'central, electric', 'central electric', x) \n",
        "  x = re.sub(r', electric hot air', 'electric hot air', x)\n",
        "  x = re.sub(r', gas hot air/furnace', 'gas hot air/furnace', x)\n",
        "  x = re.sub(r', natural gas', 'natural gas', x)\n",
        "  x = re.sub(r', multizone heat', 'multizone heat', x)\n",
        "  x = re.sub(r', g-fresh air ventilation', 'g-fresh air ventilation', x)\n",
        "  x = re.sub(r', gas water heater', 'gas water heater', x)\n",
        "  x = re.sub(r'radiators', 'radiator', x)\n",
        "  x = re.sub(r', heat pump - heat', 'heat pump - heat', x)\n",
        "  x = re.sub(r', electric baseboard heat', 'electric baseboard heat', x)\n",
        "  x = re.sub(r'gas gas', 'gas', x)\n",
        "  x = re.sub(r'wall units / window unit', 'wall/window unit', x)\n",
        "  x = re.sub(r'window units', 'window unit', x)\n",
        "  x = re.sub(r', g-energy star hvacgas hot air/furnace', 'g-energy star hvacgas hot air/furnace', x)\n",
        "  x = re.sub(r', pellet', 'pellet', x)\n",
        "  x = re.sub(r'g-energy star hvacg-fresh air ventilationgas hot air/furnacegas water heatermultizone heatnatural gas', 'g-energy star hvac', x)\n",
        "  x = re.sub(r'g-energy star hvacgas hot air/furnace', 'g-energy star hvac', x)\n",
        "  x = re.sub(r', g-energy star hvacg-fresh air ventilationgas hot air/furnacemultizone heatnatural gas', 'g-energy star hvac', x)\n",
        "  x = re.sub(r'g-energy star hvacg-fresh air ventilationgas hot air/furnacemultizone heatnatural gas', 'g-energy star hvac', x)\n",
        "  x = re.sub(r'g-energy star hvacg-fresh air ventilationgas hot air/furnacemultizone heat', 'g-energy star hvac', x)\n",
        "  x = re.sub(r'g-energy star hvacmultizone heat', 'g-energy star hvac', x)\n",
        "  x = re.sub(r', g-energy star hvacmultizone heatnatural gas', 'g-energy star hvac', x)\n",
        "  x = re.sub(r', g-energy star hvac', 'g-energy star hvac', x)\n",
        "  x = re.sub(r'g-energy star hvacg-fresh air ventilationgas hot air/furnace', 'g-energy star hvac', x)\n",
        "  x = re.sub(r'electric hot airg-energy star hvac', 'g-energy star hvac', x)\n",
        "  x = re.sub(r'g-energy star hvacg-fresh air ventilationheat pump - heatmultizone heat', 'g-energy star hvac', x)\n",
        "  x = re.sub(r'g-energy star hvacg-fresh air ventilationgas hot air/furnaceheat pump - heatmultizone heatnatural gas', 'g-energy star hvac', x)\n",
        "  x = re.sub(r'g-energy star hvacheat pump - heatmultizone heat', 'g-energy star hvac', x)\n",
        "  x = re.sub(r', g-energy star hvac', 'g-energy star hvac', x)\n",
        "  x = re.sub(r'g-energy star hvacnatural gas', 'g-energy star hvac', x)\n",
        "  x = re.sub(r'g-energy star hvacheat pump - heatnatural gas', 'g-energy star hvac', x)\n",
        "  x = re.sub(r'g-energy star hvacgas water heatermultizone heatnatural gas', 'g-energy star hvac', x)\n",
        "  x = re.sub(r'g-energy star hvac, gas floor furnacegas hot air/furnacemultizone heatnatural gas', 'g-energy star hvac', x)\n",
        "  x = re.sub(r'g-energy star hvacheat pump - heat', 'g-energy star hvac', x)\n",
        "  x = re.sub(r'g-energy star hvacg-fresh air ventilationmultizone heatnatural gas', 'g-energy star hvac', x)\n",
        "  x = re.sub(r'garage-tankless, gas', 'garage-tankless', x)\n",
        "  x = re.sub(r'garage-tankless h2o', 'garage-tankless', x)\n",
        "  x = re.sub(r'garage-tankless water heater', 'garage-tankless', x)\n",
        "  x = re.sub(r'tank in garage and tankless upstairs-gas', 'garage-tankless', x)\n",
        "  x = re.sub(r'garage-natural gas on demand', 'garage-on-demand navien', x)\n",
        "  x = re.sub(r'propane/butane', 'propane', x)\n",
        "  x = re.sub(r'propane butane', 'propane', x)\n",
        "  x = re.sub(r'propane gas', 'propane', x)\n",
        "  x = re.sub(r'propane-owned', 'propane', x)\n",
        "  x = re.sub(r'gas - liquid propane bottlepellet', 'liquid propane', x)\n",
        "  x = re.sub(r'gas - liquid propane bottle', 'liquid propane', x)\n",
        "  x = re.sub(r'wood-burning', 'wood burning', x)\n",
        "  x = re.sub(r'woodburning', 'wood burning', x)\n",
        "  x = re.sub(r', gas floor furnace heat pump - heat', 'gas, floor furnace, heat pump - heat', x)\n",
        "  x = re.sub(r'zone', 'zoned', x)\n",
        "  x = re.sub(r'multi-zones', 'multi zone', x)\n",
        "  x = re.sub(r'multi-zone', 'multi zone', x)\n",
        "  x = re.sub(r'wood-burning', 'wood burning', x)\n",
        "  x = re.sub(r'woodburning', 'wood burning', x)\n",
        "  x = re.sub(r', gas floor furnace heat pump - heat', 'gas, floor furnace, heat pump - heat', x)\n",
        "  x = re.sub(r'zone', 'zoned', x)\n",
        "  x = re.sub(r'multi-zones', 'multi zone', x)\n",
        "  x = re.sub(r'multi-zone', 'multi zone', x)\n",
        "  x = re.sub(r', ceiling heating', 'ceiling heating', x)\n",
        "  x = re.sub(r'zoneddd', 'zoned', x)\n",
        "  x = re.sub(r'wood burning furnace', 'wood burning', x)\n",
        "  x = re.sub(r'woodburning', 'wood burning', x)\n",
        "  x = re.sub(r'heat pump - ac', 'heat pump', x)\n",
        "  x = re.sub(r'wall or window unit', 'wall/window unit', x)\n",
        "  x = re.sub(r'wall ac units', 'wall', x)\n",
        "  x = re.sub(r'wall unit', 'wall', x)\n",
        "  x = re.sub(r'wall unit cooling', 'wall', x)\n",
        "  x = re.sub(r', multizonedd a/c', 'multizonedd a/c', x)\n",
        "  x = re.sub(r'multi zonedd', 'multizonedd a/c', x)\n",
        "  x = re.sub(r'central,', 'central', x)\n",
        "  x = re.sub(r'woodstove', 'wood stove', x)\n",
        "  x = re.sub(r'stove - wood', 'wood stove', x)\n",
        "  x = re.sub(r'g-sealed combustion fireplace/wood stove', 'g-sealed combustion fireplace, wood stove', x)\n",
        "  x = re.sub(r'furnace - wood/oil combo', 'wood stove', x)\n",
        "  x = re.sub(r'woodstove', 'wood stove', x)\n",
        "  x = re.sub(r', wall - ac', 'wall - ac', x)\n",
        "\n",
        "\n",
        "  if x == '':\n",
        "    x = np.nan\n",
        "\n",
        "  return x"
      ]
    },
    {
      "cell_type": "code",
      "execution_count": null,
      "metadata": {
        "id": "W1bykVXIbokn"
      },
      "outputs": [],
      "source": [
        "# Заполним пропуски пустой строкой\n",
        "hm.cooling.fillna('', inplace = True)\n",
        "hm.cooling = hm.cooling.apply(form_cooling_re)"
      ]
    },
    {
      "cell_type": "code",
      "execution_count": null,
      "metadata": {
        "colab": {
          "base_uri": "https://localhost:8080/"
        },
        "id": "JZKGtDYpuzDY",
        "outputId": "cbf718e1-0167-457a-e512-de9c3489d12b"
      },
      "outputs": [
        {
          "data": {
            "text/plain": [
              "central             157628\n",
              "central air          14382\n",
              "has cooling           9729\n",
              "central electric      7213\n",
              "wall                  4120\n",
              "Name: cooling, dtype: int64"
            ]
          },
          "execution_count": 326,
          "metadata": {},
          "output_type": "execute_result"
        }
      ],
      "source": [
        "hm.cooling.value_counts().head(5)"
      ]
    },
    {
      "cell_type": "markdown",
      "metadata": {
        "id": "BuIXN4pNkqv8"
      },
      "source": [
        "### parking"
      ]
    },
    {
      "cell_type": "code",
      "execution_count": null,
      "metadata": {
        "id": "f_7HQoKUlF8s"
      },
      "outputs": [],
      "source": [
        "hm.parking = hm.parking.str.lower()"
      ]
    },
    {
      "cell_type": "code",
      "execution_count": null,
      "metadata": {
        "colab": {
          "base_uri": "https://localhost:8080/"
        },
        "id": "rcVlRmTYvWSP",
        "outputId": "c4edc03d-0b5c-4545-f861-dfcfcfc61ac2"
      },
      "outputs": [
        {
          "data": {
            "text/plain": [
              "attached garage    70240\n",
              "2 spaces           27865\n",
              "1 space            14109\n",
              "detached garage    13093\n",
              "carport             7664\n",
              "Name: parking, dtype: int64"
            ]
          },
          "execution_count": 328,
          "metadata": {},
          "output_type": "execute_result"
        }
      ],
      "source": [
        "hm.parking.value_counts().head(5)"
      ]
    },
    {
      "cell_type": "markdown",
      "metadata": {
        "id": "WA_Qa1CDlQcq"
      },
      "source": [
        "### lotsize"
      ]
    },
    {
      "cell_type": "code",
      "execution_count": null,
      "metadata": {
        "id": "ZfOYRYAUlYv0"
      },
      "outputs": [],
      "source": [
        "# Приведем строки к нижнему регистру\n",
        "hm.lotsize = hm.lotsize.str.lower()"
      ]
    },
    {
      "cell_type": "code",
      "execution_count": null,
      "metadata": {
        "id": "UY8AWDKH0z51"
      },
      "outputs": [],
      "source": [
        "# Найдем строки где значение приведено в акрах\n",
        "acres_index = hm.lotsize[hm.lotsize.str.contains('acr') == True].index"
      ]
    },
    {
      "cell_type": "code",
      "execution_count": null,
      "metadata": {
        "id": "DNvhKFnkmv36"
      },
      "outputs": [],
      "source": [
        "# Функция для приведения столбца sqft к числовому виду.\n",
        "def form_lotsize(x):\n",
        "  x = x.replace(\"sq.\", \"\", 1)\n",
        "  x = x.replace(\"ft.\", \"\", 1)\n",
        "  x = re.sub(r'acres', '', x)\n",
        "  x = re.sub(r'acres lot', '', x)\n",
        "  x = re.sub(r'lot', '', x)\n",
        "  x = re.sub(r'sqft', '', x)\n",
        "  x = re.sub(r'(sq.ft)', '', x)\n",
        "  x = re.sub(r'acre', '', x)\n",
        "  x = re.sub(r'[—]', '', x)\n",
        "  x = re.sub(r'Total interior livable area: ', '', x) \n",
        "  x = re.sub(r',', '', x)\n",
        "  x = re.sub(r'--', '', x) \n",
        "  x = re.sub(r'-', '', x) \n",
        "  x = re.sub(r' ', '', x)\n",
        "  x = re.sub(r'^0', '0.', x)\n",
        "  x = x.replace(\"..\", \".\", 1)\n",
        "\n",
        "  return x\n",
        "\n"
      ]
    },
    {
      "cell_type": "code",
      "execution_count": null,
      "metadata": {
        "id": "nx5t_hszvg-w"
      },
      "outputs": [],
      "source": [
        "# Заполняем пропуски, применяем функцию, возвращаем nan, приводим к числовому виду\n",
        "hm.lotsize.fillna('', inplace = True)\n",
        "hm.lotsize = hm.lotsize.apply(form_lotsize)\n",
        "hm.lotsize = hm.lotsize.apply(lambda x: x if x != '' else np.nan )\n",
        "hm.lotsize = hm.lotsize.astype(float)\n"
      ]
    },
    {
      "cell_type": "code",
      "execution_count": null,
      "metadata": {
        "colab": {
          "base_uri": "https://localhost:8080/"
        },
        "id": "E2H_Iau1FtoY",
        "outputId": "c3a8a17a-11df-4a63-8e37-b72dd4daa942"
      },
      "outputs": [
        {
          "name": "stderr",
          "output_type": "stream",
          "text": [
            "/usr/local/lib/python3.7/dist-packages/pandas/core/indexing.py:1732: SettingWithCopyWarning: \n",
            "A value is trying to be set on a copy of a slice from a DataFrame\n",
            "\n",
            "See the caveats in the documentation: https://pandas.pydata.org/pandas-docs/stable/user_guide/indexing.html#returning-a-view-versus-a-copy\n",
            "  self._setitem_single_block(indexer, value, name)\n"
          ]
        }
      ],
      "source": [
        "# Преобразуем акры в футы\n",
        "for i in hm.index:\n",
        "  if i in acres_index:\n",
        "    hm.lotsize.iloc[i] *= 43560\n",
        "  \n"
      ]
    },
    {
      "cell_type": "markdown",
      "metadata": {
        "id": "AJfNPh_eiXOi"
      },
      "source": [
        "### price_sqft\n"
      ]
    },
    {
      "cell_type": "code",
      "execution_count": null,
      "metadata": {
        "id": "Aseco7RQimoR"
      },
      "outputs": [],
      "source": [
        "# Нижний регистр\n",
        "hm.price_sqft = hm.price_sqft.str.lower()"
      ]
    },
    {
      "cell_type": "code",
      "execution_count": null,
      "metadata": {
        "id": "nu7Uqjygi6XK"
      },
      "outputs": [],
      "source": [
        "# Функция для приведения столбца sqft к числовому виду.\n",
        "def price_sqft(x):\n",
        "\n",
        "  x = re.sub(r'/sqft', '', x)\n",
        "  x = re.sub(r' / sq. ft.', '', x)\n",
        "  x = x.replace(r'$', '', 1)\n",
        "  x = re.sub(r'no info', '', x)\n",
        "  x = re.sub(r',', '', x)\n",
        "  x = re.sub(r'contact manager', '', x)\n",
        "\n",
        "  return x"
      ]
    },
    {
      "cell_type": "code",
      "execution_count": null,
      "metadata": {
        "id": "Pif_K6MejESi"
      },
      "outputs": [],
      "source": [
        "# Заполняем пропуски, применяем функцию, возвращаем nan, приводим к числовому виду\n",
        "hm.price_sqft.fillna('', inplace = True)\n",
        "hm.price_sqft = hm.price_sqft.apply(price_sqft)\n",
        "hm.price_sqft = hm.price_sqft.apply(lambda x: x if x != '' else np.nan )\n",
        "hm.price_sqft = hm.price_sqft.astype(float)"
      ]
    },
    {
      "cell_type": "code",
      "execution_count": null,
      "metadata": {
        "colab": {
          "base_uri": "https://localhost:8080/"
        },
        "id": "Aog8U410vVfn",
        "outputId": "12b575b6-022e-42d3-d093-69049eab769f"
      },
      "outputs": [
        {
          "data": {
            "text/html": [
              "\n",
              "  <div id=\"df-c6484661-373a-4c44-aac6-6ec8c23c2d25\">\n",
              "    <div class=\"colab-df-container\">\n",
              "      <div>\n",
              "<style scoped>\n",
              "    .dataframe tbody tr th:only-of-type {\n",
              "        vertical-align: middle;\n",
              "    }\n",
              "\n",
              "    .dataframe tbody tr th {\n",
              "        vertical-align: top;\n",
              "    }\n",
              "\n",
              "    .dataframe thead th {\n",
              "        text-align: right;\n",
              "    }\n",
              "</style>\n",
              "<table border=\"1\" class=\"dataframe\">\n",
              "  <thead>\n",
              "    <tr style=\"text-align: right;\">\n",
              "      <th></th>\n",
              "      <th>year_built</th>\n",
              "      <th>remodeled_year</th>\n",
              "      <th>heating</th>\n",
              "      <th>cooling</th>\n",
              "      <th>parking</th>\n",
              "      <th>lotsize</th>\n",
              "      <th>price_sqft</th>\n",
              "    </tr>\n",
              "  </thead>\n",
              "  <tbody>\n",
              "    <tr>\n",
              "      <th>0</th>\n",
              "      <td>2019</td>\n",
              "      <td>NaN</td>\n",
              "      <td>central a/c, heat pump</td>\n",
              "      <td>NaN</td>\n",
              "      <td>NaN</td>\n",
              "      <td>NaN</td>\n",
              "      <td>144.0</td>\n",
              "    </tr>\n",
              "    <tr>\n",
              "      <th>1</th>\n",
              "      <td>2019</td>\n",
              "      <td>NaN</td>\n",
              "      <td>NaN</td>\n",
              "      <td>NaN</td>\n",
              "      <td>NaN</td>\n",
              "      <td>5828.0</td>\n",
              "      <td>159.0</td>\n",
              "    </tr>\n",
              "    <tr>\n",
              "      <th>2</th>\n",
              "      <td>1961</td>\n",
              "      <td>1967.0</td>\n",
              "      <td>forced air</td>\n",
              "      <td>central</td>\n",
              "      <td>attached garage</td>\n",
              "      <td>8626.0</td>\n",
              "      <td>965.0</td>\n",
              "    </tr>\n",
              "    <tr>\n",
              "      <th>3</th>\n",
              "      <td>2006</td>\n",
              "      <td>2006.0</td>\n",
              "      <td>forced air</td>\n",
              "      <td>central</td>\n",
              "      <td>detached garage</td>\n",
              "      <td>8220.0</td>\n",
              "      <td>371.0</td>\n",
              "    </tr>\n",
              "    <tr>\n",
              "      <th>4</th>\n",
              "      <td>NaN</td>\n",
              "      <td>NaN</td>\n",
              "      <td>NaN</td>\n",
              "      <td>NaN</td>\n",
              "      <td>NaN</td>\n",
              "      <td>10019.0</td>\n",
              "      <td>NaN</td>\n",
              "    </tr>\n",
              "    <tr>\n",
              "      <th>5</th>\n",
              "      <td>1920</td>\n",
              "      <td>NaN</td>\n",
              "      <td>forced air</td>\n",
              "      <td>central</td>\n",
              "      <td>NaN</td>\n",
              "      <td>680.0</td>\n",
              "      <td>233.0</td>\n",
              "    </tr>\n",
              "    <tr>\n",
              "      <th>6</th>\n",
              "      <td>2006</td>\n",
              "      <td>2006.0</td>\n",
              "      <td>electric, heat pump</td>\n",
              "      <td>central air</td>\n",
              "      <td>NaN</td>\n",
              "      <td>4996.0</td>\n",
              "      <td>120.0</td>\n",
              "    </tr>\n",
              "    <tr>\n",
              "      <th>7</th>\n",
              "      <td>1976</td>\n",
              "      <td>NaN</td>\n",
              "      <td>NaN</td>\n",
              "      <td>NaN</td>\n",
              "      <td>NaN</td>\n",
              "      <td>8750.0</td>\n",
              "      <td>57.0</td>\n",
              "    </tr>\n",
              "    <tr>\n",
              "      <th>8</th>\n",
              "      <td>1970</td>\n",
              "      <td>NaN</td>\n",
              "      <td>forced air</td>\n",
              "      <td>central</td>\n",
              "      <td>NaN</td>\n",
              "      <td>124582.0</td>\n",
              "      <td>68.0</td>\n",
              "    </tr>\n",
              "    <tr>\n",
              "      <th>9</th>\n",
              "      <td>2019</td>\n",
              "      <td>NaN</td>\n",
              "      <td>gas</td>\n",
              "      <td>central</td>\n",
              "      <td>attached garage</td>\n",
              "      <td>2056.0</td>\n",
              "      <td>162.0</td>\n",
              "    </tr>\n",
              "  </tbody>\n",
              "</table>\n",
              "</div>\n",
              "      <button class=\"colab-df-convert\" onclick=\"convertToInteractive('df-c6484661-373a-4c44-aac6-6ec8c23c2d25')\"\n",
              "              title=\"Convert this dataframe to an interactive table.\"\n",
              "              style=\"display:none;\">\n",
              "        \n",
              "  <svg xmlns=\"http://www.w3.org/2000/svg\" height=\"24px\"viewBox=\"0 0 24 24\"\n",
              "       width=\"24px\">\n",
              "    <path d=\"M0 0h24v24H0V0z\" fill=\"none\"/>\n",
              "    <path d=\"M18.56 5.44l.94 2.06.94-2.06 2.06-.94-2.06-.94-.94-2.06-.94 2.06-2.06.94zm-11 1L8.5 8.5l.94-2.06 2.06-.94-2.06-.94L8.5 2.5l-.94 2.06-2.06.94zm10 10l.94 2.06.94-2.06 2.06-.94-2.06-.94-.94-2.06-.94 2.06-2.06.94z\"/><path d=\"M17.41 7.96l-1.37-1.37c-.4-.4-.92-.59-1.43-.59-.52 0-1.04.2-1.43.59L10.3 9.45l-7.72 7.72c-.78.78-.78 2.05 0 2.83L4 21.41c.39.39.9.59 1.41.59.51 0 1.02-.2 1.41-.59l7.78-7.78 2.81-2.81c.8-.78.8-2.07 0-2.86zM5.41 20L4 18.59l7.72-7.72 1.47 1.35L5.41 20z\"/>\n",
              "  </svg>\n",
              "      </button>\n",
              "      \n",
              "  <style>\n",
              "    .colab-df-container {\n",
              "      display:flex;\n",
              "      flex-wrap:wrap;\n",
              "      gap: 12px;\n",
              "    }\n",
              "\n",
              "    .colab-df-convert {\n",
              "      background-color: #E8F0FE;\n",
              "      border: none;\n",
              "      border-radius: 50%;\n",
              "      cursor: pointer;\n",
              "      display: none;\n",
              "      fill: #1967D2;\n",
              "      height: 32px;\n",
              "      padding: 0 0 0 0;\n",
              "      width: 32px;\n",
              "    }\n",
              "\n",
              "    .colab-df-convert:hover {\n",
              "      background-color: #E2EBFA;\n",
              "      box-shadow: 0px 1px 2px rgba(60, 64, 67, 0.3), 0px 1px 3px 1px rgba(60, 64, 67, 0.15);\n",
              "      fill: #174EA6;\n",
              "    }\n",
              "\n",
              "    [theme=dark] .colab-df-convert {\n",
              "      background-color: #3B4455;\n",
              "      fill: #D2E3FC;\n",
              "    }\n",
              "\n",
              "    [theme=dark] .colab-df-convert:hover {\n",
              "      background-color: #434B5C;\n",
              "      box-shadow: 0px 1px 3px 1px rgba(0, 0, 0, 0.15);\n",
              "      filter: drop-shadow(0px 1px 2px rgba(0, 0, 0, 0.3));\n",
              "      fill: #FFFFFF;\n",
              "    }\n",
              "  </style>\n",
              "\n",
              "      <script>\n",
              "        const buttonEl =\n",
              "          document.querySelector('#df-c6484661-373a-4c44-aac6-6ec8c23c2d25 button.colab-df-convert');\n",
              "        buttonEl.style.display =\n",
              "          google.colab.kernel.accessAllowed ? 'block' : 'none';\n",
              "\n",
              "        async function convertToInteractive(key) {\n",
              "          const element = document.querySelector('#df-c6484661-373a-4c44-aac6-6ec8c23c2d25');\n",
              "          const dataTable =\n",
              "            await google.colab.kernel.invokeFunction('convertToInteractive',\n",
              "                                                     [key], {});\n",
              "          if (!dataTable) return;\n",
              "\n",
              "          const docLinkHtml = 'Like what you see? Visit the ' +\n",
              "            '<a target=\"_blank\" href=https://colab.research.google.com/notebooks/data_table.ipynb>data table notebook</a>'\n",
              "            + ' to learn more about interactive tables.';\n",
              "          element.innerHTML = '';\n",
              "          dataTable['output_type'] = 'display_data';\n",
              "          await google.colab.output.renderOutput(dataTable, element);\n",
              "          const docLink = document.createElement('div');\n",
              "          docLink.innerHTML = docLinkHtml;\n",
              "          element.appendChild(docLink);\n",
              "        }\n",
              "      </script>\n",
              "    </div>\n",
              "  </div>\n",
              "  "
            ],
            "text/plain": [
              "  year_built  remodeled_year                 heating      cooling  \\\n",
              "0       2019             NaN  central a/c, heat pump          NaN   \n",
              "1       2019             NaN                     NaN          NaN   \n",
              "2       1961          1967.0              forced air      central   \n",
              "3       2006          2006.0              forced air      central   \n",
              "4        NaN             NaN                     NaN          NaN   \n",
              "5       1920             NaN              forced air      central   \n",
              "6       2006          2006.0     electric, heat pump  central air   \n",
              "7       1976             NaN                     NaN          NaN   \n",
              "8       1970             NaN              forced air      central   \n",
              "9       2019             NaN                     gas      central   \n",
              "\n",
              "           parking   lotsize  price_sqft  \n",
              "0              NaN       NaN       144.0  \n",
              "1              NaN    5828.0       159.0  \n",
              "2  attached garage    8626.0       965.0  \n",
              "3  detached garage    8220.0       371.0  \n",
              "4              NaN   10019.0         NaN  \n",
              "5              NaN     680.0       233.0  \n",
              "6              NaN    4996.0       120.0  \n",
              "7              NaN    8750.0        57.0  \n",
              "8              NaN  124582.0        68.0  \n",
              "9  attached garage    2056.0       162.0  "
            ]
          },
          "execution_count": 338,
          "metadata": {},
          "output_type": "execute_result"
        }
      ],
      "source": [
        "hm.head(10)"
      ]
    },
    {
      "cell_type": "markdown",
      "metadata": {
        "id": "B4eWC2ehI77P"
      },
      "source": [
        "#### Сохранение результата."
      ]
    },
    {
      "cell_type": "code",
      "execution_count": null,
      "metadata": {
        "id": "vkNtba4iJGU-"
      },
      "outputs": [],
      "source": [
        "hm.to_csv('/content/gdrive/MyDrive/Diplom_project/hm_form.csv')"
      ]
    },
    {
      "cell_type": "markdown",
      "metadata": {
        "id": "uRlUPn10qUtJ"
      },
      "source": [
        "## Загрузка датасета Schools"
      ]
    },
    {
      "cell_type": "code",
      "execution_count": null,
      "metadata": {
        "id": "hNs-AmFXqujn"
      },
      "outputs": [],
      "source": [
        "df_scools_1 = pd.read_csv('/content/gdrive/MyDrive/Diplom_project/scools_from_df_1.csv')\n",
        "df_scools_2 = pd.read_csv('/content/gdrive/MyDrive/Diplom_project/scools_from_df_2.csv')\n",
        "df_scools_3 = pd.read_csv('/content/gdrive/MyDrive/Diplom_project/scools_from_df_3.csv')\n",
        "df_scools_4 = pd.read_csv('/content/gdrive/MyDrive/Diplom_project/scools_from_df_4.csv')\n",
        "df_scools = pd.concat([df_scools_1, df_scools_2,df_scools_3,df_scools_4], axis = 0).reset_index().drop(['index','Unnamed: 0'], axis = 1)"
      ]
    },
    {
      "cell_type": "code",
      "execution_count": null,
      "metadata": {
        "id": "TW7L5eoqrz4H"
      },
      "outputs": [],
      "source": [
        "df_scools.columns = df_scools.columns.str.lower()\n",
        "df_scools.rename(columns={'data.distance':'data_distance', 'data.grades':'data_grades'}, inplace=True)"
      ]
    },
    {
      "cell_type": "code",
      "execution_count": null,
      "metadata": {
        "id": "iNYdK5qet9On"
      },
      "outputs": [],
      "source": [
        "#df_scools.rating = df_scools.rating.apply(lambda x: np.nan if x == '[]' else x)\n",
        "#df_scools.name = df_scools.name.apply(lambda x: np.nan if x == '[]' else x)\n",
        "#df_scools.data_distance = df_scools.data_distance.apply(lambda x: np.nan if (x == '[]') else x)\n",
        "#df_scools.data_grades = df_scools.data_grades.apply(lambda x: np.nan if x == '[]' else x)"
      ]
    },
    {
      "cell_type": "code",
      "execution_count": null,
      "metadata": {
        "colab": {
          "base_uri": "https://localhost:8080/"
        },
        "id": "6hkfCmqF5aWB",
        "outputId": "55319287-2c08-483c-b1d0-c49f332bc20f"
      },
      "outputs": [
        {
          "data": {
            "text/html": [
              "\n",
              "  <div id=\"df-c1c36960-d12e-440e-8887-96348cb957ec\">\n",
              "    <div class=\"colab-df-container\">\n",
              "      <div>\n",
              "<style scoped>\n",
              "    .dataframe tbody tr th:only-of-type {\n",
              "        vertical-align: middle;\n",
              "    }\n",
              "\n",
              "    .dataframe tbody tr th {\n",
              "        vertical-align: top;\n",
              "    }\n",
              "\n",
              "    .dataframe thead th {\n",
              "        text-align: right;\n",
              "    }\n",
              "</style>\n",
              "<table border=\"1\" class=\"dataframe\">\n",
              "  <thead>\n",
              "    <tr style=\"text-align: right;\">\n",
              "      <th></th>\n",
              "      <th>rating</th>\n",
              "      <th>name</th>\n",
              "      <th>data_distance</th>\n",
              "      <th>data_grades</th>\n",
              "    </tr>\n",
              "  </thead>\n",
              "  <tbody>\n",
              "    <tr>\n",
              "      <th>0</th>\n",
              "      <td>['4', '4', '7', 'NR', '4', '7', 'NR', 'NR']</td>\n",
              "      <td>['Southern Pines Elementary School', 'Southern...</td>\n",
              "      <td>['2.7 mi', '3.6 mi', '5.1 mi', '4.0 mi', '10.5...</td>\n",
              "      <td>['3–5', '6–8', '9–12', 'PK–2', '6–8', '9–12', ...</td>\n",
              "    </tr>\n",
              "    <tr>\n",
              "      <th>1</th>\n",
              "      <td>['4/10', 'None', '4/10']</td>\n",
              "      <td>['East Valley High School&amp;Extension', 'Eastval...</td>\n",
              "      <td>['1.65mi', '1.32mi', '1.01mi']</td>\n",
              "      <td>['9-12', '3-8', 'PK-8']</td>\n",
              "    </tr>\n",
              "    <tr>\n",
              "      <th>2</th>\n",
              "      <td>['8/10', '4/10', '8/10']</td>\n",
              "      <td>['Paul Revere Middle School', 'Brentwood Scien...</td>\n",
              "      <td>['1.19mi', '2.06mi', '2.63mi']</td>\n",
              "      <td>['6-8', 'K-5', '9-12']</td>\n",
              "    </tr>\n",
              "    <tr>\n",
              "      <th>3</th>\n",
              "      <td>['9/10', '9/10', '10/10', '9/10']</td>\n",
              "      <td>['Mcculloch Intermediate School', 'Bradfield E...</td>\n",
              "      <td>['1.05mi', '0.1mi', '1.05mi', '0.81mi']</td>\n",
              "      <td>['5-6', 'PK-4', '7-8', '9-12']</td>\n",
              "    </tr>\n",
              "    <tr>\n",
              "      <th>4</th>\n",
              "      <td>['4/10', '5/10', '5/10']</td>\n",
              "      <td>['Southwest Middle School', 'Bayside High Scho...</td>\n",
              "      <td>['5.96mi', '3.25mi', '3.03mi']</td>\n",
              "      <td>['7-8', '9-12', 'PK-6']</td>\n",
              "    </tr>\n",
              "    <tr>\n",
              "      <th>5</th>\n",
              "      <td>[]</td>\n",
              "      <td>[]</td>\n",
              "      <td>[]</td>\n",
              "      <td>[]</td>\n",
              "    </tr>\n",
              "    <tr>\n",
              "      <th>6</th>\n",
              "      <td>['3', '3', '1', 'NR']</td>\n",
              "      <td>['Palmetto Elementary School', 'Haines City Se...</td>\n",
              "      <td>['0.8 mi', '8.3 mi', '4.2 mi', '2.0 mi']</td>\n",
              "      <td>['Preschool to 4', 'Preschool to 12', '5 to 8'...</td>\n",
              "    </tr>\n",
              "    <tr>\n",
              "      <th>7</th>\n",
              "      <td>['4', '2', '2']</td>\n",
              "      <td>['Crump Elementary School', 'Hickory Ridge Mid...</td>\n",
              "      <td>['0.7 mi', '0.4 mi', '2.2 mi']</td>\n",
              "      <td>['Preschool to 5', '6 to 8', '9 to 12']</td>\n",
              "    </tr>\n",
              "    <tr>\n",
              "      <th>8</th>\n",
              "      <td>['2', '2', '4', '7', '4', 'NR']</td>\n",
              "      <td>['Roosevelt Elementary School', 'Lincoln Inter...</td>\n",
              "      <td>['5.6 mi', '5.6 mi', '6.8 mi', '6.5 mi', '6.8 ...</td>\n",
              "      <td>['PK–4', '5–6', '9–12', 'PK–4', '7–8', '9–12']</td>\n",
              "    </tr>\n",
              "    <tr>\n",
              "      <th>9</th>\n",
              "      <td>['4/10', '3/10', '2/10']</td>\n",
              "      <td>['Edgewood Elementary School', 'Landrum Middle...</td>\n",
              "      <td>['0.7 mi', '0.6 mi', '1.9 mi']</td>\n",
              "      <td>['PK-5', '5-8', '9-12']</td>\n",
              "    </tr>\n",
              "  </tbody>\n",
              "</table>\n",
              "</div>\n",
              "      <button class=\"colab-df-convert\" onclick=\"convertToInteractive('df-c1c36960-d12e-440e-8887-96348cb957ec')\"\n",
              "              title=\"Convert this dataframe to an interactive table.\"\n",
              "              style=\"display:none;\">\n",
              "        \n",
              "  <svg xmlns=\"http://www.w3.org/2000/svg\" height=\"24px\"viewBox=\"0 0 24 24\"\n",
              "       width=\"24px\">\n",
              "    <path d=\"M0 0h24v24H0V0z\" fill=\"none\"/>\n",
              "    <path d=\"M18.56 5.44l.94 2.06.94-2.06 2.06-.94-2.06-.94-.94-2.06-.94 2.06-2.06.94zm-11 1L8.5 8.5l.94-2.06 2.06-.94-2.06-.94L8.5 2.5l-.94 2.06-2.06.94zm10 10l.94 2.06.94-2.06 2.06-.94-2.06-.94-.94-2.06-.94 2.06-2.06.94z\"/><path d=\"M17.41 7.96l-1.37-1.37c-.4-.4-.92-.59-1.43-.59-.52 0-1.04.2-1.43.59L10.3 9.45l-7.72 7.72c-.78.78-.78 2.05 0 2.83L4 21.41c.39.39.9.59 1.41.59.51 0 1.02-.2 1.41-.59l7.78-7.78 2.81-2.81c.8-.78.8-2.07 0-2.86zM5.41 20L4 18.59l7.72-7.72 1.47 1.35L5.41 20z\"/>\n",
              "  </svg>\n",
              "      </button>\n",
              "      \n",
              "  <style>\n",
              "    .colab-df-container {\n",
              "      display:flex;\n",
              "      flex-wrap:wrap;\n",
              "      gap: 12px;\n",
              "    }\n",
              "\n",
              "    .colab-df-convert {\n",
              "      background-color: #E8F0FE;\n",
              "      border: none;\n",
              "      border-radius: 50%;\n",
              "      cursor: pointer;\n",
              "      display: none;\n",
              "      fill: #1967D2;\n",
              "      height: 32px;\n",
              "      padding: 0 0 0 0;\n",
              "      width: 32px;\n",
              "    }\n",
              "\n",
              "    .colab-df-convert:hover {\n",
              "      background-color: #E2EBFA;\n",
              "      box-shadow: 0px 1px 2px rgba(60, 64, 67, 0.3), 0px 1px 3px 1px rgba(60, 64, 67, 0.15);\n",
              "      fill: #174EA6;\n",
              "    }\n",
              "\n",
              "    [theme=dark] .colab-df-convert {\n",
              "      background-color: #3B4455;\n",
              "      fill: #D2E3FC;\n",
              "    }\n",
              "\n",
              "    [theme=dark] .colab-df-convert:hover {\n",
              "      background-color: #434B5C;\n",
              "      box-shadow: 0px 1px 3px 1px rgba(0, 0, 0, 0.15);\n",
              "      filter: drop-shadow(0px 1px 2px rgba(0, 0, 0, 0.3));\n",
              "      fill: #FFFFFF;\n",
              "    }\n",
              "  </style>\n",
              "\n",
              "      <script>\n",
              "        const buttonEl =\n",
              "          document.querySelector('#df-c1c36960-d12e-440e-8887-96348cb957ec button.colab-df-convert');\n",
              "        buttonEl.style.display =\n",
              "          google.colab.kernel.accessAllowed ? 'block' : 'none';\n",
              "\n",
              "        async function convertToInteractive(key) {\n",
              "          const element = document.querySelector('#df-c1c36960-d12e-440e-8887-96348cb957ec');\n",
              "          const dataTable =\n",
              "            await google.colab.kernel.invokeFunction('convertToInteractive',\n",
              "                                                     [key], {});\n",
              "          if (!dataTable) return;\n",
              "\n",
              "          const docLinkHtml = 'Like what you see? Visit the ' +\n",
              "            '<a target=\"_blank\" href=https://colab.research.google.com/notebooks/data_table.ipynb>data table notebook</a>'\n",
              "            + ' to learn more about interactive tables.';\n",
              "          element.innerHTML = '';\n",
              "          dataTable['output_type'] = 'display_data';\n",
              "          await google.colab.output.renderOutput(dataTable, element);\n",
              "          const docLink = document.createElement('div');\n",
              "          docLink.innerHTML = docLinkHtml;\n",
              "          element.appendChild(docLink);\n",
              "        }\n",
              "      </script>\n",
              "    </div>\n",
              "  </div>\n",
              "  "
            ],
            "text/plain": [
              "                                        rating  \\\n",
              "0  ['4', '4', '7', 'NR', '4', '7', 'NR', 'NR']   \n",
              "1                     ['4/10', 'None', '4/10']   \n",
              "2                     ['8/10', '4/10', '8/10']   \n",
              "3            ['9/10', '9/10', '10/10', '9/10']   \n",
              "4                     ['4/10', '5/10', '5/10']   \n",
              "5                                           []   \n",
              "6                        ['3', '3', '1', 'NR']   \n",
              "7                              ['4', '2', '2']   \n",
              "8              ['2', '2', '4', '7', '4', 'NR']   \n",
              "9                     ['4/10', '3/10', '2/10']   \n",
              "\n",
              "                                                name  \\\n",
              "0  ['Southern Pines Elementary School', 'Southern...   \n",
              "1  ['East Valley High School&Extension', 'Eastval...   \n",
              "2  ['Paul Revere Middle School', 'Brentwood Scien...   \n",
              "3  ['Mcculloch Intermediate School', 'Bradfield E...   \n",
              "4  ['Southwest Middle School', 'Bayside High Scho...   \n",
              "5                                                 []   \n",
              "6  ['Palmetto Elementary School', 'Haines City Se...   \n",
              "7  ['Crump Elementary School', 'Hickory Ridge Mid...   \n",
              "8  ['Roosevelt Elementary School', 'Lincoln Inter...   \n",
              "9  ['Edgewood Elementary School', 'Landrum Middle...   \n",
              "\n",
              "                                       data_distance  \\\n",
              "0  ['2.7 mi', '3.6 mi', '5.1 mi', '4.0 mi', '10.5...   \n",
              "1                     ['1.65mi', '1.32mi', '1.01mi']   \n",
              "2                     ['1.19mi', '2.06mi', '2.63mi']   \n",
              "3            ['1.05mi', '0.1mi', '1.05mi', '0.81mi']   \n",
              "4                     ['5.96mi', '3.25mi', '3.03mi']   \n",
              "5                                                 []   \n",
              "6           ['0.8 mi', '8.3 mi', '4.2 mi', '2.0 mi']   \n",
              "7                     ['0.7 mi', '0.4 mi', '2.2 mi']   \n",
              "8  ['5.6 mi', '5.6 mi', '6.8 mi', '6.5 mi', '6.8 ...   \n",
              "9                     ['0.7 mi', '0.6 mi', '1.9 mi']   \n",
              "\n",
              "                                         data_grades  \n",
              "0  ['3–5', '6–8', '9–12', 'PK–2', '6–8', '9–12', ...  \n",
              "1                            ['9-12', '3-8', 'PK-8']  \n",
              "2                             ['6-8', 'K-5', '9-12']  \n",
              "3                     ['5-6', 'PK-4', '7-8', '9-12']  \n",
              "4                            ['7-8', '9-12', 'PK-6']  \n",
              "5                                                 []  \n",
              "6  ['Preschool to 4', 'Preschool to 12', '5 to 8'...  \n",
              "7            ['Preschool to 5', '6 to 8', '9 to 12']  \n",
              "8     ['PK–4', '5–6', '9–12', 'PK–4', '7–8', '9–12']  \n",
              "9                            ['PK-5', '5-8', '9-12']  "
            ]
          },
          "execution_count": 343,
          "metadata": {},
          "output_type": "execute_result"
        }
      ],
      "source": [
        "df_scools.head(10)"
      ]
    },
    {
      "cell_type": "markdown",
      "metadata": {
        "id": "ufpGi3JW5MiQ"
      },
      "source": [
        "#### rating"
      ]
    },
    {
      "cell_type": "code",
      "execution_count": null,
      "metadata": {
        "colab": {
          "base_uri": "https://localhost:8080/"
        },
        "id": "iDY3hi4BuXZ9",
        "outputId": "079fb800-6794-42a6-c564-a5199fe62de1"
      },
      "outputs": [
        {
          "data": {
            "text/plain": [
              "str"
            ]
          },
          "execution_count": 344,
          "metadata": {},
          "output_type": "execute_result"
        }
      ],
      "source": [
        "type(df_scools.rating.iloc[0])"
      ]
    },
    {
      "cell_type": "code",
      "execution_count": null,
      "metadata": {
        "id": "TbCTXPM4xytu"
      },
      "outputs": [],
      "source": [
        "# Функция для приведения столбца sqft к числовому виду.\n",
        "def price_rating(x):\n",
        "  x = re.sub(r'1/10', '1', x)\n",
        "  x = re.sub(r'2/10', '2', x)\n",
        "  x = re.sub(r'3/10', '3', x)\n",
        "  x = re.sub(r'4/10', '4', x)\n",
        "  x = re.sub(r'5/10', '5', x)\n",
        "  x = re.sub(r'6/10', '6', x)\n",
        "  x = re.sub(r'7/10', '7', x)\n",
        "  x = re.sub(r'8/10', '8', x)\n",
        "  x = re.sub(r'9/10', '9', x)\n",
        "  x = re.sub(r'10/10', '10', x)\n",
        "  x = re.sub(r'None', ' ', x)\n",
        "  x = re.sub(r'NR', ' ', x)\n",
        "\n",
        "  return x"
      ]
    },
    {
      "cell_type": "code",
      "execution_count": null,
      "metadata": {
        "id": "xOGSoFK3x6RF"
      },
      "outputs": [],
      "source": [
        "df_scools.rating = df_scools.rating.apply(price_rating)"
      ]
    },
    {
      "cell_type": "code",
      "execution_count": null,
      "metadata": {
        "colab": {
          "base_uri": "https://localhost:8080/"
        },
        "id": "5mmteROXqmEG",
        "outputId": "4a149600-4ddd-434d-8cf0-120b7fbad0ef"
      },
      "outputs": [
        {
          "data": {
            "text/plain": [
              "[]                  4204\n",
              "['10', '2']         3407\n",
              "['7', '5', '7']     2452\n",
              "['3', '3', '4']     2093\n",
              "['10', '4', '5']    2061\n",
              "Name: rating, dtype: int64"
            ]
          },
          "execution_count": 347,
          "metadata": {},
          "output_type": "execute_result"
        }
      ],
      "source": [
        "df_scools.rating.value_counts().head(5)"
      ]
    },
    {
      "cell_type": "markdown",
      "metadata": {
        "id": "BXUsmM2j5R86"
      },
      "source": [
        "#### name"
      ]
    },
    {
      "cell_type": "code",
      "execution_count": null,
      "metadata": {
        "colab": {
          "base_uri": "https://localhost:8080/"
        },
        "id": "shCLDQmTRShH",
        "outputId": "8da2007f-34c0-42c9-82b0-76e547a95553"
      },
      "outputs": [
        {
          "data": {
            "application/vnd.google.colaboratory.intrinsic+json": {
              "type": "string"
            },
            "text/plain": [
              "\"['Southern Pines Elementary School', 'Southern Middle School', 'Pinecrest High School', 'Southern Pines Primary School', 'Crai Creek Middle School', 'Union Pines High School', 'Episcopal Day Private School', 'Calvary Christian Private School']\""
            ]
          },
          "execution_count": 348,
          "metadata": {},
          "output_type": "execute_result"
        }
      ],
      "source": [
        "df_scools.name.iloc[0]"
      ]
    },
    {
      "cell_type": "code",
      "execution_count": null,
      "metadata": {
        "id": "alCQTy0jrR41"
      },
      "outputs": [],
      "source": [
        "# Функция для приведения столбца sqft к числовому виду.\n",
        "def name(x):\n",
        "  \n",
        "  x = x.strip('[]')\n",
        "  x = re.sub(\"'\",\"\",x)\n",
        "  x = x.split(',')\n",
        "\n",
        "  return x"
      ]
    },
    {
      "cell_type": "code",
      "execution_count": null,
      "metadata": {
        "id": "pPDFtiGD9CHB"
      },
      "outputs": [],
      "source": [
        "df_scools.name = df_scools.name.apply(name)"
      ]
    },
    {
      "cell_type": "code",
      "execution_count": null,
      "metadata": {
        "colab": {
          "base_uri": "https://localhost:8080/"
        },
        "id": "z_8c-KYx5l6T",
        "outputId": "c078f6eb-e494-4fd0-84aa-df783bd38ffb"
      },
      "outputs": [
        {
          "data": {
            "text/plain": [
              "list"
            ]
          },
          "execution_count": 351,
          "metadata": {},
          "output_type": "execute_result"
        }
      ],
      "source": [
        "type(df_scools.name.iloc[0])"
      ]
    },
    {
      "cell_type": "markdown",
      "metadata": {
        "id": "pOlnPoIpQq_3"
      },
      "source": [
        "#### data_distance"
      ]
    },
    {
      "cell_type": "code",
      "execution_count": null,
      "metadata": {
        "colab": {
          "base_uri": "https://localhost:8080/"
        },
        "id": "1vPRiVHWRFPG",
        "outputId": "3aeb51bb-dbab-447d-e783-5dc3f276043c"
      },
      "outputs": [
        {
          "data": {
            "application/vnd.google.colaboratory.intrinsic+json": {
              "type": "string"
            },
            "text/plain": [
              "\"['2.7 mi', '3.6 mi', '5.1 mi', '4.0 mi', '10.5 mi', '12.6 mi', '2.7 mi', '3.1 mi']\""
            ]
          },
          "execution_count": 352,
          "metadata": {},
          "output_type": "execute_result"
        }
      ],
      "source": [
        "df_scools.data_distance.iloc[0]"
      ]
    },
    {
      "cell_type": "code",
      "execution_count": null,
      "metadata": {
        "id": "hve5I2BLRiSe"
      },
      "outputs": [],
      "source": [
        "# Функция для приведения столбца sqft к числовому виду.\n",
        "def data_distance(x):\n",
        "  \n",
        "  x = x.strip('[]')\n",
        "\n",
        "  x = re.sub(\"'\",\"\",x)\n",
        "  x = re.sub(\" mi\",\"\",x)\n",
        "  x = re.sub(\"mi\",\"\",x)\n",
        "  x = re.sub(\" \",\"\",x)\n",
        "\n",
        "  x = x.split(',')\n",
        "\n",
        "  return x\n",
        "\n",
        "\n",
        "def data_distance_num(x):\n",
        "  \n",
        " for i in x:\n",
        "   i = float(i)\n",
        "\n",
        " return x "
      ]
    },
    {
      "cell_type": "code",
      "execution_count": null,
      "metadata": {
        "id": "4zsDN1U5Rib2"
      },
      "outputs": [],
      "source": [
        "df_scools.data_distance = df_scools.data_distance.apply(data_distance)"
      ]
    },
    {
      "cell_type": "code",
      "execution_count": null,
      "metadata": {
        "id": "--Ew8xOWruse"
      },
      "outputs": [],
      "source": [
        "df_scools.data_distance = df_scools.data_distance.apply(lambda x: np.nan if x==[''] else x)"
      ]
    },
    {
      "cell_type": "code",
      "execution_count": null,
      "metadata": {
        "id": "eig4ez5Hmlvf"
      },
      "outputs": [],
      "source": [
        "#df_scools.data_distance = df_scools.data_distance.apply(lambda x: ['0.00001'] if x==[''] else x)"
      ]
    },
    {
      "cell_type": "code",
      "execution_count": null,
      "metadata": {
        "id": "ycItVH9cqBR9"
      },
      "outputs": [],
      "source": [
        "#df_scools.data_distance = df_scools.data_distance.apply(data_distance_num)"
      ]
    },
    {
      "cell_type": "code",
      "execution_count": null,
      "metadata": {
        "id": "C8Qsw8Shodbn"
      },
      "outputs": [],
      "source": [
        "#df_scools.data_distance = df_scools.data_distance.apply(lambda x: np.nan if x==['0.00001'] else x)"
      ]
    },
    {
      "cell_type": "code",
      "execution_count": null,
      "metadata": {
        "colab": {
          "base_uri": "https://localhost:8080/"
        },
        "id": "g8NNAsfgWRqT",
        "outputId": "48dd5a91-9018-4e92-f64c-d726fc5ad020"
      },
      "outputs": [
        {
          "data": {
            "text/plain": [
              "str"
            ]
          },
          "execution_count": 359,
          "metadata": {},
          "output_type": "execute_result"
        }
      ],
      "source": [
        "type(df_scools.data_distance.iloc[4][0])"
      ]
    },
    {
      "cell_type": "code",
      "execution_count": null,
      "metadata": {
        "colab": {
          "base_uri": "https://localhost:8080/"
        },
        "id": "Hf-eL5ZDRy0G",
        "outputId": "eb0e7af9-8ff7-49a6-fc59-8dd3196f6b55"
      },
      "outputs": [
        {
          "data": {
            "text/plain": [
              "0    [2.7, 3.6, 5.1, 4.0, 10.5, 12.6, 2.7, 3.1]\n",
              "1                            [1.65, 1.32, 1.01]\n",
              "2                            [1.19, 2.06, 2.63]\n",
              "3                       [1.05, 0.1, 1.05, 0.81]\n",
              "4                            [5.96, 3.25, 3.03]\n",
              "5                                           NaN\n",
              "Name: data_distance, dtype: object"
            ]
          },
          "execution_count": 360,
          "metadata": {},
          "output_type": "execute_result"
        }
      ],
      "source": [
        "df_scools.data_distance.head(6)"
      ]
    },
    {
      "cell_type": "markdown",
      "metadata": {
        "id": "3tTa5R-at1OG"
      },
      "source": [
        "#### data_grades"
      ]
    },
    {
      "cell_type": "code",
      "execution_count": null,
      "metadata": {
        "colab": {
          "base_uri": "https://localhost:8080/"
        },
        "id": "-Extt_X1t3e9",
        "outputId": "24371d8e-c147-42b1-bffe-3ec63a3cb947"
      },
      "outputs": [
        {
          "data": {
            "application/vnd.google.colaboratory.intrinsic+json": {
              "type": "string"
            },
            "text/plain": [
              "\"['Preschool to 5', '6 to 8', '6 to 8', '9 to 12', '9 to 12']\""
            ]
          },
          "execution_count": 361,
          "metadata": {},
          "output_type": "execute_result"
        }
      ],
      "source": [
        "df_scools.data_grades.iloc[11]"
      ]
    },
    {
      "cell_type": "code",
      "execution_count": null,
      "metadata": {
        "id": "55iyBYYOt_2r"
      },
      "outputs": [],
      "source": [
        "# Функция для приведения столбца sqft к числовому виду.\n",
        "def data_grades(x):\n",
        "  \n",
        "  x = x.strip('[]')\n",
        "\n",
        "  x = re.sub(\"Preschool to \",\"PK–\",x)\n",
        "  x = re.sub(\" to \",\"–\",x)\n",
        "  x = re.sub(\"-\",\"–\",x)\n",
        "  x = re.sub(\" \",\"\",x)\n",
        "\n",
        "  x = x.split(',')\n",
        "\n",
        "  return x\n"
      ]
    },
    {
      "cell_type": "code",
      "execution_count": null,
      "metadata": {
        "id": "gc2X7z68uj1k"
      },
      "outputs": [],
      "source": [
        "df_scools.data_grades = df_scools.data_grades.apply(data_grades)"
      ]
    },
    {
      "cell_type": "code",
      "execution_count": null,
      "metadata": {
        "id": "NzQW1ayf7k5f"
      },
      "outputs": [],
      "source": [
        "df_scools.data_grades = df_scools.data_grades.apply(lambda x: np.nan if x==[''] else x)"
      ]
    },
    {
      "cell_type": "code",
      "execution_count": null,
      "metadata": {
        "colab": {
          "base_uri": "https://localhost:8080/"
        },
        "id": "PdRChNPBukSs",
        "outputId": "5fb255ba-9584-40df-b054-edde37bac709"
      },
      "outputs": [
        {
          "data": {
            "text/plain": [
              "0    ['3–5', '6–8', '9–12', 'PK–2', '6–8', '9–12', ...\n",
              "1                              ['9–12', '3–8', 'PK–8']\n",
              "2                               ['6–8', 'K–5', '9–12']\n",
              "3                       ['5–6', 'PK–4', '7–8', '9–12']\n",
              "4                              ['7–8', '9–12', 'PK–6']\n",
              "5                                                  NaN\n",
              "Name: data_grades, dtype: object"
            ]
          },
          "execution_count": 365,
          "metadata": {},
          "output_type": "execute_result"
        }
      ],
      "source": [
        "df_scools.data_grades.head(6)"
      ]
    },
    {
      "cell_type": "markdown",
      "metadata": {
        "id": "e0wdHS0cJfYn"
      },
      "source": [
        "#### Сохранение результата."
      ]
    },
    {
      "cell_type": "code",
      "execution_count": null,
      "metadata": {
        "id": "uT6mhObxJr5-"
      },
      "outputs": [],
      "source": [
        "df_scools.to_csv('/content/gdrive/MyDrive/Diplom_project/df_scools.csv')"
      ]
    },
    {
      "cell_type": "markdown",
      "metadata": {
        "id": "V6oQHHo3KKI4"
      },
      "source": [
        "# Загрузки датасетов"
      ]
    },
    {
      "cell_type": "code",
      "execution_count": 15,
      "metadata": {
        "id": "tl0fKEN-KGBA"
      },
      "outputs": [],
      "source": [
        "df = pd.read_csv('/content/gdrive/MyDrive/Diplom_project/df_1_form.csv').drop(['Unnamed: 0'], axis = 1)\n",
        "hm = pd.read_csv('/content/gdrive/MyDrive/Diplom_project/hm_form.csv')\n",
        "df_scools = pd.read_csv('/content/gdrive/MyDrive/Diplom_project/df_scools.csv')"
      ]
    },
    {
      "cell_type": "code",
      "execution_count": 16,
      "metadata": {
        "id": "uUd1EAo3EKY3"
      },
      "outputs": [],
      "source": [
        "df = pd.concat([df, hm, df_scools], axis = 1).reset_index().drop(['Unnamed: 0','index'], axis = 1)"
      ]
    },
    {
      "cell_type": "code",
      "execution_count": 17,
      "metadata": {
        "id": "2GaHeVyYNsGV"
      },
      "outputs": [],
      "source": [
        "df.dropna(subset = ['target'],inplace = True)"
      ]
    },
    {
      "cell_type": "code",
      "execution_count": 18,
      "metadata": {
        "id": "a64EogCHGlDa"
      },
      "outputs": [],
      "source": [
        "df.drop(['homeFacts','schools'], inplace = True,axis = 1)"
      ]
    },
    {
      "cell_type": "code",
      "execution_count": 19,
      "metadata": {
        "colab": {
          "base_uri": "https://localhost:8080/",
          "height": 0
        },
        "id": "i4EgI8HWOHYw",
        "outputId": "0d2a95cf-9b74-4caa-9aa3-3ccf18bd42f0"
      },
      "outputs": [
        {
          "output_type": "execute_result",
          "data": {
            "text/plain": [
              "   status        propertyType          street  baths     fireplace  \\\n",
              "0  active  ['housess_family']  240 Heather Ln    NaN  ['gas logs']   \n",
              "\n",
              "             city    sqft zipcode  beds state  stories  PrivatePool    target  \\\n",
              "0  southern pines  2900.0   28387   4.0    NC      NaN          0.0  418000.0   \n",
              "\n",
              "  propertyType_1  year_built  remodeled_year                 heating cooling  \\\n",
              "0         houses      2019.0             NaN  central a/c, heat pump     NaN   \n",
              "\n",
              "  parking  lotsize  price_sqft                                    rating  \\\n",
              "0     NaN      NaN       144.0  ['4', '4', '7', ' ', '4', '7', ' ', ' ']   \n",
              "\n",
              "                                                name  \\\n",
              "0  ['Southern Pines Elementary School', ' Souther...   \n",
              "\n",
              "                                       data_distance  \\\n",
              "0  ['2.7', '3.6', '5.1', '4.0', '10.5', '12.6', '...   \n",
              "\n",
              "                                         data_grades  \n",
              "0  [\"'3–5'\", \"'6–8'\", \"'9–12'\", \"'PK–2'\", \"'6–8'\"...  "
            ],
            "text/html": [
              "\n",
              "  <div id=\"df-85595714-e1ad-48d6-bfd5-b48a27a623da\">\n",
              "    <div class=\"colab-df-container\">\n",
              "      <div>\n",
              "<style scoped>\n",
              "    .dataframe tbody tr th:only-of-type {\n",
              "        vertical-align: middle;\n",
              "    }\n",
              "\n",
              "    .dataframe tbody tr th {\n",
              "        vertical-align: top;\n",
              "    }\n",
              "\n",
              "    .dataframe thead th {\n",
              "        text-align: right;\n",
              "    }\n",
              "</style>\n",
              "<table border=\"1\" class=\"dataframe\">\n",
              "  <thead>\n",
              "    <tr style=\"text-align: right;\">\n",
              "      <th></th>\n",
              "      <th>status</th>\n",
              "      <th>propertyType</th>\n",
              "      <th>street</th>\n",
              "      <th>baths</th>\n",
              "      <th>fireplace</th>\n",
              "      <th>city</th>\n",
              "      <th>sqft</th>\n",
              "      <th>zipcode</th>\n",
              "      <th>beds</th>\n",
              "      <th>state</th>\n",
              "      <th>stories</th>\n",
              "      <th>PrivatePool</th>\n",
              "      <th>target</th>\n",
              "      <th>propertyType_1</th>\n",
              "      <th>year_built</th>\n",
              "      <th>remodeled_year</th>\n",
              "      <th>heating</th>\n",
              "      <th>cooling</th>\n",
              "      <th>parking</th>\n",
              "      <th>lotsize</th>\n",
              "      <th>price_sqft</th>\n",
              "      <th>rating</th>\n",
              "      <th>name</th>\n",
              "      <th>data_distance</th>\n",
              "      <th>data_grades</th>\n",
              "    </tr>\n",
              "  </thead>\n",
              "  <tbody>\n",
              "    <tr>\n",
              "      <th>0</th>\n",
              "      <td>active</td>\n",
              "      <td>['housess_family']</td>\n",
              "      <td>240 Heather Ln</td>\n",
              "      <td>NaN</td>\n",
              "      <td>['gas logs']</td>\n",
              "      <td>southern pines</td>\n",
              "      <td>2900.0</td>\n",
              "      <td>28387</td>\n",
              "      <td>4.0</td>\n",
              "      <td>NC</td>\n",
              "      <td>NaN</td>\n",
              "      <td>0.0</td>\n",
              "      <td>418000.0</td>\n",
              "      <td>houses</td>\n",
              "      <td>2019.0</td>\n",
              "      <td>NaN</td>\n",
              "      <td>central a/c, heat pump</td>\n",
              "      <td>NaN</td>\n",
              "      <td>NaN</td>\n",
              "      <td>NaN</td>\n",
              "      <td>144.0</td>\n",
              "      <td>['4', '4', '7', ' ', '4', '7', ' ', ' ']</td>\n",
              "      <td>['Southern Pines Elementary School', ' Souther...</td>\n",
              "      <td>['2.7', '3.6', '5.1', '4.0', '10.5', '12.6', '...</td>\n",
              "      <td>[\"'3–5'\", \"'6–8'\", \"'9–12'\", \"'PK–2'\", \"'6–8'\"...</td>\n",
              "    </tr>\n",
              "  </tbody>\n",
              "</table>\n",
              "</div>\n",
              "      <button class=\"colab-df-convert\" onclick=\"convertToInteractive('df-85595714-e1ad-48d6-bfd5-b48a27a623da')\"\n",
              "              title=\"Convert this dataframe to an interactive table.\"\n",
              "              style=\"display:none;\">\n",
              "        \n",
              "  <svg xmlns=\"http://www.w3.org/2000/svg\" height=\"24px\"viewBox=\"0 0 24 24\"\n",
              "       width=\"24px\">\n",
              "    <path d=\"M0 0h24v24H0V0z\" fill=\"none\"/>\n",
              "    <path d=\"M18.56 5.44l.94 2.06.94-2.06 2.06-.94-2.06-.94-.94-2.06-.94 2.06-2.06.94zm-11 1L8.5 8.5l.94-2.06 2.06-.94-2.06-.94L8.5 2.5l-.94 2.06-2.06.94zm10 10l.94 2.06.94-2.06 2.06-.94-2.06-.94-.94-2.06-.94 2.06-2.06.94z\"/><path d=\"M17.41 7.96l-1.37-1.37c-.4-.4-.92-.59-1.43-.59-.52 0-1.04.2-1.43.59L10.3 9.45l-7.72 7.72c-.78.78-.78 2.05 0 2.83L4 21.41c.39.39.9.59 1.41.59.51 0 1.02-.2 1.41-.59l7.78-7.78 2.81-2.81c.8-.78.8-2.07 0-2.86zM5.41 20L4 18.59l7.72-7.72 1.47 1.35L5.41 20z\"/>\n",
              "  </svg>\n",
              "      </button>\n",
              "      \n",
              "  <style>\n",
              "    .colab-df-container {\n",
              "      display:flex;\n",
              "      flex-wrap:wrap;\n",
              "      gap: 12px;\n",
              "    }\n",
              "\n",
              "    .colab-df-convert {\n",
              "      background-color: #E8F0FE;\n",
              "      border: none;\n",
              "      border-radius: 50%;\n",
              "      cursor: pointer;\n",
              "      display: none;\n",
              "      fill: #1967D2;\n",
              "      height: 32px;\n",
              "      padding: 0 0 0 0;\n",
              "      width: 32px;\n",
              "    }\n",
              "\n",
              "    .colab-df-convert:hover {\n",
              "      background-color: #E2EBFA;\n",
              "      box-shadow: 0px 1px 2px rgba(60, 64, 67, 0.3), 0px 1px 3px 1px rgba(60, 64, 67, 0.15);\n",
              "      fill: #174EA6;\n",
              "    }\n",
              "\n",
              "    [theme=dark] .colab-df-convert {\n",
              "      background-color: #3B4455;\n",
              "      fill: #D2E3FC;\n",
              "    }\n",
              "\n",
              "    [theme=dark] .colab-df-convert:hover {\n",
              "      background-color: #434B5C;\n",
              "      box-shadow: 0px 1px 3px 1px rgba(0, 0, 0, 0.15);\n",
              "      filter: drop-shadow(0px 1px 2px rgba(0, 0, 0, 0.3));\n",
              "      fill: #FFFFFF;\n",
              "    }\n",
              "  </style>\n",
              "\n",
              "      <script>\n",
              "        const buttonEl =\n",
              "          document.querySelector('#df-85595714-e1ad-48d6-bfd5-b48a27a623da button.colab-df-convert');\n",
              "        buttonEl.style.display =\n",
              "          google.colab.kernel.accessAllowed ? 'block' : 'none';\n",
              "\n",
              "        async function convertToInteractive(key) {\n",
              "          const element = document.querySelector('#df-85595714-e1ad-48d6-bfd5-b48a27a623da');\n",
              "          const dataTable =\n",
              "            await google.colab.kernel.invokeFunction('convertToInteractive',\n",
              "                                                     [key], {});\n",
              "          if (!dataTable) return;\n",
              "\n",
              "          const docLinkHtml = 'Like what you see? Visit the ' +\n",
              "            '<a target=\"_blank\" href=https://colab.research.google.com/notebooks/data_table.ipynb>data table notebook</a>'\n",
              "            + ' to learn more about interactive tables.';\n",
              "          element.innerHTML = '';\n",
              "          dataTable['output_type'] = 'display_data';\n",
              "          await google.colab.output.renderOutput(dataTable, element);\n",
              "          const docLink = document.createElement('div');\n",
              "          docLink.innerHTML = docLinkHtml;\n",
              "          element.appendChild(docLink);\n",
              "        }\n",
              "      </script>\n",
              "    </div>\n",
              "  </div>\n",
              "  "
            ]
          },
          "metadata": {},
          "execution_count": 19
        }
      ],
      "source": [
        "df.head(1)"
      ]
    },
    {
      "cell_type": "markdown",
      "metadata": {
        "id": "0vS_IF9OSSyy"
      },
      "source": [
        "# EDA"
      ]
    },
    {
      "cell_type": "code",
      "execution_count": 804,
      "metadata": {
        "colab": {
          "base_uri": "https://localhost:8080/",
          "height": 214
        },
        "id": "tDYxBwYcSVUh",
        "outputId": "5e5a5874-5627-4afa-9b00-2b8f9071af5d"
      },
      "outputs": [
        {
          "output_type": "execute_result",
          "data": {
            "text/plain": [
              "   status        propertyType          street  baths     fireplace  \\\n",
              "0  active  ['housess_family']  240 Heather Ln    NaN  ['gas logs']   \n",
              "\n",
              "             city    sqft zipcode  beds state  stories  PrivatePool    target  \\\n",
              "0  southern pines  2900.0   28387   4.0    NC      NaN          0.0  418000.0   \n",
              "\n",
              "  propertyType_1  year_built  remodeled_year                 heating cooling  \\\n",
              "0         houses      2019.0             NaN  central a/c, heat pump     NaN   \n",
              "\n",
              "  parking  lotsize  price_sqft                                    rating  \\\n",
              "0     NaN      NaN       144.0  ['4', '4', '7', ' ', '4', '7', ' ', ' ']   \n",
              "\n",
              "                                                name  \\\n",
              "0  ['Southern Pines Elementary School', ' Souther...   \n",
              "\n",
              "                                       data_distance  \\\n",
              "0  ['2.7', '3.6', '5.1', '4.0', '10.5', '12.6', '...   \n",
              "\n",
              "                                         data_grades  \n",
              "0  [\"'3–5'\", \"'6–8'\", \"'9–12'\", \"'PK–2'\", \"'6–8'\"...  "
            ],
            "text/html": [
              "\n",
              "  <div id=\"df-baa11857-5013-4fcb-bc50-4f733d8bf814\">\n",
              "    <div class=\"colab-df-container\">\n",
              "      <div>\n",
              "<style scoped>\n",
              "    .dataframe tbody tr th:only-of-type {\n",
              "        vertical-align: middle;\n",
              "    }\n",
              "\n",
              "    .dataframe tbody tr th {\n",
              "        vertical-align: top;\n",
              "    }\n",
              "\n",
              "    .dataframe thead th {\n",
              "        text-align: right;\n",
              "    }\n",
              "</style>\n",
              "<table border=\"1\" class=\"dataframe\">\n",
              "  <thead>\n",
              "    <tr style=\"text-align: right;\">\n",
              "      <th></th>\n",
              "      <th>status</th>\n",
              "      <th>propertyType</th>\n",
              "      <th>street</th>\n",
              "      <th>baths</th>\n",
              "      <th>fireplace</th>\n",
              "      <th>city</th>\n",
              "      <th>sqft</th>\n",
              "      <th>zipcode</th>\n",
              "      <th>beds</th>\n",
              "      <th>state</th>\n",
              "      <th>stories</th>\n",
              "      <th>PrivatePool</th>\n",
              "      <th>target</th>\n",
              "      <th>propertyType_1</th>\n",
              "      <th>year_built</th>\n",
              "      <th>remodeled_year</th>\n",
              "      <th>heating</th>\n",
              "      <th>cooling</th>\n",
              "      <th>parking</th>\n",
              "      <th>lotsize</th>\n",
              "      <th>price_sqft</th>\n",
              "      <th>rating</th>\n",
              "      <th>name</th>\n",
              "      <th>data_distance</th>\n",
              "      <th>data_grades</th>\n",
              "    </tr>\n",
              "  </thead>\n",
              "  <tbody>\n",
              "    <tr>\n",
              "      <th>0</th>\n",
              "      <td>active</td>\n",
              "      <td>['housess_family']</td>\n",
              "      <td>240 Heather Ln</td>\n",
              "      <td>NaN</td>\n",
              "      <td>['gas logs']</td>\n",
              "      <td>southern pines</td>\n",
              "      <td>2900.0</td>\n",
              "      <td>28387</td>\n",
              "      <td>4.0</td>\n",
              "      <td>NC</td>\n",
              "      <td>NaN</td>\n",
              "      <td>0.0</td>\n",
              "      <td>418000.0</td>\n",
              "      <td>houses</td>\n",
              "      <td>2019.0</td>\n",
              "      <td>NaN</td>\n",
              "      <td>central a/c, heat pump</td>\n",
              "      <td>NaN</td>\n",
              "      <td>NaN</td>\n",
              "      <td>NaN</td>\n",
              "      <td>144.0</td>\n",
              "      <td>['4', '4', '7', ' ', '4', '7', ' ', ' ']</td>\n",
              "      <td>['Southern Pines Elementary School', ' Souther...</td>\n",
              "      <td>['2.7', '3.6', '5.1', '4.0', '10.5', '12.6', '...</td>\n",
              "      <td>[\"'3–5'\", \"'6–8'\", \"'9–12'\", \"'PK–2'\", \"'6–8'\"...</td>\n",
              "    </tr>\n",
              "  </tbody>\n",
              "</table>\n",
              "</div>\n",
              "      <button class=\"colab-df-convert\" onclick=\"convertToInteractive('df-baa11857-5013-4fcb-bc50-4f733d8bf814')\"\n",
              "              title=\"Convert this dataframe to an interactive table.\"\n",
              "              style=\"display:none;\">\n",
              "        \n",
              "  <svg xmlns=\"http://www.w3.org/2000/svg\" height=\"24px\"viewBox=\"0 0 24 24\"\n",
              "       width=\"24px\">\n",
              "    <path d=\"M0 0h24v24H0V0z\" fill=\"none\"/>\n",
              "    <path d=\"M18.56 5.44l.94 2.06.94-2.06 2.06-.94-2.06-.94-.94-2.06-.94 2.06-2.06.94zm-11 1L8.5 8.5l.94-2.06 2.06-.94-2.06-.94L8.5 2.5l-.94 2.06-2.06.94zm10 10l.94 2.06.94-2.06 2.06-.94-2.06-.94-.94-2.06-.94 2.06-2.06.94z\"/><path d=\"M17.41 7.96l-1.37-1.37c-.4-.4-.92-.59-1.43-.59-.52 0-1.04.2-1.43.59L10.3 9.45l-7.72 7.72c-.78.78-.78 2.05 0 2.83L4 21.41c.39.39.9.59 1.41.59.51 0 1.02-.2 1.41-.59l7.78-7.78 2.81-2.81c.8-.78.8-2.07 0-2.86zM5.41 20L4 18.59l7.72-7.72 1.47 1.35L5.41 20z\"/>\n",
              "  </svg>\n",
              "      </button>\n",
              "      \n",
              "  <style>\n",
              "    .colab-df-container {\n",
              "      display:flex;\n",
              "      flex-wrap:wrap;\n",
              "      gap: 12px;\n",
              "    }\n",
              "\n",
              "    .colab-df-convert {\n",
              "      background-color: #E8F0FE;\n",
              "      border: none;\n",
              "      border-radius: 50%;\n",
              "      cursor: pointer;\n",
              "      display: none;\n",
              "      fill: #1967D2;\n",
              "      height: 32px;\n",
              "      padding: 0 0 0 0;\n",
              "      width: 32px;\n",
              "    }\n",
              "\n",
              "    .colab-df-convert:hover {\n",
              "      background-color: #E2EBFA;\n",
              "      box-shadow: 0px 1px 2px rgba(60, 64, 67, 0.3), 0px 1px 3px 1px rgba(60, 64, 67, 0.15);\n",
              "      fill: #174EA6;\n",
              "    }\n",
              "\n",
              "    [theme=dark] .colab-df-convert {\n",
              "      background-color: #3B4455;\n",
              "      fill: #D2E3FC;\n",
              "    }\n",
              "\n",
              "    [theme=dark] .colab-df-convert:hover {\n",
              "      background-color: #434B5C;\n",
              "      box-shadow: 0px 1px 3px 1px rgba(0, 0, 0, 0.15);\n",
              "      filter: drop-shadow(0px 1px 2px rgba(0, 0, 0, 0.3));\n",
              "      fill: #FFFFFF;\n",
              "    }\n",
              "  </style>\n",
              "\n",
              "      <script>\n",
              "        const buttonEl =\n",
              "          document.querySelector('#df-baa11857-5013-4fcb-bc50-4f733d8bf814 button.colab-df-convert');\n",
              "        buttonEl.style.display =\n",
              "          google.colab.kernel.accessAllowed ? 'block' : 'none';\n",
              "\n",
              "        async function convertToInteractive(key) {\n",
              "          const element = document.querySelector('#df-baa11857-5013-4fcb-bc50-4f733d8bf814');\n",
              "          const dataTable =\n",
              "            await google.colab.kernel.invokeFunction('convertToInteractive',\n",
              "                                                     [key], {});\n",
              "          if (!dataTable) return;\n",
              "\n",
              "          const docLinkHtml = 'Like what you see? Visit the ' +\n",
              "            '<a target=\"_blank\" href=https://colab.research.google.com/notebooks/data_table.ipynb>data table notebook</a>'\n",
              "            + ' to learn more about interactive tables.';\n",
              "          element.innerHTML = '';\n",
              "          dataTable['output_type'] = 'display_data';\n",
              "          await google.colab.output.renderOutput(dataTable, element);\n",
              "          const docLink = document.createElement('div');\n",
              "          docLink.innerHTML = docLinkHtml;\n",
              "          element.appendChild(docLink);\n",
              "        }\n",
              "      </script>\n",
              "    </div>\n",
              "  </div>\n",
              "  "
            ]
          },
          "metadata": {},
          "execution_count": 804
        }
      ],
      "source": [
        "df.head(1)"
      ]
    },
    {
      "cell_type": "code",
      "execution_count": 805,
      "metadata": {
        "colab": {
          "base_uri": "https://localhost:8080/"
        },
        "id": "uWiNEpSRT6hK",
        "outputId": "c932554c-636e-44f6-c40e-9db233f47fc0"
      },
      "outputs": [
        {
          "output_type": "stream",
          "name": "stdout",
          "text": [
            "<class 'pandas.core.frame.DataFrame'>\n",
            "Int64Index: 374704 entries, 0 to 374703\n",
            "Data columns (total 25 columns):\n",
            " #   Column          Non-Null Count   Dtype  \n",
            "---  ------          --------------   -----  \n",
            " 0   status          332863 non-null  object \n",
            " 1   propertyType    374704 non-null  object \n",
            " 2   street          372876 non-null  object \n",
            " 3   baths           189660 non-null  float64\n",
            " 4   fireplace       374704 non-null  object \n",
            " 5   city            374670 non-null  object \n",
            " 6   sqft            321918 non-null  float64\n",
            " 7   zipcode         374704 non-null  object \n",
            " 8   beds            263575 non-null  float64\n",
            " 9   state           374704 non-null  object \n",
            " 10  stories         222653 non-null  float64\n",
            " 11  PrivatePool     374704 non-null  float64\n",
            " 12  target          374704 non-null  float64\n",
            " 13  propertyType_1  298982 non-null  object \n",
            " 14  year_built      311416 non-null  float64\n",
            " 15  remodeled_year  149833 non-null  float64\n",
            " 16  heating         257558 non-null  object \n",
            " 17  cooling         233887 non-null  object \n",
            " 18  parking         181887 non-null  object \n",
            " 19  lotsize         279242 non-null  float64\n",
            " 20  price_sqft      310874 non-null  float64\n",
            " 21  rating          374704 non-null  object \n",
            " 22  name            374704 non-null  object \n",
            " 23  data_distance   370445 non-null  object \n",
            " 24  data_grades     370445 non-null  object \n",
            "dtypes: float64(10), object(15)\n",
            "memory usage: 74.3+ MB\n"
          ]
        }
      ],
      "source": [
        "df.info()"
      ]
    },
    {
      "cell_type": "markdown",
      "metadata": {
        "id": "6Zm8gNXU7H9K"
      },
      "source": [
        "## eda target"
      ]
    },
    {
      "cell_type": "code",
      "execution_count": 20,
      "metadata": {
        "colab": {
          "base_uri": "https://localhost:8080/",
          "height": 0
        },
        "id": "IiI9XT3d668a",
        "outputId": "2ba4b66f-d4ed-4590-e12a-465f91ed76d3"
      },
      "outputs": [
        {
          "output_type": "execute_result",
          "data": {
            "text/plain": [
              "<matplotlib.axes._subplots.AxesSubplot at 0x7fc72d982150>"
            ]
          },
          "metadata": {},
          "execution_count": 20
        },
        {
          "output_type": "display_data",
          "data": {
            "text/plain": [
              "<Figure size 432x288 with 1 Axes>"
            ],
            "image/png": "[encoded data removed]"
          },
          "metadata": {
            "needs_background": "light"
          }
        }
      ],
      "source": [
        "# Посмотрим на распределение признака\n",
        "df.target.hist(bins = 50)"
      ]
    },
    {
      "cell_type": "code",
      "execution_count": 21,
      "metadata": {
        "colab": {
          "base_uri": "https://localhost:8080/",
          "height": 0
        },
        "id": "zCoSxdHV6koa",
        "outputId": "732a5158-882c-432f-a759-0448e00ceb6d"
      },
      "outputs": [
        {
          "output_type": "stream",
          "name": "stdout",
          "text": [
            "195000000.0 максимум\n",
            "2799000.0 правый квантиль\n",
            "363455\n"
          ]
        },
        {
          "output_type": "execute_result",
          "data": {
            "text/plain": [
              "<matplotlib.axes._subplots.AxesSubplot at 0x7fc72e134110>"
            ]
          },
          "metadata": {},
          "execution_count": 21
        },
        {
          "output_type": "display_data",
          "data": {
            "text/plain": [
              "<Figure size 432x288 with 1 Axes>"
            ],
            "image/png": "[encoded data removed]"
          },
          "metadata": {
            "needs_background": "light"
          }
        }
      ],
      "source": [
        "# Посмотрим на левую часть распределения\n",
        "print(df.target.max(), 'максимум')\n",
        "print(df.target.quantile(0.97),'правый квантиль')\n",
        "print(df.target[df.target < 2799000.0 ].count())\n",
        "df.target[df.target < 2799000.0 ].hist(bins = 50)\n",
        "# Тут мы видим, что есть большое количество околонулевых значений.\n",
        "# Это явно ошибки удалим их"
      ]
    },
    {
      "cell_type": "code",
      "execution_count": 22,
      "metadata": {
        "colab": {
          "base_uri": "https://localhost:8080/",
          "height": 0
        },
        "id": "-n7IgtY3zxg1",
        "outputId": "c7dba9ed-c47b-44ee-86dd-43ceb2ae337b"
      },
      "outputs": [
        {
          "output_type": "stream",
          "name": "stdout",
          "text": [
            "1.0 минимум\n",
            "20000.0 левый квантиль\n",
            "11063\n"
          ]
        },
        {
          "output_type": "execute_result",
          "data": {
            "text/plain": [
              "<matplotlib.axes._subplots.AxesSubplot at 0x7fc72d982450>"
            ]
          },
          "metadata": {},
          "execution_count": 22
        },
        {
          "output_type": "display_data",
          "data": {
            "text/plain": [
              "<Figure size 432x288 with 1 Axes>"
            ],
            "image/png": "[encoded data removed]"
          },
          "metadata": {
            "needs_background": "light"
          }
        }
      ],
      "source": [
        "# Посмотрим на левую часть распределения\n",
        "print(df.target.min(), 'минимум')\n",
        "print(df.target.quantile(0.03),'левый квантиль')\n",
        "print(df.target[df.target < 20000.0 ].count())\n",
        "df.target[df.target < 20000.0 ].hist(bins = 50)\n",
        "# Тут мы видим, что есть большое количество околонулевых значений.\n",
        "# Это явно ошибки удалим их"
      ]
    },
    {
      "cell_type": "code",
      "execution_count": 809,
      "metadata": {
        "id": "Ws8XVvmEzxmT"
      },
      "outputs": [],
      "source": [
        "# Удалим аномально высокие значения и маленькие\n",
        "df = df.drop(df.loc[df.target > 2799000.0].index, axis = 0)\n",
        "df = df.drop(df.loc[df.target < 20000.0].index, axis = 0)"
      ]
    },
    {
      "cell_type": "code",
      "execution_count": 810,
      "metadata": {
        "colab": {
          "base_uri": "https://localhost:8080/"
        },
        "id": "8N556qK_zxpC",
        "outputId": "e08985db-2b7f-4350-fa70-fe5c7c520c32"
      },
      "outputs": [
        {
          "output_type": "execute_result",
          "data": {
            "text/plain": [
              "352445"
            ]
          },
          "metadata": {},
          "execution_count": 810
        }
      ],
      "source": [
        "len(df)"
      ]
    },
    {
      "cell_type": "code",
      "execution_count": 811,
      "metadata": {
        "colab": {
          "base_uri": "https://localhost:8080/",
          "height": 0
        },
        "id": "24CDaWj7zxrr",
        "outputId": "c043e459-5fca-4f7e-80cf-5e2545557ae5"
      },
      "outputs": [
        {
          "output_type": "execute_result",
          "data": {
            "text/plain": [
              "<matplotlib.axes._subplots.AxesSubplot at 0x7f53a4ad3390>"
            ]
          },
          "metadata": {},
          "execution_count": 811
        },
        {
          "output_type": "display_data",
          "data": {
            "text/plain": [
              "<Figure size 432x288 with 1 Axes>"
            ],
            "image/png": "[encoded data removed]"
          },
          "metadata": {
            "needs_background": "light"
          }
        }
      ],
      "source": [
        "# Попробуем логарифмировать\n",
        "np.log(df.target).hist(bins = 50)\n",
        "# Распределение стало похоже на нормальное - хорошо."
      ]
    },
    {
      "cell_type": "markdown",
      "metadata": {
        "id": "ypOYiAX8nLvA"
      },
      "source": [
        "## eda status"
      ]
    },
    {
      "cell_type": "code",
      "execution_count": 812,
      "metadata": {
        "colab": {
          "base_uri": "https://localhost:8080/"
        },
        "id": "nUFI7fVqnP2Q",
        "outputId": "332cba82-69a2-49c9-af84-cad996e516c6"
      },
      "outputs": [
        {
          "output_type": "execute_result",
          "data": {
            "text/plain": [
              "22797     for rent\n",
              "23667     for rent\n",
              "180922    for rent\n",
              "300847    for rent\n",
              "Name: status, dtype: object"
            ]
          },
          "metadata": {},
          "execution_count": 812
        }
      ],
      "source": [
        "# Посмотрим сколько осталось домов к аренде.\n",
        "df['status'][df['status'] == 'for rent']"
      ]
    },
    {
      "cell_type": "code",
      "execution_count": 813,
      "metadata": {
        "id": "myxU8TjIniIw"
      },
      "outputs": [],
      "source": [
        "# Осталось только 4 обьекта их удалим. Тем более что мы хотим оценивать недвижимость к продаже а не к аренде.\n",
        "df = df.loc[~df['status'].isin(['for rent'])]"
      ]
    },
    {
      "cell_type": "markdown",
      "metadata": {
        "id": "dufnZ9Pa7Nki"
      },
      "source": [
        "## eda propertyType"
      ]
    },
    {
      "cell_type": "code",
      "execution_count": 814,
      "metadata": {
        "colab": {
          "base_uri": "https://localhost:8080/"
        },
        "id": "M8eOLfrPzVvD",
        "outputId": "7e560e39-e98b-4913-9f3a-9db872980194"
      },
      "outputs": [
        {
          "output_type": "execute_result",
          "data": {
            "text/plain": [
              "for sale    208644\n",
              "active       97386\n",
              "new           5969\n",
              "Name: status, dtype: int64"
            ]
          },
          "metadata": {},
          "execution_count": 814
        }
      ],
      "source": [
        "df['status'].value_counts()"
      ]
    },
    {
      "cell_type": "markdown",
      "metadata": {
        "id": "rHasvugicBwL"
      },
      "source": [
        "## eda sqft"
      ]
    },
    {
      "cell_type": "code",
      "execution_count": 815,
      "metadata": {
        "colab": {
          "base_uri": "https://localhost:8080/",
          "height": 0
        },
        "id": "CRyMmajzV4CJ",
        "outputId": "4d3248b5-ba0d-4fdc-c925-9252eb4c1f32"
      },
      "outputs": [
        {
          "output_type": "display_data",
          "data": {
            "text/plain": [
              "<Figure size 720x504 with 4 Axes>"
            ],
            "image/png": "[encoded data removed]"
          },
          "metadata": {
            "needs_background": "light"
          }
        }
      ],
      "source": [
        "# Очевидные выбросы на графике\n",
        "diagnostic_plots(df, 'sqft', 'sqft')"
      ]
    },
    {
      "cell_type": "code",
      "execution_count": 816,
      "metadata": {
        "colab": {
          "base_uri": "https://localhost:8080/"
        },
        "id": "_6KaOoKeWPky",
        "outputId": "cfd172ca-9095-4037-e0d0-c220633f96c8"
      },
      "outputs": [
        {
          "output_type": "stream",
          "name": "stdout",
          "text": [
            "Верхняя граница выбросов: 4457.5 Нижняя граница выбросов: -610.5\n",
            "\n",
            "Количество выбросов: sqft : 14021\n"
          ]
        }
      ],
      "source": [
        "# Посмотрим на границы выбросов.\n",
        "# выбросов 14 тысяч это много поэтому попробуем с этим что то зделать.\n",
        "get_quantile(df, 'sqft')"
      ]
    },
    {
      "cell_type": "code",
      "execution_count": 817,
      "metadata": {
        "colab": {
          "base_uri": "https://localhost:8080/"
        },
        "id": "9cw7HUBPzV0a",
        "outputId": "618dbf7a-8453-4de0-95fd-d55c5055b5bd"
      },
      "outputs": [
        {
          "output_type": "execute_result",
          "data": {
            "text/plain": [
              "8931.0"
            ]
          },
          "metadata": {},
          "execution_count": 817
        }
      ],
      "source": [
        "# Посмотрим на значения 0.7 процента правой стороны распределения.\n",
        "df.sqft.quantile(0.993)"
      ]
    },
    {
      "cell_type": "code",
      "execution_count": 818,
      "metadata": {
        "colab": {
          "base_uri": "https://localhost:8080/"
        },
        "id": "K4aZLnpvzV3L",
        "outputId": "8a8fdd6c-28dc-40a4-991c-9b155e3cc881"
      },
      "outputs": [
        {
          "output_type": "execute_result",
          "data": {
            "text/plain": [
              "315.0"
            ]
          },
          "metadata": {},
          "execution_count": 818
        }
      ],
      "source": [
        "# Посмотрим на значения 0.1 процента левой стороны распределения.\n",
        "df.sqft.quantile(0.001)"
      ]
    },
    {
      "cell_type": "code",
      "execution_count": 819,
      "metadata": {
        "colab": {
          "base_uri": "https://localhost:8080/"
        },
        "id": "UPTHz5LjvSlj",
        "outputId": "f8d866fd-8359-4ce6-b335-8d31533808ce"
      },
      "outputs": [
        {
          "output_type": "stream",
          "name": "stdout",
          "text": [
            "2172\n",
            "145\n"
          ]
        }
      ],
      "source": [
        "# Всего 2482 значений удалим их.\n",
        "print(len(df[df.sqft > 8931]))\n",
        "print(len(df[df.sqft < 150]))"
      ]
    },
    {
      "cell_type": "code",
      "execution_count": 820,
      "metadata": {
        "id": "SOP2F7kVVMr5"
      },
      "outputs": [],
      "source": [
        "df = df.drop(df.loc[df.sqft > 8931].index, axis = 0)\n",
        "df = df.drop(df.loc[df.sqft < 315.0].index, axis = 0)"
      ]
    },
    {
      "cell_type": "code",
      "execution_count": 821,
      "metadata": {
        "colab": {
          "base_uri": "https://localhost:8080/",
          "height": 0
        },
        "id": "yilnxt-keNFu",
        "outputId": "54d7eb7e-5baa-4118-bc77-263ea31a48d9"
      },
      "outputs": [
        {
          "output_type": "display_data",
          "data": {
            "text/plain": [
              "<Figure size 720x504 with 4 Axes>"
            ],
            "image/png": "[encoded data removed]"
          },
          "metadata": {
            "needs_background": "light"
          }
        }
      ],
      "source": [
        "# График явно улучшился но есть правый хвост.\n",
        "diagnostic_plots(df, 'sqft', 'sqft')"
      ]
    },
    {
      "cell_type": "code",
      "execution_count": 822,
      "metadata": {
        "colab": {
          "base_uri": "https://localhost:8080/",
          "height": 0
        },
        "id": "AfIOkcJrYfQx",
        "outputId": "ae6a5e90-6ecd-40cc-8987-a9bb6c9066ca"
      },
      "outputs": [
        {
          "output_type": "execute_result",
          "data": {
            "text/plain": [
              "<matplotlib.axes._subplots.AxesSubplot at 0x7f538d80e390>"
            ]
          },
          "metadata": {},
          "execution_count": 822
        },
        {
          "output_type": "display_data",
          "data": {
            "text/plain": [
              "<Figure size 432x288 with 1 Axes>"
            ],
            "image/png": "[encoded data removed]"
          },
          "metadata": {
            "needs_background": "light"
          }
        }
      ],
      "source": [
        "# Логарифмируем признак и получаем нормальное распределение - хорошо!\n",
        "np.log(df.sqft).hist(bins = 50)"
      ]
    },
    {
      "cell_type": "code",
      "execution_count": 823,
      "metadata": {
        "id": "aTBTxxS0Y_JB"
      },
      "outputs": [],
      "source": [
        "df.sqft = np.log(df.sqft)"
      ]
    },
    {
      "cell_type": "markdown",
      "source": [
        "## eda baths"
      ],
      "metadata": {
        "id": "UiS87S_crD7_"
      }
    },
    {
      "cell_type": "code",
      "source": [
        "# Очевидные выбросы на графике\n",
        "diagnostic_plots(df, 'baths', 'baths')"
      ],
      "metadata": {
        "colab": {
          "base_uri": "https://localhost:8080/",
          "height": 0
        },
        "id": "MghlPY4rrBuO",
        "outputId": "ac05eb78-e19e-4e1f-ff28-32cee89a303b"
      },
      "execution_count": 824,
      "outputs": [
        {
          "output_type": "display_data",
          "data": {
            "text/plain": [
              "<Figure size 720x504 with 4 Axes>"
            ],
            "image/png": "[encoded data removed]"
          },
          "metadata": {
            "needs_background": "light"
          }
        }
      ]
    },
    {
      "cell_type": "code",
      "source": [
        "# Посмотрим на границы выбросов.\n",
        "# выбросов 13 тысяч это много поэтому попробуем с этим что то зделать.\n",
        "get_quantile(df, 'baths')"
      ],
      "metadata": {
        "colab": {
          "base_uri": "https://localhost:8080/"
        },
        "id": "B0eP2AfJrRTO",
        "outputId": "b0fcd9b5-67d4-49b8-ff7c-91f07523473f"
      },
      "execution_count": 825,
      "outputs": [
        {
          "output_type": "stream",
          "name": "stdout",
          "text": [
            "Верхняя граница выбросов: 4.5 Нижняя граница выбросов: 0.5\n",
            "\n",
            "Количество выбросов: baths : 13492\n"
          ]
        }
      ]
    },
    {
      "cell_type": "code",
      "source": [
        "# Минимум максимум.\n",
        "print(df.baths.max())\n",
        "print(df.baths.min())"
      ],
      "metadata": {
        "colab": {
          "base_uri": "https://localhost:8080/"
        },
        "id": "tZvw07DysmeO",
        "outputId": "31dc7f4c-5a11-4d2d-dcb5-2961e7a95344"
      },
      "execution_count": 826,
      "outputs": [
        {
          "output_type": "stream",
          "name": "stdout",
          "text": [
            "1101010.0\n",
            "0.0\n"
          ]
        }
      ]
    },
    {
      "cell_type": "code",
      "source": [
        "# Посмотрим на значения 0.01 процента правой стороны распределения.\n",
        "df.baths.quantile(0.999)"
      ],
      "metadata": {
        "colab": {
          "base_uri": "https://localhost:8080/"
        },
        "id": "uvBRWstsrnNF",
        "outputId": "5bc421d1-f60d-4a8f-d5e4-cf79ef0f4d7e"
      },
      "execution_count": 827,
      "outputs": [
        {
          "output_type": "execute_result",
          "data": {
            "text/plain": [
              "750.0"
            ]
          },
          "metadata": {},
          "execution_count": 827
        }
      ]
    },
    {
      "cell_type": "code",
      "source": [
        "# Посмотрим на значения 0.05 процента левой стороны распределения.\n",
        "df.baths.quantile(0.05)"
      ],
      "metadata": {
        "colab": {
          "base_uri": "https://localhost:8080/"
        },
        "id": "DRa5MhdirnPx",
        "outputId": "b893d2cd-5719-40e3-dc28-b13d0367b7a0"
      },
      "execution_count": 828,
      "outputs": [
        {
          "output_type": "execute_result",
          "data": {
            "text/plain": [
              "1.0"
            ]
          },
          "metadata": {},
          "execution_count": 828
        }
      ]
    },
    {
      "cell_type": "code",
      "source": [
        "\n",
        "print(len(df[df.baths > 5]))\n",
        "print(len(df[df.baths == 0]))"
      ],
      "metadata": {
        "colab": {
          "base_uri": "https://localhost:8080/"
        },
        "id": "byR9mnz2rnST",
        "outputId": "a7db928c-ad60-4ce3-8eea-cea93c39ed98"
      },
      "execution_count": 829,
      "outputs": [
        {
          "output_type": "stream",
          "name": "stdout",
          "text": [
            "4639\n",
            "2094\n"
          ]
        }
      ]
    },
    {
      "cell_type": "code",
      "source": [
        "df.baths.median()"
      ],
      "metadata": {
        "colab": {
          "base_uri": "https://localhost:8080/"
        },
        "id": "JqlYWIE97Luu",
        "outputId": "74fe08a5-b7ec-4938-b158-ca5b57f74748"
      },
      "execution_count": 830,
      "outputs": [
        {
          "output_type": "execute_result",
          "data": {
            "text/plain": [
              "2.0"
            ]
          },
          "metadata": {},
          "execution_count": 830
        }
      ]
    },
    {
      "cell_type": "code",
      "source": [
        "# Удалим значения больше 5\n",
        "df = df.drop(df.loc[df.baths > 5].index, axis = 0)"
      ],
      "metadata": {
        "id": "4nNArCLKrnU5"
      },
      "execution_count": 831,
      "outputs": []
    },
    {
      "cell_type": "code",
      "source": [
        "df.baths = df.baths.apply(lambda x: 1 if x == 0 else x)\n",
        "df.baths = df.baths.apply(lambda x: 4 if x > 5 else x)\n"
      ],
      "metadata": {
        "id": "OmzHNxRw6MHk"
      },
      "execution_count": 832,
      "outputs": []
    },
    {
      "cell_type": "code",
      "source": [
        "# График явно улучшился.\n",
        "diagnostic_plots(df, 'baths', 'baths')"
      ],
      "metadata": {
        "colab": {
          "base_uri": "https://localhost:8080/",
          "height": 0
        },
        "id": "C1uqhIpMrnXz",
        "outputId": "f895c2bb-a82b-47b3-f1d2-59367f352070"
      },
      "execution_count": 833,
      "outputs": [
        {
          "output_type": "display_data",
          "data": {
            "text/plain": [
              "<Figure size 720x504 with 4 Axes>"
            ],
            "image/png": "[encoded data removed]"
          },
          "metadata": {
            "needs_background": "light"
          }
        }
      ]
    },
    {
      "cell_type": "markdown",
      "source": [
        "## beds"
      ],
      "metadata": {
        "id": "6Rcb9dqcJQ9w"
      }
    },
    {
      "cell_type": "code",
      "source": [
        "# Очевидные выбросы на графике\n",
        "diagnostic_plots(df, 'beds', 'beds')"
      ],
      "metadata": {
        "colab": {
          "base_uri": "https://localhost:8080/",
          "height": 0
        },
        "id": "bB_57rCRUiMe",
        "outputId": "734d34a5-d71e-45bb-b1be-143a84da1bb7"
      },
      "execution_count": 834,
      "outputs": [
        {
          "output_type": "display_data",
          "data": {
            "text/plain": [
              "<Figure size 720x504 with 4 Axes>"
            ],
            "image/png": "[encoded data removed]"
          },
          "metadata": {
            "needs_background": "light"
          }
        }
      ]
    },
    {
      "cell_type": "code",
      "source": [
        "print(df.beds.max())\n",
        "print(df.beds.min())"
      ],
      "metadata": {
        "colab": {
          "base_uri": "https://localhost:8080/"
        },
        "id": "UPHGCjCmUlHm",
        "outputId": "55c5cccd-665c-4d48-e6e3-075fe564e6a5"
      },
      "execution_count": 835,
      "outputs": [
        {
          "output_type": "stream",
          "name": "stdout",
          "text": [
            "64.0\n",
            "0.0\n"
          ]
        }
      ]
    },
    {
      "cell_type": "code",
      "source": [
        "print(df.beds.median())"
      ],
      "metadata": {
        "colab": {
          "base_uri": "https://localhost:8080/"
        },
        "id": "6QOYTmX8alOL",
        "outputId": "71fa2cf9-aaba-408a-9888-14decd4916bb"
      },
      "execution_count": 836,
      "outputs": [
        {
          "output_type": "stream",
          "name": "stdout",
          "text": [
            "3.0\n"
          ]
        }
      ]
    },
    {
      "cell_type": "code",
      "source": [
        "print(df.beds[df.beds == 0].count())\n",
        "print(df.beds[df.beds > 10].count())"
      ],
      "metadata": {
        "colab": {
          "base_uri": "https://localhost:8080/"
        },
        "id": "FK0uEzfhUlKg",
        "outputId": "1372d190-5795-4d40-fd21-2e006f66e2ee"
      },
      "execution_count": 837,
      "outputs": [
        {
          "output_type": "stream",
          "name": "stdout",
          "text": [
            "1276\n",
            "186\n"
          ]
        }
      ]
    },
    {
      "cell_type": "code",
      "source": [
        "print(df.beds.quantile(0.999))\n",
        "print(df.beds.quantile(0.001))"
      ],
      "metadata": {
        "colab": {
          "base_uri": "https://localhost:8080/"
        },
        "id": "-4kGYkyCVkLW",
        "outputId": "f55b78fa-abe5-4f48-cd31-5716c5d5dabb"
      },
      "execution_count": 838,
      "outputs": [
        {
          "output_type": "stream",
          "name": "stdout",
          "text": [
            "10.0\n",
            "0.0\n"
          ]
        }
      ]
    },
    {
      "cell_type": "code",
      "source": [
        "df = df.drop(df.loc[df.beds > 20].index, axis = 0)"
      ],
      "metadata": {
        "id": "HChzvIMDUlNJ"
      },
      "execution_count": 839,
      "outputs": []
    },
    {
      "cell_type": "code",
      "source": [
        "#df.beds = df.beds.apply(lambda x: 1 if x == 0 else x)\n",
        "df.beds = df.beds.apply(lambda x: 4 if x > 15 else x)"
      ],
      "metadata": {
        "id": "CUp9xK-tUlP-"
      },
      "execution_count": 840,
      "outputs": []
    },
    {
      "cell_type": "code",
      "source": [
        "# Очевидные выбросы на графике\n",
        "diagnostic_plots(df, 'beds', 'beds')"
      ],
      "metadata": {
        "colab": {
          "base_uri": "https://localhost:8080/",
          "height": 0
        },
        "id": "xHxKKM0gWETW",
        "outputId": "0a79690c-742a-4a3c-cf6b-a9c1616037ab"
      },
      "execution_count": 841,
      "outputs": [
        {
          "output_type": "display_data",
          "data": {
            "text/plain": [
              "<Figure size 720x504 with 4 Axes>"
            ],
            "image/png": "[encoded data removed]"
          },
          "metadata": {
            "needs_background": "light"
          }
        }
      ]
    },
    {
      "cell_type": "markdown",
      "source": [
        "## stories"
      ],
      "metadata": {
        "id": "ifqcv13dj6Ek"
      }
    },
    {
      "cell_type": "code",
      "source": [
        "# Очевидные выбросы на графике\n",
        "diagnostic_plots(df, 'stories', 'stories')"
      ],
      "metadata": {
        "colab": {
          "base_uri": "https://localhost:8080/",
          "height": 493
        },
        "id": "17KddLdQkA1M",
        "outputId": "483539a6-8956-41b1-e51b-76daca448da4"
      },
      "execution_count": 842,
      "outputs": [
        {
          "output_type": "display_data",
          "data": {
            "text/plain": [
              "<Figure size 720x504 with 4 Axes>"
            ],
            "image/png": "[encoded data removed]"
          },
          "metadata": {
            "needs_background": "light"
          }
        }
      ]
    },
    {
      "cell_type": "code",
      "source": [
        "print(df.stories.max())\n",
        "print(df.stories.min())"
      ],
      "metadata": {
        "colab": {
          "base_uri": "https://localhost:8080/"
        },
        "id": "FXD5WW8MkN-L",
        "outputId": "c39db28e-76e6-4af8-e192-5315350a7514"
      },
      "execution_count": 843,
      "outputs": [
        {
          "output_type": "stream",
          "name": "stdout",
          "text": [
            "91.0\n",
            "0.0\n"
          ]
        }
      ]
    },
    {
      "cell_type": "code",
      "source": [
        "print(df.stories.median())"
      ],
      "metadata": {
        "colab": {
          "base_uri": "https://localhost:8080/"
        },
        "id": "PjYzsdlIkOAw",
        "outputId": "180732bf-97de-4c17-b07e-57b0f6568ebe"
      },
      "execution_count": 844,
      "outputs": [
        {
          "output_type": "stream",
          "name": "stdout",
          "text": [
            "1.0\n"
          ]
        }
      ]
    },
    {
      "cell_type": "code",
      "source": [
        "print(df.stories[df.beds == 0].count())\n",
        "print(df.stories[df.beds > 10].count())"
      ],
      "metadata": {
        "colab": {
          "base_uri": "https://localhost:8080/"
        },
        "id": "5AIfGIdhkODN",
        "outputId": "23e5d214-61cb-48dc-d858-b1527d27c421"
      },
      "execution_count": 857,
      "outputs": [
        {
          "output_type": "stream",
          "name": "stdout",
          "text": [
            "684\n",
            "71\n"
          ]
        }
      ]
    },
    {
      "cell_type": "code",
      "source": [
        "print(df.stories.quantile(0.999))\n",
        "print(df.stories.quantile(0.001))"
      ],
      "metadata": {
        "colab": {
          "base_uri": "https://localhost:8080/"
        },
        "id": "kXc9hphkkOFx",
        "outputId": "2ed17585-0d42-4985-96f4-9d02b5d68a91"
      },
      "execution_count": 846,
      "outputs": [
        {
          "output_type": "stream",
          "name": "stdout",
          "text": [
            "38.0\n",
            "0.0\n"
          ]
        }
      ]
    },
    {
      "cell_type": "code",
      "source": [
        "get_quantile(df, 'stories')"
      ],
      "metadata": {
        "colab": {
          "base_uri": "https://localhost:8080/"
        },
        "id": "3FgfnhBylpQn",
        "outputId": "8bf43999-acd6-483f-fbb8-2df18b3772b6"
      },
      "execution_count": 847,
      "outputs": [
        {
          "output_type": "stream",
          "name": "stdout",
          "text": [
            "Верхняя граница выбросов: 3.5 Нижняя граница выбросов: -0.5\n",
            "\n",
            "Количество выбросов: stories : 9349\n"
          ]
        }
      ]
    },
    {
      "cell_type": "code",
      "source": [
        "df = df.drop(df.loc[df.stories > 10].index, axis = 0)"
      ],
      "metadata": {
        "id": "d4-lLVNzkVc9"
      },
      "execution_count": 848,
      "outputs": []
    },
    {
      "cell_type": "code",
      "source": [
        "df.stories = df.stories.apply(lambda x: 1 if x == 0 else x)\n",
        "#df.stories = df.stories.apply(lambda x: 4 if x > 5 else x)"
      ],
      "metadata": {
        "id": "F9AzGQyRkVf7"
      },
      "execution_count": 849,
      "outputs": []
    },
    {
      "cell_type": "code",
      "source": [
        "# Очевидные выбросы на графике\n",
        "diagnostic_plots(df, 'stories', 'stories')"
      ],
      "metadata": {
        "colab": {
          "base_uri": "https://localhost:8080/",
          "height": 493
        },
        "id": "jej4ytf9kViV",
        "outputId": "33c7d42f-0902-4c57-dc99-006515dd764c"
      },
      "execution_count": 850,
      "outputs": [
        {
          "output_type": "display_data",
          "data": {
            "text/plain": [
              "<Figure size 720x504 with 4 Axes>"
            ],
            "image/png": "[encoded data removed]"
          },
          "metadata": {
            "needs_background": "light"
          }
        }
      ]
    },
    {
      "cell_type": "markdown",
      "metadata": {
        "id": "kX8P4fb9i2pn"
      },
      "source": [
        "# Наивное решение"
      ]
    },
    {
      "cell_type": "code",
      "execution_count": 851,
      "metadata": {
        "id": "fB9hVb-ei9p_"
      },
      "outputs": [],
      "source": [
        "# Разделим признаки на числовые и категориальные\n",
        "num_col = ['baths','sqft','beds','stories','PrivatePool','year_built','remodeled_year','lotsize','price_sqft','']\n",
        "cat = ['status', 'propertyType', 'street', 'fireplace',\n",
        "       'city', 'sqft', 'zipcode','state', 'heating', 'cooling',\n",
        "       'parking', 'price_sqft', 'rating', 'name', 'data_distance',\n",
        "       'data_grades','propertyType_1']\n"
      ]
    },
    {
      "cell_type": "code",
      "execution_count": 852,
      "metadata": {
        "id": "owP5Rfvs5hD1"
      },
      "outputs": [],
      "source": [
        "y = df.target\n",
        "df.drop(['target'], inplace = True,axis = 1)"
      ]
    },
    {
      "cell_type": "code",
      "execution_count": 853,
      "metadata": {
        "id": "updk1NHmuRxB"
      },
      "outputs": [],
      "source": [
        "# Закодируем категориальные признаки.\n",
        "for colum in cat:\n",
        "  df[colum] = df[colum].astype('category').cat.codes"
      ]
    },
    {
      "cell_type": "code",
      "execution_count": 854,
      "metadata": {
        "id": "2Khh9mdekPD9"
      },
      "outputs": [],
      "source": [
        "# split данных\n",
        "X_train, X_test, y_train, y_test = train_test_split(df, np.log(y), test_size=0.2, shuffle=True, random_state=42)"
      ]
    },
    {
      "cell_type": "code",
      "execution_count": 858,
      "metadata": {
        "colab": {
          "base_uri": "https://localhost:8080/"
        },
        "id": "v4nyvYhumWQH",
        "outputId": "960476de-609b-4e82-f971-ecdebbae4f39"
      },
      "outputs": [
        {
          "output_type": "stream",
          "name": "stdout",
          "text": [
            "0:\tlearn: 0.0542260\ttest: 0.0539865\tbest: 0.0539865 (0)\ttotal: 53.7ms\tremaining: 17m 54s\n",
            "1000:\tlearn: 0.0318431\ttest: 0.0317228\tbest: 0.0317228 (1000)\ttotal: 47.4s\tremaining: 14m 59s\n",
            "2000:\tlearn: 0.0297079\ttest: 0.0296119\tbest: 0.0296119 (2000)\ttotal: 1m 34s\tremaining: 14m 13s\n",
            "3000:\tlearn: 0.0285488\ttest: 0.0284894\tbest: 0.0284894 (3000)\ttotal: 2m 22s\tremaining: 13m 28s\n",
            "4000:\tlearn: 0.0278002\ttest: 0.0277878\tbest: 0.0277878 (4000)\ttotal: 3m 10s\tremaining: 12m 41s\n",
            "5000:\tlearn: 0.0272388\ttest: 0.0272716\tbest: 0.0272716 (5000)\ttotal: 4m\tremaining: 12m\n",
            "6000:\tlearn: 0.0268131\ttest: 0.0268889\tbest: 0.0268889 (6000)\ttotal: 4m 47s\tremaining: 11m 11s\n",
            "7000:\tlearn: 0.0264693\ttest: 0.0265948\tbest: 0.0265948 (7000)\ttotal: 5m 35s\tremaining: 10m 22s\n",
            "8000:\tlearn: 0.0261773\ttest: 0.0263529\tbest: 0.0263529 (8000)\ttotal: 6m 21s\tremaining: 9m 32s\n",
            "9000:\tlearn: 0.0259264\ttest: 0.0261495\tbest: 0.0261495 (9000)\ttotal: 7m 8s\tremaining: 8m 44s\n",
            "10000:\tlearn: 0.0257119\ttest: 0.0259861\tbest: 0.0259861 (10000)\ttotal: 7m 57s\tremaining: 7m 57s\n",
            "11000:\tlearn: 0.0255020\ttest: 0.0258258\tbest: 0.0258258 (11000)\ttotal: 8m 43s\tremaining: 7m 8s\n",
            "12000:\tlearn: 0.0253098\ttest: 0.0256818\tbest: 0.0256818 (12000)\ttotal: 9m 30s\tremaining: 6m 20s\n",
            "13000:\tlearn: 0.0251410\ttest: 0.0255658\tbest: 0.0255658 (13000)\ttotal: 10m 16s\tremaining: 5m 31s\n",
            "14000:\tlearn: 0.0249806\ttest: 0.0254598\tbest: 0.0254598 (13999)\ttotal: 11m 2s\tremaining: 4m 43s\n",
            "15000:\tlearn: 0.0248371\ttest: 0.0253709\tbest: 0.0253709 (15000)\ttotal: 11m 48s\tremaining: 3m 56s\n",
            "16000:\tlearn: 0.0246993\ttest: 0.0252858\tbest: 0.0252858 (16000)\ttotal: 12m 36s\tremaining: 3m 9s\n",
            "17000:\tlearn: 0.0245668\ttest: 0.0252065\tbest: 0.0252065 (17000)\ttotal: 13m 23s\tremaining: 2m 21s\n",
            "18000:\tlearn: 0.0244404\ttest: 0.0251343\tbest: 0.0251343 (18000)\ttotal: 14m 10s\tremaining: 1m 34s\n",
            "19000:\tlearn: 0.0243211\ttest: 0.0250702\tbest: 0.0250702 (19000)\ttotal: 14m 55s\tremaining: 47.1s\n",
            "19999:\tlearn: 0.0242044\ttest: 0.0250069\tbest: 0.0250069 (19998)\ttotal: 15m 41s\tremaining: 0us\n",
            "\n",
            "bestTest = 0.02500692039\n",
            "bestIteration = 19998\n",
            "\n",
            "Shrink model to first 19999 iterations.\n"
          ]
        },
        {
          "output_type": "execute_result",
          "data": {
            "text/plain": [
              "<catboost.core.CatBoostRegressor at 0x7f54382c3510>"
            ]
          },
          "metadata": {},
          "execution_count": 858
        }
      ],
      "source": [
        "model_cat = CatBoostRegressor(iterations = 20000,\n",
        "                          learning_rate = 0.01,\n",
        "                          l2_leaf_reg=2,\n",
        "                          random_seed = 42,\n",
        "                          eval_metric='MAPE',\n",
        "                          custom_metric=['RMSE', 'MAE'],\n",
        "                          od_wait=500,\n",
        "                          #task_type='GPU',\n",
        "\n",
        "                         )\n",
        "model_cat.fit(X_train, y_train,\n",
        "         eval_set=(X_test, y_test),\n",
        "         verbose_eval=1000,\n",
        "         use_best_model=True,\n",
        "         #plot=True\n",
        "         )"
      ]
    },
    {
      "cell_type": "code",
      "execution_count": 859,
      "metadata": {
        "colab": {
          "base_uri": "https://localhost:8080/"
        },
        "id": "Cp9n6kyYwjNY",
        "outputId": "29dddebc-42aa-4a1e-d6d6-1498fca50f7d"
      },
      "outputs": [
        {
          "output_type": "stream",
          "name": "stdout",
          "text": [
            "TEST mape: 34.20%\n"
          ]
        }
      ],
      "source": [
        "# Удручающий результат приступим к увф и посмотрим что можно зделать.\n",
        "test_predict_catboost = model_cat.predict(X_test)\n",
        "print(f\"TEST mape: {(mape(np.exp(y_test), np.exp(test_predict_catboost)))*100:0.2f}%\")"
      ]
    },
    {
      "cell_type": "code",
      "source": [
        "df.info()"
      ],
      "metadata": {
        "colab": {
          "base_uri": "https://localhost:8080/"
        },
        "id": "jifADH3JDTA2",
        "outputId": "94520689-f78d-4b81-b07f-489bc20dee94"
      },
      "execution_count": 23,
      "outputs": [
        {
          "output_type": "stream",
          "name": "stdout",
          "text": [
            "<class 'pandas.core.frame.DataFrame'>\n",
            "Int64Index: 374704 entries, 0 to 374703\n",
            "Data columns (total 25 columns):\n",
            " #   Column          Non-Null Count   Dtype  \n",
            "---  ------          --------------   -----  \n",
            " 0   status          332863 non-null  object \n",
            " 1   propertyType    374704 non-null  object \n",
            " 2   street          372876 non-null  object \n",
            " 3   baths           189660 non-null  float64\n",
            " 4   fireplace       374704 non-null  object \n",
            " 5   city            374670 non-null  object \n",
            " 6   sqft            321918 non-null  float64\n",
            " 7   zipcode         374704 non-null  object \n",
            " 8   beds            263575 non-null  float64\n",
            " 9   state           374704 non-null  object \n",
            " 10  stories         222653 non-null  float64\n",
            " 11  PrivatePool     374704 non-null  float64\n",
            " 12  target          374704 non-null  float64\n",
            " 13  propertyType_1  298982 non-null  object \n",
            " 14  year_built      311416 non-null  float64\n",
            " 15  remodeled_year  149833 non-null  float64\n",
            " 16  heating         257558 non-null  object \n",
            " 17  cooling         233887 non-null  object \n",
            " 18  parking         181887 non-null  object \n",
            " 19  lotsize         279242 non-null  float64\n",
            " 20  price_sqft      310874 non-null  float64\n",
            " 21  rating          374704 non-null  object \n",
            " 22  name            374704 non-null  object \n",
            " 23  data_distance   370445 non-null  object \n",
            " 24  data_grades     370445 non-null  object \n",
            "dtypes: float64(10), object(15)\n",
            "memory usage: 74.3+ MB\n"
          ]
        }
      ]
    },
    {
      "cell_type": "markdown",
      "source": [
        "**Что планирую дальше делать:**\n",
        "\n",
        "1. Еще надо поработать с датасетами из столбцов scools и homefacts.\n",
        "\n",
        "2. Столбцы propertyType и status привел к нескольким категориям но из длинных строк потерялась информация попробую добавить еще dummy признаки из этих столбцов.\n",
        "\n",
        "3. Буду продолжать eda\n",
        "\n",
        "4. Далее поработаю с feature engineering.\n",
        "\n",
        "5. Ну и следующим шагом начну тестировать алгоритмы.\n",
        "\n"
      ],
      "metadata": {
        "id": "e5eK0UsDCc7f"
      }
    }
  ],
  "metadata": {
    "accelerator": "GPU",
    "colab": {
      "collapsed_sections": [
        "8FgW3269Zp8x",
        "9NytEuiwIkwb",
        "YZHjFM722Z14",
        "JdWJi52wF186",
        "eCe_jn9WHG_Q",
        "GeyK08O0xdjx",
        "hlOootLP5sjZ",
        "QtvKM2GedvoE",
        "IprFF8cH55lJ",
        "XkkY5_WeqdLD",
        "skdYOmo3cxep",
        "ujUcd0MBJe8I",
        "EhYI6BCHFbnG",
        "5PP9cSBnqs5B",
        "o3TsZ5usdMU_",
        "Aiai4gbFomdB",
        "77mre1xzsMqt",
        "cdd2wS1JJOUL",
        "dFFUNPTmJ2JW",
        "e6SUbBN0lTbU",
        "8SnAEUNSUEef",
        "QtzSpeyXUuqV",
        "DyGYAZgQjNtu",
        "Y69yItFgxAAx",
        "0taoBCpFazC3",
        "CpvZGukBiA0F",
        "BuIXN4pNkqv8",
        "uRlUPn10qUtJ",
        "ufpGi3JW5MiQ",
        "BXUsmM2j5R86",
        "pOlnPoIpQq_3",
        "V6oQHHo3KKI4",
        "6Zm8gNXU7H9K",
        "ypOYiAX8nLvA",
        "rHasvugicBwL",
        "UiS87S_crD7_",
        "6Rcb9dqcJQ9w"
      ],
      "name": "diplom_baseline.ipynb",
      "provenance": []
    },
    "gpuClass": "standard",
    "kernelspec": {
      "display_name": "Python 3",
      "name": "python3"
    },
    "language_info": {
      "name": "python"
    }
  },
  "nbformat": 4,
  "nbformat_minor": 0
}