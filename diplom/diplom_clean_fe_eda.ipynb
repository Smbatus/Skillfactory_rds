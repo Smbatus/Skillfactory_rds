{
  "cells": [
    {
      "cell_type": "markdown",
      "source": [
        "# Цель проекта\n",
        "\n",
        "Разработать сервис, который будет предсказывать стоимость домов, основываясь на истории предложений.  "
      ],
      "metadata": {
        "id": "jm8jVaeXXTMu"
      }
    },
    {
      "cell_type": "markdown",
      "source": [
        "# ***План проекта***\n",
        "\n",
        "# **Часть 1**\n",
        "1. Задача.\n",
        "2. Метрика.\n",
        "3. Описание данных.\n",
        "4. Предобработка датасета (очищение данных)\n",
        "5. Feature engineering\n",
        "6. EDA\n",
        "7. Выводы после EDA\n",
        "\n",
        "# **Часть 2**\n",
        "\n",
        "1. Наивная модель\n",
        "2. CatBoostRegressor\n",
        "3. RandomForestRegressor\n",
        "4. GradientBoostingRegressor\n",
        "5. StackingRegressor\n",
        "6. Blending\n",
        "7. Выводы\n"
      ],
      "metadata": {
        "id": "1DIUsxNMnSFy"
      }
    },
    {
      "cell_type": "markdown",
      "source": [
        "# 1. Задача\n",
        "\n",
        "*  Очистить и подготовить данные из предоставленного датасета для использования моделью машинного обучения.\n",
        "*  Построить модели машинного обучения сравнить их и выбрать лучшую на основе выбраной метрики.\n",
        "\n"
      ],
      "metadata": {
        "id": "Q5ckvqZfqUVo"
      }
    },
    {
      "cell_type": "markdown",
      "source": [
        "# 2. Метрика\n",
        "\n",
        "Расматривалось 2 метрики для оценки и сравнения моделей MAPE и MAE.\n",
        "\n",
        "*   Выбрана метрика MAPE(mean percentage absolute error). Метрика показывает на сколько в среднем в процентах ошибаеться модель. Это удобно для сравнения моделей.\n",
        "*   MAE было решено использовать дополнительно, так как она отображает абсолютное число ошибки, что не очень удобно.\n"
      ],
      "metadata": {
        "id": "OnoOdT10rpTI"
      }
    },
    {
      "cell_type": "markdown",
      "source": [
        "# 3. Описание данных\n",
        "\n",
        "1. status - статус недвижимости. \n",
        "2. private pool - наличие бассейна.\n",
        "3. propertyType - тип недвижимости.\n",
        "4. street - адрес\n",
        "5. baths - описание санузла.\n",
        "6. homeFacts - описание недвижимости.(json dataset)\n",
        "7. fireplace - наличие камина и его описание.\n",
        "8. city - город.\n",
        "9. schools - наличие школ и доп. данные о них.(json dataset)\n",
        "10. sqft  - площадь обьекта.\n",
        "11. zipcode - почтовый индекс.\n",
        "12. beds - спальные.\n",
        "13. state - штат.\n",
        "14. stories - количество этажей.\n",
        "15. mls-id - номер обьявления в реестре недвижимости.\n",
        "16. PrivatePool - наличие бассейна.\n",
        "17. MlsId - номер обьявления в реестре недвижимости.\n",
        "18. target - целевая переменная.\n",
        "\n",
        "\n"
      ],
      "metadata": {
        "id": "10haLWD3t6cm"
      }
    },
    {
      "cell_type": "code",
      "execution_count": 3,
      "metadata": {
        "colab": {
          "base_uri": "https://localhost:8080/"
        },
        "id": "DZUo-k8fZy1X",
        "outputId": "cef8b785-86d9-40ea-e1d9-c16047c931c3"
      },
      "outputs": [
        {
          "output_type": "stream",
          "name": "stdout",
          "text": [
            "Looking in indexes: https://pypi.org/simple, https://us-python.pkg.dev/colab-wheels/public/simple/\n",
            "Requirement already satisfied: catboost in /usr/local/lib/python3.7/dist-packages (1.0.6)\n",
            "Requirement already satisfied: plotly in /usr/local/lib/python3.7/dist-packages (from catboost) (5.5.0)\n",
            "Requirement already satisfied: six in /usr/local/lib/python3.7/dist-packages (from catboost) (1.15.0)\n",
            "Requirement already satisfied: scipy in /usr/local/lib/python3.7/dist-packages (from catboost) (1.5.4)\n",
            "Requirement already satisfied: numpy>=1.16.0 in /usr/local/lib/python3.7/dist-packages (from catboost) (1.21.6)\n",
            "Requirement already satisfied: pandas>=0.24.0 in /usr/local/lib/python3.7/dist-packages (from catboost) (1.3.5)\n",
            "Requirement already satisfied: graphviz in /usr/local/lib/python3.7/dist-packages (from catboost) (0.10.1)\n",
            "Requirement already satisfied: matplotlib in /usr/local/lib/python3.7/dist-packages (from catboost) (3.2.2)\n",
            "Requirement already satisfied: pytz>=2017.3 in /usr/local/lib/python3.7/dist-packages (from pandas>=0.24.0->catboost) (2022.1)\n",
            "Requirement already satisfied: python-dateutil>=2.7.3 in /usr/local/lib/python3.7/dist-packages (from pandas>=0.24.0->catboost) (2.8.2)\n",
            "Requirement already satisfied: kiwisolver>=1.0.1 in /usr/local/lib/python3.7/dist-packages (from matplotlib->catboost) (1.4.3)\n",
            "Requirement already satisfied: cycler>=0.10 in /usr/local/lib/python3.7/dist-packages (from matplotlib->catboost) (0.11.0)\n",
            "Requirement already satisfied: pyparsing!=2.0.4,!=2.1.2,!=2.1.6,>=2.0.1 in /usr/local/lib/python3.7/dist-packages (from matplotlib->catboost) (3.0.9)\n",
            "Requirement already satisfied: typing-extensions in /usr/local/lib/python3.7/dist-packages (from kiwisolver>=1.0.1->matplotlib->catboost) (4.1.1)\n",
            "Requirement already satisfied: tenacity>=6.2.0 in /usr/local/lib/python3.7/dist-packages (from plotly->catboost) (8.0.1)\n"
          ]
        }
      ],
      "source": [
        "!pip install catboost"
      ]
    },
    {
      "cell_type": "markdown",
      "source": [
        "# 4. Предобработка (очистка) данных."
      ],
      "metadata": {
        "id": "oHcZ2KFcwubn"
      }
    },
    {
      "cell_type": "markdown",
      "metadata": {
        "id": "8FgW3269Zp8x"
      },
      "source": [
        "# Импорты"
      ]
    },
    {
      "cell_type": "code",
      "execution_count": 4,
      "metadata": {
        "id": "tefidfFO4D03"
      },
      "outputs": [],
      "source": [
        "from google.colab import drive\n",
        "import numpy as np # для работы с массивами\n",
        "import pandas as pd # для работы с DataFrame \n",
        "import re\n",
        "\n",
        "import collections\n",
        "\n",
        "# Загружаем специальный инструмент для разбивки:\n",
        "from sklearn.model_selection import train_test_split\n",
        "\n",
        "\n",
        "# инструменты для оценки точности модели \n",
        "from sklearn import metrics \n",
        "from sklearn.metrics import mean_absolute_percentage_error as mape\n",
        "from sklearn.metrics import mean_absolute_error as mae\n",
        "\n",
        "\n",
        "# модуль для работы с полиноминальными признаками\n",
        "from sklearn.preprocessing import PolynomialFeatures\n",
        "\n",
        "\n",
        "# Модули для визуализации\n",
        "import matplotlib\n",
        "import matplotlib.pyplot as plt\n",
        "import seaborn as sns\n",
        "import scipy.stats as stats\n",
        "\n",
        "\n",
        "# Модули для нахождения выбросов\n",
        "from sklearn.cluster import DBSCAN\n",
        "from sklearn.preprocessing import MinMaxScaler\n",
        "from sklearn import preprocessing\n",
        "from sklearn.preprocessing import StandardScaler\n",
        "from sklearn.preprocessing import RobustScaler\n",
        "\n",
        "#\n",
        "from IPython.display import display\n",
        "\n",
        "\n",
        "# Модуль для вывода прогресса\n",
        "from tqdm.notebook import tqdm\n",
        "\n",
        "# Модули алгоритмов\n",
        "from catboost import CatBoostRegressor\n",
        "from sklearn.ensemble import RandomForestRegressor\n",
        "from sklearn.ensemble import GradientBoostingRegressor  \n",
        "import xgboost as xgb\n",
        "from lightgbm import LGBMRegressor\n",
        "from sklearn.tree import DecisionTreeRegressor\n",
        "from sklearn.ensemble import AdaBoostRegressor\n",
        "from sklearn.ensemble import StackingRegressor\n",
        "from sklearn.linear_model import LinearRegression\n",
        "\n",
        "\n",
        "from sklearn.preprocessing import LabelEncoder\n",
        "from sklearn.model_selection import KFold\n",
        "\n",
        "\n",
        "from sklearn.model_selection import GridSearchCV\n",
        "\n",
        "\n",
        "import statistics as st\n",
        "\n",
        "\n",
        "from sklearn.cluster import DBSCAN\n",
        "from sklearn.preprocessing import MinMaxScaler\n",
        "from sklearn import preprocessing\n",
        "from sklearn.preprocessing import StandardScaler\n",
        "\n",
        "\n",
        "import json\n",
        "import re\n"
      ]
    },
    {
      "cell_type": "markdown",
      "metadata": {
        "id": "9NytEuiwIkwb"
      },
      "source": [
        "# Настройки Pandas"
      ]
    },
    {
      "cell_type": "code",
      "execution_count": 5,
      "metadata": {
        "id": "Q7yZa1__IlaL"
      },
      "outputs": [],
      "source": [
        "# Настройки Pandas\n",
        "# Сброс ограничений на количество выводимых рядов\n",
        "pd.set_option('display.max_rows', None)\n",
        "# Сброс ограничений на число столбцов\n",
        "pd.set_option('display.max_columns', None)"
      ]
    },
    {
      "cell_type": "markdown",
      "metadata": {
        "id": "YZHjFM722Z14"
      },
      "source": [
        "# Функции для EDA"
      ]
    },
    {
      "cell_type": "code",
      "execution_count": 6,
      "metadata": {
        "id": "e0EeBRxW2ZDI"
      },
      "outputs": [],
      "source": [
        "def diagnostic_plots(df, variable, title):\n",
        "    fig, ax = plt.subplots(figsize=(10,7))\n",
        "    # гистограмма\n",
        "    plt.subplot(2, 2, 1)\n",
        "    df[variable].hist(bins=30)\n",
        "    ## Q-Q plot\n",
        "    plt.subplot(2, 2, 2)\n",
        "    stats.probplot(df[variable], dist=\"norm\", plot=plt)\n",
        "    # ящик с усами\n",
        "    plt.subplot(2, 2, 3)\n",
        "    sns.violinplot(x=df[variable])    \n",
        "    # ящик с усами\n",
        "    plt.subplot(2, 2, 4)\n",
        "    sns.boxplot(x=df[variable])  \n",
        "    fig.suptitle(title)\n",
        "    plt.show()\n",
        "\n",
        "def get_quantile(df, column):\n",
        "    #вычисляем межквартильный размах:\n",
        "    iqr = df[column].quantile(0.75) - df[column].quantile(0.25)\n",
        "\n",
        "    #25-й перцентиль:\n",
        "    perc25 = df[column].quantile(0.25)\n",
        "    #75-й перцентиль:\n",
        "    perc75 = df[column].quantile(0.75)\n",
        "\n",
        "    #верхняя граница выбросов:\n",
        "    l = perc75 + 1.5*iqr\n",
        "    #нижняя граница выбросов:\n",
        "    f = perc25 - 1.5*iqr\n",
        "\n",
        "    print('Верхняя граница выбросов:',\n",
        "          l, 'Нижняя граница выбросов:', f)\n",
        "    print()\n",
        "    #считаем количество выбросов\n",
        "    print('Количество выбросов:', column, ':',\n",
        "         df[df[column]<(perc25-1.5*iqr)][column].count() +\n",
        "          df[df[column]>(perc75+1.5*iqr)][column].count())\n",
        "    \n",
        "def get_filling_mean(df, column):\n",
        "    \n",
        "    #вычисляем межквартильный размах:\n",
        "    iqr = df[column].quantile(0.75) - df[column].quantile(0.25)\n",
        "\n",
        "    #25-й перцентиль:\n",
        "    perc25 = df[column].quantile(0.25)\n",
        "    #75-й перцентиль:\n",
        "    perc75 = df[column].quantile(0.75)\n",
        "\n",
        "    #верхняя граница выбросов:\n",
        "    l = perc75 + 1.5*iqr\n",
        "    #нижняя граница выбросов:\n",
        "    f = perc25 - 1.5*iqr\n",
        "    #всё что выпадает за границы выбросов, заменяем на среднее\n",
        "    df[column] = df[column].apply(lambda m: df[column].mean() if m < f else m)\n",
        "    df[column] = df[column].apply(lambda m: df[column].mean() if m > l else m)\n",
        "    \n",
        "def get_filling_lim(df, column):\n",
        "    \n",
        "    #вычисляем межквартильный размах:\n",
        "    iqr = df[column].quantile(0.75) - df[column].quantile(0.25)\n",
        "\n",
        "    #25-й перцентиль:\n",
        "    perc25 = df[column].quantile(0.25)\n",
        "    #75-й перцентиль:\n",
        "    perc75 = df[column].quantile(0.75)\n",
        "\n",
        "    #верхняя граница выбросов:\n",
        "    l = perc75 + 1.5*iqr\n",
        "    #нижняя граница выбросов:\n",
        "    f = perc25 - 1.5*iqr\n",
        "    #всё что выпадает за границы выбросов, заменяем на среднее\n",
        "    df[column] = df[column].apply(lambda m: perc25 if m < f else m)\n",
        "    df[column] = df[column].apply(lambda m: perc75 if m > l else m)\n",
        "\n",
        "\n",
        "def get_filling_mean(df, column):\n",
        "    \n",
        "    #вычисляем межквартильный размах:\n",
        "    iqr = df[column].quantile(0.75) - df[column].quantile(0.25)\n",
        "\n",
        "    #25-й перцентиль:\n",
        "    perc25 = df[column].quantile(0.25)\n",
        "    #75-й перцентиль:\n",
        "    perc75 = df[column].quantile(0.75)\n",
        "\n",
        "    #верхняя граница выбросов:\n",
        "    l = perc75 + 1.5*iqr\n",
        "    #нижняя граница выбросов:\n",
        "    f = perc25 - 1.5*iqr\n",
        "    #всё что выпадает за границы выбросов, заменяем на среднее\n",
        "    df[column] = df[column].apply(lambda m: df[column].mean() if m < f else m)\n",
        "    df[column] = df[column].apply(lambda m: df[column].mean() if m > l else m)\n"
      ]
    },
    {
      "cell_type": "markdown",
      "metadata": {
        "id": "JdWJi52wF186"
      },
      "source": [
        "# Функции"
      ]
    },
    {
      "cell_type": "code",
      "execution_count": 7,
      "metadata": {
        "id": "ebg1D7dVVpb1"
      },
      "outputs": [],
      "source": [
        "# Функции\n",
        "\n",
        "# Функция для изменнения строк\n",
        "def form_status(x):\n",
        "  x = re.sub('foreclosure', 'for sale', x)\n",
        "  x = re.sub('pending', 'for sale', x)\n",
        "  x = re.sub('auction', 'for sale', x)\n",
        "  x = re.sub('contract', 'for sale', x)\n",
        "  x = re.sub('coming', 'for sale', x)\n",
        "  x = re.sub('closed', 'for sale', x)\n",
        "  x = re.sub('foreclosed', 'for sale', x)\n",
        "  x = re.sub('price change', 'for sale', x)\n",
        "  x = re.sub('back', 'for sale', x)\n",
        "  x = re.sub('continue show', 'for sale', x)\n",
        "  x = re.sub('listing', 'for sale', x)\n",
        "  x = re.sub('accepting', 'for sale', x)\n",
        "  x = re.sub('activated', 'for sale', x)\n",
        "  x = re.sub('lease/purchase', 'for sale', x)\n",
        "  x = re.sub('sold', 'active', x)\n",
        "  x = re.sub('recently sold', 'active', x)\n",
        "  x = re.sub('active - auction', 'for sale', x)\n",
        "\n",
        "\n",
        "  return x\n",
        "\n",
        "# Функция для создания списка категорий\n",
        "def quant_class(a):\n",
        "    cnt = collections.Counter()\n",
        "    for i in a:\n",
        "        for j in i:\n",
        "            j = str(j)\n",
        "            cnt[j] += 1\n",
        "    return cnt \n",
        "\n",
        "# Функция для создания DUMMY признаков из столбца \n",
        "def create_dummies(df, col, lst):\n",
        "    for elem in lst:\n",
        "        df[elem] = df[col].apply(lambda x: 1 if elem in x else 0)\n",
        "    return df\n",
        "\n",
        "# Функция для форматирования строк в списках столбца propertyType_1\n",
        "def form_propertyType_1(x):\n",
        "    a = []\n",
        "    for i in x:\n",
        "      if i[0] == ' ':\n",
        "        i = i[1:]\n",
        "      else: i = i\n",
        "      a.append(i)\n",
        "    return a\n",
        "\n",
        "\n",
        "def form_propertyType_2(x):\n",
        "  a = []\n",
        "  mapper = {'co-op':'coop','one story':'1 story','two story':'2 stories','2 story':'2 stories',\n",
        "            'unknown': '','1 1':'','townhome':'townhouse','manufactured home':'manufactured house',\n",
        "            'multi-family':'multi family',' ': ''}\n",
        "\n",
        "  for i in x:\n",
        "      if i in mapper:\n",
        "        i = mapper[i]\n",
        "\n",
        "  return x          \n",
        "\n",
        "\n",
        "\n",
        "# Преобразования fireplace\n",
        "def form_fireplace_1(x):\n",
        "    a = []\n",
        "    for i in x:\n",
        "      if i[0] == ' ':\n",
        "        i = i[1:]\n",
        "      else: i = i\n",
        "      a.append(i)\n",
        "    return a\n",
        "\n",
        "\n",
        "\n",
        "\n",
        "# Преобразования fireplace\n",
        "def form_fireplace_2(x):\n",
        "  a = []\n",
        "  mapper = {'gas log':'gas logs','gas fireplace':'gas','one':'1','familyrm':'family room','# fireplaces - woodburning':'1, wood burning','# fireplaces - gas':'1, gas',\n",
        "            'fireplaces':'1','# fireplaces - woodstoves':'woodstoves','gas fuel':'gas','in great room':'great room','familyrm':'family room','in living room':'living room',\n",
        "            'in den':'den','1 fireplace':'1','fireplace family rm':'family room','woodburning stove':'wood burning','log woodburning':'wood burning','fireplace-gas':'gas',\n",
        "            'gas fireplace':'gas','log wood-burning':'wood burning','fireplace-wood':'wood burning','fire pit':'firepit','fireplace living rm':'living room',\n",
        "            'wood burning frplc':'wood burning','fireplace - wood burning':'wood burning','wood burning fp':'wood burning','gas log starter':'gas starter','no fireplace':'0',\n",
        "            'two':'2','2 fireplaces':'2','fireplace':'1','three':'3','2 fireplace':'2','in bedroom':'bedroom','fireplace master bdr':'bedroom','two way fireplace':'two way',\n",
        "            'gas logs included':'gas logs','living room fireplace':'living room','single fireplace':'1','frplc-fam rm':'family room','gr':'great room','fireplace in family room':'family room',\n",
        "            'gas burning fireplace':'gas','fireplace - gas':'gas','3+ fireplace':'3','in rec room':'rec room','gas burning':'gas','freestnd fireplace':'free standing',\n",
        "            'basement - finished':'basement','family room fireplace':'family room','wood burning fireplace':'wood burning','gas log fireplace':'gas logs','wood burning w':'wood burning',\n",
        "            'great room fireplace':'great room','location (living room)':'living room','3 fireplaces':'3','two sided':'two way','fireplace-living rm':'living room',\n",
        "            'fp in living room':'living room','woodstove':'wood stove','living':'living room','free-standing':'free standing','brick fireplace':'brick','ceiling fan(s)':'ceiling fan',\n",
        "            'walk-in closet(s)':'walk-in closet','in kitchen':'kitchen','basement fireplace':'basement','# fireplaces - freestanding':'free standing','decorative fireplace':'decorative',\n",
        "            'decorative only':'decorative','fp in family room':'family room','fireplace(s)':'1','2+ fireplaces':'2','dining':'dining room','multi-sided fireplace':'two way',\n",
        "            'in family room':'family room','2 sided fire place':'two way','in master bedroom':'master bedroom','bedroom':'master bedroom','master bedroom fireplace':'master bedroom',\n",
        "            'fireplace-bedroom':'master bedroom','master bedroom - sitting area':'master bedroom','dining area':'dining room','four or more':'4','wood stove insert':'wood stove',\n",
        "            'fireplace- gas':'gas','two-way':'two way','wood-burning stove':'wood stove','gas piped':'gas','non wood burning': 'gas','wood fuel':'wood stove','# fireplaces - pellet':'pellet',\n",
        "            'propane logs convey': 'gas','bed room fireplace':'bed room','free standing wood stove': 'wood stove','masonry fireplace': 'stone fireplace','masonry':'stone fireplace',\n",
        "            'w':'wood stove','family':'family room','recreation room fireplace':'recreation room','rec room':'recreation room','gas log(s)':'gas logs','double sink': 'two way',\n",
        "            'in living area':'living room','fireplace in master bedroom':'master bedroom','master':'master bedroom','gas-burning':'gas','2 or more fireplaces':'2','gas starter fireplace':'gas starter',\n",
        "            'master suite': 'master bedroom','2 sided fireplace': 'two way','three or more':'3','electric logs':'electric','electric fireplace':'electric','fireplace - electric':'electric',\n",
        "            '4+ fireplaces':'4','formal dining room':'dining room','double sink': 'two way','multi sided': 'two way','oven': '1','attached fireplace doors':'attached doors','balcony access':'balcony',\n",
        "            'basement - partially finished':'basement','bed room':'bedroom','cable tv available': 'cable tv','cathedral ceiling': 'cathedral','ceiling fans':'ceiling fan','central furnace': 'central air',\n",
        "            'central heat': 'central air','central vacuum': 'central air','dining room combo':'dining room','dining room fireplace':'dining room','exterior fireplace':'extras','fireplace- wood':'wood burning',\n",
        "            'forced warm air': 'forced air','fp in master br': 'master bedroom','free standing frplc': 'free standing','freestanding': 'free standing','gas starters':'gas starter',\n",
        "            'gas ventless':'gas unvented','heatilater':'heatilator','heatilator type system':'heatilator','heating system: yes(s)': 'heatilator','in-law apt': 'in-law quarters',\n",
        "            'in-law suite': 'in-law quarters','insert unit':'insert','kitchen - gas cooking':'kitchen','kitchen fireplace':'kitchen','marble fireplace':'marble','master bedroom - dressing area': 'master bedroom',\n",
        "            'natural gas':'gas','non-functional fireplace': 'non-functional','not applicable': 'non-functional','other (see remarks)':'other','other - see remarks':'other','other-see remarks':'other',\n",
        "            'outdoors':'outdoor','outside':'outdoor','pellet stove':'pellet','pre-fab':'prefabricated','prefab':'prefabricated','presently inoperative':'non-functional','propane': 'gas','propane stove': 'gas',\n",
        "            'rec room fireplace': 'recreation room','see thru': 'see through','separate dining':'dining room','stone fireplace':'stone','storage lockers':'storage','vented gas fireplace':'vented gas',\n",
        "            'walk-in closets':'walk-in closet','wall mounted': 'wall furnace','window treatments': 'window treatment','with gas logs': 'gas logs','wood':'wood burning','woodburning':'wood burning',\n",
        "            'wood burning stove': 'wood stove','woodstoves': 'wood stove','in study': 'study','yes' : '1','fireplace' : '1','1 fireplace' : '1','no' : '0','3+' : '3','gas log' : 'gas logs','gas fireplace' : 'gas',\n",
        "            'one' : '1','familyrm' : 'family room' ,'in living room' : 'living room' ,'# fireplaces - woodburning' : '1, wood burning','# fireplaces - gas' : '1, gas','fireplaces' : '1','# fireplaces - woodstoves' : 'woodstoves',\n",
        "            'gas fuel' : 'gas','3+' : '3','gas log' : 'gas logs','gas fireplace': 'gas','one' : '1' ,'familyrm' : 'family room' ,'in living room' : 'living room' ,'# fireplaces - woodburning' : '1, wood burning',\n",
        "            '# fireplaces - gas' : '1, gas','fireplaces' : '1','# fireplaces - woodstoves' : 'woodstoves','gas fuel' : 'gas',}\n",
        "\n",
        "\n",
        "  for i in x:\n",
        "      if i in mapper:\n",
        "        i = mapper[i]\n",
        "\n",
        "  return x      \n",
        "\n",
        "\n",
        "\n",
        "\n",
        "# Преобразования form_homeFacts\n",
        "def form_homeFacts_re(x):\n",
        "  x = re.sub(r': None,', ': \"None\",', x)\n",
        "  x = re.sub(r'Attch\"d', 'Attchd', x)\n",
        "  x = re.sub(r'Req\"d', 'Reqd', x)\n",
        "  x = re.sub(r'Hennen\"s', 'Hennens', x)\n",
        "  x = re.sub(r'\"closet\"', 'closet', x)\n",
        "  x = re.sub(r'Addtn\"l', 'Addtnl', x)\n",
        "  x = re.sub(r'Penske\"s', 'Penskes', x)\n",
        "  #x = x[20:-2]\n",
        "\n",
        "  return x\n",
        "\n",
        "\n",
        "# Преобразования propertyType\n",
        "def form_propertyType_s(x):\n",
        "  x = str(x)\n",
        "  x = re.sub('single', 'houses', x)\n",
        "  x = re.sub('story', 'houses', x)\n",
        "  x = re.sub('stories', 'houses', x)\n",
        "  x = re.sub('bungalow', 'houses', x)\n",
        "  x = re.sub('home', 'houses', x)\n",
        "  x = re.sub('transitional', 'houses', x)\n",
        "  x = re.sub('contemporary', 'houses', x)\n",
        "  x = re.sub('stories', 'houses', x)\n",
        "  x = re.sub('stories', 'houses', x)\n",
        "  x = re.sub('residential','houses', x)\n",
        "  x = re.sub('level','houses', x)\n",
        "  x = re.sub('custom','houses',x)\n",
        "  x = re.sub('cottage','houses',x)\n",
        "  x = re.sub('house','houses',x)\n",
        "  x = re.sub('detached','houses', x)\n",
        "  x = re.sub('stor','houses', x)\n",
        "  x = re.sub('attached','houses', x)\n",
        "  x = re.sub('residential','houses', x)\n",
        "  x = re.sub('coach','houses', x)\n",
        "\n",
        "  x = re.sub('townhome', 'townhouse', x) \n",
        "  x = re.sub(\"plex\", 'townhouse', x)\n",
        "\n",
        "  x = re.sub('high rise', 'condo', x)\n",
        "  x = re.sub('coop', 'condo', x)\n",
        "  x = re.sub('coop', 'condo', x)\n",
        "  x = re.sub('less than 4 floors','condo', x)\n",
        "  x = re.sub('unit','condo',x)\n",
        "  x = re.sub('co-op','condo', x)\n",
        "  x = re.sub('rise','condo', x)\n",
        "  x = re.sub('loft','condo', x)\n",
        "  x = re.sub('penthouse', 'apartment', x)\n",
        "  \n",
        "  x = re.sub('lot', 'land', x)\n",
        "\n",
        "  x = re.sub('multi', 'multi-family', x)\n",
        "  x = re.sub('split','multi-family', x)\n",
        "\n",
        "  x = re.sub('mediterranean','style house', x)\n",
        "  x = re.sub('cape','style house', x)\n",
        "  x = re.sub('modern','style house', x)\n",
        "  x = re.sub('craftsman','style house',x)\n",
        "  x = re.sub('victorian','style house', x)\n",
        "  x = re.sub('spanish','style house',x)\n",
        "  x = re.sub('miscellaneous','style house',x)\n",
        "  x = re.sub('colonial','style house', x)\n",
        "  x = re.sub('key west','style house',x)\n",
        "  x = re.sub('santa barbara','style house', x)\n",
        "  x = re.sub('straight','style house', x)\n",
        "  x = re.sub('french','style house', x)\n",
        "  x = re.sub('english','style house', x)\n",
        "  x = re.sub('georgian','style house', x)\n",
        "  x = re.sub('european','style house', x)\n",
        "  x = re.sub('elevated','style house', x)\n",
        "  x = re.sub('art','style house', x)\n",
        "  x = re.sub('historical','style house',x)\n",
        "  x = re.sub('frame','style house', x)\n",
        "  x = re.sub('charleston','style house', x)\n",
        "  x = re.sub('tudor','style house', x)\n",
        "  x = re.sub('florida','style house', x)\n",
        "  x = re.sub('federal','style house', x)\n",
        "  x = re.sub('ranch','style house', x)\n",
        "  x = re.sub('colonial','style house', x)\n",
        "  x = re.sub('modern','style house', x)\n",
        "  x = re.sub('contemporary','style house', x)\n",
        "\n",
        "  x = re.sub('other','other', x)\n",
        "\n",
        "  return x\n",
        "\n",
        "# Преобразования fireplace\n",
        "def form_fireplace_3(x):\n",
        "  x = str(x)\n",
        "  x = re.sub('# fireplaces - artificial', 'decorative', x)\n",
        "  x = re.sub('1000+ sq. ft.', '0', x)\n",
        "  x = re.sub('134', '0', x)\n",
        "  x = re.sub('2 story', '0', x)\n",
        "  x = re.sub('3 bedrooms', 'no', x)\n",
        "  x = re.sub('4+', '4', x)\n",
        "  x = re.sub('attached screens', 'attached doors', x)\n",
        "  x = re.sub('bed room', 'bedroom', x)\n",
        "  x = re.sub('bedroom downstairs', 'bedroom features', x)\n",
        "  x = re.sub('electric baseboard', 'electric', x)  \n",
        "  x = re.sub('fireplace - other', 'fireplace-other', x) \n",
        "  x = re.sub('fireplace-other', 'other', x)  \n",
        "  x = re.sub('hoa', '0', x)  \n",
        "  x = re.sub('more baths', 'bath', x)  \n",
        "  x = re.sub('stone fireplace', 'stone', x)  \n",
        "  x = re.sub('recreation room', 'rec room', x) \n",
        "  x = re.sub('two+', '2', x)  \n",
        "  x = re.sub('wall furnace', 'wall', x)  \n",
        "\n",
        "  return x\n",
        "\n",
        "\n",
        "# Преобразования scools.\n",
        "def form_scools_re(x):\n",
        "  x = re.sub('\\w\\\"\\w', '', x)\n",
        "  x = re.sub('\\\"Duke\\\"', '', x) \n",
        "  x = re.sub(\"None/10\", '', x)\n",
        "  x = re.sub('\"\"', '\"None\"', x)\n",
        "  x = re.sub(', None,', ', \"None\",', x)\n",
        "  x = re.sub('Lil\" Wonders', '', x)\n",
        "  x = re.sub('Loggers\"', '', x)\n",
        "  x = re.sub('O\"', '', x)\n",
        "  x = re.sub('N\"', '', x)\n",
        "  x = re.sub('Citizens\"', 'Citizens', x) # 7033\n",
        "  x = re.sub('Yeshivat Shaare Torah Girls\" D', 'Yeshivat Shaare Torah Girls D', x) \n",
        "  x = re.sub(r'Boy\\\\\\\\\"s Prep School', 'Boys Prep School', x) # 10452\n",
        "  x = re.sub(r'Kids\" World Private School, Inc. & Cornerstone Academy of Los Angeles', 'Kids World Private School, Inc. & Cornerstone Academy of Los Angeles', x) # 18535\n",
        "  x = re.sub('Seattle Girls\" Private School', 'Seattle Girls Private School', x) # 32242\n",
        "  x = re.sub('Constellation Schools: Westside Community School ', 'Constellation Schools: Westside Community School\"', x) # 34600\n",
        "  x = re.sub('Kids \"R\" Kids of Katy Private School', 'Kids R Kids of Katy Private School', x) # 44538\n",
        "  x = re.sub('Jose \"joe\" May Elementary School', 'Jose joe May Elementary School', x) # 67663\n",
        "  x = re.sub('G E \"buddy\" West Elementary School', 'G E buddy West Elementary School', x) # 106000\n",
        "  x = re.sub('My Small-Sized Friends\" Elementary Academy Private School', 'My Small-Sized Friends Elementary Academy Private School', x) # 106238\n",
        "  x = re.sub('Mary Harris \"Mother\" Jones Elementary School', 'Mary Harris Mother Jones Elementary School', x)\n",
        "  return x\n",
        "\n",
        "\n",
        "\n",
        "# Функция для приведения столбца sqft к числовому виду.\n",
        "def form_sqft(x):\n",
        "  x = re.sub(r'sqft', '', x)\n",
        "  x = re.sub(r'Total interior livable area: ', '', x) \n",
        "  x = re.sub(r',', '', x)\n",
        "  x = re.sub(r'--', '', x) \n",
        "  x = re.sub(r'-', '', x) \n",
        "  x = re.sub(r' ', '', x)\n",
        "  if x == '':\n",
        "      x = np.nan\n",
        "  x = float(x)\n",
        "  if x == 0.0:\n",
        "    x = np.nan\n",
        "\n",
        "  return x\n",
        "\n",
        "\n",
        "# Функция для замены бессмысленных значений на nan\n",
        "def form_beds(x):\n",
        "  if 'sqft' in x:\n",
        "    x = np.nan\n",
        "  elif 'Bath' in x:\n",
        "    x = np.nan\n",
        "  elif 'acres' in x:\n",
        "    x = np.nan\n",
        "  elif 'acre' in x:\n",
        "    x = np.nan\n",
        "  elif '--' in x:\n",
        "    x = np.nan\n",
        "  elif x == \"Based on Redfin's St Johns data, we estimate the home's value is $360,731, which is 2.2% less than its current list price.\":\n",
        "    x = np.nan\n",
        "  elif x == \"Based on Redfin's Raleigh data, we estimate the home's value is $708,248, which is 1.2% more than its current list price.\":\n",
        "    x = np.nan\n",
        "  elif x == \" \":\n",
        "    x = np.nan\n",
        "  return x\n",
        "\n",
        "\n",
        "# Функция для форматирования строк stories\n",
        "def form_stories(x):\n",
        "  x = re.sub(r'One', '1', x)\n",
        "  x = re.sub(r'Two', '2', x) \n",
        "  x = re.sub(r'2 Story', '2', x)\n",
        "  x = re.sub(r'1 Story', '1', x) \n",
        "  x = re.sub(r'3+', '3', x) \n",
        "  x = re.sub(r'Three Or More', '3', x)\n",
        "  x = re.sub(r'One Story', '1', x)\n",
        "  x = re.sub(r'Two Story or More', '2', x) \n",
        "  x = re.sub(r'2 Stories', '2', x)\n",
        "  x = re.sub(r'3 Story', '3', x) \n",
        "  x = re.sub(r'2 Level, Site Built', '2', x) \n",
        "  x = re.sub(r'2 Level', '2', x)\n",
        "  x = re.sub(r'Ranch/1', '1', x)\n",
        "  x = re.sub(r'1 Level', '1', x) \n",
        "  x = re.sub(r'2 or More', '2', x) \n",
        "  x = re.sub(r'1.5 Story', '1.5', x)\n",
        "  x = re.sub(r'1 Level, Site Built', '1', x) \n",
        "  x = re.sub(r'1 Basement', '1', x)\n",
        "  x = re.sub(r'2/Basement', '2', x)\n",
        "  x = re.sub(r'2 Or More Stories', '2', x) \n",
        "  x = re.sub(r'Tri-Level', '3', x)\n",
        "  x = re.sub(r'4 Story', '4', x) \n",
        "  x = re.sub(r'2.5 Story', '2.5', x) \n",
        "  x = re.sub(r'Bi-Level', '2', x)\n",
        "  x = re.sub(r'1, Site Built', '1', x) \n",
        "  x = re.sub(r'1.5 Level, Site Built', '1.5', x)\n",
        "  x = re.sub(r'2s', '2', x) \n",
        "  x = re.sub(r'1.5/Basement', '1.5', x) \n",
        "  x = re.sub(r'1/Ranch', '1', x)\n",
        "  x = re.sub(r'3 Level, Site Built', '3', x)\n",
        "  x = re.sub(r'1.5/Basement', '1.5', x) \n",
        "  x = re.sub(r'1.5 Stories', '1.5', x) \n",
        "  x = re.sub(r'1, 2', '1', x)\n",
        "  x = re.sub(r'1/F.R.O.G.', '1', x) \n",
        "  x = re.sub(r'3 - 5 Stories', '3', x)\n",
        "  x = re.sub(r', 2', '2', x)\n",
        "  x = re.sub(r'3 Level, Site Built, Townhouse', '3', x) \n",
        "  x = re.sub(r'3 Stories', '3', x)\n",
        "  x = re.sub(r'6+ Stories', '6', x) \n",
        "  x = re.sub(r'1, Condo', '1', x) \n",
        "  x = re.sub(r'Triplex', '3', x)\n",
        "  x = re.sub(r'Multi Level, Tri Level', '3', x) \n",
        "  x = re.sub(r'1-2, 3-4 Stories', '1', x) \n",
        "  x = re.sub(r'Condo 5+ Stories', '5', x)\n",
        "  x = re.sub(r'Double Wide', '2', x) \n",
        "  x = re.sub(r'3, 3', '3', x)\n",
        "  x = re.sub(r'Ground Level2', '2', x)\n",
        "  x = re.sub(r'Multi/Split2', '2', x) \n",
        "  x = re.sub(r'1, Hillside', '1', x)\n",
        "  x = re.sub(r'1, 1', '1', x) \n",
        "  x = re.sub(r'Townhouse-2, T3-Townhouse 3+ Stories', '3', x) \n",
        "  x = re.sub(r'3, Tri Level', '3', x)\n",
        "  x = re.sub(r'2.5/Basement', '2.5', x) \n",
        "  x = re.sub(r'3 Level, Condo, Site Built', '3', x)\n",
        "  x = re.sub(r'1and + Loft', '1', x) \n",
        "  x = re.sub(r'2, Split Foyer', '2', x) \n",
        "  x = re.sub(r'2, Split Level', '2', x)\n",
        "  x = re.sub(r'2, Tri Level', '2', x) \n",
        "  x = re.sub(r'2, Townhouse', '2', x)\n",
        "  x = re.sub(r'1 and 1 Half, 3', '3', x)\n",
        "  x = re.sub(r'4 Stories', '4', x) \n",
        "  x = re.sub(r'1, Multi Level', '1', x)\n",
        "  x = re.sub(r'1, Split Foyer', '1', x) \n",
        "  x = re.sub(r'Ground Level, Split Level2', '2', x) \n",
        "  x = re.sub(r'Split Foyer, 3', '3', x)\n",
        "  x = re.sub(r'Condo 5+ Stories', '5', x) \n",
        "  x = re.sub(r'2 or 2', '2', x) \n",
        "  x = re.sub(r'Condo 5+ Stories', '5', x) \n",
        "  x = re.sub(r'1, Non-Site Built', '1', x)\n",
        "  x = re.sub(r'2, Multi/Split', '2', x) \n",
        "  x = re.sub(r'1and + Loft', '1', x)\n",
        "  x = re.sub(r'Multi Level, Three or More', '3', x)\n",
        "  x = re.sub(r'1.5, 3', '3', x) \n",
        "  x = re.sub(r'2, Tear Down', '2', x)\n",
        "  x = re.sub(r'3, Split Level', '3', x) \n",
        "  x = re.sub(r'Quad Level', '4', x) \n",
        "  x = re.sub(r'3, Multi Level', '3', x)\n",
        "  x = re.sub(r'1, Split Level', '1', x) \n",
        "  x = re.sub(r'T3-Townhouse 3+ Stories', '3', x) \n",
        "  x = re.sub(r'1, Multi/Split', '1', x) \n",
        "  x = re.sub(r'Townhouse-2, T3-Townhouse 3+ Stories', '3', x)\n",
        "  x = re.sub(r'Tri/Multi Level', '3', x) \n",
        "  x = re.sub(r'2, Multi Level', '2', x) \n",
        "  x = re.sub(r'2, Condo, Site Built', '3', x) \n",
        "  x = re.sub(r'1 1/2', '1', x) \n",
        "  x = re.sub(r', 3', '3', x)\n",
        "  x = re.sub(r'3+ Story', '3', x) \n",
        "  x = re.sub(r'3-4', '3', x) \n",
        "  x = re.sub(r'Ground Level, 1', '1', x) \n",
        "  x = re.sub(r'2, Condo', '2', x)\n",
        "  x = re.sub(r'3 Level, Townhouse', '3', x) \n",
        "  x = re.sub(r'Tri Level', '3', x) \n",
        "  x = re.sub(r'3, Townhouse', '3', x) \n",
        "  x = re.sub(r'3 Level', '3', x)\n",
        "  x = re.sub(r'6+ Stories', '6', x) \n",
        "  x = re.sub(r'1, Townhouse', '1', x) \n",
        "  x = re.sub(r'Duplex', '2', x) \n",
        "  x = re.sub(r'3/Basement', '3', x)\n",
        "  x = re.sub(r'3, Multi/Split', '3', x) \n",
        "  x = re.sub(r', 1', '1', x) \n",
        "  x = re.sub(r'1and + Loft', '1', x) \n",
        "  x = re.sub(r'Condo 5+ Stories', '5', x) \n",
        "  x = re.sub(r'Townhouse-2, T3-Townhouse 3+ Stories', '3', x)\n",
        "  x = re.sub(r'T3-Townhouse 3+ Stories', '3', x) \n",
        "  x = re.sub(r'Site Built3 ', '3', x) \n",
        "  x = re.sub(r'1 and 1 Half', '1.5', x) \n",
        "  x = re.sub(r'1.5 Level', '1.5', x)\n",
        "  x = re.sub(r'3+', '3', x)\n",
        "\n",
        "  return x\n",
        "\n",
        "\n",
        "\n",
        "# Функция для изменения строк heating.\n",
        "def form_heating_re(x):\n",
        "\n",
        "  x = re.sub(r'\\([^()]*\\)', '', x)\n",
        "  x = re.sub(r'forced air', 'forced air', x)\n",
        "  x = re.sub(r'central, electric', 'central electric', x) \n",
        "  x = re.sub(r', electric hot air', 'electric hot air', x)\n",
        "  x = re.sub(r', gas hot air/furnace', 'gas hot air/furnace', x)\n",
        "  x = re.sub(r', natural gas', 'natural gas', x)\n",
        "  x = re.sub(r', multizone heat', 'multizone heat', x)\n",
        "  x = re.sub(r', g-fresh air ventilation', 'g-fresh air ventilation', x)\n",
        "  x = re.sub(r', gas water heater', 'gas water heater', x)\n",
        "  x = re.sub(r'radiators', 'radiator', x)\n",
        "  x = re.sub(r', heat pump - heat', 'heat pump - heat', x)\n",
        "  x = re.sub(r', electric baseboard heat', 'electric baseboard heat', x)\n",
        "  x = re.sub(r'gas gas', 'gas', x)\n",
        "  x = re.sub(r'wall units / window unit', 'wall/window unit', x)\n",
        "  x = re.sub(r'window units', 'window unit', x)\n",
        "  x = re.sub(r', g-energy star hvacgas hot air/furnace', 'g-energy star hvacgas hot air/furnace', x)\n",
        "  x = re.sub(r', pellet', 'pellet', x)\n",
        "  x = re.sub(r'g-energy star hvacg-fresh air ventilationgas hot air/furnacegas water heatermultizone heatnatural gas', 'g-energy star hvac', x)\n",
        "  x = re.sub(r'g-energy star hvacgas hot air/furnace', 'g-energy star hvac', x)\n",
        "  x = re.sub(r', g-energy star hvacg-fresh air ventilationgas hot air/furnacemultizone heatnatural gas', 'g-energy star hvac', x)\n",
        "  x = re.sub(r'g-energy star hvacg-fresh air ventilationgas hot air/furnacemultizone heatnatural gas', 'g-energy star hvac', x)\n",
        "  x = re.sub(r'g-energy star hvacg-fresh air ventilationgas hot air/furnacemultizone heat', 'g-energy star hvac', x)\n",
        "  x = re.sub(r'g-energy star hvacmultizone heat', 'g-energy star hvac', x)\n",
        "  x = re.sub(r', g-energy star hvacmultizone heatnatural gas', 'g-energy star hvac', x)\n",
        "  x = re.sub(r', g-energy star hvac', 'g-energy star hvac', x)\n",
        "  x = re.sub(r'g-energy star hvacg-fresh air ventilationgas hot air/furnace', 'g-energy star hvac', x)\n",
        "  x = re.sub(r'electric hot airg-energy star hvac', 'g-energy star hvac', x)\n",
        "  x = re.sub(r'g-energy star hvacg-fresh air ventilationheat pump - heatmultizone heat', 'g-energy star hvac', x)\n",
        "  x = re.sub(r'g-energy star hvacg-fresh air ventilationgas hot air/furnaceheat pump - heatmultizone heatnatural gas', 'g-energy star hvac', x)\n",
        "  x = re.sub(r'g-energy star hvacheat pump - heatmultizone heat', 'g-energy star hvac', x)\n",
        "  x = re.sub(r', g-energy star hvac', 'g-energy star hvac', x)\n",
        "  x = re.sub(r'g-energy star hvacnatural gas', 'g-energy star hvac', x)\n",
        "  x = re.sub(r'g-energy star hvacheat pump - heatnatural gas', 'g-energy star hvac', x)\n",
        "  x = re.sub(r'g-energy star hvacgas water heatermultizone heatnatural gas', 'g-energy star hvac', x)\n",
        "  x = re.sub(r'g-energy star hvac, gas floor furnacegas hot air/furnacemultizone heatnatural gas', 'g-energy star hvac', x)\n",
        "  x = re.sub(r'g-energy star hvacheat pump - heat', 'g-energy star hvac', x)\n",
        "  x = re.sub(r'g-energy star hvacg-fresh air ventilationmultizone heatnatural gas', 'g-energy star hvac', x)\n",
        "  x = re.sub(r'garage-tankless, gas', 'garage-tankless', x)\n",
        "  x = re.sub(r'garage-tankless h2o', 'garage-tankless', x)\n",
        "  x = re.sub(r'garage-tankless water heater', 'garage-tankless', x)\n",
        "  x = re.sub(r'tank in garage and tankless upstairs-gas', 'garage-tankless', x)\n",
        "  x = re.sub(r'garage-natural gas on demand', 'garage-on-demand navien', x)\n",
        "  x = re.sub(r'propane/butane', 'propane', x)\n",
        "  x = re.sub(r'propane butane', 'propane', x)\n",
        "  x = re.sub(r'propane gas', 'propane', x)\n",
        "  x = re.sub(r'propane-owned', 'propane', x)\n",
        "  x = re.sub(r'gas - liquid propane bottlepellet', 'liquid propane', x)\n",
        "  x = re.sub(r'gas - liquid propane bottle', 'liquid propane', x)\n",
        "  x = re.sub(r'wood-burning', 'wood burning', x)\n",
        "  x = re.sub(r'woodburning', 'wood burning', x)\n",
        "  x = re.sub(r', gas floor furnace heat pump - heat', 'gas, floor furnace, heat pump - heat', x)\n",
        "  x = re.sub(r'zone', 'zoned', x)\n",
        "  x = re.sub(r'multi-zones', 'multi zone', x)\n",
        "  x = re.sub(r'multi-zone', 'multi zone', x)\n",
        "  x = re.sub(r'wood-burning', 'wood burning', x)\n",
        "  x = re.sub(r'woodburning', 'wood burning', x)\n",
        "  x = re.sub(r', gas floor furnace heat pump - heat', 'gas, floor furnace, heat pump - heat', x)\n",
        "  x = re.sub(r'zone', 'zoned', x)\n",
        "  x = re.sub(r'multi-zones', 'multi zone', x)\n",
        "  x = re.sub(r'multi-zone', 'multi zone', x)\n",
        "  x = re.sub(r', ceiling heating', 'ceiling heating', x)\n",
        "  x = re.sub(r'woodstove', 'wood stove', x)\n",
        "  x = re.sub(r'stove - wood', 'wood stove', x)\n",
        "  x = re.sub(r'stove', 'wood stove', x)\n",
        "  x = re.sub(r'wood burn stove', 'wood stove', x)  \n",
        "  x = re.sub(r'wood/coal', 'wood stove', x)\n",
        "  x = re.sub(r'coal', 'wood stove', x)\n",
        "  x = re.sub(r'zoneddd', 'zoned', x)\n",
        "  x = re.sub(r'wood burning furnace', 'wood burning', x)\n",
        "  x = re.sub(r'woodburning', 'wood burning', x)\n",
        "\n",
        "\n",
        "  if x == '':\n",
        "    x = np.nan\n",
        "\n",
        "  return x\n",
        "\n",
        "\n",
        "# Функция для изменения строк cooling.\n",
        "def form_cooling_re(x):\n",
        "\n",
        "  x = re.sub(r'\\([^()]*\\)', '', x)\n",
        "  x = re.sub(r'forced air', 'forced air', x)\n",
        "  x = re.sub(r'central, electric', 'central electric', x) \n",
        "  x = re.sub(r', electric hot air', 'electric hot air', x)\n",
        "  x = re.sub(r', gas hot air/furnace', 'gas hot air/furnace', x)\n",
        "  x = re.sub(r', natural gas', 'natural gas', x)\n",
        "  x = re.sub(r', multizone heat', 'multizone heat', x)\n",
        "  x = re.sub(r', g-fresh air ventilation', 'g-fresh air ventilation', x)\n",
        "  x = re.sub(r', gas water heater', 'gas water heater', x)\n",
        "  x = re.sub(r'radiators', 'radiator', x)\n",
        "  x = re.sub(r', heat pump - heat', 'heat pump - heat', x)\n",
        "  x = re.sub(r', electric baseboard heat', 'electric baseboard heat', x)\n",
        "  x = re.sub(r'gas gas', 'gas', x)\n",
        "  x = re.sub(r'wall units / window unit', 'wall/window unit', x)\n",
        "  x = re.sub(r'window units', 'window unit', x)\n",
        "  x = re.sub(r', g-energy star hvacgas hot air/furnace', 'g-energy star hvacgas hot air/furnace', x)\n",
        "  x = re.sub(r', pellet', 'pellet', x)\n",
        "  x = re.sub(r'g-energy star hvacg-fresh air ventilationgas hot air/furnacegas water heatermultizone heatnatural gas', 'g-energy star hvac', x)\n",
        "  x = re.sub(r'g-energy star hvacgas hot air/furnace', 'g-energy star hvac', x)\n",
        "  x = re.sub(r', g-energy star hvacg-fresh air ventilationgas hot air/furnacemultizone heatnatural gas', 'g-energy star hvac', x)\n",
        "  x = re.sub(r'g-energy star hvacg-fresh air ventilationgas hot air/furnacemultizone heatnatural gas', 'g-energy star hvac', x)\n",
        "  x = re.sub(r'g-energy star hvacg-fresh air ventilationgas hot air/furnacemultizone heat', 'g-energy star hvac', x)\n",
        "  x = re.sub(r'g-energy star hvacmultizone heat', 'g-energy star hvac', x)\n",
        "  x = re.sub(r', g-energy star hvacmultizone heatnatural gas', 'g-energy star hvac', x)\n",
        "  x = re.sub(r', g-energy star hvac', 'g-energy star hvac', x)\n",
        "  x = re.sub(r'g-energy star hvacg-fresh air ventilationgas hot air/furnace', 'g-energy star hvac', x)\n",
        "  x = re.sub(r'electric hot airg-energy star hvac', 'g-energy star hvac', x)\n",
        "  x = re.sub(r'g-energy star hvacg-fresh air ventilationheat pump - heatmultizone heat', 'g-energy star hvac', x)\n",
        "  x = re.sub(r'g-energy star hvacg-fresh air ventilationgas hot air/furnaceheat pump - heatmultizone heatnatural gas', 'g-energy star hvac', x)\n",
        "  x = re.sub(r'g-energy star hvacheat pump - heatmultizone heat', 'g-energy star hvac', x)\n",
        "  x = re.sub(r', g-energy star hvac', 'g-energy star hvac', x)\n",
        "  x = re.sub(r'g-energy star hvacnatural gas', 'g-energy star hvac', x)\n",
        "  x = re.sub(r'g-energy star hvacheat pump - heatnatural gas', 'g-energy star hvac', x)\n",
        "  x = re.sub(r'g-energy star hvacgas water heatermultizone heatnatural gas', 'g-energy star hvac', x)\n",
        "  x = re.sub(r'g-energy star hvac, gas floor furnacegas hot air/furnacemultizone heatnatural gas', 'g-energy star hvac', x)\n",
        "  x = re.sub(r'g-energy star hvacheat pump - heat', 'g-energy star hvac', x)\n",
        "  x = re.sub(r'g-energy star hvacg-fresh air ventilationmultizone heatnatural gas', 'g-energy star hvac', x)\n",
        "  x = re.sub(r'garage-tankless, gas', 'garage-tankless', x)\n",
        "  x = re.sub(r'garage-tankless h2o', 'garage-tankless', x)\n",
        "  x = re.sub(r'garage-tankless water heater', 'garage-tankless', x)\n",
        "  x = re.sub(r'tank in garage and tankless upstairs-gas', 'garage-tankless', x)\n",
        "  x = re.sub(r'garage-natural gas on demand', 'garage-on-demand navien', x)\n",
        "  x = re.sub(r'propane/butane', 'propane', x)\n",
        "  x = re.sub(r'propane butane', 'propane', x)\n",
        "  x = re.sub(r'propane gas', 'propane', x)\n",
        "  x = re.sub(r'propane-owned', 'propane', x)\n",
        "  x = re.sub(r'gas - liquid propane bottlepellet', 'liquid propane', x)\n",
        "  x = re.sub(r'gas - liquid propane bottle', 'liquid propane', x)\n",
        "  x = re.sub(r'wood-burning', 'wood burning', x)\n",
        "  x = re.sub(r'woodburning', 'wood burning', x)\n",
        "  x = re.sub(r', gas floor furnace heat pump - heat', 'gas, floor furnace, heat pump - heat', x)\n",
        "  x = re.sub(r'zone', 'zoned', x)\n",
        "  x = re.sub(r'multi-zones', 'multi zone', x)\n",
        "  x = re.sub(r'multi-zone', 'multi zone', x)\n",
        "  x = re.sub(r'wood-burning', 'wood burning', x)\n",
        "  x = re.sub(r'woodburning', 'wood burning', x)\n",
        "  x = re.sub(r', gas floor furnace heat pump - heat', 'gas, floor furnace, heat pump - heat', x)\n",
        "  x = re.sub(r'zone', 'zoned', x)\n",
        "  x = re.sub(r'multi-zones', 'multi zone', x)\n",
        "  x = re.sub(r'multi-zone', 'multi zone', x)\n",
        "  x = re.sub(r', ceiling heating', 'ceiling heating', x)\n",
        "  x = re.sub(r'zoneddd', 'zoned', x)\n",
        "  x = re.sub(r'wood burning furnace', 'wood burning', x)\n",
        "  x = re.sub(r'woodburning', 'wood burning', x)\n",
        "  x = re.sub(r'heat pump - ac', 'heat pump', x)\n",
        "  x = re.sub(r'wall or window unit', 'wall/window unit', x)\n",
        "  x = re.sub(r'wall ac units', 'wall', x)\n",
        "  x = re.sub(r'wall unit', 'wall', x)\n",
        "  x = re.sub(r'wall unit cooling', 'wall', x)\n",
        "  x = re.sub(r', multizonedd a/c', 'multizonedd a/c', x)\n",
        "  x = re.sub(r'multi zonedd', 'multizonedd a/c', x)\n",
        "  x = re.sub(r'central,', 'central', x)\n",
        "  x = re.sub(r'woodstove', 'wood stove', x)\n",
        "  x = re.sub(r'stove - wood', 'wood stove', x)\n",
        "  x = re.sub(r'g-sealed combustion fireplace/wood stove', 'g-sealed combustion fireplace, wood stove', x)\n",
        "  x = re.sub(r'furnace - wood/oil combo', 'wood stove', x)\n",
        "  x = re.sub(r'woodstove', 'wood stove', x)\n",
        "  x = re.sub(r', wall - ac', 'wall - ac', x)\n",
        "\n",
        "\n",
        "  if x == '':\n",
        "    x = np.nan\n",
        "\n",
        "  return x\n",
        "\n",
        "# Функция для изменения строк parking.\n",
        "\n",
        "def parking(x):\n",
        "  x = str(x)\n",
        "  x = re.sub('2','2 spaces',x)\n",
        "  x = re.sub('4','4 spaces',x)\n",
        "  x = re.sub('3','3 spaces',x)\n",
        "  x = re.sub('parking desc','4 spaces',x)\n",
        "  x = re.sub('off street parking','off street',x)\n",
        "  x = re.sub('garage - 2 car','2 spaces',x)\n",
        "  x = re.sub('attached - front','attached garage',x)\n",
        "  x = re.sub('6','6 spaces',x)\n",
        "  x = re.sub('garage-attached','attached garage',x)  \n",
        "  x = re.sub('attached - side','attached garage',x)\n",
        "  x = re.sub('attached','attached garage',x)\n",
        "  x = re.sub('carport spaces','carport',x)\n",
        "  x = re.sub('garage attached','attached garage',x)\n",
        "  x = re.sub('5','5 spaces',x)\n",
        "  x = re.sub('attached - rear','attached garage',x)\n",
        "  x = re.sub('attached - side','attached garage',x) \n",
        "  x = re.sub('attached - front','attached garage',x)\n",
        "  x = re.sub('8','8 spaces',x)\n",
        "  x = re.sub('0','0 spaces',x)\n",
        "  x = re.sub('garage - 2 spaces car','2 spaces',x)\n",
        "  x = re.sub('aggre','nan',x)\n",
        "  x = re.sub('circular driveway','ndrivewayan',x)\n",
        "  x = re.sub('driveway paved','driveway',x)\n",
        "  x = re.sub('parking driveway','driveway',x)\n",
        "  x = re.sub('parking/driveway','driveway',x)\n",
        "  x = re.sub('driveway description','driveway',x)\n",
        "  x = re.sub('driveway only','driveway',x)\n",
        "  x = re.sub('concrete driveway','driveway',x)\n",
        "  x = re.sub('asphty','driveway',x)\n",
        "  x = re.sub('drvwy','driveway',x)\n",
        "  x = re.sub('concr','driveway',x)\n",
        "  x = re.sub('detached','detached garage',x)\n",
        "  x = re.sub('driveway - concrete','driveway',x)\n",
        "  x = re.sub('8 spaces8 spaces8 spaces','8 spaces',x)\n",
        "  x = re.sub('garage garage','garage',x)\n",
        "  x = re.sub('spaces spaces','spaces',x)\n",
        "\n",
        "  return x\n",
        "\n",
        "# Функция для приведения столбца lotsize к числовому виду.\n",
        "def form_lotsize(x):\n",
        "  x = x.replace(\"sq.\", \"\", 1)\n",
        "  x = x.replace(\"ft.\", \"\", 1)\n",
        "  x = re.sub(r'acres', '', x)\n",
        "  x = re.sub(r'acres lot', '', x)\n",
        "  x = re.sub(r'lot', '', x)\n",
        "  x = re.sub(r'sqft', '', x)\n",
        "  x = re.sub(r'(sq.ft)', '', x)\n",
        "  x = re.sub(r'acre', '', x)\n",
        "  x = re.sub(r'[—]', '', x)\n",
        "  x = re.sub(r'Total interior livable area: ', '', x) \n",
        "  x = re.sub(r',', '', x)\n",
        "  x = re.sub(r'--', '', x) \n",
        "  x = re.sub(r'-', '', x) \n",
        "  x = re.sub(r' ', '', x)\n",
        "  x = re.sub(r'^0', '0.', x)\n",
        "  x = x.replace(\"..\", \".\", 1)\n",
        "\n",
        "  return x\n",
        "\n",
        "\n",
        "# Функция для приведения столбца price_sqft к числовому виду.\n",
        "def price_sqft(x):\n",
        "\n",
        "  x = re.sub(r'/sqft', '', x)\n",
        "  x = re.sub(r' / sq. ft.', '', x)\n",
        "  x = x.replace(r'$', '', 1)\n",
        "  x = re.sub(r'no info', '', x)\n",
        "  x = re.sub(r',', '', x)\n",
        "  x = re.sub(r'contact manager', '', x)\n",
        "\n",
        "  return x\n",
        "\n",
        "# Функция для приведения столбца rating к числовому виду.\n",
        "def price_rating(x):\n",
        "  x = re.sub(r'1/10', '1', x)\n",
        "  x = re.sub(r'2/10', '2', x)\n",
        "  x = re.sub(r'3/10', '3', x)\n",
        "  x = re.sub(r'4/10', '4', x)\n",
        "  x = re.sub(r'5/10', '5', x)\n",
        "  x = re.sub(r'6/10', '6', x)\n",
        "  x = re.sub(r'7/10', '7', x)\n",
        "  x = re.sub(r'8/10', '8', x)\n",
        "  x = re.sub(r'9/10', '9', x)\n",
        "  x = re.sub(r'10/10', '10', x)\n",
        "  x = re.sub(r'None', '0', x)\n",
        "  x = re.sub(r'NR', '0', x)\n",
        "  x = re.sub(r'NA', '0', x)\n",
        "\n",
        "\n",
        "  return x\n",
        "\n",
        "\n",
        "\n",
        "# Создадим функцию которая уберет все буквы.\n",
        "def del_str(x):\n",
        "  x = ''.join(i for i in x if not i.isalpha())\n",
        "  return x"
      ]
    },
    {
      "cell_type": "markdown",
      "metadata": {
        "id": "eCe_jn9WHG_Q"
      },
      "source": [
        "# Инициализация диска"
      ]
    },
    {
      "cell_type": "code",
      "execution_count": 8,
      "metadata": {
        "colab": {
          "base_uri": "https://localhost:8080/"
        },
        "id": "CVgRFXl6Kczm",
        "outputId": "c3c645f0-0e2d-4bf4-9de5-f292057171b4"
      },
      "outputs": [
        {
          "output_type": "stream",
          "name": "stdout",
          "text": [
            "Mounted at /content/gdrive\n"
          ]
        }
      ],
      "source": [
        "drive.mount('/content/gdrive', force_remount=True)"
      ]
    },
    {
      "cell_type": "code",
      "execution_count": 9,
      "metadata": {
        "colab": {
          "base_uri": "https://localhost:8080/"
        },
        "id": "nheHnxx1LFdz",
        "outputId": "6adbd515-6850-40f4-cdfd-0bd80816a350"
      },
      "outputs": [
        {
          "output_type": "stream",
          "name": "stdout",
          "text": [
            "MyDrive\n"
          ]
        }
      ],
      "source": [
        "!ls /content/gdrive/"
      ]
    },
    {
      "cell_type": "code",
      "execution_count": 10,
      "metadata": {
        "colab": {
          "base_uri": "https://localhost:8080/"
        },
        "id": "n-zwu1XWLFlJ",
        "outputId": "faf887e3-f185-4891-f923-b9d675cd976d"
      },
      "outputs": [
        {
          "output_type": "stream",
          "name": "stdout",
          "text": [
            "'Colab Notebooks'   SWOT.gsheet\t\t       'Новая таблица.gsheet'\n",
            " Colab_Notebooks    TEMNIAKOVA_08_2021.gsheet   Остальное\n",
            " datasets\t    TEMNIAKOVA_08_2021.xls     'Таблицы DataScience'\n",
            " Diplom_project    'Книги по IT'\n"
          ]
        }
      ],
      "source": [
        "!ls /content/gdrive/\"My Drive\""
      ]
    },
    {
      "cell_type": "code",
      "execution_count": 11,
      "metadata": {
        "id": "whuht7ldLS-p"
      },
      "outputs": [],
      "source": [
        "!cp /content/gdrive/'My Drive'/Diplom_project/data.csv .\n"
      ]
    },
    {
      "cell_type": "code",
      "execution_count": 12,
      "metadata": {
        "colab": {
          "base_uri": "https://localhost:8080/"
        },
        "id": "H--_9rghManp",
        "outputId": "b58275e8-7aac-4fdd-e705-b932615f78a4"
      },
      "outputs": [
        {
          "output_type": "stream",
          "name": "stdout",
          "text": [
            "catboost_info  data.csv  gdrive  sample_data\n"
          ]
        }
      ],
      "source": [
        "!ls"
      ]
    },
    {
      "cell_type": "code",
      "execution_count": 13,
      "metadata": {
        "id": "VTCQwqjiK5lC"
      },
      "outputs": [],
      "source": [
        "# Настройки Pandas\n",
        "# Сброс ограничений на количество выводимых рядов\n",
        "pd.set_option('display.max_rows', 20)\n",
        "# Сброс ограничений на число столбцов\n",
        "pd.set_option('display.max_columns', 20)"
      ]
    },
    {
      "cell_type": "markdown",
      "source": [
        "# Загрузка датасета"
      ],
      "metadata": {
        "id": "rb1CAYK8D26-"
      }
    },
    {
      "cell_type": "code",
      "execution_count": 14,
      "metadata": {
        "id": "tkDd-axJPZwz"
      },
      "outputs": [],
      "source": [
        "df = pd.read_csv('data.csv')"
      ]
    },
    {
      "cell_type": "code",
      "execution_count": 15,
      "metadata": {
        "colab": {
          "base_uri": "https://localhost:8080/"
        },
        "id": "1_N_KshIGNcr",
        "outputId": "affbdc59-cc39-4c15-8470-fcd1e538c548"
      },
      "outputs": [
        {
          "output_type": "stream",
          "name": "stdout",
          "text": [
            "<class 'pandas.core.frame.DataFrame'>\n",
            "RangeIndex: 377185 entries, 0 to 377184\n",
            "Data columns (total 18 columns):\n",
            " #   Column        Non-Null Count   Dtype \n",
            "---  ------        --------------   ----- \n",
            " 0   status        337267 non-null  object\n",
            " 1   private pool  4181 non-null    object\n",
            " 2   propertyType  342452 non-null  object\n",
            " 3   street        377183 non-null  object\n",
            " 4   baths         270847 non-null  object\n",
            " 5   homeFacts     377185 non-null  object\n",
            " 6   fireplace     103115 non-null  object\n",
            " 7   city          377151 non-null  object\n",
            " 8   schools       377185 non-null  object\n",
            " 9   sqft          336608 non-null  object\n",
            " 10  zipcode       377185 non-null  object\n",
            " 11  beds          285903 non-null  object\n",
            " 12  state         377185 non-null  object\n",
            " 13  stories       226470 non-null  object\n",
            " 14  mls-id        24942 non-null   object\n",
            " 15  PrivatePool   40311 non-null   object\n",
            " 16  MlsId         310305 non-null  object\n",
            " 17  target        374704 non-null  object\n",
            "dtypes: object(18)\n",
            "memory usage: 51.8+ MB\n"
          ]
        }
      ],
      "source": [
        "df.info()"
      ]
    },
    {
      "cell_type": "markdown",
      "metadata": {
        "id": "GeyK08O0xdjx"
      },
      "source": [
        "# Target"
      ]
    },
    {
      "cell_type": "markdown",
      "source": [
        "### Функция"
      ],
      "metadata": {
        "id": "FPe98wj971aw"
      }
    },
    {
      "cell_type": "code",
      "source": [
        "def col_target(df,col):\n",
        "  \n",
        "  # Посмотрим если в Target есть пропуски\n",
        "  print('Пропуски:')\n",
        "  print(df[col].isna().value_counts())\n",
        "\n",
        "  # Удалим их\n",
        "  df.dropna(subset = [col],inplace = True)\n",
        "\n",
        "  # Ecть одно значение цены от и до суммы. обьявление аренды возьмем среднее етой цены.\n",
        "  df[col] = df[col].apply(lambda x: '1326' if x == '$1,215 - $1,437/mo'  else x)\n",
        "\n",
        "  # Убираем все знаки.\n",
        "  df[col] = df[col].str.replace(r'\\D+', '', regex=True)\n",
        "\n",
        "  # Приведем все значения к float \n",
        "  df[col] = df[col].astype(float)\n",
        "  print('Пропуски после обработки:')\n",
        "  print(df[col].isna().value_counts())\n",
        "\n",
        "  return df\n"
      ],
      "metadata": {
        "id": "2EBTbvLMBdH9"
      },
      "execution_count": 14,
      "outputs": []
    },
    {
      "cell_type": "markdown",
      "source": [
        "### Target"
      ],
      "metadata": {
        "id": "80t7txQH74nh"
      }
    },
    {
      "cell_type": "code",
      "source": [
        "df = col_target(df,'target')"
      ],
      "metadata": {
        "colab": {
          "base_uri": "https://localhost:8080/"
        },
        "id": "4_4SKRi9CwTF",
        "outputId": "a9765441-0f46-4ef5-f4ed-0f17e7df30d8"
      },
      "execution_count": 15,
      "outputs": [
        {
          "output_type": "stream",
          "name": "stdout",
          "text": [
            "Пропуски:\n",
            "False    374704\n",
            "True       2481\n",
            "Name: target, dtype: int64\n",
            "Пропуски после обработки:\n",
            "False    374704\n",
            "Name: target, dtype: int64\n"
          ]
        }
      ]
    },
    {
      "cell_type": "markdown",
      "metadata": {
        "id": "hlOootLP5sjZ"
      },
      "source": [
        "# Столбец 'status'"
      ]
    },
    {
      "cell_type": "markdown",
      "source": [
        "### Функция"
      ],
      "metadata": {
        "id": "bWIfE6W970To"
      }
    },
    {
      "cell_type": "code",
      "source": [
        "def col_status(df, col):\n",
        "  \n",
        "  # Приводим к нижнему регистру\n",
        "  df['status'] = df['status'].str.lower()\n",
        "\n",
        "  # Создадим список из столбца status\n",
        "  status_list = df['status'].unique().tolist()\n",
        "\n",
        "  # Заполним пропуски строками nan\n",
        "  df['status'].fillna('nan', inplace = True)\n",
        "  df['status'] = df['status'].apply(form_status)\n",
        "\n",
        "  # Выделим строки с ключевыми словами\n",
        "  nan = df['status'].str.extract(r'(nan)')\n",
        "  active = df['status'].str.extract('(active)')\n",
        "  for_sale = df['status'].str.extract('(for sale)')\n",
        "  for_rent = df['status'].str.extract('(for rent)')\n",
        "  new = df['status'].str.extract('(new)')\n",
        "\n",
        "  # Выделим соеденим результат в один столбец.\n",
        "  status = nan.where(active.isnull(), active)\n",
        "  status = status.where(for_sale.isnull(), for_sale)\n",
        "  status = status.where(for_rent.isnull(), for_rent)\n",
        "  status = status.where(new.isnull(), new)\n",
        "  df['status'] = status\n",
        "\n",
        "  print('Количество результирующих категорий')\n",
        "  df['status'].value_counts()\n",
        "\n",
        "  # Взглянем на пропуски.\n",
        "  df['status'].isna().value_counts()\n",
        "\n",
        "  print('Пропуски')\n",
        "  # Выделим строки с пропусками опять заполняем значением 'nan'\n",
        "  df['status'].fillna('nan', inplace = True)\n",
        "\n",
        "  return df"
      ],
      "metadata": {
        "id": "PG-zaim9E9lD"
      },
      "execution_count": 16,
      "outputs": []
    },
    {
      "cell_type": "markdown",
      "source": [
        "### status"
      ],
      "metadata": {
        "id": "kmoIbf-a8CJJ"
      }
    },
    {
      "cell_type": "code",
      "source": [
        "df = col_status(df, 'status')"
      ],
      "metadata": {
        "colab": {
          "base_uri": "https://localhost:8080/"
        },
        "id": "73OdoRmEIOjU",
        "outputId": "763bf3cc-3237-438d-d849-0d06d47ac531"
      },
      "execution_count": 17,
      "outputs": [
        {
          "output_type": "stream",
          "name": "stdout",
          "text": [
            "Количество результирующих категорий\n",
            "Пропуски\n"
          ]
        }
      ]
    },
    {
      "cell_type": "markdown",
      "metadata": {
        "id": "QtvKM2GedvoE"
      },
      "source": [
        "# Столбцы MlsId и mls-id"
      ]
    },
    {
      "cell_type": "markdown",
      "source": [
        "### Функция"
      ],
      "metadata": {
        "id": "h7Qn5zGx7zNV"
      }
    },
    {
      "cell_type": "code",
      "execution_count": 18,
      "metadata": {
        "id": "mmBxlG6Rdt-j"
      },
      "outputs": [],
      "source": [
        "def col_MlsId(df, col_1, col_2):\n",
        "\n",
        "  # Столбцы MlsId и mls-id это айдишники обьявлений удаляем.\n",
        "  df.drop([col_1, col_2], axis = 1, inplace = True)\n",
        "\n",
        "  return df"
      ]
    },
    {
      "cell_type": "markdown",
      "source": [
        "### MlsId"
      ],
      "metadata": {
        "id": "Qs8Jb4cc8Gq4"
      }
    },
    {
      "cell_type": "code",
      "source": [
        "df = col_MlsId(df, 'mls-id', 'MlsId')"
      ],
      "metadata": {
        "id": "-6wR2_wOJcL0"
      },
      "execution_count": 19,
      "outputs": []
    },
    {
      "cell_type": "markdown",
      "metadata": {
        "id": "IprFF8cH55lJ"
      },
      "source": [
        "# Столбец PrivatePool"
      ]
    },
    {
      "cell_type": "markdown",
      "source": [
        "### Функция"
      ],
      "metadata": {
        "id": "zwXcqtuh7xeQ"
      }
    },
    {
      "cell_type": "code",
      "source": [
        "def col_PrivatePool(df, col_1, col_2):\n",
        "\n",
        "  # Посмотрим на признак 'private pool' \n",
        "  print('Количество классов')\n",
        "  print(df[col_2].value_counts())\n",
        "  print('Количество классов')\n",
        "  print(df[col_1].value_counts())\n",
        "\n",
        "  # Соеденим эти два признака. \n",
        "  df[col_1] = pd.concat([df[col_2].dropna(), df[col_1].dropna()]).reindex_like(df)\n",
        "\n",
        "  # Приведем к нижнему регистру. \n",
        "  df[col_1] = df[col_1].str.lower()\n",
        "\n",
        "  # Основная часть данных это пропуски зделаем из этого столбца бинарный признак\n",
        "  df[col_1] = df[col_1].apply(lambda x: 1 if x == 'yes' else 0)\n",
        "\n",
        "  # Удаляем лишний столбец\n",
        "  df.drop([col_2], inplace = True, axis = 1)\n",
        "\n",
        "  return df"
      ],
      "metadata": {
        "id": "Kbt66p9lKADB"
      },
      "execution_count": 20,
      "outputs": []
    },
    {
      "cell_type": "markdown",
      "source": [
        "### PrivatePool"
      ],
      "metadata": {
        "id": "bzXIalm18NKw"
      }
    },
    {
      "cell_type": "code",
      "source": [
        "df = col_PrivatePool(df, 'PrivatePool', 'private pool')"
      ],
      "metadata": {
        "colab": {
          "base_uri": "https://localhost:8080/"
        },
        "id": "idVM-vZMKwuM",
        "outputId": "9b1e525e-edce-40d6-be37-73154a9aa3a3"
      },
      "execution_count": 21,
      "outputs": [
        {
          "output_type": "stream",
          "name": "stdout",
          "text": [
            "Количество классов\n",
            "Yes    4151\n",
            "Name: private pool, dtype: int64\n",
            "Количество классов\n",
            "yes    28687\n",
            "Yes    11434\n",
            "Name: PrivatePool, dtype: int64\n"
          ]
        }
      ]
    },
    {
      "cell_type": "markdown",
      "metadata": {
        "id": "8IF5VYga8UXX"
      },
      "source": [
        "# Столбец propertyType - dummy"
      ]
    },
    {
      "cell_type": "markdown",
      "source": [
        "### Функция"
      ],
      "metadata": {
        "id": "Kh_Tq2DQ7wRY"
      }
    },
    {
      "cell_type": "code",
      "source": [
        "def propertyType(df, col):\n",
        "  # Приведем все строки к нижнему регистру\n",
        "  df[col] = df[col].str.lower()\n",
        "\n",
        "  # Большая часть данных это просто по разному расписаные несколько категорий\n",
        "  df[col] = df[col].apply(lambda x: 'single_family' if x == ('single-family home') or  (x == 'single family') or  (x == 'single family home') else x )\n",
        "  df[col] = df[col].apply(lambda x: 'condo' if x == 'Condo'  else x)\n",
        "  df[col] = df[col].apply(lambda x: 'land' if (x == 'Land') or (x == 'lot/land')  else x)\n",
        "  df[col] = df[col].apply(lambda x: 'multi-family' if x == 'multi-family home'  else x)\n",
        "  df[col] = df[col].apply(lambda x: '1 story' if x == 'one story'  else x)\n",
        "  df[col] = df[col].apply(lambda x: '2 stories' if (x == '2 story') or (x == 'two story')  else x)\n",
        "  df[col] = df[col].apply(lambda x: 'coop' if x == 'co-op'  else x)\n",
        "\n",
        "  # Заполним пропуски пробелом\n",
        "  # Разделим строки на списки\n",
        "  df[col] = df[col].fillna(' ')\n",
        "  df[col] = df[col].apply(lambda x: x.replace('/',',') )\n",
        "  df[col] = df[col].apply(lambda x: x.split(','))\n",
        "\n",
        "  # Удаляем лишние пробелы\n",
        "  df[col] = df[col].apply(form_propertyType_1)\n",
        "\n",
        "  # Функция для форматирования строк в списках столбца propertyType_2\n",
        "  df[col] = df[col].apply(form_propertyType_2)\n",
        "\n",
        "  # Функция для форматирования строк в списках столбца form_propertyType_s\n",
        "  df[col] = df[col].apply(form_propertyType_s)\n",
        "\n",
        "  # Выделяем ключевые слова\n",
        "  style_house = df[col].str.extract(r'(style house)')\n",
        "  multi_family = df[col].str.extract('(multi-family)')\n",
        "  apartment = df[col].str.extract('(apartment)')\n",
        "  condo = df[col].str.extract('(condo)')\n",
        "  houses = df[col].str.extract('(houses)')\n",
        "\n",
        "  # Соеденяем результат в столбец\n",
        "  propertyType = style_house.where(multi_family.isnull(), multi_family)\n",
        "  propertyType = propertyType.where(apartment.isnull(), apartment)\n",
        "  propertyType = propertyType.where(condo.isnull(), condo)\n",
        "  propertyType = propertyType.where(houses.isnull(), houses)\n",
        "  \n",
        "  # Создадим новый столбец\n",
        "  df['propertyType_1'] = propertyType\n",
        "\n",
        "  # Пусть пустым значением будет только пустая строка\n",
        "  df[col] = df[col].apply(lambda x: \"['']\" if x == \"[' ']\" else x)\n",
        "\n",
        "  # Дальше коректируем значения в столбце\n",
        "  df['propertyType_dum'] = df[col].apply(lambda x: x.replace('/',',') )\n",
        "  df['propertyType_dum'] = df['propertyType_dum'].apply(lambda x: x.strip('[]'))\n",
        "  df['propertyType_dum'] = df['propertyType_dum'].apply(lambda x: re.sub('housess','houses', x))\n",
        "  df['propertyType_dum'] = df['propertyType_dum'].apply(lambda x: re.sub('multi-family family','multi-family', x))\n",
        "  df['propertyType_dum'] = df['propertyType_dum'].apply(lambda x: re.sub('mfd','manufactured', x))\n",
        "  df['propertyType_dum'] = df['propertyType_dum'].apply(lambda x: re.sub('apstyle housement','style house', x))\n",
        "  df['propertyType_dum'] = df['propertyType_dum'].apply(lambda x: re.sub('condoerative','condo', x))\n",
        "  df['propertyType_dum'] = df['propertyType_dum'].apply(lambda x: re.sub('style housees','style house', x))\n",
        "  df['propertyType_dum'] = df['propertyType_dum'].apply(lambda x: re.sub('multi-familyple occupancy','multi-family', x))\n",
        "  df['propertyType_dum'] = df['propertyType_dum'].apply(lambda x: re.sub('other \\(see remarks\\)','other', x))\n",
        "  df['propertyType_dum'] = df['propertyType_dum'].apply(lambda x: re.sub('houses houses','houses', x))\n",
        "  df['propertyType_dum'] = df['propertyType_dum'].apply(lambda x: re.sub('style house cod','style house', x))\n",
        "  df['propertyType_dum'] = df['propertyType_dum'].apply(lambda x: re.sub('other \\(see remarks\\)','other', x))\n",
        "  df['propertyType_dum'] = df['propertyType_dum'].apply(lambda x: re.sub('urban houses','townhouses', x))\n",
        "  df['propertyType_dum'] = df['propertyType_dum'].apply(lambda x: re.sub('housesfamilyresidence','townhouses', x))\n",
        "  df['propertyType_dum'] = df['propertyType_dum'].apply(lambda x: re.sub('multi-family-houses','multi-family', x))\n",
        "  df['propertyType_dum'] = df['propertyType_dum'].apply(lambda x: re.sub('cluster houses','townhouses', x))\n",
        "  df['propertyType_dum'] = df['propertyType_dum'].apply(lambda x: re.sub('houses \\(<1 acre\\)','houses', x))\n",
        "  df['propertyType_dum'] = df['propertyType_dum'].apply(lambda x: re.sub('low-condo \\(1-3 houses\\)','condo', x))\n",
        "  df['propertyType_dum'] = df['propertyType_dum'].apply(lambda x: re.sub('condominium \\(houses\\)','condo', x))\n",
        "  df['propertyType_dum'] = df['propertyType_dum'].apply(lambda x: re.sub('tri-houses','3 houses', x))\n",
        "  df['propertyType_dum'] = df['propertyType_dum'].apply(lambda x: re.sub('high-condo \\(8+ houses\\)','condo', x))\n",
        "  df['propertyType_dum'] = df['propertyType_dum'].apply(lambda x: re.sub('multi-familytownhouse','multi-family', x))\n",
        "  df['propertyType_dum'] = df['propertyType_dum'].apply(lambda x: re.sub('farmhouses','farms', x))\n",
        "  df['propertyType_dum'] = df['propertyType_dum'].apply(lambda x: re.sub('farmhouses','farms', x))\n",
        "  df['propertyType_dum'] = df['propertyType_dum'].apply(lambda x: re.sub(\",  'hihousesic'\",'', x))\n",
        "  df['propertyType_dum'] = df['propertyType_dum'].apply(lambda x: re.sub('bi-houses','2 houses', x))\n",
        "  df['propertyType_dum'] = df['propertyType_dum'].apply(lambda x: re.sub('mid-condo','condo', x))\n",
        "  df['propertyType_dum'] = df['propertyType_dum'].apply(lambda x: re.sub('houses or 1','houses', x))\n",
        "  df['propertyType_dum'] = df['propertyType_dum'].apply(lambda x: re.sub('a-style house','style house', x))\n",
        "  df['propertyType_dum'] = df['propertyType_dum'].apply(lambda x: re.sub('style house provincial','style house', x))\n",
        "  df['propertyType_dum'] = df['propertyType_dum'].apply(lambda x: re.sub(\"'style house',  'style house'\",'style house', x))\n",
        "  df['propertyType_dum'] = df['propertyType_dum'].apply(lambda x: re.sub('fourtownhouse','4 houses', x))\n",
        "  df['propertyType_dum'] = df['propertyType_dum'].apply(lambda x: re.sub('mid-century style house','style house', x))\n",
        "  df['propertyType_dum'] = df['propertyType_dum'].apply(lambda x: re.sub('style house thru','style house', x))\n",
        "  df['propertyType_dum'] = df['propertyType_dum'].apply(lambda x: re.sub('style houses','style house', x))\n",
        "  df['propertyType_dum'] = df['propertyType_dum'].apply(lambda x: re.sub('multi-family houses','multi-family', x))\n",
        "  df['propertyType_dum'] = df['propertyType_dum'].apply(lambda x: re.sub('condominium','condo', x))\n",
        "  df['propertyType_dum'] = df['propertyType_dum'].apply(lambda x: re.sub('style house thru','style house', x))\n",
        "  df['propertyType_dum'] = df['propertyType_dum'].apply(lambda x: re.sub('style houseer','style house', x))\n",
        "  df['propertyType_dum'] = df['propertyType_dum'].apply(lambda x: re.sub('beaux style houses','style house', x))\n",
        "  df['propertyType_dum'] = df['propertyType_dum'].apply(lambda x: re.sub('beaux style house','style house', x))\n",
        "  df['propertyType_dum'] = df['propertyType_dum'].apply(lambda x: re.sub('hihousesical','houses', x))\n",
        "  df['propertyType_dum'] = df['propertyType_dum'].apply(lambda x: re.sub('houses \\(1+ acre\\)','houses', x))\n",
        "  df['propertyType_dum'] = df['propertyType_dum'].apply(lambda x: re.sub('style houseist','style house', x))\n",
        "  df['propertyType_dum'] = df['propertyType_dum'].apply(lambda x: re.sub('hi-condo','condo', x))\n",
        "  df['propertyType_dum'] = df['propertyType_dum'].apply(lambda x: re.sub('style house deco','style house', x))\n",
        "  df['propertyType_dum'] = df['propertyType_dum'].apply(lambda x: re.sub('farm houses','farms', x))\n",
        "  df['propertyType_dum'] = df['propertyType_dum'].apply(lambda x: re.sub('condo \\(4-7 houses\\)','condo', x))\n",
        "  df['propertyType_dum'] = df['propertyType_dum'].apply(lambda x: re.sub('multi-family-entry','multi-family', x))\n",
        "  df['propertyType_dum'] = df['propertyType_dum'].apply(lambda x: re.sub('2 dutownhouse','townhouses', x))\n",
        "  df['propertyType_dum'] = df['propertyType_dum'].apply(lambda x: re.sub('designated hihousesical houses','houses', x))\n",
        "  df['propertyType_dum'] = df['propertyType_dum'].apply(lambda x: re.sub('bihouses','houses', x))\n",
        "  df['propertyType_dum'] = df['propertyType_dum'].apply(lambda x: re.sub('condominium \\(3+ housess\\)','condo', x))\n",
        "  df['propertyType_dum'] = df['propertyType_dum'].apply(lambda x: re.sub('dutownhouse','townhouses', x))\n",
        "  df['propertyType_dum'] = df['propertyType_dum'].apply(lambda x: re.sub('high-condo \\(8+ houses\\)','condo', x))\n",
        "  df['propertyType_dum'] = df['propertyType_dum'].apply(lambda x: re.sub('hihousesic','houses', x))\n",
        "  df['propertyType_dum'] = df['propertyType_dum'].apply(lambda x: re.sub('raised style house','style house', x))\n",
        "  df['propertyType_dum'] = df['propertyType_dum'].apply(lambda x: re.sub('end condo','condo', x))\n",
        "  df['propertyType_dum'] = df['propertyType_dum'].apply(lambda x: re.sub('3\\+ houses','3 houses', x))\n",
        "  df['propertyType_dum'] = df['propertyType_dum'].apply(lambda x: re.sub('manufactured houses','manufactured', x))\n",
        "  df['propertyType_dum'] = df['propertyType_dum'].apply(lambda x: re.sub('houses \\(1+ acre\\)','houses', x))\n",
        "  df['propertyType_dum'] = df['propertyType_dum'].apply(lambda x: re.sub('flat','style house', x))\n",
        "  df['propertyType_dum'] = df['propertyType_dum'].apply(lambda x: re.sub('townhouses style','townhouses', x))\n",
        "  df['propertyType_dum'] = df['propertyType_dum'].apply(lambda x: re.sub('condo \\(2 housess\\)','condo', x))\n",
        "  df['propertyType_dum'] = df['propertyType_dum'].apply(lambda x: re.sub('patio','style house', x))\n",
        "  df['propertyType_dum'] = df['propertyType_dum'].apply(lambda x: re.sub('yes','', x))\n",
        "  df['propertyType_dum'] = df['propertyType_dum'].apply(lambda x: re.sub('high-condo','condo', x))\n",
        "  df['propertyType_dum'] = df['propertyType_dum'].apply(lambda x: re.sub('townhouses style','townhouses', x))\n",
        "  df['propertyType_dum'] = df['propertyType_dum'].apply(lambda x: re.sub('multi-family generational','multi-family', x))\n",
        "  df['propertyType_dum'] = df['propertyType_dum'].apply(lambda x: re.sub('patio houses','style house', x))\n",
        "  df['propertyType_dum'] = df['propertyType_dum'].apply(lambda x: re.sub('texas hill country','style house', x))\n",
        "  df['propertyType_dum'] = df['propertyType_dum'].apply(lambda x: re.sub('courtyard','', x))\n",
        "  df['propertyType_dum'] = df['propertyType_dum'].apply(lambda x: re.sub('houses wide','', x))\n",
        "  df['propertyType_dum'] = df['propertyType_dum'].apply(lambda x: re.sub('4-townhouse','townhouses', x))\n",
        "  df['propertyType_dum'] = df['propertyType_dum'].apply(lambda x: re.sub('balcony','', x))\n",
        "  df['propertyType_dum'] = df['propertyType_dum'].apply(lambda x: re.sub('national folk','', x))\n",
        "  df['propertyType_dum'] = df['propertyType_dum'].apply(lambda x: re.sub('early american','', x))\n",
        "  df['propertyType_dum'] = df['propertyType_dum'].apply(lambda x: re.sub('townhouses-interior','townhouses', x))\n",
        "  df['propertyType_dum'] = df['propertyType_dum'].apply(lambda x: re.sub('warehouses','', x))\n",
        "  df['propertyType_dum'] = df['propertyType_dum'].apply(lambda x: re.sub('villa','', x))\n",
        "  df['propertyType_dum'] = df['propertyType_dum'].apply(lambda x: re.sub('style house province','style house', x))\n",
        "  df['propertyType_dum'] = df['propertyType_dum'].apply(lambda x: re.sub('chalet','', x))\n",
        "  df['propertyType_dum'] = df['propertyType_dum'].apply(lambda x: re.sub('architectural','', x))\n",
        "  df['propertyType_dum'] = df['propertyType_dum'].apply(lambda x: re.sub('designated houses houses','style house', x))\n",
        "  df['propertyType_dum'] = df['propertyType_dum'].apply(lambda x: re.sub('conservation district','', x))\n",
        "  df['propertyType_dum'] = df['propertyType_dum'].apply(lambda x: re.sub('saltbox','', x))\n",
        "  df['propertyType_dum'] = df['propertyType_dum'].apply(lambda x: re.sub('chalet','', x))\n",
        "  df['propertyType_dum'] = df['propertyType_dum'].apply(lambda x: re.sub('separate living area','', x))\n",
        "  df['propertyType_dum'] = df['propertyType_dum'].apply(lambda x: re.sub('30x40 building','', x))\n",
        "  df['propertyType_dum'] = df['propertyType_dum'].apply(lambda x: re.sub('condo with bedrooms','condo', x))\n",
        "  df['propertyType_dum'] = df['propertyType_dum'].apply(lambda x: re.sub('low condo','condo', x))\n",
        "  df['propertyType_dum'] = df['propertyType_dum'].apply(lambda x: re.sub('lake houses','houses', x))\n",
        "  df['propertyType_dum'] = df['propertyType_dum'].apply(lambda x: re.sub('camp','', x))\n",
        "  df['propertyType_dum'] = df['propertyType_dum'].apply(lambda x: re.sub('old world','older', x))\n",
        "  df['propertyType_dum'] = df['propertyType_dum'].apply(lambda x: re.sub('american 4-square','', x))\n",
        "  df['propertyType_dum'] = df['propertyType_dum'].apply(lambda x: re.sub('dwelling w','', x))\n",
        "  df['propertyType_dum'] = df['propertyType_dum'].apply(lambda x: re.sub('2-houses','2 houses', x))\n",
        "  df['propertyType_dum'] = df['propertyType_dum'].apply(lambda x: re.sub('denver square','', x))\n",
        "  df['propertyType_dum'] = df['propertyType_dum'].apply(lambda x: re.sub('southwestern','', x))\n",
        "  df['propertyType_dum'] = df['propertyType_dum'].apply(lambda x: re.sub('prairie','', x))\n",
        "  df['propertyType_dum'] = df['propertyType_dum'].apply(lambda x: re.sub('5-9 condos','condo', x))\n",
        "  df['propertyType_dum'] = df['propertyType_dum'].apply(lambda x: re.sub('multi-family \\(4 houses\\)','condo', x))\n",
        "  df['propertyType_dum'] = df['propertyType_dum'].apply(lambda x: re.sub('style house & crafts','style house', x))\n",
        "  df['propertyType_dum'] = df['propertyType_dum'].apply(lambda x: re.sub('10\\+ condos','condo', x))\n",
        "  df['propertyType_dum'] = df['propertyType_dum'].apply(lambda x: re.sub('4\\+ floors','', x))\n",
        "  df['propertyType_dum'] = df['propertyType_dum'].apply(lambda x: re.sub('converted dwelling','', x))\n",
        "  df['propertyType_dum'] = df['propertyType_dum'].apply(lambda x: re.sub('side by side','', x))\n",
        "  df['propertyType_dum'] = df['propertyType_dum'].apply(lambda x: re.sub('row','row houses', x))\n",
        "  df['propertyType_dum'] = df['propertyType_dum'].apply(lambda x: re.sub('northwestern houses','', x))\n",
        "  df['propertyType_dum'] = df['propertyType_dum'].apply(lambda x: re.sub('1 houses traditional','traditional', x))\n",
        "  df['propertyType_dum'] = df['propertyType_dum'].apply(lambda x: re.sub('condo \\(3+ housess\\)','condo', x))\n",
        "  df['propertyType_dum'] = df['propertyType_dum'].apply(lambda x: re.sub('condo \\(2 housess\\)','condo', x))\n",
        "  df['propertyType_dum'] = df['propertyType_dum'].apply(lambda x: re.sub('other arch \\(see remarks\\)','other', x))\n",
        "  df['propertyType_dum'] = df['propertyType_dum'].apply(lambda x: re.sub('condo \\(8+ houses\\)','condo', x))\n",
        "  df['propertyType_dum'] = df['propertyType_dum'].apply(lambda x: re.sub('manuf','manufactured', x))\n",
        "  df['propertyType_dum'] = df['propertyType_dum'].apply(lambda x: re.sub('mobile houses 1 houses','mobile', x))\n",
        "  df['propertyType_dum'] = df['propertyType_dum'].apply(lambda x: re.sub('dutch','style house', x))\n",
        "  df['propertyType_dum'] = df['propertyType_dum'].apply(lambda x: re.sub('2\\.5 houses','2 houses', x))\n",
        "  df['propertyType_dum'] = df['propertyType_dum'].apply(lambda x: re.sub('houses vintage','style house', x))\n",
        "  df['propertyType_dum'] = df['propertyType_dum'].apply(lambda x: re.sub('manufactured - double wide','manufactured', x))\n",
        "  df['propertyType_dum'] = df['propertyType_dum'].apply(lambda x: re.sub('walkout lower houses','', x))\n",
        "  df['propertyType_dum'] = df['propertyType_dum'].apply(lambda x: re.sub('williamsburg','', x))\n",
        "  df['propertyType_dum'] = df['propertyType_dum'].apply(lambda x: re.sub('dutch style house','style house', x))\n",
        "  df['propertyType_dum'] = df['propertyType_dum'].apply(lambda x: re.sub('rustic','style house', x))\n",
        "  df['propertyType_dum'] = df['propertyType_dum'].apply(lambda x: re.sub(' mh','manufactured', x))\n",
        "  df['propertyType_dum'] = df['propertyType_dum'].apply(lambda x: re.sub('mid condo','condo', x))\n",
        "  df['propertyType_dum'] = df['propertyType_dum'].apply(lambda x: re.sub('forest garden houses','garden houses', x))\n",
        "  df['propertyType_dum'] = df['propertyType_dum'].apply(lambda x: re.sub('old style house','older', x))\n",
        "  df['propertyType_dum'] = df['propertyType_dum'].apply(lambda x: re.sub('old style','older', x))\n",
        "  df['propertyType_dum'] = df['propertyType_dum'].apply(lambda x: re.sub('log houses','style house', x))\n",
        "  df['propertyType_dum'] = df['propertyType_dum'].apply(lambda x: re.sub('hill country','', x))\n",
        "  df['propertyType_dum'] = df['propertyType_dum'].apply(lambda x: re.sub('cabin','', x))\n",
        "  df['propertyType_dum'] = df['propertyType_dum'].apply(lambda x: re.sub('mobile manu - double wide','', x))\n",
        "  df['propertyType_dum'] = df['propertyType_dum'].apply(lambda x: re.sub('houses vintage','style house', x))\n",
        "  df['propertyType_dum'] = df['propertyType_dum'].apply(lambda x: re.sub('4\\+ floors','', x))\n",
        "  df['propertyType_dum'] = df['propertyType_dum'].apply(lambda x: re.sub('vacation houses','', x))\n",
        "  df['propertyType_dum'] = df['propertyType_dum'].apply(lambda x: re.sub('houses townhouses','townhouses', x))\n",
        "  df['propertyType_dum'] = df['propertyType_dum'].apply(lambda x: re.sub('2 houses condo','condo', x))\n",
        "  df['propertyType_dum'] = df['propertyType_dum'].apply(lambda x: re.sub('other style','other', x))\n",
        "  df['propertyType_dum'] = df['propertyType_dum'].apply(lambda x: re.sub('manufactured \\- ','manufactured', x))\n",
        "  df['propertyType_dum'] = df['propertyType_dum'].apply(lambda x: re.sub('ith rental','', x))\n",
        "  df['propertyType_dum'] = df['propertyType_dum'].apply(lambda x: re.sub('double-wide mobile with land','mobile', x))\n",
        "  df['propertyType_dum'] = df['propertyType_dum'].apply(lambda x: re.sub('lodge','', x))\n",
        "  df['propertyType_dum'] = df['propertyType_dum'].apply(lambda x: re.sub('guest houses','', x))\n",
        "  df['propertyType_dum'] = df['propertyType_dum'].apply(lambda x: re.sub('bermuda','', x))\n",
        "  df['propertyType_dum'] = df['propertyType_dum'].apply(lambda x: re.sub('post and beam','', x))\n",
        "  df['propertyType_dum'] = df['propertyType_dum'].apply(lambda x: re.sub('southern plantation','', x))\n",
        "  df['propertyType_dum'] = df['propertyType_dum'].apply(lambda x: re.sub('garden houses','garden', x))\n",
        "  df['propertyType_dum'] = df['propertyType_dum'].apply(lambda x: re.sub('houses \\(1\\+ acre\\)','houses', x))\n",
        "  df['propertyType_dum'] = df['propertyType_dum'].apply(lambda x: re.sub('reproduction','', x))\n",
        "  df['propertyType_dum'] = df['propertyType_dum'].apply(lambda x: re.sub('fairway houses','', x))\n",
        "  df['propertyType_dum'] = df['propertyType_dum'].apply(lambda x: re.sub('rehab needed','', x))\n",
        "  df['propertyType_dum'] = df['propertyType_dum'].apply(lambda x: re.sub('conversion','', x))\n",
        "  df['propertyType_dum'] = df['propertyType_dum'].apply(lambda x: re.sub('queen anne','', x))\n",
        "  df['propertyType_dum'] = df['propertyType_dum'].apply(lambda x: re.sub('townhouses-condo','townhouses', x))\n",
        "  df['propertyType_dum'] = df['propertyType_dum'].apply(lambda x: re.sub('mid century style house','style house', x))\n",
        "  df['propertyType_dum'] = df['propertyType_dum'].apply(lambda x: re.sub('style house provincial','style house', x))\n",
        "  df['propertyType_dum'] = df['propertyType_dum'].apply(lambda x: re.sub('dome','', x))\n",
        "  df['propertyType_dum'] = df['propertyType_dum'].apply(lambda x: re.sub('lower houses','', x))\n",
        "  df['propertyType_dum'] = df['propertyType_dum'].apply(lambda x: re.sub('walk-out style house','style house', x))\n",
        "  df['propertyType_dum'] = df['propertyType_dum'].apply(lambda x: re.sub('underground','', x))\n",
        "  df['propertyType_dum'] = df['propertyType_dum'].apply(lambda x: re.sub('modular','', x))\n",
        "  df['propertyType_dum'] = df['propertyType_dum'].apply(lambda x: re.sub('oriental','', x))\n",
        "  df['propertyType_dum'] = df['propertyType_dum'].apply(lambda x: re.sub('mobile houses','mobile', x))\n",
        "  df['propertyType_dum'] = df['propertyType_dum'].apply(lambda x: re.sub('multi-family foyer','multi-family', x))\n",
        "  df['propertyType_dum'] = df['propertyType_dum'].apply(lambda x: re.sub('style house farms','farms', x))\n",
        "  df['propertyType_dum'] = df['propertyType_dum'].apply(lambda x: re.sub('housese & dwelling','', x))\n",
        "  df['propertyType_dum'] = df['propertyType_dum'].apply(lambda x: re.sub('santa fe','', x))\n",
        "  df['propertyType_dum'] = df['propertyType_dum'].apply(lambda x: re.sub('territorial','', x))\n",
        "  df['propertyType_dum'] = df['propertyType_dum'].apply(lambda x: re.sub('multi-family \\(3 houses\\)','multi-family', x))\n",
        "  df['propertyType_dum'] = df['propertyType_dum'].apply(lambda x: re.sub('high style house','style house', x))\n",
        "  df['propertyType_dum'] = df['propertyType_dum'].apply(lambda x: re.sub('trinity','', x))\n",
        "  df['propertyType_dum'] = df['propertyType_dum'].apply(lambda x: re.sub('yurt','', x))\n",
        "  df['propertyType_dum'] = df['propertyType_dum'].apply(lambda x: re.sub('quads','', x))\n",
        "  df['propertyType_dum'] = df['propertyType_dum'].apply(lambda x: re.sub('airlite','', x))\n",
        "  df['propertyType_dum'] = df['propertyType_dum'].apply(lambda x: re.sub('coastal style house','coastal', x))\n",
        "  df['propertyType_dum'] = df['propertyType_dum'].apply(lambda x: re.sub('style house architecture','style house', x))\n",
        "  df['propertyType_dum'] = df['propertyType_dum'].apply(lambda x: re.sub('new englander','', x))\n",
        "  df['propertyType_dum'] = df['propertyType_dum'].apply(lambda x: re.sub('style house houses','style house', x))\n",
        "  df['propertyType_dum'] = df['propertyType_dum'].apply(lambda x: re.sub('condo \\(8\\+ houses\\)','condo', x))\n",
        "  df['propertyType_dum'] = df['propertyType_dum'].apply(lambda x: re.sub('manufacturedactured','manufactured', x))\n",
        "  df['propertyType_dum'] = df['propertyType_dum'].apply(lambda x: re.sub('hi style house','style house', x))\n",
        "  df['propertyType_dum'] = df['propertyType_dum'].apply(lambda x: re.sub('garden style house','garden', x))\n",
        "  df['propertyType_dum'] = df['propertyType_dum'].apply(lambda x: re.sub('provincial','style house', x))\n",
        "  df['propertyType_dum'] = df['propertyType_dum'].apply(lambda x: re.sub('quad houses','', x))\n",
        "  df['propertyType_dum'] = df['propertyType_dum'].apply(lambda x: re.sub('resort property','', x))\n",
        "  df['propertyType_dum'] = df['propertyType_dum'].apply(lambda x: re.sub('carriage houses','style house', x))\n",
        "  df['propertyType_dum'] = df['propertyType_dum'].apply(lambda x: re.sub('industrial','', x))\n",
        "  df['propertyType_dum'] = df['propertyType_dum'].apply(lambda x: re.sub('carriage','style house', x))\n",
        "  df['propertyType_dum'] = df['propertyType_dum'].apply(lambda x: re.sub('stilt houses','', x))\n",
        "  df['propertyType_dum'] = df['propertyType_dum'].apply(lambda x: re.sub('row houses houses','row houses', x))\n",
        "  df['propertyType_dum'] = df['propertyType_dum'].apply(lambda x: re.sub('coastal beach houses','coastal', x))\n",
        "  df['propertyType_dum'] = df['propertyType_dum'].apply(lambda x: re.sub('coastal houses','coastal', x))\n",
        "  df['propertyType_dum'] = df['propertyType_dum'].apply(lambda x: re.sub('conventional','style house', x))\n",
        "  df['propertyType_dum'] = df['propertyType_dum'].apply(lambda x: re.sub('mid century','older', x))\n",
        "  df['propertyType_dum'] = df['propertyType_dum'].apply(lambda x: re.sub('style house style house','style house', x))\n",
        "  df['propertyType_dum'] = df['propertyType_dum'].apply(lambda x: re.sub('tritownhouse','townhouses', x))\n",
        "  df['propertyType_dum'] = df['propertyType_dum'].apply(lambda x: re.sub('gambrel','', x))\n",
        "  df['propertyType_dum'] = df['propertyType_dum'].apply(lambda x: re.sub('step style house','style house', x))\n",
        "  df['propertyType_dum'] = df['propertyType_dum'].apply(lambda x: re.sub('one houses condo','condo', x))\n",
        "  df['propertyType_dum'] = df['propertyType_dum'].apply(lambda x: re.sub('studio','', x))\n",
        "  df['propertyType_dum'] = df['propertyType_dum'].apply(lambda x: re.sub('multi-family \\(5\\+ houses\\)','multi-family', x))\n",
        "  df['propertyType_dum'] = df['propertyType_dum'].apply(lambda x: re.sub('new build 2019','', x))\n",
        "  df['propertyType_dum'] = df['propertyType_dum'].apply(lambda x: re.sub('side-by-side','', x))\n",
        "  df['propertyType_dum'] = df['propertyType_dum'].apply(lambda x: re.sub('coastal ii','coastal', x))\n",
        "  df['propertyType_dum'] = df['propertyType_dum'].apply(lambda x: re.sub('2 condo condo','condo', x))\n",
        "  df['propertyType_dum'] = df['propertyType_dum'].apply(lambda x: re.sub('other - see remarks','other', x))\n",
        "  df['propertyType_dum'] = df['propertyType_dum'].apply(lambda x: re.sub('expanded style house','style house', x))\n",
        "  df['propertyType_dum'] = df['propertyType_dum'].apply(lambda x: re.sub('manufactured - double wide','manufactured', x))\n",
        "  df['propertyType_dum'] = df['propertyType_dum'].apply(lambda x: re.sub('houses-wide mobile with land','mobile', x))\n",
        "  df['propertyType_dum'] = df['propertyType_dum'].apply(lambda x: re.sub('ground floor','', x))\n",
        "  df['propertyType_dum'] = df['propertyType_dum'].apply(lambda x: re.sub('manufactured-wide','manufactured', x))\n",
        "  df['propertyType_dum'] = df['propertyType_dum'].apply(lambda x: re.sub('country style house','style house', x))\n",
        "  df['propertyType_dum'] = df['propertyType_dum'].apply(lambda x: re.sub('back-to-back','', x))\n",
        "  df['propertyType_dum'] = df['propertyType_dum'].apply(lambda x: re.sub('commercial','', x))\n",
        "  df['propertyType_dum'] = df['propertyType_dum'].apply(lambda x: re.sub('coastal two houses','coastal', x))\n",
        "  df['propertyType_dum'] = df['propertyType_dum'].apply(lambda x: re.sub('style house building','style house', x))\n",
        "  df['propertyType_dum'] = df['propertyType_dum'].apply(lambda x: re.sub('style house style','house style', x))\n",
        "  df['propertyType_dum'] = df['propertyType_dum'].apply(lambda x: re.sub('prefab','', x))\n",
        "  df['propertyType_dum'] = df['propertyType_dum'].apply(lambda x: re.sub('manufactured double-wide','manufactured', x))\n",
        "  df['propertyType_dum'] = df['propertyType_dum'].apply(lambda x: re.sub('mid-houses','older', x))\n",
        "  df['propertyType_dum'] = df['propertyType_dum'].apply(lambda x: re.sub('mid-century','older', x))\n",
        "  df['propertyType_dum'] = df['propertyType_dum'].apply(lambda x: re.sub('zero land line','zero-land line', x))\n",
        "  df['propertyType_dum'] = df['propertyType_dum'].apply(lambda x: re.sub('manufactured \\(certificate exchange\\)','manufactured', x))\n",
        "  df['propertyType_dum'] = df['propertyType_dum'].apply(lambda x: re.sub('multi-family-family','multi-family', x))\n",
        "  df['propertyType_dum'] = df['propertyType_dum'].apply(lambda x: re.sub('1 1','', x))\n",
        "\n",
        "  \n",
        "  df['propertyType_dum'] = df['propertyType_dum'].apply(lambda x: x.replace('  ',' ') )\n",
        "  df['propertyType_dum'] = df['propertyType_dum'].apply(lambda x: x.replace(', ',',') )\n",
        "  \n",
        "  # Разделяем строки по запятой \n",
        "  df['propertyType_dum'] = df['propertyType_dum'].apply(lambda x: x.split(','))\n",
        "\n",
        "\n",
        "  # Создаем dummy признаки из получившихся категорий \n",
        "  property_list = list(pd.Series(quant_class(df['propertyType_dum'])).index)\n",
        "  df_property = create_dummies(df, 'propertyType_dum', property_list)\n",
        "  df.drop(['propertyType_dum'], inplace = True,axis = 1)\n",
        "  #df.drop([\"'manufactured - '\"], inplace = True,axis = 1)\n",
        "  #df.drop([\"' '\"], inplace = True,axis = 1)\n",
        "\n",
        "  df.rename(columns={\"''\":'property_nan'}, inplace=True)\n",
        "\n",
        "  return df\n",
        "\n"
      ],
      "metadata": {
        "id": "CVQHlBr-L8Hr"
      },
      "execution_count": 22,
      "outputs": []
    },
    {
      "cell_type": "markdown",
      "source": [
        "### propertyType"
      ],
      "metadata": {
        "id": "xQb_pRqe8aah"
      }
    },
    {
      "cell_type": "code",
      "source": [
        "df = propertyType(df, 'propertyType')"
      ],
      "metadata": {
        "id": "m-hSYrCMQgAi"
      },
      "execution_count": 23,
      "outputs": []
    },
    {
      "cell_type": "code",
      "source": [
        "df.info()"
      ],
      "metadata": {
        "colab": {
          "base_uri": "https://localhost:8080/"
        },
        "id": "KaNOIMDUjOtM",
        "outputId": "d7f467ad-41a6-4ac3-f7c9-951f0a0eb630"
      },
      "execution_count": 24,
      "outputs": [
        {
          "output_type": "stream",
          "name": "stdout",
          "text": [
            "<class 'pandas.core.frame.DataFrame'>\n",
            "Int64Index: 374704 entries, 0 to 377184\n",
            "Data columns (total 60 columns):\n",
            " #   Column                    Non-Null Count   Dtype  \n",
            "---  ------                    --------------   -----  \n",
            " 0   status                    374704 non-null  object \n",
            " 1   propertyType              374704 non-null  object \n",
            " 2   street                    374702 non-null  object \n",
            " 3   baths                     269328 non-null  object \n",
            " 4   homeFacts                 374704 non-null  object \n",
            " 5   fireplace                 102522 non-null  object \n",
            " 6   city                      374670 non-null  object \n",
            " 7   schools                   374704 non-null  object \n",
            " 8   sqft                      334582 non-null  object \n",
            " 9   zipcode                   374704 non-null  object \n",
            " 10  beds                      283748 non-null  object \n",
            " 11  state                     374704 non-null  object \n",
            " 12  stories                   224910 non-null  object \n",
            " 13  PrivatePool               374704 non-null  int64  \n",
            " 14  target                    374704 non-null  float64\n",
            " 15  propertyType_1            298982 non-null  object \n",
            " 16  'houses_family'           374704 non-null  int64  \n",
            " 17  'land'                    374704 non-null  int64  \n",
            " 18  'townhouses'              374704 non-null  int64  \n",
            " 19  'style house'             374704 non-null  int64  \n",
            " 20  property_nan              374704 non-null  int64  \n",
            " 21  'condo'                   374704 non-null  int64  \n",
            " 22  '2 houses'                374704 non-null  int64  \n",
            " 23  'multi-family'            374704 non-null  int64  \n",
            " 24  'row houses'              374704 non-null  int64  \n",
            " 25  'houses'                  374704 non-null  int64  \n",
            " 26  'two houses'              374704 non-null  int64  \n",
            " 27  '1 houses'                374704 non-null  int64  \n",
            " 28  'other'                   374704 non-null  int64  \n",
            " 29  'mobile'                  374704 non-null  int64  \n",
            " 30  'manufactured'            374704 non-null  int64  \n",
            " 31  '3 houses'                374704 non-null  int64  \n",
            " 32  'one houses'              374704 non-null  int64  \n",
            " 33  'traditional'             374704 non-null  int64  \n",
            " 34  'mobile '                 374704 non-null  int64  \n",
            " 35  'garden'                  374704 non-null  int64  \n",
            " 36  'farms'                   374704 non-null  int64  \n",
            " 37  'older'                   374704 non-null  int64  \n",
            " 38  'mountain houses'         374704 non-null  int64  \n",
            " 39  'zero-land line'          374704 non-null  int64  \n",
            " 40  'housesboat'              374704 non-null  int64  \n",
            " 41  'farm'                    374704 non-null  int64  \n",
            " 42  'unknown'                 374704 non-null  int64  \n",
            " 43  'center hall'             374704 non-null  int64  \n",
            " 44  '4 houses'                374704 non-null  int64  \n",
            " 45  'tuscan'                  374704 non-null  int64  \n",
            " 46  '2 houses with basement'  374704 non-null  int64  \n",
            " 47  '1 houses with basement'  374704 non-null  int64  \n",
            " 48  'coastal'                 374704 non-null  int64  \n",
            " 49  'manufactured - '         374704 non-null  int64  \n",
            " 50  'house style'             374704 non-null  int64  \n",
            " 51  'log'                     374704 non-null  int64  \n",
            " 52  'antique'                 374704 non-null  int64  \n",
            " 53  'style house revival'     374704 non-null  int64  \n",
            " 54  'garage housesage'        374704 non-null  int64  \n",
            " 55  'style house shingle'     374704 non-null  int64  \n",
            " 56  'manor'                   374704 non-null  int64  \n",
            " 57  'moorage'                 374704 non-null  int64  \n",
            " 58  'converted barn'          374704 non-null  int64  \n",
            " 59  'post & beam'             374704 non-null  int64  \n",
            "dtypes: float64(1), int64(45), object(14)\n",
            "memory usage: 174.4+ MB\n"
          ]
        }
      ]
    },
    {
      "cell_type": "markdown",
      "metadata": {
        "id": "ujUcd0MBJe8I"
      },
      "source": [
        "# Столбец baths\n"
      ]
    },
    {
      "cell_type": "markdown",
      "source": [
        "### Функция"
      ],
      "metadata": {
        "id": "YK-4TAyo7vCo"
      }
    },
    {
      "cell_type": "code",
      "source": [
        "def col_baths(df, col):\n",
        "  # Заполняем пропуски пустой строкой.\n",
        "  # Применяем функцию для удаления букв.\n",
        "  df[col] = df[col].fillna('')\n",
        "  df[col] = df[col].apply(del_str)\n",
        "\n",
        "  # Удаляем лишние знаки.\n",
        "\n",
        "  df[col] = df[col].replace(r',','.',regex=True)\n",
        "  df[col] = df[col].replace(r' ','',regex=True)\n",
        "  df[col] = df[col].replace(r'/','',regex=True)\n",
        "  df[col] = df[col].replace(r':','',regex=True)\n",
        "  df[col] = df[col].replace(r'—','',regex=True)\n",
        "  df[col] = df[col].replace(r'-','',regex=True)\n",
        "  \n",
        "  # У обьектов где вместо чисел только знаки или пустая строка меняем значение на nan.\n",
        "  df[col] = df[col].replace(r'\\~',np.nan,regex=True)\n",
        "  df[col] = df[col].replace(r'\\..',np.nan,regex=True)\n",
        "  df[col] = df[col].replace(r' ', np.nan,regex=True)\n",
        "  df[col] = df[col].replace(r'', np.nan,regex=True)\n",
        "\n",
        "\n",
        "  # С этим плюсом немного стремно попробовыть другой способ потом\n",
        "  df[col] = df[col].replace(r'\\+',' ',regex=True)\n",
        "\n",
        "  # Приводим строки к числовому виду\n",
        "  df[col] = df[col].astype(float)\n",
        "\n",
        "  return df"
      ],
      "metadata": {
        "id": "6UiqI4MSQl5r"
      },
      "execution_count": 25,
      "outputs": []
    },
    {
      "cell_type": "markdown",
      "source": [
        "### baths"
      ],
      "metadata": {
        "id": "DwyhnvP58geI"
      }
    },
    {
      "cell_type": "code",
      "source": [
        "df = col_baths(df, 'baths')"
      ],
      "metadata": {
        "id": "_JY3EzYvRuRy"
      },
      "execution_count": 26,
      "outputs": []
    },
    {
      "cell_type": "markdown",
      "metadata": {
        "id": "EhYI6BCHFbnG"
      },
      "source": [
        "# Столбец fireplace - dummy\n",
        "\n",
        "\n"
      ]
    },
    {
      "cell_type": "markdown",
      "source": [
        "### Функция"
      ],
      "metadata": {
        "id": "_6EVmixm7tYH"
      }
    },
    {
      "cell_type": "code",
      "source": [
        "def col_fireplace(df, col):\n",
        "    # Для начала приведем все строки к нижнему регистру\n",
        "    df[col] = df[col].str.lower()\n",
        "    \n",
        "    # Попробуем считать, что 'yes', '1 fireplace' и 'fireplace' это 1 камин\n",
        "    df[col] = df[col].apply(lambda x: x if x != 'yes' else '1' )\n",
        "    df[col] = df[col].apply(lambda x: x if x != 'fireplace' else '1' )\n",
        "    df[col] = df[col].apply(lambda x: x if x != '1 fireplace' else '1' )\n",
        "    \n",
        "    # 'no' заменим на 0\n",
        "    df[col] = df[col].apply(lambda x: x if x != 'no' else '0' )\n",
        "    \n",
        "    # Несколько подобных преобразований\n",
        "    df[col] = df[col].apply(lambda x: x if x != '3+' else '3' )\n",
        "    df[col] = df[col].apply(lambda x: x if x != 'gas log' else 'gas logs' )\n",
        "    df[col] = df[col].apply(lambda x: x if x != 'gas fireplace' else 'gas' )\n",
        "    df[col] = df[col].apply(lambda x: x if x != 'one' else '1' ) # есть комбинированые признаки!\n",
        "    df[col] = df[col].apply(lambda x: x if x != 'familyrm' else 'family room' ) # есть комбинированые признаки!\n",
        "    df[col] = df[col].apply(lambda x: x if x != 'in living room' else 'living room' ) # есть комбинированые признаки!\n",
        "    df[col] = df[col].apply(lambda x: x if x != '# fireplaces - woodburning' else '1, wood burning' )\n",
        "    df[col] = df[col].apply(lambda x: x if x != '# fireplaces - gas' else '1, gas' )\n",
        "    df[col] = df[col].apply(lambda x: x if x != 'fireplaces' else '1' )\n",
        "    df[col] = df[col].apply(lambda x: x if x != '# fireplaces - woodstoves' else 'woodstoves' )\n",
        "    df[col] = df[col].apply(lambda x: x if x != 'gas fuel' else 'gas' )\n",
        "    \n",
        "    # Несколько подобных преобразований\n",
        "    df[col] = df[col].apply(lambda x: x if x != '3+' else '3' )\n",
        "    df[col] = df[col].apply(lambda x: x if x != 'gas log' else 'gas logs' )\n",
        "    df[col] = df[col].apply(lambda x: x if x != 'gas fireplace' else 'gas' )\n",
        "    df[col] = df[col].apply(lambda x: x if x != 'one' else '1' ) # есть комбинированые признаки!\n",
        "    df[col] = df[col].apply(lambda x: x if x != 'familyrm' else 'family room' ) # есть комбинированые признаки!\n",
        "    df[col] = df[col].apply(lambda x: x if x != 'in living room' else 'living room' ) # есть комбинированые признаки!\n",
        "    df[col] = df[col].apply(lambda x: x if x != '# fireplaces - woodburning' else '1, wood burning' )\n",
        "    df[col] = df[col].apply(lambda x: x if x != '# fireplaces - gas' else '1, gas' )\n",
        "    df[col] = df[col].apply(lambda x: x if x != 'fireplaces' else '1' )\n",
        "    df[col] = df[col].apply(lambda x: x if x != '# fireplaces - woodstoves' else 'woodstoves' )\n",
        "    df[col] = df[col].apply(lambda x: x if x != 'gas fuel' else 'gas' )\n",
        "    \n",
        "    # Заполняем пропуски пробелом для обработки\n",
        "    # Преобразуем строки в списки\n",
        "    df[col] = df[col].fillna(' ')\n",
        "    df[col] = df[col].apply(lambda x: x.replace('/',',') )\n",
        "    df[col] = df[col].apply(lambda x: x.split(','))\n",
        "    \n",
        "    # Применяем функции для обработки столбца\n",
        "    df[col] = df[col].apply(form_fireplace_1)\n",
        "    \n",
        "    # Применяем функции для обработки столбца\n",
        "    df[col] = df[col].apply(form_fireplace_2)\n",
        "    \n",
        "    df[col] = df[col].apply(form_fireplace_3)\n",
        "    \n",
        "    df[col] = df[col].apply(lambda x: x.strip('[]'))\n",
        "    df[col] = df[col].apply(lambda x: x.replace(\"'\",'') )\n",
        "    df[col] = df[col].apply(lambda x: x.replace('  ',' ') )\n",
        "    df[col] = df[col].apply(lambda x: x.replace(', ',',') )\n",
        "    df[col] = df[col].apply(lambda x: x.split(','))\n",
        "\n",
        "    # Создаем список категорий и добавляем dummy признаки\n",
        "    fireplace_list = ['gas logs','','1','2','0','non-functional','fireplace yn','family room','master bedroom','living room','wood burning','extras','3','firepit',\n",
        "    'gas','den','direct vent','extra closets','great room','special features','ceiling fan','storage','utility connection','insert','central air',\n",
        "    'elevator','walk-in closet','baseboard','hot water','steam','radiators','gas starter','electric','redecorated','location','wood stove','forced air',\n",
        "    'fireplace features','2 way','5','4','decorative','bedroom','kitchen','see through','in-law quarters','smthr','wet bar','rec room','air filter','other',\n",
        "    'gas vented','mantle','bath features','flooring - carpet','vented gas','brick','fireplace insert','free standing','fire sprinkler system','humidifier',\n",
        "    'flue','ventless','basement','flooring - tile','window treatment','lp gas','outdoor','flooring - hardwood','crown molding','water filter','smlt',\n",
        "    'pellet','other room','stone','formal','factory built','metal','smapl','keeping room','wall','floor furnace','dining room','built-ins','tub shower',\n",
        "    'attached doors','screen','includes accessories','unit features','balcony','cable tv','vaulted ceiling','gas unvented','bonus room','heat pump',\n",
        "    'hearth room fireplace','marble','dehumidifier','hot tub','screened porch access','garages','d hookups','see agent','radiant','patio','tile fireplace',\n",
        "    'smcam','dry bar','intercom','6','recording studio','raised hearth','deck','porch','heatilator','prefabricated','recirculator','heat-o-later','central',\n",
        "    'multi-zone','flooring - laminate','stove','countertop(s) - solid surface','island','pantry','glass','enclosed screen','whole house fan','insulated windows',\n",
        "    'pool in-ground','secure community','auto sprinkler','partial fence','circulator hot water','carpeted floors','entry porch','security system','blinds',\n",
        "    'circle drive','rear porch','underground util','whirlpool tub','fireplace equipment','portable','none','7','gas hot air','furnace','g-sealed combustion fireplace',\n",
        "    'high speed internet available','in-unit laundry','private entry','countertop(s) - granite','remarks','paved drive','flooring - slate','fenced yard','coal','10',\n",
        "    'loft','countertop(s) - quartz','zoned','no','refrigerator','playroom','blower','study','int shutters','sprinkler syst-yrd','main','chair rail','shed','9']\n",
        "\n",
        "    df_fireplace = create_dummies(df, 'fireplace', fireplace_list)\n",
        "\n",
        "    return df\n",
        "\n"
      ],
      "metadata": {
        "id": "d8ULVwlJSRZy"
      },
      "execution_count": 27,
      "outputs": []
    },
    {
      "cell_type": "markdown",
      "source": [
        "### fireplace"
      ],
      "metadata": {
        "id": "g15rZNqZ8nBo"
      }
    },
    {
      "cell_type": "code",
      "source": [
        "df = col_fireplace(df, 'fireplace')"
      ],
      "metadata": {
        "id": "TnXiOT9mUcPR",
        "colab": {
          "base_uri": "https://localhost:8080/"
        },
        "outputId": "64ac9c1d-689e-4cd7-adbf-890e5c131f9b"
      },
      "execution_count": 28,
      "outputs": [
        {
          "output_type": "stream",
          "name": "stderr",
          "text": [
            "/usr/local/lib/python3.7/dist-packages/ipykernel_launcher.py:38: PerformanceWarning: DataFrame is highly fragmented.  This is usually the result of calling `frame.insert` many times, which has poor performance.  Consider joining all columns at once using pd.concat(axis=1) instead.  To get a de-fragmented frame, use `newframe = frame.copy()`\n"
          ]
        }
      ]
    },
    {
      "cell_type": "markdown",
      "metadata": {
        "id": "Aiai4gbFomdB"
      },
      "source": [
        "# Признак city"
      ]
    },
    {
      "cell_type": "markdown",
      "source": [
        "### Функция"
      ],
      "metadata": {
        "id": "Puj3qTbg7rZn"
      }
    },
    {
      "cell_type": "code",
      "execution_count": 29,
      "metadata": {
        "id": "NTuzA5psmtBY"
      },
      "outputs": [],
      "source": [
        "def col_city(df, col):\n",
        "  # Признак просто перечень городов поэтому просто приведем к нижнему регистру.\n",
        "  df[col] = df[col].str.lower()\n",
        "\n",
        "  return df"
      ]
    },
    {
      "cell_type": "markdown",
      "source": [
        "### city"
      ],
      "metadata": {
        "id": "5bUXhCIz8wD5"
      }
    },
    {
      "cell_type": "code",
      "source": [
        "df = col_city(df, 'city')"
      ],
      "metadata": {
        "id": "WPoFtJbhWhgy"
      },
      "execution_count": 30,
      "outputs": []
    },
    {
      "cell_type": "markdown",
      "metadata": {
        "id": "77mre1xzsMqt"
      },
      "source": [
        "# Признак schools"
      ]
    },
    {
      "cell_type": "markdown",
      "source": [
        "### Функция"
      ],
      "metadata": {
        "id": "Yr709Esx7o8h"
      }
    },
    {
      "cell_type": "code",
      "source": [
        "def col_schools(df, col):\n",
        "  # Видно что это формат json для его обработки заменим кавычки на двойные.\n",
        "  df[col] = df[col].apply(lambda x: x.replace(\"'\", \"\\\"\"))\n",
        "  # Видно что это формат json для его обработки заменим кавычки на двойные.\n",
        "  df[col] = df[col].apply(lambda x: x.replace(\"'\", \"\\\"\"))\n",
        "\n",
        "  # Многие названия школ с кавычками и также значения None без них. Это не даст преобразовать строки в json формат.\n",
        "  # Поэтому применяем  функцию, которая исправит это.\n",
        "  df[col] = df[col].apply(form_scools_re)\n",
        "\n",
        "\n",
        "  schools = pd.DataFrame()\n",
        "  #\n",
        "  for i in df[col]:\n",
        "    a = pd.json_normalize(json.loads(i))\n",
        "    schools = pd.concat([schools, a], axis = 0)\n",
        "\n",
        "  return schools\n"
      ],
      "metadata": {
        "id": "7ReBy_8TWuS4"
      },
      "execution_count": null,
      "outputs": []
    },
    {
      "cell_type": "markdown",
      "source": [
        "### schools"
      ],
      "metadata": {
        "id": "xMA2yhFj800w"
      }
    },
    {
      "cell_type": "code",
      "source": [
        "schools = col_schools(df, 'schools')"
      ],
      "metadata": {
        "id": "ivBP9P_EYHIh"
      },
      "execution_count": null,
      "outputs": []
    },
    {
      "cell_type": "code",
      "execution_count": null,
      "metadata": {
        "id": "nllreGrHVaYh"
      },
      "outputs": [],
      "source": [
        "schools.to_csv('/content/gdrive/MyDrive/Diplom_project/schools_func.csv')"
      ]
    },
    {
      "cell_type": "markdown",
      "metadata": {
        "id": "dFFUNPTmJ2JW"
      },
      "source": [
        "# Признак sqft"
      ]
    },
    {
      "cell_type": "markdown",
      "source": [
        "### Функция"
      ],
      "metadata": {
        "id": "EyA8XsK-7mnQ"
      }
    },
    {
      "cell_type": "code",
      "source": [
        "def col_sqft(df, col):\n",
        "  # Заполним пропуски пустой строкой\n",
        "  df[col] = df[col].fillna('')\n",
        "\n",
        "  # Приведем столбец к числовому виду.\n",
        "  df[col] = df[col].apply(form_sqft)\n",
        "\n",
        "  print('Осталось пропусков:')\n",
        "  print(df.sqft.isna().value_counts())\n",
        "\n",
        "  return df"
      ],
      "metadata": {
        "id": "-W5O3VnAyepa"
      },
      "execution_count": 31,
      "outputs": []
    },
    {
      "cell_type": "markdown",
      "source": [
        "### sqft"
      ],
      "metadata": {
        "id": "QF94oUtU85_Z"
      }
    },
    {
      "cell_type": "code",
      "source": [
        "df = col_sqft(df, 'sqft')"
      ],
      "metadata": {
        "colab": {
          "base_uri": "https://localhost:8080/"
        },
        "id": "919eicbOzPMJ",
        "outputId": "c924c24e-05b5-4257-c6b8-3d939bfb1386"
      },
      "execution_count": 32,
      "outputs": [
        {
          "output_type": "stream",
          "name": "stdout",
          "text": [
            "Осталось пропусков:\n",
            "False    321918\n",
            "True      52786\n",
            "Name: sqft, dtype: int64\n"
          ]
        }
      ]
    },
    {
      "cell_type": "markdown",
      "metadata": {
        "id": "e6SUbBN0lTbU"
      },
      "source": [
        "# Признак street "
      ]
    },
    {
      "cell_type": "markdown",
      "source": [
        "### Функция"
      ],
      "metadata": {
        "id": "oQKUmBSI7i9g"
      }
    },
    {
      "cell_type": "code",
      "source": [
        "def col_street(df, col):\n",
        "  # Изменим значения неизвестного адреса на nan\n",
        "  df[col] = df[col].apply(lambda x: x if x != 'Address Not Disclosed' else np.nan )\n",
        "  df[col] = df[col].apply(lambda x: x if x != 'Undisclosed Address' else np.nan )\n",
        "  df[col] = df[col].apply(lambda x: x if x != '(undisclosed Address)' else np.nan )\n",
        "  df[col] = df[col].apply(lambda x: x if x != 'Unknown Address' else np.nan )\n",
        "  df[col] = df[col].apply(lambda x: x if x != 'Address Not Available' else np.nan )\n",
        "\n",
        "  return df\n"
      ],
      "metadata": {
        "id": "VOSo76hgzblq"
      },
      "execution_count": 33,
      "outputs": []
    },
    {
      "cell_type": "markdown",
      "source": [
        "### street"
      ],
      "metadata": {
        "id": "y7uMgXUy9AGI"
      }
    },
    {
      "cell_type": "code",
      "source": [
        "df = col_street(df, 'street')"
      ],
      "metadata": {
        "id": "fpF6YPIezxDK"
      },
      "execution_count": 34,
      "outputs": []
    },
    {
      "cell_type": "markdown",
      "metadata": {
        "id": "8SnAEUNSUEef"
      },
      "source": [
        "# Признак zipcode"
      ]
    },
    {
      "cell_type": "code",
      "execution_count": 35,
      "metadata": {
        "id": "A-22U1sBULaE",
        "colab": {
          "base_uri": "https://localhost:8080/"
        },
        "outputId": "df59cb1e-e1d9-423a-8f49-501805552c8e"
      },
      "outputs": [
        {
          "output_type": "execute_result",
          "data": {
            "text/plain": [
              "0    28387\n",
              "1    99216\n",
              "2    90049\n",
              "3    75205\n",
              "4    32908\n",
              "Name: zipcode, dtype: object"
            ]
          },
          "metadata": {},
          "execution_count": 35
        }
      ],
      "source": [
        "# С этим признаком ничего делать не будем пока что\n",
        "df.zipcode.head()"
      ]
    },
    {
      "cell_type": "markdown",
      "metadata": {
        "id": "QtzSpeyXUuqV"
      },
      "source": [
        "# Признак beds"
      ]
    },
    {
      "cell_type": "markdown",
      "source": [
        "### Функция"
      ],
      "metadata": {
        "id": "ZGLOj6rz7fZK"
      }
    },
    {
      "cell_type": "code",
      "source": [
        "def col_beds(df, col):\n",
        "  # Посмотрим на количество пропусков\n",
        "  print('Посмотрим на количество пропусков:')\n",
        "  print(df[col].isna().value_counts())\n",
        "  # Форматируем строки для приведения к числовому виду\n",
        "  df[col] = df[col].replace(r\"1-2\",'2',regex=True)\n",
        "  df[col] = df[col].replace(r\"bd\",' ',regex=True)\n",
        "  df[col] = df[col].replace(r\"Beds\",' ',regex=True)\n",
        "  df[col] = df[col].replace(r\"-- bd\",np.nan,regex=True)\n",
        "  df[col] = df[col].replace(r\"3 or More Bedrooms, Dining Room, Living Room, Range/Oven, Refrigerator\",'3',regex=True)\n",
        "  df[col] = df[col].replace(r\"# Bedrooms 1st Floor\",np.nan,regex=True)\n",
        "  df[col] = df[col].replace(r\"3, Dining Room, Living Room, Range/Oven, Refrigerator\",'3',regex=True)\n",
        "  df[col] = df[col].replace(r\"3 or More Bedrooms\",'3',regex=True)\n",
        "\n",
        "  # Применяем функцию для замены бессмысленных значений на nan\n",
        "  df[col].fillna(' ', inplace = True)\n",
        "  df[col] = df[col].apply(form_beds)\n",
        "\n",
        "  # Приводим все значения к float\n",
        "  df[col] = df[col].astype(float)\n",
        "\n",
        "  return df\n",
        "\n",
        "\n"
      ],
      "metadata": {
        "id": "RFk1k7632GEK"
      },
      "execution_count": 36,
      "outputs": []
    },
    {
      "cell_type": "markdown",
      "source": [
        "### beds"
      ],
      "metadata": {
        "id": "AmENYhfl9Ero"
      }
    },
    {
      "cell_type": "code",
      "source": [
        "df = col_beds(df, 'beds')"
      ],
      "metadata": {
        "colab": {
          "base_uri": "https://localhost:8080/"
        },
        "id": "WUI4KnI_3MhB",
        "outputId": "91d6e8f2-2a58-42a1-ad10-0819ee81d444"
      },
      "execution_count": 37,
      "outputs": [
        {
          "output_type": "stream",
          "name": "stdout",
          "text": [
            "Посмотрим на количество пропусков:\n",
            "False    283748\n",
            "True      90956\n",
            "Name: beds, dtype: int64\n"
          ]
        }
      ]
    },
    {
      "cell_type": "markdown",
      "metadata": {
        "id": "DyGYAZgQjNtu"
      },
      "source": [
        "# Столбец homeFacts"
      ]
    },
    {
      "cell_type": "code",
      "execution_count": null,
      "metadata": {
        "id": "BL5949wPbo-u"
      },
      "outputs": [],
      "source": [
        "df['homeFacts'].head(5)"
      ]
    },
    {
      "cell_type": "code",
      "execution_count": null,
      "metadata": {
        "id": "ij1I4OsLgq4u"
      },
      "outputs": [],
      "source": [
        "# Напишем функцию для обработки данного признака\n",
        "def transform_atAGlanceFacts(value):\n",
        "    # функция принимает на вход значение ячейки homeFacts и разделяет ее на отдельные признаки\n",
        "    try:\n",
        "        factValues = re.findall(\"factValue': ([\\s\\S]+?), 'factLabel'\", value, flags=0)\n",
        "    except:\n",
        "        print(value)\n",
        "        factValues = None\n",
        "\n",
        "    try:\n",
        "        factLabels = re.findall(\"factLabel': ([\\s\\S]+?)}\", value, flags=0)\n",
        "    except:\n",
        "        print(value)\n",
        "        factLabels = None\n",
        "\n",
        "    val_dct = {}\n",
        "    for i in range(len(factValues)):\n",
        "        val = factValues[i].replace(\"'\", '')\n",
        "        if val == 'None':\n",
        "            val=None\n",
        "        val_dct[factLabels[i].replace(\"'\", '')] = val\n",
        "    return val_dct\n",
        "\n",
        "homefacts = data.homeFacts.copy()\n",
        "homefacts_dct = homefacts.apply(transform_atAGlanceFacts)\n",
        "homefacts = pd.DataFrame.from_records(homefacts_dct, index=data.index)\n",
        "\n",
        "# Посмотрим на полученные значения"
      ]
    },
    {
      "cell_type": "code",
      "execution_count": null,
      "metadata": {
        "id": "YGtNioG3thzX"
      },
      "outputs": [],
      "source": [
        "homefacts.to_csv('/content/gdrive/MyDrive/Diplom_project/homefacts.csv')"
      ]
    },
    {
      "cell_type": "markdown",
      "metadata": {
        "id": "Y69yItFgxAAx"
      },
      "source": [
        "# Столбец stories"
      ]
    },
    {
      "cell_type": "markdown",
      "source": [
        "### Функция"
      ],
      "metadata": {
        "id": "sMiFCUsi657g"
      }
    },
    {
      "cell_type": "code",
      "source": [
        "def col_stories(df, col):\n",
        "  # Заполняем пропуски пустой строкой\n",
        "  df.stories = df.stories.fillna(' ')\n",
        "  \n",
        "  # Применяем функцию\n",
        "  df.stories = df.stories.apply(form_stories)\n",
        "\n",
        "  # Функция почемуто не удаляет все значения используем lambda функцию для изменения оставшихся значений.\n",
        "  df[col] = df[col].apply(lambda x: x if x != '3+' else '3' )\n",
        "  df[col] = df[col].apply(lambda x: x if x != '3+ Story' else '3' )\n",
        "  df[col] = df[col].apply(lambda x: x if x != '1and + Loft' else '1' )\n",
        "  df[col] = df[col].apply(lambda x: x if x != 'Condo 5+ Stories' else '5' )\n",
        "  df[col] = df[col].apply(lambda x: x if x != 'T3-Townhouse3+ Stories' else '3' )\n",
        "  df[col] = df[col].apply(lambda x: x if x != 'Townhouse-2, T3-Townhouse3+ Stories' else '3' )\n",
        "  df[col] = df[col].apply(lambda x: x if x != '6+ Stories' else '6' )\n",
        "  df[col] = df[col].apply(lambda x: x if x != '1-2' else '1' )\n",
        "  df[col] = df[col].apply(lambda x: x if x != '1, Site Built' else '1' )\n",
        "  df[col] = df[col].apply(lambda x: x if x != 'Site Built3' else '3' )\n",
        "  df[col] = df[col].apply(lambda x: x if x != '3s' else '3' )\n",
        "  \n",
        "  # Нелеквидные значения заменяем пустой строкой.\n",
        "  df[col] = df[col].apply(lambda x: x if x != 'Ground Level' else ' ' )\n",
        "  df[col] = df[col].apply(lambda x: x if x != 'Townhouse' else ' ' )\n",
        "  df[col] = df[col].apply(lambda x: x if x != 'Multi/Split' else ' ' )\n",
        "  df[col] = df[col].apply(lambda x: x if x != 'Acreage' else ' ' )\n",
        "  df[col] = df[col].apply(lambda x: x if x != 'Condominium' else ' ' )\n",
        "  df[col] = df[col].apply(lambda x: x if x != 'Stories/Levels' else ' ' )\n",
        "  df[col] = df[col].apply(lambda x: x if x != 'Ranch' else ' ' )\n",
        "  df[col] = df[col].apply(lambda x: x if x != 'Traditional' else ' ' )\n",
        "  df[col] = df[col].apply(lambda x: x if x != 'Mid-Rise' else ' ' )\n",
        "  df[col] = df[col].apply(lambda x: x if x != 'Multi/Split' else ' ' )\n",
        "  df[col] = df[col].apply(lambda x: x if x != 'Multi-Level' else ' ' )\n",
        "  df[col] = df[col].apply(lambda x: x if x != 'Split Level' else ' ' )\n",
        "  df[col] = df[col].apply(lambda x: x if x != 'High-Rise' else ' ' )\n",
        "  df[col] = df[col].apply(lambda x: x if x != 'Total Floors in Bldg' else ' ' )\n",
        "  df[col] = df[col].apply(lambda x: x if x != 'Garden' else ' ' )\n",
        "  df[col] = df[col].apply(lambda x: x if x != 'Commercial' else ' ' )\n",
        "  df[col] = df[col].apply(lambda x: x if x != 'Other Multi-unit' else ' ' )\n",
        "  df[col] = df[col].apply(lambda x: x if x != 'Farm House' else ' ' )\n",
        "  df[col] = df[col].apply(lambda x: x if x != 'High-Rise' else ' ' )\n",
        "  df[col] = df[col].apply(lambda x: x if x != 'Bungalow' else ' ' )\n",
        "  df[col] = df[col].apply(lambda x: x if x != 'Raised Ranch' else ' ' )\n",
        "  df[col] = df[col].apply(lambda x: x if x != 'Site Builtl' else ' ' )\n",
        "  df[col] = df[col].apply(lambda x: x if x != 'Contemporary' else ' ' )\n",
        "  df[col] = df[col].apply(lambda x: x if x != 'Manufactured Doublewide' else ' ' )\n",
        "  df[col] = df[col].apply(lambda x: x if x != 'Unimproved Commercial' else ' ' )\n",
        "  df[col] = df[col].apply(lambda x: x if x != 'Cape Cod' else ' ' )\n",
        "  df[col] = df[col].apply(lambda x: x if x != 'Fourplex' else ' ' )\n",
        "  df[col] = df[col].apply(lambda x: x if x != 'Site Built, Split Foyer' else ' ' )\n",
        "  df[col] = df[col].apply(lambda x: x if x != 'Split Level w/ Sub' else ' ' )\n",
        "  df[col] = df[col].apply(lambda x: x if x != 'Modular Home' else ' ' )\n",
        "  df[col] = df[col].apply(lambda x: x if x != 'Condo' else ' ' )\n",
        "  df[col] = df[col].apply(lambda x: x if x != 'Mobile' else ' ' )\n",
        "  df[col] = df[col].apply(lambda x: x if x != 'Farm' else ' ' )\n",
        "  df[col] = df[col].apply(lambda x: x if x != 'Manufactured Singlewide' else ' ' )\n",
        "  df[col] = df[col].apply(lambda x: x if x != 'Victorian' else ' ' )\n",
        "  df[col] = df[col].apply(lambda x: x if x != 'Multi Level' else ' ' )\n",
        "  df[col] = df[col].apply(lambda x: x if x != 'Cabin/Cottage' else ' ' )\n",
        "  df[col] = df[col].apply(lambda x: x if x != 'Colonial' else ' ' )\n",
        "  df[col] = df[col].apply(lambda x: x if x != 'Site Built, Split Level' else ' ' )\n",
        "  df[col] = df[col].apply(lambda x: x if x != 'Condo, Site Built' else ' ' )\n",
        "  df[col] = df[col].apply(lambda x: x if x != 'Live/Work' else ' ' )\n",
        "  df[col] = df[col].apply(lambda x: x if x != 'Multi-Story' else ' ' )\n",
        "  df[col] = df[col].apply(lambda x: x if x != 'Loft' else ' ' )\n",
        "  df[col] = df[col].apply(lambda x: x if x != 'Log Home' else ' ' )\n",
        "  df[col] = df[col].apply(lambda x: x if x != 'Cape, Other Style' else ' ' )\n",
        "  df[col] = df[col].apply(lambda x: x if x != 'Patio Home' else ' ' )\n",
        "  df[col] = df[col].apply(lambda x: x if x != 'Chalet' else ' ' )\n",
        "  df[col] = df[col].apply(lambda x: x if x != 'Craftsman' else ' ' )\n",
        "  df[col] = df[col].apply(lambda x: x if x != 'Log' else ' ' )\n",
        "  df[col] = df[col].apply(lambda x: x if x != 'Federal' else ' ' )\n",
        "  df[col] = df[col].apply(lambda x: x if x != 'Apartments' else ' ' )\n",
        "  df[col] = df[col].apply(lambda x: x if x != 'Co-op' else ' ' )\n",
        "  df[col] = df[col].apply(lambda x: x if x != 'Detached' else ' ' )\n",
        "  df[col] = df[col].apply(lambda x: x if x != 'Site Built, Townhouse' else ' ' )\n",
        "  df[col] = df[col].apply(lambda x: x if x != 'Dwelling Stories' else ' ' )\n",
        "  df[col] = df[col].apply(lambda x: x if x != 'Split Entry (2)' else ' ' )\n",
        "  df[col] = df[col].apply(lambda x: x if x != 'None' else ' ' )\n",
        "  df[col] = df[col].apply(lambda x: x if x != 'Hillside' else ' ' )\n",
        "  df[col] = df[col].apply(lambda x: x if x != 'Bedroom - Split Plan' else ' ' )\n",
        "  df[col] = df[col].apply(lambda x: x if x != 'Manufactured Home, Non-Site Built' else ' ' )\n",
        "  df[col] = df[col].apply(lambda x: x if x != 'Multi-Level, New Englander' else ' ' )\n",
        "  df[col] = df[col].apply(lambda x: x if x != 'Sixplex' else ' ' )\n",
        "  df[col] = df[col].apply(lambda x: x if x != 'A Frame' else ' ' )\n",
        "  df[col] = df[col].apply(lambda x: x if x != 'Tudor' else ' ' )\n",
        "  df[col] = df[col].apply(lambda x: x if x != 'Other2' else ' ' )\n",
        "  df[col] = df[col].apply(lambda x: x if x != 'Split Foyer' else ' ' )\n",
        "  df[col] = df[col].apply(lambda x: x if x != 'Site Built' else ' ' )\n",
        "  df[col] = df[col].apply(lambda x: x if x != 'Lot' else ' ' )\n",
        "\n",
        "  # Используем lambda функцию для изменения оставшихся значений.\n",
        "  df[col] = df[col].apply(lambda x: x if x != 'Townhouse-2, T3-Townhouse 3+ Stories' else ' ' )\n",
        "  df[col] = df[col].apply(lambda x: x if x != 'T3-Townhouse 3+ Stories' else ' ' )\n",
        "  df[col] = df[col].apply(lambda x: x if x != 'Townhouse-2, T3-Townhouse3+ Stories' else ' ' )\n",
        "  df[col] = df[col].apply(lambda x: x if x != '1002.0' else ' ' )\n",
        "  df[col] = df[col].apply(lambda x: x if x != '1120.0' else ' ' )\n",
        "\n",
        "  # Пустые строки заменяем на nan.\n",
        "  df[col] = df[col].apply(lambda x: x if x != ' ' else np.nan )\n",
        "\n",
        "  # Приводим все значения к float\n",
        "  df[col] = df[col].astype(float)\n",
        "\n",
        "  print('Количество пропусков:')\n",
        "  print(df[col].isna().value_counts())\n",
        "\n",
        "  return df\n"
      ],
      "metadata": {
        "id": "gNGS9-5P31hz"
      },
      "execution_count": 38,
      "outputs": []
    },
    {
      "cell_type": "markdown",
      "source": [
        "### stories"
      ],
      "metadata": {
        "id": "--DGGNHs7J65"
      }
    },
    {
      "cell_type": "code",
      "source": [
        "df = col_stories(df, 'stories')"
      ],
      "metadata": {
        "colab": {
          "base_uri": "https://localhost:8080/"
        },
        "id": "P3oC4Gig6Z_Z",
        "outputId": "4b2b918b-6982-4b7d-a0ae-399dea3c6b2f"
      },
      "execution_count": 39,
      "outputs": [
        {
          "output_type": "stream",
          "name": "stdout",
          "text": [
            "Количество пропусков:\n",
            "False    222653\n",
            "True     152051\n",
            "Name: stories, dtype: int64\n"
          ]
        }
      ]
    },
    {
      "cell_type": "markdown",
      "metadata": {
        "id": "0taoBCpFazC3"
      },
      "source": [
        "# Cохранение датасета"
      ]
    },
    {
      "cell_type": "code",
      "execution_count": 40,
      "metadata": {
        "id": "wErsBMfeayFh"
      },
      "outputs": [],
      "source": [
        "df.to_csv('/content/gdrive/MyDrive/Diplom_project/df_func_map.csv')"
      ]
    },
    {
      "cell_type": "markdown",
      "metadata": {
        "id": "SDDgextIWqxK"
      },
      "source": [
        "###Здесь оканчиваеться первая предобработка"
      ]
    },
    {
      "cell_type": "markdown",
      "metadata": {
        "id": "qZiiQKuZW1Ok"
      },
      "source": [
        "\n",
        "# В итоге у нас еще 2  датасета. обработаем каждый. "
      ]
    },
    {
      "cell_type": "markdown",
      "metadata": {
        "id": "CpvZGukBiA0F"
      },
      "source": [
        "## Загрузка датасета homefacts"
      ]
    },
    {
      "cell_type": "code",
      "execution_count": null,
      "metadata": {
        "id": "Sq-XUv7oxXmf"
      },
      "outputs": [],
      "source": [
        "hm = pd.read_csv('/content/gdrive/MyDrive/Diplom_project/homefacts.csv').drop(['Unnamed: 0'], axis = 1)"
      ]
    },
    {
      "cell_type": "code",
      "execution_count": null,
      "metadata": {
        "id": "nwx02AqWwVcO"
      },
      "outputs": [],
      "source": [
        "hm.fillna(np.nan, inplace = True)"
      ]
    },
    {
      "cell_type": "code",
      "execution_count": null,
      "metadata": {
        "id": "qUYNlIuvuPRg"
      },
      "outputs": [],
      "source": [
        "# Приведем названия столбцов к нижнему регистру\n",
        "hm.columns = hm.columns.str.lower()\n",
        "# Для удобства переименуем столбцы\n",
        "hm.rename(columns={'year built':'year_built', 'remodeled year':'remodeled_year', 'price/sqft':'price_sqft'}, inplace=True)"
      ]
    },
    {
      "cell_type": "code",
      "execution_count": null,
      "metadata": {
        "id": "KxD60RfGw3N2",
        "colab": {
          "base_uri": "https://localhost:8080/"
        },
        "outputId": "0617bdba-20fb-44cf-d3b6-2142ecb82baf"
      },
      "outputs": [
        {
          "output_type": "error",
          "ename": "KeyboardInterrupt",
          "evalue": "ignored",
          "traceback": [
            "\u001b[0;31m---------------------------------------------------------------------------\u001b[0m",
            "\u001b[0;31mKeyboardInterrupt\u001b[0m                         Traceback (most recent call last)",
            "\u001b[0;32m<ipython-input-52-f796251e2dc1>\u001b[0m in \u001b[0;36m<module>\u001b[0;34m()\u001b[0m\n\u001b[1;32m     16\u001b[0m \u001b[0mhm\u001b[0m\u001b[0;34m[\u001b[0m\u001b[0;34m'year_built'\u001b[0m\u001b[0;34m]\u001b[0m \u001b[0;34m=\u001b[0m \u001b[0mhm\u001b[0m\u001b[0;34m[\u001b[0m\u001b[0;34m'year_built'\u001b[0m\u001b[0;34m]\u001b[0m\u001b[0;34m.\u001b[0m\u001b[0mapply\u001b[0m\u001b[0;34m(\u001b[0m\u001b[0mfor_nan\u001b[0m\u001b[0;34m)\u001b[0m\u001b[0;34m\u001b[0m\u001b[0;34m\u001b[0m\u001b[0m\n\u001b[1;32m     17\u001b[0m \u001b[0mhm\u001b[0m\u001b[0;34m[\u001b[0m\u001b[0;34m'remodeled_year'\u001b[0m\u001b[0;34m]\u001b[0m \u001b[0;34m=\u001b[0m \u001b[0mhm\u001b[0m\u001b[0;34m[\u001b[0m\u001b[0;34m'remodeled_year'\u001b[0m\u001b[0;34m]\u001b[0m\u001b[0;34m.\u001b[0m\u001b[0mapply\u001b[0m\u001b[0;34m(\u001b[0m\u001b[0mfor_nan\u001b[0m\u001b[0;34m)\u001b[0m\u001b[0;34m\u001b[0m\u001b[0;34m\u001b[0m\u001b[0m\n\u001b[0;32m---> 18\u001b[0;31m \u001b[0mhm\u001b[0m\u001b[0;34m[\u001b[0m\u001b[0;34m'heating'\u001b[0m\u001b[0;34m]\u001b[0m \u001b[0;34m=\u001b[0m \u001b[0mhm\u001b[0m\u001b[0;34m[\u001b[0m\u001b[0;34m'heating'\u001b[0m\u001b[0;34m]\u001b[0m\u001b[0;34m.\u001b[0m\u001b[0mapply\u001b[0m\u001b[0;34m(\u001b[0m\u001b[0mfor_nan\u001b[0m\u001b[0;34m)\u001b[0m\u001b[0;34m\u001b[0m\u001b[0;34m\u001b[0m\u001b[0m\n\u001b[0m\u001b[1;32m     19\u001b[0m \u001b[0mhm\u001b[0m\u001b[0;34m[\u001b[0m\u001b[0;34m'cooling'\u001b[0m\u001b[0;34m]\u001b[0m \u001b[0;34m=\u001b[0m \u001b[0mhm\u001b[0m\u001b[0;34m[\u001b[0m\u001b[0;34m'cooling'\u001b[0m\u001b[0;34m]\u001b[0m\u001b[0;34m.\u001b[0m\u001b[0mapply\u001b[0m\u001b[0;34m(\u001b[0m\u001b[0mfor_nan\u001b[0m\u001b[0;34m)\u001b[0m\u001b[0;34m\u001b[0m\u001b[0;34m\u001b[0m\u001b[0m\n\u001b[1;32m     20\u001b[0m \u001b[0mhm\u001b[0m\u001b[0;34m[\u001b[0m\u001b[0;34m'parking'\u001b[0m\u001b[0;34m]\u001b[0m \u001b[0;34m=\u001b[0m \u001b[0mhm\u001b[0m\u001b[0;34m[\u001b[0m\u001b[0;34m'parking'\u001b[0m\u001b[0;34m]\u001b[0m\u001b[0;34m.\u001b[0m\u001b[0mapply\u001b[0m\u001b[0;34m(\u001b[0m\u001b[0mfor_nan\u001b[0m\u001b[0;34m)\u001b[0m\u001b[0;34m\u001b[0m\u001b[0;34m\u001b[0m\u001b[0m\n",
            "\u001b[0;32m/usr/local/lib/python3.7/dist-packages/pandas/core/series.py\u001b[0m in \u001b[0;36mapply\u001b[0;34m(self, func, convert_dtype, args, **kwargs)\u001b[0m\n\u001b[1;32m   4355\u001b[0m         \u001b[0mdtype\u001b[0m\u001b[0;34m:\u001b[0m \u001b[0mfloat64\u001b[0m\u001b[0;34m\u001b[0m\u001b[0;34m\u001b[0m\u001b[0m\n\u001b[1;32m   4356\u001b[0m         \"\"\"\n\u001b[0;32m-> 4357\u001b[0;31m         \u001b[0;32mreturn\u001b[0m \u001b[0mSeriesApply\u001b[0m\u001b[0;34m(\u001b[0m\u001b[0mself\u001b[0m\u001b[0;34m,\u001b[0m \u001b[0mfunc\u001b[0m\u001b[0;34m,\u001b[0m \u001b[0mconvert_dtype\u001b[0m\u001b[0;34m,\u001b[0m \u001b[0margs\u001b[0m\u001b[0;34m,\u001b[0m \u001b[0mkwargs\u001b[0m\u001b[0;34m)\u001b[0m\u001b[0;34m.\u001b[0m\u001b[0mapply\u001b[0m\u001b[0;34m(\u001b[0m\u001b[0;34m)\u001b[0m\u001b[0;34m\u001b[0m\u001b[0;34m\u001b[0m\u001b[0m\n\u001b[0m\u001b[1;32m   4358\u001b[0m \u001b[0;34m\u001b[0m\u001b[0m\n\u001b[1;32m   4359\u001b[0m     def _reduce(\n",
            "\u001b[0;32m/usr/local/lib/python3.7/dist-packages/pandas/core/apply.py\u001b[0m in \u001b[0;36mapply\u001b[0;34m(self)\u001b[0m\n\u001b[1;32m   1041\u001b[0m             \u001b[0;32mreturn\u001b[0m \u001b[0mself\u001b[0m\u001b[0;34m.\u001b[0m\u001b[0mapply_str\u001b[0m\u001b[0;34m(\u001b[0m\u001b[0;34m)\u001b[0m\u001b[0;34m\u001b[0m\u001b[0;34m\u001b[0m\u001b[0m\n\u001b[1;32m   1042\u001b[0m \u001b[0;34m\u001b[0m\u001b[0m\n\u001b[0;32m-> 1043\u001b[0;31m         \u001b[0;32mreturn\u001b[0m \u001b[0mself\u001b[0m\u001b[0;34m.\u001b[0m\u001b[0mapply_standard\u001b[0m\u001b[0;34m(\u001b[0m\u001b[0;34m)\u001b[0m\u001b[0;34m\u001b[0m\u001b[0;34m\u001b[0m\u001b[0m\n\u001b[0m\u001b[1;32m   1044\u001b[0m \u001b[0;34m\u001b[0m\u001b[0m\n\u001b[1;32m   1045\u001b[0m     \u001b[0;32mdef\u001b[0m \u001b[0magg\u001b[0m\u001b[0;34m(\u001b[0m\u001b[0mself\u001b[0m\u001b[0;34m)\u001b[0m\u001b[0;34m:\u001b[0m\u001b[0;34m\u001b[0m\u001b[0;34m\u001b[0m\u001b[0m\n",
            "\u001b[0;32m/usr/local/lib/python3.7/dist-packages/pandas/core/apply.py\u001b[0m in \u001b[0;36mapply_standard\u001b[0;34m(self)\u001b[0m\n\u001b[1;32m   1099\u001b[0m                     \u001b[0mvalues\u001b[0m\u001b[0;34m,\u001b[0m\u001b[0;34m\u001b[0m\u001b[0;34m\u001b[0m\u001b[0m\n\u001b[1;32m   1100\u001b[0m                     \u001b[0mf\u001b[0m\u001b[0;34m,\u001b[0m  \u001b[0;31m# type: ignore[arg-type]\u001b[0m\u001b[0;34m\u001b[0m\u001b[0;34m\u001b[0m\u001b[0m\n\u001b[0;32m-> 1101\u001b[0;31m                     \u001b[0mconvert\u001b[0m\u001b[0;34m=\u001b[0m\u001b[0mself\u001b[0m\u001b[0;34m.\u001b[0m\u001b[0mconvert_dtype\u001b[0m\u001b[0;34m,\u001b[0m\u001b[0;34m\u001b[0m\u001b[0;34m\u001b[0m\u001b[0m\n\u001b[0m\u001b[1;32m   1102\u001b[0m                 )\n\u001b[1;32m   1103\u001b[0m \u001b[0;34m\u001b[0m\u001b[0m\n",
            "\u001b[0;32m/usr/local/lib/python3.7/dist-packages/pandas/_libs/lib.pyx\u001b[0m in \u001b[0;36mpandas._libs.lib.map_infer\u001b[0;34m()\u001b[0m\n",
            "\u001b[0;32m<ipython-input-52-f796251e2dc1>\u001b[0m in \u001b[0;36mfor_nan\u001b[0;34m(x)\u001b[0m\n\u001b[1;32m      4\u001b[0m     \u001b[0mx\u001b[0m \u001b[0;34m=\u001b[0m \u001b[0mnp\u001b[0m\u001b[0;34m.\u001b[0m\u001b[0mnan\u001b[0m\u001b[0;34m\u001b[0m\u001b[0;34m\u001b[0m\u001b[0m\n\u001b[1;32m      5\u001b[0m \u001b[0;34m\u001b[0m\u001b[0m\n\u001b[0;32m----> 6\u001b[0;31m   \u001b[0;32melif\u001b[0m \u001b[0mx\u001b[0m \u001b[0;34m==\u001b[0m \u001b[0;34m'No Data'\u001b[0m\u001b[0;34m:\u001b[0m\u001b[0;34m\u001b[0m\u001b[0;34m\u001b[0m\u001b[0m\n\u001b[0m\u001b[1;32m      7\u001b[0m     \u001b[0mx\u001b[0m \u001b[0;34m=\u001b[0m \u001b[0mnp\u001b[0m\u001b[0;34m.\u001b[0m\u001b[0mnan\u001b[0m\u001b[0;34m\u001b[0m\u001b[0;34m\u001b[0m\u001b[0m\n\u001b[1;32m      8\u001b[0m   \u001b[0;32melif\u001b[0m \u001b[0mx\u001b[0m \u001b[0;34m==\u001b[0m \u001b[0;34m'1'\u001b[0m\u001b[0;34m:\u001b[0m\u001b[0;34m\u001b[0m\u001b[0;34m\u001b[0m\u001b[0m\n",
            "\u001b[0;31mKeyboardInterrupt\u001b[0m: "
          ]
        }
      ],
      "source": [
        "# Функция изменит бессмысленые значения на nan\n",
        "def for_nan(x):\n",
        "  if x == '':\n",
        "    x = np.nan\n",
        "\n",
        "  elif x == 'No Data':\n",
        "    x = np.nan\n",
        "  elif x == '1':\n",
        "    x = np.nan\n",
        "  elif x == '559990649990':\n",
        "    x = np.nan\n",
        "  else: x\n",
        "  return x\n",
        "\n",
        "# Применим ее.\n",
        "hm['year_built'] = hm['year_built'].apply(for_nan)\n",
        "hm['remodeled_year'] = hm['remodeled_year'].apply(for_nan)\n",
        "hm['heating'] = hm['heating'].apply(for_nan)\n",
        "hm['cooling'] = hm['cooling'].apply(for_nan)\n",
        "hm['parking'] = hm['parking'].apply(for_nan)\n",
        "hm['lotsize'] = hm['lotsize'].apply(for_nan)\n",
        "hm['price_sqft'] = hm['price_sqft'].apply(for_nan)"
      ]
    },
    {
      "cell_type": "code",
      "execution_count": null,
      "metadata": {
        "id": "qo2fC1qdWz3G"
      },
      "outputs": [],
      "source": [
        "hm.info()"
      ]
    },
    {
      "cell_type": "markdown",
      "metadata": {
        "id": "BE95EuhvadWJ"
      },
      "source": [
        "### heating"
      ]
    },
    {
      "cell_type": "markdown",
      "source": [
        "#### Функция"
      ],
      "metadata": {
        "id": "JkqbMLkpRsFl"
      }
    },
    {
      "cell_type": "code",
      "source": [
        "def col_heating(df, col):\n",
        "  # Приведем строки к нижнему регистру.\n",
        "  df[col] = df[col].str.lower()\n",
        "  # Приведем строки к нижнему регистру.\n",
        "  df[col].fillna('', inplace = True)\n",
        "  # Применяем функцию для редактирования строк столбца.\n",
        "  df[col] = df[col].apply(form_heating_re)\n",
        "  # Выведем количество категории которые у нас получились.\n",
        "  print(df[col].value_counts().head(5))\n",
        "\n",
        "  return df\n"
      ],
      "metadata": {
        "id": "2R4AbUCNNP60"
      },
      "execution_count": null,
      "outputs": []
    },
    {
      "cell_type": "markdown",
      "source": [
        "#### heating"
      ],
      "metadata": {
        "id": "7TRKYELZRzoe"
      }
    },
    {
      "cell_type": "code",
      "source": [
        "hm = col_heating(hm, 'heating')"
      ],
      "metadata": {
        "id": "1wbYKtHVOj2s"
      },
      "execution_count": null,
      "outputs": []
    },
    {
      "cell_type": "markdown",
      "metadata": {
        "id": "raKKQ5qWamrp"
      },
      "source": [
        "### cooling"
      ]
    },
    {
      "cell_type": "markdown",
      "source": [
        "#### Функция"
      ],
      "metadata": {
        "id": "pYwYSAMYR-Vl"
      }
    },
    {
      "cell_type": "code",
      "source": [
        "def col_cooling(df, col):\n",
        "  # Приведем строки к нижнему регистру\n",
        "  df[col] = df[col].str.lower()\n",
        "\n",
        "  # Заполним пропуски пустой строкой\n",
        "  df[col].fillna('', inplace = True)\n",
        "\n",
        "  # Применим функцию для редактирования строк.\n",
        "  df[col] = df[col].apply(form_cooling_re)\n",
        "\n",
        "  # После тестов выяснилось что требуеться более глубокая обработка.\n",
        "  # Поэтому добавим еще обработки\n",
        "  df[col] = df[col].fillna('nan_cooling')\n",
        "  df[col] = df[col].apply(lambda x: re.sub(\"central airgas hot air/furnacemultizonedd a/c \",'central air',x) )\n",
        "  df[col] = df[col].apply(lambda x: re.sub(\"multizonedd a/c a/c\",'multizoned a/c',x) )\n",
        "  df[col] = df[col].apply(lambda x: re.sub(\"multizonedd a/c heat\",'multizoned a/c heat',x) )\n",
        "  df[col] = df[col].apply(lambda x: re.sub(\"multizonedd\",'multizoned',x) )\n",
        "  df[col] = df[col].apply(lambda x: re.sub(\"wall/window unit\",'wall\\,window unit',x) )\n",
        "  df[col] = df[col].apply(lambda x: re.sub(\"zonedd\",'zoned',x) )\n",
        "  df[col] = df[col].apply(lambda x: re.sub(\"no cooling/vent\",'no cooling',x) )\n",
        "  df[col] = df[col].apply(lambda x: re.sub(\"multizonedd a/c a/c\",'multizonedd a/c',x) )\n",
        "  df[col] = df[col].apply(lambda x: re.sub(\"central airg-fresh air ventilationgas hot air/furnacemultizonedd a/cnatural gas\",'',x) )\n",
        "  df[col] = df[col].apply(lambda x: re.sub(\"refrigeration, ceiling fan, programmable thmstat, energy star qualified equipment\",'refrigeration, ceiling fan',x) )\n",
        "  df[col] = df[col].apply(lambda x: re.sub(\"gas hot air/furnace\",'gas, hot air,furnace',x) )\n",
        "  df[col] = df[col].apply(lambda x: re.sub(\"none\",'nan_cooling',x) )\n",
        "  df[col] = df[col].apply(lambda x: re.sub(\"multizonedd a/cnatural gas\",'multizoned a/c, natural gas',x) )\n",
        "  df[col] = df[col].apply(lambda x: re.sub(\"heat pumpmultizoned a/c\",'heat pump multizoned a/c',x) )\n",
        "  df[col] = df[col].apply(lambda x: re.sub(\"central airmultizoned a/c\",'central air multizoned a/c',x) )\n",
        "  df[col] = df[col].apply(lambda x: re.sub(\"window a/c unit\",'window',x) )\n",
        "  df[col] = df[col].apply(lambda x: re.sub(\" a/c \",'',x) )\n",
        "  df[col] = df[col].apply(lambda x: re.sub(\"a/c \",'',x) )\n",
        "  df[col] = df[col].apply(lambda x: re.sub(\"\\ a/c\",'',x) )\n",
        "  df[col] = df[col].apply(lambda x: re.sub(\"a/c\",'',x) )\n",
        "  df[col] = df[col].apply(lambda x: re.sub(\"whole house / attic fan\",'whole house,attic fan',x) )\n",
        "  df[col] = df[col].apply(lambda x: re.sub(\"central ac\",'central',x) )\n",
        "  df[col] = df[col].apply(lambda x: re.sub(\"central airgas\",'central air',x) )\n",
        "  df[col] = df[col].apply(lambda x: re.sub(\"multizonedheat\",'multizoned heat',x) )\n",
        "  df[col] = df[col].apply(lambda x: re.sub(\"heat pump heating\",'heat pump',x) )\n",
        "  df[col] = df[col].apply(lambda x: re.sub(\"heat pump for heat\",'heat pump',x) )\n",
        "  df[col] = df[col].apply(lambda x: re.sub(\"central heating\",'central heat',x) )\n",
        "  df[col] = df[col].apply(lambda x: re.sub(\"wall heat\",'wall',x) )\n",
        "  df[col] = df[col].apply(lambda x: re.sub(\"evaporative cooler \",'central evaporative',x) )\n",
        "  df[col] = df[col].apply(lambda x: re.sub(\"other heating \",'other heating',x) )\n",
        "  df[col] = df[col].apply(lambda x: re.sub(\"central air multizoned\",'central air, multizoned',x) )\n",
        "  df[col] = df[col].apply(lambda x: re.sub(\"central airelectric hot air\",'central air',x) )\n",
        "  df[col] = df[col].apply(lambda x: re.sub(\"wall cooling\",'wall',x) )\n",
        "  df[col] = df[col].apply(lambda x: re.sub(\"window unit\",'window',x) )\n",
        "  df[col] = df[col].apply(lambda x: re.sub(\"central airnatural gas\",'central air',x) )\n",
        "  df[col] = df[col].apply(lambda x: re.sub(\"window unit heating\",'window',x) )\n",
        "  df[col] = df[col].apply(lambda x: re.sub(\"central refrigeration\",'refrigeration',x) )\n",
        "  df[col] = df[col].apply(lambda x: re.sub(\"heat pump multizoned\",'heat pump, multizoned',x) )\n",
        "  df[col] = df[col].apply(lambda x: re.sub(\"evaporative cooler \",'zoned',x) )\n",
        "  df[col] = df[col].apply(lambda x: re.sub(\"central air conditioning\",'central air',x) )\n",
        "  df[col] = df[col].apply(lambda x: re.sub(\"central airelectric hot air\",'central air, electric',x) )\n",
        "  df[col] = df[col].apply(lambda x: re.sub(\"gas \",'gas',x) )\n",
        "  df[col] = df[col].apply(lambda x: re.sub(\"wall cooling\",'zoned',x) )\n",
        "  df[col] = df[col].apply(lambda x: re.sub(\"2 or more units\",'2 units',x) )\n",
        "  df[col] = df[col].apply(lambda x: re.sub(\"central geothermal\",'geothermal',x) )\n",
        "\n",
        "  # Перед разделом строк на списки удалим из них лишние символы.\n",
        "  df[col] = df[col].apply(lambda x: x.strip('[]'))\n",
        "  df[col] = df[col].apply(lambda x: x.replace(\"'\",'') )\n",
        "  df[col] = df[col].apply(lambda x: x.replace(\"/\",'') )\n",
        "  df[col] = df[col].apply(lambda x: x.replace(\"\\\\\",'') )\n",
        "  df[col] = df[col].apply(lambda x: x.replace('  ',' ') )\n",
        "  df[col] = df[col].apply(lambda x: x.replace(', ',',') )\n",
        "  df[col] = df[col].apply(lambda x: x.replace(' ,',',') )\n",
        "\n",
        "  # Разделим строки на списки\n",
        "  df[col] = df[col].apply(lambda x: x.split(','))\n",
        "\n",
        "  # Создадим список уникальных значений.\n",
        "  cooling_list = list(pd.Series(quant_class(df[col])).index)\n",
        "\n",
        "  # Уникальных значений в списке оказалась слишком много это непомерно разширяет датасет.\n",
        "  # Поэтому в ручную были выбраны наиболее значимые. \n",
        "  cooling_list = ['central','nan_cooling','central air','has cooling','central electric','wall','central gas','central heating','cooling system','other','refrigeration','electric','evaporative',\n",
        " 'central airgas','hot air','furnace','ceiling fan','gas','zoned','central wall','heat pump','air conditioning-central','has heating','2 or more units','solar','central other','electric heating',\n",
        " 'central cooling','central','gas heating','forced air heating','ceiling fan','forced air heating','humidity control','heat pump','multizoned','steam heating',\n",
        " 'air conditioning unit','central heat','electric source','wall heat','furnace','central evaporative','heat pump heating','other heating','wall cooling','2 units','window','geothermal',\n",
        " 'other heating','gas','2 units','central geothermal','no cooling']\n",
        "\n",
        "  # Добавляем dummy на основе списка cooling_list. \n",
        "  df_cooling = create_dummies(df, col, cooling_list)\n",
        "\n",
        "\n",
        "  return df"
      ],
      "metadata": {
        "id": "KR2A_e4mPHxk"
      },
      "execution_count": null,
      "outputs": []
    },
    {
      "cell_type": "markdown",
      "source": [
        "#### cooling"
      ],
      "metadata": {
        "id": "dHYtJ-lmX7vt"
      }
    },
    {
      "cell_type": "code",
      "source": [
        "hm = col_cooling(hm, 'cooling')"
      ],
      "metadata": {
        "id": "zV2Vjng2QdJ9"
      },
      "execution_count": null,
      "outputs": []
    },
    {
      "cell_type": "code",
      "execution_count": null,
      "metadata": {
        "id": "JZKGtDYpuzDY"
      },
      "outputs": [],
      "source": [
        "hm.info()"
      ]
    },
    {
      "cell_type": "markdown",
      "metadata": {
        "id": "BuIXN4pNkqv8"
      },
      "source": [
        "### parking"
      ]
    },
    {
      "cell_type": "markdown",
      "source": [
        "#### Функция"
      ],
      "metadata": {
        "id": "l28ckZ76YCIc"
      }
    },
    {
      "cell_type": "code",
      "source": [
        "def col_parking(df, col, new_col):\n",
        "  # Приведем строки к нижнему регистру.\n",
        "  df[col] = df[col].str.lower()\n",
        "\n",
        "  # Применим функцию для редактирования строк.\n",
        "  df[col] = df[col].apply(parking)\n",
        "\n",
        "  # Удалим лишние пробелы и разделим строки на списки.\n",
        "  df[new_col] = df[col].apply(lambda x: x.replace('  ',' ') )\n",
        "  df[new_col] = df[new_col].apply(lambda x: x.replace(', ',',') )\n",
        "  df[new_col] = df[new_col].apply(lambda x: x.split(','))\n",
        "\n",
        "  # Уникальных значений в списке оказалась слишком много это непомерно разширяет датасет.\n",
        "  # Поэтому в ручную были выбраны наиболее значимые. \n",
        "  parking_list = list(pd.Series(quant_class(df[new_col])).index)\n",
        "  parking_list = ['nan','attached garage','detached garage','carport','attached garage','2 spaces','4 spaces','off street',\n",
        "                '0 spaces','1 space','3 spaces','10 spaces','off street','2 spaces car garage','on street','driveway','6 spaces',\n",
        "                '8 spaces','5 spaces','7 spaces','9 spaces','10 spaces','11 spaces','12 spaces']\n",
        "\n",
        "  # Добавляем dummy на основе списка parking_list. \n",
        "  df_parking = create_dummies(df, new_col, parking_list)\n",
        "\n",
        "  return df"
      ],
      "metadata": {
        "id": "mWLAseuDYJ50"
      },
      "execution_count": null,
      "outputs": []
    },
    {
      "cell_type": "markdown",
      "source": [
        "#### parking"
      ],
      "metadata": {
        "id": "vNz_vhOZgnIb"
      }
    },
    {
      "cell_type": "code",
      "source": [
        "hm = col_parking(hm, 'parking', 'parking_' )"
      ],
      "metadata": {
        "id": "wg1trSGKeUcK"
      },
      "execution_count": null,
      "outputs": []
    },
    {
      "cell_type": "markdown",
      "metadata": {
        "id": "WA_Qa1CDlQcq"
      },
      "source": [
        "### lotsize"
      ]
    },
    {
      "cell_type": "markdown",
      "source": [
        "#### Функция"
      ],
      "metadata": {
        "id": "-RKlLU3OlT6L"
      }
    },
    {
      "cell_type": "code",
      "source": [
        "# Напишем небольшую функцию для изменения значений в акрах в футы.\n",
        "def acre_sqft(x):\n",
        "  if x < 130:\n",
        "    x *= 43560\n",
        "  return x\n",
        "\n",
        "\n",
        "def col_lotsize(df, col):\n",
        "  # Приведем строки к нижнему регистру.\n",
        "  df[col] = df[col].str.lower()\n",
        "\n",
        "  # Найдем строки где значение '1 sqft'\n",
        "  sqft_index = df[col][df[col].str.contains('1 sqft') == True].index\n",
        "\n",
        "  # Заполняем пропуски, применяем функцию, возвращаем nan, приводим к числовому виду\n",
        "  df[col].fillna('', inplace = True)\n",
        "\n",
        "  # Применяем функцию для форматирования строк, возвращаем nan, приводим к числовому виду\n",
        "  df[col] = df[col].apply(form_lotsize)\n",
        "\n",
        "  # Возвращаем nan. приводим к числовому виду\n",
        "  df[col] = df[col].apply(lambda x: x if x != '' else np.nan )\n",
        "\n",
        "  # Приводим к числовому виду\n",
        "  df[col] = df[col].astype(float)\n",
        "\n",
        "  \n",
        "  # Преобразуем 1 фут в 1000 так как 1 фут явно ошибка\n",
        "  for i in hm.index:\n",
        "    if i in sqft_index:\n",
        "      df[col].iloc[i] = 1000  \n",
        "  \n",
        "  # Применим функцию для изменения значений в акрах в футы.\n",
        "  df[col] = df[col].apply(acre_sqft)\n",
        "\n",
        "  return df"
      ],
      "metadata": {
        "id": "69vNrxUCgxxr"
      },
      "execution_count": null,
      "outputs": []
    },
    {
      "cell_type": "markdown",
      "source": [
        "#### lotsize"
      ],
      "metadata": {
        "id": "elauDQnUldRR"
      }
    },
    {
      "cell_type": "code",
      "source": [
        "hm = col_lotsize(hm, 'lotsize')"
      ],
      "metadata": {
        "id": "9b5qTU72kPeE"
      },
      "execution_count": null,
      "outputs": []
    },
    {
      "cell_type": "markdown",
      "metadata": {
        "id": "AJfNPh_eiXOi"
      },
      "source": [
        "### price_sqft\n"
      ]
    },
    {
      "cell_type": "code",
      "source": [
        "def col_price_sqft(df, col):\n",
        "  # Нижний регистр\n",
        "  df[col] = df[col].str.lower()\n",
        "\n",
        "  # Заполняем пропуски, применяем функцию, возвращаем nan, приводим к числовому виду\n",
        "  df[col].fillna('', inplace = True)\n",
        "  df[col] = df[col].apply(price_sqft)\n",
        "  df[col] = df[col].apply(lambda x: x if x != '' else np.nan )\n",
        "  df[col] = df[col].astype(float)\n",
        "\n",
        "  return df\n"
      ],
      "metadata": {
        "id": "fcNORFjFllB5"
      },
      "execution_count": null,
      "outputs": []
    },
    {
      "cell_type": "code",
      "execution_count": null,
      "metadata": {
        "id": "Aseco7RQimoR"
      },
      "outputs": [],
      "source": [
        "hm = col_price_sqft(hm, 'price_sqft')"
      ]
    },
    {
      "cell_type": "code",
      "execution_count": null,
      "metadata": {
        "id": "Aog8U410vVfn"
      },
      "outputs": [],
      "source": [
        "hm.head(10)"
      ]
    },
    {
      "cell_type": "markdown",
      "metadata": {
        "id": "B4eWC2ehI77P"
      },
      "source": [
        "#### Сохранение результата."
      ]
    },
    {
      "cell_type": "code",
      "execution_count": null,
      "metadata": {
        "id": "vkNtba4iJGU-"
      },
      "outputs": [],
      "source": [
        "hm.to_csv('/content/gdrive/MyDrive/Diplom_project/hm_form.csv')"
      ]
    },
    {
      "cell_type": "markdown",
      "metadata": {
        "id": "uRlUPn10qUtJ"
      },
      "source": [
        "## Загрузка датасета Schools"
      ]
    },
    {
      "cell_type": "code",
      "execution_count": null,
      "metadata": {
        "id": "hNs-AmFXqujn"
      },
      "outputs": [],
      "source": [
        "df_scools_1 = pd.read_csv('/content/gdrive/MyDrive/Diplom_project/scools_from_df_1.csv')\n",
        "df_scools_2 = pd.read_csv('/content/gdrive/MyDrive/Diplom_project/scools_from_df_2.csv')\n",
        "df_scools_3 = pd.read_csv('/content/gdrive/MyDrive/Diplom_project/scools_from_df_3.csv')\n",
        "df_scools_4 = pd.read_csv('/content/gdrive/MyDrive/Diplom_project/scools_from_df_4.csv')\n",
        "df_scools = pd.concat([df_scools_1, df_scools_2,df_scools_3,df_scools_4], axis = 0).reset_index().drop(['index','Unnamed: 0'], axis = 1)"
      ]
    },
    {
      "cell_type": "code",
      "execution_count": null,
      "metadata": {
        "id": "TW7L5eoqrz4H"
      },
      "outputs": [],
      "source": [
        "df_scools.columns = df_scools.columns.str.lower()\n",
        "df_scools.rename(columns={'data.distance':'data_distance', 'data.grades':'data_grades'}, inplace=True)"
      ]
    },
    {
      "cell_type": "code",
      "execution_count": null,
      "metadata": {
        "id": "iNYdK5qet9On"
      },
      "outputs": [],
      "source": [
        "#df_scools.rating = df_scools.rating.apply(lambda x: np.nan if x == '[]' else x)\n",
        "#df_scools.name = df_scools.name.apply(lambda x: np.nan if x == '[]' else x)\n",
        "#df_scools.data_distance = df_scools.data_distance.apply(lambda x: np.nan if (x == '[]') else x)\n",
        "#df_scools.data_grades = df_scools.data_grades.apply(lambda x: np.nan if x == '[]' else x)"
      ]
    },
    {
      "cell_type": "code",
      "execution_count": null,
      "metadata": {
        "colab": {
          "base_uri": "https://localhost:8080/"
        },
        "id": "6hkfCmqF5aWB",
        "outputId": "a9218461-7c32-4f8c-af3b-1e4b46f262de"
      },
      "outputs": [
        {
          "output_type": "execute_result",
          "data": {
            "text/plain": [
              "                                        rating  \\\n",
              "0  ['4', '4', '7', 'NR', '4', '7', 'NR', 'NR']   \n",
              "1                     ['4/10', 'None', '4/10']   \n",
              "2                     ['8/10', '4/10', '8/10']   \n",
              "3            ['9/10', '9/10', '10/10', '9/10']   \n",
              "4                     ['4/10', '5/10', '5/10']   \n",
              "5                                           []   \n",
              "6                        ['3', '3', '1', 'NR']   \n",
              "7                              ['4', '2', '2']   \n",
              "8              ['2', '2', '4', '7', '4', 'NR']   \n",
              "9                     ['4/10', '3/10', '2/10']   \n",
              "\n",
              "                                                name  \\\n",
              "0  ['Southern Pines Elementary School', 'Southern...   \n",
              "1  ['East Valley High School&Extension', 'Eastval...   \n",
              "2  ['Paul Revere Middle School', 'Brentwood Scien...   \n",
              "3  ['Mcculloch Intermediate School', 'Bradfield E...   \n",
              "4  ['Southwest Middle School', 'Bayside High Scho...   \n",
              "5                                                 []   \n",
              "6  ['Palmetto Elementary School', 'Haines City Se...   \n",
              "7  ['Crump Elementary School', 'Hickory Ridge Mid...   \n",
              "8  ['Roosevelt Elementary School', 'Lincoln Inter...   \n",
              "9  ['Edgewood Elementary School', 'Landrum Middle...   \n",
              "\n",
              "                                       data_distance  \\\n",
              "0  ['2.7 mi', '3.6 mi', '5.1 mi', '4.0 mi', '10.5...   \n",
              "1                     ['1.65mi', '1.32mi', '1.01mi']   \n",
              "2                     ['1.19mi', '2.06mi', '2.63mi']   \n",
              "3            ['1.05mi', '0.1mi', '1.05mi', '0.81mi']   \n",
              "4                     ['5.96mi', '3.25mi', '3.03mi']   \n",
              "5                                                 []   \n",
              "6           ['0.8 mi', '8.3 mi', '4.2 mi', '2.0 mi']   \n",
              "7                     ['0.7 mi', '0.4 mi', '2.2 mi']   \n",
              "8  ['5.6 mi', '5.6 mi', '6.8 mi', '6.5 mi', '6.8 ...   \n",
              "9                     ['0.7 mi', '0.6 mi', '1.9 mi']   \n",
              "\n",
              "                                         data_grades  \n",
              "0  ['3–5', '6–8', '9–12', 'PK–2', '6–8', '9–12', ...  \n",
              "1                            ['9-12', '3-8', 'PK-8']  \n",
              "2                             ['6-8', 'K-5', '9-12']  \n",
              "3                     ['5-6', 'PK-4', '7-8', '9-12']  \n",
              "4                            ['7-8', '9-12', 'PK-6']  \n",
              "5                                                 []  \n",
              "6  ['Preschool to 4', 'Preschool to 12', '5 to 8'...  \n",
              "7            ['Preschool to 5', '6 to 8', '9 to 12']  \n",
              "8     ['PK–4', '5–6', '9–12', 'PK–4', '7–8', '9–12']  \n",
              "9                            ['PK-5', '5-8', '9-12']  "
            ],
            "text/html": [
              "\n",
              "  <div id=\"df-f2288a98-4a2f-40a8-a1b8-a4aafc04207b\">\n",
              "    <div class=\"colab-df-container\">\n",
              "      <div>\n",
              "<style scoped>\n",
              "    .dataframe tbody tr th:only-of-type {\n",
              "        vertical-align: middle;\n",
              "    }\n",
              "\n",
              "    .dataframe tbody tr th {\n",
              "        vertical-align: top;\n",
              "    }\n",
              "\n",
              "    .dataframe thead th {\n",
              "        text-align: right;\n",
              "    }\n",
              "</style>\n",
              "<table border=\"1\" class=\"dataframe\">\n",
              "  <thead>\n",
              "    <tr style=\"text-align: right;\">\n",
              "      <th></th>\n",
              "      <th>rating</th>\n",
              "      <th>name</th>\n",
              "      <th>data_distance</th>\n",
              "      <th>data_grades</th>\n",
              "    </tr>\n",
              "  </thead>\n",
              "  <tbody>\n",
              "    <tr>\n",
              "      <th>0</th>\n",
              "      <td>['4', '4', '7', 'NR', '4', '7', 'NR', 'NR']</td>\n",
              "      <td>['Southern Pines Elementary School', 'Southern...</td>\n",
              "      <td>['2.7 mi', '3.6 mi', '5.1 mi', '4.0 mi', '10.5...</td>\n",
              "      <td>['3–5', '6–8', '9–12', 'PK–2', '6–8', '9–12', ...</td>\n",
              "    </tr>\n",
              "    <tr>\n",
              "      <th>1</th>\n",
              "      <td>['4/10', 'None', '4/10']</td>\n",
              "      <td>['East Valley High School&amp;Extension', 'Eastval...</td>\n",
              "      <td>['1.65mi', '1.32mi', '1.01mi']</td>\n",
              "      <td>['9-12', '3-8', 'PK-8']</td>\n",
              "    </tr>\n",
              "    <tr>\n",
              "      <th>2</th>\n",
              "      <td>['8/10', '4/10', '8/10']</td>\n",
              "      <td>['Paul Revere Middle School', 'Brentwood Scien...</td>\n",
              "      <td>['1.19mi', '2.06mi', '2.63mi']</td>\n",
              "      <td>['6-8', 'K-5', '9-12']</td>\n",
              "    </tr>\n",
              "    <tr>\n",
              "      <th>3</th>\n",
              "      <td>['9/10', '9/10', '10/10', '9/10']</td>\n",
              "      <td>['Mcculloch Intermediate School', 'Bradfield E...</td>\n",
              "      <td>['1.05mi', '0.1mi', '1.05mi', '0.81mi']</td>\n",
              "      <td>['5-6', 'PK-4', '7-8', '9-12']</td>\n",
              "    </tr>\n",
              "    <tr>\n",
              "      <th>4</th>\n",
              "      <td>['4/10', '5/10', '5/10']</td>\n",
              "      <td>['Southwest Middle School', 'Bayside High Scho...</td>\n",
              "      <td>['5.96mi', '3.25mi', '3.03mi']</td>\n",
              "      <td>['7-8', '9-12', 'PK-6']</td>\n",
              "    </tr>\n",
              "    <tr>\n",
              "      <th>5</th>\n",
              "      <td>[]</td>\n",
              "      <td>[]</td>\n",
              "      <td>[]</td>\n",
              "      <td>[]</td>\n",
              "    </tr>\n",
              "    <tr>\n",
              "      <th>6</th>\n",
              "      <td>['3', '3', '1', 'NR']</td>\n",
              "      <td>['Palmetto Elementary School', 'Haines City Se...</td>\n",
              "      <td>['0.8 mi', '8.3 mi', '4.2 mi', '2.0 mi']</td>\n",
              "      <td>['Preschool to 4', 'Preschool to 12', '5 to 8'...</td>\n",
              "    </tr>\n",
              "    <tr>\n",
              "      <th>7</th>\n",
              "      <td>['4', '2', '2']</td>\n",
              "      <td>['Crump Elementary School', 'Hickory Ridge Mid...</td>\n",
              "      <td>['0.7 mi', '0.4 mi', '2.2 mi']</td>\n",
              "      <td>['Preschool to 5', '6 to 8', '9 to 12']</td>\n",
              "    </tr>\n",
              "    <tr>\n",
              "      <th>8</th>\n",
              "      <td>['2', '2', '4', '7', '4', 'NR']</td>\n",
              "      <td>['Roosevelt Elementary School', 'Lincoln Inter...</td>\n",
              "      <td>['5.6 mi', '5.6 mi', '6.8 mi', '6.5 mi', '6.8 ...</td>\n",
              "      <td>['PK–4', '5–6', '9–12', 'PK–4', '7–8', '9–12']</td>\n",
              "    </tr>\n",
              "    <tr>\n",
              "      <th>9</th>\n",
              "      <td>['4/10', '3/10', '2/10']</td>\n",
              "      <td>['Edgewood Elementary School', 'Landrum Middle...</td>\n",
              "      <td>['0.7 mi', '0.6 mi', '1.9 mi']</td>\n",
              "      <td>['PK-5', '5-8', '9-12']</td>\n",
              "    </tr>\n",
              "  </tbody>\n",
              "</table>\n",
              "</div>\n",
              "      <button class=\"colab-df-convert\" onclick=\"convertToInteractive('df-f2288a98-4a2f-40a8-a1b8-a4aafc04207b')\"\n",
              "              title=\"Convert this dataframe to an interactive table.\"\n",
              "              style=\"display:none;\">\n",
              "        \n",
              "  <svg xmlns=\"http://www.w3.org/2000/svg\" height=\"24px\"viewBox=\"0 0 24 24\"\n",
              "       width=\"24px\">\n",
              "    <path d=\"M0 0h24v24H0V0z\" fill=\"none\"/>\n",
              "    <path d=\"M18.56 5.44l.94 2.06.94-2.06 2.06-.94-2.06-.94-.94-2.06-.94 2.06-2.06.94zm-11 1L8.5 8.5l.94-2.06 2.06-.94-2.06-.94L8.5 2.5l-.94 2.06-2.06.94zm10 10l.94 2.06.94-2.06 2.06-.94-2.06-.94-.94-2.06-.94 2.06-2.06.94z\"/><path d=\"M17.41 7.96l-1.37-1.37c-.4-.4-.92-.59-1.43-.59-.52 0-1.04.2-1.43.59L10.3 9.45l-7.72 7.72c-.78.78-.78 2.05 0 2.83L4 21.41c.39.39.9.59 1.41.59.51 0 1.02-.2 1.41-.59l7.78-7.78 2.81-2.81c.8-.78.8-2.07 0-2.86zM5.41 20L4 18.59l7.72-7.72 1.47 1.35L5.41 20z\"/>\n",
              "  </svg>\n",
              "      </button>\n",
              "      \n",
              "  <style>\n",
              "    .colab-df-container {\n",
              "      display:flex;\n",
              "      flex-wrap:wrap;\n",
              "      gap: 12px;\n",
              "    }\n",
              "\n",
              "    .colab-df-convert {\n",
              "      background-color: #E8F0FE;\n",
              "      border: none;\n",
              "      border-radius: 50%;\n",
              "      cursor: pointer;\n",
              "      display: none;\n",
              "      fill: #1967D2;\n",
              "      height: 32px;\n",
              "      padding: 0 0 0 0;\n",
              "      width: 32px;\n",
              "    }\n",
              "\n",
              "    .colab-df-convert:hover {\n",
              "      background-color: #E2EBFA;\n",
              "      box-shadow: 0px 1px 2px rgba(60, 64, 67, 0.3), 0px 1px 3px 1px rgba(60, 64, 67, 0.15);\n",
              "      fill: #174EA6;\n",
              "    }\n",
              "\n",
              "    [theme=dark] .colab-df-convert {\n",
              "      background-color: #3B4455;\n",
              "      fill: #D2E3FC;\n",
              "    }\n",
              "\n",
              "    [theme=dark] .colab-df-convert:hover {\n",
              "      background-color: #434B5C;\n",
              "      box-shadow: 0px 1px 3px 1px rgba(0, 0, 0, 0.15);\n",
              "      filter: drop-shadow(0px 1px 2px rgba(0, 0, 0, 0.3));\n",
              "      fill: #FFFFFF;\n",
              "    }\n",
              "  </style>\n",
              "\n",
              "      <script>\n",
              "        const buttonEl =\n",
              "          document.querySelector('#df-f2288a98-4a2f-40a8-a1b8-a4aafc04207b button.colab-df-convert');\n",
              "        buttonEl.style.display =\n",
              "          google.colab.kernel.accessAllowed ? 'block' : 'none';\n",
              "\n",
              "        async function convertToInteractive(key) {\n",
              "          const element = document.querySelector('#df-f2288a98-4a2f-40a8-a1b8-a4aafc04207b');\n",
              "          const dataTable =\n",
              "            await google.colab.kernel.invokeFunction('convertToInteractive',\n",
              "                                                     [key], {});\n",
              "          if (!dataTable) return;\n",
              "\n",
              "          const docLinkHtml = 'Like what you see? Visit the ' +\n",
              "            '<a target=\"_blank\" href=https://colab.research.google.com/notebooks/data_table.ipynb>data table notebook</a>'\n",
              "            + ' to learn more about interactive tables.';\n",
              "          element.innerHTML = '';\n",
              "          dataTable['output_type'] = 'display_data';\n",
              "          await google.colab.output.renderOutput(dataTable, element);\n",
              "          const docLink = document.createElement('div');\n",
              "          docLink.innerHTML = docLinkHtml;\n",
              "          element.appendChild(docLink);\n",
              "        }\n",
              "      </script>\n",
              "    </div>\n",
              "  </div>\n",
              "  "
            ]
          },
          "metadata": {},
          "execution_count": 36
        }
      ],
      "source": [
        "df_scools.head(10)"
      ]
    },
    {
      "cell_type": "markdown",
      "metadata": {
        "id": "ufpGi3JW5MiQ"
      },
      "source": [
        "#### rating"
      ]
    },
    {
      "cell_type": "code",
      "execution_count": null,
      "metadata": {
        "id": "xOGSoFK3x6RF"
      },
      "outputs": [],
      "source": [
        "df_scools['rating'] = df_scools['rating'].apply(price_rating)"
      ]
    },
    {
      "cell_type": "markdown",
      "metadata": {
        "id": "BXUsmM2j5R86"
      },
      "source": [
        "#### name"
      ]
    },
    {
      "cell_type": "code",
      "execution_count": null,
      "metadata": {
        "colab": {
          "base_uri": "https://localhost:8080/"
        },
        "id": "shCLDQmTRShH",
        "outputId": "e707732c-ff00-4da6-c0ad-9e9c30ef2a71"
      },
      "outputs": [
        {
          "output_type": "execute_result",
          "data": {
            "text/plain": [
              "\"['Southern Pines Elementary School', 'Southern Middle School', 'Pinecrest High School', 'Southern Pines Primary School', 'Crai Creek Middle School', 'Union Pines High School', 'Episcopal Day Private School', 'Calvary Christian Private School']\""
            ],
            "application/vnd.google.colaboratory.intrinsic+json": {
              "type": "string"
            }
          },
          "metadata": {},
          "execution_count": 38
        }
      ],
      "source": [
        "df_scools.name.iloc[0]"
      ]
    },
    {
      "cell_type": "code",
      "execution_count": null,
      "metadata": {
        "id": "alCQTy0jrR41"
      },
      "outputs": [],
      "source": [
        "# Функция для приведения столбца sqft к числовому виду.\n",
        "def name(x):\n",
        "  \n",
        "  x = x.strip('[]')\n",
        "  x = re.sub(\"'\",\"\",x)\n",
        "  x = x.split(',')\n",
        "\n",
        "  return x"
      ]
    },
    {
      "cell_type": "code",
      "execution_count": null,
      "metadata": {
        "id": "pPDFtiGD9CHB"
      },
      "outputs": [],
      "source": [
        "df_scools.name = df_scools.name.apply(name)"
      ]
    },
    {
      "cell_type": "code",
      "execution_count": null,
      "metadata": {
        "colab": {
          "base_uri": "https://localhost:8080/"
        },
        "id": "z_8c-KYx5l6T",
        "outputId": "0eb9df16-8208-4c78-a475-a0c2874c84ef"
      },
      "outputs": [
        {
          "output_type": "execute_result",
          "data": {
            "text/plain": [
              "list"
            ]
          },
          "metadata": {},
          "execution_count": 41
        }
      ],
      "source": [
        "type(df_scools.name.iloc[0])"
      ]
    },
    {
      "cell_type": "markdown",
      "metadata": {
        "id": "pOlnPoIpQq_3"
      },
      "source": [
        "#### data_distance"
      ]
    },
    {
      "cell_type": "code",
      "execution_count": null,
      "metadata": {
        "colab": {
          "base_uri": "https://localhost:8080/"
        },
        "id": "1vPRiVHWRFPG",
        "outputId": "0c4d9f0a-2db0-408c-cff2-6cee132ad0ae"
      },
      "outputs": [
        {
          "output_type": "execute_result",
          "data": {
            "text/plain": [
              "\"['2.7 mi', '3.6 mi', '5.1 mi', '4.0 mi', '10.5 mi', '12.6 mi', '2.7 mi', '3.1 mi']\""
            ],
            "application/vnd.google.colaboratory.intrinsic+json": {
              "type": "string"
            }
          },
          "metadata": {},
          "execution_count": 42
        }
      ],
      "source": [
        "df_scools.data_distance.iloc[0]"
      ]
    },
    {
      "cell_type": "code",
      "execution_count": null,
      "metadata": {
        "id": "hve5I2BLRiSe"
      },
      "outputs": [],
      "source": [
        "# Функция для приведения столбца sqft к числовому виду.\n",
        "def data_distance(x):\n",
        "  \n",
        "  x = x.strip('[]')\n",
        "  x = re.sub(\"'\",\"\",x)\n",
        "  x = re.sub(\" mi\",\"\",x)\n",
        "  x = re.sub(\"mi\",\"\",x)\n",
        "  x = re.sub(\" \",\"\",x)\n",
        "  x = x.split(',')\n",
        "\n",
        "  return x\n",
        "\n",
        "\n",
        "def data_distance_num(x):\n",
        "  \n",
        " for i in x:\n",
        "   i = float(i)\n",
        "\n",
        " return x "
      ]
    },
    {
      "cell_type": "code",
      "execution_count": null,
      "metadata": {
        "id": "4zsDN1U5Rib2"
      },
      "outputs": [],
      "source": [
        "df_scools.data_distance = df_scools.data_distance.apply(data_distance)"
      ]
    },
    {
      "cell_type": "code",
      "execution_count": null,
      "metadata": {
        "colab": {
          "base_uri": "https://localhost:8080/"
        },
        "id": "Hf-eL5ZDRy0G",
        "outputId": "7423d716-1c03-4cee-87ad-1b91a57360ee"
      },
      "outputs": [
        {
          "output_type": "execute_result",
          "data": {
            "text/plain": [
              "0    [2.7, 3.6, 5.1, 4.0, 10.5, 12.6, 2.7, 3.1]\n",
              "1                            [1.65, 1.32, 1.01]\n",
              "2                            [1.19, 2.06, 2.63]\n",
              "3                       [1.05, 0.1, 1.05, 0.81]\n",
              "4                            [5.96, 3.25, 3.03]\n",
              "5                                            []\n",
              "Name: data_distance, dtype: object"
            ]
          },
          "metadata": {},
          "execution_count": 45
        }
      ],
      "source": [
        "df_scools.data_distance.head(6)"
      ]
    },
    {
      "cell_type": "markdown",
      "metadata": {
        "id": "3tTa5R-at1OG"
      },
      "source": [
        "#### data_grades"
      ]
    },
    {
      "cell_type": "code",
      "source": [
        "df_scools.data_grades.iloc[11]"
      ],
      "metadata": {
        "colab": {
          "base_uri": "https://localhost:8080/"
        },
        "id": "3Jaj5lbo55rP",
        "outputId": "a6083504-40c4-4beb-fe67-ff8a6a159542"
      },
      "execution_count": null,
      "outputs": [
        {
          "output_type": "execute_result",
          "data": {
            "text/plain": [
              "\"['Preschool to 5', '6 to 8', '6 to 8', '9 to 12', '9 to 12']\""
            ],
            "application/vnd.google.colaboratory.intrinsic+json": {
              "type": "string"
            }
          },
          "metadata": {},
          "execution_count": 46
        }
      ]
    },
    {
      "cell_type": "code",
      "execution_count": null,
      "metadata": {
        "id": "55iyBYYOt_2r"
      },
      "outputs": [],
      "source": [
        "# Функция для приведения столбца data_grades к числовому виду.\n",
        "def data_grades(x):\n",
        "  \n",
        "  x = x.strip('[]')\n",
        "\n",
        "  x = re.sub(\"Preschool to \",\"PK–\",x)\n",
        "  x = re.sub(\" to \",\"–\",x)\n",
        "  x = re.sub(\"-\",\"–\",x)\n",
        "  x = re.sub(\" \",\"\",x)\n",
        "\n",
        "  x = x.split(',')\n",
        "\n",
        "  return x\n"
      ]
    },
    {
      "cell_type": "code",
      "source": [
        "def col_data_grades(df, col):\n",
        "  # Примеим первую функцию.\n",
        "  df[col] = df[col].apply(data_grades)\n",
        "  # Заменим пустые значения на nan.\n",
        "  df[col] = df[col].apply(lambda x: np.nan if x==[''] else x)\n",
        "  df[col] = df[col].apply(lambda x: np.nan if x=='[]' else x)\n",
        "  # Выделим nan в отдельную категорию.\n",
        "  df.data_grades.fillna('nan_data_grades',inplace = True)\n",
        "  # В столбце остались еще необработаные строки \n",
        "  df[col] = df[col].apply(lambda x: str(x))\n",
        "  df[col] = df[col].apply(lambda x: re.sub(', ',\",\",x))\n",
        "  df[col] = df[col].apply(lambda x: re.sub(\"'\",\"\",x))\n",
        "  df[col] = df[col].apply(lambda x: re.sub(\"\\[\",\"\",x))\n",
        "  df[col] = df[col].apply(lambda x: re.sub(\"\\]\",\"\",x))\n",
        "  df[col] = df[col].apply(lambda x: re.sub('\"NA\"',\"nan_data_grades\",x))\n",
        "  df[col] = df[col].apply(lambda x: re.sub('\"N/A\"',\"nan_data_grades\",x))\n",
        "  df[col] = df[col].apply(lambda x: re.sub('\"Pk–5\"',\"PK–5\",x))\n",
        "  df[col] = df[col].apply(lambda x: re.sub('\"None\"',\"nan_data_grades\",x))\n",
        "  df[col] = df[col].apply(lambda x: re.sub('\"','',x))\n",
        "  df[col] = df[col].apply(lambda x: '\"nan_data_grades\"' if x == [] else x)\n",
        "  # Создаем из полуdfстрок списки категорий.\n",
        "  df[col] = df[col].apply(lambda x: x.split(','))\n",
        "  # Создаем dummy признаки из получившихся категорий \n",
        "  data_grades_list = list(pd.Series(quant_class(df[col])).index)\n",
        "  df_data_grades = create_dummies(df, col, data_grades_list)\n",
        "\n",
        "  return df"
      ],
      "metadata": {
        "id": "yw3hjpf85_Lm"
      },
      "execution_count": null,
      "outputs": []
    },
    {
      "cell_type": "code",
      "source": [
        "df_scools = col_data_grades(df_scools, 'data_grades')"
      ],
      "metadata": {
        "colab": {
          "base_uri": "https://localhost:8080/"
        },
        "id": "mBHitfWh9ujX",
        "outputId": "afee263b-bdf2-4453-a72c-ac6f08853571"
      },
      "execution_count": null,
      "outputs": [
        {
          "output_type": "stream",
          "name": "stderr",
          "text": [
            "/usr/local/lib/python3.7/dist-packages/ipykernel_launcher.py:38: PerformanceWarning: DataFrame is highly fragmented.  This is usually the result of calling `frame.insert` many times, which has poor performance.  Consider joining all columns at once using pd.concat(axis=1) instead.  To get a de-fragmented frame, use `newframe = frame.copy()`\n"
          ]
        }
      ]
    },
    {
      "cell_type": "code",
      "execution_count": null,
      "metadata": {
        "colab": {
          "base_uri": "https://localhost:8080/"
        },
        "id": "PdRChNPBukSs",
        "outputId": "1f0d4373-e970-4e4b-ebb7-f267616330f6"
      },
      "outputs": [
        {
          "output_type": "execute_result",
          "data": {
            "text/plain": [
              "0    [3–5, 6–8, 9–12, PK–2, 6–8, 9–12, PK–5, K–12]\n",
              "1                                [9–12, 3–8, PK–8]\n",
              "2                                 [6–8, K–5, 9–12]\n",
              "3                           [5–6, PK–4, 7–8, 9–12]\n",
              "4                                [7–8, 9–12, PK–6]\n",
              "5                                [nan_data_grades]\n",
              "Name: data_grades, dtype: object"
            ]
          },
          "metadata": {},
          "execution_count": 52
        }
      ],
      "source": [
        "df_scools.data_grades.head(6)"
      ]
    },
    {
      "cell_type": "code",
      "source": [
        "df_scools.info()"
      ],
      "metadata": {
        "colab": {
          "base_uri": "https://localhost:8080/"
        },
        "id": "gMa6665Hy67x",
        "outputId": "1147dd42-75f7-4213-8c21-ffac3dd3254e"
      },
      "execution_count": null,
      "outputs": [
        {
          "output_type": "stream",
          "name": "stdout",
          "text": [
            "<class 'pandas.core.frame.DataFrame'>\n",
            "RangeIndex: 377185 entries, 0 to 377184\n",
            "Columns: 119 entries, rating to 2\n",
            "dtypes: int64(115), object(4)\n",
            "memory usage: 342.4+ MB\n"
          ]
        }
      ]
    },
    {
      "cell_type": "markdown",
      "metadata": {
        "id": "e0wdHS0cJfYn"
      },
      "source": [
        "#### Сохранение результата."
      ]
    },
    {
      "cell_type": "code",
      "execution_count": null,
      "metadata": {
        "id": "uT6mhObxJr5-"
      },
      "outputs": [],
      "source": [
        "df_scools.to_csv('/content/gdrive/MyDrive/Diplom_project/df_scools.csv')"
      ]
    },
    {
      "cell_type": "markdown",
      "metadata": {
        "id": "V6oQHHo3KKI4"
      },
      "source": [
        "# Загрузки датасетов"
      ]
    },
    {
      "cell_type": "code",
      "execution_count": 42,
      "metadata": {
        "id": "tl0fKEN-KGBA",
        "colab": {
          "base_uri": "https://localhost:8080/"
        },
        "outputId": "a9d870ff-ba15-40d9-a1e4-3c2cbc2c66ec"
      },
      "outputs": [
        {
          "output_type": "stream",
          "name": "stderr",
          "text": [
            "/usr/local/lib/python3.7/dist-packages/IPython/core/interactiveshell.py:2882: DtypeWarning: Columns (10) have mixed types.Specify dtype option on import or set low_memory=False.\n",
            "  exec(code_obj, self.user_global_ns, self.user_ns)\n"
          ]
        }
      ],
      "source": [
        "df = pd.read_csv('/content/gdrive/MyDrive/Diplom_project/df_func_map.csv').drop(['Unnamed: 0'], axis = 1)\n",
        "hm = pd.read_csv('/content/gdrive/MyDrive/Diplom_project/hm_form.csv')\n",
        "df_scools = pd.read_csv('/content/gdrive/MyDrive/Diplom_project/df_scools.csv')"
      ]
    },
    {
      "cell_type": "code",
      "execution_count": 43,
      "metadata": {
        "id": "uUd1EAo3EKY3"
      },
      "outputs": [],
      "source": [
        "df = pd.concat([df, hm, df_scools], axis = 1).reset_index().drop(['Unnamed: 0','index'], axis = 1)"
      ]
    },
    {
      "cell_type": "code",
      "execution_count": 44,
      "metadata": {
        "id": "2GaHeVyYNsGV"
      },
      "outputs": [],
      "source": [
        "df.dropna(subset = ['target'],inplace = True)"
      ]
    },
    {
      "cell_type": "code",
      "execution_count": 45,
      "metadata": {
        "id": "a64EogCHGlDa"
      },
      "outputs": [],
      "source": [
        "df.drop(['homeFacts','schools'], inplace = True,axis = 1)"
      ]
    },
    {
      "cell_type": "code",
      "execution_count": 46,
      "metadata": {
        "colab": {
          "base_uri": "https://localhost:8080/",
          "height": 0
        },
        "id": "i4EgI8HWOHYw",
        "outputId": "a0d30015-dfa9-4283-add4-caab0cf38c29"
      },
      "outputs": [
        {
          "output_type": "execute_result",
          "data": {
            "text/plain": [
              "   status        propertyType          street  baths     fireplace  \\\n",
              "0  active  ['housess_family']  240 Heather Ln    NaN  ['gas logs']   \n",
              "\n",
              "             city    sqft zipcode  beds state  ...  8–11  5–9  4–10  3  8–10  \\\n",
              "0  southern pines  2900.0   28387   4.0    NC  ...     0    0     0  0     0   \n",
              "\n",
              "   7–11  2–11  1  10–11  2  \n",
              "0     0     0  0      0  0  \n",
              "\n",
              "[1 rows x 425 columns]"
            ],
            "text/html": [
              "\n",
              "  <div id=\"df-6f37d608-1ce5-495f-b4df-72e51684476c\">\n",
              "    <div class=\"colab-df-container\">\n",
              "      <div>\n",
              "<style scoped>\n",
              "    .dataframe tbody tr th:only-of-type {\n",
              "        vertical-align: middle;\n",
              "    }\n",
              "\n",
              "    .dataframe tbody tr th {\n",
              "        vertical-align: top;\n",
              "    }\n",
              "\n",
              "    .dataframe thead th {\n",
              "        text-align: right;\n",
              "    }\n",
              "</style>\n",
              "<table border=\"1\" class=\"dataframe\">\n",
              "  <thead>\n",
              "    <tr style=\"text-align: right;\">\n",
              "      <th></th>\n",
              "      <th>status</th>\n",
              "      <th>propertyType</th>\n",
              "      <th>street</th>\n",
              "      <th>baths</th>\n",
              "      <th>fireplace</th>\n",
              "      <th>city</th>\n",
              "      <th>sqft</th>\n",
              "      <th>zipcode</th>\n",
              "      <th>beds</th>\n",
              "      <th>state</th>\n",
              "      <th>...</th>\n",
              "      <th>8–11</th>\n",
              "      <th>5–9</th>\n",
              "      <th>4–10</th>\n",
              "      <th>3</th>\n",
              "      <th>8–10</th>\n",
              "      <th>7–11</th>\n",
              "      <th>2–11</th>\n",
              "      <th>1</th>\n",
              "      <th>10–11</th>\n",
              "      <th>2</th>\n",
              "    </tr>\n",
              "  </thead>\n",
              "  <tbody>\n",
              "    <tr>\n",
              "      <th>0</th>\n",
              "      <td>active</td>\n",
              "      <td>['housess_family']</td>\n",
              "      <td>240 Heather Ln</td>\n",
              "      <td>NaN</td>\n",
              "      <td>['gas logs']</td>\n",
              "      <td>southern pines</td>\n",
              "      <td>2900.0</td>\n",
              "      <td>28387</td>\n",
              "      <td>4.0</td>\n",
              "      <td>NC</td>\n",
              "      <td>...</td>\n",
              "      <td>0</td>\n",
              "      <td>0</td>\n",
              "      <td>0</td>\n",
              "      <td>0</td>\n",
              "      <td>0</td>\n",
              "      <td>0</td>\n",
              "      <td>0</td>\n",
              "      <td>0</td>\n",
              "      <td>0</td>\n",
              "      <td>0</td>\n",
              "    </tr>\n",
              "  </tbody>\n",
              "</table>\n",
              "<p>1 rows × 425 columns</p>\n",
              "</div>\n",
              "      <button class=\"colab-df-convert\" onclick=\"convertToInteractive('df-6f37d608-1ce5-495f-b4df-72e51684476c')\"\n",
              "              title=\"Convert this dataframe to an interactive table.\"\n",
              "              style=\"display:none;\">\n",
              "        \n",
              "  <svg xmlns=\"http://www.w3.org/2000/svg\" height=\"24px\"viewBox=\"0 0 24 24\"\n",
              "       width=\"24px\">\n",
              "    <path d=\"M0 0h24v24H0V0z\" fill=\"none\"/>\n",
              "    <path d=\"M18.56 5.44l.94 2.06.94-2.06 2.06-.94-2.06-.94-.94-2.06-.94 2.06-2.06.94zm-11 1L8.5 8.5l.94-2.06 2.06-.94-2.06-.94L8.5 2.5l-.94 2.06-2.06.94zm10 10l.94 2.06.94-2.06 2.06-.94-2.06-.94-.94-2.06-.94 2.06-2.06.94z\"/><path d=\"M17.41 7.96l-1.37-1.37c-.4-.4-.92-.59-1.43-.59-.52 0-1.04.2-1.43.59L10.3 9.45l-7.72 7.72c-.78.78-.78 2.05 0 2.83L4 21.41c.39.39.9.59 1.41.59.51 0 1.02-.2 1.41-.59l7.78-7.78 2.81-2.81c.8-.78.8-2.07 0-2.86zM5.41 20L4 18.59l7.72-7.72 1.47 1.35L5.41 20z\"/>\n",
              "  </svg>\n",
              "      </button>\n",
              "      \n",
              "  <style>\n",
              "    .colab-df-container {\n",
              "      display:flex;\n",
              "      flex-wrap:wrap;\n",
              "      gap: 12px;\n",
              "    }\n",
              "\n",
              "    .colab-df-convert {\n",
              "      background-color: #E8F0FE;\n",
              "      border: none;\n",
              "      border-radius: 50%;\n",
              "      cursor: pointer;\n",
              "      display: none;\n",
              "      fill: #1967D2;\n",
              "      height: 32px;\n",
              "      padding: 0 0 0 0;\n",
              "      width: 32px;\n",
              "    }\n",
              "\n",
              "    .colab-df-convert:hover {\n",
              "      background-color: #E2EBFA;\n",
              "      box-shadow: 0px 1px 2px rgba(60, 64, 67, 0.3), 0px 1px 3px 1px rgba(60, 64, 67, 0.15);\n",
              "      fill: #174EA6;\n",
              "    }\n",
              "\n",
              "    [theme=dark] .colab-df-convert {\n",
              "      background-color: #3B4455;\n",
              "      fill: #D2E3FC;\n",
              "    }\n",
              "\n",
              "    [theme=dark] .colab-df-convert:hover {\n",
              "      background-color: #434B5C;\n",
              "      box-shadow: 0px 1px 3px 1px rgba(0, 0, 0, 0.15);\n",
              "      filter: drop-shadow(0px 1px 2px rgba(0, 0, 0, 0.3));\n",
              "      fill: #FFFFFF;\n",
              "    }\n",
              "  </style>\n",
              "\n",
              "      <script>\n",
              "        const buttonEl =\n",
              "          document.querySelector('#df-6f37d608-1ce5-495f-b4df-72e51684476c button.colab-df-convert');\n",
              "        buttonEl.style.display =\n",
              "          google.colab.kernel.accessAllowed ? 'block' : 'none';\n",
              "\n",
              "        async function convertToInteractive(key) {\n",
              "          const element = document.querySelector('#df-6f37d608-1ce5-495f-b4df-72e51684476c');\n",
              "          const dataTable =\n",
              "            await google.colab.kernel.invokeFunction('convertToInteractive',\n",
              "                                                     [key], {});\n",
              "          if (!dataTable) return;\n",
              "\n",
              "          const docLinkHtml = 'Like what you see? Visit the ' +\n",
              "            '<a target=\"_blank\" href=https://colab.research.google.com/notebooks/data_table.ipynb>data table notebook</a>'\n",
              "            + ' to learn more about interactive tables.';\n",
              "          element.innerHTML = '';\n",
              "          dataTable['output_type'] = 'display_data';\n",
              "          await google.colab.output.renderOutput(dataTable, element);\n",
              "          const docLink = document.createElement('div');\n",
              "          docLink.innerHTML = docLinkHtml;\n",
              "          element.appendChild(docLink);\n",
              "        }\n",
              "      </script>\n",
              "    </div>\n",
              "  </div>\n",
              "  "
            ]
          },
          "metadata": {},
          "execution_count": 46
        }
      ],
      "source": [
        "df.head(1)"
      ]
    },
    {
      "cell_type": "code",
      "source": [
        "df.info()"
      ],
      "metadata": {
        "colab": {
          "base_uri": "https://localhost:8080/"
        },
        "id": "QLAYEbn20-5G",
        "outputId": "9ae32f4b-41db-4319-d57d-039fc673ddbf"
      },
      "execution_count": 47,
      "outputs": [
        {
          "output_type": "stream",
          "name": "stdout",
          "text": [
            "<class 'pandas.core.frame.DataFrame'>\n",
            "Int64Index: 374704 entries, 0 to 374703\n",
            "Columns: 425 entries, status to 2\n",
            "dtypes: float64(294), int64(115), object(16)\n",
            "memory usage: 1.2+ GB\n"
          ]
        }
      ]
    },
    {
      "cell_type": "markdown",
      "source": [
        ""
      ],
      "metadata": {
        "id": "xLnf_XUzTASY"
      }
    },
    {
      "cell_type": "markdown",
      "metadata": {
        "id": "tvF-Ev1hTC9k"
      },
      "source": [
        "# Feature engineering "
      ]
    },
    {
      "cell_type": "markdown",
      "metadata": {
        "id": "0xYDnHOLTLja"
      },
      "source": [
        "## rating"
      ]
    },
    {
      "cell_type": "code",
      "execution_count": 48,
      "metadata": {
        "id": "1qIiGIaOTLjb"
      },
      "outputs": [],
      "source": [
        "import ast\n",
        "# Преобразуем значения в списки\n",
        "rating = df[\"rating\"]\n",
        "rating = rating.apply(ast.literal_eval)"
      ]
    },
    {
      "cell_type": "code",
      "execution_count": 49,
      "metadata": {
        "id": "l9-_5ygUTLjb"
      },
      "outputs": [],
      "source": [
        "# Функция для преобразования значений списка в числовой\n",
        "\n",
        "def str_to_num(str):\n",
        "    str = str.strip()\n",
        "    if '.' in str and str.replace('.', '').isdigit():\n",
        "        return float(str)\n",
        "    elif str.isdigit():\n",
        "        return int(str)\n",
        "\n",
        "def digit_list_colum(x):\n",
        "    num_list = []\n",
        "    for i in x:\n",
        "        n = str_to_num(i)\n",
        "        if n is not None:\n",
        "            num_list.append(str_to_num(i))\n",
        "            x = num_list\n",
        "    return x\n",
        "\n",
        "rating = rating.apply(digit_list_colum)"
      ]
    },
    {
      "cell_type": "code",
      "execution_count": 50,
      "metadata": {
        "colab": {
          "base_uri": "https://localhost:8080/"
        },
        "outputId": "30cdefca-545a-4cf3-aa5a-fcd9a280d062",
        "id": "J8CxjFPNTLjb"
      },
      "outputs": [
        {
          "output_type": "stream",
          "name": "stderr",
          "text": [
            "/usr/local/lib/python3.7/dist-packages/numpy/core/fromnumeric.py:3441: RuntimeWarning: Mean of empty slice.\n",
            "  out=out, **kwargs)\n"
          ]
        }
      ],
      "source": [
        "# Создадим признаки суммы среднего и медианы\n",
        "df['rating_sum'] = rating.apply(lambda x: sum(x))\n",
        "df['rating_mean'] = rating.apply(lambda x: np.mean(x))\n",
        "df['rating_median'] = rating.apply(lambda x: np.median(x))"
      ]
    },
    {
      "cell_type": "markdown",
      "metadata": {
        "id": "ii8ihyfXTb19"
      },
      "source": [
        "## data_distance"
      ]
    },
    {
      "cell_type": "code",
      "execution_count": 51,
      "metadata": {
        "colab": {
          "base_uri": "https://localhost:8080/"
        },
        "outputId": "3ecbe529-23d6-4ddb-99a8-c48ee879dd2b",
        "id": "twRyCxAxTb19"
      },
      "outputs": [
        {
          "output_type": "execute_result",
          "data": {
            "text/plain": [
              "0    ['2.7', '3.6', '5.1', '4.0', '10.5', '12.6', '...\n",
              "1                             ['1.65', '1.32', '1.01']\n",
              "2                             ['1.19', '2.06', '2.63']\n",
              "3                      ['1.05', '0.1', '1.05', '0.81']\n",
              "4                             ['5.96', '3.25', '3.03']\n",
              "Name: data_distance, dtype: object"
            ]
          },
          "metadata": {},
          "execution_count": 51
        }
      ],
      "source": [
        "df.data_distance.head(5)"
      ]
    },
    {
      "cell_type": "code",
      "execution_count": 52,
      "metadata": {
        "id": "NZy7X5MITb19"
      },
      "outputs": [],
      "source": [
        "import ast\n",
        "data_distance = df[\"data_distance\"]\n",
        "data_distance = data_distance.apply(ast.literal_eval)"
      ]
    },
    {
      "cell_type": "code",
      "execution_count": 53,
      "metadata": {
        "id": "P2JWAc7tTb19"
      },
      "outputs": [],
      "source": [
        "data_distance = data_distance.apply(digit_list_colum)"
      ]
    },
    {
      "cell_type": "code",
      "execution_count": 54,
      "metadata": {
        "id": "MGH41kC9Tb1-"
      },
      "outputs": [],
      "source": [
        "def lost_str(x):\n",
        "  for i in x:\n",
        "    if x == ['']:\n",
        "      x = [0]\n",
        "  return x \n",
        "\n",
        "data_distance = data_distance.apply(lost_str)\n"
      ]
    },
    {
      "cell_type": "code",
      "execution_count": 55,
      "metadata": {
        "id": "nlVZvvc4Tb1-"
      },
      "outputs": [],
      "source": [
        "df['data_distance_sum'] = data_distance.apply(lambda x: sum(x))\n",
        "df['data_distance_mean'] = data_distance.apply(lambda x: np.mean(x))\n",
        "df['data_distance_median'] = data_distance.apply(lambda x: np.median(x))"
      ]
    },
    {
      "cell_type": "code",
      "source": [
        ""
      ],
      "metadata": {
        "id": "LFawbkXWTctb"
      },
      "execution_count": 55,
      "outputs": []
    },
    {
      "cell_type": "markdown",
      "metadata": {
        "id": "tLPs_GO_TkoQ"
      },
      "source": [
        "## Разные"
      ]
    },
    {
      "cell_type": "code",
      "execution_count": 56,
      "metadata": {
        "colab": {
          "base_uri": "https://localhost:8080/"
        },
        "outputId": "bbc97803-e5f5-47fd-a927-a82684ec2d30",
        "id": "v9Elr6d3TkoQ"
      },
      "outputs": [
        {
          "output_type": "stream",
          "name": "stderr",
          "text": [
            "/usr/local/lib/python3.7/dist-packages/ipykernel_launcher.py:1: UserWarning: Pandas doesn't allow columns to be created via a new attribute name - see https://pandas.pydata.org/pandas-docs/stable/indexing.html#attribute-access\n",
            "  \"\"\"Entry point for launching an IPython kernel.\n"
          ]
        }
      ],
      "source": [
        "df.count_scool = data_distance.apply(lambda x: len(x))\n",
        "\n",
        "# средний рейтинг по городам\n",
        "df['mean_city_rating'] = df['city'].map(df.groupby('city')['rating_mean'].mean())\n",
        "# средняя дистанция по городам\n",
        "df['mean_city_data_distance'] = df['city'].map(df.groupby('city')['data_distance_mean'].mean())\n",
        "# средняя дата по городам\n",
        "df['year_built_mean_city'] = df['city'].map(df.groupby('city')['year_built'].mean())\n",
        "# средняя перепланировка по городам\n",
        "df['year_remodeled_mean_city'] = df['city'].map(df.groupby('city')['remodeled_year'].mean())\n",
        "\n",
        "\n",
        "# средний рейтинг по штатам\n",
        "df['mean_state_rating'] = df['state'].map(df.groupby('state')['rating_mean'].mean())\n",
        "# средняя дистанция по штатам\n",
        "df['mean_state_data_distance'] = df['state'].map(df.groupby('state')['data_distance_mean'].mean())\n",
        "# средняя дата по штатам\n",
        "df['year_built_mean_state'] = df['state'].map(df.groupby('state')['year_built'].mean())\n",
        "# средняя перепланировка по штатам\n",
        "df['year_remodeled_mean_state'] = df['state'].map(df.groupby('state')['remodeled_year'].mean())\n",
        "\n",
        "df['price_sqft_mean_state'] = df['state'].map(df.groupby('state')['price_sqft'].mean())\n",
        "df['scool_len'] = rating.apply(lambda x: len(x))\n",
        "\n",
        "\n",
        "# новые признаки из корелирующих с целевой переменной\n",
        "df['min_state_sqft'] = df['state'].map(df.groupby('state')['sqft'].min()) \n",
        "df['mean_city_sqft'] = df['city'].map(df.groupby('city')['sqft'].mean()) \n",
        "df['median_city_sqft'] = df['city'].map(df.groupby('city')['sqft'].median()) \n",
        "df['min_city_sqft'] = df['city'].map(df.groupby('city')['sqft'].min()) \n",
        "df['max_city_sqft'] = df['city'].map(df.groupby('city')['sqft'].max()) \n",
        "df['beds__mean_state'] = df['state'].map(df.groupby('state')['beds'].mean()) \n",
        "df['mean_state_sqft'] = df['mean_state_sqft'] = df['state'].map(df.groupby('state')['sqft'].mean()) \n",
        "df['min_state_stories'] = df['state'].map(df.groupby('state')['stories'].min()) \n",
        "df['mean_city_stories'] = df['city'].map(df.groupby('city')['stories'].mean()) \n",
        "df['median_city_stories'] = df['city'].map(df.groupby('city')['stories'].median()) \n",
        "df['max_city_stories'] = df['city'].map(df.groupby('city')['stories'].max()) \n",
        "df['mean_city_PrivatePool'] = df['city'].map(df.groupby('city')['PrivatePool'].mean()) \n",
        "df['mean_city_PrivatePool'] = df['city'].map(df.groupby('city')['PrivatePool'].mean()) \n",
        "\n"
      ]
    },
    {
      "cell_type": "markdown",
      "metadata": {
        "id": "0vS_IF9OSSyy"
      },
      "source": [
        "# EDA"
      ]
    },
    {
      "cell_type": "code",
      "execution_count": 57,
      "metadata": {
        "colab": {
          "base_uri": "https://localhost:8080/",
          "height": 0
        },
        "id": "tDYxBwYcSVUh",
        "outputId": "bc240702-55e7-4352-8e9a-9f2428b8e15d"
      },
      "outputs": [
        {
          "output_type": "execute_result",
          "data": {
            "text/plain": [
              "   status        propertyType          street  baths     fireplace  \\\n",
              "0  active  ['housess_family']  240 Heather Ln    NaN  ['gas logs']   \n",
              "\n",
              "             city    sqft zipcode  beds state  ...  median_city_sqft  \\\n",
              "0  southern pines  2900.0   28387   4.0    NC  ...            2333.0   \n",
              "\n",
              "   min_city_sqft  max_city_sqft beds__mean_state  mean_state_sqft  \\\n",
              "0         1071.0         6580.0         3.631456      2653.205648   \n",
              "\n",
              "   min_state_stories  mean_city_stories  median_city_stories  \\\n",
              "0                0.0           1.518987                  1.0   \n",
              "\n",
              "   max_city_stories  mean_city_PrivatePool  \n",
              "0               3.0                    0.0  \n",
              "\n",
              "[1 rows x 453 columns]"
            ],
            "text/html": [
              "\n",
              "  <div id=\"df-bf1765f2-bce8-4391-84ce-6ee39954cbfe\">\n",
              "    <div class=\"colab-df-container\">\n",
              "      <div>\n",
              "<style scoped>\n",
              "    .dataframe tbody tr th:only-of-type {\n",
              "        vertical-align: middle;\n",
              "    }\n",
              "\n",
              "    .dataframe tbody tr th {\n",
              "        vertical-align: top;\n",
              "    }\n",
              "\n",
              "    .dataframe thead th {\n",
              "        text-align: right;\n",
              "    }\n",
              "</style>\n",
              "<table border=\"1\" class=\"dataframe\">\n",
              "  <thead>\n",
              "    <tr style=\"text-align: right;\">\n",
              "      <th></th>\n",
              "      <th>status</th>\n",
              "      <th>propertyType</th>\n",
              "      <th>street</th>\n",
              "      <th>baths</th>\n",
              "      <th>fireplace</th>\n",
              "      <th>city</th>\n",
              "      <th>sqft</th>\n",
              "      <th>zipcode</th>\n",
              "      <th>beds</th>\n",
              "      <th>state</th>\n",
              "      <th>...</th>\n",
              "      <th>median_city_sqft</th>\n",
              "      <th>min_city_sqft</th>\n",
              "      <th>max_city_sqft</th>\n",
              "      <th>beds__mean_state</th>\n",
              "      <th>mean_state_sqft</th>\n",
              "      <th>min_state_stories</th>\n",
              "      <th>mean_city_stories</th>\n",
              "      <th>median_city_stories</th>\n",
              "      <th>max_city_stories</th>\n",
              "      <th>mean_city_PrivatePool</th>\n",
              "    </tr>\n",
              "  </thead>\n",
              "  <tbody>\n",
              "    <tr>\n",
              "      <th>0</th>\n",
              "      <td>active</td>\n",
              "      <td>['housess_family']</td>\n",
              "      <td>240 Heather Ln</td>\n",
              "      <td>NaN</td>\n",
              "      <td>['gas logs']</td>\n",
              "      <td>southern pines</td>\n",
              "      <td>2900.0</td>\n",
              "      <td>28387</td>\n",
              "      <td>4.0</td>\n",
              "      <td>NC</td>\n",
              "      <td>...</td>\n",
              "      <td>2333.0</td>\n",
              "      <td>1071.0</td>\n",
              "      <td>6580.0</td>\n",
              "      <td>3.631456</td>\n",
              "      <td>2653.205648</td>\n",
              "      <td>0.0</td>\n",
              "      <td>1.518987</td>\n",
              "      <td>1.0</td>\n",
              "      <td>3.0</td>\n",
              "      <td>0.0</td>\n",
              "    </tr>\n",
              "  </tbody>\n",
              "</table>\n",
              "<p>1 rows × 453 columns</p>\n",
              "</div>\n",
              "      <button class=\"colab-df-convert\" onclick=\"convertToInteractive('df-bf1765f2-bce8-4391-84ce-6ee39954cbfe')\"\n",
              "              title=\"Convert this dataframe to an interactive table.\"\n",
              "              style=\"display:none;\">\n",
              "        \n",
              "  <svg xmlns=\"http://www.w3.org/2000/svg\" height=\"24px\"viewBox=\"0 0 24 24\"\n",
              "       width=\"24px\">\n",
              "    <path d=\"M0 0h24v24H0V0z\" fill=\"none\"/>\n",
              "    <path d=\"M18.56 5.44l.94 2.06.94-2.06 2.06-.94-2.06-.94-.94-2.06-.94 2.06-2.06.94zm-11 1L8.5 8.5l.94-2.06 2.06-.94-2.06-.94L8.5 2.5l-.94 2.06-2.06.94zm10 10l.94 2.06.94-2.06 2.06-.94-2.06-.94-.94-2.06-.94 2.06-2.06.94z\"/><path d=\"M17.41 7.96l-1.37-1.37c-.4-.4-.92-.59-1.43-.59-.52 0-1.04.2-1.43.59L10.3 9.45l-7.72 7.72c-.78.78-.78 2.05 0 2.83L4 21.41c.39.39.9.59 1.41.59.51 0 1.02-.2 1.41-.59l7.78-7.78 2.81-2.81c.8-.78.8-2.07 0-2.86zM5.41 20L4 18.59l7.72-7.72 1.47 1.35L5.41 20z\"/>\n",
              "  </svg>\n",
              "      </button>\n",
              "      \n",
              "  <style>\n",
              "    .colab-df-container {\n",
              "      display:flex;\n",
              "      flex-wrap:wrap;\n",
              "      gap: 12px;\n",
              "    }\n",
              "\n",
              "    .colab-df-convert {\n",
              "      background-color: #E8F0FE;\n",
              "      border: none;\n",
              "      border-radius: 50%;\n",
              "      cursor: pointer;\n",
              "      display: none;\n",
              "      fill: #1967D2;\n",
              "      height: 32px;\n",
              "      padding: 0 0 0 0;\n",
              "      width: 32px;\n",
              "    }\n",
              "\n",
              "    .colab-df-convert:hover {\n",
              "      background-color: #E2EBFA;\n",
              "      box-shadow: 0px 1px 2px rgba(60, 64, 67, 0.3), 0px 1px 3px 1px rgba(60, 64, 67, 0.15);\n",
              "      fill: #174EA6;\n",
              "    }\n",
              "\n",
              "    [theme=dark] .colab-df-convert {\n",
              "      background-color: #3B4455;\n",
              "      fill: #D2E3FC;\n",
              "    }\n",
              "\n",
              "    [theme=dark] .colab-df-convert:hover {\n",
              "      background-color: #434B5C;\n",
              "      box-shadow: 0px 1px 3px 1px rgba(0, 0, 0, 0.15);\n",
              "      filter: drop-shadow(0px 1px 2px rgba(0, 0, 0, 0.3));\n",
              "      fill: #FFFFFF;\n",
              "    }\n",
              "  </style>\n",
              "\n",
              "      <script>\n",
              "        const buttonEl =\n",
              "          document.querySelector('#df-bf1765f2-bce8-4391-84ce-6ee39954cbfe button.colab-df-convert');\n",
              "        buttonEl.style.display =\n",
              "          google.colab.kernel.accessAllowed ? 'block' : 'none';\n",
              "\n",
              "        async function convertToInteractive(key) {\n",
              "          const element = document.querySelector('#df-bf1765f2-bce8-4391-84ce-6ee39954cbfe');\n",
              "          const dataTable =\n",
              "            await google.colab.kernel.invokeFunction('convertToInteractive',\n",
              "                                                     [key], {});\n",
              "          if (!dataTable) return;\n",
              "\n",
              "          const docLinkHtml = 'Like what you see? Visit the ' +\n",
              "            '<a target=\"_blank\" href=https://colab.research.google.com/notebooks/data_table.ipynb>data table notebook</a>'\n",
              "            + ' to learn more about interactive tables.';\n",
              "          element.innerHTML = '';\n",
              "          dataTable['output_type'] = 'display_data';\n",
              "          await google.colab.output.renderOutput(dataTable, element);\n",
              "          const docLink = document.createElement('div');\n",
              "          docLink.innerHTML = docLinkHtml;\n",
              "          element.appendChild(docLink);\n",
              "        }\n",
              "      </script>\n",
              "    </div>\n",
              "  </div>\n",
              "  "
            ]
          },
          "metadata": {},
          "execution_count": 57
        }
      ],
      "source": [
        "df.head(1)"
      ]
    },
    {
      "cell_type": "markdown",
      "metadata": {
        "id": "6Zm8gNXU7H9K"
      },
      "source": [
        "## eda target"
      ]
    },
    {
      "cell_type": "code",
      "execution_count": 58,
      "metadata": {
        "colab": {
          "base_uri": "https://localhost:8080/",
          "height": 0
        },
        "id": "IiI9XT3d668a",
        "outputId": "43cb03dd-7d1d-4d0e-b048-7d5ae5fdbed5"
      },
      "outputs": [
        {
          "output_type": "execute_result",
          "data": {
            "text/plain": [
              "<matplotlib.axes._subplots.AxesSubplot at 0x7fa5d42eb3d0>"
            ]
          },
          "metadata": {},
          "execution_count": 58
        },
        {
          "output_type": "display_data",
          "data": {
            "text/plain": [
              "<Figure size 432x288 with 1 Axes>"
            ],
            "image/png": "[encoded data removed]"
          },
          "metadata": {
            "needs_background": "light"
          }
        }
      ],
      "source": [
        "# Посмотрим на распределение признака\n",
        "df.target.hist(bins = 50)"
      ]
    },
    {
      "cell_type": "code",
      "execution_count": 59,
      "metadata": {
        "id": "zCoSxdHV6koa",
        "colab": {
          "base_uri": "https://localhost:8080/",
          "height": 0
        },
        "outputId": "5141c86d-bc81-478b-c178-79a6cce90a29"
      },
      "outputs": [
        {
          "output_type": "stream",
          "name": "stdout",
          "text": [
            "195000000.0 максимум\n",
            "2799000.0 правый квантиль\n",
            "363455\n"
          ]
        },
        {
          "output_type": "execute_result",
          "data": {
            "text/plain": [
              "<matplotlib.axes._subplots.AxesSubplot at 0x7fa5d4d0df90>"
            ]
          },
          "metadata": {},
          "execution_count": 59
        },
        {
          "output_type": "display_data",
          "data": {
            "text/plain": [
              "<Figure size 432x288 with 1 Axes>"
            ],
            "image/png": "[encoded data removed]"
          },
          "metadata": {
            "needs_background": "light"
          }
        }
      ],
      "source": [
        "# Посмотрим на левую часть распределения\n",
        "print(df.target.max(), 'максимум')\n",
        "print(df.target.quantile(0.97),'правый квантиль')\n",
        "print(df.target[df.target < 2799000.0 ].count())\n",
        "df.target[df.target < 2799000.0 ].hist(bins = 50)\n",
        "# Тут мы видим, что есть большое количество околонулевых значений.\n",
        "# Это явно ошибки удалим их"
      ]
    },
    {
      "cell_type": "code",
      "execution_count": 60,
      "metadata": {
        "id": "-n7IgtY3zxg1",
        "colab": {
          "base_uri": "https://localhost:8080/",
          "height": 0
        },
        "outputId": "9dfc60f3-9175-4cee-a067-8fa532422d3f"
      },
      "outputs": [
        {
          "output_type": "stream",
          "name": "stdout",
          "text": [
            "1.0 минимум\n",
            "20000.0 левый квантиль\n",
            "11063\n"
          ]
        },
        {
          "output_type": "execute_result",
          "data": {
            "text/plain": [
              "<matplotlib.axes._subplots.AxesSubplot at 0x7fa5d5a78050>"
            ]
          },
          "metadata": {},
          "execution_count": 60
        },
        {
          "output_type": "display_data",
          "data": {
            "text/plain": [
              "<Figure size 432x288 with 1 Axes>"
            ],
            "image/png": "[encoded data removed]"
          },
          "metadata": {
            "needs_background": "light"
          }
        }
      ],
      "source": [
        "# Посмотрим на левую часть распределения\n",
        "print(df.target.min(), 'минимум')\n",
        "print(df.target.quantile(0.03),'левый квантиль')\n",
        "print(df.target[df.target < 20000.0 ].count())\n",
        "df.target[df.target < 20000.0 ].hist(bins = 50)\n",
        "# Тут мы видим, что есть большое количество околонулевых значений.\n",
        "# Это явно ошибки удалим их"
      ]
    },
    {
      "cell_type": "code",
      "execution_count": 61,
      "metadata": {
        "id": "Ws8XVvmEzxmT"
      },
      "outputs": [],
      "source": [
        "# Удалим аномально высокие значения и маленькие\n",
        "df = df.drop(df.loc[df.target > 2799000.0].index, axis = 0)\n",
        "df = df.drop(df.loc[df.target < 20000.0].index, axis = 0)"
      ]
    },
    {
      "cell_type": "code",
      "execution_count": 62,
      "metadata": {
        "id": "8N556qK_zxpC",
        "colab": {
          "base_uri": "https://localhost:8080/"
        },
        "outputId": "9d05e1c5-aecc-4238-bfd5-53a8b3204b5a"
      },
      "outputs": [
        {
          "output_type": "execute_result",
          "data": {
            "text/plain": [
              "352445"
            ]
          },
          "metadata": {},
          "execution_count": 62
        }
      ],
      "source": [
        "len(df)"
      ]
    },
    {
      "cell_type": "code",
      "execution_count": 63,
      "metadata": {
        "id": "24CDaWj7zxrr",
        "colab": {
          "base_uri": "https://localhost:8080/",
          "height": 0
        },
        "outputId": "921dbe85-3666-4bea-86ce-2e5ba2292c37"
      },
      "outputs": [
        {
          "output_type": "execute_result",
          "data": {
            "text/plain": [
              "<matplotlib.axes._subplots.AxesSubplot at 0x7fa5d6588590>"
            ]
          },
          "metadata": {},
          "execution_count": 63
        },
        {
          "output_type": "display_data",
          "data": {
            "text/plain": [
              "<Figure size 432x288 with 1 Axes>"
            ],
            "image/png": "[encoded data removed]"
          },
          "metadata": {
            "needs_background": "light"
          }
        }
      ],
      "source": [
        "# Попробуем логарифмировать\n",
        "np.log(df.target).hist(bins = 50)\n",
        "# Распределение стало похоже на нормальное - хорошо."
      ]
    },
    {
      "cell_type": "markdown",
      "metadata": {
        "id": "ypOYiAX8nLvA"
      },
      "source": [
        "## eda status"
      ]
    },
    {
      "cell_type": "code",
      "execution_count": 64,
      "metadata": {
        "id": "nUFI7fVqnP2Q",
        "colab": {
          "base_uri": "https://localhost:8080/"
        },
        "outputId": "77da6f8e-e5f5-413b-bc82-ec3b24fdf61d"
      },
      "outputs": [
        {
          "output_type": "execute_result",
          "data": {
            "text/plain": [
              "22797     for rent\n",
              "23667     for rent\n",
              "180922    for rent\n",
              "300847    for rent\n",
              "Name: status, dtype: object"
            ]
          },
          "metadata": {},
          "execution_count": 64
        }
      ],
      "source": [
        "# Посмотрим сколько осталось домов к аренде.\n",
        "df['status'][df['status'] == 'for rent']"
      ]
    },
    {
      "cell_type": "code",
      "execution_count": 65,
      "metadata": {
        "id": "myxU8TjIniIw"
      },
      "outputs": [],
      "source": [
        "# Осталось только 4 обьекта их удалим. Тем более что мы хотим оценивать недвижимость к продаже а не к аренде.\n",
        "df = df.loc[~df['status'].isin(['for rent'])]"
      ]
    },
    {
      "cell_type": "markdown",
      "metadata": {
        "id": "dufnZ9Pa7Nki"
      },
      "source": [
        "## eda propertyType"
      ]
    },
    {
      "cell_type": "code",
      "execution_count": 66,
      "metadata": {
        "id": "M8eOLfrPzVvD",
        "colab": {
          "base_uri": "https://localhost:8080/"
        },
        "outputId": "52b33e25-ae80-400f-ca40-e761bac2d3fa"
      },
      "outputs": [
        {
          "output_type": "execute_result",
          "data": {
            "text/plain": [
              "for sale    208644\n",
              "active       97386\n",
              "new           5969\n",
              "Name: status, dtype: int64"
            ]
          },
          "metadata": {},
          "execution_count": 66
        }
      ],
      "source": [
        "df['status'].value_counts()"
      ]
    },
    {
      "cell_type": "markdown",
      "metadata": {
        "id": "rHasvugicBwL"
      },
      "source": [
        "## eda sqft"
      ]
    },
    {
      "cell_type": "code",
      "execution_count": 67,
      "metadata": {
        "id": "CRyMmajzV4CJ",
        "colab": {
          "base_uri": "https://localhost:8080/",
          "height": 0
        },
        "outputId": "90659423-cb67-4ad5-d6a1-f9a710492ddc"
      },
      "outputs": [
        {
          "output_type": "display_data",
          "data": {
            "text/plain": [
              "<Figure size 720x504 with 4 Axes>"
            ],
            "image/png": "[encoded data removed]"
          },
          "metadata": {
            "needs_background": "light"
          }
        }
      ],
      "source": [
        "# Очевидные выбросы на графике\n",
        "diagnostic_plots(df, 'sqft', 'sqft')"
      ]
    },
    {
      "cell_type": "code",
      "execution_count": 68,
      "metadata": {
        "id": "_6KaOoKeWPky",
        "colab": {
          "base_uri": "https://localhost:8080/"
        },
        "outputId": "c583bbe0-1749-49d1-a445-3be02a48c908"
      },
      "outputs": [
        {
          "output_type": "stream",
          "name": "stdout",
          "text": [
            "Верхняя граница выбросов: 4457.5 Нижняя граница выбросов: -610.5\n",
            "\n",
            "Количество выбросов: sqft : 14021\n"
          ]
        }
      ],
      "source": [
        "# Посмотрим на границы выбросов.\n",
        "# выбросов 14 тысяч это много поэтому попробуем с этим что то зделать.\n",
        "get_quantile(df, 'sqft')"
      ]
    },
    {
      "cell_type": "code",
      "execution_count": 69,
      "metadata": {
        "id": "9cw7HUBPzV0a",
        "colab": {
          "base_uri": "https://localhost:8080/"
        },
        "outputId": "711aa585-f497-410e-f294-ebc4d3067666"
      },
      "outputs": [
        {
          "output_type": "execute_result",
          "data": {
            "text/plain": [
              "8931.0"
            ]
          },
          "metadata": {},
          "execution_count": 69
        }
      ],
      "source": [
        "# Посмотрим на значения 0.7 процента правой стороны распределения.\n",
        "df.sqft.quantile(0.993)"
      ]
    },
    {
      "cell_type": "code",
      "execution_count": 70,
      "metadata": {
        "id": "K4aZLnpvzV3L",
        "colab": {
          "base_uri": "https://localhost:8080/"
        },
        "outputId": "38907548-a918-420d-fd2a-ad92c365d48c"
      },
      "outputs": [
        {
          "output_type": "execute_result",
          "data": {
            "text/plain": [
              "315.0"
            ]
          },
          "metadata": {},
          "execution_count": 70
        }
      ],
      "source": [
        "# Посмотрим на значения 0.001 процента левой стороны распределения.\n",
        "df.sqft.quantile(0.001)"
      ]
    },
    {
      "cell_type": "code",
      "execution_count": 71,
      "metadata": {
        "id": "UPTHz5LjvSlj",
        "colab": {
          "base_uri": "https://localhost:8080/"
        },
        "outputId": "b5c24a6a-1bec-404d-8afd-db874ab6f0e5"
      },
      "outputs": [
        {
          "output_type": "stream",
          "name": "stdout",
          "text": [
            "2172\n",
            "145\n"
          ]
        }
      ],
      "source": [
        "# Всего 2482 значений удалим их.\n",
        "print(len(df[df.sqft > 8931]))\n",
        "print(len(df[df.sqft < 150]))"
      ]
    },
    {
      "cell_type": "code",
      "execution_count": 72,
      "metadata": {
        "id": "SOP2F7kVVMr5"
      },
      "outputs": [],
      "source": [
        "df = df.drop(df.loc[df.sqft > 8931].index, axis = 0)\n",
        "df = df.drop(df.loc[df.sqft < 315.0].index, axis = 0)"
      ]
    },
    {
      "cell_type": "code",
      "execution_count": 73,
      "metadata": {
        "id": "yilnxt-keNFu",
        "colab": {
          "base_uri": "https://localhost:8080/",
          "height": 0
        },
        "outputId": "deea65e1-7052-43d5-b00a-91376c1718e6"
      },
      "outputs": [
        {
          "output_type": "display_data",
          "data": {
            "text/plain": [
              "<Figure size 720x504 with 4 Axes>"
            ],
            "image/png": "[encoded data removed]"
          },
          "metadata": {
            "needs_background": "light"
          }
        }
      ],
      "source": [
        "# График явно улучшился но есть правый хвост.\n",
        "diagnostic_plots(df, 'sqft', 'sqft')"
      ]
    },
    {
      "cell_type": "code",
      "execution_count": 74,
      "metadata": {
        "id": "AfIOkcJrYfQx",
        "colab": {
          "base_uri": "https://localhost:8080/",
          "height": 0
        },
        "outputId": "04cc96a2-24c3-42ad-cf0e-6bfa610cd2e0"
      },
      "outputs": [
        {
          "output_type": "execute_result",
          "data": {
            "text/plain": [
              "<matplotlib.axes._subplots.AxesSubplot at 0x7fa5c1f46a10>"
            ]
          },
          "metadata": {},
          "execution_count": 74
        },
        {
          "output_type": "display_data",
          "data": {
            "text/plain": [
              "<Figure size 432x288 with 1 Axes>"
            ],
            "image/png": "[encoded data removed]"
          },
          "metadata": {
            "needs_background": "light"
          }
        }
      ],
      "source": [
        "# Логарифмируем признак и получаем нормальное распределение - хорошо!\n",
        "np.log(df.sqft).hist(bins = 50)"
      ]
    },
    {
      "cell_type": "code",
      "execution_count": 75,
      "metadata": {
        "id": "aTBTxxS0Y_JB"
      },
      "outputs": [],
      "source": [
        "df.sqft = np.log(df.sqft)"
      ]
    },
    {
      "cell_type": "markdown",
      "metadata": {
        "id": "UiS87S_crD7_"
      },
      "source": [
        "## eda baths"
      ]
    },
    {
      "cell_type": "code",
      "execution_count": 76,
      "metadata": {
        "id": "MghlPY4rrBuO",
        "colab": {
          "base_uri": "https://localhost:8080/",
          "height": 0
        },
        "outputId": "334a43f0-e828-4766-db57-172cf5f64a39"
      },
      "outputs": [
        {
          "output_type": "display_data",
          "data": {
            "text/plain": [
              "<Figure size 720x504 with 4 Axes>"
            ],
            "image/png": "[encoded data removed]"
          },
          "metadata": {
            "needs_background": "light"
          }
        }
      ],
      "source": [
        "# Очевидные выбросы на графике\n",
        "diagnostic_plots(df, 'baths', 'baths')"
      ]
    },
    {
      "cell_type": "code",
      "execution_count": 77,
      "metadata": {
        "id": "B0eP2AfJrRTO",
        "colab": {
          "base_uri": "https://localhost:8080/"
        },
        "outputId": "148c510d-8a59-4ee0-f654-7c4f9aafff6d"
      },
      "outputs": [
        {
          "output_type": "stream",
          "name": "stdout",
          "text": [
            "Верхняя граница выбросов: 4.5 Нижняя граница выбросов: 0.5\n",
            "\n",
            "Количество выбросов: baths : 13492\n"
          ]
        }
      ],
      "source": [
        "# Посмотрим на границы выбросов.\n",
        "# выбросов 13 тысяч это много поэтому попробуем с этим что то зделать.\n",
        "get_quantile(df, 'baths')"
      ]
    },
    {
      "cell_type": "code",
      "execution_count": 78,
      "metadata": {
        "id": "tZvw07DysmeO",
        "colab": {
          "base_uri": "https://localhost:8080/"
        },
        "outputId": "08f5e919-319f-4e11-8967-1f89d8bfc7b8"
      },
      "outputs": [
        {
          "output_type": "stream",
          "name": "stdout",
          "text": [
            "1101010.0\n",
            "0.0\n"
          ]
        }
      ],
      "source": [
        "# Минимум максимум.\n",
        "print(df.baths.max())\n",
        "print(df.baths.min())"
      ]
    },
    {
      "cell_type": "code",
      "execution_count": 79,
      "metadata": {
        "id": "uvBRWstsrnNF",
        "colab": {
          "base_uri": "https://localhost:8080/"
        },
        "outputId": "397bd6a2-c93c-470f-992f-5a150e0d2d0a"
      },
      "outputs": [
        {
          "output_type": "execute_result",
          "data": {
            "text/plain": [
              "750.0"
            ]
          },
          "metadata": {},
          "execution_count": 79
        }
      ],
      "source": [
        "# Посмотрим на значения 0.01 процента правой стороны распределения.\n",
        "df.baths.quantile(0.999)"
      ]
    },
    {
      "cell_type": "code",
      "execution_count": 80,
      "metadata": {
        "id": "DRa5MhdirnPx",
        "colab": {
          "base_uri": "https://localhost:8080/"
        },
        "outputId": "a127464e-516b-492c-db9b-f3d89a2c9c3c"
      },
      "outputs": [
        {
          "output_type": "execute_result",
          "data": {
            "text/plain": [
              "1.0"
            ]
          },
          "metadata": {},
          "execution_count": 80
        }
      ],
      "source": [
        "# Посмотрим на значения 0.05 процента левой стороны распределения.\n",
        "df.baths.quantile(0.05)"
      ]
    },
    {
      "cell_type": "code",
      "execution_count": 81,
      "metadata": {
        "id": "byR9mnz2rnST",
        "colab": {
          "base_uri": "https://localhost:8080/"
        },
        "outputId": "385803a3-d434-4b19-bd00-cec2677e6ed0"
      },
      "outputs": [
        {
          "output_type": "stream",
          "name": "stdout",
          "text": [
            "4639\n",
            "2094\n"
          ]
        }
      ],
      "source": [
        "print(len(df[df.baths > 5]))\n",
        "print(len(df[df.baths == 0]))"
      ]
    },
    {
      "cell_type": "code",
      "execution_count": 82,
      "metadata": {
        "id": "JqlYWIE97Luu",
        "colab": {
          "base_uri": "https://localhost:8080/"
        },
        "outputId": "0370d320-39cc-41bd-fcdc-ed1e75ee9865"
      },
      "outputs": [
        {
          "output_type": "execute_result",
          "data": {
            "text/plain": [
              "2.0"
            ]
          },
          "metadata": {},
          "execution_count": 82
        }
      ],
      "source": [
        "df.baths.median()"
      ]
    },
    {
      "cell_type": "code",
      "execution_count": 83,
      "metadata": {
        "id": "4nNArCLKrnU5"
      },
      "outputs": [],
      "source": [
        "# Удалим значения больше 5\n",
        "df = df.drop(df.loc[df.baths > 5].index, axis = 0)"
      ]
    },
    {
      "cell_type": "code",
      "execution_count": 84,
      "metadata": {
        "id": "OmzHNxRw6MHk"
      },
      "outputs": [],
      "source": [
        "df.baths = df.baths.apply(lambda x: 1 if x == 0 else x)\n",
        "df.baths = df.baths.apply(lambda x: 4 if x > 5 else x)"
      ]
    },
    {
      "cell_type": "code",
      "execution_count": 85,
      "metadata": {
        "id": "C1uqhIpMrnXz",
        "colab": {
          "base_uri": "https://localhost:8080/",
          "height": 0
        },
        "outputId": "962b0e96-ca15-4b98-83d6-ddbce3be0cf9"
      },
      "outputs": [
        {
          "output_type": "display_data",
          "data": {
            "text/plain": [
              "<Figure size 720x504 with 4 Axes>"
            ],
            "image/png": "[encoded data removed]"
          },
          "metadata": {
            "needs_background": "light"
          }
        }
      ],
      "source": [
        "# График явно улучшился.\n",
        "diagnostic_plots(df, 'baths', 'baths')"
      ]
    },
    {
      "cell_type": "markdown",
      "metadata": {
        "id": "6Rcb9dqcJQ9w"
      },
      "source": [
        "## beds"
      ]
    },
    {
      "cell_type": "code",
      "execution_count": 86,
      "metadata": {
        "id": "bB_57rCRUiMe",
        "colab": {
          "base_uri": "https://localhost:8080/",
          "height": 0
        },
        "outputId": "cfbffe77-ba3d-4b35-9ea4-cfca062b7dc1"
      },
      "outputs": [
        {
          "output_type": "display_data",
          "data": {
            "text/plain": [
              "<Figure size 720x504 with 4 Axes>"
            ],
            "image/png": "[encoded data removed]"
          },
          "metadata": {
            "needs_background": "light"
          }
        }
      ],
      "source": [
        "# Очевидные выбросы на графике\n",
        "diagnostic_plots(df, 'beds', 'beds')"
      ]
    },
    {
      "cell_type": "code",
      "execution_count": 87,
      "metadata": {
        "id": "UPHGCjCmUlHm",
        "colab": {
          "base_uri": "https://localhost:8080/"
        },
        "outputId": "984709b0-bee5-4478-a5ed-5f9f6724d833"
      },
      "outputs": [
        {
          "output_type": "stream",
          "name": "stdout",
          "text": [
            "64.0\n",
            "0.0\n"
          ]
        }
      ],
      "source": [
        "print(df.beds.max())\n",
        "print(df.beds.min())"
      ]
    },
    {
      "cell_type": "code",
      "execution_count": 88,
      "metadata": {
        "id": "6QOYTmX8alOL",
        "colab": {
          "base_uri": "https://localhost:8080/"
        },
        "outputId": "7a2db52f-f1f5-46a4-a580-bc5842003d65"
      },
      "outputs": [
        {
          "output_type": "stream",
          "name": "stdout",
          "text": [
            "3.0\n"
          ]
        }
      ],
      "source": [
        "print(df.beds.median())"
      ]
    },
    {
      "cell_type": "code",
      "execution_count": 89,
      "metadata": {
        "id": "FK0uEzfhUlKg",
        "colab": {
          "base_uri": "https://localhost:8080/"
        },
        "outputId": "495dfee4-5f61-4492-ffd9-bc40f078df42"
      },
      "outputs": [
        {
          "output_type": "stream",
          "name": "stdout",
          "text": [
            "1276\n",
            "186\n"
          ]
        }
      ],
      "source": [
        "print(df.beds[df.beds == 0].count())\n",
        "print(df.beds[df.beds > 10].count())"
      ]
    },
    {
      "cell_type": "code",
      "execution_count": 90,
      "metadata": {
        "id": "-4kGYkyCVkLW",
        "colab": {
          "base_uri": "https://localhost:8080/"
        },
        "outputId": "b1efc779-9f03-4c7c-cedd-dc7cf2f27aec"
      },
      "outputs": [
        {
          "output_type": "stream",
          "name": "stdout",
          "text": [
            "10.0\n",
            "0.0\n"
          ]
        }
      ],
      "source": [
        "print(df.beds.quantile(0.999))\n",
        "print(df.beds.quantile(0.001))"
      ]
    },
    {
      "cell_type": "code",
      "execution_count": 91,
      "metadata": {
        "id": "HChzvIMDUlNJ"
      },
      "outputs": [],
      "source": [
        "# Удалим значения больше 20\n",
        "df = df.drop(df.loc[df.beds > 20].index, axis = 0)"
      ]
    },
    {
      "cell_type": "code",
      "execution_count": 92,
      "metadata": {
        "id": "CUp9xK-tUlP-"
      },
      "outputs": [],
      "source": [
        "# Значения которые больше 15 изменим на 4\n",
        "#df.beds = df.beds.apply(lambda x: 1 if x == 0 else x)\n",
        "df.beds = df.beds.apply(lambda x: 4 if x > 15 else x)"
      ]
    },
    {
      "cell_type": "code",
      "execution_count": 93,
      "metadata": {
        "id": "xHxKKM0gWETW",
        "colab": {
          "base_uri": "https://localhost:8080/",
          "height": 0
        },
        "outputId": "0fde4456-46bb-4350-ebb6-8b35587c10a7"
      },
      "outputs": [
        {
          "output_type": "display_data",
          "data": {
            "text/plain": [
              "<Figure size 720x504 with 4 Axes>"
            ],
            "image/png": "[encoded data removed]"
          },
          "metadata": {
            "needs_background": "light"
          }
        }
      ],
      "source": [
        "# График улучшился оставим так\n",
        "diagnostic_plots(df, 'beds', 'beds')"
      ]
    },
    {
      "cell_type": "markdown",
      "metadata": {
        "id": "ifqcv13dj6Ek"
      },
      "source": [
        "## stories"
      ]
    },
    {
      "cell_type": "code",
      "execution_count": 94,
      "metadata": {
        "id": "17KddLdQkA1M",
        "colab": {
          "base_uri": "https://localhost:8080/",
          "height": 0
        },
        "outputId": "1fd9f2b3-3462-4b23-b2a8-50e31eec344e"
      },
      "outputs": [
        {
          "output_type": "display_data",
          "data": {
            "text/plain": [
              "<Figure size 720x504 with 4 Axes>"
            ],
            "image/png": "[encoded data removed]"
          },
          "metadata": {
            "needs_background": "light"
          }
        }
      ],
      "source": [
        "# Очевидные выбросы на графике\n",
        "diagnostic_plots(df, 'stories', 'stories')"
      ]
    },
    {
      "cell_type": "code",
      "execution_count": 95,
      "metadata": {
        "id": "FXD5WW8MkN-L",
        "colab": {
          "base_uri": "https://localhost:8080/"
        },
        "outputId": "ff929569-1ade-4881-e9c5-6c3b5ec2bb62"
      },
      "outputs": [
        {
          "output_type": "stream",
          "name": "stdout",
          "text": [
            "91.0\n",
            "0.0\n"
          ]
        }
      ],
      "source": [
        "# Крайние значения\n",
        "print(df.stories.max())\n",
        "print(df.stories.min())"
      ]
    },
    {
      "cell_type": "code",
      "execution_count": 96,
      "metadata": {
        "id": "PjYzsdlIkOAw",
        "colab": {
          "base_uri": "https://localhost:8080/"
        },
        "outputId": "09ae933c-49fb-4dc7-f07c-1ee5b6628ef4"
      },
      "outputs": [
        {
          "output_type": "stream",
          "name": "stdout",
          "text": [
            "1.0\n"
          ]
        }
      ],
      "source": [
        "print(df.stories.median())"
      ]
    },
    {
      "cell_type": "code",
      "execution_count": 97,
      "metadata": {
        "id": "5AIfGIdhkODN",
        "colab": {
          "base_uri": "https://localhost:8080/"
        },
        "outputId": "3a219369-6f47-4ab4-c8fd-d9ff4136bd7f"
      },
      "outputs": [
        {
          "output_type": "stream",
          "name": "stdout",
          "text": [
            "695\n",
            "71\n"
          ]
        }
      ],
      "source": [
        "print(df.stories[df.beds == 0].count())\n",
        "print(df.stories[df.beds > 10].count())"
      ]
    },
    {
      "cell_type": "code",
      "execution_count": 98,
      "metadata": {
        "id": "kXc9hphkkOFx",
        "colab": {
          "base_uri": "https://localhost:8080/"
        },
        "outputId": "36db5e0d-27bd-420f-abd5-96673d079a22"
      },
      "outputs": [
        {
          "output_type": "stream",
          "name": "stdout",
          "text": [
            "38.0\n",
            "0.0\n"
          ]
        }
      ],
      "source": [
        "print(df.stories.quantile(0.999))\n",
        "print(df.stories.quantile(0.001))"
      ]
    },
    {
      "cell_type": "code",
      "execution_count": 99,
      "metadata": {
        "id": "3FgfnhBylpQn",
        "colab": {
          "base_uri": "https://localhost:8080/"
        },
        "outputId": "7e674967-0a0b-4cb3-ecc7-ffca2c3a3e3c"
      },
      "outputs": [
        {
          "output_type": "stream",
          "name": "stdout",
          "text": [
            "Верхняя граница выбросов: 3.5 Нижняя граница выбросов: -0.5\n",
            "\n",
            "Количество выбросов: stories : 9349\n"
          ]
        }
      ],
      "source": [
        "# Границы выбросов\n",
        "get_quantile(df, 'stories')"
      ]
    },
    {
      "cell_type": "code",
      "execution_count": 100,
      "metadata": {
        "id": "d4-lLVNzkVc9"
      },
      "outputs": [],
      "source": [
        "# Значений больше 10 совсем немного удалим их\n",
        "df = df.drop(df.loc[df.stories > 10].index, axis = 0)"
      ]
    },
    {
      "cell_type": "code",
      "execution_count": 101,
      "metadata": {
        "id": "F9AzGQyRkVf7"
      },
      "outputs": [],
      "source": [
        "# Значения 0 изменим на 1\n",
        "df.stories = df.stories.apply(lambda x: 1 if x == 0 else x)\n",
        "#df.stories = df.stories.apply(lambda x: 4 if x > 5 else x)"
      ]
    },
    {
      "cell_type": "code",
      "execution_count": 102,
      "metadata": {
        "id": "jej4ytf9kViV",
        "colab": {
          "base_uri": "https://localhost:8080/",
          "height": 0
        },
        "outputId": "aa77bf5a-59fc-48b2-e2e9-39148190167c"
      },
      "outputs": [
        {
          "output_type": "display_data",
          "data": {
            "text/plain": [
              "<Figure size 720x504 with 4 Axes>"
            ],
            "image/png": "[encoded data removed]"
          },
          "metadata": {
            "needs_background": "light"
          }
        }
      ],
      "source": [
        "# График получше оставим так\n",
        "diagnostic_plots(df, 'stories', 'stories')"
      ]
    },
    {
      "cell_type": "markdown",
      "metadata": {
        "id": "-H4KichvkWcL"
      },
      "source": [
        "## price_sqft"
      ]
    },
    {
      "cell_type": "code",
      "execution_count": 103,
      "metadata": {
        "id": "92lRIfkIkceK",
        "colab": {
          "base_uri": "https://localhost:8080/",
          "height": 0
        },
        "outputId": "b4c6ac93-a9a5-4984-c7d0-287eabdacd2a"
      },
      "outputs": [
        {
          "output_type": "display_data",
          "data": {
            "text/plain": [
              "<Figure size 720x504 with 4 Axes>"
            ],
            "image/png": "[encoded data removed]"
          },
          "metadata": {
            "needs_background": "light"
          }
        }
      ],
      "source": [
        "# Очевидные выбросы на графике\n",
        "diagnostic_plots(df, 'price_sqft', 'price_sqft')"
      ]
    },
    {
      "cell_type": "code",
      "execution_count": 104,
      "metadata": {
        "id": "0L4XXsSlnS38",
        "colab": {
          "base_uri": "https://localhost:8080/"
        },
        "outputId": "0d329cc9-03c9-438c-d530-4126b922fd87"
      },
      "outputs": [
        {
          "output_type": "stream",
          "name": "stdout",
          "text": [
            "134950.0\n",
            "0.0\n"
          ]
        }
      ],
      "source": [
        "# Крайние значения\n",
        "print(df.price_sqft.max())\n",
        "print(df.price_sqft.min())"
      ]
    },
    {
      "cell_type": "code",
      "execution_count": 105,
      "metadata": {
        "id": "hf-wVVcynWJi",
        "colab": {
          "base_uri": "https://localhost:8080/"
        },
        "outputId": "8abd425b-6fb0-4d16-c924-de4b3fedcb31"
      },
      "outputs": [
        {
          "output_type": "stream",
          "name": "stdout",
          "text": [
            "173.0\n"
          ]
        }
      ],
      "source": [
        "print(df.price_sqft.median())"
      ]
    },
    {
      "cell_type": "code",
      "execution_count": 106,
      "metadata": {
        "id": "nM5hIQsrnWMX",
        "colab": {
          "base_uri": "https://localhost:8080/"
        },
        "outputId": "17312c4c-001c-4e6f-f1b9-57f4f2dda744"
      },
      "outputs": [
        {
          "output_type": "stream",
          "name": "stdout",
          "text": [
            "1\n",
            "661\n"
          ]
        }
      ],
      "source": [
        "print(df.price_sqft[df.price_sqft == 1].count())\n",
        "print(df.price_sqft[df.price_sqft > 1500].count())"
      ]
    },
    {
      "cell_type": "code",
      "execution_count": 107,
      "metadata": {
        "id": "EFzUQ309nWPB",
        "colab": {
          "base_uri": "https://localhost:8080/"
        },
        "outputId": "7608003a-ec89-437a-819c-650b94c29ba2"
      },
      "outputs": [
        {
          "output_type": "stream",
          "name": "stdout",
          "text": [
            "1245.0\n",
            "90.0\n"
          ]
        }
      ],
      "source": [
        "print(df.price_sqft.quantile(0.995))\n",
        "print(df.price_sqft.quantile(0.1))"
      ]
    },
    {
      "cell_type": "code",
      "execution_count": 108,
      "metadata": {
        "id": "X2DNiH_CnWSG",
        "colab": {
          "base_uri": "https://localhost:8080/"
        },
        "outputId": "dca31da6-031e-400f-bf09-e0916c9c60fb"
      },
      "outputs": [
        {
          "output_type": "stream",
          "name": "stdout",
          "text": [
            "Верхняя граница выбросов: 519.5 Нижняя граница выбросов: -116.5\n",
            "\n",
            "Количество выбросов: price_sqft : 23751\n"
          ]
        }
      ],
      "source": [
        "# Границы выбросов\n",
        "get_quantile(df, 'price_sqft')"
      ]
    },
    {
      "cell_type": "code",
      "execution_count": 109,
      "metadata": {
        "id": "jjFc94aCsSXU"
      },
      "outputs": [],
      "source": [
        "#get_filling_mean(df, 'price_sqft')"
      ]
    },
    {
      "cell_type": "code",
      "execution_count": 110,
      "metadata": {
        "id": "avBaUMuQnl8T"
      },
      "outputs": [],
      "source": [
        "#df = df.drop(df.loc[df.price_sqft > 2000].index, axis = 0)\n",
        "#df = df.drop(df.loc[df.price_sqft == 0].index, axis = 0)"
      ]
    },
    {
      "cell_type": "code",
      "execution_count": 111,
      "metadata": {
        "id": "lcfq085snl_T"
      },
      "outputs": [],
      "source": [
        "# Значения больше 2000 заменим на 500\n",
        "# Значения 0 заменим на 1\n",
        "df.price_sqft = df.price_sqft.apply(lambda x: 500 if x > 2000 else x)\n",
        "df.price_sqft = df.price_sqft.apply(lambda x: 1 if x == 0 else x)"
      ]
    },
    {
      "cell_type": "code",
      "execution_count": 112,
      "metadata": {
        "id": "SoO_5Ic71VJy"
      },
      "outputs": [],
      "source": [
        "#df.price_sqft = np.log(df.price_sqft)"
      ]
    },
    {
      "cell_type": "code",
      "execution_count": 113,
      "metadata": {
        "id": "UCuwm1aIsaYy",
        "colab": {
          "base_uri": "https://localhost:8080/",
          "height": 0
        },
        "outputId": "bfa71b42-1289-431e-801e-54af63ad5c6d"
      },
      "outputs": [
        {
          "output_type": "display_data",
          "data": {
            "text/plain": [
              "<Figure size 720x504 with 4 Axes>"
            ],
            "image/png": "[encoded data removed]"
          },
          "metadata": {
            "needs_background": "light"
          }
        }
      ],
      "source": [
        "# График получше оставим так\n",
        "diagnostic_plots(df, 'price_sqft', 'price_sqft')"
      ]
    },
    {
      "cell_type": "markdown",
      "metadata": {
        "id": "n8t0ydjDHcdl"
      },
      "source": [
        "## lotsize"
      ]
    },
    {
      "cell_type": "code",
      "execution_count": 114,
      "metadata": {
        "id": "kxmAHI6VHn2O",
        "colab": {
          "base_uri": "https://localhost:8080/",
          "height": 0
        },
        "outputId": "af8b9460-af3e-43f1-d320-fb7132815f65"
      },
      "outputs": [
        {
          "output_type": "display_data",
          "data": {
            "text/plain": [
              "<Figure size 720x504 with 4 Axes>"
            ],
            "image/png": "[encoded data removed]"
          },
          "metadata": {
            "needs_background": "light"
          }
        }
      ],
      "source": [
        "# Очевидные выбросы на графике\n",
        "diagnostic_plots(df, 'lotsize', 'lotsize')"
      ]
    },
    {
      "cell_type": "code",
      "execution_count": 115,
      "metadata": {
        "id": "n8cX4HJiHn4w",
        "colab": {
          "base_uri": "https://localhost:8080/"
        },
        "outputId": "9747b67e-063e-4387-95b8-68d6512e46b2"
      },
      "outputs": [
        {
          "output_type": "stream",
          "name": "stdout",
          "text": [
            "2147483647.0\n",
            "130.0\n"
          ]
        }
      ],
      "source": [
        "print(df.lotsize.max())\n",
        "print(df.lotsize.min())"
      ]
    },
    {
      "cell_type": "code",
      "execution_count": 116,
      "metadata": {
        "id": "2-dlW2duHn7O",
        "colab": {
          "base_uri": "https://localhost:8080/"
        },
        "outputId": "fb36ac41-f7ea-4fc4-a9e1-43cdd645dc43"
      },
      "outputs": [
        {
          "output_type": "stream",
          "name": "stdout",
          "text": [
            "7843.0\n"
          ]
        }
      ],
      "source": [
        "print(df.lotsize.median())"
      ]
    },
    {
      "cell_type": "code",
      "execution_count": 117,
      "metadata": {
        "id": "8ikKG8IkHn91",
        "colab": {
          "base_uri": "https://localhost:8080/"
        },
        "outputId": "aa814caf-0d99-44c3-c64e-0fceb8e5cb23"
      },
      "outputs": [
        {
          "output_type": "stream",
          "name": "stdout",
          "text": [
            "0\n",
            "254203\n"
          ]
        }
      ],
      "source": [
        "print(df.lotsize[df.lotsize == 0].count())\n",
        "print(df.lotsize[df.lotsize < 1761119].count())"
      ]
    },
    {
      "cell_type": "code",
      "execution_count": 118,
      "metadata": {
        "id": "z9kUmeYXIlWe",
        "colab": {
          "base_uri": "https://localhost:8080/"
        },
        "outputId": "9a4d454a-4ebd-4d27-ecb1-a9611219c30c"
      },
      "outputs": [
        {
          "output_type": "stream",
          "name": "stdout",
          "text": [
            "794307.8879999666\n",
            "696.4200000000001\n"
          ]
        }
      ],
      "source": [
        "print(df.lotsize.quantile(0.99))\n",
        "print(df.lotsize.quantile(0.01))"
      ]
    },
    {
      "cell_type": "code",
      "execution_count": 119,
      "metadata": {
        "id": "3dn1Kxp7IlZa",
        "colab": {
          "base_uri": "https://localhost:8080/"
        },
        "outputId": "87854a2d-0b04-4573-d73c-eb1ea55609d8"
      },
      "outputs": [
        {
          "output_type": "stream",
          "name": "stdout",
          "text": [
            "Верхняя граница выбросов: 27648.0 Нижняя граница выбросов: -8908.800000000001\n",
            "\n",
            "Количество выбросов: lotsize : 35432\n"
          ]
        }
      ],
      "source": [
        "get_quantile(df, 'lotsize')"
      ]
    },
    {
      "cell_type": "code",
      "execution_count": 120,
      "metadata": {
        "id": "yY5z7L-3euX5",
        "colab": {
          "base_uri": "https://localhost:8080/"
        },
        "outputId": "89c184f4-b471-41e2-d527-435e4e7f536c"
      },
      "outputs": [
        {
          "output_type": "execute_result",
          "data": {
            "text/plain": [
              "8939"
            ]
          },
          "metadata": {},
          "execution_count": 120
        }
      ],
      "source": [
        "len(df.loc[df.lotsize > 200000])"
      ]
    },
    {
      "cell_type": "code",
      "execution_count": 121,
      "metadata": {
        "id": "4hHgwBQMIlcO"
      },
      "outputs": [],
      "source": [
        "df = df.drop(df.loc[df.lotsize > 820909].index, axis = 0)\n",
        "#df = df.drop(df.loc[df.price_sqft == 0].index, axis = 0)"
      ]
    },
    {
      "cell_type": "code",
      "execution_count": 122,
      "metadata": {
        "id": "w0J5VrS4lGs5"
      },
      "outputs": [],
      "source": [
        "#df.lotsize = np.log(df.lotsize)"
      ]
    },
    {
      "cell_type": "code",
      "execution_count": 123,
      "metadata": {
        "id": "K0kxpdTeJo5u",
        "colab": {
          "base_uri": "https://localhost:8080/",
          "height": 0
        },
        "outputId": "e3e42bc5-c0d5-468e-9017-2752791abf08"
      },
      "outputs": [
        {
          "output_type": "display_data",
          "data": {
            "text/plain": [
              "<Figure size 720x504 with 4 Axes>"
            ],
            "image/png": "[encoded data removed]"
          },
          "metadata": {
            "needs_background": "light"
          }
        }
      ],
      "source": [
        "# Очевидные выбросы на графике\n",
        "diagnostic_plots(df, 'lotsize', 'lotsize')"
      ]
    },
    {
      "cell_type": "markdown",
      "source": [
        "## Heatmap\n"
      ],
      "metadata": {
        "id": "LasCU8xVh_Yq"
      }
    },
    {
      "cell_type": "code",
      "source": [
        "# Построим таблицу кореляций \n",
        "\n",
        "num_col = ['baths','sqft','beds','stories','PrivatePool','year_built','remodeled_year','lotsize','price_sqft','mean_city_data_distance','year_built_mean_city',\n",
        "           'year_remodeled_mean_city','mean_state_rating','mean_state_data_distance','year_built_mean_state','year_remodeled_mean_state','target']\n",
        "\n",
        "\n",
        "plt.rcParams['figure.figsize'] = (20,10)\n",
        "sns.heatmap(df[num_col].corr(),linecolor = \"white\", annot = True,linewidths = 1,vmax = 0.5, vmin = -0.5)"
      ],
      "metadata": {
        "colab": {
          "base_uri": "https://localhost:8080/",
          "height": 0
        },
        "id": "Eo0uS_A6h9_h",
        "outputId": "7054d8e4-d32d-456a-ec9e-867e454f56f4"
      },
      "execution_count": 124,
      "outputs": [
        {
          "output_type": "execute_result",
          "data": {
            "text/plain": [
              "<matplotlib.axes._subplots.AxesSubplot at 0x7fa5b6576210>"
            ]
          },
          "metadata": {},
          "execution_count": 124
        },
        {
          "output_type": "display_data",
          "data": {
            "text/plain": [
              "<Figure size 1440x720 with 2 Axes>"
            ],
            "image/png": "[encoded data removed]"
          },
          "metadata": {
            "needs_background": "light"
          }
        }
      ]
    },
    {
      "cell_type": "markdown",
      "source": [
        "# Сохранение датасета после FE и EDA"
      ],
      "metadata": {
        "id": "KxzGx_TGc513"
      }
    },
    {
      "cell_type": "code",
      "source": [
        "df.to_csv('/content/gdrive/MyDrive/Diplom_project/df_func_after_FE_EDA_map.csv')"
      ],
      "metadata": {
        "id": "rPu4UWiwc7qp"
      },
      "execution_count": 126,
      "outputs": []
    },
    {
      "cell_type": "markdown",
      "source": [
        "# Наивная модель"
      ],
      "metadata": {
        "id": "r6iJMWKf8iXt"
      }
    },
    {
      "cell_type": "code",
      "source": [
        "data = pd.read_csv('/content/gdrive/MyDrive/Diplom_project/df_func_map.csv').drop(['Unnamed: 0',\"'one houses'\",\"'unknown'\",\"'manufactured - '\",\"'two houses'\",], axis = 1)"
      ],
      "metadata": {
        "colab": {
          "base_uri": "https://localhost:8080/"
        },
        "id": "zKTIybHr8fH_",
        "outputId": "e5033aee-6c25-4be2-c439-a3942f801daa"
      },
      "execution_count": 62,
      "outputs": [
        {
          "output_type": "stream",
          "name": "stderr",
          "text": [
            "/usr/local/lib/python3.7/dist-packages/IPython/core/interactiveshell.py:2882: DtypeWarning: Columns (8) have mixed types.Specify dtype option on import or set low_memory=False.\n",
            "  exec(code_obj, self.user_global_ns, self.user_ns)\n"
          ]
        }
      ]
    },
    {
      "cell_type": "code",
      "source": [
        "# При загрузке датасета проявляються столбцы с одинаковыми названиями применим функцию которая это исправит.\n",
        "\n",
        "def df_column_uniquify(df):\n",
        "    df_columns = df.columns\n",
        "    new_columns = []\n",
        "    for item in df_columns:\n",
        "        counter = 0\n",
        "        newitem = item\n",
        "        while newitem in new_columns:\n",
        "            counter += 1\n",
        "            newitem = \"{}_{}\".format(item, counter)\n",
        "        new_columns.append(newitem)\n",
        "    df.columns = new_columns\n",
        "    return df\n",
        "\n",
        "data = df_column_uniquify(data)"
      ],
      "metadata": {
        "id": "EaC1vxeL8pds"
      },
      "execution_count": 64,
      "outputs": []
    },
    {
      "cell_type": "code",
      "source": [
        "# Разделим признаки на числовые и категориальные\n",
        "num_col = ['baths','sqft','beds','stories','PrivatePool','year_built',\n",
        "           'remodeled_year','lotsize','price_sqft','mean_city_data_distance','year_built_mean_city',\n",
        "           'year_remodeled_mean_city','mean_state_rating','mean_state_data_distance',\n",
        "           'year_built_mean_state','year_remodeled_mean_state']\n",
        "\n",
        "\n",
        "cat = ['status', 'propertyType', 'street',\n",
        "       'city', 'sqft', 'zipcode','state', 'heating',\n",
        "       'parking',\n",
        "       'propertyType_1','parking_','fireplace','cooling','name',\t'data_distance',\t'data_grades','rating','rating_sum',\t'rating_mean',\t'rating_median','data_distance_sum','data_distance_mean','data_distance_median']\n",
        "\n"
      ],
      "metadata": {
        "id": "wRRg0mue8wC0"
      },
      "execution_count": 65,
      "outputs": []
    },
    {
      "cell_type": "code",
      "source": [
        "y = data.target\n",
        "data.drop(['target'], inplace = True,axis = 1)"
      ],
      "metadata": {
        "id": "DSWl_Qw483FU"
      },
      "execution_count": 66,
      "outputs": []
    },
    {
      "cell_type": "code",
      "source": [
        "# Закодируем категориальные признаки.\n",
        "for colum in cat:\n",
        "  data[colum] = data[colum].astype('category').cat.codes"
      ],
      "metadata": {
        "id": "CEWS9Drb85it"
      },
      "execution_count": 67,
      "outputs": []
    },
    {
      "cell_type": "code",
      "source": [
        "# split данных\n",
        "X_train, X_test, y_train, y_test = train_test_split(data, y, test_size=0.2, shuffle=True, random_state=42)"
      ],
      "metadata": {
        "id": "xB90JOuV-VE1"
      },
      "execution_count": 68,
      "outputs": []
    },
    {
      "cell_type": "code",
      "source": [
        "model_cat = CatBoostRegressor(iterations = 5000,\n",
        "                          learning_rate = 0.01,\n",
        "                          l2_leaf_reg=2,\n",
        "                          random_seed = 42,\n",
        "                          eval_metric='MAPE',\n",
        "                          custom_metric=['RMSE', 'MAE'],\n",
        "                          od_wait=500,\n",
        "                          #task_type='GPU',\n",
        "\n",
        "                         )\n",
        "model_cat.fit(X_train, y_train,\n",
        "         eval_set=(X_test, y_test),\n",
        "         verbose_eval=1000,\n",
        "         use_best_model=True,\n",
        "         #plot=True\n",
        "         )"
      ],
      "metadata": {
        "colab": {
          "base_uri": "https://localhost:8080/"
        },
        "id": "OCXMoPQp-VU_",
        "outputId": "527f1c5a-6301-4d8f-b57f-348503dc89c9"
      },
      "execution_count": 69,
      "outputs": [
        {
          "output_type": "stream",
          "name": "stdout",
          "text": [
            "0:\tlearn: 1.4651907\ttest: 1.4782435\tbest: 1.4782435 (0)\ttotal: 175ms\tremaining: 14m 35s\n",
            "1000:\tlearn: 0.2842970\ttest: 0.2903811\tbest: 0.2903811 (1000)\ttotal: 1m 48s\tremaining: 7m 14s\n",
            "2000:\tlearn: 0.2473301\ttest: 0.2557928\tbest: 0.2557928 (2000)\ttotal: 3m 30s\tremaining: 5m 15s\n",
            "3000:\tlearn: 0.2341589\ttest: 0.2440671\tbest: 0.2440620 (2998)\ttotal: 5m 12s\tremaining: 3m 27s\n",
            "4000:\tlearn: 0.2249477\ttest: 0.2361502\tbest: 0.2361498 (3999)\ttotal: 6m 55s\tremaining: 1m 43s\n",
            "4999:\tlearn: 0.2188080\ttest: 0.2313764\tbest: 0.2313764 (4999)\ttotal: 8m 34s\tremaining: 0us\n",
            "\n",
            "bestTest = 0.231376363\n",
            "bestIteration = 4999\n",
            "\n"
          ]
        },
        {
          "output_type": "execute_result",
          "data": {
            "text/plain": [
              "<catboost.core.CatBoostRegressor at 0x7fad6020e610>"
            ]
          },
          "metadata": {},
          "execution_count": 69
        }
      ]
    },
    {
      "cell_type": "code",
      "source": [
        "# Не очень хороший результат.\n",
        "test_predict_catboost = model_cat.predict(X_test)\n",
        "print(f\"TEST mape: {(mape(y_test, test_predict_catboost))*100:0.2f}%\")\n",
        "print(f\"TEST mae: {(mae(y_test, test_predict_catboost)):0.2f}$\")"
      ],
      "metadata": {
        "colab": {
          "base_uri": "https://localhost:8080/"
        },
        "id": "XrL22OAN-ZYn",
        "outputId": "623db1d0-5bba-46fd-98b0-f4f0a34446ad"
      },
      "execution_count": 70,
      "outputs": [
        {
          "output_type": "stream",
          "name": "stdout",
          "text": [
            "TEST mape: 23.14%\n",
            "TEST mae: 40476.19$\n"
          ]
        }
      ]
    },
    {
      "cell_type": "code",
      "source": [
        "# Итоговый датасет.\n",
        "data.info()"
      ],
      "metadata": {
        "colab": {
          "base_uri": "https://localhost:8080/"
        },
        "id": "n0cBPpk9gsTI",
        "outputId": "0e9438f0-243c-450d-9bda-26d2bbd7f284"
      },
      "execution_count": null,
      "outputs": [
        {
          "output_type": "stream",
          "name": "stdout",
          "text": [
            "<class 'pandas.core.frame.DataFrame'>\n",
            "RangeIndex: 341561 entries, 0 to 341560\n",
            "Columns: 449 entries, status to mean_city_PrivatePool\n",
            "dtypes: float64(316), int64(117), object(16)\n",
            "memory usage: 1.1+ GB\n"
          ]
        }
      ]
    }
  ],
  "metadata": {
    "colab": {
      "collapsed_sections": [
        "8FgW3269Zp8x",
        "9NytEuiwIkwb",
        "YZHjFM722Z14",
        "JdWJi52wF186",
        "eCe_jn9WHG_Q",
        "rb1CAYK8D26-",
        "GeyK08O0xdjx",
        "FPe98wj971aw",
        "hlOootLP5sjZ",
        "bWIfE6W970To",
        "kmoIbf-a8CJJ",
        "QtvKM2GedvoE",
        "h7Qn5zGx7zNV",
        "IprFF8cH55lJ",
        "8IF5VYga8UXX",
        "Kh_Tq2DQ7wRY",
        "xQb_pRqe8aah",
        "ujUcd0MBJe8I",
        "YK-4TAyo7vCo",
        "EhYI6BCHFbnG",
        "_6EVmixm7tYH",
        "Aiai4gbFomdB",
        "Puj3qTbg7rZn",
        "77mre1xzsMqt",
        "Yr709Esx7o8h",
        "dFFUNPTmJ2JW",
        "EyA8XsK-7mnQ",
        "e6SUbBN0lTbU",
        "oQKUmBSI7i9g",
        "8SnAEUNSUEef",
        "QtzSpeyXUuqV",
        "DyGYAZgQjNtu",
        "Y69yItFgxAAx",
        "sMiFCUsi657g",
        "--DGGNHs7J65",
        "0taoBCpFazC3",
        "qZiiQKuZW1Ok",
        "CpvZGukBiA0F",
        "BE95EuhvadWJ",
        "JkqbMLkpRsFl",
        "7TRKYELZRzoe",
        "raKKQ5qWamrp",
        "BuIXN4pNkqv8",
        "l28ckZ76YCIc",
        "vNz_vhOZgnIb",
        "WA_Qa1CDlQcq",
        "-RKlLU3OlT6L",
        "elauDQnUldRR",
        "uRlUPn10qUtJ",
        "ufpGi3JW5MiQ",
        "BXUsmM2j5R86",
        "pOlnPoIpQq_3",
        "3tTa5R-at1OG",
        "V6oQHHo3KKI4",
        "tvF-Ev1hTC9k",
        "0xYDnHOLTLja",
        "ii8ihyfXTb19",
        "tLPs_GO_TkoQ",
        "0vS_IF9OSSyy",
        "6Zm8gNXU7H9K",
        "ypOYiAX8nLvA",
        "dufnZ9Pa7Nki",
        "rHasvugicBwL",
        "UiS87S_crD7_",
        "6Rcb9dqcJQ9w",
        "ifqcv13dj6Ek",
        "-H4KichvkWcL",
        "n8t0ydjDHcdl",
        "KxzGx_TGc513"
      ],
      "name": "diplom_clean_FE_EDA.ipynb",
      "provenance": []
    },
    "gpuClass": "standard",
    "kernelspec": {
      "display_name": "Python 3",
      "name": "python3"
    },
    "language_info": {
      "name": "python"
    }
  },
  "nbformat": 4,
  "nbformat_minor": 0
}