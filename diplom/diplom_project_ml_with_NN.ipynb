{
  "metadata": {
    "kernelspec": {
      "language": "python",
      "display_name": "Python 3",
      "name": "python3"
    },
    "language_info": {
      "name": "python",
      "version": "3.7.12",
      "mimetype": "text/x-python",
      "codemirror_mode": {
        "name": "ipython",
        "version": 3
      },
      "pygments_lexer": "ipython3",
      "nbconvert_exporter": "python",
      "file_extension": ".py"
    },
    "colab": {
      "name": "diplom_project_ml_with_NN.ipynb",
      "provenance": [],
      "collapsed_sections": [
        "8FgW3269Zp8x",
        "9NytEuiwIkwb",
        "JdWJi52wF186",
        "CZokxQOYjqvx",
        "kX8P4fb9i2pn",
        "Ag4x0oc2Y57Q",
        "XsVthvM9lPMO",
        "S6kfGM63DibC",
        "thrgRBplu3Dw",
        "IXatUUU7LsUo",
        "JNy_RNNbQugT",
        "6OryaitP19mf",
        "2rF89LCc19mh",
        "WVEwq3Wq2FU-"
      ]
    },
    "gpuClass": "standard",
    "accelerator": "GPU"
  },
  "nbformat_minor": 0,
  "nbformat": 4,
  "cells": [
    {
      "cell_type": "code",
      "source": [
        "!pip install catboost"
      ],
      "metadata": {
        "id": "DZUo-k8fZy1X",
        "outputId": "73b4a2c9-4d7b-44d1-bf42-8008a5399c72",
        "execution": {
          "iopub.status.busy": "2022-07-01T14:57:48.731667Z",
          "iopub.execute_input": "2022-07-01T14:57:48.732740Z",
          "iopub.status.idle": "2022-07-01T14:58:01.875729Z",
          "shell.execute_reply.started": "2022-07-01T14:57:48.732686Z",
          "shell.execute_reply": "2022-07-01T14:58:01.874416Z"
        },
        "trusted": true,
        "colab": {
          "base_uri": "https://localhost:8080/"
        }
      },
      "execution_count": 1,
      "outputs": [
        {
          "output_type": "stream",
          "name": "stdout",
          "text": [
            "Looking in indexes: https://pypi.org/simple, https://us-python.pkg.dev/colab-wheels/public/simple/\n",
            "Requirement already satisfied: catboost in /usr/local/lib/python3.7/dist-packages (1.0.6)\n",
            "Requirement already satisfied: numpy>=1.16.0 in /usr/local/lib/python3.7/dist-packages (from catboost) (1.21.6)\n",
            "Requirement already satisfied: graphviz in /usr/local/lib/python3.7/dist-packages (from catboost) (0.10.1)\n",
            "Requirement already satisfied: pandas>=0.24.0 in /usr/local/lib/python3.7/dist-packages (from catboost) (1.3.5)\n",
            "Requirement already satisfied: plotly in /usr/local/lib/python3.7/dist-packages (from catboost) (5.5.0)\n",
            "Requirement already satisfied: six in /usr/local/lib/python3.7/dist-packages (from catboost) (1.15.0)\n",
            "Requirement already satisfied: scipy in /usr/local/lib/python3.7/dist-packages (from catboost) (1.7.3)\n",
            "Requirement already satisfied: matplotlib in /usr/local/lib/python3.7/dist-packages (from catboost) (3.2.2)\n",
            "Requirement already satisfied: pytz>=2017.3 in /usr/local/lib/python3.7/dist-packages (from pandas>=0.24.0->catboost) (2022.1)\n",
            "Requirement already satisfied: python-dateutil>=2.7.3 in /usr/local/lib/python3.7/dist-packages (from pandas>=0.24.0->catboost) (2.8.2)\n",
            "Requirement already satisfied: pyparsing!=2.0.4,!=2.1.2,!=2.1.6,>=2.0.1 in /usr/local/lib/python3.7/dist-packages (from matplotlib->catboost) (3.0.9)\n",
            "Requirement already satisfied: kiwisolver>=1.0.1 in /usr/local/lib/python3.7/dist-packages (from matplotlib->catboost) (1.4.3)\n",
            "Requirement already satisfied: cycler>=0.10 in /usr/local/lib/python3.7/dist-packages (from matplotlib->catboost) (0.11.0)\n",
            "Requirement already satisfied: typing-extensions in /usr/local/lib/python3.7/dist-packages (from kiwisolver>=1.0.1->matplotlib->catboost) (4.1.1)\n",
            "Requirement already satisfied: tenacity>=6.2.0 in /usr/local/lib/python3.7/dist-packages (from plotly->catboost) (8.0.1)\n"
          ]
        }
      ]
    },
    {
      "cell_type": "markdown",
      "source": [
        "# Импорты"
      ],
      "metadata": {
        "id": "8FgW3269Zp8x"
      }
    },
    {
      "cell_type": "code",
      "source": [
        "from google.colab import drive\n",
        "\n",
        "\n",
        "import numpy as np # для работы с массивами\n",
        "import pandas as pd # для работы с DataFrame \n",
        "\n",
        "# Загружаем специальный инструмент для разбивки:\n",
        "from sklearn.model_selection import train_test_split\n",
        "\n",
        "\n",
        "# инструменты для оценки точности модели \n",
        "from sklearn import metrics \n",
        "from sklearn.metrics import mean_absolute_percentage_error as mape\n",
        "from sklearn.metrics import mean_absolute_error as mae\n",
        "\n",
        "# модуль для работы с полиноминальными признаками\n",
        "from sklearn.preprocessing import PolynomialFeatures\n",
        "\n",
        "\n",
        "# Модули для нахождения выбросов\n",
        "from sklearn.cluster import DBSCAN\n",
        "\n",
        "# Модули для маштабирования\n",
        "from sklearn.preprocessing import MinMaxScaler\n",
        "from sklearn import preprocessing\n",
        "from sklearn.preprocessing import StandardScaler\n",
        "from sklearn.preprocessing import RobustScaler\n",
        "\n",
        "\n",
        "# Модуль для вывода прогресса\n",
        "from tqdm.notebook import tqdm\n",
        "\n",
        "# Модули алгоритмов\n",
        "from catboost import CatBoostRegressor\n",
        "from sklearn.ensemble import RandomForestRegressor\n",
        "from sklearn.ensemble import GradientBoostingRegressor  \n",
        "import xgboost as xgb\n",
        "from sklearn.ensemble import StackingRegressor\n",
        "from sklearn.linear_model import LinearRegression\n",
        "\n",
        "\n",
        "from sklearn.preprocessing import LabelEncoder\n",
        "from sklearn.model_selection import KFold\n",
        "\n",
        "# модуль для подбора параметров модели\n",
        "from sklearn.model_selection import GridSearchCV\n",
        "\n",
        "# keras\n",
        "import tensorflow as tf\n",
        "import tensorflow.keras.layers as L\n",
        "from tensorflow.keras.models import Model, Sequential\n",
        "from tensorflow.keras.preprocessing.text import Tokenizer\n",
        "from tensorflow.keras.preprocessing import sequence\n",
        "from tensorflow.keras.callbacks import ModelCheckpoint, EarlyStopping\n",
        "from tensorflow.keras.activations import *\n",
        "from tensorflow.keras.applications import *\n",
        "\n",
        "#import keras\n",
        "from keras import optimizers\n",
        "import albumentations\n",
        "\n",
        "# Модули для визуализации\n",
        "import matplotlib\n",
        "import matplotlib.pyplot as plt\n",
        "import seaborn as sns\n",
        "import scipy.stats as stats"
      ],
      "metadata": {
        "id": "tefidfFO4D03",
        "execution": {
          "iopub.status.busy": "2022-07-01T14:58:01.880046Z",
          "iopub.execute_input": "2022-07-01T14:58:01.880344Z",
          "iopub.status.idle": "2022-07-01T14:58:09.469162Z",
          "shell.execute_reply.started": "2022-07-01T14:58:01.880315Z",
          "shell.execute_reply": "2022-07-01T14:58:09.468170Z"
        },
        "trusted": true
      },
      "execution_count": 2,
      "outputs": []
    },
    {
      "cell_type": "markdown",
      "source": [
        "# Настройки Pandas"
      ],
      "metadata": {
        "id": "9NytEuiwIkwb"
      }
    },
    {
      "cell_type": "code",
      "source": [
        "# Настройки Pandas\n",
        "# Сброс ограничений на количество выводимых рядов\n",
        "pd.set_option('display.max_rows', 20)\n",
        "# Сброс ограничений на число столбцов\n",
        "pd.set_option('display.max_columns', 20)"
      ],
      "metadata": {
        "id": "Q7yZa1__IlaL",
        "execution": {
          "iopub.status.busy": "2022-07-01T14:58:09.470648Z",
          "iopub.execute_input": "2022-07-01T14:58:09.471352Z",
          "iopub.status.idle": "2022-07-01T14:58:09.479132Z",
          "shell.execute_reply.started": "2022-07-01T14:58:09.471315Z",
          "shell.execute_reply": "2022-07-01T14:58:09.478183Z"
        },
        "trusted": true
      },
      "execution_count": 3,
      "outputs": []
    },
    {
      "cell_type": "markdown",
      "source": [
        "# Функции"
      ],
      "metadata": {
        "id": "JdWJi52wF186"
      }
    },
    {
      "cell_type": "code",
      "source": [
        "def load(url,col_del):\n",
        "    df = pd.read_csv(url).drop(col_del, axis = 1)\n",
        "    return df\n",
        "\n",
        "\n",
        "def df_column_uniquify(df):\n",
        "    df_columns = df.columns\n",
        "    new_columns = []\n",
        "    for item in df_columns:\n",
        "        counter = 0\n",
        "        newitem = item\n",
        "        while newitem in new_columns:\n",
        "            counter += 1\n",
        "            newitem = \"{}_{}\".format(item, counter)\n",
        "        new_columns.append(newitem)\n",
        "    df.columns = new_columns\n",
        "    return df\n",
        "\n",
        "\n",
        "def PreProc(data, log_col,colum):\n",
        "    # Отделяем таргет\n",
        "    y = data.target\n",
        "    \n",
        "    # Удаляем таргет из данных\n",
        "    data.drop(['target'], inplace = True,axis = 1)\n",
        "    \n",
        "    # Логарифмируем выбраные столбцы\n",
        "    data[log_col] = np.log(data[log_col])\n",
        "    \n",
        "    # Закодируем категориальные признаки.\n",
        "    for colum in cat:\n",
        "        data[colum] = data[colum].astype('category').cat.codes\n",
        "\n",
        "    # Нормализируем данные (RobustScaler должен быть устойчив к выбросам).\n",
        "    scaler = RobustScaler() \n",
        "    for column in num_col:\n",
        "        data[column] = scaler.fit_transform(data[[column]])[:,0]\n",
        "    \n",
        "    \n",
        "    return y, data"
      ],
      "metadata": {
        "execution": {
          "iopub.status.busy": "2022-07-01T14:58:09.485272Z",
          "iopub.execute_input": "2022-07-01T14:58:09.485559Z",
          "iopub.status.idle": "2022-07-01T14:58:09.498891Z",
          "shell.execute_reply.started": "2022-07-01T14:58:09.485534Z",
          "shell.execute_reply": "2022-07-01T14:58:09.497889Z"
        },
        "trusted": true,
        "id": "nyd0i9yJDia0"
      },
      "execution_count": 4,
      "outputs": []
    },
    {
      "cell_type": "markdown",
      "source": [
        "# Загрузка данных"
      ],
      "metadata": {
        "id": "CZokxQOYjqvx"
      }
    },
    {
      "cell_type": "code",
      "source": [
        "drive.mount('/content/gdrive', force_remount=True)\n",
        "!ls /content/gdrive/\n",
        "!ls /content/gdrive/\"My Drive\"\n",
        "!cp /content/gdrive/'My Drive'/Diplom_project/data.csv .\n",
        "!ls\n"
      ],
      "metadata": {
        "colab": {
          "base_uri": "https://localhost:8080/"
        },
        "id": "8ze2CXZrEEwo",
        "outputId": "d8516e82-d324-4628-fa01-14229e9ce1e4"
      },
      "execution_count": 5,
      "outputs": [
        {
          "output_type": "stream",
          "name": "stdout",
          "text": [
            "Mounted at /content/gdrive\n",
            "MyDrive\n",
            "'Colab Notebooks'   SWOT.gsheet\t\t       'Новая таблица.gsheet'\n",
            " Colab_Notebooks    TEMNIAKOVA_08_2021.gsheet   Остальное\n",
            " datasets\t    TEMNIAKOVA_08_2021.xls     'Таблицы DataScience'\n",
            " Diplom_project    'Книги по IT'\n",
            "catboost_info  data.csv  gdrive  sample_data\n"
          ]
        }
      ]
    },
    {
      "cell_type": "code",
      "source": [
        "#url = '/content/gdrive/MyDrive/Diplom_project/df_after_FE_EDA.csv'\n",
        "url = '/content/gdrive/MyDrive/Diplom_project/df_func_after_FE_EDA_map.csv'\n",
        "\n",
        "col_del = ['Unnamed: 0','fireplace','cooling','name','data_distance','data_grades',\n",
        "           'rating','rating_sum','rating_mean','rating_median','data_distance_sum','data_distance_mean','data_distance_median']"
      ],
      "metadata": {
        "execution": {
          "iopub.status.busy": "2022-07-01T14:58:09.501608Z",
          "iopub.execute_input": "2022-07-01T14:58:09.502683Z",
          "iopub.status.idle": "2022-07-01T14:58:09.514329Z",
          "shell.execute_reply.started": "2022-07-01T14:58:09.502625Z",
          "shell.execute_reply": "2022-07-01T14:58:09.513335Z"
        },
        "trusted": true,
        "id": "LuzaZUEEDia1"
      },
      "execution_count": 6,
      "outputs": []
    },
    {
      "cell_type": "code",
      "source": [
        "# Загружаем данные\n",
        "df = load(url,col_del)\n",
        "df['mean_state_sqft'] = df['mean_state_sqft'] = df['state'].map(df.groupby('state')['sqft'].mean()) #!"
      ],
      "metadata": {
        "execution": {
          "iopub.status.busy": "2022-07-01T14:58:22.111748Z",
          "iopub.execute_input": "2022-07-01T14:58:22.112164Z",
          "iopub.status.idle": "2022-07-01T14:58:50.635628Z",
          "shell.execute_reply.started": "2022-07-01T14:58:22.112133Z",
          "shell.execute_reply": "2022-07-01T14:58:50.634626Z"
        },
        "trusted": true,
        "colab": {
          "base_uri": "https://localhost:8080/"
        },
        "id": "wfQgTwShDia1",
        "outputId": "92139809-fe7f-487d-ca77-e44ab39815e4"
      },
      "execution_count": 7,
      "outputs": [
        {
          "output_type": "stream",
          "name": "stderr",
          "text": [
            "/usr/local/lib/python3.7/dist-packages/ipykernel_launcher.py:2: DtypeWarning: Columns (8) have mixed types.Specify dtype option on import or set low_memory=False.\n",
            "  \n"
          ]
        }
      ]
    },
    {
      "cell_type": "code",
      "source": [
        "# При загрузке датасета проявляються столбцы с одинаковыми названиями применим функцию которая это исправит.\n",
        "df = df_column_uniquify(df)"
      ],
      "metadata": {
        "id": "u6KP0DrvXe-4",
        "execution": {
          "iopub.status.busy": "2022-07-01T14:58:50.641237Z",
          "iopub.execute_input": "2022-07-01T14:58:50.643654Z",
          "iopub.status.idle": "2022-07-01T14:58:50.652967Z",
          "shell.execute_reply.started": "2022-07-01T14:58:50.643603Z",
          "shell.execute_reply": "2022-07-01T14:58:50.652076Z"
        },
        "trusted": true
      },
      "execution_count": 8,
      "outputs": []
    },
    {
      "cell_type": "code",
      "source": [
        "# Делим данные на трейн и вал.тест\n",
        "Train, val, = train_test_split(df, test_size=0.2, shuffle=True, random_state=42)"
      ],
      "metadata": {
        "execution": {
          "iopub.status.busy": "2022-07-01T14:58:50.658170Z",
          "iopub.execute_input": "2022-07-01T14:58:50.659229Z",
          "iopub.status.idle": "2022-07-01T14:58:52.519725Z",
          "shell.execute_reply.started": "2022-07-01T14:58:50.659184Z",
          "shell.execute_reply": "2022-07-01T14:58:52.518661Z"
        },
        "trusted": true,
        "id": "ym_sJ0FsDia2"
      },
      "execution_count": 9,
      "outputs": []
    },
    {
      "cell_type": "code",
      "source": [
        "data = Train\n",
        "#data = df.copy()"
      ],
      "metadata": {
        "execution": {
          "iopub.status.busy": "2022-07-01T14:58:52.521919Z",
          "iopub.execute_input": "2022-07-01T14:58:52.522937Z",
          "iopub.status.idle": "2022-07-01T14:58:52.528080Z",
          "shell.execute_reply.started": "2022-07-01T14:58:52.522898Z",
          "shell.execute_reply": "2022-07-01T14:58:52.526777Z"
        },
        "trusted": true,
        "id": "464zffcJDia3"
      },
      "execution_count": 10,
      "outputs": []
    },
    {
      "cell_type": "markdown",
      "source": [
        "\n",
        "\n",
        "# CatBoost"
      ],
      "metadata": {
        "id": "kX8P4fb9i2pn"
      }
    },
    {
      "cell_type": "code",
      "source": [
        "# Разделим признаки на числовые и категориальные\n",
        "num_col = ['baths','sqft','beds','stories','PrivatePool','year_built',\n",
        "           'remodeled_year','lotsize','price_sqft','mean_city_data_distance','year_built_mean_city',\n",
        "           'year_remodeled_mean_city','mean_state_rating','mean_state_data_distance',\n",
        "           'year_built_mean_state','year_remodeled_mean_state','beds__mean_state','median_city_sqft','mean_city_sqft','max_city_sqft','min_city_sqft',\n",
        "           'min_state_sqft','mean_state_sqft','median_city_stories','mean_city_stories','min_state_stories',\n",
        "           'mean_city_PrivatePool'\n",
        "          ]\n",
        "\n",
        "\n",
        "cat = ['status', 'propertyType', 'street','city', 'sqft',\n",
        "       'zipcode','state', 'heating','parking','propertyType_1','parking_',]\n",
        "\n",
        "\n",
        "log_col = ['lotsize']"
      ],
      "metadata": {
        "execution": {
          "iopub.status.busy": "2022-07-01T14:58:52.529901Z",
          "iopub.execute_input": "2022-07-01T14:58:52.530791Z",
          "iopub.status.idle": "2022-07-01T14:58:52.542532Z",
          "shell.execute_reply.started": "2022-07-01T14:58:52.530669Z",
          "shell.execute_reply": "2022-07-01T14:58:52.541536Z"
        },
        "trusted": true,
        "id": "3sba_GQrDia3"
      },
      "execution_count": 11,
      "outputs": []
    },
    {
      "cell_type": "code",
      "source": [
        "# Предобрабатываем данные трейна\n",
        "y, data = PreProc(data, log_col,cat)"
      ],
      "metadata": {
        "execution": {
          "iopub.status.busy": "2022-07-01T14:58:55.909177Z",
          "iopub.execute_input": "2022-07-01T14:58:55.910191Z",
          "iopub.status.idle": "2022-07-01T14:58:58.467455Z",
          "shell.execute_reply.started": "2022-07-01T14:58:55.910140Z",
          "shell.execute_reply": "2022-07-01T14:58:58.466357Z"
        },
        "trusted": true,
        "id": "16cPYV_BDia4"
      },
      "execution_count": 12,
      "outputs": []
    },
    {
      "cell_type": "code",
      "source": [
        "# Предобрабатываем данные вал теста\n",
        "y_val, data_val = PreProc(val, log_col,cat)"
      ],
      "metadata": {
        "execution": {
          "iopub.status.busy": "2022-07-01T14:58:58.469759Z",
          "iopub.execute_input": "2022-07-01T14:58:58.470224Z",
          "iopub.status.idle": "2022-07-01T14:58:59.229717Z",
          "shell.execute_reply.started": "2022-07-01T14:58:58.470182Z",
          "shell.execute_reply": "2022-07-01T14:58:59.228105Z"
        },
        "trusted": true,
        "id": "35zsSRtvDia4"
      },
      "execution_count": 13,
      "outputs": []
    },
    {
      "cell_type": "code",
      "source": [
        "# split данных\n",
        "X_train, X_test, y_train, y_test = train_test_split(data, np.log(y), test_size=0.2, shuffle=True, random_state=42)"
      ],
      "metadata": {
        "id": "2Khh9mdekPD9",
        "execution": {
          "iopub.status.busy": "2022-07-01T14:59:01.061624Z",
          "iopub.execute_input": "2022-07-01T14:59:01.062069Z",
          "iopub.status.idle": "2022-07-01T14:59:02.014468Z",
          "shell.execute_reply.started": "2022-07-01T14:59:01.062030Z",
          "shell.execute_reply": "2022-07-01T14:59:02.013205Z"
        },
        "trusted": true
      },
      "execution_count": 14,
      "outputs": []
    },
    {
      "cell_type": "code",
      "source": [
        "# Обучаем\n",
        "model_cat = CatBoostRegressor(iterations = 50000,\n",
        "                          learning_rate = 0.01,\n",
        "                          l2_leaf_reg=2,\n",
        "                          random_seed = 42,\n",
        "                          eval_metric='MAPE',\n",
        "                          custom_metric=['RMSE', 'MAE'],\n",
        "                          od_wait=500,\n",
        "                          task_type='GPU',\n",
        "\n",
        "                         )\n",
        "model_cat.fit(X_train, y_train,\n",
        "         eval_set=(X_test, y_test),\n",
        "         verbose_eval=1000,\n",
        "         use_best_model=True,\n",
        "         #plot=True\n",
        "         )"
      ],
      "metadata": {
        "id": "v4nyvYhumWQH",
        "execution": {
          "iopub.status.busy": "2022-07-01T14:59:04.117190Z",
          "iopub.execute_input": "2022-07-01T14:59:04.117547Z",
          "iopub.status.idle": "2022-07-01T15:06:12.887289Z",
          "shell.execute_reply.started": "2022-07-01T14:59:04.117516Z",
          "shell.execute_reply": "2022-07-01T15:06:12.886336Z"
        },
        "trusted": true,
        "colab": {
          "base_uri": "https://localhost:8080/"
        },
        "outputId": "ae825a3e-f896-4c41-a14a-5a8de3b0a1ab"
      },
      "execution_count": 20,
      "outputs": [
        {
          "output_type": "stream",
          "name": "stderr",
          "text": [
            "Default metric period is 5 because MAE is/are not implemented for GPU\n"
          ]
        },
        {
          "output_type": "stream",
          "name": "stdout",
          "text": [
            "0:\tlearn: 0.0539140\ttest: 0.0540221\tbest: 0.0540221 (0)\ttotal: 60.2ms\tremaining: 50m 11s\n",
            "1000:\tlearn: 0.0103776\ttest: 0.0104243\tbest: 0.0104243 (1000)\ttotal: 11.6s\tremaining: 9m 28s\n",
            "2000:\tlearn: 0.0094419\ttest: 0.0095469\tbest: 0.0095469 (2000)\ttotal: 17.4s\tremaining: 6m 57s\n",
            "3000:\tlearn: 0.0090414\ttest: 0.0092080\tbest: 0.0092080 (3000)\ttotal: 23.2s\tremaining: 6m 2s\n",
            "4000:\tlearn: 0.0087900\ttest: 0.0090142\tbest: 0.0090142 (4000)\ttotal: 28.9s\tremaining: 5m 32s\n",
            "5000:\tlearn: 0.0086045\ttest: 0.0088862\tbest: 0.0088862 (5000)\ttotal: 34.7s\tremaining: 5m 12s\n",
            "6000:\tlearn: 0.0084602\ttest: 0.0087954\tbest: 0.0087954 (6000)\ttotal: 40.5s\tremaining: 4m 56s\n",
            "7000:\tlearn: 0.0083412\ttest: 0.0087242\tbest: 0.0087242 (7000)\ttotal: 47.7s\tremaining: 4m 53s\n",
            "8000:\tlearn: 0.0082398\ttest: 0.0086686\tbest: 0.0086686 (8000)\ttotal: 54s\tremaining: 4m 43s\n",
            "9000:\tlearn: 0.0081468\ttest: 0.0086206\tbest: 0.0086206 (9000)\ttotal: 59.8s\tremaining: 4m 32s\n",
            "10000:\tlearn: 0.0080637\ttest: 0.0085792\tbest: 0.0085792 (10000)\ttotal: 1m 5s\tremaining: 4m 22s\n",
            "11000:\tlearn: 0.0079847\ttest: 0.0085437\tbest: 0.0085437 (11000)\ttotal: 1m 11s\tremaining: 4m 13s\n",
            "12000:\tlearn: 0.0079135\ttest: 0.0085137\tbest: 0.0085137 (12000)\ttotal: 1m 17s\tremaining: 4m 4s\n",
            "13000:\tlearn: 0.0078459\ttest: 0.0084871\tbest: 0.0084870 (12999)\ttotal: 1m 22s\tremaining: 3m 56s\n",
            "14000:\tlearn: 0.0077819\ttest: 0.0084611\tbest: 0.0084611 (14000)\ttotal: 1m 28s\tremaining: 3m 48s\n",
            "15000:\tlearn: 0.0077207\ttest: 0.0084370\tbest: 0.0084369 (14998)\ttotal: 1m 34s\tremaining: 3m 40s\n",
            "16000:\tlearn: 0.0076619\ttest: 0.0084161\tbest: 0.0084161 (16000)\ttotal: 1m 40s\tremaining: 3m 33s\n",
            "17000:\tlearn: 0.0076081\ttest: 0.0083945\tbest: 0.0083945 (17000)\ttotal: 1m 46s\tremaining: 3m 26s\n",
            "18000:\tlearn: 0.0075566\ttest: 0.0083782\tbest: 0.0083782 (17989)\ttotal: 1m 51s\tremaining: 3m 18s\n",
            "19000:\tlearn: 0.0075031\ttest: 0.0083593\tbest: 0.0083593 (19000)\ttotal: 1m 57s\tremaining: 3m 12s\n",
            "20000:\tlearn: 0.0074541\ttest: 0.0083446\tbest: 0.0083446 (20000)\ttotal: 2m 5s\tremaining: 3m 8s\n",
            "21000:\tlearn: 0.0074061\ttest: 0.0083289\tbest: 0.0083289 (20995)\ttotal: 2m 11s\tremaining: 3m 1s\n",
            "22000:\tlearn: 0.0073587\ttest: 0.0083143\tbest: 0.0083143 (22000)\ttotal: 2m 17s\tremaining: 2m 54s\n",
            "23000:\tlearn: 0.0073149\ttest: 0.0083020\tbest: 0.0083019 (22989)\ttotal: 2m 23s\tremaining: 2m 48s\n",
            "24000:\tlearn: 0.0072718\ttest: 0.0082890\tbest: 0.0082890 (24000)\ttotal: 2m 29s\tremaining: 2m 41s\n",
            "25000:\tlearn: 0.0072295\ttest: 0.0082776\tbest: 0.0082776 (24991)\ttotal: 2m 34s\tremaining: 2m 34s\n",
            "26000:\tlearn: 0.0071862\ttest: 0.0082633\tbest: 0.0082632 (25997)\ttotal: 2m 40s\tremaining: 2m 28s\n",
            "27000:\tlearn: 0.0071463\ttest: 0.0082538\tbest: 0.0082538 (26991)\ttotal: 2m 46s\tremaining: 2m 21s\n",
            "28000:\tlearn: 0.0071067\ttest: 0.0082436\tbest: 0.0082436 (27999)\ttotal: 2m 52s\tremaining: 2m 15s\n",
            "29000:\tlearn: 0.0070688\ttest: 0.0082340\tbest: 0.0082340 (28998)\ttotal: 2m 58s\tremaining: 2m 9s\n",
            "30000:\tlearn: 0.0070338\ttest: 0.0082253\tbest: 0.0082253 (29997)\ttotal: 3m 4s\tremaining: 2m 2s\n",
            "31000:\tlearn: 0.0069987\ttest: 0.0082160\tbest: 0.0082160 (31000)\ttotal: 3m 9s\tremaining: 1m 56s\n",
            "32000:\tlearn: 0.0069655\ttest: 0.0082098\tbest: 0.0082098 (31953)\ttotal: 3m 17s\tremaining: 1m 51s\n",
            "33000:\tlearn: 0.0069300\ttest: 0.0082010\tbest: 0.0082010 (33000)\ttotal: 3m 23s\tremaining: 1m 44s\n",
            "34000:\tlearn: 0.0068951\ttest: 0.0081926\tbest: 0.0081926 (33998)\ttotal: 3m 29s\tremaining: 1m 38s\n",
            "35000:\tlearn: 0.0068611\ttest: 0.0081849\tbest: 0.0081849 (34998)\ttotal: 3m 35s\tremaining: 1m 32s\n",
            "36000:\tlearn: 0.0068288\ttest: 0.0081780\tbest: 0.0081779 (35987)\ttotal: 3m 41s\tremaining: 1m 25s\n",
            "37000:\tlearn: 0.0067970\ttest: 0.0081720\tbest: 0.0081720 (37000)\ttotal: 3m 46s\tremaining: 1m 19s\n",
            "38000:\tlearn: 0.0067674\ttest: 0.0081678\tbest: 0.0081678 (37981)\ttotal: 3m 52s\tremaining: 1m 13s\n",
            "39000:\tlearn: 0.0067373\ttest: 0.0081618\tbest: 0.0081618 (39000)\ttotal: 3m 58s\tremaining: 1m 7s\n",
            "40000:\tlearn: 0.0067080\ttest: 0.0081571\tbest: 0.0081571 (39986)\ttotal: 4m 4s\tremaining: 1m 1s\n",
            "41000:\tlearn: 0.0066797\ttest: 0.0081519\tbest: 0.0081518 (40999)\ttotal: 4m 10s\tremaining: 55s\n",
            "42000:\tlearn: 0.0066522\ttest: 0.0081471\tbest: 0.0081471 (41995)\ttotal: 4m 16s\tremaining: 48.8s\n",
            "43000:\tlearn: 0.0066233\ttest: 0.0081418\tbest: 0.0081418 (42997)\ttotal: 4m 22s\tremaining: 42.7s\n",
            "44000:\tlearn: 0.0065959\ttest: 0.0081369\tbest: 0.0081369 (43999)\ttotal: 4m 30s\tremaining: 36.8s\n",
            "45000:\tlearn: 0.0065683\ttest: 0.0081316\tbest: 0.0081315 (44939)\ttotal: 4m 36s\tremaining: 30.7s\n",
            "46000:\tlearn: 0.0065420\ttest: 0.0081267\tbest: 0.0081266 (45993)\ttotal: 4m 41s\tremaining: 24.5s\n",
            "47000:\tlearn: 0.0065151\ttest: 0.0081215\tbest: 0.0081214 (46989)\ttotal: 4m 47s\tremaining: 18.4s\n",
            "48000:\tlearn: 0.0064899\ttest: 0.0081180\tbest: 0.0081179 (47977)\ttotal: 4m 53s\tremaining: 12.2s\n",
            "49000:\tlearn: 0.0064639\ttest: 0.0081140\tbest: 0.0081140 (48963)\ttotal: 4m 59s\tremaining: 6.11s\n",
            "49999:\tlearn: 0.0064388\ttest: 0.0081099\tbest: 0.0081098 (49970)\ttotal: 5m 5s\tremaining: 0us\n",
            "bestTest = 0.008109799845\n",
            "bestIteration = 49970\n",
            "Shrink model to first 49971 iterations.\n"
          ]
        },
        {
          "output_type": "execute_result",
          "data": {
            "text/plain": [
              "<catboost.core.CatBoostRegressor at 0x7f7058f7f650>"
            ]
          },
          "metadata": {},
          "execution_count": 20
        }
      ]
    },
    {
      "cell_type": "code",
      "source": [
        "# Результат метрики на трейне В 2 раза лучше чем наивная модель\n",
        "catboost_predict_train = model_cat.predict(X_test)"
      ],
      "metadata": {
        "id": "Cp9n6kyYwjNY",
        "execution": {
          "iopub.status.busy": "2022-07-01T15:06:12.891886Z",
          "iopub.execute_input": "2022-07-01T15:06:12.894396Z",
          "iopub.status.idle": "2022-07-01T15:06:15.103952Z",
          "shell.execute_reply.started": "2022-07-01T15:06:12.894360Z",
          "shell.execute_reply": "2022-07-01T15:06:15.102810Z"
        },
        "trusted": true
      },
      "execution_count": 21,
      "outputs": []
    },
    {
      "cell_type": "code",
      "source": [
        "print(f\"TEST mape: {(mape(np.exp(y_test), np.exp(catboost_predict_train)))*100:0.2f}%\")\n",
        "print(f\"TEST mae: {(mae(np.exp(y_test), np.exp(catboost_predict_train))):0.0f}$\")"
      ],
      "metadata": {
        "id": "1qbI3nRETlO6",
        "colab": {
          "base_uri": "https://localhost:8080/"
        },
        "outputId": "3d85cf3a-c0bb-49a4-acf7-c42e8e9561fb"
      },
      "execution_count": 22,
      "outputs": [
        {
          "output_type": "stream",
          "name": "stdout",
          "text": [
            "TEST mape: 11.38%\n",
            "TEST mae: 36385$\n"
          ]
        }
      ]
    },
    {
      "cell_type": "code",
      "source": [
        "# Результат метрики на Вал тесте\n",
        "catboost_predict_val = model_cat.predict(data_val)"
      ],
      "metadata": {
        "execution": {
          "iopub.status.busy": "2022-07-01T15:06:15.105435Z",
          "iopub.execute_input": "2022-07-01T15:06:15.105816Z",
          "iopub.status.idle": "2022-07-01T15:06:17.585940Z",
          "shell.execute_reply.started": "2022-07-01T15:06:15.105779Z",
          "shell.execute_reply": "2022-07-01T15:06:17.584866Z"
        },
        "trusted": true,
        "id": "ILfk_IM_Dia5"
      },
      "execution_count": 23,
      "outputs": []
    },
    {
      "cell_type": "code",
      "source": [
        "print(f\"TEST mape: {(mape(y_val, np.exp(catboost_predict_val)))*100:0.2f}%\")\n",
        "print(f\"TEST mae: {(mae(y_val, np.exp(catboost_predict_val))):0.0f}$\")"
      ],
      "metadata": {
        "id": "I8hvCU69aj8A",
        "colab": {
          "base_uri": "https://localhost:8080/"
        },
        "outputId": "57e1e1d1-faea-402f-9246-5636fbcd49c3"
      },
      "execution_count": 24,
      "outputs": [
        {
          "output_type": "stream",
          "name": "stdout",
          "text": [
            "TEST mape: 10.88%\n",
            "TEST mae: 42004$\n"
          ]
        }
      ]
    },
    {
      "cell_type": "code",
      "source": [
        "catboost_predict_train = pd.Series(catboost_predict_train)\n",
        "catboost_predict_train.to_csv('/content/gdrive/MyDrive/Diplom_project/catboost_predict_train.csv')"
      ],
      "metadata": {
        "execution": {
          "iopub.status.busy": "2022-07-01T15:06:17.588448Z",
          "iopub.execute_input": "2022-07-01T15:06:17.588860Z",
          "iopub.status.idle": "2022-07-01T15:06:17.778869Z",
          "shell.execute_reply.started": "2022-07-01T15:06:17.588823Z",
          "shell.execute_reply": "2022-07-01T15:06:17.777807Z"
        },
        "trusted": true,
        "id": "OuT7TR5RDia6"
      },
      "execution_count": 55,
      "outputs": []
    },
    {
      "cell_type": "code",
      "source": [
        "catboost_predict_val = pd.Series(catboost_predict_val)\n",
        "catboost_predict_val.to_csv('/content/gdrive/MyDrive/Diplom_project/catboost_predict_val.csv')"
      ],
      "metadata": {
        "execution": {
          "iopub.status.busy": "2022-07-01T15:06:17.780118Z",
          "iopub.execute_input": "2022-07-01T15:06:17.781101Z",
          "iopub.status.idle": "2022-07-01T15:06:18.006739Z",
          "shell.execute_reply.started": "2022-07-01T15:06:17.781062Z",
          "shell.execute_reply": "2022-07-01T15:06:18.005746Z"
        },
        "trusted": true,
        "id": "jvp8SjBTDia6"
      },
      "execution_count": 56,
      "outputs": []
    },
    {
      "cell_type": "code",
      "source": [
        "# Смотрим какие признаки были значимы для модели\n",
        "plt.rcParams['figure.figsize'] = (13,10)\n",
        "feat_importances = pd.Series(model_cat.feature_importances_, index=X_test.columns)\n",
        "feat_importances.nlargest(50).plot(kind='barh')"
      ],
      "metadata": {
        "execution": {
          "iopub.status.busy": "2022-07-01T15:06:18.008135Z",
          "iopub.execute_input": "2022-07-01T15:06:18.008870Z",
          "iopub.status.idle": "2022-07-01T15:06:18.819051Z",
          "shell.execute_reply.started": "2022-07-01T15:06:18.008832Z",
          "shell.execute_reply": "2022-07-01T15:06:18.818082Z"
        },
        "trusted": true,
        "id": "y4EHdti-Dia6"
      },
      "execution_count": null,
      "outputs": []
    },
    {
      "cell_type": "markdown",
      "source": [
        "# Random Forest\n"
      ],
      "metadata": {
        "id": "Ag4x0oc2Y57Q"
      }
    },
    {
      "cell_type": "code",
      "source": [
        "# Делим данные на трейн и вал.тест\n",
        "Train, val, = train_test_split(df, test_size=0.2, shuffle=True, random_state=42)"
      ],
      "metadata": {
        "execution": {
          "iopub.status.busy": "2022-07-01T15:07:02.633757Z",
          "iopub.execute_input": "2022-07-01T15:07:02.634275Z",
          "iopub.status.idle": "2022-07-01T15:07:04.610058Z",
          "shell.execute_reply.started": "2022-07-01T15:07:02.634235Z",
          "shell.execute_reply": "2022-07-01T15:07:04.608913Z"
        },
        "trusted": true,
        "id": "R2FE8kI3Dia6"
      },
      "execution_count": 93,
      "outputs": []
    },
    {
      "cell_type": "code",
      "source": [
        "data = Train\n",
        "# Загружаем данные\n",
        "#data = df.copy()"
      ],
      "metadata": {
        "execution": {
          "iopub.status.busy": "2022-07-01T15:07:04.612093Z",
          "iopub.execute_input": "2022-07-01T15:07:04.612454Z",
          "iopub.status.idle": "2022-07-01T15:07:04.620606Z",
          "shell.execute_reply.started": "2022-07-01T15:07:04.612417Z",
          "shell.execute_reply": "2022-07-01T15:07:04.619313Z"
        },
        "trusted": true,
        "id": "1tY8VieGDia7"
      },
      "execution_count": 94,
      "outputs": []
    },
    {
      "cell_type": "code",
      "source": [
        "# Разделим признаки на числовые и категориальные\n",
        "num_col = ['baths','sqft','beds','stories','PrivatePool','year_built',\n",
        "           'remodeled_year','lotsize','price_sqft','mean_city_data_distance','year_built_mean_city',\n",
        "           'year_remodeled_mean_city','mean_state_rating','mean_state_data_distance',\n",
        "           'year_built_mean_state','year_remodeled_mean_state','beds__mean_state','median_city_sqft','mean_city_sqft','max_city_sqft','min_city_sqft',\n",
        "           'min_state_sqft','mean_state_sqft','median_city_stories','mean_city_stories','min_state_stories',\n",
        "           'mean_city_PrivatePool'\n",
        "          ]\n",
        "\n",
        "\n",
        "cat = ['status', 'propertyType', 'street','city', 'sqft',  \n",
        "       'zipcode','state', 'heating','parking','propertyType_1','parking_',]\n",
        "\n",
        "\n",
        "log_col = ['lotsize']"
      ],
      "metadata": {
        "execution": {
          "iopub.status.busy": "2022-07-01T15:07:05.180561Z",
          "iopub.execute_input": "2022-07-01T15:07:05.181391Z",
          "iopub.status.idle": "2022-07-01T15:07:05.188029Z",
          "shell.execute_reply.started": "2022-07-01T15:07:05.181350Z",
          "shell.execute_reply": "2022-07-01T15:07:05.187024Z"
        },
        "trusted": true,
        "id": "I3jiYtoiDia7"
      },
      "execution_count": 95,
      "outputs": []
    },
    {
      "cell_type": "code",
      "source": [
        "# При загрузке датасета проявляються столбцы с одинаковыми названиями применим функцию которая это исправит.\n",
        "data = df_column_uniquify(data)"
      ],
      "metadata": {
        "execution": {
          "iopub.status.busy": "2022-07-01T15:07:06.397312Z",
          "iopub.execute_input": "2022-07-01T15:07:06.397874Z",
          "iopub.status.idle": "2022-07-01T15:07:06.404271Z",
          "shell.execute_reply.started": "2022-07-01T15:07:06.397838Z",
          "shell.execute_reply": "2022-07-01T15:07:06.403174Z"
        },
        "trusted": true,
        "id": "LPfugdJwDia7"
      },
      "execution_count": 96,
      "outputs": []
    },
    {
      "cell_type": "code",
      "source": [
        "# Предобрабатываем данные трейна\n",
        "y, data = PreProc(data, log_col,cat)"
      ],
      "metadata": {
        "execution": {
          "iopub.status.busy": "2022-07-01T15:07:07.627209Z",
          "iopub.execute_input": "2022-07-01T15:07:07.627891Z",
          "iopub.status.idle": "2022-07-01T15:07:10.138084Z",
          "shell.execute_reply.started": "2022-07-01T15:07:07.627853Z",
          "shell.execute_reply": "2022-07-01T15:07:10.136982Z"
        },
        "trusted": true,
        "id": "G-4VRqegDia7"
      },
      "execution_count": 97,
      "outputs": []
    },
    {
      "cell_type": "code",
      "source": [
        "# Предобрабатываем данные вал теста\n",
        "y_val, data_val = PreProc(val, log_col,cat)"
      ],
      "metadata": {
        "execution": {
          "iopub.status.busy": "2022-07-01T15:07:10.140166Z",
          "iopub.execute_input": "2022-07-01T15:07:10.140817Z",
          "iopub.status.idle": "2022-07-01T15:07:10.836651Z",
          "shell.execute_reply.started": "2022-07-01T15:07:10.140776Z",
          "shell.execute_reply": "2022-07-01T15:07:10.835580Z"
        },
        "trusted": true,
        "id": "ikj0rLYsDia7"
      },
      "execution_count": 98,
      "outputs": []
    },
    {
      "cell_type": "code",
      "source": [
        "# Заполяем оставшиеся пропуски средним\n",
        "def fillna_mean(df):\n",
        "    df = df.fillna(df.mean())\n",
        "    return df\n",
        "\n",
        "# Заполяем оставшиеся пропуски средним на трейне\n",
        "data = fillna_mean(data)\n",
        "\n",
        "# Заполяем оставшиеся пропуски средним на вал.тесте\n",
        "data_val = fillna_mean(data_val)"
      ],
      "metadata": {
        "execution": {
          "iopub.status.busy": "2022-07-01T15:07:10.838338Z",
          "iopub.execute_input": "2022-07-01T15:07:10.838751Z",
          "iopub.status.idle": "2022-07-01T15:07:12.342266Z",
          "shell.execute_reply.started": "2022-07-01T15:07:10.838703Z",
          "shell.execute_reply": "2022-07-01T15:07:12.341235Z"
        },
        "trusted": true,
        "id": "AU_3q8vLDia8"
      },
      "execution_count": 99,
      "outputs": []
    },
    {
      "cell_type": "code",
      "source": [
        "# split данных\n",
        "X_train, X_test, y_train, y_test = train_test_split(data, np.log(y), test_size=0.2, shuffle=True, random_state=42)"
      ],
      "metadata": {
        "id": "zab9uB8ichjD",
        "execution": {
          "iopub.status.busy": "2022-07-01T15:07:12.344301Z",
          "iopub.execute_input": "2022-07-01T15:07:12.344852Z",
          "iopub.status.idle": "2022-07-01T15:07:13.295262Z",
          "shell.execute_reply.started": "2022-07-01T15:07:12.344819Z",
          "shell.execute_reply": "2022-07-01T15:07:13.294109Z"
        },
        "trusted": true
      },
      "execution_count": 100,
      "outputs": []
    },
    {
      "cell_type": "code",
      "source": [
        "#estimator = RandomForestRegressor()\n",
        "#param_grid = { \n",
        "#            \"n_estimators\"      : [10,50,100],\n",
        "#            \"max_features\"      : [\"sqrt\", \"log2\"],\n",
        "#            \"min_samples_split\" : [2,4,8],\n",
        "#            \"bootstrap\": [True],\n",
        "#            }\n",
        "#grid = GridSearchCV(estimator, param_grid, n_jobs=-1, cv=5, verbose=1)\n",
        "#\n",
        "#grid.fit(X_train, y_train)"
      ],
      "metadata": {
        "execution": {
          "iopub.status.busy": "2022-07-01T15:07:16.113266Z",
          "iopub.execute_input": "2022-07-01T15:07:16.113656Z",
          "iopub.status.idle": "2022-07-01T15:07:16.118258Z",
          "shell.execute_reply.started": "2022-07-01T15:07:16.113606Z",
          "shell.execute_reply": "2022-07-01T15:07:16.117342Z"
        },
        "trusted": true,
        "id": "i_hNrRaiDia8"
      },
      "execution_count": null,
      "outputs": []
    },
    {
      "cell_type": "code",
      "source": [
        "#print(grid.best_score_) \n",
        "#print(grid.best_params_)"
      ],
      "metadata": {
        "execution": {
          "iopub.status.busy": "2022-07-01T15:07:17.201659Z",
          "iopub.execute_input": "2022-07-01T15:07:17.202288Z",
          "iopub.status.idle": "2022-07-01T15:07:17.206555Z",
          "shell.execute_reply.started": "2022-07-01T15:07:17.202252Z",
          "shell.execute_reply": "2022-07-01T15:07:17.205530Z"
        },
        "trusted": true,
        "id": "5_oRniHRDia8"
      },
      "execution_count": null,
      "outputs": []
    },
    {
      "cell_type": "code",
      "source": [
        "# Обучаем лес\n",
        "forest = RandomForestRegressor(random_state=42, n_estimators=200,verbose=1, n_jobs=-1)\n",
        "\n",
        "forest.fit(X_train, y_train)"
      ],
      "metadata": {
        "id": "FWZz46yg8cqV",
        "outputId": "39ac7f22-71ae-4407-f1c8-cdce8d0e48e7",
        "execution": {
          "iopub.status.busy": "2022-07-01T15:07:18.409037Z",
          "iopub.execute_input": "2022-07-01T15:07:18.409683Z",
          "iopub.status.idle": "2022-07-01T15:18:07.309439Z",
          "shell.execute_reply.started": "2022-07-01T15:07:18.409627Z",
          "shell.execute_reply": "2022-07-01T15:18:07.308341Z"
        },
        "trusted": true,
        "colab": {
          "base_uri": "https://localhost:8080/"
        }
      },
      "execution_count": 48,
      "outputs": [
        {
          "output_type": "stream",
          "name": "stderr",
          "text": [
            "[Parallel(n_jobs=-1)]: Using backend ThreadingBackend with 2 concurrent workers.\n",
            "[Parallel(n_jobs=-1)]: Done  46 tasks      | elapsed:  5.3min\n",
            "[Parallel(n_jobs=-1)]: Done 196 tasks      | elapsed: 22.2min\n",
            "[Parallel(n_jobs=-1)]: Done 200 out of 200 | elapsed: 22.7min finished\n"
          ]
        },
        {
          "output_type": "execute_result",
          "data": {
            "text/plain": [
              "RandomForestRegressor(n_estimators=200, n_jobs=-1, random_state=42, verbose=1)"
            ]
          },
          "metadata": {},
          "execution_count": 48
        }
      ]
    },
    {
      "cell_type": "code",
      "source": [
        "# Результат метрики на трейне\n",
        "forest_predict_train = forest.predict(X_test)"
      ],
      "metadata": {
        "id": "DyzpPqFzctr6",
        "execution": {
          "iopub.status.busy": "2022-07-01T15:18:07.311449Z",
          "iopub.execute_input": "2022-07-01T15:18:07.312458Z",
          "iopub.status.idle": "2022-07-01T15:18:09.148556Z",
          "shell.execute_reply.started": "2022-07-01T15:18:07.312414Z",
          "shell.execute_reply": "2022-07-01T15:18:09.147549Z"
        },
        "trusted": true,
        "colab": {
          "base_uri": "https://localhost:8080/"
        },
        "outputId": "e675f2e1-9cb0-4cc9-e592-30900e5074cb"
      },
      "execution_count": 49,
      "outputs": [
        {
          "output_type": "stream",
          "name": "stderr",
          "text": [
            "[Parallel(n_jobs=2)]: Using backend ThreadingBackend with 2 concurrent workers.\n",
            "[Parallel(n_jobs=2)]: Done  46 tasks      | elapsed:    0.8s\n",
            "[Parallel(n_jobs=2)]: Done 196 tasks      | elapsed:    3.2s\n",
            "[Parallel(n_jobs=2)]: Done 200 out of 200 | elapsed:    3.3s finished\n"
          ]
        }
      ]
    },
    {
      "cell_type": "code",
      "source": [
        "print(f\"TEST mape: {(mape(np.exp(y_test), np.exp(forest_predict_train)))*100:0.2f}%\")\n",
        "print(f\"TEST mae: {(mae(np.exp(y_test), np.exp(forest_predict_train))):0.0f}$\")"
      ],
      "metadata": {
        "colab": {
          "base_uri": "https://localhost:8080/"
        },
        "id": "9AVIo38Fa0DQ",
        "outputId": "cdb6e91d-dc1a-4b52-a6fd-a2c2e6f69d9f"
      },
      "execution_count": 50,
      "outputs": [
        {
          "output_type": "stream",
          "name": "stdout",
          "text": [
            "TEST mape: 9.44%\n",
            "TEST mae: 27589$\n"
          ]
        }
      ]
    },
    {
      "cell_type": "code",
      "source": [
        "# Результат метрики на вал.тесте\n",
        "forest_predict_val = forest.predict(data_val)"
      ],
      "metadata": {
        "execution": {
          "iopub.status.busy": "2022-07-01T15:18:09.150307Z",
          "iopub.execute_input": "2022-07-01T15:18:09.151029Z",
          "iopub.status.idle": "2022-07-01T15:18:11.213395Z",
          "shell.execute_reply.started": "2022-07-01T15:18:09.150991Z",
          "shell.execute_reply": "2022-07-01T15:18:11.212310Z"
        },
        "trusted": true,
        "colab": {
          "base_uri": "https://localhost:8080/"
        },
        "id": "_kCz7MtxDia9",
        "outputId": "b487033a-c2f2-4d53-eed7-6c926d5cdd6c"
      },
      "execution_count": 51,
      "outputs": [
        {
          "output_type": "stream",
          "name": "stderr",
          "text": [
            "[Parallel(n_jobs=2)]: Using backend ThreadingBackend with 2 concurrent workers.\n",
            "[Parallel(n_jobs=2)]: Done  46 tasks      | elapsed:    1.2s\n",
            "[Parallel(n_jobs=2)]: Done 196 tasks      | elapsed:    4.0s\n",
            "[Parallel(n_jobs=2)]: Done 200 out of 200 | elapsed:    4.1s finished\n"
          ]
        }
      ]
    },
    {
      "cell_type": "code",
      "source": [
        "print(f\"TEST mape: {(mape(y_val, np.exp(forest_predict_val)))*100:0.2f}%\")\n",
        "print(f\"TEST mae: {(mae(y_val, np.exp(forest_predict_val))):0.0f}$\")"
      ],
      "metadata": {
        "colab": {
          "base_uri": "https://localhost:8080/"
        },
        "id": "q9omSapaa6BX",
        "outputId": "f095b017-050a-48ba-efc4-abdeafc7d5c2"
      },
      "execution_count": 52,
      "outputs": [
        {
          "output_type": "stream",
          "name": "stdout",
          "text": [
            "TEST mape: 12.88%\n",
            "TEST mae: 39617$\n"
          ]
        }
      ]
    },
    {
      "cell_type": "code",
      "source": [
        "forest_predict_train = pd.Series(forest_predict_train)\n",
        "forest_predict_train.to_csv('/content/gdrive/MyDrive/Diplom_project/forest_predict_train.csv')"
      ],
      "metadata": {
        "execution": {
          "iopub.status.busy": "2022-07-01T15:18:11.216015Z",
          "iopub.execute_input": "2022-07-01T15:18:11.217124Z",
          "iopub.status.idle": "2022-07-01T15:18:11.400663Z",
          "shell.execute_reply.started": "2022-07-01T15:18:11.217086Z",
          "shell.execute_reply": "2022-07-01T15:18:11.399746Z"
        },
        "trusted": true,
        "id": "HeOI2TsCDia9"
      },
      "execution_count": 53,
      "outputs": []
    },
    {
      "cell_type": "code",
      "source": [
        "forest_predict_val = pd.Series(forest_predict_val)\n",
        "forest_predict_val.to_csv('/content/gdrive/MyDrive/Diplom_project/forest_predict_val.csv')"
      ],
      "metadata": {
        "execution": {
          "iopub.status.busy": "2022-07-01T15:18:11.401953Z",
          "iopub.execute_input": "2022-07-01T15:18:11.402400Z",
          "iopub.status.idle": "2022-07-01T15:18:11.635142Z",
          "shell.execute_reply.started": "2022-07-01T15:18:11.402362Z",
          "shell.execute_reply": "2022-07-01T15:18:11.634160Z"
        },
        "trusted": true,
        "id": "1XxS8nR8Dia-"
      },
      "execution_count": 54,
      "outputs": []
    },
    {
      "cell_type": "code",
      "source": [
        "# Смотрим какие признаки были значимы для модели\n",
        "plt.rcParams['figure.figsize'] = (13,10)\n",
        "feat_importances = pd.Series(forest.feature_importances_, index=X_test.columns)\n",
        "feat_importances.nlargest(50).plot(kind='barh')"
      ],
      "metadata": {
        "execution": {
          "iopub.status.busy": "2022-07-01T15:18:11.636512Z",
          "iopub.execute_input": "2022-07-01T15:18:11.636892Z",
          "iopub.status.idle": "2022-07-01T15:18:12.761513Z",
          "shell.execute_reply.started": "2022-07-01T15:18:11.636855Z",
          "shell.execute_reply": "2022-07-01T15:18:12.760577Z"
        },
        "trusted": true,
        "colab": {
          "base_uri": "https://localhost:8080/"
        },
        "id": "6MsOYQomDia-",
        "outputId": "ee75501c-324b-40c2-b910-d73762bf9762"
      },
      "execution_count": null,
      "outputs": [
        {
          "output_type": "execute_result",
          "data": {
            "text/plain": [
              "<matplotlib.axes._subplots.AxesSubplot at 0x7fe0adba6650>"
            ]
          },
          "metadata": {},
          "execution_count": 54
        },
        {
          "output_type": "display_data",
          "data": {
            "text/plain": [
              "<Figure size 936x720 with 1 Axes>"
            ],
            "image/png": "[encoded data removed]"
          },
          "metadata": {
            "needs_background": "light"
          }
        }
      ]
    },
    {
      "cell_type": "markdown",
      "source": [
        "# GradientBoostingRegressor"
      ],
      "metadata": {
        "id": "XsVthvM9lPMO"
      }
    },
    {
      "cell_type": "code",
      "source": [
        "# Делим данные на трейн и вал.тест\n",
        "Train, val, = train_test_split(df, test_size=0.2, shuffle=True, random_state=42)"
      ],
      "metadata": {
        "execution": {
          "iopub.status.busy": "2022-07-01T15:18:26.130066Z",
          "iopub.execute_input": "2022-07-01T15:18:26.130433Z",
          "iopub.status.idle": "2022-07-01T15:18:27.909579Z",
          "shell.execute_reply.started": "2022-07-01T15:18:26.130402Z",
          "shell.execute_reply": "2022-07-01T15:18:27.908559Z"
        },
        "trusted": true,
        "id": "P1QKSac5Dia-"
      },
      "execution_count": null,
      "outputs": []
    },
    {
      "cell_type": "code",
      "source": [
        "data = Train\n",
        "# Загружаем данные\n",
        "#data = df.copy()"
      ],
      "metadata": {
        "execution": {
          "iopub.status.busy": "2022-07-01T15:18:29.853233Z",
          "iopub.execute_input": "2022-07-01T15:18:29.853688Z",
          "iopub.status.idle": "2022-07-01T15:18:29.862699Z",
          "shell.execute_reply.started": "2022-07-01T15:18:29.853644Z",
          "shell.execute_reply": "2022-07-01T15:18:29.861620Z"
        },
        "trusted": true,
        "id": "F-fxQ4q0Dia-"
      },
      "execution_count": null,
      "outputs": []
    },
    {
      "cell_type": "code",
      "source": [
        "# Разделим признаки на числовые и категориальные\n",
        "num_col = ['baths','sqft','beds','stories','PrivatePool','year_built',\n",
        "           'remodeled_year','lotsize','price_sqft','mean_city_data_distance','year_built_mean_city',\n",
        "           'year_remodeled_mean_city','mean_state_rating','mean_state_data_distance',\n",
        "           'year_built_mean_state','year_remodeled_mean_state','beds__mean_state','median_city_sqft','mean_city_sqft','max_city_sqft','min_city_sqft',\n",
        "           'min_state_sqft','mean_state_sqft','median_city_stories','mean_city_stories','min_state_stories',\n",
        "           'mean_city_PrivatePool'\n",
        "          ]\n",
        "\n",
        "\n",
        "cat = ['status', 'propertyType', 'street','city', 'sqft', \n",
        "       'zipcode','state', 'heating','parking','propertyType_1','parking_',]\n",
        "\n",
        "\n",
        "log_col = ['lotsize']"
      ],
      "metadata": {
        "execution": {
          "iopub.status.busy": "2022-07-01T15:18:34.892345Z",
          "iopub.execute_input": "2022-07-01T15:18:34.892865Z",
          "iopub.status.idle": "2022-07-01T15:18:34.899367Z",
          "shell.execute_reply.started": "2022-07-01T15:18:34.892833Z",
          "shell.execute_reply": "2022-07-01T15:18:34.898321Z"
        },
        "trusted": true,
        "id": "3ttyq0BgDia-"
      },
      "execution_count": null,
      "outputs": []
    },
    {
      "cell_type": "code",
      "source": [
        "# При загрузке датасета проявляються столбцы с одинаковыми названиями применим функцию которая это исправит.\n",
        "data = df_column_uniquify(data)"
      ],
      "metadata": {
        "execution": {
          "iopub.status.busy": "2022-07-01T15:18:37.333050Z",
          "iopub.execute_input": "2022-07-01T15:18:37.333398Z",
          "iopub.status.idle": "2022-07-01T15:18:37.341542Z",
          "shell.execute_reply.started": "2022-07-01T15:18:37.333368Z",
          "shell.execute_reply": "2022-07-01T15:18:37.338605Z"
        },
        "trusted": true,
        "id": "emJS-chsDia_"
      },
      "execution_count": null,
      "outputs": []
    },
    {
      "cell_type": "code",
      "source": [
        "# Предобрабатываем данные трейна\n",
        "y, data = PreProc(data, log_col,cat)"
      ],
      "metadata": {
        "execution": {
          "iopub.status.busy": "2022-07-01T15:18:38.545048Z",
          "iopub.execute_input": "2022-07-01T15:18:38.545974Z",
          "iopub.status.idle": "2022-07-01T15:18:41.140487Z",
          "shell.execute_reply.started": "2022-07-01T15:18:38.545926Z",
          "shell.execute_reply": "2022-07-01T15:18:41.138818Z"
        },
        "trusted": true,
        "id": "W9p-TFTrDia_"
      },
      "execution_count": null,
      "outputs": []
    },
    {
      "cell_type": "code",
      "source": [
        "# Предобрабатываем данные вал теста\n",
        "y_val, data_val = PreProc(val, log_col,cat)"
      ],
      "metadata": {
        "execution": {
          "iopub.status.busy": "2022-07-01T15:18:41.143042Z",
          "iopub.execute_input": "2022-07-01T15:18:41.143428Z",
          "iopub.status.idle": "2022-07-01T15:18:41.846146Z",
          "shell.execute_reply.started": "2022-07-01T15:18:41.143381Z",
          "shell.execute_reply": "2022-07-01T15:18:41.845095Z"
        },
        "trusted": true,
        "id": "f61x3Q66Dia_"
      },
      "execution_count": null,
      "outputs": []
    },
    {
      "cell_type": "code",
      "source": [
        "# Заполяем оставшиеся пропуски средним на трейне\n",
        "data = fillna_mean(data)\n",
        "\n",
        "# Заполяем оставшиеся пропуски средним на вал.тесте\n",
        "data_val = fillna_mean(data_val)"
      ],
      "metadata": {
        "execution": {
          "iopub.status.busy": "2022-07-01T15:18:42.551749Z",
          "iopub.execute_input": "2022-07-01T15:18:42.552404Z",
          "iopub.status.idle": "2022-07-01T15:18:44.043154Z",
          "shell.execute_reply.started": "2022-07-01T15:18:42.552350Z",
          "shell.execute_reply": "2022-07-01T15:18:44.042053Z"
        },
        "trusted": true,
        "id": "HCC14_8BDia_"
      },
      "execution_count": null,
      "outputs": []
    },
    {
      "cell_type": "code",
      "source": [
        "X_train, X_test, y_train, y_test = train_test_split(data, np.log(y), test_size=0.2, shuffle=True, random_state=42)"
      ],
      "metadata": {
        "execution": {
          "iopub.status.busy": "2022-07-01T15:18:44.216531Z",
          "iopub.execute_input": "2022-07-01T15:18:44.217158Z",
          "iopub.status.idle": "2022-07-01T15:18:45.161560Z",
          "shell.execute_reply.started": "2022-07-01T15:18:44.217123Z",
          "shell.execute_reply": "2022-07-01T15:18:45.160487Z"
        },
        "trusted": true,
        "id": "IvEX1LdgDia_"
      },
      "execution_count": null,
      "outputs": []
    },
    {
      "cell_type": "code",
      "source": [
        "#estimator = GradientBoostingRegressor()\n",
        "#param_grid = { \n",
        "#            \"n_estimators\"      : [10,100,500],\n",
        "#            \"max_features\"      : [\"sqrt\", \"log2\"],\n",
        "#            \"min_samples_split\" : [2,4,8],\n",
        "#            \"bootstrap\": [True],\n",
        "#            }\n",
        "#grid = GridSearchCV(estimator, param_grid, n_jobs=-1, cv=5, verbose=1)\n",
        "\n",
        "#grid.fit(X_train, y_train)\n"
      ],
      "metadata": {
        "execution": {
          "iopub.status.busy": "2022-07-01T15:18:46.933730Z",
          "iopub.execute_input": "2022-07-01T15:18:46.934697Z",
          "iopub.status.idle": "2022-07-01T15:18:46.939935Z",
          "shell.execute_reply.started": "2022-07-01T15:18:46.934626Z",
          "shell.execute_reply": "2022-07-01T15:18:46.938787Z"
        },
        "trusted": true,
        "id": "xOC5vg2fDia_"
      },
      "execution_count": null,
      "outputs": []
    },
    {
      "cell_type": "code",
      "source": [
        "grad = GradientBoostingRegressor(n_estimators=200,learning_rate=0.1,random_state=42, verbose = 1, max_depth = 10)\n",
        "grad.fit(X_train, y_train)\n",
        "grad_test_predict = grad.predict(X_test)"
      ],
      "metadata": {
        "id": "7JPhz4eMsuVa",
        "execution": {
          "iopub.status.busy": "2022-07-01T15:18:48.707430Z",
          "iopub.execute_input": "2022-07-01T15:18:48.707811Z",
          "iopub.status.idle": "2022-07-01T15:41:38.540024Z",
          "shell.execute_reply.started": "2022-07-01T15:18:48.707779Z",
          "shell.execute_reply": "2022-07-01T15:41:38.538939Z"
        },
        "trusted": true,
        "colab": {
          "base_uri": "https://localhost:8080/"
        },
        "outputId": "5d8106d2-a5f3-4db7-8402-abee282eeffa"
      },
      "execution_count": null,
      "outputs": [
        {
          "output_type": "stream",
          "name": "stdout",
          "text": [
            "      Iter       Train Loss   Remaining Time \n",
            "         1           0.6587           25.21m\n",
            "         2           0.5574           25.97m\n",
            "         3           0.4751           25.53m\n",
            "         4           0.4081           25.30m\n",
            "         5           0.3523           25.09m\n",
            "         6           0.3069           24.94m\n",
            "         7           0.2698           24.79m\n",
            "         8           0.2393           24.65m\n",
            "         9           0.2138           24.52m\n",
            "        10           0.1928           24.37m\n",
            "        20           0.1071           23.15m\n",
            "        30           0.0881           21.85m\n",
            "        40           0.0802           20.46m\n",
            "        50           0.0758           18.83m\n",
            "        60           0.0711           17.32m\n",
            "        70           0.0678           15.80m\n",
            "        80           0.0655           14.38m\n",
            "        90           0.0631           13.04m\n",
            "       100           0.0611           11.74m\n",
            "       200           0.0436            0.00s\n"
          ]
        }
      ]
    },
    {
      "cell_type": "code",
      "source": [
        "# Результат метрики на трейне\n",
        "grad_test_predict_train = grad.predict(X_test)"
      ],
      "metadata": {
        "id": "DhDMnCgWyZKS",
        "execution": {
          "iopub.status.busy": "2022-07-01T15:41:38.541955Z",
          "iopub.execute_input": "2022-07-01T15:41:38.542238Z",
          "iopub.status.idle": "2022-07-01T15:41:39.462252Z",
          "shell.execute_reply.started": "2022-07-01T15:41:38.542213Z",
          "shell.execute_reply": "2022-07-01T15:41:39.461040Z"
        },
        "trusted": true
      },
      "execution_count": null,
      "outputs": []
    },
    {
      "cell_type": "code",
      "source": [
        "print(f\"TEST mape: {(mape(np.exp(y_test), np.exp(grad_test_predict_train)))*100:0.2f}%\")\n",
        "print(f\"TEST mae: {(mae(np.exp(y_test), np.exp(grad_test_predict_train))):0.0f}$\")"
      ],
      "metadata": {
        "colab": {
          "base_uri": "https://localhost:8080/"
        },
        "id": "aMXIlhuubb3n",
        "outputId": "b838c169-cf5e-4bf5-860c-262a0129ddf6"
      },
      "execution_count": null,
      "outputs": [
        {
          "output_type": "stream",
          "name": "stdout",
          "text": [
            "TEST mape: 10.35%\n",
            "TEST mae: 30422$\n"
          ]
        }
      ]
    },
    {
      "cell_type": "code",
      "source": [
        "# Результат метрики на вал.тесте\n",
        "grad_test_predict_val = grad.predict(data_val)"
      ],
      "metadata": {
        "execution": {
          "iopub.status.busy": "2022-07-01T15:41:39.464203Z",
          "iopub.execute_input": "2022-07-01T15:41:39.464626Z",
          "iopub.status.idle": "2022-07-01T15:41:40.669716Z",
          "shell.execute_reply.started": "2022-07-01T15:41:39.464584Z",
          "shell.execute_reply": "2022-07-01T15:41:40.668601Z"
        },
        "trusted": true,
        "id": "IrS2ZgueDibA"
      },
      "execution_count": null,
      "outputs": []
    },
    {
      "cell_type": "code",
      "source": [
        "print(f\"TEST mape: {(mape(y_val, np.exp(grad_test_predict_val)))*100:0.2f}%\")\n",
        "print(f\"TEST mae: {(mae(y_val, np.exp(grad_test_predict_val))):0.0f}$\")"
      ],
      "metadata": {
        "colab": {
          "base_uri": "https://localhost:8080/"
        },
        "id": "SPijmXSbbvkU",
        "outputId": "74ae4919-78d4-4b21-d57d-233c8ff073b6"
      },
      "execution_count": null,
      "outputs": [
        {
          "output_type": "stream",
          "name": "stdout",
          "text": [
            "TEST mape: 13.41%\n",
            "TEST mae: 42936$\n"
          ]
        }
      ]
    },
    {
      "cell_type": "code",
      "source": [
        "# Смотрим какие признаки были значимы для модели\n",
        "plt.rcParams['figure.figsize'] = (13,10)\n",
        "feat_importances = pd.Series(grad.feature_importances_, index=X_test.columns)\n",
        "feat_importances.nlargest(50).plot(kind='barh')"
      ],
      "metadata": {
        "execution": {
          "iopub.status.busy": "2022-07-01T15:41:40.672300Z",
          "iopub.execute_input": "2022-07-01T15:41:40.672655Z",
          "iopub.status.idle": "2022-07-01T15:41:41.471532Z",
          "shell.execute_reply.started": "2022-07-01T15:41:40.672608Z",
          "shell.execute_reply": "2022-07-01T15:41:41.470581Z"
        },
        "trusted": true,
        "colab": {
          "base_uri": "https://localhost:8080/"
        },
        "id": "5iWzKS__DibA",
        "outputId": "fb71ffd2-99d6-44f7-b684-d8c4c337847d"
      },
      "execution_count": null,
      "outputs": [
        {
          "output_type": "execute_result",
          "data": {
            "text/plain": [
              "<matplotlib.axes._subplots.AxesSubplot at 0x7fe0aae65110>"
            ]
          },
          "metadata": {},
          "execution_count": 69
        },
        {
          "output_type": "display_data",
          "data": {
            "text/plain": [
              "<Figure size 936x720 with 1 Axes>"
            ],
            "image/png": "[encoded data removed]"
          },
          "metadata": {
            "needs_background": "light"
          }
        }
      ]
    },
    {
      "cell_type": "code",
      "source": [
        "grad_test_predict_train = pd.Series(grad_test_predict_train)\n",
        "grad_test_predict_train.to_csv('/content/gdrive/MyDrive/Diplom_project/grad_test_predict_train.csv')"
      ],
      "metadata": {
        "execution": {
          "iopub.status.busy": "2022-07-01T15:41:41.473095Z",
          "iopub.execute_input": "2022-07-01T15:41:41.473580Z",
          "iopub.status.idle": "2022-07-01T15:41:41.678148Z",
          "shell.execute_reply.started": "2022-07-01T15:41:41.473539Z",
          "shell.execute_reply": "2022-07-01T15:41:41.677179Z"
        },
        "trusted": true,
        "id": "wLIVQmiFDibA"
      },
      "execution_count": null,
      "outputs": []
    },
    {
      "cell_type": "code",
      "source": [
        "grad_test_predict_val = pd.Series(grad_test_predict_val)\n",
        "grad_test_predict_val.to_csv('/content/gdrive/MyDrive/Diplom_project/grad_test_predict_val.csv')"
      ],
      "metadata": {
        "execution": {
          "iopub.status.busy": "2022-07-01T15:41:41.679358Z",
          "iopub.execute_input": "2022-07-01T15:41:41.679713Z",
          "iopub.status.idle": "2022-07-01T15:41:41.909459Z",
          "shell.execute_reply.started": "2022-07-01T15:41:41.679677Z",
          "shell.execute_reply": "2022-07-01T15:41:41.908513Z"
        },
        "trusted": true,
        "id": "YaCi8abGDibB"
      },
      "execution_count": null,
      "outputs": []
    },
    {
      "cell_type": "markdown",
      "source": [
        "# StackingRegressor"
      ],
      "metadata": {
        "id": "S6kfGM63DibC"
      }
    },
    {
      "cell_type": "code",
      "source": [
        "# По причине долгих вычислений на kaggle, пришлось ограничить число деревьев в каждом методе до 100.\n",
        "estimators = [\n",
        "              ('Cat', CatBoostRegressor(iterations=2000,\n",
        "                                        learning_rate = 0.01,\n",
        "                                        random_seed=42,\n",
        "                                        silent=True,\n",
        "                                        l2_leaf_reg=2,\n",
        "                                        #task_type='GPU'\n",
        "                                        )),\n",
        "    \n",
        "              ('Grad', GradientBoostingRegressor(min_samples_split=2,\n",
        "                               learning_rate=0.1,\n",
        "                               n_estimators=100,\n",
        "                               random_state = 42,\n",
        "                               max_depth = 10 )),\n",
        "    \n",
        "              ('forest', RandomForestRegressor(n_jobs=-1,max_features= 'auto' ,\n",
        "                                               n_estimators=100,\n",
        "                                               oob_score = True, random_state=42))\n",
        "               \n",
        "               ]\n",
        "\n",
        "st_ensemble = StackingRegressor(estimators=estimators, final_estimator=LinearRegression(),verbose = 1)\n",
        "\n",
        "# оцениваем точность\n",
        "st_ensemble.fit(X_train, np.log(y_train))\n",
        "\n",
        "\n"
      ],
      "metadata": {
        "execution": {
          "iopub.status.busy": "2022-07-01T14:53:11.015460Z",
          "iopub.status.idle": "2022-07-01T14:53:11.016152Z",
          "shell.execute_reply.started": "2022-07-01T14:53:11.015913Z",
          "shell.execute_reply": "2022-07-01T14:53:11.015933Z"
        },
        "trusted": true,
        "colab": {
          "base_uri": "https://localhost:8080/"
        },
        "id": "xhrqmMuNDibC",
        "outputId": "d7b20370-73da-47ca-b367-ac98bec151df"
      },
      "execution_count": null,
      "outputs": [
        {
          "output_type": "stream",
          "name": "stderr",
          "text": [
            "[Parallel(n_jobs=1)]: Using backend SequentialBackend with 1 concurrent workers.\n",
            "[Parallel(n_jobs=1)]: Done   5 out of   5 | elapsed: 11.1min finished\n",
            "[Parallel(n_jobs=1)]: Using backend SequentialBackend with 1 concurrent workers.\n",
            "[Parallel(n_jobs=1)]: Done   5 out of   5 | elapsed: 55.1min finished\n",
            "[Parallel(n_jobs=1)]: Using backend SequentialBackend with 1 concurrent workers.\n",
            "[Parallel(n_jobs=1)]: Done   5 out of   5 | elapsed: 59.2min finished\n"
          ]
        },
        {
          "output_type": "execute_result",
          "data": {
            "text/plain": [
              "StackingRegressor(estimators=[('Cat',\n",
              "                               <catboost.core.CatBoostRegressor object at 0x7f3181da1ed0>),\n",
              "                              ('Grad',\n",
              "                               GradientBoostingRegressor(max_depth=10,\n",
              "                                                         random_state=42)),\n",
              "                              ('forest',\n",
              "                               RandomForestRegressor(n_jobs=-1, oob_score=True,\n",
              "                                                     random_state=42))],\n",
              "                  final_estimator=LinearRegression(), verbose=1)"
            ]
          },
          "metadata": {},
          "execution_count": 22
        }
      ]
    },
    {
      "cell_type": "code",
      "source": [
        "# Результат метрики на трейне\n",
        "stack_test_predict_train = np.exp(st_ensemble.predict(X_test))"
      ],
      "metadata": {
        "id": "bMnDHjxIUKhq"
      },
      "execution_count": null,
      "outputs": []
    },
    {
      "cell_type": "code",
      "source": [
        "print(f\"TEST mape: {(mape(np.exp(y_test), np.exp(stack_test_predict_train)))*100:0.2f}%\")\n",
        "print(f\"TEST mae: {(mae(np.exp(y_test), np.exp(stack_test_predict_train))):0.0f}$\")"
      ],
      "metadata": {
        "colab": {
          "base_uri": "https://localhost:8080/"
        },
        "id": "p_7M3qwXb6sY",
        "outputId": "77ef8850-5559-4685-8d24-0716543b284f"
      },
      "execution_count": null,
      "outputs": [
        {
          "output_type": "stream",
          "name": "stdout",
          "text": [
            "TEST mape: 9.41%\n",
            "TEST mae: 29446$\n"
          ]
        }
      ]
    },
    {
      "cell_type": "code",
      "source": [
        "# Результат метрики на вал.тесте\n",
        "stack_test_predict_val = np.exp(st_ensemble.predict(data_val))"
      ],
      "metadata": {
        "id": "_jVln5mcUG91"
      },
      "execution_count": null,
      "outputs": []
    },
    {
      "cell_type": "code",
      "source": [
        "print(f\"TEST mape: {(mape(y_val, np.exp(stack_test_predict_val)))*100:0.2f}%\")\n",
        "print(f\"TEST mae: {(mae(y_val, np.exp(stack_test_predict_val))):0.0f}$\")"
      ],
      "metadata": {
        "colab": {
          "base_uri": "https://localhost:8080/"
        },
        "id": "QMTuYL-CcET5",
        "outputId": "eb91c026-6705-4116-864f-833dfab69484"
      },
      "execution_count": null,
      "outputs": [
        {
          "output_type": "stream",
          "name": "stdout",
          "text": [
            "TEST mape: 12.94%\n",
            "TEST mae: 41954$\n"
          ]
        }
      ]
    },
    {
      "cell_type": "code",
      "source": [
        "stack_test_predict_train = pd.Series(stack_test_predict_train)\n",
        "stack_test_predict_train.to_csv('/content/gdrive/MyDrive/Diplom_project/stack_test_predict_train.csv')"
      ],
      "metadata": {
        "id": "m9lgocU4VHMb"
      },
      "execution_count": null,
      "outputs": []
    },
    {
      "cell_type": "code",
      "source": [
        "stack_test_predict_val = pd.Series(stack_test_predict_val)\n",
        "stack_test_predict_val.to_csv('/content/gdrive/MyDrive/Diplom_project/stack_test_predict_val.csv')"
      ],
      "metadata": {
        "id": "Gxh5qrigVHQL"
      },
      "execution_count": null,
      "outputs": []
    },
    {
      "cell_type": "markdown",
      "source": [
        "# Загрузки предсказаний"
      ],
      "metadata": {
        "id": "thrgRBplu3Dw"
      }
    },
    {
      "cell_type": "code",
      "source": [
        "catboost_predict_train = pd.read_csv('/content/gdrive/MyDrive/Diplom_project/catboost_predict_train.csv').drop(['Unnamed: 0'], axis = 1)\n",
        "forest_predict_train = pd.read_csv('/content/gdrive/MyDrive/Diplom_project/forest_predict_train.csv').drop(['Unnamed: 0'], axis = 1)\n",
        "grad_test_predict_train = pd.read_csv('/content/gdrive/MyDrive/Diplom_project/grad_test_predict_train.csv').drop(['Unnamed: 0'], axis = 1)\n",
        "stack_test_predict_train = pd.read_csv('/content/gdrive/MyDrive/Diplom_project/stack_test_predict_train.csv').drop(['Unnamed: 0'], axis = 1)\n",
        "test_predict_nn1_train = pd.read_csv('/content/gdrive/MyDrive/Diplom_project/test_predict_nn1.csv').drop(['Unnamed: 0'], axis = 1)"
      ],
      "metadata": {
        "id": "vK2IbeEvfYcJ"
      },
      "execution_count": 15,
      "outputs": []
    },
    {
      "cell_type": "code",
      "source": [
        "catboost_predict_val = pd.read_csv('/content/gdrive/MyDrive/Diplom_project/catboost_predict_val.csv').drop(['Unnamed: 0'], axis = 1)\n",
        "forest_predict_val = pd.read_csv('/content/gdrive/MyDrive/Diplom_project/forest_predict_val.csv').drop(['Unnamed: 0'], axis = 1)\n",
        "grad_test_predict_val = pd.read_csv('/content/gdrive/MyDrive/Diplom_project/grad_test_predict_val.csv').drop(['Unnamed: 0'], axis = 1)\n",
        "stack_test_predict_val = pd.read_csv('/content/gdrive/MyDrive/Diplom_project/stack_test_predict_val.csv').drop(['Unnamed: 0'], axis = 1)\n",
        "test_predict_nn1_val = pd.read_csv('/content/gdrive/MyDrive/Diplom_project/test_predict_nn1_val.csv').drop(['Unnamed: 0'], axis = 1)"
      ],
      "metadata": {
        "id": "fo5BtNChffFg"
      },
      "execution_count": 16,
      "outputs": []
    },
    {
      "cell_type": "markdown",
      "source": [
        "# Результаты тестов"
      ],
      "metadata": {
        "id": "IXatUUU7LsUo"
      }
    },
    {
      "cell_type": "code",
      "source": [
        "# Результаты метрик.\n",
        "score_train = {'cat_train': [11.40,36524],\n",
        "       'rand_forest_train':[9.47,27667],\n",
        "       'grad_boost_train':[10.35,30422],\n",
        "       'stacking_train':[9.41,29446],\n",
        "       'blending_grad_train':[9.92,29733],\n",
        "       'blending_stack_train':[9.63,29184]}\n",
        "\n",
        "\n",
        "score_val = {\n",
        "       'cat_val':[10.86,42094],\n",
        "       'rand_forest_val':[12.95,39836],\n",
        "       'grad_boost_val':[13.41,42936],\n",
        "       'stacking_val':[12.94,41954],\n",
        "       'blending_grad_val':[11.79,39180],\n",
        "       'blending_stack_val':[11.67,38697]}\n",
        "\n",
        "\n",
        "print('Score на train')\n",
        "print(pd.DataFrame(score_train).T.sort_values(by = 0).rename(columns = {0 : 'MAPE', 1: 'MAE'}))\n",
        "print('-----------------------------------')\n",
        "print('Score на val')\n",
        "print(pd.DataFrame(score_val).T.sort_values(by = 0).rename(columns = {0 : 'MAPE', 1: 'MAE'}))"
      ],
      "metadata": {
        "colab": {
          "base_uri": "https://localhost:8080/"
        },
        "id": "9Nluev-GypT2",
        "outputId": "67e3471c-8461-4003-e9df-48c3fa44aa5c"
      },
      "execution_count": null,
      "outputs": [
        {
          "output_type": "stream",
          "name": "stdout",
          "text": [
            "Score на train\n",
            "                       MAPE      MAE\n",
            "stacking_train         9.41  29446.0\n",
            "rand_forest_train      9.47  27667.0\n",
            "blending_stack_train   9.63  29184.0\n",
            "blending_grad_train    9.92  29733.0\n",
            "grad_boost_train      10.35  30422.0\n",
            "cat_train             11.40  36524.0\n",
            "-----------------------------------\n",
            "Score на val\n",
            "                     MAPE      MAE\n",
            "cat_val             10.86  42094.0\n",
            "blending_stack_val  11.67  38697.0\n",
            "blending_grad_val   11.79  39180.0\n",
            "stacking_val        12.94  41954.0\n",
            "rand_forest_val     12.95  39836.0\n",
            "grad_boost_val      13.41  42936.0\n"
          ]
        }
      ]
    },
    {
      "cell_type": "markdown",
      "source": [
        "# NN"
      ],
      "metadata": {
        "id": "JNy_RNNbQugT"
      }
    },
    {
      "cell_type": "code",
      "source": [
        "data = data[['baths','sqft','beds','stories','PrivatePool','year_built',\n",
        "           'remodeled_year','lotsize','price_sqft','mean_city_data_distance','year_built_mean_city',\n",
        "           'year_remodeled_mean_city','mean_state_rating','mean_state_data_distance',\n",
        "           'year_built_mean_state','year_remodeled_mean_state','beds__mean_state','median_city_sqft','mean_city_sqft','max_city_sqft','min_city_sqft',\n",
        "           'min_state_sqft','mean_state_sqft','median_city_stories','mean_city_stories','min_state_stories',\n",
        "           'mean_city_PrivatePool']]\n",
        "\n",
        "data_val = data_val[['baths','sqft','beds','stories','PrivatePool','year_built',\n",
        "           'remodeled_year','lotsize','price_sqft','mean_city_data_distance','year_built_mean_city',\n",
        "           'year_remodeled_mean_city','mean_state_rating','mean_state_data_distance',\n",
        "           'year_built_mean_state','year_remodeled_mean_state','beds__mean_state','median_city_sqft','mean_city_sqft','max_city_sqft','min_city_sqft',\n",
        "           'min_state_sqft','mean_state_sqft','median_city_stories','mean_city_stories','min_state_stories',\n",
        "           'mean_city_PrivatePool']]"
      ],
      "metadata": {
        "id": "hRthDhODZuzk"
      },
      "execution_count": 108,
      "outputs": []
    },
    {
      "cell_type": "code",
      "source": [
        "# Разделим признаки на числовые и категориальные\n",
        "num_col = ['baths','sqft','beds','stories','PrivatePool','year_built',\n",
        "           'remodeled_year','lotsize','price_sqft','mean_city_data_distance','year_built_mean_city',\n",
        "           'year_remodeled_mean_city','mean_state_rating','mean_state_data_distance',\n",
        "           'year_built_mean_state','year_remodeled_mean_state','beds__mean_state','median_city_sqft','mean_city_sqft','max_city_sqft','min_city_sqft',\n",
        "           'min_state_sqft','mean_state_sqft','median_city_stories','mean_city_stories','min_state_stories',\n",
        "           'mean_city_PrivatePool'\n",
        "          ]\n",
        "\n",
        "\n",
        "cat = ['status', 'propertyType', 'street','city', 'sqft', \n",
        "       'zipcode','state', 'heating','parking','propertyType_1','parking_',]\n",
        "\n",
        "\n",
        "log_col = ['lotsize']"
      ],
      "metadata": {
        "id": "iExF_k-D6PKu"
      },
      "execution_count": 109,
      "outputs": []
    },
    {
      "cell_type": "code",
      "source": [
        "X_train, X_test, y_train, y_test = train_test_split(data, y, test_size=0.2, shuffle=True, random_state=42)"
      ],
      "metadata": {
        "id": "MzeRlgZJQ2_L"
      },
      "execution_count": 110,
      "outputs": []
    },
    {
      "cell_type": "code",
      "source": [
        "model_NN = Sequential()\n",
        "model_NN.add(L.Dense(512, input_dim=X_train.shape[1], activation=\"relu\"))\n",
        "model_NN.add(L.Dropout(0.5))\n",
        "model_NN.add(L.Dense(256, activation=\"relu\"))\n",
        "model_NN.add(L.Dropout(0.25))\n",
        "\n",
        "model_NN.add(L.Dense(1, activation=\"linear\"))"
      ],
      "metadata": {
        "id": "sMdo3QKnRlLF"
      },
      "execution_count": 111,
      "outputs": []
    },
    {
      "cell_type": "code",
      "source": [
        "# Compile model\n",
        "optimizer = tf.keras.optimizers.RMSprop(0.01)\n",
        "model_NN.compile(loss='MAPE',optimizer=optimizer, metrics=['MAPE'])"
      ],
      "metadata": {
        "id": "ShlJejaCRoC0"
      },
      "execution_count": 112,
      "outputs": []
    },
    {
      "cell_type": "code",
      "source": [
        "checkpoint = ModelCheckpoint('../working/best_model.hdf5' , monitor=['val_MAPE'], verbose=0  , mode='min')\n",
        "earlystop = EarlyStopping(monitor='val_MAPE', patience=50, restore_best_weights=True,)\n",
        "callbacks_list = [checkpoint, earlystop]"
      ],
      "metadata": {
        "id": "w-HFgnuDRpkE"
      },
      "execution_count": 113,
      "outputs": []
    },
    {
      "cell_type": "code",
      "source": [
        "history = model_NN.fit(X_train, y_train,\n",
        "                    batch_size=512,\n",
        "                    epochs=500, # фактически мы обучаем пока EarlyStopping не остановит обучение\n",
        "                    validation_data=(X_test, y_test),\n",
        "                    callbacks=callbacks_list,\n",
        "                    verbose=1,\n",
        "                   )"
      ],
      "metadata": {
        "id": "p4YXJuwlRsjF"
      },
      "execution_count": null,
      "outputs": []
    },
    {
      "cell_type": "code",
      "source": [
        "plt.title('Loss')\n",
        "plt.plot(history.history['MAPE'], label='train')\n",
        "plt.plot(history.history['val_MAPE'], label='test')\n",
        "plt.show();"
      ],
      "metadata": {
        "id": "6FiQrLZlRuPl",
        "colab": {
          "base_uri": "https://localhost:8080/",
          "height": 0
        },
        "outputId": "988f7758-4988-460a-dc81-5e85f3018cfd"
      },
      "execution_count": 115,
      "outputs": [
        {
          "output_type": "display_data",
          "data": {
            "text/plain": [
              "<Figure size 432x288 with 1 Axes>"
            ],
            "image/png": "[encoded data removed]"
          },
          "metadata": {
            "needs_background": "light"
          }
        }
      ]
    },
    {
      "cell_type": "code",
      "source": [
        "test_predict_nn1 = model_NN.predict(X_test)\n",
        "print(f\"TEST mape: {(mape(y_test, test_predict_nn1[:,0]))*100:0.2f}%\")\n",
        "print(f\"TEST mae: {(mae(y_test, test_predict_nn1)):0.0f}$\")"
      ],
      "metadata": {
        "colab": {
          "base_uri": "https://localhost:8080/"
        },
        "id": "f3IU_PTI7AIe",
        "outputId": "74901c3b-e1ac-477f-862f-83909fb72cb8"
      },
      "execution_count": 129,
      "outputs": [
        {
          "output_type": "stream",
          "name": "stdout",
          "text": [
            "TEST mape: 10.98%\n",
            "TEST mae: 46142$\n"
          ]
        }
      ]
    },
    {
      "cell_type": "code",
      "source": [
        "test_predict_nn1 = model_NN.predict(X_test)\n",
        "test_predict_nn1 = pd.Series(test_predict_nn1[:,0])\n",
        "test_predict_nn1.to_csv('/content/gdrive/MyDrive/Diplom_project/test_predict_nn1.csv')"
      ],
      "metadata": {
        "id": "8kDfY_Jhh37C"
      },
      "execution_count": 131,
      "outputs": []
    },
    {
      "cell_type": "code",
      "source": [
        "test_predict_nn1_val = model_NN.predict(data_val)\n",
        "test_predict_nn1_val = pd.Series(test_predict_nn1_val[:,0])\n",
        "test_predict_nn1_val.to_csv('/content/gdrive/MyDrive/Diplom_project/test_predict_nn1_val.csv')"
      ],
      "metadata": {
        "id": "xoZ8GhMwsELY"
      },
      "execution_count": 130,
      "outputs": []
    },
    {
      "cell_type": "code",
      "source": [
        "print(f\"TEST mape: {(mape(y_test, test_predict_nn1))*100:0.2f}%\")\n",
        "print(f\"TEST mae: {(mae(y_test, test_predict_nn1)):0.0f}$\")"
      ],
      "metadata": {
        "colab": {
          "base_uri": "https://localhost:8080/"
        },
        "id": "GIzsgpZ0uFhI",
        "outputId": "559b7b30-e2bc-493a-90ed-9a299d314c66"
      },
      "execution_count": 119,
      "outputs": [
        {
          "output_type": "stream",
          "name": "stdout",
          "text": [
            "TEST mape: 10.98%\n",
            "TEST mae: 46142$\n"
          ]
        }
      ]
    },
    {
      "cell_type": "code",
      "source": [
        "print(f\"TEST mape: {(mape(y_val, test_predict_nn1_val))*100:0.2f}%\")\n",
        "print(f\"TEST mae: {(mae(y_val, test_predict_nn1_val)):0.0f}$\")"
      ],
      "metadata": {
        "colab": {
          "base_uri": "https://localhost:8080/"
        },
        "id": "VI86KldmkAp5",
        "outputId": "2f3201b1-9ec6-4392-f493-623a176d81c6"
      },
      "execution_count": 120,
      "outputs": [
        {
          "output_type": "stream",
          "name": "stdout",
          "text": [
            "TEST mape: 11.53%\n",
            "TEST mae: 47981$\n"
          ]
        }
      ]
    },
    {
      "cell_type": "markdown",
      "source": [
        "# Blending"
      ],
      "metadata": {
        "id": "nX4hxp-g19mf"
      }
    },
    {
      "cell_type": "markdown",
      "source": [
        "## Blending c Gradboost"
      ],
      "metadata": {
        "id": "6OryaitP19mf"
      }
    },
    {
      "cell_type": "code",
      "source": [
        "blend_predict_train = (np.exp(catboost_predict_train.values) + np.exp(forest_predict_train.values) + np.exp(grad_test_predict_train.values)) / 3\n",
        "print(f\"Train mape: {(mape(np.exp(y_test), blend_predict_train))*100:0.2f}%\")\n",
        "print(f\"Train mae: {(mae(np.exp(y_test), blend_predict_train)):0.0f}$\")\n",
        "blend_predict_val = (np.exp(catboost_predict_val.values) + np.exp(forest_predict_val.values) + np.exp(grad_test_predict_val.values)) / 3\n",
        "print(f\"Val mape: {(mape(y_val, blend_predict_val))*100:0.2f}%\")\n",
        "print(f\"Val mae: {(mae(y_val, blend_predict_val)):0.0f}$\")"
      ],
      "metadata": {
        "colab": {
          "base_uri": "https://localhost:8080/"
        },
        "outputId": "c3f17d6f-f4ab-424f-a631-e999f64aa68c",
        "id": "clIIPMpo19mg"
      },
      "execution_count": 17,
      "outputs": [
        {
          "output_type": "stream",
          "name": "stdout",
          "text": [
            "Train mape: 9.91%\n",
            "Train mae: 29661$\n",
            "Val mape: 11.78%\n",
            "Val mae: 39171$\n"
          ]
        }
      ]
    },
    {
      "cell_type": "markdown",
      "source": [
        "## Blending со стекингом"
      ],
      "metadata": {
        "id": "2rF89LCc19mh"
      }
    },
    {
      "cell_type": "code",
      "source": [
        "blend_predict_train = (np.exp(catboost_predict_train.values) + np.exp(forest_predict_train.values) + np.exp(stack_test_predict_train.values)) / 3\n",
        "print(f\"Train mape: {(mape(np.exp(y_test), blend_predict_train))*100:0.2f}%\")\n",
        "print(f\"Train mae: {(mae(np.exp(y_test), blend_predict_train)):0.0f}$\")\n",
        "blend_predict_val = (np.exp(catboost_predict_val.values) + np.exp(forest_predict_val.values)+ np.exp(stack_test_predict_val.values)) / 3\n",
        "print(f\"Val mape: {(mape(y_val, blend_predict_val))*100:0.2f}%\")\n",
        "print(f\"Val mae: {(mae(y_val, blend_predict_val)):0.0f}$\")"
      ],
      "metadata": {
        "colab": {
          "base_uri": "https://localhost:8080/"
        },
        "outputId": "80779725-3431-4100-b117-26005dfb8c76",
        "id": "h6ReMQXn19mh"
      },
      "execution_count": 21,
      "outputs": [
        {
          "output_type": "stream",
          "name": "stdout",
          "text": [
            "Train mape: 9.62%\n",
            "Train mae: 29125$\n",
            "Val mape: 11.67%\n",
            "Val mae: 38701$\n"
          ]
        }
      ]
    },
    {
      "cell_type": "markdown",
      "source": [
        "## Blending с нейронкой"
      ],
      "metadata": {
        "id": "WVEwq3Wq2FU-"
      }
    },
    {
      "cell_type": "code",
      "source": [
        "blend_predict_train = (np.exp(catboost_predict_train.values) + np.exp(forest_predict_train.values) + np.exp(grad_test_predict_train.values) + test_predict_nn1_train) / 4\n",
        "print(f\"Train mape: {(mape(np.exp(y_test), blend_predict_train))*100:0.2f}%\")\n",
        "print(f\"Train mae: {(mae(np.exp(y_test), blend_predict_train)):0.0f}$\")\n",
        "blend_predict_val = (np.exp(catboost_predict_val.values) + test_predict_nn1_val) / 2\n",
        "print(f\"Val mape: {(mape(y_val, blend_predict_val))*100:0.2f}%\")\n",
        "print(f\"Val mae: {(mae(y_val, blend_predict_val)):0.0f}$\")"
      ],
      "metadata": {
        "colab": {
          "base_uri": "https://localhost:8080/"
        },
        "outputId": "bf5a0b23-1e08-44e1-8c55-a805a84f3633",
        "id": "dwsLvWlL19mg"
      },
      "execution_count": 20,
      "outputs": [
        {
          "output_type": "stream",
          "name": "stdout",
          "text": [
            "Train mape: 9.27%\n",
            "Train mae: 31017$\n",
            "Val mape: 10.46%\n",
            "Val mae: 42380$\n"
          ]
        }
      ]
    }
  ]
}