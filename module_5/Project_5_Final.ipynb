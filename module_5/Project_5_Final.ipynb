{
 "cells": [
  {
   "cell_type": "code",
   "execution_count": 280,
   "id": "915ca697",
   "metadata": {},
   "outputs": [
    {
     "name": "stdout",
     "output_type": "stream",
     "text": [
      "Collecting package metadata (current_repodata.json): ...working... done\n",
      "Note: you may need to restart the kernel to use updated packages.\n",
      "\n",
      "Solving environment: ...working... done\n",
      "\n",
      "# All requested packages already installed.\n",
      "\n"
     ]
    }
   ],
   "source": [
    "conda install -c conda-forge xgboost"
   ]
  },
  {
   "cell_type": "code",
   "execution_count": 281,
   "id": "c8080f15",
   "metadata": {
    "scrolled": true
   },
   "outputs": [
    {
     "name": "stdout",
     "output_type": "stream",
     "text": [
      "Collecting package metadata (current_repodata.json): ...working... done\n",
      "Solving environment: ...working... done\n",
      "\n",
      "# All requested packages already installed.\n",
      "\n",
      "\n",
      "Note: you may need to restart the kernel to use updated packages.\n"
     ]
    }
   ],
   "source": [
    "conda install -c conda-forge lightgbm"
   ]
  },
  {
   "cell_type": "markdown",
   "id": "6fa24e01",
   "metadata": {},
   "source": [
    "# Устанавливаем необходимые библиотеки"
   ]
  },
  {
   "cell_type": "code",
   "execution_count": 282,
   "id": "fab0e006",
   "metadata": {},
   "outputs": [],
   "source": [
    "import pandas as pd\n",
    "import numpy as np\n",
    "\n",
    "# Загружаем специальный инструмент для разбивки:\n",
    "from sklearn.model_selection import train_test_split \n",
    "\n",
    "# инструменты для оценки точности модели \n",
    "from sklearn import metrics \n",
    "from sklearn.metrics import mean_absolute_percentage_error as mape\n",
    "\n",
    "\n",
    "# модуль для работы с датами.\n",
    "from datetime import datetime, timedelta\n",
    "import time\n",
    "\n",
    "# модуль для работы с регулярными выражениями\n",
    "import re\n",
    "\n",
    "# модуль для работы с полиноминальными признаками\n",
    "from sklearn.preprocessing import PolynomialFeatures\n",
    "\n",
    "# Модули для визуализации\n",
    "import matplotlib\n",
    "import matplotlib.pyplot as plt\n",
    "import seaborn as sns\n",
    "import scipy.stats as stats\n",
    "\n",
    "# Модули для нахождения выбросов\n",
    "from sklearn.cluster import DBSCAN\n",
    "from sklearn.preprocessing import MinMaxScaler\n",
    "from sklearn import preprocessing\n",
    "from sklearn.preprocessing import StandardScaler\n",
    "#\n",
    "from IPython.display import display\n",
    "\n",
    "# Модуль для вывода прогресса\n",
    "from tqdm.notebook import tqdm\n",
    "\n",
    "# Модули алгоритмов\n",
    "from catboost import CatBoostRegressor\n",
    "from sklearn.ensemble import RandomForestRegressor\n",
    "from sklearn.ensemble import GradientBoostingRegressor  \n",
    "import xgboost as xgb\n",
    "from lightgbm import LGBMRegressor\n",
    "from sklearn.tree import DecisionTreeRegressor\n",
    "from sklearn.ensemble import AdaBoostRegressor\n",
    "from sklearn.ensemble import StackingRegressor\n",
    "from sklearn.linear_model import LinearRegression\n",
    "\n",
    "\n",
    "\n",
    "\n",
    "\n",
    "from sklearn.preprocessing import LabelEncoder\n",
    "from sklearn.model_selection import KFold\n",
    "\n",
    "\n",
    "from sklearn.model_selection import GridSearchCV\n"
   ]
  },
  {
   "cell_type": "code",
   "execution_count": 283,
   "id": "2f8c5129",
   "metadata": {},
   "outputs": [],
   "source": [
    "# Функции\n",
    "\n",
    "# Функции для определения выбросов\n",
    "def outliers_iqr(ys):\n",
    "    quartile_1, quartile_3 = np.percentile(ys, [25, 75])\n",
    "    iqr = quartile_3 - quartile_1\n",
    "    lower_bound = quartile_1 - (iqr * 1.5)\n",
    "    upper_bound = quartile_3 + (iqr * 1.5)\n",
    "    return np.where((ys > upper_bound) | (ys < lower_bound))[0]\n",
    "\n",
    "\n",
    "def outliers_z_score(ys, threshold=3):\n",
    "    mean_y = np.mean(ys)\n",
    "    std_y = np.std(ys)\n",
    "    z_scores = [(y - mean_y) / std_y for y in ys]\n",
    "    return np.where(np.abs(z_scores) > threshold)[0]\n",
    "\n",
    "\n",
    "# Функция для построения графиков распределения\n",
    "def diagnostic_plots(df, variable, title):\n",
    "    fig, ax = plt.subplots(figsize=(10,7))\n",
    "    # гистограмма\n",
    "    plt.subplot(2, 2, 1)\n",
    "    df[variable].hist(bins=30)\n",
    "    ## Q-Q plot\n",
    "    plt.subplot(2, 2, 2)\n",
    "    stats.probplot(df[variable], dist=\"norm\", plot=plt)\n",
    "    # ящик с усами\n",
    "    plt.subplot(2, 2, 3)\n",
    "    sns.violinplot(x=df[variable])    \n",
    "    # ящик с усами\n",
    "    plt.subplot(2, 2, 4)\n",
    "    sns.boxplot(x=df[variable])  \n",
    "    fig.suptitle(title)\n",
    "    plt.show()\n",
    "    \n",
    "# Метрика   \n",
    "def mape(y_true, y_pred):\n",
    "    return np.mean(np.abs((y_pred-y_true)/y_true))"
   ]
  },
  {
   "cell_type": "markdown",
   "id": "072f13cc",
   "metadata": {},
   "source": [
    "# Чисто инженерные преобразования для приведения \n",
    "# test и train к одному виду"
   ]
  },
  {
   "cell_type": "code",
   "execution_count": 284,
   "id": "920af6a3",
   "metadata": {},
   "outputs": [],
   "source": [
    "# Натройки Pandas\n",
    "pd.options.display.max_rows = 50\n",
    "pd.options.display.max_columns = None"
   ]
  },
  {
   "cell_type": "code",
   "execution_count": 285,
   "id": "c683b71a",
   "metadata": {},
   "outputs": [],
   "source": [
    "# Подгружаем Данные train и test\n",
    "train = pd.read_csv('train.csv')\n",
    "test = pd.read_csv('test.csv')"
   ]
  },
  {
   "cell_type": "code",
   "execution_count": 286,
   "id": "68fdeb3c",
   "metadata": {},
   "outputs": [],
   "source": [
    "# Сразу сбрасываем ненужные признаки\n",
    "train.drop(['Unnamed: 0'], axis = 1, inplace = True)\n",
    "test.drop(['car_url'], axis = 1, inplace = True)\n",
    "test.drop(['model_info'], axis = 1, inplace = True)"
   ]
  },
  {
   "cell_type": "code",
   "execution_count": 287,
   "id": "be4a2ac7",
   "metadata": {},
   "outputs": [],
   "source": [
    "# В train в столбце Price есть немного пропусков их лучше сразу удалить.\n",
    "wrong_index = train[train.Price.isna()].index.tolist()\n",
    "train.drop(wrong_index,axis=0, inplace = True)"
   ]
  },
  {
   "cell_type": "code",
   "execution_count": 288,
   "id": "b2da694b",
   "metadata": {},
   "outputs": [],
   "source": [
    "# Добавляем к train признак 'enginePower'\n",
    "train['enginePower'] = train['name'].str.extract(r'(\\d{2,3})')"
   ]
  },
  {
   "cell_type": "code",
   "execution_count": 289,
   "id": "682aba43",
   "metadata": {},
   "outputs": [],
   "source": [
    "# Объеденяем train и test для обработки признаков\n",
    "\n",
    "train['sample'] = 1 # помечаем где у нас трейн\n",
    "test['sample'] = 0 # помечаем где у нас тест"
   ]
  },
  {
   "cell_type": "code",
   "execution_count": 290,
   "id": "b0108217",
   "metadata": {},
   "outputs": [],
   "source": [
    "train.model_name = train.model_name.apply(lambda x: x if x != '5 серии' else '5ER')\n",
    "train.model_name = train.model_name.apply(lambda x: x if x != '3 серии' else '3ER')\n",
    "train.model_name = train.model_name.apply(lambda x: x if x != '7 серии' else '7ER')\n",
    "train.model_name = train.model_name.apply(lambda x: x if x != '1 серии' else '1ER')\n",
    "train.model_name = train.model_name.apply(lambda x: x if x != '6 серии' else '6ER')\n",
    "train.model_name = train.model_name.apply(lambda x: x if x != '2 серии' else '2ER')\n",
    "train.model_name = train.model_name.apply(lambda x: x if x != '4 серии' else '4ER')\n",
    "train.model_name = train.model_name.apply(lambda x: x if x != '8 серии' else '8ER')\n",
    "train.model_name = train.model_name.apply(lambda x: x if x != '2 серии Gran Tourer' else '2GRANDTOURER')\n",
    "train.model_name = train.model_name.apply(lambda x: x if x != 'X6 M' else 'X6_M')\n",
    "train.model_name = train.model_name.apply(lambda x: x if x != 'X5 M' else 'X5_M')\n",
    "train.model_name = train.model_name.apply(lambda x: x if x != 'i3' else 'I3')"
   ]
  },
  {
   "cell_type": "code",
   "execution_count": 291,
   "id": "9109d9c9",
   "metadata": {},
   "outputs": [],
   "source": [
    "# Объеденяем\n",
    "df = test.append(train, sort=False).reset_index(drop=True) # объединяем"
   ]
  },
  {
   "cell_type": "code",
   "execution_count": 292,
   "id": "87417a24",
   "metadata": {},
   "outputs": [],
   "source": [
    "# Удаляем строки где дублируются названия столбцов\n",
    "df.drop(df[df['parsing_unixtime'] == 'parsing_unixtime'].index.tolist(),axis=0,inplace = True)"
   ]
  },
  {
   "cell_type": "code",
   "execution_count": 293,
   "id": "323a0279",
   "metadata": {},
   "outputs": [],
   "source": [
    "# Удаляем строки где только NaN\n",
    "df.drop(df[df.bodyType.isna() == True].index.tolist(),axis=0,inplace = True)"
   ]
  },
  {
   "cell_type": "code",
   "execution_count": 294,
   "id": "437fa2a8",
   "metadata": {},
   "outputs": [],
   "source": [
    "# Приводим признак 'engineDisplacement' к одному виду.\n",
    "df['engineDisplacement'] = df['engineDisplacement'].str.split(' ').str[0]"
   ]
  },
  {
   "cell_type": "code",
   "execution_count": 295,
   "id": "f21e89d0",
   "metadata": {},
   "outputs": [],
   "source": [
    "# Удаляем лишние строки в 'enginePower'\n",
    "df['enginePower'] = df['enginePower'].str.split(' ').str[0]"
   ]
  },
  {
   "cell_type": "code",
   "execution_count": 296,
   "id": "76ed283d",
   "metadata": {},
   "outputs": [],
   "source": [
    "# Создаем признак с абревиатурами типа трансмисии\n",
    "df['typeTransmission'] = df['name'].str.extract(r'(AT|AMT|CVT|MT)')"
   ]
  },
  {
   "cell_type": "code",
   "execution_count": 297,
   "id": "cec6b307",
   "metadata": {},
   "outputs": [],
   "source": [
    "# Приведем все названия брендов в столбце 'brand' к одному виду\n",
    "df.brand = df.brand.str.upper()\n",
    "df['brand'] = df['brand'].apply(lambda x: 'MERCEDES' if x == 'MERCEDES-BENZ' else x)"
   ]
  },
  {
   "cell_type": "code",
   "execution_count": 298,
   "id": "77ff408d",
   "metadata": {},
   "outputs": [],
   "source": [
    "# Приводим признак 'parsing_unixtime' к числовому типу данных\n",
    "df['parsing_unixtime'] = df['parsing_unixtime'].astype(int)"
   ]
  },
  {
   "cell_type": "code",
   "execution_count": 299,
   "id": "6dccfdbe",
   "metadata": {},
   "outputs": [],
   "source": [
    "# Приводим признак 'parsing_unixtime' к типу данных даты\n",
    "df['parsing_unixtime'] = df['parsing_unixtime'].astype('datetime64[s]')"
   ]
  },
  {
   "cell_type": "code",
   "execution_count": 300,
   "id": "3a9662b3",
   "metadata": {},
   "outputs": [],
   "source": [
    "# Дополним столбец 'vendor' данными.\n",
    "vendor_brand = {'BMW': 'EUROPEAN', 'VOLKSWAGEN': 'EUROPEAN','NISSAN': 'JAPANESE','MERCEDES': 'EUROPEAN', 'TOYOTA': 'JAPANESE',\n",
    "               'AUDI': 'EUROPEAN','MITSUBISHI': 'JAPANESE','SKODA': 'EUROPEAN','VOLVO': 'EUROPEAN','HONDA': 'JAPANESE',\n",
    "               'INFINITI': 'JAPANESE','LEXUS': 'JAPANESE'}\n",
    "\n",
    "df['vendor'] = df['brand'].map(vendor_brand)"
   ]
  },
  {
   "cell_type": "code",
   "execution_count": 301,
   "id": "2ad56f87",
   "metadata": {},
   "outputs": [],
   "source": [
    "# Дополним столбец 'numberOfDoors' данными.\n",
    "doors_body = {'внедорожник 5 дв.': '5','седан': '4','лифтбек': '5','хэтчбек 5 дв.': '5','универсал 5 дв.': '5',\n",
    "              'купе': '2','компактвэн': '5','пикап двойная кабина': '4','хэтчбек 3 дв.': '3','купе-хардтоп': '2',\n",
    "              'внедорожник 3 дв.': '3','родстер': '2','кабриолет': '2','микровэн': '5','фургон': '4','седан 2 дв.': '2',\n",
    "              'седан-хардтоп': '4','пикап полуторная кабина': '2','пикап одинарная кабина': '2','внедорожник открытый': '3',\n",
    "              'тарга': '2','фастбек': '3','минивэн': '5', 'лимузин': '4'}\n",
    "\n",
    "df['numberOfDoors'] = df['bodyType'].map(doors_body)"
   ]
  },
  {
   "cell_type": "code",
   "execution_count": 302,
   "id": "cd7657d4",
   "metadata": {},
   "outputs": [],
   "source": [
    "# Приведем признак 'vehicleConfiguration' к одному виду.\n",
    "df.vehicleConfiguration = df.bodyType+' '+ df.engineDisplacement+' '+df.typeTransmission"
   ]
  },
  {
   "cell_type": "code",
   "execution_count": 303,
   "id": "66964f8a",
   "metadata": {},
   "outputs": [],
   "source": [
    "# Добавим признак 'Владение_лет' а пропуски заменим медианой или средним значением.\n",
    "df['Владение_лет'] = df['Владение'].str.extract(r'(\\d{1,2})')\n",
    "df['Владение_лет'] = df['Владение_лет'].astype(float)\n",
    "df['Владение_лет'] = df['Владение_лет'].fillna(5)"
   ]
  },
  {
   "cell_type": "code",
   "execution_count": 304,
   "id": "90e55045",
   "metadata": {},
   "outputs": [],
   "source": [
    "# Добавим признак 'Владение_месяцев' а пропуски заменим медианой или средним значением.\n",
    "df['Владение_месяцев'] = df['Владение'].str.extract(r'(\\s\\d{1,2})')\n",
    "df['Владение_месяцев'] = df['Владение_месяцев'].astype(float)\n",
    "df['Владение_месяцев'] = df['Владение_месяцев'].fillna(6)"
   ]
  },
  {
   "cell_type": "code",
   "execution_count": 305,
   "id": "2488fcfb",
   "metadata": {},
   "outputs": [],
   "source": [
    "# Убираем лишний текст из столбца 'Price' и приведем к числовому типу данных.\n",
    "df.Price = df.Price.replace(r'\\D','',regex=True)\n",
    "df.Price = df.Price.astype(float)"
   ]
  },
  {
   "cell_type": "code",
   "execution_count": 306,
   "id": "6a74455f",
   "metadata": {},
   "outputs": [],
   "source": [
    "# Приведем все строки в столбце 'fuelType' к одному регистру.\n",
    "df.fuelType = df.fuelType.str.upper()"
   ]
  },
  {
   "cell_type": "code",
   "execution_count": 307,
   "id": "1d18af66",
   "metadata": {},
   "outputs": [],
   "source": [
    "# Приведем все строки в столбце 'model_name' к одному регистру.\n",
    "df.model_name = df.model_name.str.upper()"
   ]
  },
  {
   "cell_type": "code",
   "execution_count": 308,
   "id": "0f86a35d",
   "metadata": {},
   "outputs": [],
   "source": [
    "# Приведем столбец 'model_name' к одному виду\n",
    "df.model_name = df.model_name.apply(lambda x: x if x != 'PASSAT CC' else 'PASSAT_CC')\n",
    "df.model_name = df.model_name.apply(lambda x: x if x != 'GOLF PLUS' else 'GOLF_PLUS')\n",
    "\n",
    "df.model_name = df.model_name.apply(lambda x: x if x != 'RAV4' else 'RAV_4')\n",
    "df.model_name = df.model_name.apply(lambda x: x if x != 'LAND CRUISER PRADO' else 'LAND_CRUISER_PRADO')\n",
    "df.model_name = df.model_name.apply(lambda x: x if x != 'LAND CRUISER' else 'LAND_CRUISER')\n",
    "df.model_name = df.model_name.apply(lambda x: x if x != 'MARK II' else 'MARK_II')\n",
    "df.model_name = df.model_name.apply(lambda x: x if x != 'CARINA E' else 'CARINA_E')\n",
    "df.model_name = df.model_name.apply(lambda x: x if x != 'COROLLA SPACIO' else 'COROLLA_SPACIO')\n",
    "df.model_name = df.model_name.apply(lambda x: x if x != 'SPRINTER MARINO' else 'SPRINTER_MARINO')\n",
    "df.model_name = df.model_name.apply(lambda x: x if x != 'AVENSIS VERSO' else 'AVENSIS_VERSO')\n",
    "df.model_name = df.model_name.apply(lambda x: x if x != 'CAMRY SOLARA' else 'CAMRY_SOLARA')\n",
    "df.model_name = df.model_name.apply(lambda x: x if x != 'CARINA ED' else 'CARINA_ED')\n",
    "df.model_name = df.model_name.apply(lambda x: x if x != 'COROLLA LEVIN' else 'COROLLA_LEVIN')\n",
    "df.model_name = df.model_name.apply(lambda x: x if x != 'COROLLA VERSO' else 'COROLLA_VERSO')\n",
    "df.model_name = df.model_name.apply(lambda x: x if x != 'FJ CRUISER' else 'FJ_CRUISER')\n",
    "df.model_name = df.model_name.apply(lambda x: x if x != 'LITE ACE' else 'LITE_ACE')\n",
    "\n",
    "df.model_name = df.model_name.apply(lambda x: x if x != 'ALMERA CLASSIC' else 'ALMERA_CLASSIC')\n",
    "df.model_name = df.model_name.apply(lambda x: x if x != 'BLUEBIRD SYLPHY' else 'BLUEBIRD_SYLPHY')\n",
    "df.model_name = df.model_name.apply(lambda x: x if x != 'DAYZ ROOX' else 'DAYZ_ROOX')\n",
    "df.model_name = df.model_name.apply(lambda x: x if x != 'X-TRAIL' else 'X_TRAIL')\n",
    "df.model_name = df.model_name.apply(lambda x: x if x != 'GT-R' else 'GT_R')\n",
    "df.model_name = df.model_name.apply(lambda x: x if x != 'QASHQAI+2' else 'QASHQAI_PLUS_2')\n",
    "df.model_name = df.model_name.apply(lambda x: x if x != 'NAVARA (FRONTIER)' else 'NAVARA')\n",
    "\n",
    "df.model_name = df.model_name.apply(lambda x: x if x != 'A-КЛАСС' else 'A_KLASSE')\n",
    "df.model_name = df.model_name.apply(lambda x: x if x != 'AMG GT' else 'AMG_GT')\n",
    "df.model_name = df.model_name.apply(lambda x: x if x != 'B-КЛАСС' else 'B_KLASSE')\n",
    "df.model_name = df.model_name.apply(lambda x: x if x != 'CLA AMG' else 'CLA_KLASSE_AMG')\n",
    "df.model_name = df.model_name.apply(lambda x: x if x != 'CLA' else 'CLA_KLASSE')\n",
    "df.model_name = df.model_name.apply(lambda x: x if x != 'CLK-КЛАСС' else 'CLK_KLASSE')\n",
    "df.model_name = df.model_name.apply(lambda x: x if x != 'CLS' else 'CLS_KLASSE')\n",
    "df.model_name = df.model_name.apply(lambda x: x if x != 'CLS AMG' else 'CLS_KLASSE_AMG')\n",
    "df.model_name = df.model_name.apply(lambda x: x if x != 'C-КЛАСС' else 'C_KLASSE')\n",
    "df.model_name = df.model_name.apply(lambda x: x if x != 'C-КЛАСС AMG' else 'C_KLASSE_AMG')\n",
    "df.model_name = df.model_name.apply(lambda x: x if x != 'E-КЛАСС' else 'E_KLASSE')\n",
    "df.model_name = df.model_name.apply(lambda x: x if x != 'E-КЛАСС AMG' else 'E_KLASSE_AMG')\n",
    "df.model_name = df.model_name.apply(lambda x: x if x != 'CL-КЛАСС' else 'CL_KLASSE')\n",
    "df.model_name = df.model_name.apply(lambda x: x if x != 'GLC COUPE' else 'GLC_COUPE')\n",
    "df.model_name = df.model_name.apply(lambda x: x if x != 'GLC' else 'GLC_KLASSE')\n",
    "df.model_name = df.model_name.apply(lambda x: x if x != 'GLB' else 'GLB_KLASSE')\n",
    "df.model_name = df.model_name.apply(lambda x: x if x != 'GLA' else 'GLA_CLASS')\n",
    "df.model_name = df.model_name.apply(lambda x: x if x != 'GLE' else 'GLE_KLASSE')\n",
    "df.model_name = df.model_name.apply(lambda x: x if x != 'GLE AMG' else 'GLE_KLASSE_AMG')\n",
    "df.model_name = df.model_name.apply(lambda x: x if x != 'GLE COUPE' else 'GLE_KLASSE_COUPE')\n",
    "df.model_name = df.model_name.apply(lambda x: x if x != 'GL-КЛАСС AMG' else 'GLS_KLASSE_AMG')\n",
    "df.model_name = df.model_name.apply(lambda x: x if x != 'G-КЛАСС' else 'G_KLASSE')\n",
    "df.model_name = df.model_name.apply(lambda x: x if x != 'G-КЛАСС AMG' else 'G_KLASSE_AMG')\n",
    "df.model_name = df.model_name.apply(lambda x: x if x != 'GL-КЛАСС' else 'GL_KLASSE')\n",
    "df.model_name = df.model_name.apply(lambda x: x if x != 'GLE COUPE AMG' else 'GLE_KLASSE_COUPE_AMG')\n",
    "df.model_name = df.model_name.apply(lambda x: x if x != 'GLK-КЛАСС' else 'GLK_KLASSE')\n",
    "df.model_name = df.model_name.apply(lambda x: x if x != 'GLS' else 'GLS_KLASSE')\n",
    "df.model_name = df.model_name.apply(lambda x: x if x != 'GLS AMG' else 'GLS_KLASSE_AMG')\n",
    "df.model_name = df.model_name.apply(lambda x: x if x != 'M-КЛАСС' else 'M_KLASSE')\n",
    "df.model_name = df.model_name.apply(lambda x: x if x != 'M-КЛАСС AMG' else 'M_KLASSE_AMG')\n",
    "df.model_name = df.model_name.apply(lambda x: x if x != 'MAYBACH GLS' else 'MAYBACH_GLS')\n",
    "df.model_name = df.model_name.apply(lambda x: x if x != 'S-КЛАСС' else 'S_KLASSE')\n",
    "df.model_name = df.model_name.apply(lambda x: x if x != 'S-КЛАСС AMG' else 'S_KLASSE_AMG')\n",
    "df.model_name = df.model_name.apply(lambda x: x if x != 'SL-КЛАСС' else 'SL_KLASSE')\n",
    "df.model_name = df.model_name.apply(lambda x: x if x != 'SLK-КЛАСС' else 'SLK_KLASSE')\n",
    "df.model_name = df.model_name.apply(lambda x: x if x != 'V-КЛАСС' else 'V_KLASSE')\n",
    "df.model_name = df.model_name.apply(lambda x: x if x != 'X-КЛАСС' else 'X_KLASSE')\n",
    "\n",
    "df.model_name = df.model_name.apply(lambda x: x if x != 'A4 ALLROAD' else 'A4_ALLROAD')\n",
    "df.model_name = df.model_name.apply(lambda x: x if x != 'RS 3' else 'RS3')\n",
    "df.model_name = df.model_name.apply(lambda x: x if x != 'RS 5' else 'RS5')\n",
    "df.model_name = df.model_name.apply(lambda x: x if x != 'RS 6' else 'RS6')\n",
    "df.model_name = df.model_name.apply(lambda x: x if x != 'RS 7' else 'RS7')\n",
    "df.model_name = df.model_name.apply(lambda x: x if x != 'RS Q3' else 'RSQ3')\n",
    "\n",
    "df.model_name = df.model_name.apply(lambda x: x if x != 'OCTAVIA RS' else 'OCTAVIA_RS')\n",
    "\n",
    "df.model_name = df.model_name.apply(lambda x: x if x != 'ECLIPSE CROSS' else 'ECLIPSE_CROSS')\n",
    "df.model_name = df.model_name.apply(lambda x: x if x != 'EK WAGON' else 'EK_WAGON')\n",
    "df.model_name = df.model_name.apply(lambda x: x if x != 'LANCER EVOLUTION' else 'LANCER_EVOLUTION')\n",
    "df.model_name = df.model_name.apply(lambda x: x if x != 'MONTERO SPORT' else 'MONTERO_SPORT')\n",
    "df.model_name = df.model_name.apply(lambda x: x if x != 'PAJERO IO' else 'PAJERO_IO')\n",
    "df.model_name = df.model_name.apply(lambda x: x if x != 'PAJERO PININ' else 'PAJERO_PININ')\n",
    "df.model_name = df.model_name.apply(lambda x: x if x != 'PAJERO SPORT' else 'PAJERO_SPORT')\n",
    "df.model_name = df.model_name.apply(lambda x: x if x != 'SPACE GEAR' else 'SPACE_GEAR')\n",
    "df.model_name = df.model_name.apply(lambda x: x if x != 'SPACE RUNNER' else 'SPACE_RUNNER')\n",
    "df.model_name = df.model_name.apply(lambda x: x if x != 'SPACE STAR' else 'SPACE_STAR')\n",
    "df.model_name = df.model_name.apply(lambda x: x if x != 'SPACE WAGON' else 'SPACE_WAGON')\n",
    "\n",
    "df.model_name = df.model_name.apply(lambda x: x if x != 'CIVIC TYPE R' else 'CIVIC_TYPE_R')\n",
    "df.model_name = df.model_name.apply(lambda x: x if x != 'CR-V' else 'CR_V')\n",
    "df.model_name = df.model_name.apply(lambda x: x if x != 'FR-V' else 'FR_V')\n",
    "df.model_name = df.model_name.apply(lambda x: x if x != 'HR-V' else 'HR_V')\n",
    "\n",
    "\n",
    "df.model_name = df.model_name.apply(lambda x: x if x != 'V40 CROSS COUNTRY' else 'V40_CC')\n",
    "df.model_name = df.model_name.apply(lambda x: x if x != 'V60 CROSS COUNTRY' else 'V60_CROSS_COUNTRY')\n",
    "df.model_name = df.model_name.apply(lambda x: x if x != 'V90 CROSS COUNTRY' else 'V90_CROSS_COUNTRY')\n"
   ]
  },
  {
   "cell_type": "code",
   "execution_count": 309,
   "id": "9b07f1e5",
   "metadata": {},
   "outputs": [],
   "source": [
    "df.fuelType = df.fuelType.apply(lambda x: x if x != 'БЕНЗИН, ГАЗОБАЛЛОННОЕ ОБОРУДОВАНИЕ' else 'БЕНЗИН')"
   ]
  },
  {
   "cell_type": "markdown",
   "id": "10f939da",
   "metadata": {},
   "source": [
    "# Тестовая зона"
   ]
  },
  {
   "cell_type": "markdown",
   "id": "0996b9bd",
   "metadata": {},
   "source": [
    "# Конец тестовой зоны"
   ]
  },
  {
   "cell_type": "markdown",
   "id": "505b46ae",
   "metadata": {},
   "source": [
    "# EDA"
   ]
  },
  {
   "cell_type": "code",
   "execution_count": 310,
   "id": "a0d1af4f",
   "metadata": {},
   "outputs": [],
   "source": [
    "# Копируем датасет\n",
    "data = df.copy()"
   ]
  },
  {
   "cell_type": "markdown",
   "id": "f09b07d9",
   "metadata": {},
   "source": [
    "# Анализ признаков\n",
    "\n",
    "### Владение - имеет большое количество провусков нам этот признак не поможет.\n",
    "### super_gen - данные в этом признаке по сути дублируют данные в других. Не поможет.\n",
    "### priceCurrency - все автомобили в рублях этот признак неинформативен.\n",
    "### complectation_dict - большое количество пропусков.\n",
    "### equipment_dict - большое количество пропусков.\n",
    "### Таможня - этот признак неинформативен.\n",
    "### sell_id - этот признак неинформативен."
   ]
  },
  {
   "cell_type": "code",
   "execution_count": 311,
   "id": "998e74ca",
   "metadata": {},
   "outputs": [],
   "source": [
    "# Сразу удалим неинформативные признаки\n",
    "data.drop(['Владение','super_gen','priceCurrency','modelDate','image',\n",
    "           'complectation_dict','equipment_dict','Таможня','sell_id'], axis = 1, inplace = True)"
   ]
  },
  {
   "cell_type": "code",
   "execution_count": 312,
   "id": "69d35ed4",
   "metadata": {},
   "outputs": [],
   "source": [
    "# Пока, что удалим 'description' потом попробывать тональность.\n",
    "data.drop(['description'], axis = 1, inplace = True)"
   ]
  },
  {
   "cell_type": "code",
   "execution_count": 313,
   "id": "90b0d490",
   "metadata": {},
   "outputs": [],
   "source": [
    "# В столбце 'fuelType' есть пропуски все эти автомобили елетрокары заполним пропуски 'ЭЛЕКТРО'.\n",
    "data.fuelType.fillna('ЭЛЕКТРО', inplace = True)"
   ]
  },
  {
   "cell_type": "code",
   "execution_count": 314,
   "id": "92aaa116",
   "metadata": {},
   "outputs": [],
   "source": [
    "# В столбце 'ПТС' есть 1 пропуск заполним его модой.\n",
    "data.ПТС.fillna('Оригинал', inplace = True)"
   ]
  },
  {
   "cell_type": "code",
   "execution_count": 315,
   "id": "2b5f3c83",
   "metadata": {},
   "outputs": [],
   "source": [
    "# Изменяем типы данных на предпочтительные\n",
    "data['enginePower'] = data['enginePower'].astype(int)\n",
    "data.mileage = data.mileage.replace(r'\\s+','',regex=True)\n",
    "data['mileage'] = data['mileage'].astype(int)\n",
    "data['productionDate'] = data['productionDate'].astype(int)\n",
    "data.Владельцы = data.Владельцы.apply(lambda x: x[:1])\n",
    "data['Владельцы'] = data['Владельцы'].astype(int)"
   ]
  },
  {
   "cell_type": "code",
   "execution_count": 316,
   "id": "3243ccff",
   "metadata": {},
   "outputs": [],
   "source": [
    "# Проверим данные на дубликаты\n",
    "data = data.drop_duplicates()"
   ]
  },
  {
   "cell_type": "code",
   "execution_count": 317,
   "id": "c9036bef",
   "metadata": {},
   "outputs": [],
   "source": [
    "# Выделим числовые признаки\n",
    "num = ['enginePower','mileage','productionDate','Владельцы','Владение_лет','Владение_месяцев','Price']\n",
    "cat = data.drop(num,axis = 1).columns"
   ]
  },
  {
   "cell_type": "code",
   "execution_count": 318,
   "id": "44975ec8",
   "metadata": {},
   "outputs": [
    {
     "data": {
      "text/html": [
       "<div>\n",
       "<style scoped>\n",
       "    .dataframe tbody tr th:only-of-type {\n",
       "        vertical-align: middle;\n",
       "    }\n",
       "\n",
       "    .dataframe tbody tr th {\n",
       "        vertical-align: top;\n",
       "    }\n",
       "\n",
       "    .dataframe thead th {\n",
       "        text-align: right;\n",
       "    }\n",
       "</style>\n",
       "<table border=\"1\" class=\"dataframe\">\n",
       "  <thead>\n",
       "    <tr style=\"text-align: right;\">\n",
       "      <th></th>\n",
       "      <th>enginePower</th>\n",
       "      <th>mileage</th>\n",
       "      <th>productionDate</th>\n",
       "      <th>Владельцы</th>\n",
       "      <th>Владение_лет</th>\n",
       "      <th>Владение_месяцев</th>\n",
       "      <th>Price</th>\n",
       "    </tr>\n",
       "  </thead>\n",
       "  <tbody>\n",
       "    <tr>\n",
       "      <th>count</th>\n",
       "      <td>140307.000000</td>\n",
       "      <td>140307.000000</td>\n",
       "      <td>140307.000000</td>\n",
       "      <td>140307.000000</td>\n",
       "      <td>140307.000000</td>\n",
       "      <td>140307.000000</td>\n",
       "      <td>1.056210e+05</td>\n",
       "    </tr>\n",
       "    <tr>\n",
       "      <th>mean</th>\n",
       "      <td>194.245540</td>\n",
       "      <td>148998.992602</td>\n",
       "      <td>2010.579565</td>\n",
       "      <td>2.104271</td>\n",
       "      <td>4.998824</td>\n",
       "      <td>5.953609</td>\n",
       "      <td>1.925032e+06</td>\n",
       "    </tr>\n",
       "    <tr>\n",
       "      <th>std</th>\n",
       "      <td>121.764808</td>\n",
       "      <td>99553.430502</td>\n",
       "      <td>7.486593</td>\n",
       "      <td>0.866235</td>\n",
       "      <td>2.234912</td>\n",
       "      <td>1.608808</td>\n",
       "      <td>2.369287e+06</td>\n",
       "    </tr>\n",
       "    <tr>\n",
       "      <th>min</th>\n",
       "      <td>10.000000</td>\n",
       "      <td>1.000000</td>\n",
       "      <td>1904.000000</td>\n",
       "      <td>1.000000</td>\n",
       "      <td>1.000000</td>\n",
       "      <td>1.000000</td>\n",
       "      <td>3.500000e+04</td>\n",
       "    </tr>\n",
       "    <tr>\n",
       "      <th>25%</th>\n",
       "      <td>115.000000</td>\n",
       "      <td>74400.000000</td>\n",
       "      <td>2007.000000</td>\n",
       "      <td>1.000000</td>\n",
       "      <td>5.000000</td>\n",
       "      <td>6.000000</td>\n",
       "      <td>6.450000e+05</td>\n",
       "    </tr>\n",
       "    <tr>\n",
       "      <th>50%</th>\n",
       "      <td>160.000000</td>\n",
       "      <td>136650.000000</td>\n",
       "      <td>2012.000000</td>\n",
       "      <td>2.000000</td>\n",
       "      <td>5.000000</td>\n",
       "      <td>6.000000</td>\n",
       "      <td>1.300000e+06</td>\n",
       "    </tr>\n",
       "    <tr>\n",
       "      <th>75%</th>\n",
       "      <td>235.000000</td>\n",
       "      <td>203000.000000</td>\n",
       "      <td>2016.000000</td>\n",
       "      <td>3.000000</td>\n",
       "      <td>5.000000</td>\n",
       "      <td>6.000000</td>\n",
       "      <td>2.300000e+06</td>\n",
       "    </tr>\n",
       "    <tr>\n",
       "      <th>max</th>\n",
       "      <td>850.000000</td>\n",
       "      <td>1000000.000000</td>\n",
       "      <td>2021.000000</td>\n",
       "      <td>3.000000</td>\n",
       "      <td>42.000000</td>\n",
       "      <td>11.000000</td>\n",
       "      <td>9.000000e+07</td>\n",
       "    </tr>\n",
       "  </tbody>\n",
       "</table>\n",
       "</div>"
      ],
      "text/plain": [
       "         enginePower         mileage  productionDate      Владельцы  \\\n",
       "count  140307.000000   140307.000000   140307.000000  140307.000000   \n",
       "mean      194.245540   148998.992602     2010.579565       2.104271   \n",
       "std       121.764808    99553.430502        7.486593       0.866235   \n",
       "min        10.000000        1.000000     1904.000000       1.000000   \n",
       "25%       115.000000    74400.000000     2007.000000       1.000000   \n",
       "50%       160.000000   136650.000000     2012.000000       2.000000   \n",
       "75%       235.000000   203000.000000     2016.000000       3.000000   \n",
       "max       850.000000  1000000.000000     2021.000000       3.000000   \n",
       "\n",
       "        Владение_лет  Владение_месяцев         Price  \n",
       "count  140307.000000     140307.000000  1.056210e+05  \n",
       "mean        4.998824          5.953609  1.925032e+06  \n",
       "std         2.234912          1.608808  2.369287e+06  \n",
       "min         1.000000          1.000000  3.500000e+04  \n",
       "25%         5.000000          6.000000  6.450000e+05  \n",
       "50%         5.000000          6.000000  1.300000e+06  \n",
       "75%         5.000000          6.000000  2.300000e+06  \n",
       "max        42.000000         11.000000  9.000000e+07  "
      ]
     },
     "execution_count": 318,
     "metadata": {},
     "output_type": "execute_result"
    }
   ],
   "source": [
    "# Посмотрим основные статистики\n",
    "data[num].describe()"
   ]
  },
  {
   "cell_type": "markdown",
   "id": "cf5bc2ee",
   "metadata": {},
   "source": [
    "# Наивная модель До Feuture Engineering"
   ]
  },
  {
   "cell_type": "code",
   "execution_count": 319,
   "id": "74470e36",
   "metadata": {},
   "outputs": [],
   "source": [
    "first_model = data.copy()"
   ]
  },
  {
   "cell_type": "code",
   "execution_count": 320,
   "id": "a2bef405",
   "metadata": {},
   "outputs": [],
   "source": [
    "# Фиксируем RANDOM_SEED\n",
    "RANDOM_SEED = 42"
   ]
  },
  {
   "cell_type": "code",
   "execution_count": 321,
   "id": "aac7ac1c",
   "metadata": {},
   "outputs": [],
   "source": [
    "# Закодируем категориальные признаки.\n",
    "for colum in cat:\n",
    "    first_model[colum] = first_model[colum].astype('category').cat.codes"
   ]
  },
  {
   "cell_type": "code",
   "execution_count": 322,
   "id": "3113d39e",
   "metadata": {},
   "outputs": [],
   "source": [
    "columns_test = ['bodyType','brand','productionDate','engineDisplacement','mileage',\n",
    "                'fuelType','model_name']"
   ]
  },
  {
   "cell_type": "code",
   "execution_count": 323,
   "id": "f672bd1b",
   "metadata": {},
   "outputs": [],
   "source": [
    "# Отделяем train от test\n",
    "X = first_model.query('sample == 1').drop(['sample'], axis=1)\n",
    "X_sub = first_model.query('sample == 0').drop(['sample'], axis=1)"
   ]
  },
  {
   "cell_type": "code",
   "execution_count": 324,
   "id": "25cc7ef4",
   "metadata": {},
   "outputs": [],
   "source": [
    "# Логарифмируем целевой признак так уменьшиться влияние выбросов\n",
    "y = np.log(X.Price)"
   ]
  },
  {
   "cell_type": "code",
   "execution_count": 325,
   "id": "f2113c22",
   "metadata": {},
   "outputs": [],
   "source": [
    "X.drop(['Price'], axis = 1, inplace = True)"
   ]
  },
  {
   "cell_type": "code",
   "execution_count": 326,
   "id": "d8f05520",
   "metadata": {},
   "outputs": [],
   "source": [
    "X = X[columns_test]"
   ]
  },
  {
   "cell_type": "code",
   "execution_count": 327,
   "id": "c35c4d57",
   "metadata": {},
   "outputs": [],
   "source": [
    "X_train, X_test, y_train, y_test = train_test_split(X, y, test_size=0.2, shuffle=True, random_state=RANDOM_SEED)"
   ]
  },
  {
   "cell_type": "code",
   "execution_count": 328,
   "id": "5329d83b",
   "metadata": {},
   "outputs": [
    {
     "data": {
      "application/vnd.jupyter.widget-view+json": {
       "model_id": "c02c0fd2cea845c9ba19db8c1c532063",
       "version_major": 2,
       "version_minor": 0
      },
      "text/plain": [
       "MetricVisualizer(layout=Layout(align_self='stretch', height='500px'))"
      ]
     },
     "metadata": {},
     "output_type": "display_data"
    }
   ],
   "source": [
    "model = CatBoostRegressor(iterations = 5000,\n",
    "                          random_seed = RANDOM_SEED,\n",
    "                          eval_metric='MAPE',\n",
    "                          custom_metric=['R2', 'MAE'],\n",
    "                          silent=True,\n",
    "                         )\n",
    "model.fit(X_train, y_train,\n",
    "         #cat_features=cat_features_ids,\n",
    "         eval_set=(X_test, y_test),\n",
    "         verbose_eval=0,\n",
    "         use_best_model=True,\n",
    "         plot=True\n",
    "         )\n",
    "\n",
    "model.save_model('catboost_single_model_baseline.model')"
   ]
  },
  {
   "cell_type": "markdown",
   "id": "28cfe4de",
   "metadata": {},
   "source": [
    "### Результат 0.18% неплохо но score на Kaggle выдает в 2 раза худший результат"
   ]
  },
  {
   "cell_type": "code",
   "execution_count": 329,
   "id": "2dbbe68d",
   "metadata": {},
   "outputs": [
    {
     "name": "stdout",
     "output_type": "stream",
     "text": [
      "Точность модели по метрике MAPE: 0.18%\n"
     ]
    }
   ],
   "source": [
    "predict = model.predict(X_test)\n",
    "print(f\"Точность модели по метрике MAPE: {(mape(y_test, predict))*100:0.2f}%\")"
   ]
  },
  {
   "cell_type": "code",
   "execution_count": 330,
   "id": "f26a6118",
   "metadata": {},
   "outputs": [],
   "source": [
    "predict_test = np.exp(model.predict(X_test))\n",
    "predict_submission = np.exp(model.predict(X_sub))"
   ]
  },
  {
   "cell_type": "code",
   "execution_count": 331,
   "id": "bce6d7ce",
   "metadata": {},
   "outputs": [
    {
     "data": {
      "text/plain": [
       "array([ 980436.15147413, 1230338.54999074, 1072851.50188797, ...,\n",
       "        305420.22837529, 1514257.65406628, 1567438.35866012])"
      ]
     },
     "execution_count": 331,
     "metadata": {},
     "output_type": "execute_result"
    }
   ],
   "source": [
    "predict_submission"
   ]
  },
  {
   "cell_type": "code",
   "execution_count": 332,
   "id": "7eecee6d",
   "metadata": {},
   "outputs": [],
   "source": [
    "submission = pd.DataFrame({ 'sell_id': test.sell_id.values, 'price': predict_submission })\n",
    "submission.to_csv(\"submission.csv\", index=False)"
   ]
  },
  {
   "cell_type": "markdown",
   "id": "f4747bd0",
   "metadata": {},
   "source": [
    "# Feuture Engineering"
   ]
  },
  {
   "cell_type": "code",
   "execution_count": 333,
   "id": "c6506cc9",
   "metadata": {},
   "outputs": [],
   "source": [
    "# Копируем датасет\n",
    "feature = data.copy()"
   ]
  },
  {
   "cell_type": "code",
   "execution_count": 334,
   "id": "d1a39e2d",
   "metadata": {},
   "outputs": [],
   "source": [
    "# Создадим новые признаки\n",
    "feature['enginePower*mileage'] = feature['enginePower']*feature['mileage']\n",
    "feature['enginePower/mileage'] = feature['mileage']/feature['enginePower']\n",
    "feature['productionDate*mileage'] = feature['productionDate']*feature['mileage']\n",
    "feature['enginePower*productionDate'] = feature['enginePower']*feature['productionDate']\n",
    "feature['enginePower*Владение_месяцев'] = feature['enginePower']*feature['Владение_месяцев']\n",
    "feature['productionDate/mean/mileage'] = feature['productionDate'].map(feature.groupby('productionDate')['mileage'].mean())"
   ]
  },
  {
   "cell_type": "code",
   "execution_count": 335,
   "id": "4c80659b",
   "metadata": {},
   "outputs": [],
   "source": [
    "feature['year-models'] = 2021 - feature.productionDate.apply(lambda x: int(x))\n",
    "feature['mile/year'] = feature.mileage / feature['year-models']"
   ]
  },
  {
   "cell_type": "code",
   "execution_count": 336,
   "id": "6e74da80",
   "metadata": {},
   "outputs": [],
   "source": [
    "# список дорогих марок, любая из которых продается сейчас выше 3 млн.\n",
    "laxury = list(feature.query('Price>3e6').model_name.value_counts().keys())\n",
    "# список коллекционных марок (из машин произведеных до 1960 года )\n",
    "collector = list(feature.query('productionDate<1960').model_name.value_counts().keys())\n",
    "# список спортивных марок(из моделей которые в среднем имеют мощность более 500 л.с.)\n",
    "sport = list(feature.groupby('model_name').enginePower.mean().sort_values(ascending=False)[:40].keys())\n",
    "# закодируем\n",
    "for value, models in {'laxury': laxury, 'collector': collector, 'sport': sport}.items():\n",
    "    mask = df['model_name'].isin(models)\n",
    "    feature[value] = mask*1"
   ]
  },
  {
   "cell_type": "markdown",
   "id": "c207fdcb",
   "metadata": {},
   "source": [
    "# Визуализации"
   ]
  },
  {
   "cell_type": "code",
   "execution_count": 337,
   "id": "8eb4d1c7",
   "metadata": {},
   "outputs": [],
   "source": [
    "vis = feature.copy()"
   ]
  },
  {
   "cell_type": "code",
   "execution_count": 338,
   "id": "5736ecf6",
   "metadata": {},
   "outputs": [
    {
     "data": {
      "image/png": "[encoded data removed]",
      "text/plain": [
       "<Figure size 720x504 with 4 Axes>"
      ]
     },
     "metadata": {
      "needs_background": "light"
     },
     "output_type": "display_data"
    },
    {
     "name": "stdout",
     "output_type": "stream",
     "text": [
      "Границы межквартильных выбросов \n",
      "[ 74400. 203000.]\n"
     ]
    },
    {
     "data": {
      "image/png": "[encoded data removed]",
      "text/plain": [
       "<Figure size 1080x360 with 4 Axes>"
      ]
     },
     "metadata": {
      "needs_background": "light"
     },
     "output_type": "display_data"
    }
   ],
   "source": [
    "# Посмотрим на распределения числовых признаков\n",
    "diagnostic_plots(vis, 'year-models', 'Графики распределения')\n",
    "print('Границы межквартильных выбросов ')\n",
    "print(np.percentile(data['mileage'], [25, 75]))\n",
    "\n",
    "fig, ax = plt.subplots(figsize=(15,5))\n",
    "plt.subplot(2, 2, 1)\n",
    "vis['enginePower'].hist(bins=50)\n",
    "plt.subplot(2, 2, 2)\n",
    "vis['mileage'].hist(bins=50)\n",
    "plt.subplot(2, 2, 3)\n",
    "vis['Владение_лет'].hist(bins=50)\n",
    "plt.subplot(2, 2, 4)\n",
    "vis['productionDate'].hist(bins=50)\n",
    "plt.show()"
   ]
  },
  {
   "cell_type": "markdown",
   "id": "60cff7ab",
   "metadata": {},
   "source": [
    "## Логарифмирование числовых признаков не улучшило результат."
   ]
  },
  {
   "cell_type": "code",
   "execution_count": 339,
   "id": "6f0870b0",
   "metadata": {},
   "outputs": [
    {
     "data": {
      "image/png": "[encoded data removed]",
      "text/plain": [
       "<Figure size 1080x360 with 4 Axes>"
      ]
     },
     "metadata": {
      "needs_background": "light"
     },
     "output_type": "display_data"
    }
   ],
   "source": [
    "# Логарифмируем числовые признаки\n",
    "vis['enginePower'] = np.log(vis['enginePower'])\n",
    "vis['mileage'] = np.log(vis['mileage'])\n",
    "vis['Владельцы'] = np.log(vis['Владельцы'])\n",
    "vis['productionDate'] = np.log(vis['productionDate'])\n",
    "\n",
    "fig, ax = plt.subplots(figsize=(15,5))\n",
    "plt.subplot(2, 2, 1)\n",
    "vis['enginePower'].hist(bins=50)\n",
    "plt.subplot(2, 2, 2)\n",
    "vis['mileage'].hist(bins=50)\n",
    "plt.subplot(2, 2, 3)\n",
    "vis['Price'].hist(bins=50)\n",
    "plt.subplot(2, 2, 4)\n",
    "vis['productionDate'].hist(bins=50)\n",
    "plt.show()"
   ]
  },
  {
   "cell_type": "code",
   "execution_count": null,
   "id": "5fcb52e7",
   "metadata": {},
   "outputs": [],
   "source": []
  },
  {
   "cell_type": "code",
   "execution_count": 340,
   "id": "12b05c01",
   "metadata": {},
   "outputs": [],
   "source": [
    "columns_corr = ['Price','enginePower','mileage','Владельцы','mileage',\n",
    "                'Владение_лет','Владение_месяцев','productionDate','year-models','mile/year']"
   ]
  },
  {
   "cell_type": "code",
   "execution_count": 341,
   "id": "160d19b8",
   "metadata": {},
   "outputs": [
    {
     "data": {
      "text/plain": [
       "<AxesSubplot:>"
      ]
     },
     "execution_count": 341,
     "metadata": {},
     "output_type": "execute_result"
    },
    {
     "data": {
      "image/png": "[encoded data removed]",
      "text/plain": [
       "<Figure size 1080x720 with 2 Axes>"
      ]
     },
     "metadata": {
      "needs_background": "light"
     },
     "output_type": "display_data"
    }
   ],
   "source": [
    "# Построим таблицу кореляций \n",
    "# Обнаружим сильную кореляцию признаков 'enginePower' 'mileage' 'productionDate' 'Владельцы' к целевому признаку \n",
    "# Что собственно было очевидно\n",
    "# Так же признаки 'Владельцы'  и 'mileage' коррелируют между собой удалим признак 'Владельцы'\n",
    " \n",
    "plt.rcParams['figure.figsize'] = (15,10)\n",
    "sns.heatmap(vis[columns_corr].corr(),linecolor = \"white\",\n",
    "                                       annot = True,linewidths = 1,vmax = 0.5, vmin = -0.5)"
   ]
  },
  {
   "cell_type": "markdown",
   "id": "51a47e6a",
   "metadata": {},
   "source": [
    "# ML"
   ]
  },
  {
   "cell_type": "code",
   "execution_count": 342,
   "id": "ca3eef84",
   "metadata": {},
   "outputs": [],
   "source": [
    "# Фиксируем RANDOM_SEED\n",
    "RANDOM_SEED = 42"
   ]
  },
  {
   "cell_type": "code",
   "execution_count": 343,
   "id": "09060c6e",
   "metadata": {},
   "outputs": [],
   "source": [
    "test_model = feature.copy()\n",
    "\n",
    "\n",
    "columns_test = ['bodyType','brand','productionDate','engineDisplacement','mileage',\n",
    "                'fuelType','model_name','typeTransmission','numberOfDoors','vendor',\n",
    "                'vehicleTransmission','Привод','productionDate*mileage','Владельцы','year-models',\n",
    "                'mile/year', 'laxury', 'collector', 'sport'\n",
    "               ]\n",
    "\n",
    "\n",
    "cat = ['bodyType', 'brand', 'color', 'engineDisplacement', 'fuelType',\n",
    "       'model_name', 'name', 'numberOfDoors',\n",
    "       'vehicleConfiguration', 'vehicleTransmission', 'vendor', 'ПТС',\n",
    "       'Привод', 'Руль', 'Состояние', 'typeTransmission']"
   ]
  },
  {
   "cell_type": "code",
   "execution_count": 344,
   "id": "36cf20ca",
   "metadata": {},
   "outputs": [],
   "source": [
    "# Закодируем категориальные признаки.\n",
    "for colum in cat:\n",
    "    test_model[colum] = test_model[colum].astype('category').cat.codes"
   ]
  },
  {
   "cell_type": "code",
   "execution_count": 345,
   "id": "11f3f02a",
   "metadata": {},
   "outputs": [],
   "source": [
    "# Отделяем train от test\n",
    "X = test_model.query('sample == 1').drop(['sample'], axis=1)\n",
    "X_sub = test_model.query('sample == 0').drop(['sample'], axis=1)\n",
    "#print(X.Price)\n",
    "#X.Price = X.Price+(X.Price / 100 * 5)\n",
    "#print(X.Price)"
   ]
  },
  {
   "cell_type": "code",
   "execution_count": 346,
   "id": "6dfebff9",
   "metadata": {},
   "outputs": [],
   "source": [
    "# Логарифмируем целевой признак так уменьшиться влияние выбросов\n",
    "y = np.log(X.Price)\n",
    "X.drop(['Price'], axis = 1, inplace = True)\n",
    "X = X[columns_test]"
   ]
  },
  {
   "cell_type": "code",
   "execution_count": 347,
   "id": "35169b75",
   "metadata": {},
   "outputs": [],
   "source": [
    "## Закодируем категориальные признаки.\n",
    "#for colum in X.columns:\n",
    "#    X[colum] = X[colum].astype('category').cat.codes\n",
    "#    \n",
    "#for colum in X_sub.columns:\n",
    "#    X_sub[colum] = X_sub[colum].astype('category').cat.codes"
   ]
  },
  {
   "cell_type": "code",
   "execution_count": 348,
   "id": "83dee0cf",
   "metadata": {},
   "outputs": [],
   "source": [
    "X_train, X_test, y_train, y_test = train_test_split(X, y, test_size=0.2, shuffle=True, random_state=RANDOM_SEED)"
   ]
  },
  {
   "cell_type": "markdown",
   "id": "fa865de6",
   "metadata": {},
   "source": [
    "# CatBoost"
   ]
  },
  {
   "cell_type": "code",
   "execution_count": 349,
   "id": "d554306b",
   "metadata": {},
   "outputs": [
    {
     "data": {
      "application/vnd.jupyter.widget-view+json": {
       "model_id": "dd7c703c8df94e28843cac3b23427143",
       "version_major": 2,
       "version_minor": 0
      },
      "text/plain": [
       "MetricVisualizer(layout=Layout(align_self='stretch', height='500px'))"
      ]
     },
     "metadata": {},
     "output_type": "display_data"
    }
   ],
   "source": [
    "\n",
    "model = CatBoostRegressor(iterations = 10000,\n",
    "                          #learning_rate=0.1,\n",
    "                          #depth=10,\n",
    "                          l2_leaf_reg=2,\n",
    "                          random_seed = RANDOM_SEED,\n",
    "                          eval_metric='MAPE',\n",
    "                          custom_metric=['R2', 'MAE'],\n",
    "                          silent=True)\n",
    "\n",
    "model.fit(X_train, y_train,\n",
    "         #cat_features=cat_features_ids,\n",
    "         eval_set=(X_test, y_test),\n",
    "         verbose_eval=0,\n",
    "         use_best_model=True,\n",
    "         plot=True\n",
    "         )\n",
    "\n",
    "\n",
    "model.save_model('catboost_single_model_baseline.model')\n",
    "\n",
    "\n"
   ]
  },
  {
   "cell_type": "markdown",
   "id": "080b7d28",
   "metadata": {},
   "source": [
    "### Результат получше исходного."
   ]
  },
  {
   "cell_type": "code",
   "execution_count": 350,
   "id": "c5575f63",
   "metadata": {},
   "outputs": [
    {
     "name": "stdout",
     "output_type": "stream",
     "text": [
      "Точность модели по метрике MAPE: 0.0651884202%\n"
     ]
    }
   ],
   "source": [
    "predict = model.predict(X_test)\n",
    "print(f\"Точность модели по метрике MAPE: {(mape(y_test, predict))*100:0.10f}%\")\n",
    "predict_test = np.exp(model.predict(X_test))\n",
    "predict_submission = np.exp(model.predict(X_sub))\n"
   ]
  },
  {
   "cell_type": "code",
   "execution_count": 351,
   "id": "01de4f85",
   "metadata": {},
   "outputs": [],
   "source": [
    "submission = pd.DataFrame({ 'sell_id': test.sell_id.values, 'price': predict_submission })\n",
    "submission.to_csv(\"submission.csv\", index=False)"
   ]
  },
  {
   "cell_type": "code",
   "execution_count": 352,
   "id": "d6e26645",
   "metadata": {
    "scrolled": true
   },
   "outputs": [
    {
     "data": {
      "text/plain": [
       "<AxesSubplot:>"
      ]
     },
     "execution_count": 352,
     "metadata": {},
     "output_type": "execute_result"
    },
    {
     "data": {
      "image/png": "[encoded data removed]",
      "text/plain": [
       "<Figure size 720x360 with 1 Axes>"
      ]
     },
     "metadata": {
      "needs_background": "light"
     },
     "output_type": "display_data"
    }
   ],
   "source": [
    "# Смотрим какие признаки были значимы для модели\n",
    "plt.rcParams['figure.figsize'] = (10,5)\n",
    "feat_importances = pd.Series(model.feature_importances_, index=X.columns)\n",
    "feat_importances.nlargest(50).plot(kind='barh')"
   ]
  },
  {
   "cell_type": "markdown",
   "id": "76236f87",
   "metadata": {},
   "source": [
    "# RandomForest"
   ]
  },
  {
   "cell_type": "code",
   "execution_count": 353,
   "id": "12137571",
   "metadata": {},
   "outputs": [],
   "source": [
    "X_train = X_train[['bodyType','brand','productionDate','engineDisplacement','mileage',\n",
    "                'fuelType','model_name','typeTransmission','numberOfDoors','vendor',\n",
    "                'vehicleTransmission','Привод','productionDate*mileage','Владельцы','year-models',\n",
    "                'laxury', 'collector', 'sport']]\n",
    "\n",
    "\n",
    "\n",
    "X_test = X_test[['bodyType','brand','productionDate','engineDisplacement','mileage',\n",
    "                'fuelType','model_name','typeTransmission','numberOfDoors','vendor',\n",
    "                'vehicleTransmission','Привод','productionDate*mileage','Владельцы','year-models',\n",
    "                'laxury', 'collector', 'sport']]\n",
    "\n",
    "X_sub = X_sub[['bodyType','brand','productionDate','engineDisplacement','mileage',\n",
    "                'fuelType','model_name','typeTransmission','numberOfDoors','vendor',\n",
    "                'vehicleTransmission','Привод','productionDate*mileage','Владельцы','year-models',\n",
    "                'laxury', 'collector', 'sport']]"
   ]
  },
  {
   "cell_type": "markdown",
   "id": "29c48fd7",
   "metadata": {},
   "source": [
    "## Показал немного лучший результат чем Cat"
   ]
  },
  {
   "cell_type": "code",
   "execution_count": 354,
   "id": "0121b852",
   "metadata": {},
   "outputs": [
    {
     "data": {
      "text/plain": [
       "GridSearchCV(cv=5,\n",
       "             estimator=RandomForestRegressor(max_features='sqrt',\n",
       "                                             n_estimators=50, n_jobs=-1,\n",
       "                                             oob_score=True, random_state=42),\n",
       "             param_grid={'max_depth': [2, 4, 8, 10],\n",
       "                         'min_samples_leaf': [1, 2, 3],\n",
       "                         'n_estimators': [200, 700, 1000]})"
      ]
     },
     "execution_count": 354,
     "metadata": {},
     "output_type": "execute_result"
    }
   ],
   "source": [
    "forest = RandomForestRegressor(n_jobs=-1,max_features= 'sqrt' ,n_estimators=50, oob_score = True, random_state=RANDOM_SEED) \n",
    "\n",
    "param_grid = { \n",
    "    'n_estimators': [200, 700, 1000],\n",
    "    'max_depth': [2,4,8,10],\n",
    "    'min_samples_leaf': [1,2,3]\n",
    "}\n",
    "\n",
    "CV_forest = GridSearchCV(estimator=forest, param_grid=param_grid, cv= 5)\n",
    "\n",
    "\n",
    "CV_forest.fit(X_train, y_train)  "
   ]
  },
  {
   "cell_type": "code",
   "execution_count": 355,
   "id": "a262dc7a",
   "metadata": {},
   "outputs": [
    {
     "name": "stdout",
     "output_type": "stream",
     "text": [
      "{'max_depth': 10, 'min_samples_leaf': 1, 'n_estimators': 700}\n"
     ]
    }
   ],
   "source": [
    "print (CV_forest.best_params_)"
   ]
  },
  {
   "cell_type": "code",
   "execution_count": 356,
   "id": "bb6d4a4a",
   "metadata": {},
   "outputs": [
    {
     "name": "stdout",
     "output_type": "stream",
     "text": [
      "Точность модели по метрике MAPE: 0.6449868744%\n"
     ]
    }
   ],
   "source": [
    "predict = CV_forest.predict(X_test)\n",
    "print(f\"Точность модели по метрике MAPE: {(mape(y_test, predict))*100:0.10f}%\")"
   ]
  },
  {
   "cell_type": "markdown",
   "id": "5e8ed724",
   "metadata": {},
   "source": [
    "# Градиентный бустинг"
   ]
  },
  {
   "cell_type": "markdown",
   "id": "789a4aec",
   "metadata": {},
   "source": [
    "#### Градиентный бустинг показал улучшение результат. Но на Kaggle ухудшение результата."
   ]
  },
  {
   "cell_type": "code",
   "execution_count": null,
   "id": "8a8a984e",
   "metadata": {},
   "outputs": [],
   "source": [
    "Grad = GradientBoostingRegressor(min_samples_split=2,\n",
    "                               learning_rate=0.1,\n",
    "                               max_depth=10,\n",
    "                               min_samples_leaf = 2,\n",
    "                               n_estimators=5000,\n",
    "                               random_state = RANDOM_SEED)\n",
    "\n",
    "\n",
    "#param_grid = { \n",
    "#    'n_estimators': [1000, 2000, 5000],\n",
    "#    'learning_rate': [0.1, 0.01],\n",
    "#    #'learning_rate': [0.1, 0.01, 0.3],\n",
    "#\n",
    "#    #'max_depth': [2,4,8,10],\n",
    "#    'min_samples_split': [1,2,3]\n",
    "#}\n",
    "#\n",
    "#CV_Grad = GridSearchCV(estimator = Grad, param_grid = param_grid, cv = 5)\n",
    "#\n",
    "#CV_Grad.fit(X_train, y_train)  \n",
    "Grad.fit(X_train, y_train)  \n",
    "  \n",
    "    \n"
   ]
  },
  {
   "cell_type": "code",
   "execution_count": 360,
   "id": "6f182eb3",
   "metadata": {},
   "outputs": [],
   "source": [
    "y_pred = Grad.predict(X_test)  "
   ]
  },
  {
   "cell_type": "code",
   "execution_count": 361,
   "id": "2e38c9a7",
   "metadata": {},
   "outputs": [
    {
     "name": "stdout",
     "output_type": "stream",
     "text": [
      "Точность модели по метрике MAPE: 0.0049722870%\n"
     ]
    }
   ],
   "source": [
    "print(f\"Точность модели по метрике MAPE: {(mape(y_test, y_pred))*100:0.10f}%\")"
   ]
  },
  {
   "cell_type": "code",
   "execution_count": 363,
   "id": "679c569e",
   "metadata": {},
   "outputs": [
    {
     "data": {
      "text/plain": [
       "<AxesSubplot:>"
      ]
     },
     "execution_count": 363,
     "metadata": {},
     "output_type": "execute_result"
    },
    {
     "data": {
      "image/png": "[encoded data removed]",
      "text/plain": [
       "<Figure size 720x360 with 1 Axes>"
      ]
     },
     "metadata": {
      "needs_background": "light"
     },
     "output_type": "display_data"
    }
   ],
   "source": [
    "plt.rcParams['figure.figsize'] = (10,5)\n",
    "feat_importances = pd.Series(Grad.feature_importances_, index=X_test.columns)\n",
    "feat_importances.nlargest(50).plot(kind='barh')"
   ]
  },
  {
   "cell_type": "code",
   "execution_count": 364,
   "id": "97923480",
   "metadata": {},
   "outputs": [],
   "source": [
    "predict_submission = np.exp(Grad.predict(X_sub))\n",
    "submission = pd.DataFrame({ 'sell_id': test.sell_id.values, 'price': predict_submission })\n",
    "submission.to_csv(\"submission.csv\", index=False)"
   ]
  },
  {
   "cell_type": "markdown",
   "id": "d1f9d046",
   "metadata": {},
   "source": [
    "# Стекинг"
   ]
  },
  {
   "cell_type": "markdown",
   "id": "ba921ccd",
   "metadata": {},
   "source": [
    "# Стекинг показал хороший результат. Но на Kaggle очень плохой. Модель видимо переобучиваеться."
   ]
  },
  {
   "cell_type": "code",
   "execution_count": 261,
   "id": "6f245194",
   "metadata": {},
   "outputs": [
    {
     "data": {
      "text/plain": [
       "StackingRegressor(estimators=[('Cat',\n",
       "                               <catboost.core.CatBoostRegressor object at 0x0000021859070D00>),\n",
       "                              ('Grad',\n",
       "                               GradientBoostingRegressor(learning_rate=0.03,\n",
       "                                                         max_depth=15,\n",
       "                                                         n_estimators=1000,\n",
       "                                                         random_state=42)),\n",
       "                              ('forest',\n",
       "                               RandomForestRegressor(max_depth=10,\n",
       "                                                     n_estimators=1000,\n",
       "                                                     n_jobs=-1, oob_score=True,\n",
       "                                                     random_state=42))],\n",
       "                  final_estimator=LinearRegression())"
      ]
     },
     "execution_count": 261,
     "metadata": {},
     "output_type": "execute_result"
    }
   ],
   "source": [
    "# По причине долгих вычислений на kaggle, пришлось ограничить число деревьев в каждом методе до 100.\n",
    "estimators = [\n",
    "              ('Cat', CatBoostRegressor(iterations=5000,\n",
    "                                       random_seed=RANDOM_SEED,\n",
    "                                       silent=True)),\n",
    "    \n",
    "              ('Grad', GradientBoostingRegressor(min_samples_split=2,\n",
    "                               learning_rate=0.1,\n",
    "                               max_depth=15,\n",
    "                               n_estimators=1000,\n",
    "                               random_state = RANDOM_SEED)),\n",
    "    \n",
    "              ('forest', RandomForestRegressor(n_jobs=-1,max_features= 'auto' ,\n",
    "                                               n_estimators=1000,max_depth = 10,oob_score = True, random_state=RANDOM_SEED))\n",
    "               \n",
    "               ]\n",
    "\n",
    "st_ensemble = StackingRegressor(estimators=estimators, final_estimator=LinearRegression())\n",
    "\n",
    "# оцениваем точность\n",
    "st_ensemble.fit(X_train, np.log(y_train))\n"
   ]
  },
  {
   "cell_type": "code",
   "execution_count": 264,
   "id": "eb5466bf",
   "metadata": {},
   "outputs": [],
   "source": [
    "predict_e = np.exp(st_ensemble.predict(X_test))"
   ]
  },
  {
   "cell_type": "code",
   "execution_count": 265,
   "id": "db8bd257",
   "metadata": {},
   "outputs": [
    {
     "name": "stdout",
     "output_type": "stream",
     "text": [
      "Точность модели по метрике MAPE: 0.0196331638%\n"
     ]
    }
   ],
   "source": [
    "print(f\"Точность модели по метрике MAPE: {(mape(y_test, predict_e))*100:0.10f}%\")"
   ]
  },
  {
   "cell_type": "code",
   "execution_count": 266,
   "id": "a3abae6a",
   "metadata": {},
   "outputs": [],
   "source": [
    "predict_submission = np.exp(st_ensemble.predict(X_sub))\n",
    "submission = pd.DataFrame({ 'sell_id': test.sell_id.values, 'price': predict_submission })\n",
    "submission.to_csv(\"submission.csv\", index=False)"
   ]
  },
  {
   "cell_type": "markdown",
   "id": "8c4b5cd8",
   "metadata": {},
   "source": [
    "### Выводы\n",
    "\n",
    "Лучший результат в Kaggle показал CatBoost видимо модель лучше обобщает чем другие.\n",
    "\n",
    "В ноутбуке лучший результат показала модель GradientBoostingRegressor, но на Kaggle результат в 3 раза хуже чем CatBoost.\n",
    "Возможно это связано с тем, что данные теста собирались год назад.  Или модель сильно переобучаеться.В связи с этим было произведено иследование изменения цен на б/у авто, где выяснилось среднее подорожание цен на 20%. Но не принесло результата. И у моделей уменьшило score на Kaggle. Для модели CatBoost был добавлен параметр регуляризации, что немного улучшило score.\n",
    "\n",
    "Возможно стоит попробовать другие способы кодировки категориальных данных.\n",
    "\n",
    "На что не хватило времени:\n",
    "\n",
    "1. В связи с тем, что модели не показыват хорошего результата можно было бы вернуться к Feuture Engineering и попробовать генерацию (и добавление) новых признаков.\n",
    "\n",
    "2. Так же видимо есть смысл эксперементировать с изменением целевой переменной, возможно (и скорее всего) 20% не истинное изменение за год.\n",
    "\n",
    "3. Также есть смысл продолжать тестирование моделей с разными параметрами с использованием GridSearch и в ручную.\n",
    "\n",
    "Почему не хватило времени:\n",
    "\n",
    "1. Бoльшýю часть времени занял код парсера и парсинг данных.\n",
    "\n",
    "Так же я имел такую часть кода:"
   ]
  },
  {
   "cell_type": "code",
   "execution_count": null,
   "id": "43fa32fe",
   "metadata": {},
   "outputs": [],
   "source": [
    "## Закодируем категориальные признаки.\n",
    "#for colum in X.columns:\n",
    "#    X[colum] = X[colum].astype('category').cat.codes\n",
    "#    \n",
    "#for colum in X_sub.columns:\n",
    "#    X_sub[colum] = X_sub[colum].astype('category').cat.codes"
   ]
  },
  {
   "cell_type": "markdown",
   "id": "05846f13",
   "metadata": {},
   "source": [
    " Что, как выяснилось кодирует данные по разному, что в свою очередь приводило к потере данных.\n",
    "Все это в совокупности забрало большое количество времени и сабмитов на kaggle."
   ]
  }
 ],
 "metadata": {
  "kernelspec": {
   "display_name": "Python 3",
   "language": "python",
   "name": "python3"
  },
  "language_info": {
   "codemirror_mode": {
    "name": "ipython",
    "version": 3
   },
   "file_extension": ".py",
   "mimetype": "text/x-python",
   "name": "python",
   "nbconvert_exporter": "python",
   "pygments_lexer": "ipython3",
   "version": "3.8.8"
  }
 },
 "nbformat": 4,
 "nbformat_minor": 5
}
